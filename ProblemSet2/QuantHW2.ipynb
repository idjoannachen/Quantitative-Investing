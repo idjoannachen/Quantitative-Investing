{
  "nbformat": 4,
  "nbformat_minor": 0,
  "metadata": {
    "colab": {
      "name": "QuantHW2.ipynb",
      "provenance": [],
      "collapsed_sections": [],
      "toc_visible": true
    },
    "kernelspec": {
      "name": "python3",
      "display_name": "Python 3"
    }
  },
  "cells": [
    {
      "cell_type": "markdown",
      "metadata": {
        "id": "UqIJexmn6VN9",
        "colab_type": "text"
      },
      "source": [
        "# MGT 595 Problem Set 2\n",
        "## Author: Denglin Wu, Joanna Chen\n",
        "## September 15, 2020"
      ]
    },
    {
      "cell_type": "code",
      "metadata": {
        "id": "UrlqCyLzjCos",
        "colab_type": "code",
        "colab": {
          "base_uri": "https://localhost:8080/",
          "height": 69
        },
        "outputId": "c27205ab-17a1-4d4f-ba09-389ba2beb005"
      },
      "source": [
        "import pandas as pd\n",
        "import matplotlib.pyplot as plt\n",
        "import numpy as np\n",
        "from sklearn.linear_model import LinearRegression\n",
        "from scipy import stats\n",
        "import statsmodels.api as sm"
      ],
      "execution_count": 1,
      "outputs": [
        {
          "output_type": "stream",
          "text": [
            "/usr/local/lib/python3.6/dist-packages/statsmodels/tools/_testing.py:19: FutureWarning: pandas.util.testing is deprecated. Use the functions in the public API at pandas.testing instead.\n",
            "  import pandas.util.testing as tm\n"
          ],
          "name": "stderr"
        }
      ]
    },
    {
      "cell_type": "markdown",
      "metadata": {
        "id": "pQUgXErA3puz",
        "colab_type": "text"
      },
      "source": [
        "## Question 1\n",
        "Find the minimum variance and tangency portfolios of the industries. (hint:  you will need to compute the means (arithmetic average), standard deviations, variances, and covariance matrix of the industries.  The risk-free rate is given in the spreadsheet.)  Comment on the different weights applied to each industry under the MVP and Tangent portfolios. "
      ]
    },
    {
      "cell_type": "markdown",
      "metadata": {
        "id": "ZmcAOlhOxzWf",
        "colab_type": "text"
      },
      "source": [
        "### a)\tCompute the means and standard deviations of the MVP and Tangent portfolios.  Plot the efficient frontier of these 10 industries and plot the 10 industries as well on a mean-standard deviation diagram.  Why does the efficient frontier exhibit the shape that it does (i.e., why is it a parabola)?"
      ]
    },
    {
      "cell_type": "code",
      "metadata": {
        "id": "oLnFfri3ePcw",
        "colab_type": "code",
        "colab": {}
      },
      "source": [
        "#Import Excel Data\n",
        "df = pd.read_csv(\"PS2.csv\")\n",
        "df[\"date\"] = pd.to_datetime(df[\"date\"], format=\"%Y%m\")\n",
        "dfdt = df.set_index(\"date\")\n",
        "# rowLength = len(dfdt.index)\n",
        "\n",
        "industryMean = []\n",
        "industrySD = []\n",
        "\n",
        "NoDur = dfdt['NoDur']\n",
        "Durbl = dfdt['Durbl']\n",
        "Manuf = dfdt['Manuf']\n",
        "Enrgy = dfdt['Enrgy']\n",
        "HiTec = dfdt['HiTec']\n",
        "Telcm = dfdt['Telcm']\n",
        "Shops = dfdt['Shops']\n",
        "Hlth = dfdt['Hlth ']\n",
        "Utils = dfdt['Utils']\n",
        "Other = dfdt['Other']\n",
        "Rf = dfdt['Risk-free rate']\n",
        "\n",
        "industryReturns = dfdt.drop('Risk-free rate', axis = 1)\n",
        "industryNames = industryReturns.columns.tolist()\n",
        "\n",
        "# Find mean (R) and standard deviation (SD) for each industry, also mean for risk-free (Rf)\n",
        "for name in industryNames:\n",
        "    industryMean.append(sum(industryReturns[name]) / len(industryReturns[name]))\n",
        "    industrySD.append(np.std(industryReturns[name], ddof = 1))\n",
        "\n",
        "# Create matrix containing return of the industries (10 columns), create covariance matrix   \n",
        "industryVar = np.square(industrySD)\n",
        "industryCov = industryReturns.cov()\n",
        "industryCovInv = np.linalg.pinv(industryCov.values)\n",
        "ones = np.transpose([1]*len(industryNames))\n",
        "onesT = np.transpose(ones)\n",
        "# ?? shape of ones and onesT are the same, ask TA\n",
        "\n",
        "# Calculate the portfolio weight for Minimum Variance Portfolio (MVP) with following:\n",
        "weightMVP = np.matmul(industryCovInv, ones) / np.matmul(np.matmul(onesT, industryCovInv), ones)\n",
        "\n",
        "# Calculate the MVP standard deviation by: sqrt(w’*V*w) and mean by: w’*R\n",
        "\n",
        "MVP_Var = np.matmul(np.matmul(np.transpose(weightMVP), industryCov.to_numpy()), weightMVP)\n",
        "MVP_SD = MVP_Var**(1/2)\n",
        "MVP_Mean = np.matmul(np.transpose(weightMVP), np.array(industryMean))\n",
        "\n",
        "# Calculate the portfolio weight for Tangency Portfolio with the following:\n",
        "RfMean = sum(Rf) / len(Rf)\n",
        "numerator = np.matmul(industryCovInv, np.transpose(industryMean - RfMean*ones))\n",
        "denominator = np.matmul(np.matmul(onesT, industryCovInv), np.transpose(industryMean - RfMean*ones))\n",
        "weightTangent = numerator / denominator\n",
        "\n",
        "# Calculate the Tangency mean by: w_tang*R, and standard deviation by: w_tang’*V*w_tang\n",
        "Tan_Var = np.matmul(np.matmul(np.transpose(weightTangent), industryCov.to_numpy()), weightTangent)\n",
        "Tan_SD = Tan_Var**(1/2)\n",
        "Tan_Mean = np.matmul(np.transpose(weightTangent), np.array(industryMean))"
      ],
      "execution_count": 2,
      "outputs": []
    },
    {
      "cell_type": "code",
      "metadata": {
        "id": "TkuYhWZG7kzm",
        "colab_type": "code",
        "colab": {
          "base_uri": "https://localhost:8080/",
          "height": 82
        },
        "outputId": "2099b665-2f00-497c-e6e4-8e011a57a413"
      },
      "source": [
        "print(\"MVP portfolio mean: \",MVP_Mean)\n",
        "print(\"MVP portfolio variance: \",MVP_Var)\n",
        "print(\"Tangent portfolio mean: \",Tan_Mean)\n",
        "print(\"Tangent portfolio var: \",Tan_Var)"
      ],
      "execution_count": 3,
      "outputs": [
        {
          "output_type": "stream",
          "text": [
            "MVP portfolio mean:  0.9307861736048502\n",
            "MVP portfolio variance:  13.871266433236492\n",
            "Tangent portfolio mean:  1.053411388630162\n",
            "Tangent portfolio var:  16.49319351999202\n"
          ],
          "name": "stdout"
        }
      ]
    },
    {
      "cell_type": "markdown",
      "metadata": {
        "id": "4QvC9PBO4CtA",
        "colab_type": "text"
      },
      "source": [
        "On the mean-standard deviation diagram, we now have two points for the efficient frontier, **(MVP_SD, MVP_Mean)** and **(Tan_SD, Tan_Mean)**. MVP is the vertex of this parabola, so mirror the Tangency point with MVP we get a 3rd point, **(Tan_SD, Tan_Mean - 2*(Tan_Mean - MVP_Mean))** and can create an efficient frontier. Specifically, we use these three points, exchange x and y axis and fit a parabola. Sample points $(x_1,y_1),...(x_{50},y_{50})$ from the parabola and plot the  $(y_1,x_1),...(y_{50},x_{50})$ which the vertex of the parabola is at MVP."
      ]
    },
    {
      "cell_type": "code",
      "metadata": {
        "id": "5wbT2Kg9hc04",
        "colab_type": "code",
        "colab": {
          "base_uri": "https://localhost:8080/",
          "height": 131
        },
        "outputId": "b8577dd3-b871-4a63-82be-14f1b47ba7f8"
      },
      "source": [
        "df = pd.DataFrame({'x':[MVP_SD,Tan_SD, Tan_SD], \n",
        "                  'y':[MVP_Mean, Tan_Mean, Tan_Mean - 2*(Tan_Mean - MVP_Mean)]})\n",
        "print(df)\n",
        "\n",
        "fit = np.polyfit(df['y'], df['x'], 2)\n",
        "equation = np.poly1d(fit)\n",
        "print (\"The fit coefficients are a = {0:.4f}, b = {1:.4f} c = {2:.4f}\".format(*fit))\n",
        "print (equation)"
      ],
      "execution_count": 4,
      "outputs": [
        {
          "output_type": "stream",
          "text": [
            "          x         y\n",
            "0  3.724415  0.930786\n",
            "1  4.061181  1.053411\n",
            "2  4.061181  0.808161\n",
            "The fit coefficients are a = 22.3959, b = -41.6917 c = 23.1274\n",
            "      2\n",
            "22.4 x - 41.69 x + 23.13\n"
          ],
          "name": "stdout"
        }
      ]
    },
    {
      "cell_type": "markdown",
      "metadata": {
        "id": "MO-d7onaD36G",
        "colab_type": "text"
      },
      "source": [
        "Next, we plot the industry mean against industry standard deviation with the efficient frontier and check if these points are within the efficient frontier."
      ]
    },
    {
      "cell_type": "code",
      "metadata": {
        "id": "Lal4Sr-2u4zU",
        "colab_type": "code",
        "colab": {
          "base_uri": "https://localhost:8080/",
          "height": 421
        },
        "outputId": "1ad2ee6a-abe3-4afd-9859-5b91b98c4596"
      },
      "source": [
        "#Create second point for Tangency Portfolio\n",
        "tangencySlope = (Tan_Mean - RfMean) / Tan_SD\n",
        "y = RfMean + tangencySlope*30\n",
        "tangencyX = [0, 30]\n",
        "tangencyY = [RfMean, y]\n",
        "\n",
        "# Plot industry mean (R) against industry standard deviation (SD)\n",
        "x = np.linspace(2,0,num=50)\n",
        "y = 22.4 * x **2 - 41.69 * x + 23.13\n",
        "fig=plt.figure(figsize=(12,6))\n",
        "plt.plot(y,x,'.',markersize=10, label = 'Efficient Frontier')\n",
        "plt.plot(industrySD,industryMean,'.',markersize=10, label = 'Industries Data')\n",
        "plt.plot(tangencyX, tangencyY, label = 'Tangency Portfolio')\n",
        "plt.plot()\n",
        "plt.xlabel('Standard Deviation (%)')\n",
        "plt.ylabel('Mean Return (%)');\n",
        "plt.title('Question 1a): Mean-Standard Deviation Diagram', fontsize=16)\n",
        "plt.legend()\n",
        "plt.xlim(0, 30)\n",
        "plt.ylim(0, 2)"
      ],
      "execution_count": 5,
      "outputs": [
        {
          "output_type": "execute_result",
          "data": {
            "text/plain": [
              "(0.0, 2.0)"
            ]
          },
          "metadata": {
            "tags": []
          },
          "execution_count": 5
        },
        {
          "output_type": "display_data",
          "data": {
            "image/png": "[encoded data removed]",
            "text/plain": [
              "<Figure size 864x432 with 1 Axes>"
            ]
          },
          "metadata": {
            "tags": [],
            "needs_background": "light"
          }
        }
      ]
    },
    {
      "cell_type": "markdown",
      "metadata": {
        "id": "-xbbPH-Ao670",
        "colab_type": "text"
      },
      "source": [
        "There are two reasons that the efficient frontier is a parabola. We derived in class mathematically that \n",
        "\\begin{equation}\n",
        "\\sigma_{p}^{*2}=\\frac{a-2 b r_{p}+c r_{p}^{2}}{a c-b^{2}}\n",
        "\\end{equation}\n",
        "which includes a quadratic term and makes it a parabola. Another reason is that efficient frontier is a diminishing marginal return to risk. When the units of risk adding to the portfolio increases, the return decreases."
      ]
    },
    {
      "cell_type": "markdown",
      "metadata": {
        "id": "It0VYimGx3Fb",
        "colab_type": "text"
      },
      "source": [
        "### b)\tComment on the reliability of the mean return estimates for each industry.  Then, artificially change the mean return estimates of each industry by a one standard error increase.  How much does the Tangent portfolio change?  Does the efficient frontier change a lot or a little?"
      ]
    },
    {
      "cell_type": "markdown",
      "metadata": {
        "id": "ztdOU4b1qVb3",
        "colab_type": "text"
      },
      "source": [
        "Given the size of the dataset (90-year), the mean return estimates for each industy should be quite reliable. \n",
        "\n",
        "That being said, the results are quite sensitive to any change in the mean return value. Due to the large sample size, a change of one standard error to the mean return is only a ~0.5% difference. Yet, if we artificially change the mean return estiamtes of each industry by one standard error increase, at the Tangency point on the efficient frontier, the return is increased by ~12%, even though graphically Tangency portfolio doesn't seem to have changed too much. Additionally, graphically we can see that the efficient frontier change a lot. The vertex (MVP) of the frontier is moved up slightly, but the shape is widen.\n",
        "\n",
        "Note that when conducting this exercise, we recreated the return data for each industry (original value + 1*standard error) and recalculated the covariance matrix. This turns out to have negligible impact on the final result, comparing to simply using the original covariance matrix."
      ]
    },
    {
      "cell_type": "code",
      "metadata": {
        "id": "JxewldOsqNeA",
        "colab_type": "code",
        "colab": {
          "base_uri": "https://localhost:8080/",
          "height": 552
        },
        "outputId": "14a7d7a9-f78b-4740-9bfb-463bd1379ff6"
      },
      "source": [
        "\n",
        "\n",
        "size = len(NoDur)\n",
        "industryMean2 = []\n",
        "for i in range(0, len(industryMean)):\n",
        "    industryMean2.append(industryMean[i] + industrySD[i] / (size**(1/2)))\n",
        "industrySE = []\n",
        "for i in range(0, len(industrySD)):\n",
        "    industrySE.append(industrySD[i] / (size**1/2))\n",
        "\n",
        "df = pd.read_csv(\"PS2_1SE.csv\")\n",
        "df[\"date\"] = pd.to_datetime(df[\"date\"], format=\"%Y%m\")\n",
        "industryReturns2 = df.set_index(\"date\")\n",
        "\n",
        "industryCov2 = industryReturns2.cov()\n",
        "industryCovInv2 = np.linalg.pinv(industryCov2.values)\n",
        "\n",
        "# Calculate the NEW MVP weight:\n",
        "weightMVP2 = np.matmul(industryCovInv2, ones) / np.matmul(np.matmul(onesT, industryCovInv2), ones)\n",
        "\n",
        "# Calculate the NEW MVP standard deviation and mean:\n",
        "MVP_Var2 = np.matmul(np.matmul(np.transpose(weightMVP2), industryCov2.to_numpy()), weightMVP2)\n",
        "MVP_SD2 = MVP_Var2**(1/2)\n",
        "MVP_Mean2 = np.matmul(np.transpose(weightMVP), np.array(industryMean))\n",
        "\n",
        "# Calculate the portfolio weight for NEW Tangency Portfolio with the following:\n",
        "RfMean2 = RfMean\n",
        "numerator = np.matmul(industryCovInv2, np.transpose(industryMean2 - RfMean2*ones))\n",
        "denominator = np.matmul(np.matmul(onesT, industryCovInv2), np.transpose(industryMean2 - RfMean2*ones))\n",
        "weightTangent2 = numerator / denominator\n",
        "\n",
        "# Calculate the NEW Tangency mean by: w_tang*R, and standard deviation by: w_tang’*V*w_tang\n",
        "Tan_Var2 = np.matmul(np.matmul(np.transpose(weightTangent2), industryCov2.to_numpy()), weightTangent2)\n",
        "Tan_SD2 = Tan_Var2**(1/2)\n",
        "Tan_Mean2 = np.matmul(np.transpose(weightTangent2), np.array(industryMean2))\n",
        "\n",
        "df2 = pd.DataFrame({'x2':[MVP_SD2,Tan_SD2, Tan_SD2], \n",
        "                  'y2':[MVP_Mean2, Tan_Mean2, Tan_Mean2 - 2*(Tan_Mean2 - MVP_Mean2)]})\n",
        "print(df2)\n",
        "\n",
        "fit2 = np.polyfit(df2['y2'], df2['x2'], 2)\n",
        "equation2 = np.poly1d(fit2)\n",
        "print (\"The fit coefficients for 1b) are a = {0:.4f}, b = {1:.4f} c = {2:.4f}\".format(*fit2))\n",
        "print (equation2)\n",
        "\n",
        "tangencySlope2 = (Tan_Mean2 - RfMean2) / Tan_SD2\n",
        "y2ndpt2 = RfMean2 + tangencySlope2*30\n",
        "tangencyX2 = [0, 30]\n",
        "tangencyY2 = [RfMean2, y2ndpt2]\n",
        "\n",
        "plt.figure()\n",
        "x2 = np.linspace(0, 3,num=50)\n",
        "y2 = 5.134 * x2 **2 - 9.558 * x2 + 8.173\n",
        "fig=plt.figure(figsize=(12,6))\n",
        "plt.plot(y2, x2, '.', markersize=10, label = 'Efficient Frontier: Mean + 1*SE')\n",
        "plt.plot(y, x,'.',markersize=10, label = 'Efficient Frontier: Original')\n",
        "plt.plot(tangencyX2, tangencyY2, label = 'Tangency Portfolio: Mean + 1*SE')\n",
        "plt.plot(tangencyX, tangencyY, label = 'Tangency Portfolio: Original')\n",
        "plt.plot()\n",
        "plt.xlabel('Standard Deviation (%)')\n",
        "plt.ylabel('Mean Return (%)');\n",
        "plt.title('Question 1b): Mean-Standard Deviation Diagram, Mean + 1*SE', fontsize=16)\n",
        "plt.legend()\n",
        "plt.xlim(0, 30)\n",
        "plt.ylim(0, 3)"
      ],
      "execution_count": 6,
      "outputs": [
        {
          "output_type": "stream",
          "text": [
            "         x2        y2\n",
            "0  3.724415  0.930786\n",
            "1  4.047465  1.181626\n",
            "2  4.047465  0.679947\n",
            "The fit coefficients for 1b) are a = 5.1343, b = -9.5578 c = 8.1725\n",
            "       2\n",
            "5.134 x - 9.558 x + 8.173\n"
          ],
          "name": "stdout"
        },
        {
          "output_type": "execute_result",
          "data": {
            "text/plain": [
              "(0.0, 3.0)"
            ]
          },
          "metadata": {
            "tags": []
          },
          "execution_count": 6
        },
        {
          "output_type": "display_data",
          "data": {
            "text/plain": [
              "<Figure size 432x288 with 0 Axes>"
            ]
          },
          "metadata": {
            "tags": []
          }
        },
        {
          "output_type": "display_data",
          "data": {
            "image/png": "[encoded data removed]",
            "text/plain": [
              "<Figure size 864x432 with 1 Axes>"
            ]
          },
          "metadata": {
            "tags": [],
            "needs_background": "light"
          }
        }
      ]
    },
    {
      "cell_type": "markdown",
      "metadata": {
        "id": "JCWQuglOx7Vz",
        "colab_type": "text"
      },
      "source": [
        "### c)\tComment on the reliability of the covariance matrix estimate.  First, assume that all covariances are zero and recompute the efficient frontier using the diagonal matrix of variances as the covariance matrix.  Then, assume very simply that the covariance matrix is just the identity matrix (i.e., a matrix of ones along the diagonal and zeros everywhere else).  Does the mean-variance frontier change a lot or a little, relative to b)?  How important are the covariance terms relative to the variance terms?"
      ]
    },
    {
      "cell_type": "markdown",
      "metadata": {
        "id": "iGfR-LETqgdk",
        "colab_type": "text"
      },
      "source": [
        "Given the size of the dataset (90-year), the reliability of the covariance matrix estimate should be quite high, possibly even higher than that of the mean return estimate.\n",
        "\n",
        "If we change the covanraince to diagonal matrix of variances (all covariance terms = 0) and identity matrix, the below graphs show that the efficient frontier changes, but to a smaller extent comparing to b).\n",
        "\n",
        "Between the covariance terms and the variance terms, we can see from the two graphs that the variance terms seem to be more important, as the identity matrix graph still holds relatively the same efficient frontier shape (albeit moved slightly), while the variance matrix has moved the efficient frontier and changed the shape (narrower).\n",
        "\n",
        "Note that the mean-standard deviation frontier is used to keep consistent with the previous parts, but the frontier shape will not change.\n"
      ]
    },
    {
      "cell_type": "code",
      "metadata": {
        "id": "3byP_bdrqgBw",
        "colab_type": "code",
        "colab": {
          "base_uri": "https://localhost:8080/",
          "height": 1000
        },
        "outputId": "627c79bf-fc84-4e02-bcd5-4097d6c98be5"
      },
      "source": [
        "#Create Covariance Matrix with only Variance in the diagonal\n",
        "industryCov3 = industryCov\n",
        "for name1 in industryNames:\n",
        "    for name2 in industryNames:\n",
        "        if name1 == name2:\n",
        "            continue\n",
        "        industryCov3[name1][name2] = 0\n",
        "industryCovInv3 = np.linalg.pinv(industryCov3.values)\n",
        "\n",
        "# Calculate the portfolio weight for Minimum Variance Portfolio (MVP) with following:\n",
        "weightMVP3 = np.matmul(industryCovInv3, ones) / np.matmul(np.matmul(onesT, industryCovInv3), ones)\n",
        "\n",
        "# Calculate the MVP standard deviation by: w’*V*w and mean by: w’*R, and \n",
        "MVP_Var3 = np.matmul(np.matmul(np.transpose(weightMVP3), industryCov3.to_numpy()), weightMVP3)\n",
        "MVP_SD3 = MVP_Var3**(1/2)\n",
        "MVP_Mean3 = np.matmul(np.transpose(weightMVP3), np.array(industryMean))\n",
        "\n",
        "# Calculate the portfolio weight for Tangency Portfolio with the following:\n",
        "numerator = np.matmul(industryCovInv3, np.transpose(industryMean - RfMean*ones))\n",
        "denominator = np.matmul(np.matmul(onesT, industryCovInv3), np.transpose(industryMean - RfMean*ones))\n",
        "weightTangent3 = numerator / denominator\n",
        "\n",
        "# Calculate the Tangency mean by: w_tang*R, and standard deviation by: w_tang’*V*w_tang\n",
        "Tan_Var3 = np.matmul(np.matmul(np.transpose(weightTangent3), industryCov3.to_numpy()), weightTangent3)\n",
        "Tan_SD3 = Tan_Var3**(1/2)\n",
        "Tan_Mean3 = np.matmul(np.transpose(weightTangent3), np.array(industryMean))\n",
        "\n",
        "df3 = pd.DataFrame({'x3':[MVP_SD3,Tan_SD3, Tan_SD3], \n",
        "                  'y3':[MVP_Mean3, Tan_Mean3, Tan_Mean3 - 2*(Tan_Mean3 - MVP_Mean3)]})\n",
        "print(df3)\n",
        "\n",
        "fit3 = np.polyfit(df3['y3'], df3['x3'], 2)\n",
        "equation3 = np.poly1d(fit3)\n",
        "print (\"The fit coefficients for 1c)-1 are a = {0:.4f}, b = {1:.4f} c = {2:.4f}\".format(*fit3))\n",
        "print (equation3)\n",
        "\n",
        "#Create second point for Tangency Portfolio\n",
        "tangencySlope3 = (Tan_Mean3 - RfMean) / Tan_SD3\n",
        "y2ndpt3 = RfMean + tangencySlope3*30\n",
        "tangencyX3 = [0, 30]\n",
        "tangencyY3 = [RfMean, y2ndpt3]\n",
        "\n",
        "# Plot industry mean (R) against industry standard deviation (SD)\n",
        "x3 = np.linspace(2,0,num=100)\n",
        "y3 = 128.676 * x3 **2 - 253.822 * x3 + 127\n",
        "fig=plt.figure(figsize=(12,6))\n",
        "plt.plot(y3, x3,'.',markersize=10, label = 'Efficient Frontier: Variance Matrix')\n",
        "plt.plot(y, x,'.',markersize=10, label = 'Efficient Frontier: Original')\n",
        "plt.plot(tangencyX3, tangencyY3, label = 'Tangency Portfolio: Variance Matrix')\n",
        "plt.plot(tangencyX, tangencyY, label = 'Tangency Portfolio: Original')\n",
        "plt.plot()\n",
        "plt.xlabel('Standard Deviation (%)')\n",
        "plt.ylabel('Mean Return (%)');\n",
        "plt.title('Question 1c): Mean-Standard Deviation Diagram, Variance Matrix', fontsize=16)\n",
        "plt.legend()\n",
        "plt.xlim(0, 30)\n",
        "plt.ylim(0, 3)\n",
        "\n",
        "#Create Covariance Matrix with Identity Matrix\n",
        "industryCov4 = industryCov3\n",
        "for name1 in industryNames:\n",
        "    for name2 in industryNames:\n",
        "        if name1 == name2:\n",
        "            industryCov4[name1][name2] = 1\n",
        "industryCovInv4 = np.linalg.pinv(industryCov4.values)\n",
        "\n",
        "# Calculate the portfolio weight for Minimum Variance Portfolio (MVP) with following:\n",
        "weightMVP4 = np.matmul(industryCovInv4, ones) / np.matmul(np.matmul(onesT, industryCovInv4), ones)\n",
        "\n",
        "# Calculate the MVP standard deviation by: w’*V*w and mean by: w’*R, and \n",
        "MVP_Var4 = np.matmul(np.matmul(np.transpose(weightMVP4), industryCov4.to_numpy()), weightMVP4)\n",
        "MVP_SD4 = MVP_Var4**(1/2)\n",
        "MVP_Mean4 = np.matmul(np.transpose(weightMVP4), np.array(industryMean))\n",
        "\n",
        "# Calculate the portfolio weight for Tangency Portfolio with the following:\n",
        "numerator = np.matmul(industryCovInv4, np.transpose(industryMean - RfMean*ones))\n",
        "denominator = np.matmul(np.matmul(onesT, industryCovInv4), np.transpose(industryMean - RfMean*ones))\n",
        "weightTangent4 = numerator / denominator\n",
        "\n",
        "# Calculate the Tangency mean by: w_tang*R, and standard deviation by: w_tang’*V*w_tang\n",
        "Tan_Var4 = np.matmul(np.matmul(np.transpose(weightTangent4), industryCov4.to_numpy()), weightTangent4)\n",
        "Tan_SD4 = Tan_Var4**(1/2)\n",
        "Tan_Mean4 = np.matmul(np.transpose(weightTangent4), np.array(industryMean))\n",
        "\n",
        "df4 = pd.DataFrame({'x4':[MVP_SD4, Tan_SD4, Tan_SD4], \n",
        "                  'y4':[MVP_Mean4, Tan_Mean4, Tan_Mean4 - 2*(Tan_Mean4 - MVP_Mean4)]})\n",
        "print(df4)\n",
        "\n",
        "fit4 = np.polyfit(df4['y4'], df4['x4'], 2)\n",
        "equation4 = np.poly1d(fit4)\n",
        "print (\"The fit coefficients for 1c)-2 are a = {0:.4f}, b = {1:.4f} c = {2:.4f}\".format(*fit4))\n",
        "print (equation4)\n",
        "\n",
        "#Create second point for Tangency Portfolio\n",
        "tangencySlope4 = (Tan_Mean4 - RfMean) / Tan_SD4\n",
        "y2ndpt4 = RfMean + tangencySlope4*30\n",
        "tangencyX4 = [0, 30]\n",
        "tangencyY4 = [RfMean, y2ndpt4]\n",
        "\n",
        "# Plot industry mean (R) against industry standard deviation (SD)\n",
        "x4 = np.linspace(2,0,num=50)\n",
        "y4 = 22.43 * x4 **2 - 44.93 * x4 + 22.82\n",
        "fig=plt.figure(figsize=(12,6))\n",
        "plt.plot(y4, x4,'.',markersize=10, label = 'Efficient Frontier: Identity Matrix')\n",
        "plt.plot(y, x,'.',markersize=10, label = 'Efficient Frontier: Original')\n",
        "plt.plot(tangencyX4, tangencyY4, label = 'Tangency Portfolio: Identity Matrix')\n",
        "plt.plot(tangencyX, tangencyY, label = 'Tangency Portfolio: Original')\n",
        "plt.plot()\n",
        "plt.xlabel('Standard Deviation (%)')\n",
        "plt.ylabel('Mean Return (%)');\n",
        "plt.title('Question 1c): Mean-Standard Deviation Diagram, Identity Matrix', fontsize=16)\n",
        "plt.legend()\n",
        "plt.xlim(0, 30)\n",
        "plt.ylim(0, 3)"
      ],
      "execution_count": 7,
      "outputs": [
        {
          "output_type": "stream",
          "text": [
            "         x3        y3\n",
            "0  1.830440  0.986281\n",
            "1  1.843472  0.996345\n",
            "2  1.843472  0.976218\n",
            "The fit coefficients for 1c)-1 are a = 128.6762, b = -253.8219 c = 127.0003\n",
            "       2\n",
            "128.7 x - 253.8 x + 127\n",
            "         x4        y4\n",
            "0  0.316228  1.001583\n",
            "1  0.318366  1.011346\n",
            "2  0.318366  0.991819\n",
            "The fit coefficients for 1c)-2 are a = 22.4302, b = -44.9315 c = 22.8175\n",
            "       2\n",
            "22.43 x - 44.93 x + 22.82\n"
          ],
          "name": "stdout"
        },
        {
          "output_type": "execute_result",
          "data": {
            "text/plain": [
              "(0.0, 3.0)"
            ]
          },
          "metadata": {
            "tags": []
          },
          "execution_count": 7
        },
        {
          "output_type": "display_data",
          "data": {
            "image/png": "[encoded data removed]",
            "text/plain": [
              "<Figure size 864x432 with 1 Axes>"
            ]
          },
          "metadata": {
            "tags": [],
            "needs_background": "light"
          }
        },
        {
          "output_type": "display_data",
          "data": {
            "image/png": "[encoded data removed]",
            "text/plain": [
              "<Figure size 864x432 with 1 Axes>"
            ]
          },
          "metadata": {
            "tags": [],
            "needs_background": "light"
          }
        }
      ]
    },
    {
      "cell_type": "markdown",
      "metadata": {
        "id": "YD5-JCvl1tU8",
        "colab_type": "text"
      },
      "source": [
        "### d)\tRun some simulations similar to what Jorion did in his study.  Using the mean and covariance matrix you calculated in sample from the historical returns, use these parameters to simulate data under a multivariate normal distribution.  \n",
        "\n",
        "•\tDraw a random sample of 10 (N) returns from this distribution T times (T = the number of months).  This gives you one simulation.\n"
      ]
    },
    {
      "cell_type": "code",
      "metadata": {
        "id": "YDsihxW38Sv7",
        "colab_type": "code",
        "colab": {
          "base_uri": "https://localhost:8080/",
          "height": 201
        },
        "outputId": "2baedd6d-65a9-4281-fc10-1cd23bd6c82d"
      },
      "source": [
        "import random\n",
        "N = 10\n",
        "a = np.random.multivariate_normal(industryMean, industryCov, size = N)\n",
        "ddff = pd.DataFrame(a)\n",
        "# ddff.columns = dfdt.columns[:-1]\n",
        "colnames = ddff.columns.tolist()\n",
        "ddff.head()"
      ],
      "execution_count": 8,
      "outputs": [
        {
          "output_type": "execute_result",
          "data": {
            "text/html": [
              "<div>\n",
              "<style scoped>\n",
              "    .dataframe tbody tr th:only-of-type {\n",
              "        vertical-align: middle;\n",
              "    }\n",
              "\n",
              "    .dataframe tbody tr th {\n",
              "        vertical-align: top;\n",
              "    }\n",
              "\n",
              "    .dataframe thead th {\n",
              "        text-align: right;\n",
              "    }\n",
              "</style>\n",
              "<table border=\"1\" class=\"dataframe\">\n",
              "  <thead>\n",
              "    <tr style=\"text-align: right;\">\n",
              "      <th></th>\n",
              "      <th>0</th>\n",
              "      <th>1</th>\n",
              "      <th>2</th>\n",
              "      <th>3</th>\n",
              "      <th>4</th>\n",
              "      <th>5</th>\n",
              "      <th>6</th>\n",
              "      <th>7</th>\n",
              "      <th>8</th>\n",
              "      <th>9</th>\n",
              "    </tr>\n",
              "  </thead>\n",
              "  <tbody>\n",
              "    <tr>\n",
              "      <th>0</th>\n",
              "      <td>0.589137</td>\n",
              "      <td>-0.600634</td>\n",
              "      <td>1.269872</td>\n",
              "      <td>1.191679</td>\n",
              "      <td>1.324442</td>\n",
              "      <td>-0.199088</td>\n",
              "      <td>2.402825</td>\n",
              "      <td>-0.546912</td>\n",
              "      <td>-0.829557</td>\n",
              "      <td>1.020004</td>\n",
              "    </tr>\n",
              "    <tr>\n",
              "      <th>1</th>\n",
              "      <td>2.394899</td>\n",
              "      <td>1.019012</td>\n",
              "      <td>2.222160</td>\n",
              "      <td>0.268109</td>\n",
              "      <td>2.328273</td>\n",
              "      <td>-1.462005</td>\n",
              "      <td>2.115398</td>\n",
              "      <td>2.387956</td>\n",
              "      <td>0.849525</td>\n",
              "      <td>0.441391</td>\n",
              "    </tr>\n",
              "    <tr>\n",
              "      <th>2</th>\n",
              "      <td>-0.561314</td>\n",
              "      <td>0.724776</td>\n",
              "      <td>0.786593</td>\n",
              "      <td>1.266681</td>\n",
              "      <td>0.287412</td>\n",
              "      <td>0.252204</td>\n",
              "      <td>2.041596</td>\n",
              "      <td>1.403097</td>\n",
              "      <td>1.511815</td>\n",
              "      <td>1.325435</td>\n",
              "    </tr>\n",
              "    <tr>\n",
              "      <th>3</th>\n",
              "      <td>0.709428</td>\n",
              "      <td>0.607102</td>\n",
              "      <td>2.105476</td>\n",
              "      <td>0.666306</td>\n",
              "      <td>0.685395</td>\n",
              "      <td>0.117163</td>\n",
              "      <td>0.876359</td>\n",
              "      <td>1.155070</td>\n",
              "      <td>1.323154</td>\n",
              "      <td>0.283385</td>\n",
              "    </tr>\n",
              "    <tr>\n",
              "      <th>4</th>\n",
              "      <td>2.920339</td>\n",
              "      <td>0.560720</td>\n",
              "      <td>-0.269994</td>\n",
              "      <td>-0.346385</td>\n",
              "      <td>0.711863</td>\n",
              "      <td>-0.100452</td>\n",
              "      <td>1.296366</td>\n",
              "      <td>0.087853</td>\n",
              "      <td>0.402741</td>\n",
              "      <td>-0.090579</td>\n",
              "    </tr>\n",
              "  </tbody>\n",
              "</table>\n",
              "</div>"
            ],
            "text/plain": [
              "          0         1         2  ...         7         8         9\n",
              "0  0.589137 -0.600634  1.269872  ... -0.546912 -0.829557  1.020004\n",
              "1  2.394899  1.019012  2.222160  ...  2.387956  0.849525  0.441391\n",
              "2 -0.561314  0.724776  0.786593  ...  1.403097  1.511815  1.325435\n",
              "3  0.709428  0.607102  2.105476  ...  1.155070  1.323154  0.283385\n",
              "4  2.920339  0.560720 -0.269994  ...  0.087853  0.402741 -0.090579\n",
              "\n",
              "[5 rows x 10 columns]"
            ]
          },
          "metadata": {
            "tags": []
          },
          "execution_count": 8
        }
      ]
    },
    {
      "cell_type": "markdown",
      "metadata": {
        "id": "cnglzeIn9c2n",
        "colab_type": "text"
      },
      "source": [
        "•\tCalculate the tangency and minimum variance portfolio weights from these simulated data.  Then, apply these weights to the actual (NOT SIMULATED) returns on the industries (e.g., the weights come from the simulated returns, but they are applied to true/actual returns on the industries)."
      ]
    },
    {
      "cell_type": "code",
      "metadata": {
        "id": "qsxcAi-HStgO",
        "colab_type": "code",
        "colab": {
          "base_uri": "https://localhost:8080/",
          "height": 131
        },
        "outputId": "7c7f267c-51f7-4c64-99e4-0f9f5bda6e98"
      },
      "source": [
        "# Find mean (R) and standard deviation (SD) for each industry\n",
        "np.random.seed(299)\n",
        "sim_mean = []\n",
        "sim_sd = []\n",
        "for colnames in ddff:\n",
        "    sim_mean.append(sum(ddff[colnames]) / len(ddff[colnames]))\n",
        "    sim_sd.append(np.std(ddff[colnames], ddof = 1))\n",
        "\n",
        "# Create matrix containing return of the simulated data (10 columns), create covariance matrix   \n",
        "sim_var = np.square(sim_sd)\n",
        "sim_cov = ddff.cov()\n",
        "sim_covInv = np.linalg.pinv(sim_cov.values)\n",
        "sim_ones = np.transpose([1]*N)\n",
        "sim_onesT = np.transpose(sim_ones)\n",
        "\n",
        "# Minimum Variance Portfolio (MVP) weights\n",
        "sim_weightMVP = np.matmul(sim_covInv, sim_ones) / np.matmul(np.matmul(sim_onesT, sim_covInv), sim_ones)\n",
        "\n",
        "# Tangency Portfolio weights\n",
        "sim_weightTangent = np.matmul(sim_covInv, sim_mean) / np.matmul(np.matmul(sim_onesT, sim_covInv), sim_mean)\n",
        "\n",
        "print(\"simulated MVP weight:\", sim_weightMVP)\n",
        "print(\"simulated Tangency weight:\",sim_weightTangent)\n",
        "print(\"simulated MVP weight shape:\",sim_weightMVP.shape)\n",
        "print(\"transposed industry return in part(a) shape:\",np.transpose(industryReturns).shape)\n",
        "\n",
        "# Apply the weights to actual returns on the industries\n",
        "sim_w_mvp_R = np.matmul(sim_weightMVP, industryMean)\n",
        "sim_w_t_R = np.matmul(sim_weightTangent, industryMean)\n",
        "print(sim_w_mvp_R, sim_w_t_R)"
      ],
      "execution_count": 9,
      "outputs": [
        {
          "output_type": "stream",
          "text": [
            "simulated MVP weight: [ 0.16448753 -0.0272484   0.08333949  0.13745537  0.19018129  0.40100475\n",
            "  0.09458269  0.07181218 -0.09393256 -0.02168235]\n",
            "simulated Tangency weight: [ 0.21197154 -0.03094349  0.11643286  0.27038107  0.12970349  0.27346483\n",
            "  0.09897823  0.10720436 -0.11732746 -0.05986543]\n",
            "simulated MVP weight shape: (10,)\n",
            "transposed industry return in part(a) shape: (10, 1069)\n",
            "0.9880154842294523 1.0118157149213385\n"
          ],
          "name": "stdout"
        }
      ]
    },
    {
      "cell_type": "markdown",
      "metadata": {
        "id": "fjolzqyO1xsp",
        "colab_type": "text"
      },
      "source": [
        "\n",
        "•\tThen repeat 1,000 times and save the mean and standard deviation of each MVP and Tangency portfolio you calculated under each simulation of data used to get the weights and applied to actual returns.\n",
        "•\tOn two separate plots of mean-standard deviation space, plot the simulated MVP and Tangency portfolios relative to the ones calculated using weights estimated from the real data.  (One plot for MVP and one for Tangency portfolios, each plot will contain 1001 data points).\n",
        "•\tThese plots indicate the estimation error (under a normal distribution) of the Tangency and MVP weights.  Which portfolio (MVP or Tangency) is estimated with less error?  Why?\n"
      ]
    },
    {
      "cell_type": "code",
      "metadata": {
        "id": "00SvMrcBgBCo",
        "colab_type": "code",
        "colab": {}
      },
      "source": [
        "sim_MVP_means = []\n",
        "sim_MVP_sds = []\n",
        "sim_Tangency_means = []\n",
        "sim_Tangency_sds = []\n",
        "\n",
        "sim_N = 1000\n",
        "\n",
        "for i in range(sim_N):\n",
        "  sim_means = []\n",
        "  sim_sds = []\n",
        "  # simulate a portfolio\n",
        "  sim_port = np.random.multivariate_normal(industryMean, industryCov, size = N)\n",
        "  sim_ddff = pd.DataFrame(sim_port)\n",
        "  sim_colnames = sim_ddff.columns.tolist()\n",
        "\n",
        "  # calculate mean and std dev of portfolio\n",
        "  for sim_colnames in sim_ddff:\n",
        "    sim_means.append(sum(sim_ddff[sim_colnames]) / len(sim_ddff[sim_colnames]))\n",
        "    sim_sds.append(np.std(sim_ddff[sim_colnames], ddof = 1))\n",
        "\n",
        "  # create matrix containing return of the simulated data (10 columns), create covariance matrix   \n",
        "  sim_vars = np.square(sim_sds)\n",
        "  sim_covs = sim_ddff.cov()\n",
        "  sim_covsInv = np.linalg.pinv(sim_covs.values)\n",
        "  sim_ones = np.transpose([1]*N)\n",
        "  sim_onesT = np.transpose(sim_ones)\n",
        "\n",
        "  ## MVP\n",
        "  # minimum Variance Portfolio (MVP) weights\n",
        "  sim_weightMVPs = np.matmul(sim_covsInv, sim_ones) / np.matmul(np.matmul(sim_onesT, sim_covsInv), sim_ones)\n",
        "\n",
        "  # MVP standard deviation(w’*V*w) and MVP mean (w’*R). Note: V and R here are real data, not simulated!\n",
        "  sim_MVP_var = np.matmul(np.matmul(np.transpose(sim_weightMVPs), industryCov.to_numpy()), sim_weightMVPs)\n",
        "  sim_MVP_sd = sim_MVP_var**(1/2)\n",
        "  sim_MVP_mean = np.matmul(np.transpose(sim_weightMVPs), np.array(industryMean))\n",
        "\n",
        "  ## Tangency\n",
        "  # Tangency weights\n",
        "  sim_weightTangent = np.matmul(sim_covsInv, sim_means) / np.matmul(np.matmul(sim_onesT, sim_covsInv), sim_means)\n",
        "\n",
        "  # Tangency standard deviation (w_tang’*V*w_tang) and Tangency mean (w'*R). Note: V and R here are real data, not simulated!\n",
        "  sim_Tangency_var = np.matmul(np.matmul(np.transpose(sim_weightTangent), industryCov.to_numpy()), sim_weightTangent)\n",
        "  sim_Tangency_sd = sim_Tangency_var**(1/2)\n",
        "  sim_Tangency_mean = np.matmul(np.transpose(sim_weightTangent), np.array(industryMean))\n",
        "\n",
        "  sim_MVP_means.append(sim_MVP_mean)\n",
        "  sim_MVP_sds.append(sim_MVP_sd)\n",
        "  sim_Tangency_means.append(sim_Tangency_mean)\n",
        "  sim_Tangency_sds.append(sim_Tangency_sd)"
      ],
      "execution_count": 10,
      "outputs": []
    },
    {
      "cell_type": "markdown",
      "metadata": {
        "id": "GZUfMhVF2ohG",
        "colab_type": "text"
      },
      "source": [
        "•\tOn two separate plots of mean-standard deviation space, plot the simulated MVP and Tangency portfolios relative to the ones calculated using weights estimated from the real data.  (One plot for MVP and one for Tangency portfolios, each plot will contain 1001 data points)."
      ]
    },
    {
      "cell_type": "code",
      "metadata": {
        "id": "4XqffypC2sOF",
        "colab_type": "code",
        "colab": {
          "base_uri": "https://localhost:8080/",
          "height": 421
        },
        "outputId": "26d08210-1311-4fc4-8264-28517eef7bba"
      },
      "source": [
        "sim_MVP_sds = np.asarray(sim_MVP_sds)\n",
        "sim_MVP_means = np.asarray(sim_MVP_means)\n",
        "sim_Tangency_means = np.asarray(sim_Tangency_means)\n",
        "sim_Tangency_sds = np.asarray(sim_Tangency_sds)\n",
        "\n",
        "#mvp_fit = np.polyfit(sim_MVP_means, sim_MVP_sds, 2)\n",
        "#mvp_eq = np.poly1d(mvp_fit)\n",
        "\n",
        "fig=plt.figure(figsize=(12,6))\n",
        "plt.plot(MVP_SD, MVP_Mean,'.', markersize=10, label = 'Real Data MVP')\n",
        "plt.plot(sim_MVP_sds, sim_MVP_means,'.', markersize=10, label = 'Simulation MVP')\n",
        "plt.title('Question 1d): Real Data MVP and Simulation MVP', fontsize=16)\n",
        "plt.xlabel('Standard Deviation (%)')\n",
        "plt.ylabel('Mean Return (%)');\n",
        "plt.legend()\n",
        "plt.xlim(0, 30)\n",
        "plt.ylim(0, 3)"
      ],
      "execution_count": 11,
      "outputs": [
        {
          "output_type": "execute_result",
          "data": {
            "text/plain": [
              "(0.0, 3.0)"
            ]
          },
          "metadata": {
            "tags": []
          },
          "execution_count": 11
        },
        {
          "output_type": "display_data",
          "data": {
            "image/png": "[encoded data removed]",
            "text/plain": [
              "<Figure size 864x432 with 1 Axes>"
            ]
          },
          "metadata": {
            "tags": [],
            "needs_background": "light"
          }
        }
      ]
    },
    {
      "cell_type": "code",
      "metadata": {
        "id": "1OfkNsxH6MGx",
        "colab_type": "code",
        "colab": {
          "base_uri": "https://localhost:8080/",
          "height": 421
        },
        "outputId": "aa010ab6-3737-4616-e055-08474b215acc"
      },
      "source": [
        "#tan_fit = np.polyfit(sim_Tangency_means, sim_Tangency_sds, 1)\n",
        "#tan_eq = np.poly1d(tan_fit)\n",
        "\n",
        "#tan_x = np.linspace(-1000,1000,num = 1000)\n",
        "#tan_y = tan_eq(tan_x)\n",
        "fig=plt.figure(figsize=(12,6))\n",
        "plt.plot(Tan_SD, Tan_Mean, '.', markersize=10, label = 'Real Data Tangency Pt')\n",
        "plt.plot(sim_Tangency_sds, sim_Tangency_means, '.', markersize=10, label = 'Simulation Tagency Pt')\n",
        "plt.title('Question 1d): Real Data Tangency Pt and Simulation Tangency Pt', fontsize=16)\n",
        "plt.xlabel('Standard Deviation (%)')\n",
        "plt.ylabel('Mean Return (%)');\n",
        "plt.legend()\n",
        "plt.xlim(0, 30)\n",
        "plt.ylim(0, 3)"
      ],
      "execution_count": 12,
      "outputs": [
        {
          "output_type": "execute_result",
          "data": {
            "text/plain": [
              "(0.0, 3.0)"
            ]
          },
          "metadata": {
            "tags": []
          },
          "execution_count": 12
        },
        {
          "output_type": "display_data",
          "data": {
            "image/png": "[encoded data removed]",
            "text/plain": [
              "<Figure size 864x432 with 1 Axes>"
            ]
          },
          "metadata": {
            "tags": [],
            "needs_background": "light"
          }
        }
      ]
    },
    {
      "cell_type": "markdown",
      "metadata": {
        "id": "4wcSYOJE24tQ",
        "colab_type": "text"
      },
      "source": [
        "•\tThese plots indicate the estimation error (under a normal distribution) of the Tangency and MVP weights.  Which portfolio (MVP or Tangency) is estimated with less error?  Why?"
      ]
    },
    {
      "cell_type": "markdown",
      "metadata": {
        "id": "IqU5RtAlLyJ6",
        "colab_type": "text"
      },
      "source": [
        "Graphically, we can see that MVP portfolio is estimated with less error as we can see that the simulation data is more clustered around the real data, while the simulation data for the Tangency portfolio are more loosely distributed in the mean-standard deviation plot.\n",
        "\n",
        "This is because to calculate the weight of MVP, only the covariance matrix is required, while both covariance matrix and returns are required to calculate the Tangency portfolio point. Therefore, since both the covariance matrix and returns have errors, there will be compounded overall error for the portfolio, leading to larger error value comparing to the MVP point."
      ]
    },
    {
      "cell_type": "markdown",
      "metadata": {
        "id": "WTCpwmxd2-5U",
        "colab_type": "text"
      },
      "source": [
        "### e)\tNow run some simulations under the empirical distribution of returns rather than the normal distribution.  This is called a block bootstrap simulation.\n",
        "\n",
        "•\tDraw a random sample of 10 (N) returns from the empirical distribution T times (T = the number of months) with replacement.  The way to do this is to randomly sample a particular month by selecting a number (integer) at random from 1 to T.  Pick the 10 industry returns corresponding to the month chosen randomly between 1 and T.  These 10 returns become your first data point of 10 industry returns (effectively this becomes month t=1 in the simulation).  Then, pick another number from 1 to T, even if it is the same number (this is what resampling with replacement means), and repeat.  This becomes month t=2 in the simulation.  Repeat T times and this gives you one simulation.\n",
        "(Hint:  in Matlab you can create T random numbers between 1 and T and then simply pull off the rows in the industry return matrix (which is T X 10) that correspond to the T random numbers chosen.  A Matlab file is posted to help you out.)\n"
      ]
    },
    {
      "cell_type": "code",
      "metadata": {
        "id": "GsV4yDGYMOZD",
        "colab_type": "code",
        "colab": {}
      },
      "source": [
        "N = 10\n",
        "T = 12 # the number of months\n",
        "simulations = []\n",
        "\n",
        "for _ in range(T):\n",
        "  number = np.random.choice(range(1, T + 1))\n",
        "  sample_month = industryReturns[industryReturns.index.month == number]\n",
        "  simulations.append(sample_month.sample(n = N, replace = True))\n",
        "sim_T = pd.concat(simulations)"
      ],
      "execution_count": 13,
      "outputs": []
    },
    {
      "cell_type": "code",
      "metadata": {
        "id": "mlHTUDoJ6hTY",
        "colab_type": "code",
        "colab": {
          "base_uri": "https://localhost:8080/",
          "height": 383
        },
        "outputId": "12049d4c-6726-4a22-8710-2fbefae3b7d1"
      },
      "source": [
        "simulations[0]"
      ],
      "execution_count": 14,
      "outputs": [
        {
          "output_type": "execute_result",
          "data": {
            "text/html": [
              "<div>\n",
              "<style scoped>\n",
              "    .dataframe tbody tr th:only-of-type {\n",
              "        vertical-align: middle;\n",
              "    }\n",
              "\n",
              "    .dataframe tbody tr th {\n",
              "        vertical-align: top;\n",
              "    }\n",
              "\n",
              "    .dataframe thead th {\n",
              "        text-align: right;\n",
              "    }\n",
              "</style>\n",
              "<table border=\"1\" class=\"dataframe\">\n",
              "  <thead>\n",
              "    <tr style=\"text-align: right;\">\n",
              "      <th></th>\n",
              "      <th>NoDur</th>\n",
              "      <th>Durbl</th>\n",
              "      <th>Manuf</th>\n",
              "      <th>Enrgy</th>\n",
              "      <th>HiTec</th>\n",
              "      <th>Telcm</th>\n",
              "      <th>Shops</th>\n",
              "      <th>Hlth</th>\n",
              "      <th>Utils</th>\n",
              "      <th>Other</th>\n",
              "    </tr>\n",
              "    <tr>\n",
              "      <th>date</th>\n",
              "      <th></th>\n",
              "      <th></th>\n",
              "      <th></th>\n",
              "      <th></th>\n",
              "      <th></th>\n",
              "      <th></th>\n",
              "      <th></th>\n",
              "      <th></th>\n",
              "      <th></th>\n",
              "      <th></th>\n",
              "    </tr>\n",
              "  </thead>\n",
              "  <tbody>\n",
              "    <tr>\n",
              "      <th>1977-09-01</th>\n",
              "      <td>0.26</td>\n",
              "      <td>1.60</td>\n",
              "      <td>-0.97</td>\n",
              "      <td>0.78</td>\n",
              "      <td>-1.79</td>\n",
              "      <td>3.47</td>\n",
              "      <td>-0.66</td>\n",
              "      <td>-0.84</td>\n",
              "      <td>2.01</td>\n",
              "      <td>-0.08</td>\n",
              "    </tr>\n",
              "    <tr>\n",
              "      <th>1975-09-01</th>\n",
              "      <td>-2.51</td>\n",
              "      <td>-2.56</td>\n",
              "      <td>-5.65</td>\n",
              "      <td>-1.15</td>\n",
              "      <td>-0.84</td>\n",
              "      <td>-1.25</td>\n",
              "      <td>-3.50</td>\n",
              "      <td>-6.54</td>\n",
              "      <td>-0.97</td>\n",
              "      <td>-6.30</td>\n",
              "    </tr>\n",
              "    <tr>\n",
              "      <th>2008-09-01</th>\n",
              "      <td>-2.98</td>\n",
              "      <td>-9.19</td>\n",
              "      <td>-13.34</td>\n",
              "      <td>-12.46</td>\n",
              "      <td>-12.56</td>\n",
              "      <td>-12.77</td>\n",
              "      <td>-5.78</td>\n",
              "      <td>-5.95</td>\n",
              "      <td>-12.11</td>\n",
              "      <td>-6.83</td>\n",
              "    </tr>\n",
              "    <tr>\n",
              "      <th>1972-09-01</th>\n",
              "      <td>-2.60</td>\n",
              "      <td>-0.92</td>\n",
              "      <td>-1.18</td>\n",
              "      <td>-0.21</td>\n",
              "      <td>-1.16</td>\n",
              "      <td>4.27</td>\n",
              "      <td>-0.55</td>\n",
              "      <td>-0.43</td>\n",
              "      <td>0.18</td>\n",
              "      <td>-1.74</td>\n",
              "    </tr>\n",
              "    <tr>\n",
              "      <th>1968-09-01</th>\n",
              "      <td>4.86</td>\n",
              "      <td>6.87</td>\n",
              "      <td>4.51</td>\n",
              "      <td>3.53</td>\n",
              "      <td>2.95</td>\n",
              "      <td>2.95</td>\n",
              "      <td>7.90</td>\n",
              "      <td>0.85</td>\n",
              "      <td>0.27</td>\n",
              "      <td>9.17</td>\n",
              "    </tr>\n",
              "    <tr>\n",
              "      <th>2013-09-01</th>\n",
              "      <td>1.94</td>\n",
              "      <td>6.44</td>\n",
              "      <td>5.27</td>\n",
              "      <td>1.91</td>\n",
              "      <td>3.88</td>\n",
              "      <td>4.12</td>\n",
              "      <td>4.48</td>\n",
              "      <td>4.03</td>\n",
              "      <td>1.04</td>\n",
              "      <td>3.80</td>\n",
              "    </tr>\n",
              "    <tr>\n",
              "      <th>1955-09-01</th>\n",
              "      <td>-1.68</td>\n",
              "      <td>8.75</td>\n",
              "      <td>-0.57</td>\n",
              "      <td>-0.38</td>\n",
              "      <td>-4.20</td>\n",
              "      <td>1.06</td>\n",
              "      <td>3.41</td>\n",
              "      <td>-3.20</td>\n",
              "      <td>-2.63</td>\n",
              "      <td>-2.50</td>\n",
              "    </tr>\n",
              "    <tr>\n",
              "      <th>1972-09-01</th>\n",
              "      <td>-2.60</td>\n",
              "      <td>-0.92</td>\n",
              "      <td>-1.18</td>\n",
              "      <td>-0.21</td>\n",
              "      <td>-1.16</td>\n",
              "      <td>4.27</td>\n",
              "      <td>-0.55</td>\n",
              "      <td>-0.43</td>\n",
              "      <td>0.18</td>\n",
              "      <td>-1.74</td>\n",
              "    </tr>\n",
              "    <tr>\n",
              "      <th>1990-09-01</th>\n",
              "      <td>-4.11</td>\n",
              "      <td>-10.58</td>\n",
              "      <td>-8.04</td>\n",
              "      <td>-1.59</td>\n",
              "      <td>-6.66</td>\n",
              "      <td>1.29</td>\n",
              "      <td>-8.42</td>\n",
              "      <td>-4.35</td>\n",
              "      <td>0.48</td>\n",
              "      <td>-9.98</td>\n",
              "    </tr>\n",
              "    <tr>\n",
              "      <th>1954-09-01</th>\n",
              "      <td>3.83</td>\n",
              "      <td>14.47</td>\n",
              "      <td>6.60</td>\n",
              "      <td>10.01</td>\n",
              "      <td>7.30</td>\n",
              "      <td>2.49</td>\n",
              "      <td>4.84</td>\n",
              "      <td>2.82</td>\n",
              "      <td>2.01</td>\n",
              "      <td>4.33</td>\n",
              "    </tr>\n",
              "  </tbody>\n",
              "</table>\n",
              "</div>"
            ],
            "text/plain": [
              "            NoDur  Durbl  Manuf  Enrgy  ...  Shops  Hlth   Utils  Other\n",
              "date                                    ...                            \n",
              "1977-09-01   0.26   1.60  -0.97   0.78  ...  -0.66  -0.84   2.01  -0.08\n",
              "1975-09-01  -2.51  -2.56  -5.65  -1.15  ...  -3.50  -6.54  -0.97  -6.30\n",
              "2008-09-01  -2.98  -9.19 -13.34 -12.46  ...  -5.78  -5.95 -12.11  -6.83\n",
              "1972-09-01  -2.60  -0.92  -1.18  -0.21  ...  -0.55  -0.43   0.18  -1.74\n",
              "1968-09-01   4.86   6.87   4.51   3.53  ...   7.90   0.85   0.27   9.17\n",
              "2013-09-01   1.94   6.44   5.27   1.91  ...   4.48   4.03   1.04   3.80\n",
              "1955-09-01  -1.68   8.75  -0.57  -0.38  ...   3.41  -3.20  -2.63  -2.50\n",
              "1972-09-01  -2.60  -0.92  -1.18  -0.21  ...  -0.55  -0.43   0.18  -1.74\n",
              "1990-09-01  -4.11 -10.58  -8.04  -1.59  ...  -8.42  -4.35   0.48  -9.98\n",
              "1954-09-01   3.83  14.47   6.60  10.01  ...   4.84   2.82   2.01   4.33\n",
              "\n",
              "[10 rows x 10 columns]"
            ]
          },
          "metadata": {
            "tags": []
          },
          "execution_count": 14
        }
      ]
    },
    {
      "cell_type": "code",
      "metadata": {
        "id": "Q-e1ykzb2eyq",
        "colab_type": "code",
        "colab": {
          "base_uri": "https://localhost:8080/",
          "height": 442
        },
        "outputId": "66a63341-e6cd-46eb-ed27-0520a28a8c28"
      },
      "source": [
        "sim_T"
      ],
      "execution_count": 15,
      "outputs": [
        {
          "output_type": "execute_result",
          "data": {
            "text/html": [
              "<div>\n",
              "<style scoped>\n",
              "    .dataframe tbody tr th:only-of-type {\n",
              "        vertical-align: middle;\n",
              "    }\n",
              "\n",
              "    .dataframe tbody tr th {\n",
              "        vertical-align: top;\n",
              "    }\n",
              "\n",
              "    .dataframe thead th {\n",
              "        text-align: right;\n",
              "    }\n",
              "</style>\n",
              "<table border=\"1\" class=\"dataframe\">\n",
              "  <thead>\n",
              "    <tr style=\"text-align: right;\">\n",
              "      <th></th>\n",
              "      <th>NoDur</th>\n",
              "      <th>Durbl</th>\n",
              "      <th>Manuf</th>\n",
              "      <th>Enrgy</th>\n",
              "      <th>HiTec</th>\n",
              "      <th>Telcm</th>\n",
              "      <th>Shops</th>\n",
              "      <th>Hlth</th>\n",
              "      <th>Utils</th>\n",
              "      <th>Other</th>\n",
              "    </tr>\n",
              "    <tr>\n",
              "      <th>date</th>\n",
              "      <th></th>\n",
              "      <th></th>\n",
              "      <th></th>\n",
              "      <th></th>\n",
              "      <th></th>\n",
              "      <th></th>\n",
              "      <th></th>\n",
              "      <th></th>\n",
              "      <th></th>\n",
              "      <th></th>\n",
              "    </tr>\n",
              "  </thead>\n",
              "  <tbody>\n",
              "    <tr>\n",
              "      <th>1977-09-01</th>\n",
              "      <td>0.26</td>\n",
              "      <td>1.60</td>\n",
              "      <td>-0.97</td>\n",
              "      <td>0.78</td>\n",
              "      <td>-1.79</td>\n",
              "      <td>3.47</td>\n",
              "      <td>-0.66</td>\n",
              "      <td>-0.84</td>\n",
              "      <td>2.01</td>\n",
              "      <td>-0.08</td>\n",
              "    </tr>\n",
              "    <tr>\n",
              "      <th>1975-09-01</th>\n",
              "      <td>-2.51</td>\n",
              "      <td>-2.56</td>\n",
              "      <td>-5.65</td>\n",
              "      <td>-1.15</td>\n",
              "      <td>-0.84</td>\n",
              "      <td>-1.25</td>\n",
              "      <td>-3.50</td>\n",
              "      <td>-6.54</td>\n",
              "      <td>-0.97</td>\n",
              "      <td>-6.30</td>\n",
              "    </tr>\n",
              "    <tr>\n",
              "      <th>2008-09-01</th>\n",
              "      <td>-2.98</td>\n",
              "      <td>-9.19</td>\n",
              "      <td>-13.34</td>\n",
              "      <td>-12.46</td>\n",
              "      <td>-12.56</td>\n",
              "      <td>-12.77</td>\n",
              "      <td>-5.78</td>\n",
              "      <td>-5.95</td>\n",
              "      <td>-12.11</td>\n",
              "      <td>-6.83</td>\n",
              "    </tr>\n",
              "    <tr>\n",
              "      <th>1972-09-01</th>\n",
              "      <td>-2.60</td>\n",
              "      <td>-0.92</td>\n",
              "      <td>-1.18</td>\n",
              "      <td>-0.21</td>\n",
              "      <td>-1.16</td>\n",
              "      <td>4.27</td>\n",
              "      <td>-0.55</td>\n",
              "      <td>-0.43</td>\n",
              "      <td>0.18</td>\n",
              "      <td>-1.74</td>\n",
              "    </tr>\n",
              "    <tr>\n",
              "      <th>1968-09-01</th>\n",
              "      <td>4.86</td>\n",
              "      <td>6.87</td>\n",
              "      <td>4.51</td>\n",
              "      <td>3.53</td>\n",
              "      <td>2.95</td>\n",
              "      <td>2.95</td>\n",
              "      <td>7.90</td>\n",
              "      <td>0.85</td>\n",
              "      <td>0.27</td>\n",
              "      <td>9.17</td>\n",
              "    </tr>\n",
              "    <tr>\n",
              "      <th>...</th>\n",
              "      <td>...</td>\n",
              "      <td>...</td>\n",
              "      <td>...</td>\n",
              "      <td>...</td>\n",
              "      <td>...</td>\n",
              "      <td>...</td>\n",
              "      <td>...</td>\n",
              "      <td>...</td>\n",
              "      <td>...</td>\n",
              "      <td>...</td>\n",
              "    </tr>\n",
              "    <tr>\n",
              "      <th>1973-12-01</th>\n",
              "      <td>-1.62</td>\n",
              "      <td>-3.77</td>\n",
              "      <td>1.01</td>\n",
              "      <td>8.59</td>\n",
              "      <td>-4.32</td>\n",
              "      <td>4.54</td>\n",
              "      <td>-0.39</td>\n",
              "      <td>-4.48</td>\n",
              "      <td>3.41</td>\n",
              "      <td>2.44</td>\n",
              "    </tr>\n",
              "    <tr>\n",
              "      <th>1926-12-01</th>\n",
              "      <td>0.82</td>\n",
              "      <td>9.89</td>\n",
              "      <td>3.74</td>\n",
              "      <td>2.82</td>\n",
              "      <td>-0.02</td>\n",
              "      <td>1.99</td>\n",
              "      <td>0.62</td>\n",
              "      <td>0.11</td>\n",
              "      <td>-0.17</td>\n",
              "      <td>3.40</td>\n",
              "    </tr>\n",
              "    <tr>\n",
              "      <th>1993-12-01</th>\n",
              "      <td>1.46</td>\n",
              "      <td>4.51</td>\n",
              "      <td>3.73</td>\n",
              "      <td>0.53</td>\n",
              "      <td>2.98</td>\n",
              "      <td>-0.44</td>\n",
              "      <td>-2.09</td>\n",
              "      <td>2.49</td>\n",
              "      <td>1.61</td>\n",
              "      <td>2.61</td>\n",
              "    </tr>\n",
              "    <tr>\n",
              "      <th>1975-12-01</th>\n",
              "      <td>-1.51</td>\n",
              "      <td>-0.39</td>\n",
              "      <td>-1.40</td>\n",
              "      <td>0.06</td>\n",
              "      <td>-1.25</td>\n",
              "      <td>-0.10</td>\n",
              "      <td>-3.02</td>\n",
              "      <td>-6.36</td>\n",
              "      <td>1.33</td>\n",
              "      <td>-0.29</td>\n",
              "    </tr>\n",
              "    <tr>\n",
              "      <th>1985-12-01</th>\n",
              "      <td>5.42</td>\n",
              "      <td>7.18</td>\n",
              "      <td>4.57</td>\n",
              "      <td>-3.15</td>\n",
              "      <td>8.28</td>\n",
              "      <td>6.20</td>\n",
              "      <td>4.58</td>\n",
              "      <td>3.48</td>\n",
              "      <td>4.85</td>\n",
              "      <td>4.49</td>\n",
              "    </tr>\n",
              "  </tbody>\n",
              "</table>\n",
              "<p>120 rows × 10 columns</p>\n",
              "</div>"
            ],
            "text/plain": [
              "            NoDur  Durbl  Manuf  Enrgy  ...  Shops  Hlth   Utils  Other\n",
              "date                                    ...                            \n",
              "1977-09-01   0.26   1.60  -0.97   0.78  ...  -0.66  -0.84   2.01  -0.08\n",
              "1975-09-01  -2.51  -2.56  -5.65  -1.15  ...  -3.50  -6.54  -0.97  -6.30\n",
              "2008-09-01  -2.98  -9.19 -13.34 -12.46  ...  -5.78  -5.95 -12.11  -6.83\n",
              "1972-09-01  -2.60  -0.92  -1.18  -0.21  ...  -0.55  -0.43   0.18  -1.74\n",
              "1968-09-01   4.86   6.87   4.51   3.53  ...   7.90   0.85   0.27   9.17\n",
              "...           ...    ...    ...    ...  ...    ...    ...    ...    ...\n",
              "1973-12-01  -1.62  -3.77   1.01   8.59  ...  -0.39  -4.48   3.41   2.44\n",
              "1926-12-01   0.82   9.89   3.74   2.82  ...   0.62   0.11  -0.17   3.40\n",
              "1993-12-01   1.46   4.51   3.73   0.53  ...  -2.09   2.49   1.61   2.61\n",
              "1975-12-01  -1.51  -0.39  -1.40   0.06  ...  -3.02  -6.36   1.33  -0.29\n",
              "1985-12-01   5.42   7.18   4.57  -3.15  ...   4.58   3.48   4.85   4.49\n",
              "\n",
              "[120 rows x 10 columns]"
            ]
          },
          "metadata": {
            "tags": []
          },
          "execution_count": 15
        }
      ]
    },
    {
      "cell_type": "markdown",
      "metadata": {
        "id": "pjM_iIcN3Dye",
        "colab_type": "text"
      },
      "source": [
        "•\tCalculate the tangency and minimum variance portfolio weights from these simulated data.  Then, apply these weights to the actual (NOT SIMULATED) returns on the industries (e.g., the weights come from the simulated returns, but they are applied to true/actual returns on the industries)."
      ]
    },
    {
      "cell_type": "code",
      "metadata": {
        "id": "mhZ5Pant6XzQ",
        "colab_type": "code",
        "colab": {
          "base_uri": "https://localhost:8080/",
          "height": 131
        },
        "outputId": "37e43e94-3ff6-496f-fdf1-4d1a88e18e8c"
      },
      "source": [
        "# Find mean (R) and standard deviation (SD) for each industry\n",
        "sim_mean = []\n",
        "sim_sd = []\n",
        "for colnames in sim_T:\n",
        "    sim_mean.append(sum(sim_T[colnames]) / len(sim_T[colnames]))\n",
        "    sim_sd.append(np.std(sim_T[colnames], ddof = 1))\n",
        "\n",
        "# Create matrix containing return of the simulated data (10 columns), create covariance matrix   \n",
        "sim_var = np.square(sim_sd)\n",
        "sim_cov = sim_T.cov()\n",
        "sim_covInv = np.linalg.pinv(sim_cov.values)\n",
        "sim_ones = np.transpose([1]*N)\n",
        "sim_onesT = np.transpose(sim_ones)\n",
        "\n",
        "# Minimum Variance Portfolio (MVP) weights\n",
        "sim_weightMVP = np.matmul(sim_covInv, sim_ones) / np.matmul(np.matmul(sim_onesT, sim_covInv), sim_ones)\n",
        "\n",
        "# Tangency weights V^(-1)R/(1'V^(-1)R)\n",
        "sim_weightTangent = np.matmul(sim_covInv, sim_mean) / np.matmul(np.matmul(sim_onesT, sim_covInv), sim_mean)\n",
        "\n",
        "\n",
        "print(\"simulated MVP weight:\", sim_weightMVP)\n",
        "print(\"simulated Tangency weight:\",sim_weightTangent)\n",
        "print(\"simulated MVP weight shape:\",sim_weightMVP.shape)\n",
        "print(\"transposed industry return in part(a) shape:\",np.transpose(industryReturns).shape)\n",
        "\n",
        "# Apply the weights to actual returns on the industries\n",
        "sim_w_mvp_R = np.matmul(sim_weightMVP, industryMean)\n",
        "sim_w_t_R = np.matmul(sim_weightTangent, industryMean)\n",
        "print(sim_w_mvp_R, sim_w_t_R)"
      ],
      "execution_count": 16,
      "outputs": [
        {
          "output_type": "stream",
          "text": [
            "simulated MVP weight: [ 1.10190591 -0.17648568  0.02659092  0.2172888  -0.03956563  0.31845556\n",
            " -0.01015004  0.06094095 -0.14290762 -0.35607316]\n",
            "simulated Tangency weight: [ 2.05417818  0.20629721  0.3225481   0.43727588 -0.14206288  0.36650312\n",
            " -1.60362804 -0.04395726 -0.1241377  -0.47301661]\n",
            "simulated MVP weight shape: (10,)\n",
            "transposed industry return in part(a) shape: (10, 1069)\n",
            "0.9817383518849785 0.9675435529732621\n"
          ],
          "name": "stdout"
        }
      ]
    },
    {
      "cell_type": "markdown",
      "metadata": {
        "id": "UsErzzc13G8X",
        "colab_type": "text"
      },
      "source": [
        "•\tThen repeat 1,000 times and save the mean and standard deviation of each MVP and Tangency portfolio you calculated under each simulation of data used to get the weights and applied to actual returns."
      ]
    },
    {
      "cell_type": "code",
      "metadata": {
        "id": "R00PTqxm28rv",
        "colab_type": "code",
        "colab": {}
      },
      "source": [
        "sim_MVP_means = []\n",
        "sim_MVP_sds = []\n",
        "sim_Tangency_means = []\n",
        "sim_Tangency_sds = []\n",
        "\n",
        "sim_N = 1000\n",
        "N = 10\n",
        "T = 12 # the number of months\n",
        "\n",
        "for i in range(sim_N):\n",
        "  sim_means = []\n",
        "  sim_sds = []\n",
        "  simulations = []\n",
        "\n",
        "  # simulate a portfolio\n",
        "  for _ in range(T):\n",
        "    number = np.random.choice(range(1, T + 1))\n",
        "    sample_month = industryReturns[industryReturns.index.month == number]\n",
        "    simulations.append(sample_month.sample(n = N, replace = True))\n",
        "    sim_T = pd.concat(simulations)\n",
        "    sim_colnames = sim_T.columns.tolist()\n",
        "\n",
        "  # calculate mean and std dev of portfolio\n",
        "  for sim_colnames in sim_T:\n",
        "    sim_means.append(sum(sim_T[sim_colnames]) / len(sim_T[sim_colnames]))\n",
        "    sim_sds.append(np.std(sim_T[sim_colnames], ddof = 1))\n",
        "\n",
        "  # create matrix containing return of the simulated data (10 columns), create covariance matrix   \n",
        "  sim_vars = np.square(sim_sds)\n",
        "  sim_covs = sim_T.cov()\n",
        "  sim_covsInv = np.linalg.pinv(sim_covs.values)\n",
        "  sim_ones = np.transpose([1]*N)\n",
        "  sim_onesT = np.transpose(sim_ones)\n",
        "\n",
        "  ## MVP\n",
        "  # minimum Variance Portfolio (MVP) weights\n",
        "  sim_weightMVPs = np.matmul(sim_covsInv, sim_ones) / np.matmul(np.matmul(sim_onesT, sim_covsInv), sim_ones)\n",
        "\n",
        "  # MVP standard deviation(w’*V*w) and MVP mean (w’*R). Note: V and R here are real data, not simulated!\n",
        "  sim_MVP_var = np.matmul(np.matmul(np.transpose(sim_weightMVPs), industryCov.to_numpy()), sim_weightMVPs)\n",
        "  sim_MVP_sd = sim_MVP_var**(1/2)\n",
        "  sim_MVP_mean = np.matmul(np.transpose(sim_weightMVPs), np.array(industryMean))\n",
        "\n",
        "  ## Tangency\n",
        "  # Tangency weights\n",
        "  sim_weightTangent = np.matmul(sim_covsInv, sim_means) / np.matmul(np.matmul(sim_onesT, sim_covsInv), sim_means)\n",
        "\n",
        "  # Tangency standard deviation (w_tang’*V*w_tang) and Tangency mean (w'*R). Note: V and R here are real data, not simulated!\n",
        "  sim_Tangency_var = np.matmul(np.matmul(np.transpose(sim_weightTangent), industryCov.to_numpy()), sim_weightTangent)\n",
        "  sim_Tangency_sd = sim_Tangency_var**(1/2)\n",
        "  sim_Tangency_mean = np.matmul(np.transpose(sim_weightTangent), np.array(industryMean))\n",
        "\n",
        "  sim_MVP_means.append(sim_MVP_mean)\n",
        "  sim_MVP_sds.append(sim_MVP_sd)\n",
        "  sim_Tangency_means.append(sim_Tangency_mean)\n",
        "  sim_Tangency_sds.append(sim_Tangency_sd)"
      ],
      "execution_count": 17,
      "outputs": []
    },
    {
      "cell_type": "markdown",
      "metadata": {
        "id": "rKEnOjCh3JK7",
        "colab_type": "text"
      },
      "source": [
        "•\tOn two separate plots of mean-standard deviation space, plot the simulated MVP and Tangency portfolios relative to the ones calculated using weights estimated from the real data.  (One plot for MVP and one for Tangency portfolios, each plot will contain 1001 data points)."
      ]
    },
    {
      "cell_type": "code",
      "metadata": {
        "id": "E6lxRncP3IBx",
        "colab_type": "code",
        "colab": {
          "base_uri": "https://localhost:8080/",
          "height": 421
        },
        "outputId": "1733c201-09c7-4dcc-ccf0-503ba931a162"
      },
      "source": [
        "sim_MVP_sds = np.asarray(sim_MVP_sds)\n",
        "sim_MVP_means = np.asarray(sim_MVP_means)\n",
        "sim_Tangency_means = np.asarray(sim_Tangency_means)\n",
        "sim_Tangency_sds = np.asarray(sim_Tangency_sds)\n",
        "\n",
        "#mvp_fit = np.polyfit(sim_MVP_means, sim_MVP_sds, 2)\n",
        "#mvp_eq = np.poly1d(mvp_fit)\n",
        "\n",
        "fig=plt.figure(figsize=(12,6))\n",
        "plt.plot(MVP_SD, MVP_Mean,'.', markersize=10, label = 'Real Data MVP')\n",
        "plt.plot(sim_MVP_sds, sim_MVP_means,'.', markersize=10, label = 'Simulation MVP')\n",
        "plt.title('Question 1d): Real Data MVP and Simulation MVP', fontsize=16)\n",
        "plt.xlabel('Standard Deviation (%)')\n",
        "plt.ylabel('Mean Return (%)');\n",
        "plt.legend()\n",
        "plt.xlim(0, 30)\n",
        "plt.ylim(0, 3)"
      ],
      "execution_count": 18,
      "outputs": [
        {
          "output_type": "execute_result",
          "data": {
            "text/plain": [
              "(0.0, 3.0)"
            ]
          },
          "metadata": {
            "tags": []
          },
          "execution_count": 18
        },
        {
          "output_type": "display_data",
          "data": {
            "image/png": "[encoded data removed]",
            "text/plain": [
              "<Figure size 864x432 with 1 Axes>"
            ]
          },
          "metadata": {
            "tags": [],
            "needs_background": "light"
          }
        }
      ]
    },
    {
      "cell_type": "code",
      "metadata": {
        "id": "KmS-HHva3Kc5",
        "colab_type": "code",
        "colab": {
          "base_uri": "https://localhost:8080/",
          "height": 421
        },
        "outputId": "68da1388-942d-4c12-96c0-920e6e519b52"
      },
      "source": [
        "#tan_fit = np.polyfit(sim_Tangency_means, sim_Tangency_sds, 1)\n",
        "#tan_eq = np.poly1d(tan_fit)\n",
        "\n",
        "#tan_x = np.linspace(-1000,1000,num = 1000)\n",
        "#tan_y = tan_eq(tan_x)\n",
        "fig=plt.figure(figsize=(12,6))\n",
        "plt.plot(Tan_SD, Tan_Mean, '.', markersize=10, label = 'Real Data Tangency Pt')\n",
        "plt.plot(sim_Tangency_sds, sim_Tangency_means, '.', markersize=10, label = 'Simulation Tagency Pt')\n",
        "plt.title('Question 1d): Real Data Tangency Pt and Simulation Tangency Pt', fontsize=16)\n",
        "plt.xlabel('Standard Deviation (%)')\n",
        "plt.ylabel('Mean Return (%)');\n",
        "plt.legend()\n",
        "plt.xlim(0, 30)\n",
        "plt.ylim(0, 3)"
      ],
      "execution_count": 19,
      "outputs": [
        {
          "output_type": "execute_result",
          "data": {
            "text/plain": [
              "(0.0, 3.0)"
            ]
          },
          "metadata": {
            "tags": []
          },
          "execution_count": 19
        },
        {
          "output_type": "display_data",
          "data": {
            "image/png": "[encoded data removed]",
            "text/plain": [
              "<Figure size 864x432 with 1 Axes>"
            ]
          },
          "metadata": {
            "tags": [],
            "needs_background": "light"
          }
        }
      ]
    },
    {
      "cell_type": "markdown",
      "metadata": {
        "id": "0C7TLC_j3Lry",
        "colab_type": "text"
      },
      "source": [
        "•\tThese plots indicate the estimation error (under the empirical distribution) of the Tangency and MVP weights.  How does the estimation error compare under the empirical simulations versus the normal distribution simulations of question d)?"
      ]
    },
    {
      "cell_type": "markdown",
      "metadata": {
        "id": "iyd2gFZ2h19c",
        "colab_type": "text"
      },
      "source": [
        "For the MVP, the estimation error from the empirical simulation is smaller than the multivariate normal distribution simulataion. This makes sense because the return distribution is not necessarily normal and empirical distribution gives a tighter range. However, the tangency points from empirical simulations seem to be less precise than the normal simulation. This can be because of the randomness of sampling. "
      ]
    },
    {
      "cell_type": "markdown",
      "metadata": {
        "id": "HZqvbEiW3xg7",
        "colab_type": "text"
      },
      "source": [
        "## Question 2\n",
        "Solve by hand the following.  There are three securities A, B, C with mean returns of 17%, 13%, and 9%, respectively.  Furthermore, their standard deviations are 20%, 40%, and 15%, respectively.  The correlation between A and B is 0.50, between B and C is 0.30, and between A and C is zero.  The risk-free rate is 5%.\n",
        "\n"
      ]
    },
    {
      "cell_type": "markdown",
      "metadata": {
        "id": "bKx7sXWT3-fY",
        "colab_type": "text"
      },
      "source": [
        "### a)\tFind the MVP and Tangent portfolios of these three assets, and calculate each of the portfolio return means and standard deviations."
      ]
    },
    {
      "cell_type": "markdown",
      "metadata": {
        "id": "t-iBfmUnN0EP",
        "colab_type": "text"
      },
      "source": [
        "Denote return vector for the three securities by $R$ and covariance matrix of securities by V where\n",
        "\n",
        "$$\n",
        "R = \\left(\\begin{array}{c}0.17 \\\\ 0.13\\\\ 0.09 \\end{array}\\right)$$ and\n",
        "\n",
        "$$\\begin{aligned}\n",
        "V &= \\left(\\begin{array}{ccc}\\sigma_{A}^{2} & \\sigma_{A B} & \\sigma_{A C} \\\\ \\sigma_{A B} & \\sigma_{B}^{2} & \\sigma_{B C} \\\\ \\sigma_{A C} & \\sigma_{B C} & \\sigma_{C}^{2}\\end{array}\\right) \\\\\n",
        "&= \\left(\\begin{array}{ccc}0.2^{2} & 0.5 \\cdot 0.2 \\cdot 0.4 & 0 \\\\\n",
        " 0.5 \\cdot 0.2 \\cdot 0.4 & 0.4^{2} & 0.3 \\cdot 0.4 \\cdot 0.15\\\\ \n",
        " 0 & 0.3 \\cdot 0.4 \\cdot 0.15 & 0.15^{2}\\end{array}\\right) \\\\\n",
        " &= \\left(\\begin{array}{ccc}0.04 & 0.04 & 0 \\\\ \n",
        " 0.04 & 0.16 & 0.018 \\\\ 0 & 0.018 & 0.0225\\end{array}\\right). \\\\\n",
        "\\end{aligned}$$\n",
        "\n",
        "Moreover, let $\\mathbf{1}=\\left(\\begin{array}{l}1 \\\\ 1 \\\\ 1\\end{array}\\right)$. We can calculate the weight for MVP and Tangency portfolios as following,\n",
        "\n",
        "$w_{mvp} = \\frac{V^{-1}\\mathbf{1}}{\\mathbf{1}^{'} V^{-1} \\mathbf{1}} = \\left(\\begin{array}{l}0.4314 \\\\ -0.1003 \\\\ 0.6689\\end{array}\\right)$, $w_{tangent} = \\frac{V^{-1}(R-r_f \\mathbf{1})}{\\mathbf{1}^{'} V^{-1} (R-r_f \\mathbf{1})} = \\left(\\begin{array}{l}0.6917 \\\\ -0.1281 \\\\ 0.4364\\end{array}\\right)$.\n",
        "\n",
        "Therefore, the return means and standard deviations for MVP and Tangency are:\n",
        "\n",
        "$r_{mvp} = w_{mvp}'*R = 0.1205, \\sigma^2_{mvp} = w_{mvp}' V w_{mvp} = 0.0132, \\sigma_{mvp} = 0.115.  $\n",
        "$r_{tangent} = w_{tangent}'*R = 0.1402, \\sigma^2_{tangent} = w_{tangent}' V w_{tangent} = 0.0169, \\sigma_{tangent} = 0.13.$\n"
      ]
    },
    {
      "cell_type": "markdown",
      "metadata": {
        "id": "jj6cEK8fN6lV",
        "colab_type": "text"
      },
      "source": [
        "### b)\tWrite the equation for the efficient frontier of these three assets."
      ]
    },
    {
      "cell_type": "markdown",
      "metadata": {
        "id": "5POx3rCpZ2OH",
        "colab_type": "text"
      },
      "source": [
        "We compute the efficient frontier using the formula we derived in class\n",
        "\\begin{equation}\n",
        "\\sigma_{p}^{*2}=\\frac{a-2 b r_{p}+c r_{p}^{2}}{a c-b^{2}}\n",
        "\\end{equation}\n",
        "where \n",
        "\n",
        "$$\n",
        "\\left[\\begin{array}{cc}R^{\\prime} V^{-1} R & 1^{\\prime} V^{-1} R \\\\ R^{\\prime} V^{-1} 1 & 1^{\\prime} V^{-1} 1\\end{array}\\right] = \\left[\\begin{array}{cc}a & b \\\\ c & d\\end{array}\\right]\n",
        "$$"
      ]
    },
    {
      "cell_type": "markdown",
      "metadata": {
        "id": "yvvC9rQ3cYKN",
        "colab_type": "text"
      },
      "source": [
        "We can solve for a, b, and c, and the results are as follow:\n",
        "\n",
        "a = 1.2013\n",
        "\n",
        "b = 9.0985\n",
        "\n",
        "c = 9.0985\n",
        "\n",
        "d = 75.5051\n",
        "\n",
        "\n",
        "Therefore, the formula is given by:\n",
        "\n",
        "\\begin{equation}\n",
        "\\sigma_{p}^{*2}=\\frac{1.2013-18.197 r_{p}+9.0985 r_{p}^{2}}{-71.8526}\n",
        "\\end{equation}"
      ]
    },
    {
      "cell_type": "markdown",
      "metadata": {
        "id": "b1OYTodEgt8t",
        "colab_type": "text"
      },
      "source": [
        "### c)\tFind the portfolio of A, B, C that gives the lowest possible variance for a return of 13%, and find the portfolio that gives the highest possible return for a standard deviation of 15%.  Calculate the Sharpe ratios of these two portfolios."
      ]
    },
    {
      "cell_type": "markdown",
      "metadata": {
        "id": "4wBG1wEjbLL7",
        "colab_type": "text"
      },
      "source": [
        "We know that $W^{\\prime} R=r_{p} = 0.13$, $W^{\\prime} V W=\\sigma_{p}^{2}$ and $W^{\\prime} \\mathbf{1}=1$.\n",
        "\n",
        "1) To find the portfolio of A,B,C that gives that lowest possible variance for a return of 13%, we can set up the following optimization problem. Find portfolio weights $w = (w_A,w_B,w_C)'$ such that \n",
        "\n",
        "$\\min _{w_{A}, w_{B},w_{C}} \\sigma^{2}=W^{\\prime} VW \\text{ such that } W^{\\prime} R=r_{p} = 0.13 \\text{ and } W^{\\prime} \\mathbf{1}=1$.\n",
        "\n",
        "We solved in class that $w = V^{-1} (R \\space 1)A^{-1}(r_p \\space 1)^T$. Note that $(R \\space 1) = \\left(\\begin{array}{ll}0.1700 & 1.0000 \\\\ 0.1300 & 1.0000 \\\\ 0.0900 & 1.0000\\end{array}\\right)$. Plug the matrices into the formula, we get $w = (0.5569 \\space -0.1137 \\space 0.5569)^{T}$"
      ]
    },
    {
      "cell_type": "markdown",
      "metadata": {
        "id": "H1xB5cwgzyPK",
        "colab_type": "text"
      },
      "source": [
        "$\\sigma^2_p = \\frac{1.2013 - 18.197*0.13 + 9.0985*0.13^2}{-71.8526} = 0.014$ and $\\sigma_p = \\sqrt{\\sigma^2_p} = 0.1183$.\n",
        "\n",
        "Therefore, SharpeRatio = $\\frac{w'R - R_f}{\\sigma_p} = \\frac{0.13 - 0.05}{0.1183} = 0.676$"
      ]
    },
    {
      "cell_type": "markdown",
      "metadata": {
        "id": "41H4gMP1gzYW",
        "colab_type": "text"
      },
      "source": [
        "\n",
        "\n",
        "\n",
        "\n",
        "2) With Standard Deviation = 0.15, we know that on the efficient frontier:\n",
        "\n",
        "$0.15^2 = 0.0225 = \\frac{1.2013 - 18.197*r_p + 9.0985r_p^2}{-71.8526}$. Solve the equation, we get that the maximum return, R, that satisfies the equation $r_p = 0.17$\n",
        "\n",
        "Similary, $w_2 = V^{-1} (R \\space 1)A^{-1}(r_p \\space 1)^T$ where $r_p = 0.17$. This gives\n",
        "\n",
        "$w_2 = (1.085 \\space -0.1700\\space 0.0850)^T$\n",
        "\n",
        "The Sharpe Ratio for this portfolio is given by:\n",
        "**Sharpe Ratio 2 = $\\frac{w_2'R - R_f}{\\sigma_p} = 0.8$**"
      ]
    },
    {
      "cell_type": "markdown",
      "metadata": {
        "id": "WyXucBiNrP6L",
        "colab_type": "text"
      },
      "source": [
        "### d)\tRepeat c) allowing an investor to also invest in the riskless asset.  Find the portfolio that gives the lowest possible variance for a return of 13%, and find the portfolio that gives the highest possible return for a standard deviation of 15%.  Again, calculate the Sharpe ratios of these two portfolios.  Compare your answers to those in c).  Illustrate graphically (in a mean-standard deviation diagram) what is going on."
      ]
    },
    {
      "cell_type": "markdown",
      "metadata": {
        "id": "NNu1lsidrTyb",
        "colab_type": "text"
      },
      "source": [
        "Since the investor is now allowed to invest in the riskless asset, the portfolio will move from the efficient frontier to the Tangency portfolio.\n",
        "\n",
        "$w_{tangent} = (0.6917 \\space -0.1281 \\space 0.4364)^T$.\n",
        "\n",
        "Therefore: $Rp = w_{tangent}'R = 0.1402$,\n",
        "\n",
        "$\\sigma_p = \\sqrt{W'*V*W} = 0.13$,\n",
        "\n",
        "Sharpe Ratio = $\\frac{R_p - R_f}{\\sigma_p} = \\frac{0.1402 - 0.05}{0.13} = 0.693$.\n",
        "\n",
        "Note that the optimal portfolio now lies on the Tangency line, given by:\n",
        "\n",
        "Mean Return = $0.05 + 0.693 \\cdot$ Standard Deviation\n",
        "\n",
        "Therefore\n",
        "\n",
        "1) with 13% return:\n",
        "\n",
        "$0.13 = 0.05 + 0.693 \\cdot$Standard Deviation\n",
        "\n",
        "Standard Deviation $= 0.1153$ $\\Rightarrow$ Variance $= 0.0133$.\n",
        "\n",
        "2) with 15% standard deviation:\n",
        "\n",
        "Mean Return $= 0.05 + 0.693*0.15 = 0.1539$\n",
        "\n",
        "Please see below for the graph.\n",
        "\n",
        "We can see that both points are on the Tangency portfolio as expected, since again the optimal portfolio in this scenario (allow risk-less investment) is on the Tangency portfolio."
      ]
    },
    {
      "cell_type": "code",
      "metadata": {
        "id": "ZhTlebVVrsN_",
        "colab_type": "code",
        "colab": {
          "base_uri": "https://localhost:8080/",
          "height": 552
        },
        "outputId": "2e8b596f-d220-41c1-ec09-b86ce2ff3343"
      },
      "source": [
        "weight_Tangent = np.array([0.6917, -0.1281, 0.4364])\n",
        "\n",
        "V = np.array([[4, 4, 0], [4, 16, 1.8], [0, 1.8, 2.25]])\n",
        "R = np.array([[17], [13], [9]])\n",
        "\n",
        "Tangent_Var = np.matmul(np.matmul(np.transpose(weight_Tangent), V), weight_Tangent)\n",
        "Tangent_SD = (Tangent_Var/100)**(1/2)*100\n",
        "Tangent_Mean = np.matmul(np.transpose(weight_Tangent), R)[0]\n",
        "\n",
        "df6 = pd.DataFrame({'x6':[11.49, 13, 13], \n",
        "                  'y6':[12.05, 14.02, 10.06]})\n",
        "print(df6)\n",
        "\n",
        "fit6 = np.polyfit(df6['y6'], df6['x6'], 2)\n",
        "equation6 = np.poly1d(fit6)\n",
        "print (\"The fit coefficients for 2b) are a = {0:.4f}, b = {1:.4f} c = {2:.4f}\".format(*fit6))\n",
        "print (equation6)\n",
        "\n",
        "tangencySlope6 = (Tangent_Mean - 5) / Tangent_SD\n",
        "y6 = 5 + 50*tangencySlope6\n",
        "tangencyX6 = [0, 50]\n",
        "tangencyY6 = [5, y6]\n",
        "\n",
        "plt.figure()\n",
        "x6 = np.linspace(0, 30, num=100)\n",
        "y6 = 0.3852 * x6 **2 - 9.275 * x6 + 67.33\n",
        "fig=plt.figure(figsize=(12,6))\n",
        "plt.plot(y6, x6, '.', markersize=10, label = 'Efficient Frontier')\n",
        "plt.plot(tangencyX6, tangencyY6, label = 'Tangency Portfolio')\n",
        "plt.plot(11.53, 12.99, 'x', markersize = 10, label = 'Portfolio 1')\n",
        "plt.plot(15, 15.39, 'x', markersize = 10, label = 'Portfolio 2')\n",
        "plt.plot()\n",
        "plt.plot()\n",
        "plt.xlabel('Standard Deviation (%)')\n",
        "plt.ylabel('Mean Return (%)')\n",
        "plt.title('Question 2d): Mean-Standard Deviation Diagram', fontsize=16)\n",
        "plt.legend()\n",
        "plt.xlim(0, 50)\n",
        "plt.ylim(0, 30)"
      ],
      "execution_count": 20,
      "outputs": [
        {
          "output_type": "stream",
          "text": [
            "      x6     y6\n",
            "0  11.49  12.05\n",
            "1  13.00  14.02\n",
            "2  13.00  10.06\n",
            "The fit coefficients for 2b) are a = 0.3852, b = -9.2750 c = 67.3255\n",
            "        2\n",
            "0.3852 x - 9.275 x + 67.33\n"
          ],
          "name": "stdout"
        },
        {
          "output_type": "execute_result",
          "data": {
            "text/plain": [
              "(0.0, 30.0)"
            ]
          },
          "metadata": {
            "tags": []
          },
          "execution_count": 20
        },
        {
          "output_type": "display_data",
          "data": {
            "text/plain": [
              "<Figure size 432x288 with 0 Axes>"
            ]
          },
          "metadata": {
            "tags": []
          }
        },
        {
          "output_type": "display_data",
          "data": {
            "image/png": "[encoded data removed]",
            "text/plain": [
              "<Figure size 864x432 with 1 Axes>"
            ]
          },
          "metadata": {
            "tags": [],
            "needs_background": "light"
          }
        }
      ]
    }
  ]
}