{
  "nbformat": 4,
  "nbformat_minor": 0,
  "metadata": {
    "colab": {
      "name": "QuantHW2.ipynb",
      "provenance": [],
      "collapsed_sections": [],
      "toc_visible": true
    },
    "kernelspec": {
      "name": "python3",
      "display_name": "Python 3"
    }
  },
  "cells": [
    {
      "cell_type": "code",
      "metadata": {
        "id": "UrlqCyLzjCos",
        "colab_type": "code",
        "colab": {
          "base_uri": "https://localhost:8080/",
          "height": 69
        },
        "outputId": "a2e54f8d-53d3-4837-9c07-a8f268985270"
      },
      "source": [
        "import pandas as pd\n",
        "import matplotlib.pyplot as plt\n",
        "import numpy as np\n",
        "from sklearn.linear_model import LinearRegression\n",
        "from scipy import stats\n",
        "import statsmodels.api as sm"
      ],
      "execution_count": null,
      "outputs": [
        {
          "output_type": "stream",
          "text": [
            "/usr/local/lib/python3.6/dist-packages/statsmodels/tools/_testing.py:19: FutureWarning: pandas.util.testing is deprecated. Use the functions in the public API at pandas.testing instead.\n",
            "  import pandas.util.testing as tm\n"
          ],
          "name": "stderr"
        }
      ]
    },
    {
      "cell_type": "markdown",
      "metadata": {
        "id": "pQUgXErA3puz",
        "colab_type": "text"
      },
      "source": [
        "## Question 1\n",
        "Find the minimum variance and tangency portfolios of the industries. (hint:  you will need to compute the means (arithmetic average), standard deviations, variances, and covariance matrix of the industries.  The risk-free rate is given in the spreadsheet.)  Comment on the different weights applied to each industry under the MVP and Tangent portfolios. "
      ]
    },
    {
      "cell_type": "markdown",
      "metadata": {
        "id": "ZmcAOlhOxzWf",
        "colab_type": "text"
      },
      "source": [
        "#### a)\t\n",
        "Compute the means and standard deviations of the MVP and Tangent portfolios.  Plot the efficient frontier of these 10 industries and plot the 10 industries as well on a mean-standard deviation diagram.  Why does the efficient frontier exhibit the shape that it does (i.e., why is it a parabola)?"
      ]
    },
    {
      "cell_type": "code",
      "metadata": {
        "id": "oLnFfri3ePcw",
        "colab_type": "code",
        "colab": {}
      },
      "source": [
        "#Import Excel Data\n",
        "df = pd.read_csv(\"PS2.csv\")\n",
        "df[\"date\"] = pd.to_datetime(df[\"date\"], format=\"%Y%m\")\n",
        "dfdt = df.set_index(\"date\")\n",
        "# rowLength = len(dfdt.index)\n",
        "\n",
        "industryMean = []\n",
        "industrySD = []\n",
        "\n",
        "NoDur = dfdt['NoDur']\n",
        "Durbl = dfdt['Durbl']\n",
        "Manuf = dfdt['Manuf']\n",
        "Enrgy = dfdt['Enrgy']\n",
        "HiTec = dfdt['HiTec']\n",
        "Telcm = dfdt['Telcm']\n",
        "Shops = dfdt['Shops']\n",
        "Hlth = dfdt['Hlth ']\n",
        "Utils = dfdt['Utils']\n",
        "Other = dfdt['Other']\n",
        "Rf = dfdt['Risk-free rate']\n",
        "\n",
        "industryReturns = dfdt.drop('Risk-free rate', axis = 1)\n",
        "industryNames = industryReturns.columns.tolist()\n",
        "\n",
        "# Find mean (R) and standard deviation (SD) for each industry, also mean for risk-free (Rf)\n",
        "for name in industryNames:\n",
        "    industryMean.append(sum(industryReturns[name]) / len(industryReturns[name]))\n",
        "    industrySD.append(np.std(industryReturns[name], ddof = 1))\n",
        "\n",
        "# Create matrix containing return of the industries (10 columns), create covariance matrix   \n",
        "industryVar = np.square(industrySD)\n",
        "industryCov = industryReturns.cov()\n",
        "industryCovInv = np.linalg.pinv(industryCov.values)\n",
        "ones = np.transpose([1]*len(industryNames))\n",
        "onesT = np.transpose(ones)\n",
        "# ?? shape of ones and onesT are the same, ask TA\n",
        "\n",
        "# Calculate the portfolio weight for Minimum Variance Portfolio (MVP) with following:\n",
        "weightMVP = np.matmul(industryCovInv, ones) / np.matmul(np.matmul(onesT, industryCovInv), ones)\n",
        "\n",
        "# Calculate the MVP standard deviation by: w’*V*w and mean by: w’*R\n",
        "\n",
        "MVP_Var = np.matmul(np.matmul(np.transpose(weightMVP), industryCov.to_numpy()), weightMVP)\n",
        "MVP_SD = MVP_Var**(1/2)\n",
        "MVP_Mean = np.matmul(np.transpose(weightMVP), np.array(industryMean))\n",
        "\n",
        "# Calculate the portfolio weight for Tangency Portfolio with the following:\n",
        "RfMean = sum(Rf) / len(Rf)\n",
        "numerator = np.matmul(industryCovInv, np.transpose(industryMean - RfMean*ones))\n",
        "denominator = np.matmul(np.matmul(onesT, industryCovInv), np.transpose(industryMean - RfMean*ones))\n",
        "weightTangent = numerator / denominator\n",
        "\n",
        "# Calculate the Tangency mean by: w_tang*R, and standard deviation by: w_tang’*V*w_tang\n",
        "Tan_Var = np.matmul(np.matmul(np.transpose(weightTangent), industryCov.to_numpy()), weightTangent)\n",
        "Tan_SD = Tan_Var**(1/2)\n",
        "Tan_Mean = np.matmul(np.transpose(weightTangent), np.array(industryMean))"
      ],
      "execution_count": null,
      "outputs": []
    },
    {
      "cell_type": "markdown",
      "metadata": {
        "id": "4QvC9PBO4CtA",
        "colab_type": "text"
      },
      "source": [
        "On the mean-standard deviation diagram, we now have two points for the efficient frontier, **(MVP_SD, MVP_Mean)** and **(Tan_SD, Tan_Mean)**. MVP is the vertex of this parabola, so mirror the Tangency point with MVP we get a 3rd point, **(Tan_SD, Tan_Mean - 2*(Tan_Mean - MVP_Mean))** and can create an efficient frontier. Specifically, we use these three points, exchange x and y axis and fit a parabola. Sample points $(x_1,y_1),...(x_{50},y_{50})$ from the parabola and plot the  $(y_1,x_1),...(y_{50},x_{50})$ which the vertex of the parabola is at MVP."
      ]
    },
    {
      "cell_type": "code",
      "metadata": {
        "id": "5wbT2Kg9hc04",
        "colab_type": "code",
        "colab": {
          "base_uri": "https://localhost:8080/",
          "height": 136
        },
        "outputId": "471ee4e3-0444-4952-e0ba-dbd000d055d8"
      },
      "source": [
        "df = pd.DataFrame({'x':[MVP_SD,Tan_SD, Tan_SD], \n",
        "                  'y':[MVP_Mean, Tan_Mean, Tan_Mean - 2*(Tan_Mean - MVP_Mean)]})\n",
        "print(df)\n",
        "\n",
        "fit = np.polyfit(df['y'], df['x'], 2)\n",
        "equation = np.poly1d(fit)\n",
        "print (\"The fit coefficients are a = {0:.4f}, b = {1:.4f} c = {2:.4f}\".format(*fit))\n",
        "print (equation)"
      ],
      "execution_count": null,
      "outputs": [
        {
          "output_type": "stream",
          "text": [
            "          x         y\n",
            "0  3.724415  0.930786\n",
            "1  4.061181  1.053411\n",
            "2  4.061181  0.808161\n",
            "The fit coefficients are a = 22.3959, b = -41.6917 c = 23.1274\n",
            "      2\n",
            "22.4 x - 41.69 x + 23.13\n"
          ],
          "name": "stdout"
        }
      ]
    },
    {
      "cell_type": "markdown",
      "metadata": {
        "id": "MO-d7onaD36G",
        "colab_type": "text"
      },
      "source": [
        "Next, we plot the industry mean against industry standard deviation with the efficient frontier and check if these points are within the efficient frontier."
      ]
    },
    {
      "cell_type": "code",
      "metadata": {
        "id": "Lal4Sr-2u4zU",
        "colab_type": "code",
        "colab": {
          "base_uri": "https://localhost:8080/",
          "height": 423
        },
        "outputId": "692e9b98-bf65-41bb-aaf2-19b214e6c1a7"
      },
      "source": [
        "#Create second point for Tangency Portfolio\n",
        "tangencySlope = (Tan_Mean - RfMean) / Tan_SD\n",
        "y = RfMean + tangencySlope*30\n",
        "tangencyX = [0, 30]\n",
        "tangencyY = [RfMean, y]\n",
        "\n",
        "# Plot industry mean (R) against industry standard deviation (SD)\n",
        "x = np.linspace(2,0,num=50)\n",
        "y = 22.4 * x **2 - 41.69 * x + 23.13\n",
        "fig=plt.figure(figsize=(12,6))\n",
        "plt.plot(y,x,'.',markersize=10, label = 'Efficient Frontier')\n",
        "plt.plot(industrySD,industryMean,'.',markersize=10, label = 'Industries Data')\n",
        "plt.plot(tangencyX, tangencyY, label = 'Tangency Portfolio')\n",
        "plt.plot()\n",
        "plt.xlabel('Standard Deviation (%)')\n",
        "plt.ylabel('Mean Return (%)');\n",
        "plt.title('Question 1a): Mean-Standard Deviation Diagram', fontsize=16)\n",
        "plt.legend()\n",
        "plt.xlim(0, 30)\n",
        "plt.ylim(0, 2)"
      ],
      "execution_count": null,
      "outputs": [
        {
          "output_type": "execute_result",
          "data": {
            "text/plain": [
              "(0.0, 2.0)"
            ]
          },
          "metadata": {
            "tags": []
          },
          "execution_count": 7
        },
        {
          "output_type": "display_data",
          "data": {
            "image/png": "[encoded data removed]",
            "text/plain": [
              "<Figure size 864x432 with 1 Axes>"
            ]
          },
          "metadata": {
            "tags": [],
            "needs_background": "light"
          }
        }
      ]
    },
    {
      "cell_type": "markdown",
      "metadata": {
        "id": "-xbbPH-Ao670",
        "colab_type": "text"
      },
      "source": [
        "There are two reasons that the efficient frontier is a parabola. We derived in class mathematically that \n",
        "\\begin{equation}\n",
        "\\sigma_{p}^{*2}=\\frac{a-2 b r_{p}+c r_{p}^{2}}{a c-b^{2}}\n",
        "\\end{equation}\n",
        "which includes a quadratic term and makes it a parabola. Another reason is that efficient frontier is a diminishing marginal return to risk. When the units of risk adding to the portfolio increases, the return decreases."
      ]
    },
    {
      "cell_type": "markdown",
      "metadata": {
        "id": "It0VYimGx3Fb",
        "colab_type": "text"
      },
      "source": [
        "#### b)\t\n",
        "Comment on the reliability of the mean return estimates for each industry.  Then, artificially change the mean return estimates of each industry by a one standard error increase.  How much does the Tangent portfolio change?  Does the efficient frontier change a lot or a little?"
      ]
    },
    {
      "cell_type": "markdown",
      "metadata": {
        "id": "ztdOU4b1qVb3",
        "colab_type": "text"
      },
      "source": [
        "Given the size of the dataset (90-year), the mean return estimates for each industy should be quite reliable. \n",
        "\n",
        "That being said, the results are quite sensitive to any change in the mean return value. Due to the large sample size, a change of one standard error to the mean return is only a ~0.5% difference. Yet, if we artificially change the mean return estiamtes of each industry by one standard error increase, at the Tangency point on the efficient frontier, the return is increased by ~12%, even though graphically Tangency portfolio doesn't seem to have changed too much. Additionally, graphically we can see that the efficient frontier change a lot. The vertex (MVP) of the frontier is moved up slightly, but the shape is widen.\n",
        "\n",
        "Note that when conducting this exercise, we recreated the return data for each industry (original value + 1*standard error) and recalculated the covariance matrix. This turns out to have negligible impact on the final result, comparing to simply using the original covariance matrix."
      ]
    },
    {
      "cell_type": "code",
      "metadata": {
        "id": "JxewldOsqNeA",
        "colab_type": "code",
        "colab": {
          "base_uri": "https://localhost:8080/",
          "height": 559
        },
        "outputId": "b2fe8106-f761-47d0-c830-3793e8f7673a"
      },
      "source": [
        "\n",
        "\n",
        "size = len(NoDur)\n",
        "industryMean2 = []\n",
        "for i in range(0, len(industryMean)):\n",
        "    industryMean2.append(industryMean[i] + industrySD[i] / (size**(1/2)))\n",
        "industrySE = []\n",
        "for i in range(0, len(industrySD)):\n",
        "    industrySE.append(industrySD[i] / (size**1/2))\n",
        "\n",
        "df = pd.read_csv(\"PS2_1SE.csv\")\n",
        "df[\"date\"] = pd.to_datetime(df[\"date\"], format=\"%Y%m\")\n",
        "industryReturns2 = df.set_index(\"date\")\n",
        "\n",
        "industryCov2 = industryReturns2.cov()\n",
        "industryCovInv2 = np.linalg.pinv(industryCov2.values)\n",
        "\n",
        "# Calculate the NEW MVP weight:\n",
        "weightMVP2 = np.matmul(industryCovInv2, ones) / np.matmul(np.matmul(onesT, industryCovInv2), ones)\n",
        "\n",
        "# Calculate the NEW MVP standard deviation and mean:\n",
        "MVP_Var2 = np.matmul(np.matmul(np.transpose(weightMVP2), industryCov2.to_numpy()), weightMVP2)\n",
        "MVP_SD2 = MVP_Var2**(1/2)\n",
        "MVP_Mean2 = np.matmul(np.transpose(weightMVP), np.array(industryMean))\n",
        "\n",
        "# Calculate the portfolio weight for NEW Tangency Portfolio with the following:\n",
        "RfMean2 = RfMean\n",
        "numerator = np.matmul(industryCovInv2, np.transpose(industryMean2 - RfMean2*ones))\n",
        "denominator = np.matmul(np.matmul(onesT, industryCovInv2), np.transpose(industryMean2 - RfMean2*ones))\n",
        "weightTangent2 = numerator / denominator\n",
        "\n",
        "# Calculate the NEW Tangency mean by: w_tang*R, and standard deviation by: w_tang’*V*w_tang\n",
        "Tan_Var2 = np.matmul(np.matmul(np.transpose(weightTangent2), industryCov2.to_numpy()), weightTangent2)\n",
        "Tan_SD2 = Tan_Var2**(1/2)\n",
        "Tan_Mean2 = np.matmul(np.transpose(weightTangent2), np.array(industryMean2))\n",
        "\n",
        "df2 = pd.DataFrame({'x2':[MVP_SD2,Tan_SD2, Tan_SD2], \n",
        "                  'y2':[MVP_Mean2, Tan_Mean2, Tan_Mean2 - 2*(Tan_Mean2 - MVP_Mean2)]})\n",
        "print(df2)\n",
        "\n",
        "fit2 = np.polyfit(df2['y2'], df2['x2'], 2)\n",
        "equation2 = np.poly1d(fit2)\n",
        "print (\"The fit coefficients for 1b) are a = {0:.4f}, b = {1:.4f} c = {2:.4f}\".format(*fit2))\n",
        "print (equation2)\n",
        "\n",
        "tangencySlope2 = (Tan_Mean2 - RfMean2) / Tan_SD2\n",
        "y2ndpt2 = RfMean2 + tangencySlope2*30\n",
        "tangencyX2 = [0, 30]\n",
        "tangencyY2 = [RfMean2, y2ndpt2]\n",
        "\n",
        "plt.figure()\n",
        "x2 = np.linspace(0, 3,num=50)\n",
        "y2 = 5.134 * x2 **2 - 9.558 * x2 + 8.173\n",
        "fig=plt.figure(figsize=(12,6))\n",
        "plt.plot(y2, x2, '.', markersize=10, label = 'Efficient Frontier: Mean + 1*SE')\n",
        "plt.plot(y, x,'.',markersize=10, label = 'Efficient Frontier: Original')\n",
        "plt.plot(tangencyX2, tangencyY2, label = 'Tangency Portfolio: Mean + 1*SE')\n",
        "plt.plot(tangencyX, tangencyY, label = 'Tangency Portfolio: Original')\n",
        "plt.plot()\n",
        "plt.xlabel('Standard Deviation (%)')\n",
        "plt.ylabel('Mean Return (%)');\n",
        "plt.title('Question 1b): Mean-Standard Deviation Diagram, Mean + 1*SE', fontsize=16)\n",
        "plt.legend()\n",
        "plt.xlim(0, 30)\n",
        "plt.ylim(0, 3)"
      ],
      "execution_count": null,
      "outputs": [
        {
          "output_type": "stream",
          "text": [
            "         x2        y2\n",
            "0  3.724415  0.930786\n",
            "1  4.047465  1.181626\n",
            "2  4.047465  0.679947\n",
            "The fit coefficients for 1b) are a = 5.1343, b = -9.5578 c = 8.1725\n",
            "       2\n",
            "5.134 x - 9.558 x + 8.173\n"
          ],
          "name": "stdout"
        },
        {
          "output_type": "execute_result",
          "data": {
            "text/plain": [
              "(0.0, 3.0)"
            ]
          },
          "metadata": {
            "tags": []
          },
          "execution_count": 13
        },
        {
          "output_type": "display_data",
          "data": {
            "text/plain": [
              "<Figure size 432x288 with 0 Axes>"
            ]
          },
          "metadata": {
            "tags": []
          }
        },
        {
          "output_type": "display_data",
          "data": {
            "image/png": "[encoded data removed]",
            "text/plain": [
              "<Figure size 864x432 with 1 Axes>"
            ]
          },
          "metadata": {
            "tags": [],
            "needs_background": "light"
          }
        }
      ]
    },
    {
      "cell_type": "markdown",
      "metadata": {
        "id": "JCWQuglOx7Vz",
        "colab_type": "text"
      },
      "source": [
        "#### c)\t\n",
        "Comment on the reliability of the covariance matrix estimate.  First, assume that all covariances are zero and recompute the efficient frontier using the diagonal matrix of variances as the covariance matrix.  Then, assume very simply that the covariance matrix is just the identity matrix (i.e., a matrix of ones along the diagonal and zeros everywhere else).  Does the mean-variance frontier change a lot or a little, relative to b)?  How important are the covariance terms relative to the variance terms?"
      ]
    },
    {
      "cell_type": "markdown",
      "metadata": {
        "id": "iGfR-LETqgdk",
        "colab_type": "text"
      },
      "source": [
        "Given the size of the dataset (90-year), the reliability of the covariance matrix estimate should be quite high, possibly even higher than that of the mean return estimate.\n",
        "\n",
        "If we change the covanraince to diagonal matrix of variances (all covariance terms = 0) and identity matrix, the below graphs show that the efficient frontier changes, but to a smaller extent comparing to b).\n",
        "\n",
        "Between the covariance terms and the variance terms, we can see from the two graphs that the variance terms seem to be more important, as the identity matrix graph still holds relatively the same efficient frontier shape (albeit moved slightly), while the variance matrix has moved the efficient frontier and changed the shape (narrower).\n",
        "\n",
        "Note that the mean-standard deviation frontier is used to keep consistent with the previous parts, but the frontier shape will not change.\n"
      ]
    },
    {
      "cell_type": "code",
      "metadata": {
        "id": "3byP_bdrqgBw",
        "colab_type": "code",
        "colab": {
          "base_uri": "https://localhost:8080/",
          "height": 1000
        },
        "outputId": "431662c7-f3b9-4246-8a91-fadb663d4cf4"
      },
      "source": [
        "#Create Covariance Matrix with only Variance in the diagonal\n",
        "industryCov3 = industryCov\n",
        "for name1 in industryNames:\n",
        "    for name2 in industryNames:\n",
        "        if name1 == name2:\n",
        "            continue\n",
        "        industryCov3[name1][name2] = 0\n",
        "industryCovInv3 = np.linalg.pinv(industryCov3.values)\n",
        "\n",
        "# Calculate the portfolio weight for Minimum Variance Portfolio (MVP) with following:\n",
        "weightMVP3 = np.matmul(industryCovInv3, ones) / np.matmul(np.matmul(onesT, industryCovInv3), ones)\n",
        "\n",
        "# Calculate the MVP standard deviation by: w’*V*w and mean by: w’*R, and \n",
        "MVP_Var3 = np.matmul(np.matmul(np.transpose(weightMVP3), industryCov3.to_numpy()), weightMVP3)\n",
        "MVP_SD3 = MVP_Var3**(1/2)\n",
        "MVP_Mean3 = np.matmul(np.transpose(weightMVP3), np.array(industryMean))\n",
        "\n",
        "# Calculate the portfolio weight for Tangency Portfolio with the following:\n",
        "numerator = np.matmul(industryCovInv3, np.transpose(industryMean - RfMean*ones))\n",
        "denominator = np.matmul(np.matmul(onesT, industryCovInv3), np.transpose(industryMean - RfMean*ones))\n",
        "weightTangent3 = numerator / denominator\n",
        "\n",
        "# Calculate the Tangency mean by: w_tang*R, and standard deviation by: w_tang’*V*w_tang\n",
        "Tan_Var3 = np.matmul(np.matmul(np.transpose(weightTangent3), industryCov3.to_numpy()), weightTangent3)\n",
        "Tan_SD3 = Tan_Var3**(1/2)\n",
        "Tan_Mean3 = np.matmul(np.transpose(weightTangent3), np.array(industryMean))\n",
        "\n",
        "df3 = pd.DataFrame({'x3':[MVP_SD3,Tan_SD3, Tan_SD3], \n",
        "                  'y3':[MVP_Mean3, Tan_Mean3, Tan_Mean3 - 2*(Tan_Mean3 - MVP_Mean3)]})\n",
        "print(df3)\n",
        "\n",
        "fit3 = np.polyfit(df3['y3'], df3['x3'], 2)\n",
        "equation3 = np.poly1d(fit3)\n",
        "print (\"The fit coefficients for 1c)-1 are a = {0:.4f}, b = {1:.4f} c = {2:.4f}\".format(*fit3))\n",
        "print (equation3)\n",
        "\n",
        "#Create second point for Tangency Portfolio\n",
        "tangencySlope3 = (Tan_Mean3 - RfMean) / Tan_SD3\n",
        "y2ndpt3 = RfMean + tangencySlope3*30\n",
        "tangencyX3 = [0, 30]\n",
        "tangencyY3 = [RfMean, y2ndpt3]\n",
        "\n",
        "# Plot industry mean (R) against industry standard deviation (SD)\n",
        "x3 = np.linspace(2,0,num=100)\n",
        "y3 = 128.676 * x3 **2 - 253.822 * x3 + 127\n",
        "fig=plt.figure(figsize=(12,6))\n",
        "plt.plot(y3, x3,'.',markersize=10, label = 'Efficient Frontier: Variance Matrix')\n",
        "plt.plot(y, x,'.',markersize=10, label = 'Efficient Frontier: Original')\n",
        "plt.plot(tangencyX3, tangencyY3, label = 'Tangency Portfolio: Variance Matrix')\n",
        "plt.plot(tangencyX, tangencyY, label = 'Tangency Portfolio: Original')\n",
        "plt.plot()\n",
        "plt.xlabel('Standard Deviation (%)')\n",
        "plt.ylabel('Mean Return (%)');\n",
        "plt.title('Question 1c): Mean-Standard Deviation Diagram, Variance Matrix', fontsize=16)\n",
        "plt.legend()\n",
        "plt.xlim(0, 30)\n",
        "plt.ylim(0, 3)\n",
        "\n",
        "#Create Covariance Matrix with Identity Matrix\n",
        "industryCov4 = industryCov3\n",
        "for name1 in industryNames:\n",
        "    for name2 in industryNames:\n",
        "        if name1 == name2:\n",
        "            industryCov4[name1][name2] = 1\n",
        "industryCovInv4 = np.linalg.pinv(industryCov4.values)\n",
        "\n",
        "# Calculate the portfolio weight for Minimum Variance Portfolio (MVP) with following:\n",
        "weightMVP4 = np.matmul(industryCovInv4, ones) / np.matmul(np.matmul(onesT, industryCovInv4), ones)\n",
        "\n",
        "# Calculate the MVP standard deviation by: w’*V*w and mean by: w’*R, and \n",
        "MVP_Var4 = np.matmul(np.matmul(np.transpose(weightMVP4), industryCov4.to_numpy()), weightMVP4)\n",
        "MVP_SD4 = MVP_Var4**(1/2)\n",
        "MVP_Mean4 = np.matmul(np.transpose(weightMVP4), np.array(industryMean))\n",
        "\n",
        "# Calculate the portfolio weight for Tangency Portfolio with the following:\n",
        "numerator = np.matmul(industryCovInv4, np.transpose(industryMean - RfMean*ones))\n",
        "denominator = np.matmul(np.matmul(onesT, industryCovInv4), np.transpose(industryMean - RfMean*ones))\n",
        "weightTangent4 = numerator / denominator\n",
        "\n",
        "# Calculate the Tangency mean by: w_tang*R, and standard deviation by: w_tang’*V*w_tang\n",
        "Tan_Var4 = np.matmul(np.matmul(np.transpose(weightTangent4), industryCov4.to_numpy()), weightTangent4)\n",
        "Tan_SD4 = Tan_Var4**(1/2)\n",
        "Tan_Mean4 = np.matmul(np.transpose(weightTangent4), np.array(industryMean))\n",
        "\n",
        "df4 = pd.DataFrame({'x4':[MVP_SD4, Tan_SD4, Tan_SD4], \n",
        "                  'y4':[MVP_Mean4, Tan_Mean4, Tan_Mean4 - 2*(Tan_Mean4 - MVP_Mean4)]})\n",
        "print(df4)\n",
        "\n",
        "fit4 = np.polyfit(df4['y4'], df4['x4'], 2)\n",
        "equation4 = np.poly1d(fit4)\n",
        "print (\"The fit coefficients for 1c)-2 are a = {0:.4f}, b = {1:.4f} c = {2:.4f}\".format(*fit4))\n",
        "print (equation4)\n",
        "\n",
        "#Create second point for Tangency Portfolio\n",
        "tangencySlope4 = (Tan_Mean4 - RfMean) / Tan_SD4\n",
        "y2ndpt4 = RfMean + tangencySlope4*30\n",
        "tangencyX4 = [0, 30]\n",
        "tangencyY4 = [RfMean, y2ndpt4]\n",
        "\n",
        "# Plot industry mean (R) against industry standard deviation (SD)\n",
        "x4 = np.linspace(2,0,num=50)\n",
        "y4 = 22.43 * x4 **2 - 44.93 * x4 + 22.82\n",
        "fig=plt.figure(figsize=(12,6))\n",
        "plt.plot(y4, x4,'.',markersize=10, label = 'Efficient Frontier: Identity Matrix')\n",
        "plt.plot(y, x,'.',markersize=10, label = 'Efficient Frontier: Original')\n",
        "plt.plot(tangencyX4, tangencyY4, label = 'Tangency Portfolio: Identity Matrix')\n",
        "plt.plot(tangencyX, tangencyY, label = 'Tangency Portfolio: Original')\n",
        "plt.plot()\n",
        "plt.xlabel('Standard Deviation (%)')\n",
        "plt.ylabel('Mean Return (%)');\n",
        "plt.title('Question 1c): Mean-Standard Deviation Diagram, Identity Matrix', fontsize=16)\n",
        "plt.legend()\n",
        "plt.xlim(0, 30)\n",
        "plt.ylim(0, 3)"
      ],
      "execution_count": null,
      "outputs": [
        {
          "output_type": "stream",
          "text": [
            "         x3        y3\n",
            "0  1.830440  0.986281\n",
            "1  1.843472  0.996345\n",
            "2  1.843472  0.976218\n",
            "The fit coefficients for 1c)-1 are a = 128.6762, b = -253.8219 c = 127.0003\n",
            "       2\n",
            "128.7 x - 253.8 x + 127\n",
            "         x4        y4\n",
            "0  0.316228  1.001583\n",
            "1  0.318366  1.011346\n",
            "2  0.318366  0.991819\n",
            "The fit coefficients for 1c)-2 are a = 22.4302, b = -44.9315 c = 22.8175\n",
            "       2\n",
            "22.43 x - 44.93 x + 22.82\n"
          ],
          "name": "stdout"
        },
        {
          "output_type": "execute_result",
          "data": {
            "text/plain": [
              "(0.0, 3.0)"
            ]
          },
          "metadata": {
            "tags": []
          },
          "execution_count": 12
        },
        {
          "output_type": "display_data",
          "data": {
            "image/png": "[encoded data removed]",
            "text/plain": [
              "<Figure size 864x432 with 1 Axes>"
            ]
          },
          "metadata": {
            "tags": [],
            "needs_background": "light"
          }
        },
        {
          "output_type": "display_data",
          "data": {
            "image/png": "[encoded data removed]",
            "text/plain": [
              "<Figure size 864x432 with 1 Axes>"
            ]
          },
          "metadata": {
            "tags": [],
            "needs_background": "light"
          }
        }
      ]
    },
    {
      "cell_type": "markdown",
      "metadata": {
        "id": "YD5-JCvl1tU8",
        "colab_type": "text"
      },
      "source": [
        "#### d)\t\n",
        "Run some simulations similar to what Jorion did in his study.  Using the mean and covariance matrix you calculated in sample from the historical returns, use these parameters to simulate data under a multivariate normal distribution.  \n",
        "\n",
        "•\tDraw a random sample of 10 (N) returns from this distribution T times (T = the number of months).  This gives you one simulation.\n"
      ]
    },
    {
      "cell_type": "code",
      "metadata": {
        "id": "YDsihxW38Sv7",
        "colab_type": "code",
        "colab": {
          "base_uri": "https://localhost:8080/",
          "height": 204
        },
        "outputId": "ceb9aeef-b241-476b-c0da-682018ea95c0"
      },
      "source": [
        "import random\n",
        "N = 10\n",
        "a = np.random.multivariate_normal(industryMean, industryCov, size = N)\n",
        "ddff = pd.DataFrame(a)\n",
        "# ddff.columns = dfdt.columns[:-1]\n",
        "colnames = ddff.columns.tolist()\n",
        "ddff.head()"
      ],
      "execution_count": null,
      "outputs": [
        {
          "output_type": "execute_result",
          "data": {
            "text/html": [
              "<div>\n",
              "<style scoped>\n",
              "    .dataframe tbody tr th:only-of-type {\n",
              "        vertical-align: middle;\n",
              "    }\n",
              "\n",
              "    .dataframe tbody tr th {\n",
              "        vertical-align: top;\n",
              "    }\n",
              "\n",
              "    .dataframe thead th {\n",
              "        text-align: right;\n",
              "    }\n",
              "</style>\n",
              "<table border=\"1\" class=\"dataframe\">\n",
              "  <thead>\n",
              "    <tr style=\"text-align: right;\">\n",
              "      <th></th>\n",
              "      <th>0</th>\n",
              "      <th>1</th>\n",
              "      <th>2</th>\n",
              "      <th>3</th>\n",
              "      <th>4</th>\n",
              "      <th>5</th>\n",
              "      <th>6</th>\n",
              "      <th>7</th>\n",
              "      <th>8</th>\n",
              "      <th>9</th>\n",
              "    </tr>\n",
              "  </thead>\n",
              "  <tbody>\n",
              "    <tr>\n",
              "      <th>0</th>\n",
              "      <td>1.272374</td>\n",
              "      <td>0.413026</td>\n",
              "      <td>0.896770</td>\n",
              "      <td>1.673200</td>\n",
              "      <td>-0.094138</td>\n",
              "      <td>1.564855</td>\n",
              "      <td>-0.188988</td>\n",
              "      <td>2.053352</td>\n",
              "      <td>-0.692189</td>\n",
              "      <td>1.062093</td>\n",
              "    </tr>\n",
              "    <tr>\n",
              "      <th>1</th>\n",
              "      <td>1.972499</td>\n",
              "      <td>1.834580</td>\n",
              "      <td>1.787066</td>\n",
              "      <td>1.245900</td>\n",
              "      <td>-0.037929</td>\n",
              "      <td>-1.084364</td>\n",
              "      <td>1.443872</td>\n",
              "      <td>1.619617</td>\n",
              "      <td>-0.153371</td>\n",
              "      <td>-0.303537</td>\n",
              "    </tr>\n",
              "    <tr>\n",
              "      <th>2</th>\n",
              "      <td>0.106934</td>\n",
              "      <td>-1.134408</td>\n",
              "      <td>-0.169745</td>\n",
              "      <td>1.135663</td>\n",
              "      <td>0.948430</td>\n",
              "      <td>0.395645</td>\n",
              "      <td>0.914454</td>\n",
              "      <td>1.313304</td>\n",
              "      <td>1.915695</td>\n",
              "      <td>0.380935</td>\n",
              "    </tr>\n",
              "    <tr>\n",
              "      <th>3</th>\n",
              "      <td>1.543193</td>\n",
              "      <td>1.554427</td>\n",
              "      <td>2.339004</td>\n",
              "      <td>1.826660</td>\n",
              "      <td>2.277215</td>\n",
              "      <td>-0.844116</td>\n",
              "      <td>-0.144101</td>\n",
              "      <td>0.517784</td>\n",
              "      <td>1.593107</td>\n",
              "      <td>2.170638</td>\n",
              "    </tr>\n",
              "    <tr>\n",
              "      <th>4</th>\n",
              "      <td>1.176414</td>\n",
              "      <td>1.581203</td>\n",
              "      <td>0.908124</td>\n",
              "      <td>2.880859</td>\n",
              "      <td>1.039631</td>\n",
              "      <td>0.564545</td>\n",
              "      <td>2.679179</td>\n",
              "      <td>1.960382</td>\n",
              "      <td>1.155530</td>\n",
              "      <td>2.261599</td>\n",
              "    </tr>\n",
              "  </tbody>\n",
              "</table>\n",
              "</div>"
            ],
            "text/plain": [
              "          0         1         2  ...         7         8         9\n",
              "0  1.272374  0.413026  0.896770  ...  2.053352 -0.692189  1.062093\n",
              "1  1.972499  1.834580  1.787066  ...  1.619617 -0.153371 -0.303537\n",
              "2  0.106934 -1.134408 -0.169745  ...  1.313304  1.915695  0.380935\n",
              "3  1.543193  1.554427  2.339004  ...  0.517784  1.593107  2.170638\n",
              "4  1.176414  1.581203  0.908124  ...  1.960382  1.155530  2.261599\n",
              "\n",
              "[5 rows x 10 columns]"
            ]
          },
          "metadata": {
            "tags": []
          },
          "execution_count": 15
        }
      ]
    },
    {
      "cell_type": "markdown",
      "metadata": {
        "id": "cnglzeIn9c2n",
        "colab_type": "text"
      },
      "source": [
        "•\tCalculate the tangency and minimum variance portfolio weights from these simulated data.  Then, apply these weights to the actual (NOT SIMULATED) returns on the industries (e.g., the weights come from the simulated returns, but they are applied to true/actual returns on the industries)."
      ]
    },
    {
      "cell_type": "code",
      "metadata": {
        "id": "qsxcAi-HStgO",
        "colab_type": "code",
        "colab": {
          "base_uri": "https://localhost:8080/",
          "height": 136
        },
        "outputId": "2aa45857-a169-4b61-e584-0c859971cc76"
      },
      "source": [
        "# Find mean (R) and standard deviation (SD) for each industry\n",
        "np.random.seed(299)\n",
        "sim_mean = []\n",
        "sim_sd = []\n",
        "for colnames in ddff:\n",
        "    sim_mean.append(sum(ddff[colnames]) / len(ddff[colnames]))\n",
        "    sim_sd.append(np.std(ddff[colnames], ddof = 1))\n",
        "\n",
        "# Create matrix containing return of the simulated data (10 columns), create covariance matrix   \n",
        "sim_var = np.square(sim_sd)\n",
        "sim_cov = ddff.cov()\n",
        "sim_covInv = np.linalg.pinv(sim_cov.values)\n",
        "sim_ones = np.transpose([1]*N)\n",
        "sim_onesT = np.transpose(sim_ones)\n",
        "\n",
        "# Minimum Variance Portfolio (MVP) weights\n",
        "sim_weightMVP = np.matmul(sim_covInv, sim_ones) / np.matmul(np.matmul(sim_onesT, sim_covInv), sim_ones)\n",
        "\n",
        "# Tangency Portfolio weights\n",
        "sim_weightTangent = np.matmul(sim_covInv, sim_mean) / np.matmul(np.matmul(sim_onesT, sim_covInv), sim_mean)\n",
        "\n",
        "print(\"simulated MVP weight:\", sim_weightMVP)\n",
        "print(\"simulated Tangency weight:\",sim_weightTangent)\n",
        "print(\"simulated MVP weight shape:\",sim_weightMVP.shape)\n",
        "print(\"transposed industry return in part(a) shape:\",np.transpose(industryReturns).shape)\n",
        "\n",
        "# Apply the weights to actual returns on the industries\n",
        "sim_w_mvp_R = np.matmul(sim_weightMVP, industryMean)\n",
        "sim_w_t_R = np.matmul(sim_weightTangent, industryMean)\n",
        "print(sim_w_mvp_R, sim_w_t_R)"
      ],
      "execution_count": null,
      "outputs": [
        {
          "output_type": "stream",
          "text": [
            "simulated MVP weight: [ 0.6391139   0.8124388  -0.55464423  0.05541261 -0.16036528  0.46707072\n",
            " -0.0117136   0.09788496  0.38979223 -0.73499012]\n",
            "simulated Tangency weight: [ 0.80704554  0.90734066 -0.56890427 -0.07141031 -0.1753234   0.44997725\n",
            " -0.0676653   0.14718435  0.36338188 -0.7916264 ]\n",
            "simulated MVP weight shape: (10,)\n",
            "transposed industry return in part(a) shape: (10, 1069)\n",
            "1.0143839993350745 1.0310746146241971\n"
          ],
          "name": "stdout"
        }
      ]
    },
    {
      "cell_type": "markdown",
      "metadata": {
        "id": "fjolzqyO1xsp",
        "colab_type": "text"
      },
      "source": [
        "\n",
        "•\tThen repeat 1,000 times and save the mean and standard deviation of each MVP and Tangency portfolio you calculated under each simulation of data used to get the weights and applied to actual returns.\n",
        "•\tOn two separate plots of mean-standard deviation space, plot the simulated MVP and Tangency portfolios relative to the ones calculated using weights estimated from the real data.  (One plot for MVP and one for Tangency portfolios, each plot will contain 1001 data points).\n",
        "•\tThese plots indicate the estimation error (under a normal distribution) of the Tangency and MVP weights.  Which portfolio (MVP or Tangency) is estimated with less error?  Why?\n"
      ]
    },
    {
      "cell_type": "code",
      "metadata": {
        "id": "00SvMrcBgBCo",
        "colab_type": "code",
        "colab": {}
      },
      "source": [
        "sim_MVP_means = []\n",
        "sim_MVP_sds = []\n",
        "sim_Tangency_means = []\n",
        "sim_Tangency_sds = []\n",
        "\n",
        "sim_N = 1000\n",
        "\n",
        "for i in range(sim_N):\n",
        "  sim_means = []\n",
        "  sim_sds = []\n",
        "  # simulate a portfolio\n",
        "  sim_port = np.random.multivariate_normal(industryMean, industryCov, size = N)\n",
        "  sim_ddff = pd.DataFrame(sim_port)\n",
        "  sim_colnames = sim_ddff.columns.tolist()\n",
        "\n",
        "  # calculate mean and std dev of portfolio\n",
        "  for sim_colnames in sim_ddff:\n",
        "    sim_means.append(sum(sim_ddff[sim_colnames]) / len(sim_ddff[sim_colnames]))\n",
        "    sim_sds.append(np.std(sim_ddff[sim_colnames], ddof = 1))\n",
        "\n",
        "  # create matrix containing return of the simulated data (10 columns), create covariance matrix   \n",
        "  sim_vars = np.square(sim_sds)\n",
        "  sim_covs = sim_ddff.cov()\n",
        "  sim_covsInv = np.linalg.pinv(sim_covs.values)\n",
        "  sim_ones = np.transpose([1]*N)\n",
        "  sim_onesT = np.transpose(sim_ones)\n",
        "\n",
        "  ## MVP\n",
        "  # minimum Variance Portfolio (MVP) weights\n",
        "  sim_weightMVPs = np.matmul(sim_covsInv, sim_ones) / np.matmul(np.matmul(sim_onesT, sim_covsInv), sim_ones)\n",
        "\n",
        "  # MVP standard deviation(w’*V*w) and MVP mean (w’*R). Note: V and R here are real data, not simulated!\n",
        "  sim_MVP_var = np.matmul(np.matmul(np.transpose(sim_weightMVPs), industryCov.to_numpy()), sim_weightMVPs)\n",
        "  sim_MVP_sd = sim_MVP_var**(1/2)\n",
        "  sim_MVP_mean = np.matmul(np.transpose(sim_weightMVPs), np.array(industryMean))\n",
        "\n",
        "  ## Tangency\n",
        "  # Tangency weights\n",
        "  sim_weightTangent = np.matmul(sim_covsInv, sim_means) / np.matmul(np.matmul(sim_onesT, sim_covsInv), sim_means)\n",
        "\n",
        "  # Tangency standard deviation (w_tang’*V*w_tang) and Tangency mean (w'*R). Note: V and R here are real data, not simulated!\n",
        "  sim_Tangency_var = np.matmul(np.matmul(np.transpose(sim_weightTangent), industryCov.to_numpy()), sim_weightTangent)\n",
        "  sim_Tangency_sd = sim_Tangency_var**(1/2)\n",
        "  sim_Tangency_mean = np.matmul(np.transpose(sim_weightTangent), np.array(industryMean))\n",
        "\n",
        "  sim_MVP_means.append(sim_MVP_mean)\n",
        "  sim_MVP_sds.append(sim_MVP_sd)\n",
        "  sim_Tangency_means.append(sim_Tangency_mean)\n",
        "  sim_Tangency_sds.append(sim_Tangency_sd)"
      ],
      "execution_count": null,
      "outputs": []
    },
    {
      "cell_type": "markdown",
      "metadata": {
        "id": "GZUfMhVF2ohG",
        "colab_type": "text"
      },
      "source": [
        "•\tOn two separate plots of mean-standard deviation space, plot the simulated MVP and Tangency portfolios relative to the ones calculated using weights estimated from the real data.  (One plot for MVP and one for Tangency portfolios, each plot will contain 1001 data points)."
      ]
    },
    {
      "cell_type": "code",
      "metadata": {
        "id": "4XqffypC2sOF",
        "colab_type": "code",
        "colab": {
          "base_uri": "https://localhost:8080/",
          "height": 423
        },
        "outputId": "c882e2eb-ef3c-4616-ad16-0169872ac1ad"
      },
      "source": [
        "sim_MVP_sds = np.asarray(sim_MVP_sds)\n",
        "sim_MVP_means = np.asarray(sim_MVP_means)\n",
        "sim_Tangency_means = np.asarray(sim_Tangency_means)\n",
        "sim_Tangency_sds = np.asarray(sim_Tangency_sds)\n",
        "\n",
        "#mvp_fit = np.polyfit(sim_MVP_means, sim_MVP_sds, 2)\n",
        "#mvp_eq = np.poly1d(mvp_fit)\n",
        "\n",
        "fig=plt.figure(figsize=(12,6))\n",
        "plt.plot(MVP_SD, MVP_Mean,'.', markersize=10, label = 'Real Data MVP')\n",
        "plt.plot(sim_MVP_sds, sim_MVP_means,'.', markersize=10, label = 'Simulation MVP')\n",
        "plt.title('Question 1d): Real Data MVP and Simulation MVP', fontsize=16)\n",
        "plt.xlabel('Standard Deviation (%)')\n",
        "plt.ylabel('Mean Return (%)');\n",
        "plt.legend()\n",
        "plt.xlim(0, 30)\n",
        "plt.ylim(0, 3)"
      ],
      "execution_count": null,
      "outputs": [
        {
          "output_type": "execute_result",
          "data": {
            "text/plain": [
              "(0.0, 3.0)"
            ]
          },
          "metadata": {
            "tags": []
          },
          "execution_count": 21
        },
        {
          "output_type": "display_data",
          "data": {
            "image/png": "[encoded data removed]",
            "text/plain": [
              "<Figure size 864x432 with 1 Axes>"
            ]
          },
          "metadata": {
            "tags": [],
            "needs_background": "light"
          }
        }
      ]
    },
    {
      "cell_type": "code",
      "metadata": {
        "id": "1OfkNsxH6MGx",
        "colab_type": "code",
        "colab": {
          "base_uri": "https://localhost:8080/",
          "height": 423
        },
        "outputId": "3f807c05-42fb-4806-ec31-3d0e48f36992"
      },
      "source": [
        "#tan_fit = np.polyfit(sim_Tangency_means, sim_Tangency_sds, 1)\n",
        "#tan_eq = np.poly1d(tan_fit)\n",
        "\n",
        "#tan_x = np.linspace(-1000,1000,num = 1000)\n",
        "#tan_y = tan_eq(tan_x)\n",
        "fig=plt.figure(figsize=(12,6))\n",
        "plt.plot(Tan_SD, Tan_Mean, '.', markersize=10, label = 'Real Data Tangency Pt')\n",
        "plt.plot(sim_Tangency_sds, sim_Tangency_means, '.', markersize=10, label = 'Simulation Tagency Pt')\n",
        "plt.title('Question 1d): Real Data Tangency Pt and Simulation Tangency Pt', fontsize=16)\n",
        "plt.xlabel('Standard Deviation (%)')\n",
        "plt.ylabel('Mean Return (%)');\n",
        "plt.legend()\n",
        "plt.xlim(0, 30)\n",
        "plt.ylim(0, 3)"
      ],
      "execution_count": null,
      "outputs": [
        {
          "output_type": "execute_result",
          "data": {
            "text/plain": [
              "(0.0, 3.0)"
            ]
          },
          "metadata": {
            "tags": []
          },
          "execution_count": 20
        },
        {
          "output_type": "display_data",
          "data": {
            "image/png": "[encoded data removed]",
            "text/plain": [
              "<Figure size 864x432 with 1 Axes>"
            ]
          },
          "metadata": {
            "tags": [],
            "needs_background": "light"
          }
        }
      ]
    },
    {
      "cell_type": "markdown",
      "metadata": {
        "id": "4wcSYOJE24tQ",
        "colab_type": "text"
      },
      "source": [
        "•\tThese plots indicate the estimation error (under a normal distribution) of the Tangency and MVP weights.  Which portfolio (MVP or Tangency) is estimated with less error?  Why?"
      ]
    },
    {
      "cell_type": "markdown",
      "metadata": {
        "id": "IqU5RtAlLyJ6",
        "colab_type": "text"
      },
      "source": [
        "Graphically, we can see that MVP portfolio is estimated with less error as we can see that the simulation data is more clustered around the real data, while the simulation data for the Tangency portfolio are more loosely distributed in the mean-standard deviation plot.\n",
        "\n",
        "This is because to calculate the weight of MVP, only the covariance matrix is required, while both covariance matrix and returns are required to calculate the Tangency portfolio point. Therefore, since both the covariance matrix and returns have errors, there will be compounded overall error for the portfolio, leading to larger error value comparing to the MVP point."
      ]
    },
    {
      "cell_type": "code",
      "metadata": {
        "id": "Yt6UeHuC24GD",
        "colab_type": "code",
        "colab": {}
      },
      "source": [
        "#todo!"
      ],
      "execution_count": null,
      "outputs": []
    },
    {
      "cell_type": "markdown",
      "metadata": {
        "id": "WTCpwmxd2-5U",
        "colab_type": "text"
      },
      "source": [
        "#### e)\t\n",
        "Now run some simulations under the empirical distribution of returns rather than the normal distribution.  This is called a block bootstrap simulation.\n",
        "\n",
        "•\tDraw a random sample of 10 (N) returns from the empirical distribution T times (T = the number of months) with replacement.  The way to do this is to randomly sample a particular month by selecting a number (integer) at random from 1 to T.  Pick the 10 industry returns corresponding to the month chosen randomly between 1 and T.  These 10 returns become your first data point of 10 industry returns (effectively this becomes month t=1 in the simulation).  Then, pick another number from 1 to T, even if it is the same number (this is what resampling with replacement means), and repeat.  This becomes month t=2 in the simulation.  Repeat T times and this gives you one simulation.\n",
        "(Hint:  in Matlab you can create T random numbers between 1 and T and then simply pull off the rows in the industry return matrix (which is T X 10) that correspond to the T random numbers chosen.  A Matlab file is posted to help you out.)\n"
      ]
    },
    {
      "cell_type": "code",
      "metadata": {
        "id": "GsV4yDGYMOZD",
        "colab_type": "code",
        "colab": {}
      },
      "source": [
        "N = 10\n",
        "T = 12 # the number of months\n",
        "simulations = []\n",
        "\n",
        "for _ in range(T):\n",
        "  number = np.random.choice(range(1, T + 1))\n",
        "  sample_month = industryReturns[industryReturns.index.month == number]\n",
        "  simulations.append(sample_month.sample(n = N, replace = True))\n",
        "sim_T = pd.concat(simulations)"
      ],
      "execution_count": null,
      "outputs": []
    },
    {
      "cell_type": "code",
      "metadata": {
        "id": "mlHTUDoJ6hTY",
        "colab_type": "code",
        "colab": {
          "base_uri": "https://localhost:8080/",
          "height": 383
        },
        "outputId": "45448250-2c0a-4356-c019-28795867f021"
      },
      "source": [
        "simulations[0]"
      ],
      "execution_count": null,
      "outputs": [
        {
          "output_type": "execute_result",
          "data": {
            "text/html": [
              "<div>\n",
              "<style scoped>\n",
              "    .dataframe tbody tr th:only-of-type {\n",
              "        vertical-align: middle;\n",
              "    }\n",
              "\n",
              "    .dataframe tbody tr th {\n",
              "        vertical-align: top;\n",
              "    }\n",
              "\n",
              "    .dataframe thead th {\n",
              "        text-align: right;\n",
              "    }\n",
              "</style>\n",
              "<table border=\"1\" class=\"dataframe\">\n",
              "  <thead>\n",
              "    <tr style=\"text-align: right;\">\n",
              "      <th></th>\n",
              "      <th>NoDur</th>\n",
              "      <th>Durbl</th>\n",
              "      <th>Manuf</th>\n",
              "      <th>Enrgy</th>\n",
              "      <th>HiTec</th>\n",
              "      <th>Telcm</th>\n",
              "      <th>Shops</th>\n",
              "      <th>Hlth</th>\n",
              "      <th>Utils</th>\n",
              "      <th>Other</th>\n",
              "    </tr>\n",
              "    <tr>\n",
              "      <th>date</th>\n",
              "      <th></th>\n",
              "      <th></th>\n",
              "      <th></th>\n",
              "      <th></th>\n",
              "      <th></th>\n",
              "      <th></th>\n",
              "      <th></th>\n",
              "      <th></th>\n",
              "      <th></th>\n",
              "      <th></th>\n",
              "    </tr>\n",
              "  </thead>\n",
              "  <tbody>\n",
              "    <tr>\n",
              "      <th>1973-09-01</th>\n",
              "      <td>5.87</td>\n",
              "      <td>7.85</td>\n",
              "      <td>4.57</td>\n",
              "      <td>9.27</td>\n",
              "      <td>-2.80</td>\n",
              "      <td>7.67</td>\n",
              "      <td>7.43</td>\n",
              "      <td>0.79</td>\n",
              "      <td>7.90</td>\n",
              "      <td>7.19</td>\n",
              "    </tr>\n",
              "    <tr>\n",
              "      <th>1973-09-01</th>\n",
              "      <td>5.87</td>\n",
              "      <td>7.85</td>\n",
              "      <td>4.57</td>\n",
              "      <td>9.27</td>\n",
              "      <td>-2.80</td>\n",
              "      <td>7.67</td>\n",
              "      <td>7.43</td>\n",
              "      <td>0.79</td>\n",
              "      <td>7.90</td>\n",
              "      <td>7.19</td>\n",
              "    </tr>\n",
              "    <tr>\n",
              "      <th>1948-09-01</th>\n",
              "      <td>-3.95</td>\n",
              "      <td>-3.88</td>\n",
              "      <td>-2.65</td>\n",
              "      <td>-4.46</td>\n",
              "      <td>-3.17</td>\n",
              "      <td>-0.23</td>\n",
              "      <td>-0.93</td>\n",
              "      <td>-3.08</td>\n",
              "      <td>-0.91</td>\n",
              "      <td>-3.42</td>\n",
              "    </tr>\n",
              "    <tr>\n",
              "      <th>2007-09-01</th>\n",
              "      <td>3.76</td>\n",
              "      <td>1.60</td>\n",
              "      <td>5.40</td>\n",
              "      <td>7.80</td>\n",
              "      <td>4.20</td>\n",
              "      <td>2.11</td>\n",
              "      <td>-0.72</td>\n",
              "      <td>3.58</td>\n",
              "      <td>3.57</td>\n",
              "      <td>2.68</td>\n",
              "    </tr>\n",
              "    <tr>\n",
              "      <th>1932-09-01</th>\n",
              "      <td>-0.86</td>\n",
              "      <td>8.50</td>\n",
              "      <td>-2.45</td>\n",
              "      <td>-10.16</td>\n",
              "      <td>-5.60</td>\n",
              "      <td>0.24</td>\n",
              "      <td>3.06</td>\n",
              "      <td>-11.92</td>\n",
              "      <td>-4.65</td>\n",
              "      <td>-4.13</td>\n",
              "    </tr>\n",
              "    <tr>\n",
              "      <th>1973-09-01</th>\n",
              "      <td>5.87</td>\n",
              "      <td>7.85</td>\n",
              "      <td>4.57</td>\n",
              "      <td>9.27</td>\n",
              "      <td>-2.80</td>\n",
              "      <td>7.67</td>\n",
              "      <td>7.43</td>\n",
              "      <td>0.79</td>\n",
              "      <td>7.90</td>\n",
              "      <td>7.19</td>\n",
              "    </tr>\n",
              "    <tr>\n",
              "      <th>1984-09-01</th>\n",
              "      <td>1.26</td>\n",
              "      <td>-0.14</td>\n",
              "      <td>-2.50</td>\n",
              "      <td>2.11</td>\n",
              "      <td>-3.90</td>\n",
              "      <td>4.04</td>\n",
              "      <td>0.02</td>\n",
              "      <td>-4.41</td>\n",
              "      <td>4.81</td>\n",
              "      <td>2.26</td>\n",
              "    </tr>\n",
              "    <tr>\n",
              "      <th>1964-09-01</th>\n",
              "      <td>1.68</td>\n",
              "      <td>5.04</td>\n",
              "      <td>4.77</td>\n",
              "      <td>3.08</td>\n",
              "      <td>1.15</td>\n",
              "      <td>-1.02</td>\n",
              "      <td>3.47</td>\n",
              "      <td>2.73</td>\n",
              "      <td>1.85</td>\n",
              "      <td>4.09</td>\n",
              "    </tr>\n",
              "    <tr>\n",
              "      <th>1985-09-01</th>\n",
              "      <td>-0.65</td>\n",
              "      <td>-3.26</td>\n",
              "      <td>-3.93</td>\n",
              "      <td>-1.31</td>\n",
              "      <td>-4.76</td>\n",
              "      <td>-4.20</td>\n",
              "      <td>-4.31</td>\n",
              "      <td>-3.89</td>\n",
              "      <td>-5.31</td>\n",
              "      <td>-4.92</td>\n",
              "    </tr>\n",
              "    <tr>\n",
              "      <th>2003-09-01</th>\n",
              "      <td>1.11</td>\n",
              "      <td>-4.07</td>\n",
              "      <td>-3.75</td>\n",
              "      <td>-2.31</td>\n",
              "      <td>-0.89</td>\n",
              "      <td>-5.66</td>\n",
              "      <td>-4.53</td>\n",
              "      <td>0.23</td>\n",
              "      <td>3.90</td>\n",
              "      <td>0.33</td>\n",
              "    </tr>\n",
              "  </tbody>\n",
              "</table>\n",
              "</div>"
            ],
            "text/plain": [
              "            NoDur  Durbl  Manuf  Enrgy  ...  Shops  Hlth   Utils  Other\n",
              "date                                    ...                            \n",
              "1973-09-01   5.87   7.85   4.57   9.27  ...   7.43   0.79   7.90   7.19\n",
              "1973-09-01   5.87   7.85   4.57   9.27  ...   7.43   0.79   7.90   7.19\n",
              "1948-09-01  -3.95  -3.88  -2.65  -4.46  ...  -0.93  -3.08  -0.91  -3.42\n",
              "2007-09-01   3.76   1.60   5.40   7.80  ...  -0.72   3.58   3.57   2.68\n",
              "1932-09-01  -0.86   8.50  -2.45 -10.16  ...   3.06 -11.92  -4.65  -4.13\n",
              "1973-09-01   5.87   7.85   4.57   9.27  ...   7.43   0.79   7.90   7.19\n",
              "1984-09-01   1.26  -0.14  -2.50   2.11  ...   0.02  -4.41   4.81   2.26\n",
              "1964-09-01   1.68   5.04   4.77   3.08  ...   3.47   2.73   1.85   4.09\n",
              "1985-09-01  -0.65  -3.26  -3.93  -1.31  ...  -4.31  -3.89  -5.31  -4.92\n",
              "2003-09-01   1.11  -4.07  -3.75  -2.31  ...  -4.53   0.23   3.90   0.33\n",
              "\n",
              "[10 rows x 10 columns]"
            ]
          },
          "metadata": {
            "tags": []
          },
          "execution_count": 8
        }
      ]
    },
    {
      "cell_type": "code",
      "metadata": {
        "id": "Q-e1ykzb2eyq",
        "colab_type": "code",
        "colab": {
          "base_uri": "https://localhost:8080/",
          "height": 442
        },
        "outputId": "c9df250a-566b-4c89-b1db-b0b0f936edfe"
      },
      "source": [
        "sim_T"
      ],
      "execution_count": null,
      "outputs": [
        {
          "output_type": "execute_result",
          "data": {
            "text/html": [
              "<div>\n",
              "<style scoped>\n",
              "    .dataframe tbody tr th:only-of-type {\n",
              "        vertical-align: middle;\n",
              "    }\n",
              "\n",
              "    .dataframe tbody tr th {\n",
              "        vertical-align: top;\n",
              "    }\n",
              "\n",
              "    .dataframe thead th {\n",
              "        text-align: right;\n",
              "    }\n",
              "</style>\n",
              "<table border=\"1\" class=\"dataframe\">\n",
              "  <thead>\n",
              "    <tr style=\"text-align: right;\">\n",
              "      <th></th>\n",
              "      <th>NoDur</th>\n",
              "      <th>Durbl</th>\n",
              "      <th>Manuf</th>\n",
              "      <th>Enrgy</th>\n",
              "      <th>HiTec</th>\n",
              "      <th>Telcm</th>\n",
              "      <th>Shops</th>\n",
              "      <th>Hlth</th>\n",
              "      <th>Utils</th>\n",
              "      <th>Other</th>\n",
              "    </tr>\n",
              "    <tr>\n",
              "      <th>date</th>\n",
              "      <th></th>\n",
              "      <th></th>\n",
              "      <th></th>\n",
              "      <th></th>\n",
              "      <th></th>\n",
              "      <th></th>\n",
              "      <th></th>\n",
              "      <th></th>\n",
              "      <th></th>\n",
              "      <th></th>\n",
              "    </tr>\n",
              "  </thead>\n",
              "  <tbody>\n",
              "    <tr>\n",
              "      <th>1973-09-01</th>\n",
              "      <td>5.87</td>\n",
              "      <td>7.85</td>\n",
              "      <td>4.57</td>\n",
              "      <td>9.27</td>\n",
              "      <td>-2.80</td>\n",
              "      <td>7.67</td>\n",
              "      <td>7.43</td>\n",
              "      <td>0.79</td>\n",
              "      <td>7.90</td>\n",
              "      <td>7.19</td>\n",
              "    </tr>\n",
              "    <tr>\n",
              "      <th>1973-09-01</th>\n",
              "      <td>5.87</td>\n",
              "      <td>7.85</td>\n",
              "      <td>4.57</td>\n",
              "      <td>9.27</td>\n",
              "      <td>-2.80</td>\n",
              "      <td>7.67</td>\n",
              "      <td>7.43</td>\n",
              "      <td>0.79</td>\n",
              "      <td>7.90</td>\n",
              "      <td>7.19</td>\n",
              "    </tr>\n",
              "    <tr>\n",
              "      <th>1948-09-01</th>\n",
              "      <td>-3.95</td>\n",
              "      <td>-3.88</td>\n",
              "      <td>-2.65</td>\n",
              "      <td>-4.46</td>\n",
              "      <td>-3.17</td>\n",
              "      <td>-0.23</td>\n",
              "      <td>-0.93</td>\n",
              "      <td>-3.08</td>\n",
              "      <td>-0.91</td>\n",
              "      <td>-3.42</td>\n",
              "    </tr>\n",
              "    <tr>\n",
              "      <th>2007-09-01</th>\n",
              "      <td>3.76</td>\n",
              "      <td>1.60</td>\n",
              "      <td>5.40</td>\n",
              "      <td>7.80</td>\n",
              "      <td>4.20</td>\n",
              "      <td>2.11</td>\n",
              "      <td>-0.72</td>\n",
              "      <td>3.58</td>\n",
              "      <td>3.57</td>\n",
              "      <td>2.68</td>\n",
              "    </tr>\n",
              "    <tr>\n",
              "      <th>1932-09-01</th>\n",
              "      <td>-0.86</td>\n",
              "      <td>8.50</td>\n",
              "      <td>-2.45</td>\n",
              "      <td>-10.16</td>\n",
              "      <td>-5.60</td>\n",
              "      <td>0.24</td>\n",
              "      <td>3.06</td>\n",
              "      <td>-11.92</td>\n",
              "      <td>-4.65</td>\n",
              "      <td>-4.13</td>\n",
              "    </tr>\n",
              "    <tr>\n",
              "      <th>...</th>\n",
              "      <td>...</td>\n",
              "      <td>...</td>\n",
              "      <td>...</td>\n",
              "      <td>...</td>\n",
              "      <td>...</td>\n",
              "      <td>...</td>\n",
              "      <td>...</td>\n",
              "      <td>...</td>\n",
              "      <td>...</td>\n",
              "      <td>...</td>\n",
              "    </tr>\n",
              "    <tr>\n",
              "      <th>2014-04-01</th>\n",
              "      <td>1.22</td>\n",
              "      <td>0.27</td>\n",
              "      <td>0.79</td>\n",
              "      <td>5.67</td>\n",
              "      <td>-1.19</td>\n",
              "      <td>0.23</td>\n",
              "      <td>-0.91</td>\n",
              "      <td>-0.30</td>\n",
              "      <td>3.97</td>\n",
              "      <td>-1.55</td>\n",
              "    </tr>\n",
              "    <tr>\n",
              "      <th>1934-04-01</th>\n",
              "      <td>3.10</td>\n",
              "      <td>-6.85</td>\n",
              "      <td>-2.75</td>\n",
              "      <td>-1.99</td>\n",
              "      <td>-2.33</td>\n",
              "      <td>-1.25</td>\n",
              "      <td>-1.21</td>\n",
              "      <td>8.00</td>\n",
              "      <td>-3.75</td>\n",
              "      <td>-1.65</td>\n",
              "    </tr>\n",
              "    <tr>\n",
              "      <th>1978-04-01</th>\n",
              "      <td>6.90</td>\n",
              "      <td>9.68</td>\n",
              "      <td>11.41</td>\n",
              "      <td>6.76</td>\n",
              "      <td>13.31</td>\n",
              "      <td>2.96</td>\n",
              "      <td>10.88</td>\n",
              "      <td>9.20</td>\n",
              "      <td>0.23</td>\n",
              "      <td>9.33</td>\n",
              "    </tr>\n",
              "    <tr>\n",
              "      <th>1929-04-01</th>\n",
              "      <td>1.80</td>\n",
              "      <td>-0.98</td>\n",
              "      <td>2.30</td>\n",
              "      <td>0.74</td>\n",
              "      <td>1.78</td>\n",
              "      <td>3.39</td>\n",
              "      <td>3.75</td>\n",
              "      <td>1.48</td>\n",
              "      <td>5.13</td>\n",
              "      <td>0.44</td>\n",
              "    </tr>\n",
              "    <tr>\n",
              "      <th>1936-04-01</th>\n",
              "      <td>-4.45</td>\n",
              "      <td>-10.15</td>\n",
              "      <td>-8.93</td>\n",
              "      <td>-10.28</td>\n",
              "      <td>-8.63</td>\n",
              "      <td>-5.66</td>\n",
              "      <td>-5.24</td>\n",
              "      <td>-9.19</td>\n",
              "      <td>-8.34</td>\n",
              "      <td>-7.43</td>\n",
              "    </tr>\n",
              "  </tbody>\n",
              "</table>\n",
              "<p>120 rows × 10 columns</p>\n",
              "</div>"
            ],
            "text/plain": [
              "            NoDur  Durbl  Manuf  Enrgy  ...  Shops  Hlth   Utils  Other\n",
              "date                                    ...                            \n",
              "1973-09-01   5.87   7.85   4.57   9.27  ...   7.43   0.79   7.90   7.19\n",
              "1973-09-01   5.87   7.85   4.57   9.27  ...   7.43   0.79   7.90   7.19\n",
              "1948-09-01  -3.95  -3.88  -2.65  -4.46  ...  -0.93  -3.08  -0.91  -3.42\n",
              "2007-09-01   3.76   1.60   5.40   7.80  ...  -0.72   3.58   3.57   2.68\n",
              "1932-09-01  -0.86   8.50  -2.45 -10.16  ...   3.06 -11.92  -4.65  -4.13\n",
              "...           ...    ...    ...    ...  ...    ...    ...    ...    ...\n",
              "2014-04-01   1.22   0.27   0.79   5.67  ...  -0.91  -0.30   3.97  -1.55\n",
              "1934-04-01   3.10  -6.85  -2.75  -1.99  ...  -1.21   8.00  -3.75  -1.65\n",
              "1978-04-01   6.90   9.68  11.41   6.76  ...  10.88   9.20   0.23   9.33\n",
              "1929-04-01   1.80  -0.98   2.30   0.74  ...   3.75   1.48   5.13   0.44\n",
              "1936-04-01  -4.45 -10.15  -8.93 -10.28  ...  -5.24  -9.19  -8.34  -7.43\n",
              "\n",
              "[120 rows x 10 columns]"
            ]
          },
          "metadata": {
            "tags": []
          },
          "execution_count": 9
        }
      ]
    },
    {
      "cell_type": "markdown",
      "metadata": {
        "id": "pjM_iIcN3Dye",
        "colab_type": "text"
      },
      "source": [
        "•\tCalculate the tangency and minimum variance portfolio weights from these simulated data.  Then, apply these weights to the actual (NOT SIMULATED) returns on the industries (e.g., the weights come from the simulated returns, but they are applied to true/actual returns on the industries)."
      ]
    },
    {
      "cell_type": "code",
      "metadata": {
        "id": "mhZ5Pant6XzQ",
        "colab_type": "code",
        "colab": {
          "base_uri": "https://localhost:8080/",
          "height": 131
        },
        "outputId": "d7a0726e-004e-4d61-e75d-e66537810dc0"
      },
      "source": [
        "# Find mean (R) and standard deviation (SD) for each industry\n",
        "sim_mean = []\n",
        "sim_sd = []\n",
        "for colnames in sim_T:\n",
        "    sim_mean.append(sum(sim_T[colnames]) / len(sim_T[colnames]))\n",
        "    sim_sd.append(np.std(sim_T[colnames], ddof = 1))\n",
        "\n",
        "# Create matrix containing return of the simulated data (10 columns), create covariance matrix   \n",
        "sim_var = np.square(sim_sd)\n",
        "sim_cov = sim_T.cov()\n",
        "sim_covInv = np.linalg.pinv(sim_cov.values)\n",
        "sim_ones = np.transpose([1]*N)\n",
        "sim_onesT = np.transpose(sim_ones)\n",
        "\n",
        "# Minimum Variance Portfolio (MVP) weights\n",
        "sim_weightMVP = np.matmul(sim_covInv, sim_ones) / np.matmul(np.matmul(sim_onesT, sim_covInv), sim_ones)\n",
        "\n",
        "# Tangency weights V^(-1)R/(1'V^(-1)R)\n",
        "sim_weightTangent = np.matmul(sim_covInv, sim_mean) / np.matmul(np.matmul(sim_onesT, sim_covInv), sim_mean)\n",
        "\n",
        "\n",
        "print(\"simulated MVP weight:\", sim_weightMVP)\n",
        "print(\"simulated Tangency weight:\",sim_weightTangent)\n",
        "print(\"simulated MVP weight shape:\",sim_weightMVP.shape)\n",
        "print(\"transposed industry return in part(a) shape:\",np.transpose(industryReturns).shape)\n",
        "\n",
        "# Apply the weights to actual returns on the industries\n",
        "sim_w_mvp_R = np.matmul(sim_weightMVP, industryMean)\n",
        "sim_w_t_R = np.matmul(sim_weightTangent, industryMean)\n",
        "print(sim_w_mvp_R, sim_w_t_R)"
      ],
      "execution_count": null,
      "outputs": [
        {
          "output_type": "stream",
          "text": [
            "simulated MVP weight: [ 0.48267149 -0.30778924 -0.12096746  0.0950948   0.14981208  0.9820069\n",
            "  0.01474073  0.06718226  0.07638834 -0.43913988]\n",
            "simulated Tangency weight: [ 1.11370421 -0.47507661 -0.98458099  0.59747152  0.23731038  1.1354017\n",
            "  0.82013027 -0.25335358 -0.04304439 -1.14796251]\n",
            "simulated MVP weight shape: (10,)\n",
            "transposed industry return in part(a) shape: (10, 1069)\n",
            "0.8855820145648117 0.9001586198867841\n"
          ],
          "name": "stdout"
        }
      ]
    },
    {
      "cell_type": "markdown",
      "metadata": {
        "id": "UsErzzc13G8X",
        "colab_type": "text"
      },
      "source": [
        "•\tThen repeat 1,000 times and save the mean and standard deviation of each MVP and Tangency portfolio you calculated under each simulation of data used to get the weights and applied to actual returns."
      ]
    },
    {
      "cell_type": "code",
      "metadata": {
        "id": "R00PTqxm28rv",
        "colab_type": "code",
        "colab": {}
      },
      "source": [
        "sim_MVP_means = []\n",
        "sim_MVP_sds = []\n",
        "sim_Tangency_means = []\n",
        "sim_Tangency_sds = []\n",
        "\n",
        "sim_N = 1000\n",
        "N = 10\n",
        "T = 12 # the number of months\n",
        "\n",
        "for i in range(sim_N):\n",
        "  sim_means = []\n",
        "  sim_sds = []\n",
        "  simulations = []\n",
        "\n",
        "  # simulate a portfolio\n",
        "  for _ in range(T):\n",
        "    number = np.random.choice(range(1, T + 1))\n",
        "    sample_month = industryReturns[industryReturns.index.month == number]\n",
        "    simulations.append(sample_month.sample(n = N, replace = True))\n",
        "    sim_T = pd.concat(simulations)\n",
        "    sim_colnames = sim_T.columns.tolist()\n",
        "\n",
        "  # calculate mean and std dev of portfolio\n",
        "  for sim_colnames in sim_T:\n",
        "    sim_means.append(sum(sim_T[sim_colnames]) / len(sim_T[sim_colnames]))\n",
        "    sim_sds.append(np.std(sim_T[sim_colnames], ddof = 1))\n",
        "\n",
        "  # create matrix containing return of the simulated data (10 columns), create covariance matrix   \n",
        "  sim_vars = np.square(sim_sds)\n",
        "  sim_covs = sim_T.cov()\n",
        "  sim_covsInv = np.linalg.pinv(sim_covs.values)\n",
        "  sim_ones = np.transpose([1]*N)\n",
        "  sim_onesT = np.transpose(sim_ones)\n",
        "\n",
        "  ## MVP\n",
        "  # minimum Variance Portfolio (MVP) weights\n",
        "  sim_weightMVPs = np.matmul(sim_covsInv, sim_ones) / np.matmul(np.matmul(sim_onesT, sim_covsInv), sim_ones)\n",
        "\n",
        "  # MVP standard deviation(w’*V*w) and MVP mean (w’*R). Note: V and R here are real data, not simulated!\n",
        "  sim_MVP_var = np.matmul(np.matmul(np.transpose(sim_weightMVPs), industryCov.to_numpy()), sim_weightMVPs)\n",
        "  sim_MVP_sd = sim_MVP_var**(1/2)\n",
        "  sim_MVP_mean = np.matmul(np.transpose(sim_weightMVPs), np.array(industryMean))\n",
        "\n",
        "  ## Tangency\n",
        "  # Tangency weights\n",
        "  sim_weightTangent = np.matmul(sim_covsInv, sim_means) / np.matmul(np.matmul(sim_onesT, sim_covsInv), sim_means)\n",
        "\n",
        "  # Tangency standard deviation (w_tang’*V*w_tang) and Tangency mean (w'*R). Note: V and R here are real data, not simulated!\n",
        "  sim_Tangency_var = np.matmul(np.matmul(np.transpose(sim_weightTangent), industryCov.to_numpy()), sim_weightTangent)\n",
        "  sim_Tangency_sd = sim_Tangency_var**(1/2)\n",
        "  sim_Tangency_mean = np.matmul(np.transpose(sim_weightTangent), np.array(industryMean))\n",
        "\n",
        "  sim_MVP_means.append(sim_MVP_mean)\n",
        "  sim_MVP_sds.append(sim_MVP_sd)\n",
        "  sim_Tangency_means.append(sim_Tangency_mean)\n",
        "  sim_Tangency_sds.append(sim_Tangency_sd)"
      ],
      "execution_count": null,
      "outputs": []
    },
    {
      "cell_type": "markdown",
      "metadata": {
        "id": "rKEnOjCh3JK7",
        "colab_type": "text"
      },
      "source": [
        "•\tOn two separate plots of mean-standard deviation space, plot the simulated MVP and Tangency portfolios relative to the ones calculated using weights estimated from the real data.  (One plot for MVP and one for Tangency portfolios, each plot will contain 1001 data points)."
      ]
    },
    {
      "cell_type": "code",
      "metadata": {
        "id": "E6lxRncP3IBx",
        "colab_type": "code",
        "colab": {
          "base_uri": "https://localhost:8080/",
          "height": 421
        },
        "outputId": "b33e3d33-e1bc-4081-fa81-47dbf907b1af"
      },
      "source": [
        "sim_MVP_sds = np.asarray(sim_MVP_sds)\n",
        "sim_MVP_means = np.asarray(sim_MVP_means)\n",
        "sim_Tangency_means = np.asarray(sim_Tangency_means)\n",
        "sim_Tangency_sds = np.asarray(sim_Tangency_sds)\n",
        "\n",
        "#mvp_fit = np.polyfit(sim_MVP_means, sim_MVP_sds, 2)\n",
        "#mvp_eq = np.poly1d(mvp_fit)\n",
        "\n",
        "fig=plt.figure(figsize=(12,6))\n",
        "plt.plot(MVP_SD, MVP_Mean,'.', markersize=10, label = 'Real Data MVP')\n",
        "plt.plot(sim_MVP_sds, sim_MVP_means,'.', markersize=10, label = 'Simulation MVP')\n",
        "plt.title('Question 1d): Real Data MVP and Simulation MVP', fontsize=16)\n",
        "plt.xlabel('Standard Deviation (%)')\n",
        "plt.ylabel('Mean Return (%)');\n",
        "plt.legend()\n",
        "plt.xlim(0, 30)\n",
        "plt.ylim(0, 3)"
      ],
      "execution_count": null,
      "outputs": [
        {
          "output_type": "execute_result",
          "data": {
            "text/plain": [
              "(0.0, 3.0)"
            ]
          },
          "metadata": {
            "tags": []
          },
          "execution_count": 14
        },
        {
          "output_type": "display_data",
          "data": {
            "image/png": "[encoded data removed]",
            "text/plain": [
              "<Figure size 864x432 with 1 Axes>"
            ]
          },
          "metadata": {
            "tags": [],
            "needs_background": "light"
          }
        }
      ]
    },
    {
      "cell_type": "code",
      "metadata": {
        "id": "KmS-HHva3Kc5",
        "colab_type": "code",
        "colab": {
          "base_uri": "https://localhost:8080/",
          "height": 421
        },
        "outputId": "02e6b8a4-e6d4-40c4-f9b8-91d04c4b249d"
      },
      "source": [
        "#tan_fit = np.polyfit(sim_Tangency_means, sim_Tangency_sds, 1)\n",
        "#tan_eq = np.poly1d(tan_fit)\n",
        "\n",
        "#tan_x = np.linspace(-1000,1000,num = 1000)\n",
        "#tan_y = tan_eq(tan_x)\n",
        "fig=plt.figure(figsize=(12,6))\n",
        "plt.plot(Tan_SD, Tan_Mean, '.', markersize=10, label = 'Real Data Tangency Pt')\n",
        "plt.plot(sim_Tangency_sds, sim_Tangency_means, '.', markersize=10, label = 'Simulation Tagency Pt')\n",
        "plt.title('Question 1d): Real Data Tangency Pt and Simulation Tangency Pt', fontsize=16)\n",
        "plt.xlabel('Standard Deviation (%)')\n",
        "plt.ylabel('Mean Return (%)');\n",
        "plt.legend()\n",
        "plt.xlim(0, 30)\n",
        "plt.ylim(0, 3)"
      ],
      "execution_count": null,
      "outputs": [
        {
          "output_type": "execute_result",
          "data": {
            "text/plain": [
              "(0.0, 3.0)"
            ]
          },
          "metadata": {
            "tags": []
          },
          "execution_count": 15
        },
        {
          "output_type": "display_data",
          "data": {
            "image/png": "[encoded data removed]",
            "text/plain": [
              "<Figure size 864x432 with 1 Axes>"
            ]
          },
          "metadata": {
            "tags": [],
            "needs_background": "light"
          }
        }
      ]
    },
    {
      "cell_type": "markdown",
      "metadata": {
        "id": "0C7TLC_j3Lry",
        "colab_type": "text"
      },
      "source": [
        "•\tThese plots indicate the estimation error (under the empirical distribution) of the Tangency and MVP weights.  How does the estimation error compare under the empirical simulations versus the normal distribution simulations of question d)?"
      ]
    },
    {
      "cell_type": "markdown",
      "metadata": {
        "id": "HZqvbEiW3xg7",
        "colab_type": "text"
      },
      "source": [
        "## Question 2\n",
        "Solve by hand the following.  There are three securities A, B, C with mean returns of 17%, 13%, and 9%, respectively.  Furthermore, their standard deviations are 20%, 40%, and 15%, respectively.  The correlation between A and B is 0.50, between B and C is 0.30, and between A and C is zero.  The risk-free rate is 5%.\n",
        "\n"
      ]
    },
    {
      "cell_type": "markdown",
      "metadata": {
        "id": "bKx7sXWT3-fY",
        "colab_type": "text"
      },
      "source": [
        "a)\tFind the MVP and Tangent portfolios of these three assets, and calculate each of the portfolio return means and standard deviations."
      ]
    },
    {
      "cell_type": "markdown",
      "metadata": {
        "id": "IlDbswhoW53T",
        "colab_type": "text"
      },
      "source": [
        "We're given the following:\n",
        "\n",
        "Return Vector for the three securities:\n",
        "\n",
        "R = [0.17; 0.13; 0.09]\n",
        "\n",
        "Variance for the three securities are:\n",
        "\n",
        "Var_A = 0.2*0.2 = 0.04\n",
        "\n",
        "Var_B = 0.4*0.4 = 0.16\n",
        "\n",
        "Var_C = 0.15*0.15 = 0.0225\n",
        "\n",
        "Covariance AB = 0.5*0.2*0.4 = 0.04\n",
        "\n",
        "Covariance BC = 0.3*0.4*0.15 = 0.018\n",
        "\n",
        "Covariance AC = 0\n",
        "\n",
        "Therefore, the covariance matrix is given by:\n",
        "\n",
        "V = [0.04, 0.04, 0; 0.04, 0.16, 0.018; 0, 0.018, 0.0225]\n",
        "\n",
        "We can then calculate the weight for MVP and Tangency portfolios as follow (1s denotes column vector of ones):\n",
        "\n",
        "weightMVP = V^-1*1s / (1s'*V^-1*1s) = [0.4314; -0.1003; 0.6689]\n",
        "weightTangent = V^-1*(R - Rf*1s) / [1s'*V^-1*(R - Rf*1s)] = [0.6917, -0.1281, 0.4364]\n",
        "\n",
        "Therefore, the return means and standard deviations are given by:\n",
        "\n",
        "MVP:\n",
        "\n",
        "MVP_mean = weightMVP'*R = 0.1205\n",
        "\n",
        "MVP_Var = weightMVP'*V*weightMVP = 0.0132\n",
        "\n",
        "Tangency Portfolio:\n",
        "\n",
        "Tangent_mean = weightTangent'*R = 0.1402\n",
        "\n",
        "Tangent_Var = weightTangent'*V*weightTangent = 0.0169\n"
      ]
    },
    {
      "cell_type": "markdown",
      "metadata": {
        "id": "I8_6Yd2o4Ix_",
        "colab_type": "text"
      },
      "source": [
        "b)\tWrite the equation for the efficient frontier of these three assets."
      ]
    },
    {
      "cell_type": "markdown",
      "metadata": {
        "id": "yvvC9rQ3cYKN",
        "colab_type": "text"
      },
      "source": [
        "We have the following two points for the efficient frontier (in the mean-standard deviation space):\n",
        "\n",
        "MVP: (0.0132^0.5, 0.1205) = (0.1149, 0.1205)\n",
        "Tangency: (0.0169^0.5, 0.1402) = (0.13, 0.1402)\n",
        "\n",
        "Since the efficient frontier is a parabola and we know that MVP is the vertex, we can mirrow the Tangency portfolio for the 3rd point:\n",
        "\n",
        "3rd Point: (0.13, 0.1402 - 2*(0.1402 - 0.1204)) = (0.13, 0.1006)\n",
        "\n",
        "With these three points, we can solve for the parabola equation of x = a*y^2 + b*y + c, where x = Standard Deviation, y = Mean Return, and derive the equation of the efficient frontier as follow:\n",
        "\n",
        "**x = 38.52*y^2 - 9.275*y + 0.673**\n",
        "\n"
      ]
    },
    {
      "cell_type": "code",
      "metadata": {
        "id": "NscuSmwPgjfO",
        "colab_type": "code",
        "colab": {
          "base_uri": "https://localhost:8080/",
          "height": 559
        },
        "outputId": "03695fc5-13b6-400d-d627-29c4805d5c2e"
      },
      "source": [
        "df6 = pd.DataFrame({'x6':[0.1149, 0.13, 0.13], \n",
        "                  'y6':[0.1205, 0.1402, 0.1006]})\n",
        "print(df6)\n",
        "\n",
        "fit6 = np.polyfit(df6['y6'], df6['x6'], 2)\n",
        "equation6 = np.poly1d(fit6)\n",
        "print (\"The fit coefficients for 2b) are a = {0:.4f}, b = {1:.4f} c = {2:.4f}\".format(*fit6))\n",
        "print (equation6)\n",
        "\n",
        "plt.figure()\n",
        "x6 = np.linspace(0, 1,num=50)\n",
        "y6 = 38.52 * x6 **2 - 9.275 * x6 + 0.6733\n",
        "fig=plt.figure(figsize=(12,6))\n",
        "plt.plot(y6, x6, '.', markersize=10, label = 'Efficient Frontier')\n",
        "plt.plot()\n",
        "plt.xlabel('Standard Deviation (%)')\n",
        "plt.ylabel('Mean Return (%)')\n",
        "plt.title('Question 2b): Mean-Standard Deviation Diagram, Efficient Frontier', fontsize=16)\n",
        "plt.xlim(0, 8)\n",
        "plt.ylim(0, 0.6)"
      ],
      "execution_count": null,
      "outputs": [
        {
          "output_type": "stream",
          "text": [
            "       x6      y6\n",
            "0  0.1149  0.1205\n",
            "1  0.1300  0.1402\n",
            "2  0.1300  0.1006\n",
            "The fit coefficients for 2b) are a = 38.5175, b = -9.2750 c = 0.6733\n",
            "       2\n",
            "38.52 x - 9.275 x + 0.6733\n"
          ],
          "name": "stdout"
        },
        {
          "output_type": "execute_result",
          "data": {
            "text/plain": [
              "(0.0, 0.6)"
            ]
          },
          "metadata": {
            "tags": []
          },
          "execution_count": 23
        },
        {
          "output_type": "display_data",
          "data": {
            "text/plain": [
              "<Figure size 432x288 with 0 Axes>"
            ]
          },
          "metadata": {
            "tags": []
          }
        },
        {
          "output_type": "display_data",
          "data": {
            "image/png": "[encoded data removed]",
            "text/plain": [
              "<Figure size 864x432 with 1 Axes>"
            ]
          },
          "metadata": {
            "tags": [],
            "needs_background": "light"
          }
        }
      ]
    },
    {
      "cell_type": "markdown",
      "metadata": {
        "id": "b1OYTodEgt8t",
        "colab_type": "text"
      },
      "source": [
        "c)\tFind the portfolio of A, B, C that gives the lowest possible variance for a return of 13%, and find the portfolio that gives the highest possible return for a standard deviation of 15%.  Calculate the Sharpe ratios of these two portfolios."
      ]
    },
    {
      "cell_type": "markdown",
      "metadata": {
        "id": "41H4gMP1gzYW",
        "colab_type": "text"
      },
      "source": [
        "1) We need to find the weight, w, such that:\n",
        "\n",
        "w1'*R = 0.13 = Rp\n",
        "\n",
        "w1'*1 = 1\n",
        "\n",
        "w1'*V*w1 = (38.52*0.13^2 - 9.275*0.13 + 0.6733)^2 = 0.014\n",
        "\n",
        "Therefore, we can solve for w:\n",
        "\n",
        "w1 = V^-1*(R 1)*A^-1*(Rp; 1)\n",
        "\n",
        "where: A = (R 1)'*V^-1*(R 1)\n",
        "\n",
        "This gives:\n",
        "\n",
        "w1 = [0.5569; -0.1137; 0.5569]\n",
        "\n",
        "The Standard Deviation of this portfolio is given by: 0.014^0.5 = 0.1183\n",
        "\n",
        "The Sharpe Ratio is given by:\n",
        "\n",
        "**Sharpe Ratio 1 = (w1'*R - Rf) / SD = (0.13 - 0.05) / 0.1183 = 0.676**\n",
        "\n",
        "2) With Standard Deviation = 0.15, we know that on the efficient frontier:\n",
        "\n",
        "0.15 = 38.52R^2 - 9.275R + 0.673\n",
        "\n",
        "The maximum return, R, that satisfies the equation is: R = 0.15\n",
        "\n",
        "Therefore, w2 = V^-1*(R 1)*A^-1*(Rp; 1)\n",
        "\n",
        "And this gives: w2 = [0.8209; -0.1419; 0.3209]\n",
        "\n",
        "The Sharpe Ratio for this portfolio is given by:\n",
        "\n",
        "**Sharpe Ratio 2 = (w2'*R - Rf) / SD = 0.667**"
      ]
    },
    {
      "cell_type": "markdown",
      "metadata": {
        "id": "WyXucBiNrP6L",
        "colab_type": "text"
      },
      "source": [
        "d)\tRepeat c) allowing an investor to also invest in the riskless asset.  Find the portfolio that gives the lowest possible variance for a return of 13%, and find the portfolio that gives the highest possible return for a standard deviation of 15%.  Again, calculate the Sharpe ratios of these two portfolios.  Compare your answers to those in c).  Illustrate graphically (in a mean-standard deviation diagram) what is going on."
      ]
    },
    {
      "cell_type": "markdown",
      "metadata": {
        "id": "NNu1lsidrTyb",
        "colab_type": "text"
      },
      "source": [
        "Since the investor is now allowed to invest in the riskless asset, the portfolio will move from the efficient frontier to the Tangency portfolio.\n",
        "\n",
        "weight_Tangent = [0.6917; -0.1281; 0.4364]\n",
        "\n",
        "Therefore: Rp = weight_Tangent'*R = 0.1402\n",
        "\n",
        "Standard Deviation = w'*V*w^0.5 = 0.13\n",
        "\n",
        "Sharpe Ratio = (Rp - Rf) / SD = (0.1402 - 0.05) / 0.13 = 0.694\n",
        "\n",
        "Note that the optimal portfolio now lies on the Tangency line, given by:\n",
        "\n",
        "Mean Return = 0.05 + 0.694*Standard Deviation\n",
        "\n",
        "Therefore\n",
        "\n",
        "1) with 13% return:\n",
        "\n",
        "0.13 = 0.05 + 0.694*Standard Deviation\n",
        "\n",
        "Standard Deviation = 0.1153 -> Variance = 0.0133\n",
        "\n",
        "2) with 15% standard deviation:\n",
        "\n",
        "Mean Return = 0.05 + 0.694*0.15 = 0.1541\n",
        "\n",
        "Please see below for the graph.\n",
        "\n",
        "We can see that both "
      ]
    },
    {
      "cell_type": "code",
      "metadata": {
        "id": "ZhTlebVVrsN_",
        "colab_type": "code",
        "colab": {}
      },
      "source": [
        "weight_Tangent = [0.6917]"
      ],
      "execution_count": null,
      "outputs": []
    }
  ]
}