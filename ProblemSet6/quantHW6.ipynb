{
  "nbformat": 4,
  "nbformat_minor": 0,
  "metadata": {
    "colab": {
      "name": "quantHW6.ipynb",
      "provenance": [],
      "collapsed_sections": [],
      "toc_visible": true
    },
    "kernelspec": {
      "name": "python3",
      "display_name": "Python 3"
    }
  },
  "cells": [
    {
      "cell_type": "markdown",
      "metadata": {
        "id": "quyRIIL82Nys"
      },
      "source": [
        "This problem set explores momentum strategies, particularly industry momentum (so you don’t have to deal with 10,000 individual stocks) and also commodity momentum. Reading the Moskowitz and Grinblatt (1999) article will be useful. In order to proceed you need the file “Problem_Set6.xls”. This file contains four spreadsheets. The first contains returns on 30 value-weighted industries, the second contains the factor portfolios of Fama and French, the third contains 32 commodity return series (from futures contracts), and the fourth contains returns to 125 portfolios based on size and short-term, intermediate-term, and long-term past-return sorts to look at the horizon over which momentum and reversals work. In addition, the file contains monthly T-bill returns. The factor portfolios include RMRF (market), HML (book-to-market factor), SMB (size factor), and UMD (individual stock momentum factor)."
      ]
    },
    {
      "cell_type": "code",
      "metadata": {
        "id": "16dGM7p75As1",
        "outputId": "7ee7ad0a-0072-4378-c497-b42dec5b3912",
        "colab": {
          "base_uri": "https://localhost:8080/",
          "height": 72
        }
      },
      "source": [
        "import pandas as pd\n",
        "import numpy as np\n",
        "import statsmodels.api as sm\n",
        "from scipy.stats import f\n",
        "import matplotlib.pyplot as plt"
      ],
      "execution_count": 1,
      "outputs": [
        {
          "output_type": "stream",
          "text": [
            "/usr/local/lib/python3.6/dist-packages/statsmodels/tools/_testing.py:19: FutureWarning: pandas.util.testing is deprecated. Use the functions in the public API at pandas.testing instead.\n",
            "  import pandas.util.testing as tm\n"
          ],
          "name": "stderr"
        }
      ]
    },
    {
      "cell_type": "code",
      "metadata": {
        "id": "-RK1tG9u5FS8"
      },
      "source": [
        "#--------------------Read subsheet 1--------------------\n",
        "sheet1=pd.read_excel(\"Problem_Set6.xls\", sheet_name='30 industries', \n",
        "                     skiprows=3, index_col=None, na_values=-999)\n",
        "sheet1[\"Date\"] = pd.to_datetime(sheet1[\"Unnamed: 0\"], format=\"%Y%m\")\n",
        "industries = sheet1.set_index(\"Date\")\n",
        "industries = industries.loc[industries.index.dropna()]\n",
        "industries = industries.drop(\"Unnamed: 0\", axis = 1)\n",
        "\n",
        "#--------------------Read subsheet 2--------------------\n",
        "sheet2=pd.read_excel(\"Problem_Set6.xls\", sheet_name='Fama-French factors', \n",
        "                     skiprows=2, index_col=None, na_values=-999)\n",
        "sheet2[\"Date\"] = pd.to_datetime(sheet2[\"Unnamed: 0\"], format=\"%Y%m\")\n",
        "factors = sheet2.set_index(\"Date\")\n",
        "factors = factors.loc[factors.index.dropna()]\n",
        "factors = factors.drop(\"Unnamed: 0\", axis = 1)\n",
        "\n",
        "#--------------------Read subsheet 3--------------------\n",
        "sheet3=pd.read_excel(\"Problem_Set6.xls\", sheet_name='Commodities', \n",
        "                     index_col=None, na_values=-999)\n",
        "commodities = sheet3.set_index(\"time\")\n",
        "commodities = commodities.loc[commodities.index.dropna()]\n",
        "\n",
        "#--------------------Read subsheet 4--------------------\n",
        "sheet4_p1=pd.read_excel(\"Problem_Set6.xls\", sheet_name='125 Size-Past-return portfolios', \n",
        "                     skiprows=4, index_col=None, usecols=\"A:Z\", na_values=-999)\n",
        "sheet4_p1[\"Date\"] = pd.to_datetime(sheet4_p1[\"Past 1-month return\"], format=\"%Y%m\")\n",
        "p1_return = sheet4_p1.set_index(\"Date\")\n",
        "p1_return = p1_return.loc[p1_return.index.dropna()]\n",
        "p1_return = p1_return.drop(\"Past 1-month return\", axis = 1)\n",
        "\n",
        "sheet4_p212=pd.read_excel(\"Problem_Set6.xls\", sheet_name='125 Size-Past-return portfolios', \n",
        "                     skiprows=4, index_col=None, usecols=\"AA:AZ\", na_values=-999)\n",
        "sheet4_p212[\"Date\"] = pd.to_datetime(sheet4_p212[\"Past 2-12-month return\"], format=\"%Y%m\")\n",
        "p212_return = sheet4_p212.set_index(\"Date\")\n",
        "p212_return = p212_return.loc[p212_return.index.dropna()]\n",
        "p212_return = p212_return.drop(\"Past 2-12-month return\", axis = 1)\n",
        "\n",
        "sheet4_p1360=pd.read_excel(\"Problem_Set6.xls\", sheet_name='125 Size-Past-return portfolios', \n",
        "                     skiprows=4, index_col=None, usecols=\"BA:BZ\", na_values=-999)\n",
        "sheet4_p1360[\"Date\"] = pd.to_datetime(sheet4_p1360[\"Past 13-60-month return\"], format=\"%Y%m\")\n",
        "p1360_return = sheet4_p1360.set_index(\"Date\")\n",
        "p1360_return = p1360_return.loc[p1360_return.index.dropna()]\n",
        "p1360_return = p1360_return.drop(\"Past 13-60-month return\", axis = 1)"
      ],
      "execution_count": 2,
      "outputs": []
    },
    {
      "cell_type": "markdown",
      "metadata": {
        "id": "k6lCVt353hNF"
      },
      "source": [
        "## a)\tStart with the industry portfolio spreadsheet. Compute the 1-month, 1-month industry momentum portfolio by finding the three best and three worst performing industries in the previous month.  Then, take the equal weighted average return of the three best industries in the following month, and subtract from this the equal weighted average return of the three worst performing industries in the following month.  Calculate the time-series average return, t-statistic, Sharpe ratio, and standard deviation on this momentum strategy."
      ]
    },
    {
      "cell_type": "code",
      "metadata": {
        "id": "FG1PZ9S7155W"
      },
      "source": [
        "# Problem a)\n",
        "# Find best and worst performing 3 industries for each period\n",
        "\n",
        "maxdf = industries.apply(lambda x: pd.Series(x.nlargest(3).index.values), axis=1) # best three\n",
        "maxdf.columns = ['Max1', 'Max2', 'Max3']\n",
        "mindf = industries.apply(lambda x: pd.Series(x.nsmallest(3).index.values), axis=1) # worst three\n",
        "mindf.columns = ['Min1', 'Min2', 'Min3']\n",
        "\n",
        "#print(industries)\n",
        "#print(maxdf)\n",
        "#print(mindf)"
      ],
      "execution_count": 3,
      "outputs": []
    },
    {
      "cell_type": "code",
      "metadata": {
        "id": "RYvSgMBLv4TP",
        "outputId": "d5a106c9-877a-487d-8dec-ffa63c70a5e3",
        "colab": {
          "base_uri": "https://localhost:8080/",
          "height": 86
        }
      },
      "source": [
        "mom_pf = []\n",
        "for i in range(0,len(industries)-1):\n",
        "  temp = (1/3) * (industries.iloc[i+1,:][maxdf.iloc[i,0]] + industries.iloc[i+1,:][maxdf.iloc[i,1]] + \\\n",
        "                  industries.iloc[i+1,:][maxdf.iloc[i,2]] - industries.iloc[i+1,:][mindf.iloc[i,0]] - \\\n",
        "                  industries.iloc[i+1,:][mindf.iloc[i,1]] - industries.iloc[i+1,:][mindf.iloc[i,2]])\n",
        "  mom_pf.append(temp)\n",
        "\n",
        "print(\"mean: \", round(np.mean(mom_pf), 2))\n",
        "print(\"T-value: \", round(np.mean(mom_pf) * np.sqrt(len(industries)-1) / np.std(mom_pf), 2))\n",
        "print(\"Sharpe ratio: \", round((np.mean(mom_pf) - np.mean(factors.iloc[0:-4,:]['RF']))/np.std(mom_pf), 2))\n",
        "print(\"standard deviation: \", round(np.std(mom_pf), 2))"
      ],
      "execution_count": 4,
      "outputs": [
        {
          "output_type": "stream",
          "text": [
            "mean:  0.73\n",
            "T-value:  4.38\n",
            "Sharpe ratio:  0.08\n",
            "standard deviation:  5.41\n"
          ],
          "name": "stdout"
        }
      ]
    },
    {
      "cell_type": "markdown",
      "metadata": {
        "id": "pb9HeWzE3jd6"
      },
      "source": [
        "## b)\tFor the 1-month, 1-month strategy of part a), decompose its returns into three components:\n",
        "1)\tThe cross-sectional variance of industry sample mean returns (cross-sectional variance of the 30 industry sample means).\n",
        "2)\tThe cross-sectional variance of market betas times the average cross-autocovariance of returns to the market portfolio (you need to calculate this yourself).\n",
        "3)\tThe average cross-autocovariance of residual returns (with respect to the market model) for all industries.\n",
        "(Hint: you will need to estimate the betas and residual returns for each industry relative to the market model or CAPM.)\n",
        "\n",
        "To summarize the three components, momentum profits should be approximately the sum of the three, as follows:\n",
        "$$\n",
        "\\frac{1}{N} \\sum_{j=1}^{N} M o m_{j}=\\sigma_{\\mu}^{2}+\\sigma_{\\beta}^{2} \\operatorname{cov}\\left(\\widetilde{F}_{t}, \\widetilde{F}_{t-1}\\right)+\\frac{1}{N} \\sum_{j=1}^{N} \\operatorname{cov}\\left(\\varepsilon_{j t}, \\varepsilon_{j t-1}\\right)\n",
        "$$\n",
        "Which component is the greatest contributor to momentum profits?"
      ]
    },
    {
      "cell_type": "code",
      "metadata": {
        "id": "NyldMxxz3zAN",
        "outputId": "0c156ae0-8136-4479-d973-a53d8cf1b60d",
        "colab": {
          "base_uri": "https://localhost:8080/",
          "height": 34
        }
      },
      "source": [
        "# after doing a), we noticed that factors and industries have 1069, 1073 length, respectively. \n",
        "# We delete the last four rows in factors and rename it as factors_new\n",
        "factors_new = factors.iloc[0:-4,:]\n",
        "\n",
        "# first component\n",
        "var_mu = np.var(np.mean(industries))\n",
        "\n",
        "# second component\n",
        "beta = []\n",
        "residual = []\n",
        "for i in range(industries.shape[1]):\n",
        "  x = sm.add_constant(factors_new['RF']) \n",
        "  mod1 = sm.OLS(industries.iloc[:,i], x).fit()\n",
        "  residual.append(mod1.params[0]) \n",
        "  beta.append(mod1.params[1])\n",
        "\n",
        "var_beta = np.var(beta)\n",
        "cov_mkt = np.cov(factors_new['Mkt-RF'][0:len(factors_new)-1], factors_new['Mkt-RF'][1:len(factors_new)])\n",
        "second_comp = var_beta * cov_mkt[0,1]\n",
        "\n",
        "# third component\n",
        "cov_sum = []\n",
        "for i in range(len(residual)):\n",
        "  temp = np.cov(residual[0:len(residual)-1], residual[1:len(residual)])\n",
        "  cov_sum.append(temp)\n",
        "third_comp = np.sum(cov_sum) / len(residual)\n",
        "\n",
        "print(\"first component =\", round(var_mu, 2), \"second component =\", round(second_comp, 2), \"third component =\", round(third_comp, 2))"
      ],
      "execution_count": 5,
      "outputs": [
        {
          "output_type": "stream",
          "text": [
            "first component = 0.01 second component = 1.37 third component = 0.11\n"
          ],
          "name": "stdout"
        }
      ]
    },
    {
      "cell_type": "markdown",
      "metadata": {
        "id": "QFkykVf1DGpO"
      },
      "source": [
        "We can see that the second component is overwhelmingly the greatest contributor to momentum profits. "
      ]
    },
    {
      "cell_type": "markdown",
      "metadata": {
        "id": "VIRyJuwk3yXg"
      },
      "source": [
        "## c)\tRepeat part a) (but NOT part b)) for the 12-month, 1-month industry momentum portfolio, where the only difference is that we define winning and losing industries by their past 12-month performance (cumulative return over past 12-months) rather than past 1-month. "
      ]
    },
    {
      "cell_type": "code",
      "metadata": {
        "id": "c4lvnU9TFQ5y"
      },
      "source": [
        "def k_largest_index_argpartition_v1(a, k):\n",
        "  # https://stackoverflow.com/questions/43386432/how-to-get-indexes-of-k-maximum-values-from-a-numpy-multidimensional-array\n",
        "    idx = np.argpartition(-a.ravel(),k)[:k]\n",
        "    return np.column_stack(np.unravel_index(idx, a.shape))\n",
        "\n",
        "temp_df = np.zeros(industries.shape)\n",
        "for i in range(12, industries.shape[0]):\n",
        "  temp_df[i,:] = np.sum(industries.iloc[i-12:i,:])\n",
        "temp_df_for_real = pd.DataFrame(temp_df)\n",
        "\n",
        "df_min = pd.DataFrame(np.zeros((industries.shape[0],3)))\n",
        "for i in range(0, industries.shape[0]-12):\n",
        "  df_min.iloc[i + 12]= k_largest_index_argpartition_v1(-temp_df_for_real.iloc[i+12,:],3).squeeze()\n",
        "\n",
        "df_max = pd.DataFrame(np.zeros((industries.shape[0],3)))\n",
        "for i in range(0, industries.shape[0]-12):\n",
        "  df_max.iloc[i + 12]= k_largest_index_argpartition_v1(temp_df_for_real.iloc[i+12,:],3).squeeze()\n",
        "\n",
        "# assign first 12 rows as NA\n",
        "empty_rows = pd.DataFrame(df_min[:][:12]).copy()\n",
        "empty_rows.replace(0, np.nan, inplace = True)\n",
        "\n",
        "dic = {}\n",
        "for i, j in enumerate(industries.columns):\n",
        "  dic[i] = j\n",
        "\n",
        "for index, data in df_max.iterrows():\n",
        "  tmp = []\n",
        "  for i, j in enumerate(data):\n",
        "    tmp.append(dic[int(j)])\n",
        "  df_max.iloc[index] = tmp\n",
        "\n",
        "for index, data in df_min.iterrows():\n",
        "  tmp = []\n",
        "  for i, j in enumerate(data):\n",
        "    tmp.append(dic[int(j)])\n",
        "  df_min.iloc[index] = tmp\n",
        "\n",
        "df_max[:][:12] = empty_rows\n",
        "df_min[:][:12] = empty_rows\n",
        "\n",
        "#print(df_max)\n",
        "#print(df_min)"
      ],
      "execution_count": 6,
      "outputs": []
    },
    {
      "cell_type": "code",
      "metadata": {
        "id": "YNjpg2Y-dia6",
        "outputId": "069b012c-357b-4fd8-8341-f080117f432e",
        "colab": {
          "base_uri": "https://localhost:8080/",
          "height": 86
        }
      },
      "source": [
        "df_max.index = industries.index\n",
        "df_min.index = industries.index\n",
        "\n",
        "twelve_mom_pf = []\n",
        "for i in range(0,len(industries)-12):\n",
        "  temp = (1/3) * (industries.iloc[i+12,:][df_max.iloc[i+12,0]] + industries.iloc[i+12,:][df_max.iloc[i+12,1]] + \\\n",
        "                  industries.iloc[i+12,:][df_max.iloc[i+12,2]] - industries.iloc[i+12,:][df_min.iloc[i+12,0]] - \\\n",
        "                  industries.iloc[i+12,:][df_min.iloc[i+12,1]] - industries.iloc[i+12,:][df_min.iloc[i+12,2]])\n",
        "  twelve_mom_pf.append(temp)\n",
        "\n",
        "print(\"mean: \", round(np.mean(twelve_mom_pf), 2))\n",
        "print(\"T-value: \", round(np.mean(twelve_mom_pf) * np.sqrt(len(industries[12:])-1) / np.std(twelve_mom_pf), 2))\n",
        "print(\"Sharpe ratio: \", round((np.mean(twelve_mom_pf) - np.mean(factors_new.iloc[12:,:]['RF']))/np.std(twelve_mom_pf), 2))\n",
        "print(\"standard deviation: \", round(np.std(twelve_mom_pf), 2))"
      ],
      "execution_count": 7,
      "outputs": [
        {
          "output_type": "stream",
          "text": [
            "mean:  0.89\n",
            "T-value:  4.76\n",
            "Sharpe ratio:  0.1\n",
            "standard deviation:  6.07\n"
          ],
          "name": "stdout"
        }
      ]
    },
    {
      "cell_type": "markdown",
      "metadata": {
        "id": "wn3KfwWI32M8"
      },
      "source": [
        "## d)\tNow compute the 12-month, 1-month industry momentum portfolio but this time skipping a month between portfolio formation and returns.  That is, rank the industries by their past returns from month t-12 to t-2, then take the equal weighted average return of the top three industries based on that ranking and subtract the equal-weighted average of the bottom three industries based on that ranking using returns from month t. Thus, skipping the information in month t-1 entirely. Calculate the time-series average return, t-statistic, Sharpe ratio, and standard deviation on this momentum strategy and compare it to c) where you didn’t skip a month between portfolio formation and returns."
      ]
    },
    {
      "cell_type": "code",
      "metadata": {
        "id": "nULNymry37cG",
        "outputId": "1c723e72-6633-49eb-feb4-7c00e0563cc6",
        "colab": {
          "base_uri": "https://localhost:8080/",
          "height": 86
        }
      },
      "source": [
        "temp_df1 = np.zeros(industries.shape)\n",
        "for i in range(12, industries.shape[0]):\n",
        "  temp_df1[i,:] = np.sum(industries.iloc[i-12:i-1,:])\n",
        "temp_df_for_real1 = pd.DataFrame(temp_df1)\n",
        "\n",
        "df_min1 = pd.DataFrame(np.zeros((industries.shape[0],3)))\n",
        "for i in range(0, industries.shape[0]-12):\n",
        "  df_min1.iloc[i + 12]= k_largest_index_argpartition_v1(-temp_df_for_real1.iloc[i+12,:],3).squeeze()\n",
        "\n",
        "df_max1 = pd.DataFrame(np.zeros((industries.shape[0],3)))\n",
        "for i in range(0, industries.shape[0]-12):\n",
        "  df_max1.iloc[i + 12]= k_largest_index_argpartition_v1(temp_df_for_real1.iloc[i+12,:],3).squeeze()\n",
        "\n",
        "# assign first 12 rows as NA\n",
        "empty_rows1 = pd.DataFrame(df_min1[:][:12]).copy()\n",
        "empty_rows1.replace(0, np.nan, inplace = True)\n",
        "\n",
        "dic = {}\n",
        "for i, j in enumerate(industries.columns):\n",
        "  dic[i] = j\n",
        "\n",
        "for index, data in df_max1.iterrows():\n",
        "  tmp = []\n",
        "  for i, j in enumerate(data):\n",
        "    tmp.append(dic[int(j)])\n",
        "  df_max1.iloc[index] = tmp\n",
        "\n",
        "for index, data in df_min1.iterrows():\n",
        "  tmp = []\n",
        "  for i, j in enumerate(data):\n",
        "    tmp.append(dic[int(j)])\n",
        "  df_min1.iloc[index] = tmp\n",
        "\n",
        "df_max1[:][:12] = empty_rows1\n",
        "df_min1[:][:12] = empty_rows1\n",
        "\n",
        "#print(df_max1)\n",
        "#print(df_min1)\n",
        "\n",
        "df_max1.index = industries.index\n",
        "df_min1.index = industries.index\n",
        "\n",
        "twelve_mom_pf1 = []\n",
        "for i in range(0,len(industries)-12):\n",
        "  temp = (1/3) * (industries.iloc[i+12,:][df_max1.iloc[i+12,0]] + industries.iloc[i+12,:][df_max1.iloc[i+12,1]] + \\\n",
        "                  industries.iloc[i+12,:][df_max1.iloc[i+12,2]] - industries.iloc[i+12,:][df_min1.iloc[i+12,0]] - \\\n",
        "                  industries.iloc[i+12,:][df_min1.iloc[i+12,1]] - industries.iloc[i+12,:][df_min1.iloc[i+12,2]])\n",
        "  twelve_mom_pf1.append(temp)\n",
        "\n",
        "print(\"mean: \", round(np.mean(twelve_mom_pf1), 2))\n",
        "print(\"T-value: \", round(np.mean(twelve_mom_pf1) * np.sqrt(len(industries[12:])-1) / np.std(twelve_mom_pf1), 2))\n",
        "print(\"Sharpe ratio: \", round((np.mean(twelve_mom_pf1) - np.mean(factors_new.iloc[12:,:]['RF']))/np.std(twelve_mom_pf1), 2))\n",
        "print(\"standard deviation: \", round(np.std(twelve_mom_pf1), 2))"
      ],
      "execution_count": 8,
      "outputs": [
        {
          "output_type": "stream",
          "text": [
            "mean:  0.95\n",
            "T-value:  5.08\n",
            "Sharpe ratio:  0.11\n",
            "standard deviation:  6.06\n"
          ],
          "name": "stdout"
        }
      ]
    },
    {
      "cell_type": "markdown",
      "metadata": {
        "id": "hrCOU4YGVkIi"
      },
      "source": [
        "Comparing (a), (c), and (d), the mean return gets progresively higher while the T-value also gets progressively higher, indicating that the strategies are progressively better in terms of both return and validity."
      ]
    },
    {
      "cell_type": "markdown",
      "metadata": {
        "id": "NW9hXaOa3931"
      },
      "source": [
        "# e)\tFor all three momentum strategies from parts a), c), and d), calculate the three-factor Fama-French alpha using the factors RMRF, SMB, and HML, and determine if the Fama-French model can price the momentum strategies?"
      ]
    },
    {
      "cell_type": "code",
      "metadata": {
        "id": "FdLT1R5RW92R"
      },
      "source": [
        "#factors.iloc[12:-4, :]"
      ],
      "execution_count": 9,
      "outputs": []
    },
    {
      "cell_type": "code",
      "metadata": {
        "id": "yhEFj-BH3_zO",
        "outputId": "572b6ebe-b44b-4349-ca84-045c0034106c",
        "colab": {
          "base_uri": "https://localhost:8080/",
          "height": 69
        }
      },
      "source": [
        "mom_3factors = factors.iloc[1:-4, :]\n",
        "x = sm.add_constant(mom_3factors[['Mkt-RF', 'SMB', 'HML']])\n",
        "mod2 = sm.OLS(mom_pf, x).fit()\n",
        "print(\"For 1-month, 1-month strategy: 3-factor alpha = \", round(mod2.params[0], 2), \"; 3-factor R-squared = \", round(mod2.rsquared, 2))\n",
        "\n",
        "twelve_mom_3factors = factors.iloc[12:-4, :]\n",
        "x = sm.add_constant(twelve_mom_3factors[['Mkt-RF', 'SMB', 'HML']])\n",
        "mod3 = sm.OLS(twelve_mom_pf, x).fit()\n",
        "print(\"For 12-month, 1-month strategy: 3-factor alpha = \", round(mod3.params[0], 2), \"; 3-factor R-squared = \", round(mod3.rsquared, 2))\n",
        "\n",
        "twelve_mom_3factors2 = factors.iloc[12:-4, :]\n",
        "x = sm.add_constant(twelve_mom_3factors2[['Mkt-RF', 'SMB', 'HML']])\n",
        "mod3 = sm.OLS(twelve_mom_pf1, x).fit()\n",
        "print(\"For 12-month, 2-month strategy: 3-factor alpha = \", round(mod3.params[0], 2), \"; 3-factor R-squared = \", round(mod3.rsquared, 2))\n"
      ],
      "execution_count": 10,
      "outputs": [
        {
          "output_type": "stream",
          "text": [
            "For 1-month, 1-month strategy: 3-factor alpha =  0.73 ; 3-factor R-squared =  0.01\n",
            "For 12-month, 1-month strategy: 3-factor alpha =  1.07 ; 3-factor R-squared =  0.05\n",
            "For 12-month, 2-month strategy: 3-factor alpha =  1.12 ; 3-factor R-squared =  0.05\n"
          ],
          "name": "stdout"
        }
      ]
    },
    {
      "cell_type": "markdown",
      "metadata": {
        "id": "IhnQgk_GBc29"
      },
      "source": [
        "The three-factor Fama-Frech model seems unable to price the momentum strategies. The alpha values are very high, indicating that there is a large portion of the return unexplained by RMRF, SMB, and HML. This is also confirmed by the extremely low R-squared value, again showing that the three factors only account for a very small portion of the return from the momentum strategies.\n",
        "\n",
        "Among the three strategies, we can see that the R-squared slightly increases, though all at extremely low level. At the same time, however, the alpha values also increase, showing progressively larger return unexplained by the three-factors."
      ]
    },
    {
      "cell_type": "markdown",
      "metadata": {
        "id": "G9UU4y054AOe"
      },
      "source": [
        "# f)\tFor all three momentum strategies from parts a), c), and d), calculate the four-factor Fama-French alpha using the factors RMRF, SMB, HML, and UMD, and determine if this model can now price the momentum strategies?  What do you learn from this regression?"
      ]
    },
    {
      "cell_type": "code",
      "metadata": {
        "id": "BAMmt7lT91kJ",
        "outputId": "ae903f8e-8d1f-4daa-d8ac-cff1dac66c61",
        "colab": {
          "base_uri": "https://localhost:8080/",
          "height": 69
        }
      },
      "source": [
        "# Part f)\n",
        "mom_4factors = mom_3factors.iloc[5:]\n",
        "x = sm.add_constant(mom_4factors[['Mkt-RF', 'SMB', 'HML', 'UMD']])\n",
        "mod3 = sm.OLS(mom_pf[5:], x).fit()\n",
        "print(\"For 1-month, 1-month strategy: 4-factor alpha = \", round(mod3.params[0], 2), \"; 4-factor R-squared = \", round(mod3.rsquared, 2))\n",
        "\n",
        "twelve_mom_4factors = twelve_mom_3factors\n",
        "x = sm.add_constant(twelve_mom_4factors[['Mkt-RF', 'SMB', 'HML', 'UMD']])\n",
        "mod6 = sm.OLS(twelve_mom_pf, x).fit()\n",
        "print(\"For 12-month, 1-month strategy: 4-factor alpha = \", round(mod6.params[0], 2), \"; 4-factor R-squared = \", round(mod6.rsquared, 2))\n",
        "\n",
        "\n",
        "twelve_mom_4factors2 = twelve_mom_3factors\n",
        "x = sm.add_constant(twelve_mom_4factors2[['Mkt-RF', 'SMB', 'HML', 'UMD']])\n",
        "mod6 = sm.OLS(twelve_mom_pf1, x).fit()\n",
        "print(\"For 12-month, 2-month strategy: 4-factor alpha = \", round(mod6.params[0], 2), \"; 4-factor R-squared = \", round(mod6.rsquared, 2))"
      ],
      "execution_count": 11,
      "outputs": [
        {
          "output_type": "stream",
          "text": [
            "For 1-month, 1-month strategy: 4-factor alpha =  0.59 ; 4-factor R-squared =  0.02\n",
            "For 12-month, 1-month strategy: 4-factor alpha =  0.1 ; 4-factor R-squared =  0.49\n",
            "For 12-month, 2-month strategy: 4-factor alpha =  0.15 ; 4-factor R-squared =  0.49\n"
          ],
          "name": "stdout"
        }
      ]
    },
    {
      "cell_type": "markdown",
      "metadata": {
        "id": "BUEvhFSq5Jcr"
      },
      "source": [
        "Similar to the three-factors model, the four-factors model is unable to explain the 1-month, 1-month strategy, with large alpha value and extremely low R-squared value.\n",
        "\n",
        "Howevever, unlike the three-factors model, the four-factors model seem to be able to explain, at least to a good extent, the return for the 12-month, 1-month strategy and the 12-month, 2-month strategy. Both have relatively low alpha values and somewhat satisfactory R-squared of 0.49.\n",
        "\n",
        "This exercise shows that, to explain the momentum strategy with factor models, the selection period should not be short-term (1-month), but rather but at least medium length (12-month). Additionally, UMD seems to be a factor that boosts the model's ability to explain the strategy's return."
      ]
    },
    {
      "cell_type": "markdown",
      "metadata": {
        "id": "ojCIOO614-iH"
      },
      "source": [
        "# g)\tUsing the commodity return series, "
      ]
    },
    {
      "cell_type": "markdown",
      "metadata": {
        "id": "aBTulokn5Aae"
      },
      "source": [
        "## i.\tCompute the following momentum strategy returns: 1-month, 1-month; 12-month, 1-month; and 12-month, 1-month, skipping a month between portfolio formation and returns. (These are the same three momentum strategies you computed above for the industry portfolios.)\n",
        "*Start the strategy at the beginning of the sample using the commodities that have available return data at that time and over time continue to add commodities to the sample as data becomes more available. (Hence, in 1970 you are taking the top and bottom 3 commodities from among 11 commodities, whereas by the end of the sample in 2015 you are choosing the top and bottom 3 among 32 commodities.) Comment on whether or not you think this matters.\n"
      ]
    },
    {
      "cell_type": "code",
      "metadata": {
        "id": "R2Zh4aTUTQZS",
        "outputId": "13b1814b-ecf4-4c9b-de31-bc801147098d",
        "colab": {
          "base_uri": "https://localhost:8080/",
          "height": 104
        }
      },
      "source": [
        "# 1-month 1-month\n",
        "maxdf = commodities.apply(lambda x: pd.Series(x.nlargest(3).index.values), axis=1) # best three\n",
        "maxdf.columns = ['Max1', 'Max2', 'Max3']\n",
        "mindf = commodities.apply(lambda x: pd.Series(x.nsmallest(3).index.values), axis=1) # worst three\n",
        "mindf.columns = ['Min1', 'Min2', 'Min3']\n",
        "\n",
        "comm_mom_pf = []\n",
        "for i in range(0,len(commodities)-1):\n",
        "  temp = (1/3) * (commodities.iloc[i+1,:][maxdf.iloc[i,0]] + commodities.iloc[i+1,:][maxdf.iloc[i,1]] + \\\n",
        "                  commodities.iloc[i+1,:][maxdf.iloc[i,2]] - commodities.iloc[i+1,:][mindf.iloc[i,0]] - \\\n",
        "                  commodities.iloc[i+1,:][mindf.iloc[i,1]] - commodities.iloc[i+1,:][mindf.iloc[i,2]])\n",
        "  comm_mom_pf.append(temp)\n",
        "\n",
        "print(\"1-Month 1-Month Strategy:\")\n",
        "print(\"mean: \", round(np.mean(comm_mom_pf), 2))\n",
        "print(\"T-value: \", round(np.mean(comm_mom_pf) * np.sqrt(len(commodities)-1) / np.std(comm_mom_pf), 2))\n",
        "print(\"Sharpe ratio: \", round((np.mean(comm_mom_pf[0:-1]) - np.mean(factors.iloc[523:,:]['RF']))/np.std(comm_mom_pf), 2))\n",
        "print(\"standard deviation: \", round(np.std(comm_mom_pf), 2))"
      ],
      "execution_count": 12,
      "outputs": [
        {
          "output_type": "stream",
          "text": [
            "1-Month 1-Month Strategy:\n",
            "mean:  0.02\n",
            "T-value:  4.25\n",
            "Sharpe ratio:  -4.1\n",
            "standard deviation:  0.09\n"
          ],
          "name": "stdout"
        }
      ]
    },
    {
      "cell_type": "code",
      "metadata": {
        "id": "8UV3Hz_lD8Xn",
        "outputId": "4127da11-af76-40c7-c62d-447a5c30fe77",
        "colab": {
          "base_uri": "https://localhost:8080/",
          "height": 104
        }
      },
      "source": [
        "temp_df = np.zeros(commodities.shape)\n",
        "for i in range(12, commodities.shape[0]):\n",
        "  temp_df[i,:] = np.sum(commodities.iloc[i-12:i,:])\n",
        "temp_df_for_real = pd.DataFrame(temp_df)\n",
        "\n",
        "df_min = pd.DataFrame(np.zeros((commodities.shape[0],3)))\n",
        "for i in range(0, commodities.shape[0]-12):\n",
        "  df_min.iloc[i + 12]= k_largest_index_argpartition_v1(-temp_df_for_real.iloc[i+12,:],3).squeeze()\n",
        "\n",
        "df_max = pd.DataFrame(np.zeros((commodities.shape[0],3)))\n",
        "for i in range(0, commodities.shape[0]-12):\n",
        "  df_max.iloc[i + 12]= k_largest_index_argpartition_v1(temp_df_for_real.iloc[i+12,:],3).squeeze()\n",
        "\n",
        "# assign first 12 rows as NA\n",
        "empty_rows = pd.DataFrame(df_min[:][:12]).copy()\n",
        "empty_rows.replace(0, np.nan, inplace = True)\n",
        "\n",
        "dic = {}\n",
        "for i, j in enumerate(commodities.columns):\n",
        "  dic[i] = j\n",
        "\n",
        "for index, data in df_max.iterrows():\n",
        "  tmp = []\n",
        "  for i, j in enumerate(data):\n",
        "    tmp.append(dic[int(j)])\n",
        "  df_max.iloc[index] = tmp\n",
        "\n",
        "for index, data in df_min.iterrows():\n",
        "  tmp = []\n",
        "  for i, j in enumerate(data):\n",
        "    tmp.append(dic[int(j)])\n",
        "  df_min.iloc[index] = tmp\n",
        "\n",
        "df_max[:][:12] = empty_rows\n",
        "df_min[:][:12] = empty_rows\n",
        "\n",
        "df_max.index = commodities.index\n",
        "df_min.index = commodities.index\n",
        "\n",
        "comm_twelve_mom_pf = []\n",
        "for i in range(0,len(commodities)-12):\n",
        "  temp = (1/3) * (commodities.iloc[i+12,:][df_max.iloc[i+12,0]] + commodities.iloc[i+12,:][df_max.iloc[i+12,1]] + \\\n",
        "                  commodities.iloc[i+12,:][df_max.iloc[i+12,2]] - commodities.iloc[i+12,:][df_min.iloc[i+12,0]] - \\\n",
        "                  commodities.iloc[i+12,:][df_min.iloc[i+12,1]] - commodities.iloc[i+12,:][df_min.iloc[i+12,2]])\n",
        "  comm_twelve_mom_pf.append(temp)\n",
        "\n",
        "print(\"12-Month 1-Month Strategy:\")\n",
        "print(\"mean: \", round(np.nanmean(comm_twelve_mom_pf), 2))\n",
        "print(\"T-value: \", round(np.nanmean(comm_twelve_mom_pf) * np.sqrt(len(industries[12:])-1) / np.nanstd(comm_twelve_mom_pf), 2))\n",
        "print(\"Sharpe ratio: \", round((np.nanmean(comm_twelve_mom_pf) - np.nanmean(factors.iloc[12:,:]['RF']))/np.nanstd(comm_twelve_mom_pf), 2))\n",
        "print(\"standard deviation: \", round(np.nanstd(comm_twelve_mom_pf), 2))"
      ],
      "execution_count": 13,
      "outputs": [
        {
          "output_type": "stream",
          "text": [
            "12-Month 1-Month Strategy:\n",
            "mean:  0.01\n",
            "T-value:  3.86\n",
            "Sharpe ratio:  -2.98\n",
            "standard deviation:  0.09\n"
          ],
          "name": "stdout"
        }
      ]
    },
    {
      "cell_type": "code",
      "metadata": {
        "id": "FzZTD9AXfsID",
        "outputId": "7402ce81-747f-44fe-dffc-4462c61c8665",
        "colab": {
          "base_uri": "https://localhost:8080/",
          "height": 104
        }
      },
      "source": [
        "# 12-month 2-month\n",
        "temp_df1 = np.zeros(commodities.shape)\n",
        "for i in range(12, commodities.shape[0]):\n",
        "  temp_df1[i,:] = np.sum(commodities.iloc[i-12:i-1,:])\n",
        "temp_df_for_real1 = pd.DataFrame(temp_df1)\n",
        "\n",
        "df_min1 = pd.DataFrame(np.zeros((commodities.shape[0],3)))\n",
        "for i in range(0, commodities.shape[0]-12):\n",
        "  df_min1.iloc[i + 12]= k_largest_index_argpartition_v1(-temp_df_for_real1.iloc[i+12,:],3).squeeze()\n",
        "\n",
        "df_max1 = pd.DataFrame(np.zeros((commodities.shape[0],3)))\n",
        "for i in range(0, commodities.shape[0]-12):\n",
        "  df_max1.iloc[i + 12]= k_largest_index_argpartition_v1(temp_df_for_real1.iloc[i+12,:],3).squeeze()\n",
        "\n",
        "# assign first 12 rows as NA\n",
        "empty_rows1 = pd.DataFrame(df_min1[:][:12]).copy()\n",
        "empty_rows1.replace(0, np.nan, inplace = True)\n",
        "\n",
        "dic = {}\n",
        "for i, j in enumerate(commodities.columns):\n",
        "  dic[i] = j\n",
        "\n",
        "for index, data in df_max1.iterrows():\n",
        "  tmp = []\n",
        "  for i, j in enumerate(data):\n",
        "    tmp.append(dic[int(j)])\n",
        "  df_max1.iloc[index] = tmp\n",
        "\n",
        "for index, data in df_min1.iterrows():\n",
        "  tmp = []\n",
        "  for i, j in enumerate(data):\n",
        "    tmp.append(dic[int(j)])\n",
        "  df_min1.iloc[index] = tmp\n",
        "\n",
        "df_max1[:][:12] = empty_rows1\n",
        "df_min1[:][:12] = empty_rows1\n",
        "\n",
        "df_max1.index = commodities.index\n",
        "df_min1.index = commodities.index\n",
        "\n",
        "comm_twelve_mom_pf1 = []\n",
        "for i in range(0,len(commodities)-12):\n",
        "  temp = (1/3) * (commodities.iloc[i+12,:][df_max1.iloc[i+12,0]] + commodities.iloc[i+12,:][df_max1.iloc[i+12,1]] + \\\n",
        "                  commodities.iloc[i+12,:][df_max1.iloc[i+12,2]] - commodities.iloc[i+12,:][df_min1.iloc[i+12,0]] - \\\n",
        "                  commodities.iloc[i+12,:][df_min1.iloc[i+12,1]] - commodities.iloc[i+12,:][df_min1.iloc[i+12,2]])\n",
        "  comm_twelve_mom_pf1.append(temp)\n",
        "\n",
        "print(\"12-Month 2-Month Strategy:\")\n",
        "print(\"mean: \", round(np.nanmean(comm_twelve_mom_pf1), 2))\n",
        "print(\"T-value: \", round(np.nanmean(comm_twelve_mom_pf1) * np.sqrt(len(commodities[12:])-1) / np.nanstd(comm_twelve_mom_pf1), 2))\n",
        "print(\"Sharpe ratio: \", round((np.nanmean(comm_twelve_mom_pf1) - np.nanmean(factors_new.iloc[12:,:]['RF']))/np.nanstd(comm_twelve_mom_pf1), 2))\n",
        "print(\"standard deviation: \", round(np.nanstd(comm_twelve_mom_pf1), 2))"
      ],
      "execution_count": 14,
      "outputs": [
        {
          "output_type": "stream",
          "text": [
            "12-Month 2-Month Strategy:\n",
            "mean:  0.01\n",
            "T-value:  2.82\n",
            "Sharpe ratio:  -3.11\n",
            "standard deviation:  0.09\n"
          ],
          "name": "stdout"
        }
      ]
    },
    {
      "cell_type": "markdown",
      "metadata": {
        "id": "ov3YTvg3FxKL"
      },
      "source": [
        "## ii.\tCan the FF 3-factor and 4-factor models price each of the above commodity momentum portfolios?"
      ]
    },
    {
      "cell_type": "code",
      "metadata": {
        "id": "2Orj_PIIVzJH",
        "outputId": "1b2a4e29-6cdc-4102-b25b-b521375a7108",
        "colab": {
          "base_uri": "https://localhost:8080/",
          "height": 69
        }
      },
      "source": [
        "# 3-factor model for commodities\n",
        "# 1-Month 1-Month Strategy\n",
        "comm_mom_3factors = factors.iloc[523:, :]\n",
        "x = sm.add_constant(comm_mom_3factors[['Mkt-RF', 'SMB', 'HML']])\n",
        "mod8 = sm.OLS(comm_mom_pf[:-1], x).fit()\n",
        "print(\"For 1-month, 1-month strategy: 3-factor alpha = \", round(mod8.params[0], 2), \"; 3-factor R-squared = \", round(mod8.rsquared, 2))\n",
        "\n",
        "# 12-Month 1-Month Strategy\n",
        "comm_twelve_mom_3factors = factors.iloc[534:, :]\n",
        "x = sm.add_constant(comm_twelve_mom_3factors[['Mkt-RF', 'SMB', 'HML']])\n",
        "mod9 = sm.OLS(comm_twelve_mom_pf[:-1], x, missing='drop').fit()\n",
        "print(\"For 12-month, 1-month strategy: 3-factor alpha = \", round(mod9.params[0], 2), \"; 3-factor R-squared = \", round(mod9.rsquared, 2))\n",
        "\n",
        "# 12-Month 2-Month Strategy\n",
        "comm_twelve_mom1_3factors = factors.iloc[534:, :]\n",
        "x = sm.add_constant(comm_twelve_mom1_3factors[['Mkt-RF', 'SMB', 'HML']])\n",
        "mod10 = sm.OLS(comm_twelve_mom_pf1[:-1], x, missing='drop').fit()\n",
        "print(\"For 12-month, 2-month strategy: 3-factor alpha = \", round(mod10.params[0], 2), \"; 3-factor R-squared = \", round(mod10.rsquared, 2))"
      ],
      "execution_count": 15,
      "outputs": [
        {
          "output_type": "stream",
          "text": [
            "For 1-month, 1-month strategy: 3-factor alpha =  0.02 ; 3-factor R-squared =  0.01\n",
            "For 12-month, 1-month strategy: 3-factor alpha =  0.01 ; 3-factor R-squared =  0.0\n",
            "For 12-month, 2-month strategy: 3-factor alpha =  0.01 ; 3-factor R-squared =  0.0\n"
          ],
          "name": "stdout"
        }
      ]
    },
    {
      "cell_type": "code",
      "metadata": {
        "id": "sSAZZMVVKBBO",
        "outputId": "6f53910e-c88b-4640-8520-43b2069e4d86",
        "colab": {
          "base_uri": "https://localhost:8080/",
          "height": 69
        }
      },
      "source": [
        "comm_mom_4factors = factors.iloc[523:, :]\n",
        "x = sm.add_constant(comm_mom_4factors[['Mkt-RF', 'SMB', 'HML', 'UMD']])\n",
        "mod11 = sm.OLS(comm_mom_pf[:-1], x).fit()\n",
        "print(\"For 1-month 1-month strategy: 4-factor alpha = \", round(mod11.params[0], 2), \"; 4-factor R-squared = \", round(mod11.rsquared, 2))\n",
        "\n",
        "# 12-Month 1-Month Strategy\n",
        "comm_twelve_mom_4factors = factors.iloc[534:, :]\n",
        "x = sm.add_constant(comm_twelve_mom_4factors[['Mkt-RF', 'SMB', 'HML', 'UMD']])\n",
        "mod12 = sm.OLS(comm_twelve_mom_pf[:-1], x, missing='drop').fit()\n",
        "print(\"For 12-month, 1-month strategy: 4-factor alpha = \", round(mod12.params[0], 2), \"; 4-factor R-squared = \", round(mod12.rsquared, 2))\n",
        "\n",
        "# 12-Month 2-Month Strategy\n",
        "comm_twelve_mom1_4factors = factors.iloc[534:, :]\n",
        "x = sm.add_constant(comm_twelve_mom1_4factors[['Mkt-RF', 'SMB', 'HML', 'UMD']])\n",
        "mod13 = sm.OLS(comm_twelve_mom_pf1[:-1], x, missing='drop').fit()\n",
        "print(\"For 12-month, 2-month strategy: 4-factor alpha = \", round(mod13.params[0], 2), \"; 4-factor R-squared = \", round(mod13.rsquared, 2))"
      ],
      "execution_count": 16,
      "outputs": [
        {
          "output_type": "stream",
          "text": [
            "For 1-month 1-month strategy: 4-factor alpha =  0.02 ; 4-factor R-squared =  0.01\n",
            "For 12-month, 1-month strategy: 4-factor alpha =  0.01 ; 4-factor R-squared =  0.06\n",
            "For 12-month, 2-month strategy: 4-factor alpha =  0.01 ; 4-factor R-squared =  0.04\n"
          ],
          "name": "stdout"
        }
      ]
    },
    {
      "cell_type": "markdown",
      "metadata": {
        "id": "b2E-wppxNXgi"
      },
      "source": [
        "Similar to previous conclusion, neither the three-factor nor the four factor model could price the commodities momentum profolios. The four-factor models have slightly higher R-squared, yet still at an extremely low level (~0.05)."
      ]
    },
    {
      "cell_type": "markdown",
      "metadata": {
        "id": "ftgYih4J5Gt2"
      },
      "source": [
        "## iii.\tCompute the correlation between each of the momentum returns above and the corresponding industry momentum returns (e.g., correlation of 1,1 IND MOM with 1,1 COM MOM, ..., correlation of 12,1 IND MOM with 12,1 COM MOM)."
      ]
    },
    {
      "cell_type": "code",
      "metadata": {
        "id": "ANVR7rfoi3m8"
      },
      "source": [
        "#len(mom_pf),len(twelve_mom_pf), len(twelve_mom_pf1), len(comm_mom_pf),len(comm_twelve_mom_pf), len(comm_twelve_mom_pf1)"
      ],
      "execution_count": 17,
      "outputs": []
    },
    {
      "cell_type": "code",
      "metadata": {
        "id": "-XpkNX27VbgB",
        "outputId": "2b4807e4-6a03-411f-f090-da42a2a54b7a",
        "colab": {
          "base_uri": "https://localhost:8080/",
          "height": 69
        }
      },
      "source": [
        "np.corrcoef(mom_pf[521:] , comm_mom_pf[0:547])\n",
        "print(\"The correlation between the 1-month, 1-month Industries Momentum and 1-month, 1-month Commodities Momentum is:\", round(np.corrcoef(mom_pf[521:] , comm_mom_pf[0:547])[0, 1], 2))\n",
        "import numpy.ma as ma\n",
        "# https://stackoverflow.com/questions/31619578/numpy-corrcoef-compute-correlation-matrix-while-ignoring-missing-data\n",
        "a = ma.corrcoef(ma.masked_invalid(twelve_mom_pf[517:1069]) , ma.masked_invalid(comm_twelve_mom_pf)) # masked na , -0.047\n",
        "b = ma.corrcoef(ma.masked_invalid(twelve_mom_pf1[517:1069]) , ma.masked_invalid(comm_twelve_mom_pf1)) # -0.10099\n",
        "print(\"The correlation between the 12-month, 1-month Industries Momentum and 12-month, 1-month Commodities Momentum is:\", round(a[0,1], 2))\n",
        "print(\"The correlation between the 12-month, 2-month Industries Momentum and 12-month, 2-month Commodities Momentum is:\", round(b[0,1], 2))"
      ],
      "execution_count": 18,
      "outputs": [
        {
          "output_type": "stream",
          "text": [
            "The correlation between the 1-month, 1-month Industries Momentum and 1-month, 1-month Commodities Momentum is: -0.04\n",
            "The correlation between the 12-month, 1-month Industries Momentum and 12-month, 1-month Commodities Momentum is: -0.05\n",
            "The correlation between the 12-month, 2-month Industries Momentum and 12-month, 2-month Commodities Momentum is: -0.1\n"
          ],
          "name": "stdout"
        }
      ]
    },
    {
      "cell_type": "markdown",
      "metadata": {
        "id": "i5tFc5lQ5Hmx"
      },
      "source": [
        "## iv.\tAdd the 12-month, 1-month COM momentum portfolio (not skipping a month) to the FF 3-factor model and see if this augmented factor model can explain the 12-month, 1-month industry momentum returns (not skipping a month)."
      ]
    },
    {
      "cell_type": "code",
      "metadata": {
        "id": "0xFRLWqblZlK",
        "outputId": "e1cdc767-2d0e-45e5-a885-bc69844d184a",
        "colab": {
          "base_uri": "https://localhost:8080/",
          "height": 34
        }
      },
      "source": [
        "a = twelve_mom_4factors[['Mkt-RF', 'SMB', 'HML']][522:]\n",
        "a['comm mom'] = comm_twelve_mom_pf[:-5]\n",
        "x = sm.add_constant(a)\n",
        "mod14 = sm.OLS(twelve_mom_pf[522:], x, missing='drop').fit()\n",
        "print(\"With 12-month, 1-month COM momentum portfolio added to the 3-factor model to try explain 12-month, 1-month IND returns: alpha =\", round(mod14.params[0], 2), \"; 4-factor R-squared =\", round(mod14.rsquared, 2))"
      ],
      "execution_count": 19,
      "outputs": [
        {
          "output_type": "stream",
          "text": [
            "With 12-month, 1-month COM momentum portfolio added to the 3-factor model to try explain 12-month, 1-month IND returns: alpha = 0.75 ; 4-factor R-squared = 0.07\n"
          ],
          "name": "stdout"
        }
      ]
    },
    {
      "cell_type": "markdown",
      "metadata": {
        "id": "Z6vaRh3k5JI8"
      },
      "source": [
        "## v.\tNow do the reverse of iv. by adding the 12-month, 1-month industry momentum portfolio to the FF 3-factor model and see if this augmented factor model can explain the 12-month, 1-month COM momentum returns."
      ]
    },
    {
      "cell_type": "code",
      "metadata": {
        "id": "X71J3wmdcXMc",
        "outputId": "b75fea74-c520-4824-e631-d0185f1d9d7b",
        "colab": {
          "base_uri": "https://localhost:8080/",
          "height": 34
        }
      },
      "source": [
        "b = comm_twelve_mom_4factors = factors.iloc[534:-4, 0:3]\n",
        "b['ind mom'] = twelve_mom_pf[522:]\n",
        "x = sm.add_constant(b)\n",
        "mod15 = sm.OLS(comm_twelve_mom_pf[:-5], x, missing='drop').fit()\n",
        "print(\"With 12-month, 1-month IND momentum portfolio added to the 3-factor model to try explain 12-month, 1-month COM returns: alpha =\", round(mod15.params[0], 2), \"; 4-factor R-squared =\", round(mod15.rsquared, 2))"
      ],
      "execution_count": 20,
      "outputs": [
        {
          "output_type": "stream",
          "text": [
            "With 12-month, 1-month IND momentum portfolio added to the 3-factor model to try explain 12-month, 1-month COM returns: alpha = 0.01 ; 4-factor R-squared = 0.04\n"
          ],
          "name": "stdout"
        }
      ]
    },
    {
      "cell_type": "markdown",
      "metadata": {
        "id": "OQvaMOL65Km0"
      },
      "source": [
        "## vi.\tDo the results in iii., iv., and v. make sense?  Do they surprise you?  What story could you give these findings?"
      ]
    },
    {
      "cell_type": "markdown",
      "metadata": {
        "id": "-kSBMX3Xctq9"
      },
      "source": [
        "The results in iii, iv, and v are consistent in the sense that, from iii we can see that the correlation between the industries and commodities momentum are very small (or even negatively small), and therefore augmenting either one to the other's three-factor model would not help explain the returns.\n",
        "\n",
        "There might be certain randomness in the momentum strategies, i.e. what industries / commodities win out in certain period, and by how much, such that the correlation between the two is very low."
      ]
    },
    {
      "cell_type": "markdown",
      "metadata": {
        "id": "uqGCy4X85NLM"
      },
      "source": [
        "## h)\tUsing the past-return sorted portfolios in the fourth spreadsheet, conduct GRS tests using the Fama and French 4-factor model consisting of RMRF, SMB, HML, and UMD for the following:\n",
        "i.\tThe 25 short-term 1-month past return sorted portfolios.\n",
        "ii.\tThe 25 intermediate-term 12-month past return sorted portfolios.\n",
        "iii.\tThe 25 long-term 60-month past return sorted portfolios.\n",
        "\n",
        "Which sets of 25 portfolios are explained by the model and which aren’t?  Which set of portfolios does the model have the most difficult time explaining?  Which results are the most surprising?\n",
        "\n",
        "After all of this, what have you learned about the cross-section of returns?  What have you learned about momentum strategies in general?\n"
      ]
    },
    {
      "cell_type": "code",
      "metadata": {
        "id": "tSZMkcAa21R8"
      },
      "source": [
        "factors_new = factors[:-4]\n",
        "\n",
        "def GRS_test(factors_new = factors_new,y = p1_return): \n",
        "  y = y[5:].subtract(factors_new['RF'],axis = 0)\n",
        "  y = y[0:1069]\n",
        "  x = sm.add_constant(factors_new[['Mkt-RF', 'SMB', 'HML','UMD']])\n",
        "\n",
        "  alpha = []\n",
        "  beta = []\n",
        "  eps = []\n",
        "\n",
        "  for pf in y.columns:\n",
        "      y_in = y[pf]\n",
        "      mod = sm.OLS(y_in,x,missing = 'drop').fit()\n",
        "      alpha.append(mod.params[0])\n",
        "      beta.append(mod.params[1])\n",
        "      eps.append(mod.resid)\n",
        "\n",
        "  T = y.shape[0]\n",
        "  N = y.shape[1]\n",
        "\n",
        "  eps_df = pd.DataFrame(eps).T\n",
        "  var_cov = eps_df.cov() # (30,30)\n",
        "\n",
        "  # create Rm column in rm_rf\n",
        "  factors_new['RM'] = factors_new['Mkt-RF'] + factors_new['RF']\n",
        "\n",
        "  F = ((T-N-1)/N)* ((alpha @ np.linalg.inv(var_cov) @ np.transpose(alpha)) / (1+(factors_new['RM'][0:1069].mean()/factors_new['RM'][0:1069].std())**2))\n",
        "  p_value = f.sf(F, N, T-N-1)\n",
        "  # print(\"F statistic: \", F, \"p value: \", p_value)\n",
        "\n",
        "  # coeff_summary = pd.DataFrame({'industry':y.columns, 'alpha': alpha, 'beta': beta})\n",
        "  return F, p_value"
      ],
      "execution_count": 21,
      "outputs": []
    },
    {
      "cell_type": "code",
      "metadata": {
        "id": "RuQhzuCmsvFN",
        "outputId": "038a5c7f-6422-410e-b9bb-3c8d49a4fb84",
        "colab": {
          "base_uri": "https://localhost:8080/",
          "height": 121
        }
      },
      "source": [
        "GRS_test(factors_new = factors_new,y = p1_return)"
      ],
      "execution_count": 22,
      "outputs": [
        {
          "output_type": "stream",
          "text": [
            "/usr/local/lib/python3.6/dist-packages/ipykernel_launcher.py:26: SettingWithCopyWarning: \n",
            "A value is trying to be set on a copy of a slice from a DataFrame.\n",
            "Try using .loc[row_indexer,col_indexer] = value instead\n",
            "\n",
            "See the caveats in the documentation: https://pandas.pydata.org/pandas-docs/stable/user_guide/indexing.html#returning-a-view-versus-a-copy\n"
          ],
          "name": "stderr"
        },
        {
          "output_type": "execute_result",
          "data": {
            "text/plain": [
              "(10.006469439905358, 2.074241872862297e-34)"
            ]
          },
          "metadata": {
            "tags": []
          },
          "execution_count": 22
        }
      ]
    },
    {
      "cell_type": "code",
      "metadata": {
        "id": "f9hpksNM3-jH",
        "outputId": "85fa8708-214b-41b5-804e-f62f7cabd758",
        "colab": {
          "base_uri": "https://localhost:8080/",
          "height": 121
        }
      },
      "source": [
        "GRS_test(factors_new = factors_new,y = p212_return)"
      ],
      "execution_count": 23,
      "outputs": [
        {
          "output_type": "stream",
          "text": [
            "/usr/local/lib/python3.6/dist-packages/ipykernel_launcher.py:26: SettingWithCopyWarning: \n",
            "A value is trying to be set on a copy of a slice from a DataFrame.\n",
            "Try using .loc[row_indexer,col_indexer] = value instead\n",
            "\n",
            "See the caveats in the documentation: https://pandas.pydata.org/pandas-docs/stable/user_guide/indexing.html#returning-a-view-versus-a-copy\n"
          ],
          "name": "stderr"
        },
        {
          "output_type": "execute_result",
          "data": {
            "text/plain": [
              "(2.4631695829028146, 8.961085862687106e-05)"
            ]
          },
          "metadata": {
            "tags": []
          },
          "execution_count": 23
        }
      ]
    },
    {
      "cell_type": "code",
      "metadata": {
        "id": "SIFAhMql5zSq",
        "outputId": "91bf018a-99cd-49f4-aafd-071f8cb6fc44",
        "colab": {
          "base_uri": "https://localhost:8080/",
          "height": 121
        }
      },
      "source": [
        "GRS_test(factors_new = factors[54:-4] ,y = p1360_return.iloc[59:,:])"
      ],
      "execution_count": 24,
      "outputs": [
        {
          "output_type": "stream",
          "text": [
            "/usr/local/lib/python3.6/dist-packages/ipykernel_launcher.py:26: SettingWithCopyWarning: \n",
            "A value is trying to be set on a copy of a slice from a DataFrame.\n",
            "Try using .loc[row_indexer,col_indexer] = value instead\n",
            "\n",
            "See the caveats in the documentation: https://pandas.pydata.org/pandas-docs/stable/user_guide/indexing.html#returning-a-view-versus-a-copy\n"
          ],
          "name": "stderr"
        },
        {
          "output_type": "execute_result",
          "data": {
            "text/plain": [
              "(2.5028615016346474, 6.74703736220244e-05)"
            ]
          },
          "metadata": {
            "tags": []
          },
          "execution_count": 24
        }
      ]
    },
    {
      "cell_type": "markdown",
      "metadata": {
        "id": "glModhuP6ge2"
      },
      "source": [
        "We can see the p-values for all momentum strategies are extremely low, indicating that the four-factors model seems to be able to explain all of them. \n",
        "\n",
        "That notwithstanding, the model seems to be able to better explain the shorter-term momentum portfolio. It seems to be able to explain the 1-month momentum portoflio with extremely high statistical significance, while the 12-month and 60-month with slightly less significance. In fact, by ranking, it has the most difficult time explaining the 60-month portfolio, though from the p-value it's still able to explain it.\n",
        "\n",
        "It is very surprising that the ability to explain 1-month momentum portfolio is so strong. Using 1-month result to guide portfolio construction would seem to have a lot of randomness to it. \n",
        "\n",
        "These results from the cross-sectional analysis seems to indicate that there is no $\\alpha$ found in across different momentum portfolios in terms of their horizon, that there desn't seem to be excess returns due to short-term, middle-term, long-term momentum strategies above what the 4-factor model can explain."
      ]
    }
  ]
}