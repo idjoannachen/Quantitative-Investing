{
  "nbformat": 4,
  "nbformat_minor": 0,
  "metadata": {
    "colab": {
      "name": "quantHW3.ipynb",
      "provenance": [],
      "collapsed_sections": [],
      "toc_visible": true
    },
    "kernelspec": {
      "name": "python3",
      "display_name": "Python 3"
    }
  },
  "cells": [
    {
      "cell_type": "markdown",
      "metadata": {
        "id": "B8uqVHfyvoM3",
        "colab_type": "text"
      },
      "source": [
        "# MGT 595 Problem Set 3\n",
        "# Author: Denglin Wu, Joanna Chen\n",
        "\n",
        "# September 21, 2020\n"
      ]
    },
    {
      "cell_type": "code",
      "metadata": {
        "id": "iCGXViYNqtt_",
        "colab_type": "code",
        "colab": {
          "base_uri": "https://localhost:8080/",
          "height": 69
        },
        "outputId": "afcce582-b6b8-4529-c68f-f07560bf958b"
      },
      "source": [
        "import pandas as pd\n",
        "import numpy as np\n",
        "import statsmodels.api as sm\n",
        "import matplotlib.pyplot as plt"
      ],
      "execution_count": null,
      "outputs": [
        {
          "output_type": "stream",
          "text": [
            "/usr/local/lib/python3.6/dist-packages/statsmodels/tools/_testing.py:19: FutureWarning: pandas.util.testing is deprecated. Use the functions in the public API at pandas.testing instead.\n",
            "  import pandas.util.testing as tm\n"
          ],
          "name": "stderr"
        }
      ]
    },
    {
      "cell_type": "markdown",
      "metadata": {
        "id": "mKOEoQlWiCm5",
        "colab_type": "text"
      },
      "source": [
        "# Data manipulation:\n",
        "We read in data from Problem_Set3.xls. There are three subsheet in this file. They are: Market_proxy (sheet1), 25_Size_BEME_Portfolios (sheet2), 49_Industry_Portfolios (sheet3). \n",
        "\n",
        "Sheet2 consists of three datasets: average value weights returns monthly (A:Z), average size of each portfolio monthly (AB:BA)and average BE/ME of each portfolio annually (BC:CB).\n",
        "\n",
        "Sheet3 consists of three datasets as well: average value weighted returns monthly (A:AX), average firm size monthly (AZ:CW) and average BE/ME annually (CY:EV). "
      ]
    },
    {
      "cell_type": "code",
      "metadata": {
        "id": "jwJxGvsLkZqa",
        "colab_type": "code",
        "colab": {}
      },
      "source": [
        "pd.read_excel(\"Problem_Set3.xls\")\n",
        "#--------------------Read Sheet 1--------------------\n",
        "sheet1=pd.read_excel(\"Problem_Set3.xls\", sheet_name='Market_proxy', \n",
        "                     skiprows=5, index_col=None)\n",
        "sheet1[\"Date\"] = pd.to_datetime(sheet1[\"Unnamed: 0\"], format=\"%Y%m\")\n",
        "s1 = sheet1.set_index(\"Date\")\n",
        "s1 = s1.loc[s1.index.dropna()]\n",
        "s1 = s1.drop(\"Unnamed: 0\", axis = 1)\n",
        "\n",
        "#--------------------Read Sheet 2--------------------\n",
        "sheet2_return=pd.read_excel(\"Problem_Set3.xls\", sheet_name='25_Size_BEME_Portfolios', \n",
        "                     skiprows=2, index_col=None, usecols=\"A:Z\", na_values=-99.99)\n",
        "sheet2_return[\"Date\"] = pd.to_datetime(sheet2_return[\"BE/ME\"], format=\"%Y%m\")\n",
        "s2_return = sheet2_return.set_index(\"Date\")\n",
        "s2_return = s2_return.loc[s2_return.index.dropna()]\n",
        "s2_return = s2_return.drop(\"BE/ME\", axis = 1)\n",
        "\n",
        "sheet2_size = pd.read_excel(\"Problem_Set3.xls\", sheet_name='25_Size_BEME_Portfolios', \n",
        "                     skiprows=2, index_col=0, usecols=\"AB:BA\", na_values=-99.99)\n",
        "sheet2_size = sheet2_size.loc[sheet2_size.index.dropna()]\n",
        "sheet2_size['Date'] = sheet2_size.index\n",
        "sheet2_size['Date'] = pd.to_datetime(sheet2_size['Date'], format=\"%Y%m\")\n",
        "s2_size = sheet2_size.set_index(\"Date\")\n",
        "# s2_size['year'] = s2_size.index.year\n",
        "\n",
        "sheet2_BEME = pd.read_excel(\"Problem_Set3.xls\", sheet_name='25_Size_BEME_Portfolios', \n",
        "                     skiprows=2, index_col=0, usecols=\"BC:CB\", na_values=-99.99)\n",
        "sheet2_BEME = sheet2_BEME.loc[sheet2_BEME.index.dropna()]\n",
        "sheet2_BEME['Date'] = sheet2_BEME.index\n",
        "sheet2_BEME['Date'] = pd.to_datetime(sheet2_BEME['Date'], format=\"%Y\")\n",
        "s2_BEME = sheet2_BEME.set_index(\"Date\")\n",
        "# s2_BEME['year'] = s2_BEME.index.year\n",
        "\n",
        "#--------------------Merge s2_return with s1--------------------\n",
        "# s2_return: 1073*25, s1: 1073*2, inner join\n",
        "s2_return_s1 = pd.merge(s2_return, s1, how='inner', left_index=True, right_index=True)\n",
        "#--------------------Read Sheet 3--------------------\n",
        "sheet3_return=pd.read_excel(\"Problem_Set3.xls\", sheet_name='49_Industry_Portfolios', \n",
        "                     skiprows=6, index_col=None, usecols=\"A:AX\", na_values=-99.99)\n",
        "sheet3_return[\"Date\"] = pd.to_datetime(sheet3_return[\"Unnamed: 0\"], format=\"%Y%m\")\n",
        "s3_return = sheet3_return.set_index(\"Date\")\n",
        "s3_return = s3_return.loc[s3_return.index.dropna()]\n",
        "s3_return = s3_return.drop(\"Unnamed: 0\", axis = 1)\n",
        "\n",
        "sheet3_size = pd.read_excel(\"Problem_Set3.xls\", sheet_name='49_Industry_Portfolios', \n",
        "                     skiprows=6, index_col=0, usecols=\"AZ:CW\", na_values=-99.99)\n",
        "sheet3_size = sheet3_size.loc[sheet3_size.index.dropna()]\n",
        "sheet3_size['Date'] = sheet3_size.index\n",
        "sheet3_size['Date'] = pd.to_datetime(sheet3_size['Date'], format=\"%Y%m\")\n",
        "s3_size = sheet3_size.set_index(\"Date\")\n",
        "s3_size['year'] = s3_size.index.year\n",
        "\n",
        "sheet3_BEME = pd.read_excel(\"Problem_Set3.xls\", sheet_name='49_Industry_Portfolios', \n",
        "                     skiprows=6, index_col=0, usecols=\"CY:EV\", na_values=-99.99)\n",
        "sheet3_BEME = sheet3_BEME.loc[sheet3_BEME.index.dropna()]\n",
        "sheet3_BEME['Date'] = sheet3_BEME.index\n",
        "sheet3_BEME['Date'] = pd.to_datetime(sheet3_BEME['Date'], format=\"%Y\")\n",
        "s3_BEME = sheet3_BEME.set_index(\"Date\")\n",
        "s3_BEME['year'] = s3_BEME.index.year"
      ],
      "execution_count": null,
      "outputs": []
    },
    {
      "cell_type": "markdown",
      "metadata": {
        "id": "nl75LUDqRFRZ",
        "colab_type": "text"
      },
      "source": [
        "# Part I:  The 49 Industry Portfolio"
      ]
    },
    {
      "cell_type": "markdown",
      "metadata": {
        "id": "ia9jpmQ-RHVw",
        "colab_type": "text"
      },
      "source": [
        "## a) Consider the cross-sectional regression, \n",
        "$$\n",
        "\\mathrm{R}_{\\mathrm{i}}=\\gamma_{0}+\\gamma_{\\mathrm{M}} \\beta_{\\mathrm{iM}}+\\eta_{\\mathrm{i}}\n",
        "$$\n",
        "where $\\gamma _{0}$ and $\\gamma_{M}$ are  regression  parameter and $\n",
        "\\beta_{\\mathrm{iM}}=\\operatorname{cov}\\left(\\mathrm{R}_{\\mathrm{i}}, \\mathrm{R}_{\\mathrm{M}}\\right) / \\sigma^{2}\\left(\\mathrm{R}_{\\mathrm{M}}\\right)\n",
        "$.  If  the CAPM  holds,  then  what  should $\\gamma_{0}$ and $\\gamma_{M}$  equal  (for  both  the  Sharpe/Lintner  and Black versions)?\n",
        "\n",
        "Sharpe/Lintner's estimation:\n",
        "$$\n",
        "r_{i t}-r_{f t}=\\alpha_{i}+\\beta_{i}\\left(R_{m t}-r_{f t}\\right)+\\epsilon_{i t}\n",
        "$$\n",
        "Black's estimation:\n",
        "$$\n",
        "r_{i t}=\\alpha_{i}+\\beta_{i}\\left(R_{m t}\\right)+\\epsilon_{i t}.\n",
        "$$"
      ]
    },
    {
      "cell_type": "markdown",
      "metadata": {
        "id": "TXWBIphaQiex",
        "colab_type": "text"
      },
      "source": [
        "Theoretically if CAPM holds, we know that the return of an asset could be explained by 1) the return of a uncorrelated asset, and 2) the excess return of the market to that uncorrelated asset.\n",
        "\n",
        "While we could use any uncorrelated asset for the equation, one frequently used asset is the risk-free asset.\n",
        "\n",
        "For the Shapre/Linter's estimation: since the excess return has been taken into account, the $\\beta$ value should solely explain the asset's return. Therefore, $\\gamma_0$ should equal 0, while $\\gamma_1$ should equal Market Risk Premium, the excess return of the market to the risk-free asset.\n",
        "\n",
        "For Black's estimation: since it is assumed that there's no risk-free asset, $\\gamma_0$ should equal the return of the uncorrelated asset, Rz, times (1-$\\beta$), therefore $\\gamma_0$ = Rz*(1-$\\beta$). The coefficient term for Beta should be the Market Return, therefore $\\gamma_1$ = Rm."
      ]
    },
    {
      "cell_type": "markdown",
      "metadata": {
        "id": "_92CoUU1RuJl",
        "colab_type": "text"
      },
      "source": [
        "## b)   Estimate  $\\gamma_{0}$ and $\\gamma_{M}$  using  the  approach  pioneered  by  Fama  and  MacBeth.  "
      ]
    },
    {
      "cell_type": "markdown",
      "metadata": {
        "id": "X8iiyiyYS7qy",
        "colab_type": "text"
      },
      "source": [
        "The following  is a brief outline of the procedure:\n",
        "\n",
        "1. Estimate $\\beta_{iM}$ for each portfolio (denote the estimate $b_{iM}$). Assume that the betas do not change over time; hence, you can estimate the betas using full-period OLS regressions.\n",
        "\n",
        "2. Each month estimate the cross-sectional regression, $\n",
        "\\mathrm{R}_{\\mathrm{it}}=\\gamma_{0 \\mathrm{t}}+\\gamma_{\\mathrm{Mt}} \\mathrm{b}_{\\mathrm{iM}}+\\mathrm{\\eta}_{\\mathrm{it}}\n",
        "$. Note: the estimated beta ($b_{iM}$ ) is the same for every time period (i.e., it has no time subscript).\n",
        "\n",
        "3.\tCompute the time series average of the estimates of $\\gamma_0$ and $\\gamma_M$. In addition, compute the standard error and t-stat of the time series averages. \n",
        "\n",
        "Can you reject the hypothesis that the proxy for the market portfolio is mean variance efficient? Why or why not?"
      ]
    },
    {
      "cell_type": "markdown",
      "metadata": {
        "id": "cwdVfFJpKYIx",
        "colab_type": "text"
      },
      "source": [
        "time series regression:\n",
        "$$\n",
        "r_{i t}-r_{f t}=\\alpha_{i}+\\beta_{i}\\left(R_{mt}-r_{ft}\\right)+\\varepsilon_{i}\n",
        "$$"
      ]
    },
    {
      "cell_type": "markdown",
      "metadata": {
        "id": "hd79qvTcxQNI",
        "colab_type": "text"
      },
      "source": [
        "### 1. Estimating Beta"
      ]
    },
    {
      "cell_type": "code",
      "metadata": {
        "id": "5JHBe2sUvCiG",
        "colab_type": "code",
        "colab": {}
      },
      "source": [
        "# merge s1 with s3_return\n",
        "reg_dt = pd.merge(s1,s3_return, how = 'inner',left_index=True, right_index=True)\n",
        "\n",
        "# second term with beta coefficient on the RHS of the formula\n",
        "reg_dt.iloc[:, 2:] = reg_dt.iloc[:, 2:].subtract(reg_dt['RF'], axis = 0)\n",
        "\n",
        "# average return on the LHS of the formula\n",
        "avg_return = pd.DataFrame(reg_dt.iloc[:, 2:].mean())\n",
        "avg_return.columns = ['avg_return']\n",
        "\n",
        "# estimate betas\n",
        "beta = []\n",
        "for pf in avg_return.index:\n",
        "  x = sm.add_constant(reg_dt['Mkt-RF'])\n",
        "  y = reg_dt[pf]\n",
        "  mod = sm.OLS(y,x,missing = 'drop').fit()\n",
        "  beta.append(mod.params[1])"
      ],
      "execution_count": null,
      "outputs": []
    },
    {
      "cell_type": "markdown",
      "metadata": {
        "id": "3d6yW0BgGAOP",
        "colab_type": "text"
      },
      "source": [
        "### 2. Estimating Cross-Sectional Regression"
      ]
    },
    {
      "cell_type": "markdown",
      "metadata": {
        "id": "PfK-HKzfyllm",
        "colab_type": "text"
      },
      "source": [
        "Once we have the betas $\\mathrm{b}_{iM}$, we want to see if the beta line up with average returns, in other words, we want to see if there's a 1-1 maping from beta to average returns. \n",
        "\n",
        "\n",
        "Cross-sectional regression: $\n",
        "\\mathrm{R}_{\\mathrm{it}}=\\gamma_{0 \\mathrm{t}}+\\gamma_{\\mathrm{Mt}} \\mathrm{b}_{\\mathrm{iM}}+\\mathrm{\\eta}_{\\mathrm{it}}.\n",
        "$"
      ]
    },
    {
      "cell_type": "code",
      "metadata": {
        "id": "iujFBJ4g109w",
        "colab_type": "code",
        "colab": {}
      },
      "source": [
        "gamma0 = []\n",
        "gamma1 = []\n",
        "\n",
        "x = sm.add_constant(beta)\n",
        "for Date in reg_dt.index:\n",
        "  y = reg_dt.loc[Date,:].iloc[2:]\n",
        "  mod2 = sm.OLS(y,x,missing = 'drop').fit()\n",
        "  # print(mod2.params)\n",
        "  gamma0.append(mod2.params[0])\n",
        "  gamma1.append(mod2.params[1])\n",
        "\n",
        "# merge date, gamma0, gamma1\n",
        "df = pd.DataFrame({'Date': reg_dt.index, 'gamma0':gamma0, 'gamma1':gamma1})"
      ],
      "execution_count": null,
      "outputs": []
    },
    {
      "cell_type": "markdown",
      "metadata": {
        "id": "8Ik4U8Z66q7i",
        "colab_type": "text"
      },
      "source": [
        "### Average of Gamma, Standard Error and T-stat"
      ]
    },
    {
      "cell_type": "markdown",
      "metadata": {
        "id": "L5YiAh5J-jDo",
        "colab_type": "text"
      },
      "source": [
        "T-statistic: $$\n",
        "t=\\frac{\\bar{x}-\\mu_{0}}{s / \\sqrt{n}}\n",
        "$$"
      ]
    },
    {
      "cell_type": "code",
      "metadata": {
        "id": "qP7oou6B6W3h",
        "colab_type": "code",
        "colab": {
          "base_uri": "https://localhost:8080/",
          "height": 52
        },
        "outputId": "9198d0d1-6e28-4b1b-c70e-067ae7d45e53"
      },
      "source": [
        "mean_gamma0 = np.mean(gamma0)\n",
        "mean_gamma1 =np.mean(gamma1)\n",
        "SE_gamma0 = np.std(gamma0) / np.sqrt(len(gamma0))\n",
        "SE_gamma1 = np.std(gamma1) / np.sqrt(len(gamma1))\n",
        "\n",
        "# t-test\n",
        "# for gamma0, the null hypothesis should be gamma0 = Rf\n",
        "# for gamma1, the null hypothesis should be gamma1 = 0, with alternative hypothesis being gamma1 > 0\n",
        "Rf = np.mean(reg_dt['RF'])\n",
        "t_gamma0 = (mean_gamma0 - Rf) / SE_gamma0\n",
        "t_gamma1 = (mean_gamma1) / SE_gamma1\n",
        "print(\"mean of gamma 0: \", mean_gamma0, \"mean of gamma 1: \", mean_gamma1,\"SE of gamma0: \", \n",
        "      SE_gamma0, \"SE of gamma1: \", SE_gamma1, \"t-stat for gamma0: \",t_gamma0,\n",
        "      \"t-stat for gamma1: \",t_gamma1)\n",
        "\n"
      ],
      "execution_count": null,
      "outputs": [
        {
          "output_type": "stream",
          "text": [
            "mean of gamma 0:  0.5195540470580177 mean of gamma 1:  0.23143895345886337 SE of gamma0:  0.19031329516375045 SE of gamma1:  0.2558619728543959 t-stat for gamma0:  1.2480197865233866 t-stat for gamma1:  0.9045461147544931\n"
          ],
          "name": "stdout"
        }
      ]
    },
    {
      "cell_type": "markdown",
      "metadata": {
        "id": "ZjYY_ytnZsDa",
        "colab_type": "text"
      },
      "source": [
        "For our cross-sectional regression $\n",
        "\\mathrm{R}_{\\mathrm{it}}=\\gamma_{0 \\mathrm{t}}+\\gamma_{\\mathrm{Mt}} \\mathrm{b}_{\\mathrm{iM}}+\\mathrm{\\eta}_{\\mathrm{it}}.\n",
        "$\n",
        "\n",
        "To test the proxy for market protfolio is mean-variance efficient,\n",
        "\n",
        "$H_0$: $E\\left[\\gamma_{1}\\right]=r_{f}$ and $E\\left[\\gamma_{M}\\right]=\n",
        "E\\left[R_M\\right]-r_{f}=0$\n",
        "\n",
        "$H_1$: $E\\left[\\gamma_{1}\\right] \\ne r_{f}$ and $E\\left[\\gamma_{M}\\right]=\n",
        "E\\left[R_M\\right]-r_{f} > 0$"
      ]
    },
    {
      "cell_type": "markdown",
      "metadata": {
        "id": "kl5DpwX8mmx4",
        "colab_type": "text"
      },
      "source": [
        "In the formula, $n$ = 1069, therefore, the degree of freedom = $n - 1 = 1068$. We looked up the t-table [http://www.math.odu.edu/stat130/t-tables.pdf], $t_{crit} = 1.646$ for one tail with $\\alpha = 0.05$ and degree of freedom $= 1000$. Since $t_{\\gamma_0}$ = 1.25 and $t_{\\gamma_1}$ = 0.90 which are both less than  $t_{crit}$, we fail to reject the null hypothesis and conclude that  the proxy of the market portfolio is not mean-variance efficient."
      ]
    },
    {
      "cell_type": "markdown",
      "metadata": {
        "id": "EzLY8Iwh_H9i",
        "colab_type": "text"
      },
      "source": [
        "## c) \tEstimate the cross-sectional regression \n",
        "$${ave}\\left(\\mathrm{R}_{\\mathrm{i}}\\right)=\\gamma_{0}+\\gamma_{\\mathrm{M}} \\mathrm{b}_{\\mathrm{iM}}+\\mathrm{\\eta\n",
        "}_{\\mathrm{i}}\n",
        "$$  Are the estimates of $\\gamma_0$ and $\\gamma_M$ different than the average estimates in part b?  Are the standard errors of the estimates of $\\gamma_0$ and $\\gamma_M$ different than the standard errors of the average estimates in part b? Why or why not? Which method is superior? Why?\n",
        "\n"
      ]
    },
    {
      "cell_type": "code",
      "metadata": {
        "id": "3H6pPMrC_eyJ",
        "colab_type": "code",
        "colab": {
          "base_uri": "https://localhost:8080/",
          "height": 432
        },
        "outputId": "59e69802-2f36-4fe9-fa36-72a7d4ef4af4"
      },
      "source": [
        "# OLS regression on avg_return and beta\n",
        "avg_return['beta'] = beta\n",
        "avg_return\n",
        "\n",
        "x = sm.add_constant(avg_return['beta'])\n",
        "mod3 = sm.OLS(avg_return[\"avg_return\"],x, data = avg_return).fit()\n",
        "mod3.summary()"
      ],
      "execution_count": null,
      "outputs": [
        {
          "output_type": "execute_result",
          "data": {
            "text/html": [
              "<table class=\"simpletable\">\n",
              "<caption>OLS Regression Results</caption>\n",
              "<tr>\n",
              "  <th>Dep. Variable:</th>       <td>avg_return</td>    <th>  R-squared:         </th> <td>   0.054</td>\n",
              "</tr>\n",
              "<tr>\n",
              "  <th>Model:</th>                   <td>OLS</td>       <th>  Adj. R-squared:    </th> <td>   0.034</td>\n",
              "</tr>\n",
              "<tr>\n",
              "  <th>Method:</th>             <td>Least Squares</td>  <th>  F-statistic:       </th> <td>   2.687</td>\n",
              "</tr>\n",
              "<tr>\n",
              "  <th>Date:</th>             <td>Tue, 22 Sep 2020</td> <th>  Prob (F-statistic):</th>  <td> 0.108</td> \n",
              "</tr>\n",
              "<tr>\n",
              "  <th>Time:</th>                 <td>03:00:15</td>     <th>  Log-Likelihood:    </th> <td>  24.375</td>\n",
              "</tr>\n",
              "<tr>\n",
              "  <th>No. Observations:</th>      <td>    49</td>      <th>  AIC:               </th> <td>  -44.75</td>\n",
              "</tr>\n",
              "<tr>\n",
              "  <th>Df Residuals:</th>          <td>    47</td>      <th>  BIC:               </th> <td>  -40.97</td>\n",
              "</tr>\n",
              "<tr>\n",
              "  <th>Df Model:</th>              <td>     1</td>      <th>                     </th>     <td> </td>   \n",
              "</tr>\n",
              "<tr>\n",
              "  <th>Covariance Type:</th>      <td>nonrobust</td>    <th>                     </th>     <td> </td>   \n",
              "</tr>\n",
              "</table>\n",
              "<table class=\"simpletable\">\n",
              "<tr>\n",
              "    <td></td>       <th>coef</th>     <th>std err</th>      <th>t</th>      <th>P>|t|</th>  <th>[0.025</th>    <th>0.975]</th>  \n",
              "</tr>\n",
              "<tr>\n",
              "  <th>const</th> <td>    0.5874</td> <td>    0.100</td> <td>    5.855</td> <td> 0.000</td> <td>    0.386</td> <td>    0.789</td>\n",
              "</tr>\n",
              "<tr>\n",
              "  <th>beta</th>  <td>    0.1495</td> <td>    0.091</td> <td>    1.639</td> <td> 0.108</td> <td>   -0.034</td> <td>    0.333</td>\n",
              "</tr>\n",
              "</table>\n",
              "<table class=\"simpletable\">\n",
              "<tr>\n",
              "  <th>Omnibus:</th>       <td> 4.612</td> <th>  Durbin-Watson:     </th> <td>   1.632</td>\n",
              "</tr>\n",
              "<tr>\n",
              "  <th>Prob(Omnibus):</th> <td> 0.100</td> <th>  Jarque-Bera (JB):  </th> <td>   3.587</td>\n",
              "</tr>\n",
              "<tr>\n",
              "  <th>Skew:</th>          <td>-0.474</td> <th>  Prob(JB):          </th> <td>   0.166</td>\n",
              "</tr>\n",
              "<tr>\n",
              "  <th>Kurtosis:</th>      <td> 3.927</td> <th>  Cond. No.          </th> <td>    9.28</td>\n",
              "</tr>\n",
              "</table><br/><br/>Warnings:<br/>[1] Standard Errors assume that the covariance matrix of the errors is correctly specified."
            ],
            "text/plain": [
              "<class 'statsmodels.iolib.summary.Summary'>\n",
              "\"\"\"\n",
              "                            OLS Regression Results                            \n",
              "==============================================================================\n",
              "Dep. Variable:             avg_return   R-squared:                       0.054\n",
              "Model:                            OLS   Adj. R-squared:                  0.034\n",
              "Method:                 Least Squares   F-statistic:                     2.687\n",
              "Date:                Tue, 22 Sep 2020   Prob (F-statistic):              0.108\n",
              "Time:                        03:00:15   Log-Likelihood:                 24.375\n",
              "No. Observations:                  49   AIC:                            -44.75\n",
              "Df Residuals:                      47   BIC:                            -40.97\n",
              "Df Model:                           1                                         \n",
              "Covariance Type:            nonrobust                                         \n",
              "==============================================================================\n",
              "                 coef    std err          t      P>|t|      [0.025      0.975]\n",
              "------------------------------------------------------------------------------\n",
              "const          0.5874      0.100      5.855      0.000       0.386       0.789\n",
              "beta           0.1495      0.091      1.639      0.108      -0.034       0.333\n",
              "==============================================================================\n",
              "Omnibus:                        4.612   Durbin-Watson:                   1.632\n",
              "Prob(Omnibus):                  0.100   Jarque-Bera (JB):                3.587\n",
              "Skew:                          -0.474   Prob(JB):                        0.166\n",
              "Kurtosis:                       3.927   Cond. No.                         9.28\n",
              "==============================================================================\n",
              "\n",
              "Warnings:\n",
              "[1] Standard Errors assume that the covariance matrix of the errors is correctly specified.\n",
              "\"\"\""
            ]
          },
          "metadata": {
            "tags": []
          },
          "execution_count": 6
        }
      ]
    },
    {
      "cell_type": "markdown",
      "metadata": {
        "id": "psIRupgiDGRx",
        "colab_type": "text"
      },
      "source": [
        "By OLS regression, we get $\\hat\\gamma_0 = 0.5874$ and  $\\hat\\gamma_1 = 0.1495$. In part (b), using Fama and MacBeth's approach, we get $\\hat\\gamma0 = 0.5196$ and $\\hat\\gamma1 = 0.2314$. Estimations from two approachs are similar. \n",
        "\n",
        "In part (b), SE of $\\gamma_0 = 0.19$ and SE of $\\gamma_1 = 0.26$. In part (c), SE of $\\gamma_0 = 0.1$ and SE of $\\gamma_1 = 0.09$. Because the SE in part (c) is less than ones in part (b),  cross-sectional method is superior."
      ]
    },
    {
      "cell_type": "markdown",
      "metadata": {
        "id": "95PHvS3iEwF9",
        "colab_type": "text"
      },
      "source": [
        "## d)\tPlot the $ave(R_i)$ for the portfolios against their $b_{iM}$.  Does the plot resemble a positive relationship?  What should the plot look like?"
      ]
    },
    {
      "cell_type": "code",
      "metadata": {
        "id": "r2aQ_-eSE6lj",
        "colab_type": "code",
        "colab": {
          "base_uri": "https://localhost:8080/",
          "height": 421
        },
        "outputId": "8fae1fa1-9c92-4692-c80d-2aaa4d56e0e9"
      },
      "source": [
        "fig=plt.figure(figsize=(12,6))\n",
        "plt.plot(avg_return['avg_return'], avg_return['beta'],'.',markersize=10)\n",
        "plt.xlabel('Beta')\n",
        "plt.ylabel('Average Return');\n",
        "plt.title('Question 1d): 49 Industry Portfolios Average Return vs Beta', fontsize=16)\n",
        "plt.xlim(0, 1.5)\n",
        "plt.ylim(0, 2)"
      ],
      "execution_count": null,
      "outputs": [
        {
          "output_type": "execute_result",
          "data": {
            "text/plain": [
              "(0.0, 2.0)"
            ]
          },
          "metadata": {
            "tags": []
          },
          "execution_count": 7
        },
        {
          "output_type": "display_data",
          "data": {
            "image/png": "[encoded data removed]",
            "text/plain": [
              "<Figure size 864x432 with 1 Axes>"
            ]
          },
          "metadata": {
            "tags": [],
            "needs_background": "light"
          }
        }
      ]
    },
    {
      "cell_type": "markdown",
      "metadata": {
        "id": "lNnbOnm-Vri1",
        "colab_type": "text"
      },
      "source": [
        "The plot does resembles a generally positive relationship between the average return and beta value, despite much noise and low linearity. Per CAPM, the average return should be explained solely by beta and the intercept, which should be the return of the uncorrelated asset. Therefore, the plot should be a straight line with intercept of Rf."
      ]
    },
    {
      "cell_type": "markdown",
      "metadata": {
        "id": "KFy6bG9tg8Ts",
        "colab_type": "text"
      },
      "source": [
        "## e)\tNow, Consider the cross-sectional regression\n",
        "$$\n",
        "\\mathrm{R}_{\\mathrm{i}}=\\gamma_{0}+\\gamma_{\\mathrm{M}} \\beta_{\\mathrm{iM}}+\\gamma_{\\mathrm{size}} \\ln (\\text { size })+\\gamma_{\\mathrm{B} / \\mathrm{M}} \\ln (\\mathrm{BE} / \\mathrm{ME})+\\eta_{\\mathrm{i}}\n",
        "$$\n",
        "where $\n",
        "\\gamma_{0}, \\gamma_{\\mathrm{M}}, \\gamma_{\\mathrm{size}}, \\text { and } \\gamma_{\\mathrm{B} / \\mathrm{M}}\n",
        "$ are regression parameters,  $\n",
        "\\beta_{i M}=\\operatorname{cov}\\left(R_{i}, R_{M}\\right) / \\sigma^{2}\\left(R_{M}\\right)\n",
        "$), and \tsize and BE/ME are the average size and  book to market ratio of the portfolio. \n",
        "\n",
        "Note that size is provided on a monthly basis, but BE/ME is provided on an annual basis. For simplicity, assume BE/ME within each year is constant so that you have 12 constant BE/ME numbers within each year. Answer the following question.\n"
      ]
    },
    {
      "cell_type": "code",
      "metadata": {
        "id": "xjzrTKy6nwgm",
        "colab_type": "code",
        "colab": {
          "base_uri": "https://localhost:8080/",
          "height": 472
        },
        "outputId": "eeef244f-30dd-4a2f-939e-dc70bcd29ed3"
      },
      "source": [
        "# Resize s3_BEME to s3_BEME_monthly\n",
        "s3_BEME_monthly = s3_size.copy()\n",
        "s3_BEME_monthly.columns = s3_BEME_monthly.columns.str.replace('.1', '.2')\n",
        "for pf in s3_BEME_monthly.index:\n",
        "    s3_BEME_monthly.loc[pf] = s3_BEME.loc[str(pf.year)+'-01-01']\n",
        "\n",
        "# obtain ln(size)\n",
        "s3_size_2 = s3_size.drop('year', axis=1)\n",
        "avg_size = []\n",
        "for column in s3_size_2:\n",
        "    avg_size.append(s3_size_2[column].mean())\n",
        "ln_avg_size = np.log(avg_size)\n",
        "\n",
        "# obtain ln(BEME)\n",
        "s3_BEME_monthly_2 = s3_BEME_monthly.drop('year', axis=1)\n",
        "avg_BEME = []\n",
        "for column in s3_BEME_monthly_2:\n",
        "    avg_BEME.append(s3_BEME_monthly_2[column].mean())\n",
        "ln_avg_BEME = np.log(avg_BEME)\n",
        "\n",
        "# OLS regression on avg_return and beta / ln(size) / ln(BEME)\n",
        "avg_return['ln(size)'] = ln_avg_size\n",
        "avg_return['ln(BEME)'] = ln_avg_BEME\n",
        "\n",
        "x['ln(size)'] = avg_return['ln(size)']\n",
        "x['ln(BEME)'] = avg_return['ln(BEME)']\n",
        "mod4 = sm.OLS(avg_return[\"avg_return\"], x).fit()\n",
        "mod4.summary()"
      ],
      "execution_count": null,
      "outputs": [
        {
          "output_type": "execute_result",
          "data": {
            "text/html": [
              "<table class=\"simpletable\">\n",
              "<caption>OLS Regression Results</caption>\n",
              "<tr>\n",
              "  <th>Dep. Variable:</th>       <td>avg_return</td>    <th>  R-squared:         </th> <td>   0.216</td>\n",
              "</tr>\n",
              "<tr>\n",
              "  <th>Model:</th>                   <td>OLS</td>       <th>  Adj. R-squared:    </th> <td>   0.163</td>\n",
              "</tr>\n",
              "<tr>\n",
              "  <th>Method:</th>             <td>Least Squares</td>  <th>  F-statistic:       </th> <td>   4.125</td>\n",
              "</tr>\n",
              "<tr>\n",
              "  <th>Date:</th>             <td>Tue, 22 Sep 2020</td> <th>  Prob (F-statistic):</th>  <td>0.0115</td> \n",
              "</tr>\n",
              "<tr>\n",
              "  <th>Time:</th>                 <td>03:00:16</td>     <th>  Log-Likelihood:    </th> <td>  28.965</td>\n",
              "</tr>\n",
              "<tr>\n",
              "  <th>No. Observations:</th>      <td>    49</td>      <th>  AIC:               </th> <td>  -49.93</td>\n",
              "</tr>\n",
              "<tr>\n",
              "  <th>Df Residuals:</th>          <td>    45</td>      <th>  BIC:               </th> <td>  -42.36</td>\n",
              "</tr>\n",
              "<tr>\n",
              "  <th>Df Model:</th>              <td>     3</td>      <th>                     </th>     <td> </td>   \n",
              "</tr>\n",
              "<tr>\n",
              "  <th>Covariance Type:</th>      <td>nonrobust</td>    <th>                     </th>     <td> </td>   \n",
              "</tr>\n",
              "</table>\n",
              "<table class=\"simpletable\">\n",
              "<tr>\n",
              "      <td></td>        <th>coef</th>     <th>std err</th>      <th>t</th>      <th>P>|t|</th>  <th>[0.025</th>    <th>0.975]</th>  \n",
              "</tr>\n",
              "<tr>\n",
              "  <th>const</th>    <td>   -0.0500</td> <td>    0.237</td> <td>   -0.211</td> <td> 0.833</td> <td>   -0.527</td> <td>    0.427</td>\n",
              "</tr>\n",
              "<tr>\n",
              "  <th>beta</th>     <td>    0.2633</td> <td>    0.094</td> <td>    2.810</td> <td> 0.007</td> <td>    0.075</td> <td>    0.452</td>\n",
              "</tr>\n",
              "<tr>\n",
              "  <th>ln(size)</th> <td>    0.0751</td> <td>    0.028</td> <td>    2.664</td> <td> 0.011</td> <td>    0.018</td> <td>    0.132</td>\n",
              "</tr>\n",
              "<tr>\n",
              "  <th>ln(BEME)</th> <td>   -0.0468</td> <td>    0.057</td> <td>   -0.823</td> <td> 0.415</td> <td>   -0.161</td> <td>    0.068</td>\n",
              "</tr>\n",
              "</table>\n",
              "<table class=\"simpletable\">\n",
              "<tr>\n",
              "  <th>Omnibus:</th>       <td>14.088</td> <th>  Durbin-Watson:     </th> <td>   1.620</td>\n",
              "</tr>\n",
              "<tr>\n",
              "  <th>Prob(Omnibus):</th> <td> 0.001</td> <th>  Jarque-Bera (JB):  </th> <td>  16.137</td>\n",
              "</tr>\n",
              "<tr>\n",
              "  <th>Skew:</th>          <td>-1.084</td> <th>  Prob(JB):          </th> <td>0.000313</td>\n",
              "</tr>\n",
              "<tr>\n",
              "  <th>Kurtosis:</th>      <td> 4.790</td> <th>  Cond. No.          </th> <td>    84.8</td>\n",
              "</tr>\n",
              "</table><br/><br/>Warnings:<br/>[1] Standard Errors assume that the covariance matrix of the errors is correctly specified."
            ],
            "text/plain": [
              "<class 'statsmodels.iolib.summary.Summary'>\n",
              "\"\"\"\n",
              "                            OLS Regression Results                            \n",
              "==============================================================================\n",
              "Dep. Variable:             avg_return   R-squared:                       0.216\n",
              "Model:                            OLS   Adj. R-squared:                  0.163\n",
              "Method:                 Least Squares   F-statistic:                     4.125\n",
              "Date:                Tue, 22 Sep 2020   Prob (F-statistic):             0.0115\n",
              "Time:                        03:00:16   Log-Likelihood:                 28.965\n",
              "No. Observations:                  49   AIC:                            -49.93\n",
              "Df Residuals:                      45   BIC:                            -42.36\n",
              "Df Model:                           3                                         \n",
              "Covariance Type:            nonrobust                                         \n",
              "==============================================================================\n",
              "                 coef    std err          t      P>|t|      [0.025      0.975]\n",
              "------------------------------------------------------------------------------\n",
              "const         -0.0500      0.237     -0.211      0.833      -0.527       0.427\n",
              "beta           0.2633      0.094      2.810      0.007       0.075       0.452\n",
              "ln(size)       0.0751      0.028      2.664      0.011       0.018       0.132\n",
              "ln(BEME)      -0.0468      0.057     -0.823      0.415      -0.161       0.068\n",
              "==============================================================================\n",
              "Omnibus:                       14.088   Durbin-Watson:                   1.620\n",
              "Prob(Omnibus):                  0.001   Jarque-Bera (JB):               16.137\n",
              "Skew:                          -1.084   Prob(JB):                     0.000313\n",
              "Kurtosis:                       4.790   Cond. No.                         84.8\n",
              "==============================================================================\n",
              "\n",
              "Warnings:\n",
              "[1] Standard Errors assume that the covariance matrix of the errors is correctly specified.\n",
              "\"\"\""
            ]
          },
          "metadata": {
            "tags": []
          },
          "execution_count": 8
        }
      ]
    },
    {
      "cell_type": "markdown",
      "metadata": {
        "id": "IP7Fi9--E52Z",
        "colab_type": "text"
      },
      "source": [
        "If the CAPM holds, then what should $\\gamma_{\\mathrm{size}}$ and $\\gamma_{B/M}$ equal?"
      ]
    },
    {
      "cell_type": "markdown",
      "metadata": {
        "id": "eiqkLU7oD3KN",
        "colab_type": "text"
      },
      "source": [
        "If the CAPM holds, $\\gamma_{\\mathrm{size}}$ and $\\gamma_{B/M}$ should both be equal to 0, since the expected return should be explained by beta and the expected return of uncorrelated asset - the expected return of the risk-free."
      ]
    },
    {
      "cell_type": "markdown",
      "metadata": {
        "id": "0o8YpdRsEhZe",
        "colab_type": "text"
      },
      "source": [
        "## f)\tEstimate with Fama MacBeth procedure\n",
        "The following is a brief outline of the procedure:\n",
        "\n",
        "1.\tEstimate $\\beta_{iM}$ for each portfolio. Assume that the betas do not change over time; hence, you can estimate the betas using full-period OLS regressions. (Note:  you have already done this.)\n",
        "\n",
        "2. Each month estimate th eregression, \n",
        "$$\n",
        "\\mathrm{R}_{\\mathrm{it}}=\\gamma_{0 \\mathrm{t}}+\\gamma_{\\mathrm{Mt}} \\mathrm{b}_{\\mathrm{iM}}+\\gamma_{\\mathrm{sizet}} \\ln \\left([\\mathrm{size}]_{\\mathrm{t}-1}\\right)+\\gamma_{\\mathrm{B} / \\mathrm{Mt}} \\ln \\left([\\mathrm{BE} / \\mathrm{ME}]_{\\mathrm{t}-1}\\right)+\\mathrm{n}_{\\mathrm{it}}\n",
        "$$\n",
        "\n",
        "- Note: You need to lag size and BE/ME appropriately in the regression. This means that size and BE/ME need to be measured ex ante and therefore must be the previous month’s size and previous year’s BE/ME.\n",
        "\n",
        "- Why is it important that the size and BE/ME characteristics should be lagged values?\n",
        "\n",
        "3. Compute the time series average of the estimates of $\n",
        "\\gamma_{0}, \\gamma_{\\mathrm{M}}, \\gamma_{\\mathrm{size}}, \\text { and } \\gamma_{\\mathrm{B} / \\mathrm{M}}\n",
        "$. In addition compute the standard error and t-stat of the time series averages."
      ]
    },
    {
      "cell_type": "code",
      "metadata": {
        "id": "GGl6lFt7E1B0",
        "colab_type": "code",
        "colab": {}
      },
      "source": [
        "# 2. Lag size and BE/ME\n",
        "# We merge s3_size and s3_BEME to make the Part I f) implementation easier\n",
        "# It would be a left join with key \"year\"\n",
        "s3_size_BEME  = pd.merge(s3_size,s3_BEME, 'left', on = 'year')\n",
        "\n",
        "# Lagging\n",
        "# https://stackoverflow.com/questions/51136283/pandas-insert-empty-row-at-0th-position\n",
        "temp = pd.DataFrame([[np.nan] * len(s3_size_BEME.columns)], columns=s3_size_BEME.columns)\n",
        "s3_size_BEME_lag = temp.append(s3_size_BEME, ignore_index=True)\n",
        "s3_size_BEME_lag = s3_size_BEME_lag.drop(1069)\n",
        "s3_size_BEME_lag.index = s3_size.index\n",
        "s3_size_BEME_lag = s3_size_BEME_lag.drop('year', axis = 1)\n",
        "\n",
        "for Date in s3_size_BEME_lag.index:\n",
        "    if Date.year == 1926:\n",
        "        s3_size_BEME_lag.loc[Date].iloc[50:99] = np.nan\n",
        "        continue\n",
        "    s3_size_BEME_lag.loc[Date].iloc[50:99] = s3_BEME.loc[str(Date.year-1)+'-01-01'].iloc[0:49]\n",
        "    \n",
        "gamma0_size_BEME = []\n",
        "gamma1_size_BEME = []\n",
        "gamma2_size_BEME = []\n",
        "gamma3_size_BEME = []\n",
        "\n",
        "reg_dt_2 = pd.merge(reg_dt, s3_size_BEME_lag, how = 'inner',left_index=True, right_index=True)\n",
        "\n",
        "size_BEME_return = avg_return.copy()\n",
        "size_BEME_return = size_BEME_return.rename(columns={'avg_return': 'size_BEME_return'})\n",
        "\n",
        "for Date in reg_dt_2.index:\n",
        "    temp1 = reg_dt_2.loc[Date,:].iloc[51:100]\n",
        "    if temp1.isnull().sum() == 49:\n",
        "        continue\n",
        "    temp1.index = temp1.index.str.replace('.1', '')\n",
        "    size_BEME_return['ln(size)'] = np.log(temp1)\n",
        "    temp2 = reg_dt_2.loc[Date,:].iloc[100:149]\n",
        "    if temp2.isnull().sum() == 49:\n",
        "        continue\n",
        "    temp2.index = temp2.index.str.replace('.2', '')\n",
        "    size_BEME_return['ln(BEME)'] = np.log(temp2)\n",
        "    size_BEME_return['size_BEME_return'] = reg_dt_2.loc[Date,:].iloc[2:51]\n",
        "    y = size_BEME_return['size_BEME_return']\n",
        "    x = sm.add_constant(size_BEME_return['beta'])\n",
        "    x['ln(size)'] = size_BEME_return['ln(size)']\n",
        "    x['ln(BEME)'] = size_BEME_return['ln(BEME)']\n",
        "    mod5 = sm.OLS(y, x, missing = 'drop').fit()\n",
        "    gamma0_size_BEME.append(mod5.params[0])\n",
        "    gamma1_size_BEME.append(mod5.params[1])\n",
        "    gamma2_size_BEME.append(mod5.params[2])\n",
        "    gamma3_size_BEME.append(mod5.params[3])"
      ],
      "execution_count": null,
      "outputs": []
    },
    {
      "cell_type": "code",
      "metadata": {
        "id": "5xPfRKE_ZxZX",
        "colab_type": "code",
        "colab": {
          "base_uri": "https://localhost:8080/",
          "height": 173
        },
        "outputId": "50ec43c6-99c2-4b13-9e07-0796355dafd5"
      },
      "source": [
        "mean_gamma0_size_BEME = np.mean(gamma0_size_BEME)\n",
        "mean_gamma1_size_BEME = np.mean(gamma1_size_BEME)\n",
        "mean_gamma2_size_BEME = np.mean(gamma2_size_BEME)\n",
        "mean_gamma3_size_BEME = np.mean(gamma3_size_BEME)\n",
        "SE_gamma0_size_BEME = np.std(gamma0_size_BEME)/np.sqrt(len(gamma0_size_BEME))\n",
        "SE_gamma1_size_BEME = np.std(gamma1_size_BEME)/np.sqrt(len(gamma1_size_BEME))\n",
        "SE_gamma2_size_BEME = np.std(gamma2_size_BEME)/np.sqrt(len(gamma2_size_BEME))\n",
        "SE_gamma3_size_BEME = np.std(gamma3_size_BEME)/np.sqrt(len(gamma3_size_BEME))\n",
        "\n",
        "# t-test\n",
        "# for gamma0, the null hypothesis should be gamma0 = Rf\n",
        "# for gamma1, the null hypothesis should be gamma1 = 0, with alternative hypothesis being gamma1 > 0\n",
        "# for gamma2, the null hypothesis should be gamma2 = 0\n",
        "# for gamma3, the null hypothesis should be gamma3 = 0\n",
        "t_gamma0_size_BEME = (mean_gamma0_size_BEME - Rf) / SE_gamma0_size_BEME\n",
        "t_gamma1_size_BEME = mean_gamma1_size_BEME / SE_gamma1_size_BEME\n",
        "t_gamma2_size_BEME = mean_gamma2_size_BEME / SE_gamma2_size_BEME\n",
        "t_gamma3_size_BEME = mean_gamma3_size_BEME / SE_gamma3_size_BEME\n",
        "size_BEME_params = pd.DataFrame({'mean': [mean_gamma0_size_BEME, \n",
        "        mean_gamma1_size_BEME, mean_gamma2_size_BEME, mean_gamma3_size_BEME], \n",
        "        'standard error': [SE_gamma0_size_BEME, SE_gamma1_size_BEME, SE_gamma2_size_BEME,\n",
        "        SE_gamma3_size_BEME], 't-stats':[t_gamma0_size_BEME, t_gamma1_size_BEME, \n",
        "        t_gamma2_size_BEME, t_gamma3_size_BEME]})\n",
        "size_BEME_params"
      ],
      "execution_count": null,
      "outputs": [
        {
          "output_type": "execute_result",
          "data": {
            "text/html": [
              "<div>\n",
              "<style scoped>\n",
              "    .dataframe tbody tr th:only-of-type {\n",
              "        vertical-align: middle;\n",
              "    }\n",
              "\n",
              "    .dataframe tbody tr th {\n",
              "        vertical-align: top;\n",
              "    }\n",
              "\n",
              "    .dataframe thead th {\n",
              "        text-align: right;\n",
              "    }\n",
              "</style>\n",
              "<table border=\"1\" class=\"dataframe\">\n",
              "  <thead>\n",
              "    <tr style=\"text-align: right;\">\n",
              "      <th></th>\n",
              "      <th>mean</th>\n",
              "      <th>standard error</th>\n",
              "      <th>t-stats</th>\n",
              "    </tr>\n",
              "  </thead>\n",
              "  <tbody>\n",
              "    <tr>\n",
              "      <th>0</th>\n",
              "      <td>0.693488</td>\n",
              "      <td>0.298315</td>\n",
              "      <td>1.379242</td>\n",
              "    </tr>\n",
              "    <tr>\n",
              "      <th>1</th>\n",
              "      <td>0.062086</td>\n",
              "      <td>0.222475</td>\n",
              "      <td>0.279071</td>\n",
              "    </tr>\n",
              "    <tr>\n",
              "      <th>2</th>\n",
              "      <td>-0.027838</td>\n",
              "      <td>0.040358</td>\n",
              "      <td>-0.689782</td>\n",
              "    </tr>\n",
              "    <tr>\n",
              "      <th>3</th>\n",
              "      <td>-0.006643</td>\n",
              "      <td>0.073298</td>\n",
              "      <td>-0.090636</td>\n",
              "    </tr>\n",
              "  </tbody>\n",
              "</table>\n",
              "</div>"
            ],
            "text/plain": [
              "       mean  standard error   t-stats\n",
              "0  0.693488        0.298315  1.379242\n",
              "1  0.062086        0.222475  0.279071\n",
              "2 -0.027838        0.040358 -0.689782\n",
              "3 -0.006643        0.073298 -0.090636"
            ]
          },
          "metadata": {
            "tags": []
          },
          "execution_count": 10
        }
      ]
    },
    {
      "cell_type": "markdown",
      "metadata": {
        "id": "jZJmP21IAPyE",
        "colab_type": "text"
      },
      "source": [
        "\n",
        "Why is it important that the size and BE/ME characteristics should be lagged values? Can you reject the hypothesis that the proxy for the market portfolio is mean variance efficient? Why or why not? "
      ]
    },
    {
      "cell_type": "markdown",
      "metadata": {
        "id": "wAAUtTaLZrgA",
        "colab_type": "text"
      },
      "source": [
        "The size and BE/ME characteristics should be lagged values because even with current period data it is a glimpse into the future, i.e. market reflection to information that comes out at or after the current period, and will have high correlation to the results. In other words, with current period data, we won't be testing whether the regression could predict the return, but rather confirming that these variables have extremely high predictive power.\n",
        "\n",
        "Since the t-stat for $\\gamma_1$ is 0.279 which is less than $t_{crit, (0.95, 1000)}$ = 1.646, we conclude that we fail to reject the null hypothesis that $\\gamma_1$ = 0。\n",
        "\n",
        "Therefore, the proxy of the market portfolio is not mean-variance efficient."
      ]
    },
    {
      "cell_type": "markdown",
      "metadata": {
        "id": "c30d3ttCYU-D",
        "colab_type": "text"
      },
      "source": [
        "# Part II: For the 25 Size and BE/ME portfolio spreadsheet"
      ]
    },
    {
      "cell_type": "markdown",
      "metadata": {
        "id": "Ml84mbJvaxVT",
        "colab_type": "text"
      },
      "source": [
        "## 1) Repeat parts b), c), d), and f) for the 25 size and BE/ME portfolios instead of the industries."
      ]
    },
    {
      "cell_type": "code",
      "metadata": {
        "id": "eut6g7eKa1oA",
        "colab_type": "code",
        "colab": {
          "base_uri": "https://localhost:8080/",
          "height": 599
        },
        "outputId": "c023e910-0209-4042-eeee-aab041a3f596"
      },
      "source": [
        "sheet2_return = pd.read_excel(\"Problem_Set3.xls\", sheet_name='25_Size_BEME_Portfolios', \n",
        "                     skiprows=2, index_col=None, usecols=\"A:Z\", na_values=-99.99)\n",
        "sheet2_return[\"Date\"] = pd.to_datetime(sheet2_return[\"BE/ME\"], format=\"%Y%m\")\n",
        "s2_return = sheet2_return.set_index(\"Date\")\n",
        "s2_return = s2_return.loc[s2_return.index.dropna()]\n",
        "s2_return = s2_return.drop(\"BE/ME\", axis = 1)\n",
        "\n",
        "sheet2_size = pd.read_excel(\"Problem_Set3.xls\", sheet_name='25_Size_BEME_Portfolios', \n",
        "                     skiprows=2, index_col=None, usecols=\"AB:BA\", na_values=-99.99)\n",
        "sheet2_size[\"Date\"] = pd.to_datetime(sheet2_size[\"BE/ME.1\"], format=\"%Y%m\")\n",
        "s2_size = sheet2_size.set_index(\"Date\")\n",
        "s2_size = s2_size.loc[s2_size.index.dropna()]\n",
        "s2_size = s2_size.drop(\"BE/ME.1\", axis = 1)\n",
        "s2_size['year'] = s2_size.index.year\n",
        "\n",
        "sheet2_BEME = pd.read_excel(\"Problem_Set3.xls\", sheet_name='25_Size_BEME_Portfolios', \n",
        "                     skiprows=2, index_col=None, usecols=\"BC:CB\", na_values=-99.99)\n",
        "sheet2_BEME[\"Date\"] = pd.to_datetime(sheet2_BEME[\"BE/ME.2\"], format=\"%Y\")\n",
        "s2_BEME = sheet2_BEME.set_index(\"Date\")\n",
        "s2_BEME = s2_BEME.loc[s2_BEME.index.dropna()]\n",
        "s2_BEME = s2_BEME.drop(\"BE/ME.2\", axis = 1)\n",
        "s2_BEME['year'] = s2_BEME.index.year\n",
        "\n",
        "# Repeat part (b)\n",
        "# merge s1 with s2_return\n",
        "reg_dt_3 = pd.merge(s1,s2_return, how = 'inner',left_index=True, right_index=True)\n",
        "\n",
        "# second term with beta coefficient on the RHS of the formula\n",
        "reg_dt_3.iloc[:, 2:] = reg_dt_3.iloc[:, 2:].subtract(reg_dt_3['RF'], axis = 0)\n",
        "\n",
        "# average return on the LHS of the formula\n",
        "avg_return_2 = pd.DataFrame(reg_dt_3.iloc[:, 2:].mean())\n",
        "avg_return_2.columns = ['avg_return_25 Size']\n",
        "\n",
        "# estimate betas\n",
        "beta_2 = []\n",
        "for pf in avg_return_2.index:\n",
        "  x = sm.add_constant(reg_dt_3['Mkt-RF'])\n",
        "  y = reg_dt_3[pf]\n",
        "  mod4 = sm.OLS(y,x,missing = 'drop').fit()\n",
        "  beta_2.append(mod4.params[1])\n",
        "\n",
        "gamma0_2 = []\n",
        "gamma1_2 = []\n",
        "\n",
        "x = sm.add_constant(beta_2)\n",
        "for Date in reg_dt_3.index:\n",
        "  y = reg_dt_3.loc[Date,:].iloc[2:]\n",
        "  mod5 = sm.OLS(y,x,missing = 'drop').fit()\n",
        "  gamma0_2.append(mod5.params[0])\n",
        "  gamma1_2.append(mod5.params[1])\n",
        "\n",
        "# merge date, gamma0, gamma1\n",
        "df_2 = pd.DataFrame({'Date': reg_dt_3.index, 'gamma0':gamma0_2, 'gamma1':gamma1_2})\n",
        "\n",
        "mean_gamma0_2 = np.mean(gamma0_2)\n",
        "mean_gamma1_2 =np.mean(gamma1_2)\n",
        "SE_gamma0_2 = np.std(gamma0_2) / np.sqrt(len(gamma0_2))\n",
        "SE_gamma1_2 = np.std(gamma1_2)/ np.sqrt(len(gamma1_2))\n",
        "\n",
        "# t-test\n",
        "# for gamma0, the test / null hypothesis should be gamma0 = Rf\n",
        "# for gamma1, the test / null hypothesis should be gamma1 = Rm - Rf\n",
        "Rf = np.mean(reg_dt_3['RF'])\n",
        "t_gamma0_2 = (mean_gamma0_2 - Rf) / SE_gamma0_2\n",
        "t_gamma1_2 = (mean_gamma1_2) / SE_gamma1_2\n",
        "print(\"mean of gamma 0: \", mean_gamma0_2, \"mean of gamma 1: \", mean_gamma1_2,\"SE of gamma0: \", \n",
        "      SE_gamma0_2, \"SE of gamma1: \", SE_gamma1_2, \"t-stat for gamma0: \", t_gamma0_2,\n",
        "      \"t-stat for gamma1: \", t_gamma1_2)\n",
        "\n",
        "# Repeat part (c)\n",
        "# OLS regression on avg_return_2 and beta_2\n",
        "avg_return_2['beta'] = beta_2\n",
        "avg_return_2\n",
        "\n",
        "x = sm.add_constant(avg_return_2['beta'])\n",
        "mod6 = sm.OLS(avg_return_2[\"avg_return_25 Size\"],x, data = avg_return_2).fit()\n",
        "mod6.summary()\n",
        "\n",
        "# Repeat part (d)\n",
        "fig=plt.figure(figsize=(12,6))\n",
        "plt.plot(avg_return_2['avg_return_25 Size'], avg_return_2['beta'],'.',markersize=10)\n",
        "plt.xlabel('Beta')\n",
        "plt.ylabel('Average Return');\n",
        "plt.title('Question 2): 25 Size and BE/ME Portfolios Average Return vs Beta', fontsize=16)\n",
        "plt.xlim(0, 1.5)\n",
        "plt.ylim(0, 2)\n",
        "\n",
        "# Repeat part (f)\n",
        "# Lag size and BE/ME\n",
        "# We merge s3_size and s3_BEME to make the Part I f) implementation easier\n",
        "# It would be a left join with key \"year\"\n",
        "s2_size_BEME  = pd.merge(s2_size, s2_BEME, 'left', on = 'year')\n",
        "\n",
        "# Lagging\n",
        "# https://stackoverflow.com/questions/51136283/pandas-insert-empty-row-at-0th-position\n",
        "temp = pd.DataFrame([[np.nan] * len(s2_size_BEME.columns)], columns=s2_size_BEME.columns)\n",
        "s2_size_BEME_lag = temp.append(s2_size_BEME, ignore_index=True)\n",
        "s2_size_BEME_lag = s2_size_BEME_lag.drop(1073)\n",
        "s2_size_BEME_lag.index = s2_size.index\n",
        "s2_size_BEME_lag = s2_size_BEME_lag.drop('year', axis = 1)\n",
        "\n",
        "for Date in s2_size_BEME_lag.index:\n",
        "    if Date.year == 1926:\n",
        "        s2_size_BEME_lag.loc[Date].iloc[25:50] = np.nan\n",
        "        continue\n",
        "    s2_size_BEME_lag.loc[Date].iloc[25:50] = s2_BEME.loc[str(Date.year-1)+'-01-01'].iloc[0:25]\n",
        "    \n",
        "gamma0_size_BEME_25 = []\n",
        "gamma1_size_BEME_25 = []\n",
        "gamma2_size_BEME_25 = []\n",
        "gamma3_size_BEME_25 = []\n",
        "\n",
        "reg_dt_4 = pd.merge(reg_dt_3, s2_size_BEME_lag, how = 'inner',left_index=True, right_index=True)\n",
        "\n",
        "size_BEME_return_25 = avg_return_2.copy()\n",
        "size_BEME_return_25 = size_BEME_return_25.rename(columns={'avg_return': 'size_BEME_return'})\n",
        "\n",
        "for Date in reg_dt_4.index:\n",
        "    temp1 = reg_dt_4.loc[Date,:].iloc[27:52]\n",
        "    if temp1.isnull().sum() == 25:\n",
        "        continue\n",
        "    temp1.index = temp1.index.str.replace('.5', '')\n",
        "    temp1.index = temp1.index.str.replace('.6', '.1')\n",
        "    temp1.index = temp1.index.str.replace('.7', '.2')\n",
        "    temp1.index = temp1.index.str.replace('.8', '.3')\n",
        "    temp1.index = temp1.index.str.replace('.9', '.4')\n",
        "    size_BEME_return_25['ln(size)'] = np.log(temp1)\n",
        "    temp2 = reg_dt_4.loc[Date,:].iloc[52:77]\n",
        "    if temp2.isnull().sum() == 25:\n",
        "        continue\n",
        "    temp2.index = temp2.index.str.replace('.10', '')\n",
        "    temp2.index = temp2.index.str.replace('.11', '.1')\n",
        "    temp2.index = temp2.index.str.replace('.12', '.2')\n",
        "    temp2.index = temp2.index.str.replace('.13', '.3')\n",
        "    temp2.index = temp2.index.str.replace('.14', '.4')\n",
        "    size_BEME_return_25['ln(BEME)'] = np.log(temp2)\n",
        "    size_BEME_return_25['size_BEME_return'] = reg_dt_4.loc[Date,:].iloc[2:27]\n",
        "    y = size_BEME_return_25['size_BEME_return']\n",
        "    x = sm.add_constant(size_BEME_return_25['beta'])\n",
        "    x['ln(size)'] = size_BEME_return_25['ln(size)']\n",
        "    x['ln(BEME)'] = size_BEME_return_25['ln(BEME)']\n",
        "    mod7 = sm.OLS(y, x, missing = 'drop').fit()\n",
        "    gamma0_size_BEME_25.append(mod7.params[0])\n",
        "    gamma1_size_BEME_25.append(mod7.params[1])\n",
        "    gamma2_size_BEME_25.append(mod7.params[2])\n",
        "    gamma3_size_BEME_25.append(mod7.params[3])\n",
        "    \n",
        "mean_gamma0_size_BEME_25 = np.mean(gamma0_size_BEME_25)\n",
        "mean_gamma1_size_BEME_25 = np.mean(gamma1_size_BEME_25)\n",
        "mean_gamma2_size_BEME_25 = np.mean(gamma2_size_BEME_25)\n",
        "mean_gamma3_size_BEME_25 = np.mean(gamma3_size_BEME_25)\n",
        "SE_gamma0_size_BEME_25 = np.std(gamma0_size_BEME_25) / np.sqrt(len(gamma0_size_BEME_25))\n",
        "SE_gamma1_size_BEME_25 = np.std(gamma1_size_BEME_25) / np.sqrt(len(gamma1_size_BEME_25))\n",
        "SE_gamma2_size_BEME_25 = np.std(gamma2_size_BEME_25) / np.sqrt(len(gamma2_size_BEME_25))\n",
        "SE_gamma3_size_BEME_25 = np.std(gamma3_size_BEME_25) / np.sqrt(len(gamma3_size_BEME_25))\n",
        "\n",
        "# t-test\n",
        "# for gamma0, the null hypothesis should be gamma0 = Rf\n",
        "# for gamma1, the null hypothesis should be gamma1 = 0, with alternative hypothesis being gamma1 > 0\n",
        "# for gamma2, the null hypothesis should be gamma3 = 0\n",
        "# for gamma3, the null hypothesis should be gamma4 = 0\n",
        "t_gamma0_size_BEME_25 = (mean_gamma0_size_BEME_25 - Rf) / SE_gamma0_size_BEME_25\n",
        "t_gamma1_size_BEME_25 = mean_gamma1_size_BEME_25 / SE_gamma1_size_BEME_25\n",
        "t_gamma2_size_BEME_25 = mean_gamma2_size_BEME_25 / SE_gamma2_size_BEME_25\n",
        "t_gamma3_size_BEME_25 = mean_gamma3_size_BEME_25 / SE_gamma3_size_BEME_25\n",
        "size_BEME_params_25 = pd.DataFrame({'mean': [mean_gamma0_size_BEME_25, \n",
        "        mean_gamma1_size_BEME_25, mean_gamma2_size_BEME_25, mean_gamma3_size_BEME_25], \n",
        "        'standard error': [SE_gamma0_size_BEME_25, SE_gamma1_size_BEME_25, SE_gamma2_size_BEME_25,\n",
        "        SE_gamma3_size_BEME_25], 't-stats':[t_gamma0_size_BEME_25, t_gamma1_size_BEME_25, \n",
        "        t_gamma2_size_BEME_25, t_gamma3_size_BEME_25]})\n",
        "size_BEME_params_25"
      ],
      "execution_count": null,
      "outputs": [
        {
          "output_type": "stream",
          "text": [
            "mean of gamma 0:  0.3280932664818819 mean of gamma 1:  0.4603757434721378 SE of gamma0:  0.34196219865395266 SE of gamma1:  0.3686607490575786 t-stat for gamma0:  0.1377502607923923 t-stat for gamma1:  1.248778842469706\n"
          ],
          "name": "stdout"
        },
        {
          "output_type": "execute_result",
          "data": {
            "text/html": [
              "<div>\n",
              "<style scoped>\n",
              "    .dataframe tbody tr th:only-of-type {\n",
              "        vertical-align: middle;\n",
              "    }\n",
              "\n",
              "    .dataframe tbody tr th {\n",
              "        vertical-align: top;\n",
              "    }\n",
              "\n",
              "    .dataframe thead th {\n",
              "        text-align: right;\n",
              "    }\n",
              "</style>\n",
              "<table border=\"1\" class=\"dataframe\">\n",
              "  <thead>\n",
              "    <tr style=\"text-align: right;\">\n",
              "      <th></th>\n",
              "      <th>mean</th>\n",
              "      <th>standard error</th>\n",
              "      <th>t-stats</th>\n",
              "    </tr>\n",
              "  </thead>\n",
              "  <tbody>\n",
              "    <tr>\n",
              "      <th>0</th>\n",
              "      <td>1.935970</td>\n",
              "      <td>0.490288</td>\n",
              "      <td>3.375530</td>\n",
              "    </tr>\n",
              "    <tr>\n",
              "      <th>1</th>\n",
              "      <td>-0.521017</td>\n",
              "      <td>0.411349</td>\n",
              "      <td>-1.266605</td>\n",
              "    </tr>\n",
              "    <tr>\n",
              "      <th>2</th>\n",
              "      <td>-0.090709</td>\n",
              "      <td>0.031525</td>\n",
              "      <td>-2.877406</td>\n",
              "    </tr>\n",
              "    <tr>\n",
              "      <th>3</th>\n",
              "      <td>0.247289</td>\n",
              "      <td>0.061352</td>\n",
              "      <td>4.030667</td>\n",
              "    </tr>\n",
              "  </tbody>\n",
              "</table>\n",
              "</div>"
            ],
            "text/plain": [
              "       mean  standard error   t-stats\n",
              "0  1.935970        0.490288  3.375530\n",
              "1 -0.521017        0.411349 -1.266605\n",
              "2 -0.090709        0.031525 -2.877406\n",
              "3  0.247289        0.061352  4.030667"
            ]
          },
          "metadata": {
            "tags": []
          },
          "execution_count": 11
        },
        {
          "output_type": "display_data",
          "data": {
            "image/png": "[encoded data removed]",
            "text/plain": [
              "<Figure size 864x432 with 1 Axes>"
            ]
          },
          "metadata": {
            "tags": [],
            "needs_background": "light"
          }
        }
      ]
    },
    {
      "cell_type": "code",
      "metadata": {
        "id": "FoMi3K7tswzo",
        "colab_type": "code",
        "colab": {
          "base_uri": "https://localhost:8080/",
          "height": 444
        },
        "outputId": "9c9539bc-9d5f-4b66-c24d-a7cb6fb15fe5"
      },
      "source": [
        "mod6.summary()"
      ],
      "execution_count": null,
      "outputs": [
        {
          "output_type": "execute_result",
          "data": {
            "text/html": [
              "<table class=\"simpletable\">\n",
              "<caption>OLS Regression Results</caption>\n",
              "<tr>\n",
              "  <th>Dep. Variable:</th>    <td>avg_return_25 Size</td> <th>  R-squared:         </th> <td>   0.119</td>\n",
              "</tr>\n",
              "<tr>\n",
              "  <th>Model:</th>                    <td>OLS</td>        <th>  Adj. R-squared:    </th> <td>   0.081</td>\n",
              "</tr>\n",
              "<tr>\n",
              "  <th>Method:</th>              <td>Least Squares</td>   <th>  F-statistic:       </th> <td>   3.103</td>\n",
              "</tr>\n",
              "<tr>\n",
              "  <th>Date:</th>              <td>Tue, 22 Sep 2020</td>  <th>  Prob (F-statistic):</th>  <td>0.0915</td> \n",
              "</tr>\n",
              "<tr>\n",
              "  <th>Time:</th>                  <td>03:01:02</td>      <th>  Log-Likelihood:    </th> <td>  4.9536</td>\n",
              "</tr>\n",
              "<tr>\n",
              "  <th>No. Observations:</th>       <td>    25</td>       <th>  AIC:               </th> <td>  -5.907</td>\n",
              "</tr>\n",
              "<tr>\n",
              "  <th>Df Residuals:</th>           <td>    23</td>       <th>  BIC:               </th> <td>  -3.469</td>\n",
              "</tr>\n",
              "<tr>\n",
              "  <th>Df Model:</th>               <td>     1</td>       <th>                     </th>     <td> </td>   \n",
              "</tr>\n",
              "<tr>\n",
              "  <th>Covariance Type:</th>       <td>nonrobust</td>     <th>                     </th>     <td> </td>   \n",
              "</tr>\n",
              "</table>\n",
              "<table class=\"simpletable\">\n",
              "<tr>\n",
              "    <td></td>       <th>coef</th>     <th>std err</th>      <th>t</th>      <th>P>|t|</th>  <th>[0.025</th>    <th>0.975]</th>  \n",
              "</tr>\n",
              "<tr>\n",
              "  <th>const</th> <td>    0.3281</td> <td>    0.321</td> <td>    1.022</td> <td> 0.317</td> <td>   -0.336</td> <td>    0.992</td>\n",
              "</tr>\n",
              "<tr>\n",
              "  <th>beta</th>  <td>    0.4604</td> <td>    0.261</td> <td>    1.761</td> <td> 0.091</td> <td>   -0.080</td> <td>    1.001</td>\n",
              "</tr>\n",
              "</table>\n",
              "<table class=\"simpletable\">\n",
              "<tr>\n",
              "  <th>Omnibus:</th>       <td> 1.228</td> <th>  Durbin-Watson:     </th> <td>   1.287</td>\n",
              "</tr>\n",
              "<tr>\n",
              "  <th>Prob(Omnibus):</th> <td> 0.541</td> <th>  Jarque-Bera (JB):  </th> <td>   0.567</td>\n",
              "</tr>\n",
              "<tr>\n",
              "  <th>Skew:</th>          <td>-0.366</td> <th>  Prob(JB):          </th> <td>   0.753</td>\n",
              "</tr>\n",
              "<tr>\n",
              "  <th>Kurtosis:</th>      <td> 3.098</td> <th>  Cond. No.          </th> <td>    15.8</td>\n",
              "</tr>\n",
              "</table><br/><br/>Warnings:<br/>[1] Standard Errors assume that the covariance matrix of the errors is correctly specified."
            ],
            "text/plain": [
              "<class 'statsmodels.iolib.summary.Summary'>\n",
              "\"\"\"\n",
              "                            OLS Regression Results                            \n",
              "==============================================================================\n",
              "Dep. Variable:     avg_return_25 Size   R-squared:                       0.119\n",
              "Model:                            OLS   Adj. R-squared:                  0.081\n",
              "Method:                 Least Squares   F-statistic:                     3.103\n",
              "Date:                Tue, 22 Sep 2020   Prob (F-statistic):             0.0915\n",
              "Time:                        03:01:02   Log-Likelihood:                 4.9536\n",
              "No. Observations:                  25   AIC:                            -5.907\n",
              "Df Residuals:                      23   BIC:                            -3.469\n",
              "Df Model:                           1                                         \n",
              "Covariance Type:            nonrobust                                         \n",
              "==============================================================================\n",
              "                 coef    std err          t      P>|t|      [0.025      0.975]\n",
              "------------------------------------------------------------------------------\n",
              "const          0.3281      0.321      1.022      0.317      -0.336       0.992\n",
              "beta           0.4604      0.261      1.761      0.091      -0.080       1.001\n",
              "==============================================================================\n",
              "Omnibus:                        1.228   Durbin-Watson:                   1.287\n",
              "Prob(Omnibus):                  0.541   Jarque-Bera (JB):                0.567\n",
              "Skew:                          -0.366   Prob(JB):                        0.753\n",
              "Kurtosis:                       3.098   Cond. No.                         15.8\n",
              "==============================================================================\n",
              "\n",
              "Warnings:\n",
              "[1] Standard Errors assume that the covariance matrix of the errors is correctly specified.\n",
              "\"\"\""
            ]
          },
          "metadata": {
            "tags": []
          },
          "execution_count": 12
        }
      ]
    },
    {
      "cell_type": "markdown",
      "metadata": {
        "id": "uIy1qzDbsYwD",
        "colab_type": "text"
      },
      "source": [
        "Conclusion for part (b): We fail to reject the hypothesis that the proxy for the market portfolio is mean variance efficient because t-stat for both gamma coefficients are less than the critical value. \n",
        "\n",
        "Conclusion for part (c): Both gamma coefficients are the same from both methods, but with different SE.  By comparing the SE in (b) and OLS regression from (c), we determine that the cross-sectional regression has less SE and therefore is superior method.\n",
        "\n",
        "Conclusion for part (f): Given the table of t-stat of model coefficients, at least one of them is less than the t-critical value. Therefore, we fail to reject the null hypotehsis that the proxy for the market portfolio is mean-variance efficient. "
      ]
    },
    {
      "cell_type": "markdown",
      "metadata": {
        "id": "k3b_wzPvnc-n",
        "colab_type": "text"
      },
      "source": [
        "## 2)\tRepeat parts c) and d) above\n",
        " for the 25 size and BE/ME portfolios using the tangency portfolio (computed in sample using the sample mean and covariance matrix of the 25 portfolios over the entire sample) of the 25 size and BE/ME portfolios instead of the market portfolio.\n",
        "\n",
        "a.\tFirst, compute the tangency weights for the 25 portfolios.\n",
        "$$\n",
        "\\frac{V^{-1}\\left(R-r_{f} 1\\right)}{1^{\\prime} V^{-1}\\left(R-r_{f}\\right)}\n",
        "$$\n",
        "b.\tThen reconstruct the returns of the tangency portfolio over time and use this for RM to estimate the betas.\n",
        "\n"
      ]
    },
    {
      "cell_type": "code",
      "metadata": {
        "id": "yY3dnRtyqv8O",
        "colab_type": "code",
        "colab": {}
      },
      "source": [
        "# a. tangency weight\n",
        "s2_return_invcov_T = np.linalg.inv(s2_return.cov()) # inverse cov. matrix, (25,25)\n",
        "R = s2_return.mean() # (25,)\n",
        "rf = s1['RF'].mean() # scalar\n",
        "ones = np.transpose([1]*len(s2_return.columns.tolist())) # (25,)\n",
        "onesT = np.transpose(ones) # (25,)\n",
        "\n",
        "num = s2_return_invcov_T @ (R - rf * ones) \n",
        "denom = onesT @ s2_return_invcov_T @ (R - rf)\n",
        "weight_tang = num/denom # (25,)"
      ],
      "execution_count": null,
      "outputs": []
    },
    {
      "cell_type": "code",
      "metadata": {
        "id": "4fJzo1550r6_",
        "colab_type": "code",
        "colab": {
          "base_uri": "https://localhost:8080/",
          "height": 460
        },
        "outputId": "0893d9b3-b75f-4d35-8a88-e6daac3929cf"
      },
      "source": [
        "# b. reconstruct the returns of the tangency portfolio over time and recalculated beta\n",
        "new_RM = s2_return @ weight_tang\n",
        "new_s1 = s1.copy()\n",
        "new_s1['Mkt-RF'] = new_RM - s1['RF']\n",
        "\n",
        "# Repeat part (b)\n",
        "# merge new_s1 with s2_return\n",
        "reg_dt_5 = pd.merge(new_s1, s2_return, how = 'inner',left_index=True, right_index=True)\n",
        "\n",
        "# second term with beta coefficient on the RHS of the formula\n",
        "reg_dt_5.iloc[:, 2:] = reg_dt_5.iloc[:, 2:].subtract(reg_dt_5['RF'], axis = 0)\n",
        "\n",
        "# average return on the LHS of the formula\n",
        "avg_return_3 = pd.DataFrame(reg_dt_5.iloc[:, 2:].mean())\n",
        "avg_return_3.columns = ['avg_return_25 Size']\n",
        "\n",
        "# estimate betas\n",
        "beta_3 = []\n",
        "for pf in avg_return_3.index:\n",
        "  x = sm.add_constant(reg_dt_5['Mkt-RF'])\n",
        "  y = reg_dt_5[pf]\n",
        "  mod8 = sm.OLS(y, x, missing = 'drop').fit()\n",
        "  beta_3.append(mod8.params[1])\n",
        "\n",
        "gamma0_3 = []\n",
        "gamma1_3 = []\n",
        "\n",
        "x = sm.add_constant(beta_3)\n",
        "for Date in reg_dt_5.index:\n",
        "  y = reg_dt_5.loc[Date,:].iloc[2:]\n",
        "  mod9 = sm.OLS(y, x, missing = 'drop').fit()\n",
        "  gamma0_3.append(mod9.params[0])\n",
        "  gamma1_3.append(mod9.params[1])\n",
        "\n",
        "# merge date, gamma0, gamma1\n",
        "df_3 = pd.DataFrame({'Date': reg_dt_5.index, 'gamma0':gamma0_3, 'gamma1':gamma1_3})\n",
        "\n",
        "mean_gamma0_3 = np.mean(gamma0_3)\n",
        "mean_gamma1_3 =np.mean(gamma1_3)\n",
        "SE_gamma0_3 = np.std(gamma0_3) / np.sqrt(len(gamma0_3))\n",
        "SE_gamma1_3 = np.std(gamma1_3)/ np.sqrt(len(gamma1_3))\n",
        "\n",
        "# t-test\n",
        "# for gamma0, the test / null hypothesis should be gamma0 = Rf\n",
        "# for gamma1, the test / null hypothesis should be gamma1 = Rm - Rf\n",
        "Rf = np.mean(reg_dt_5['RF'])\n",
        "t_gamma0_3 = (mean_gamma0_3 - Rf) / SE_gamma0_3\n",
        "t_gamma1_3 = (mean_gamma1_3) / SE_gamma1_3\n",
        "print(\"mean of gamma 0: \", mean_gamma0_3, \"mean of gamma 1: \", mean_gamma1_3,\"SE of gamma0: \", \n",
        "      SE_gamma0_3, \"SE of gamma1: \", SE_gamma1_3, \"t-stat for gamma0: \", t_gamma0_3,\n",
        "      \"t-stat for gamma1: \", t_gamma1_3)\n",
        "\n",
        "# Repeat part (c)\n",
        "# OLS regression on avg_return_2 and beta_2\n",
        "avg_return_3['beta'] = beta_3\n",
        "avg_return_3\n",
        "\n",
        "x = sm.add_constant(avg_return_3['beta'])\n",
        "mod10 = sm.OLS(avg_return_3[\"avg_return_25 Size\"],x, data = avg_return_3).fit()\n",
        "mod10.summary()\n",
        "\n",
        "# Repeat part (d)\n",
        "fig=plt.figure(figsize=(12,6))\n",
        "plt.plot(avg_return_3['avg_return_25 Size'], avg_return_3['beta'],'.',markersize=10)\n",
        "plt.xlabel('Beta')\n",
        "plt.ylabel('Average Return');\n",
        "plt.title('Question 2): 25 Size and BE/ME Portfolios Average Return vs Beta, with Tangency Portfolio', fontsize=16)\n",
        "plt.xlim(0.5, 1.5)\n",
        "plt.ylim(0.2, 0.6)"
      ],
      "execution_count": null,
      "outputs": [
        {
          "output_type": "stream",
          "text": [
            "mean of gamma 0:  -0.00420568564572304 mean of gamma 1:  2.5211274940551194 SE of gamma0:  0.1987476463594341 SE of gamma1:  0.45631866832007134 t-stat for gamma0:  -1.4349531946965148 t-stat for gamma1:  5.524927356876726\n"
          ],
          "name": "stdout"
        },
        {
          "output_type": "execute_result",
          "data": {
            "text/plain": [
              "(0.2, 0.6)"
            ]
          },
          "metadata": {
            "tags": []
          },
          "execution_count": 14
        },
        {
          "output_type": "display_data",
          "data": {
            "image/png": "[encoded data removed]",
            "text/plain": [
              "<Figure size 864x432 with 1 Axes>"
            ]
          },
          "metadata": {
            "tags": [],
            "needs_background": "light"
          }
        }
      ]
    },
    {
      "cell_type": "markdown",
      "metadata": {
        "id": "mKqM2DkuuBJL",
        "colab_type": "text"
      },
      "source": [
        "Conclusion for part (c): we fail to reject the null hypothesis when $\\alpha = 0.05$ because t-stat for gamma0 is less than t-crit. "
      ]
    },
    {
      "cell_type": "markdown",
      "metadata": {
        "id": "yf4Dn10WtIfa",
        "colab_type": "text"
      },
      "source": [
        "c.\tHow do the results highlight the Roll (1977) critique of tests of the CAPM?\n",
        "\n",
        "From the result above, we can see that there is a clear linear relationship between Beta and Average Return. In fact, the regression model indicates that the R-squred of the model is precisely 1.0, meaning that Beta alone explains all of the Average Return.\n",
        "\n",
        "This highlights Roll's critique of test of the CAPM that the only testable hypothesis is that the market portfolio is mean-variance efficient. In the test we did above, our market return is precisely constructed by using the tangency portfolio and therefore we know it is mean-variance efficient. With this setup, our test shows that the Average Return and Beta relationship lies entirely on a linear relation, indicating that it is not independently testable."
      ]
    },
    {
      "cell_type": "markdown",
      "metadata": {
        "id": "Gimb0wFGngAp",
        "colab_type": "text"
      },
      "source": [
        "## 3)\tRepeat parts c) and d) above for the 25 size and BE/ME portfolios, only this time use the following tangency portfolio of the 25 size and BE/ME portfolios, where we split the data in half and use one half to estimate the portfolio weights and the other half to measure portfolio returns using those weights. \n",
        "\n",
        "First, split the sample into two halves:  (1) take all observations from odd months in even years and even months in odd years (i.e., if starting in 1980, this would look like:  01/1980, 03/1980, . . . , 11/1980, 02/1981, 04/1981, . . . 12/1981, 01/1982, 03/1982, . . .); and (2) the opposite (take all observations from even months in even years and odd months in odd years).\n",
        "\n",
        "a.\tThen, compute the tangency portfolio weights for the 25 portfolios using only the moments estimated from the first sample and apply them to returns in the second sample.\n",
        "\n",
        "b.\tThen, do the reverse---compute the tangency portfolio weights from the second sample and apply those to returns in the first sample.\n",
        "\n",
        "c.\tThe resulting return series is your new tangency portfolio returns which you will use to repeat the cross-sectional tests.\n"
      ]
    },
    {
      "cell_type": "code",
      "metadata": {
        "id": "QVckHnpu1PGL",
        "colab_type": "code",
        "colab": {}
      },
      "source": [
        "# Split the sample\n",
        "same_yr_month = []\n",
        "diff_yr_month = []\n",
        "for i, data in s2_return.iterrows():\n",
        "  if int(i.year) % 2 == 0:\n",
        "    if int(i.month) % 2 == 0:\n",
        "      same_yr_month.append(data)\n",
        "    else:\n",
        "      diff_yr_month.append(data)\n",
        "  else:\n",
        "    if int(i.month) % 2 == 0:\n",
        "      diff_yr_month.append(data)\n",
        "    else:\n",
        "      same_yr_month.append(data)\n",
        "\n",
        "diff_ = pd.DataFrame(diff_yr_month) # first half of data sample; odd in even, even in odd\n",
        "same_ = pd.DataFrame(same_yr_month) # second half of data sample; even in even, odd in odd"
      ],
      "execution_count": null,
      "outputs": []
    },
    {
      "cell_type": "code",
      "metadata": {
        "id": "zmrlDLT09vxc",
        "colab_type": "code",
        "colab": {
          "base_uri": "https://localhost:8080/",
          "height": 460
        },
        "outputId": "8e45ce92-cc8a-4add-f32a-fc96ee4b5914"
      },
      "source": [
        "# a. tangency weight using first sample\n",
        "diff_invcov_T = np.linalg.inv(diff_.cov()) # inverse cov. matrix, (25,25)\n",
        "R = diff_.mean() # (25,)\n",
        "rf = s1['RF'].mean() # scalar\n",
        "ones = np.transpose([1]*len(diff_.columns.tolist())) # (25,)\n",
        "onesT = np.transpose(ones) # (25,)\n",
        "\n",
        "num = diff_invcov_T @ (R - rf * ones) \n",
        "denom = onesT @ diff_invcov_T @ (R - rf)\n",
        "weight_tang = num/denom # (25,)\n",
        "\n",
        "# apply weights to the return in the second sample\n",
        "new_RM = same_ @ weight_tang\n",
        "\n",
        "# b. tangency weights from the second sample\n",
        "same_invcov_T = np.linalg.inv(same_.cov()) # inverse cov. matrix, (25,25)\n",
        "R = same_.mean() # (25,)\n",
        "rf = s1['RF'].mean() # scalar\n",
        "ones = np.transpose([1]*len(same_.columns.tolist())) # (25,)\n",
        "onesT = np.transpose(ones) # (25,)\n",
        "\n",
        "num = same_invcov_T @ (R - rf * ones) \n",
        "denom = onesT @ same_invcov_T @ (R - rf)\n",
        "weight_tang = num/denom # (25,)\n",
        "\n",
        "# apply weights to returns in the first sample\n",
        "new_RM2 = diff_ @ weight_tang\n",
        "\n",
        "# c. concatenate two return series and set it as our new tangency portfolio returns \n",
        "RM_concat = pd.concat([new_RM,new_RM2])\n",
        "new_s1 = s1.copy()\n",
        "new_s1['Mkt-RF'] = RM_concat - s1['RF']\n",
        "\n",
        "# Repeat part (b)\n",
        "# merge new_s1 with s2_return\n",
        "reg_dt_5 = pd.merge(new_s1, s2_return, how = 'inner',left_index=True, right_index=True)\n",
        "\n",
        "# second term with beta coefficient on the RHS of the formula\n",
        "reg_dt_5.iloc[:, 2:] = reg_dt_5.iloc[:, 2:].subtract(reg_dt_5['RF'], axis = 0)\n",
        "\n",
        "# average return on the LHS of the formula\n",
        "avg_return_3 = pd.DataFrame(reg_dt_5.iloc[:, 2:].mean())\n",
        "avg_return_3.columns = ['avg_return_25 Size']\n",
        "\n",
        "# estimate betas\n",
        "beta_3 = []\n",
        "for pf in avg_return_3.index:\n",
        "  x = sm.add_constant(reg_dt_5['Mkt-RF'])\n",
        "  y = reg_dt_5[pf]\n",
        "  mod8 = sm.OLS(y, x, missing = 'drop').fit()\n",
        "  beta_3.append(mod8.params[1])\n",
        "\n",
        "gamma0_3 = []\n",
        "gamma1_3 = []\n",
        "\n",
        "x = sm.add_constant(beta_3)\n",
        "for Date in reg_dt_5.index:\n",
        "  y = reg_dt_5.loc[Date,:].iloc[2:]\n",
        "  mod9 = sm.OLS(y, x, missing = 'drop').fit()\n",
        "  gamma0_3.append(mod9.params[0])\n",
        "  gamma1_3.append(mod9.params[1])\n",
        "\n",
        "# merge date, gamma0, gamma1\n",
        "df_3 = pd.DataFrame({'Date': reg_dt_5.index, 'gamma0':gamma0_3, 'gamma1':gamma1_3})\n",
        "\n",
        "mean_gamma0_3 = np.mean(gamma0_3)\n",
        "mean_gamma1_3 =np.mean(gamma1_3)\n",
        "SE_gamma0_3 = np.std(gamma0_3) / np.sqrt(len(gamma0_3))\n",
        "SE_gamma1_3 = np.std(gamma1_3)/ np.sqrt(len(gamma1_3))\n",
        "\n",
        "# t-test\n",
        "# for gamma0, the test / null hypothesis should be gamma0 = Rf\n",
        "# for gamma1, the test / null hypothesis should be gamma1 = Rm - Rf\n",
        "Rf = np.mean(reg_dt_5['RF'])\n",
        "t_gamma0_3 = (mean_gamma0_3 - Rf) / SE_gamma0_3\n",
        "t_gamma1_3 = (mean_gamma1_3) / SE_gamma1_3\n",
        "print(\"mean of gamma 0: \", mean_gamma0_3, \"mean of gamma 1: \", mean_gamma1_3,\"SE of gamma0: \", \n",
        "      SE_gamma0_3, \"SE of gamma1: \", SE_gamma1_3, \"t-stat for gamma0: \", t_gamma0_3,\n",
        "      \"t-stat for gamma1: \", t_gamma1_3)\n",
        "\n",
        "# Repeat part (c)\n",
        "# OLS regression on avg_return_2 and beta_2\n",
        "avg_return_3['beta'] = beta_3\n",
        "avg_return_3\n",
        "\n",
        "x = sm.add_constant(avg_return_3['beta'])\n",
        "mod10 = sm.OLS(avg_return_3[\"avg_return_25 Size\"],x, data = avg_return_3).fit()\n",
        "mod10.summary()\n",
        "\n",
        "# Repeat part (d)\n",
        "fig=plt.figure(figsize=(12,6))\n",
        "plt.plot(avg_return_3['avg_return_25 Size'], avg_return_3['beta'],'.',markersize=10)\n",
        "plt.xlabel('Beta')\n",
        "plt.ylabel('Average Return');\n",
        "plt.title('Question 2): 25 Size and BE/ME Portfolios Average Return vs Beta, with Tangency Portfolio', fontsize=16)\n",
        "plt.xlim(0.5, 1.5)\n",
        "plt.ylim(0.1, 0.6)"
      ],
      "execution_count": null,
      "outputs": [
        {
          "output_type": "stream",
          "text": [
            "mean of gamma 0:  0.055063380243006284 mean of gamma 1:  3.134432879296589 SE of gamma0:  0.1858391173531981 SE of gamma1:  0.6216627967639194 t-stat for gamma0:  -1.2156994039299651 t-stat for gamma1:  5.042014570620848\n"
          ],
          "name": "stdout"
        },
        {
          "output_type": "execute_result",
          "data": {
            "text/plain": [
              "(0.1, 0.6)"
            ]
          },
          "metadata": {
            "tags": []
          },
          "execution_count": 16
        },
        {
          "output_type": "display_data",
          "data": {
            "image/png": "[encoded data removed]",
            "text/plain": [
              "<Figure size 864x432 with 1 Axes>"
            ]
          },
          "metadata": {
            "tags": [],
            "needs_background": "light"
          }
        }
      ]
    },
    {
      "cell_type": "markdown",
      "metadata": {
        "id": "ugjioU9euef2",
        "colab_type": "text"
      },
      "source": [
        "Conclusion for part (c): we fail to reject the null hypothesis when $\\alpha = 0.05$ because t-stat for gamma0 is less than t-crit. "
      ]
    },
    {
      "cell_type": "markdown",
      "metadata": {
        "id": "2b2rmKgMnkQa",
        "colab_type": "text"
      },
      "source": [
        "## 4)\tHow are the results different between 2) and 3) and why?  How does the difference in results between 2) and 3) showcase the Roll (1977) critique?"
      ]
    },
    {
      "cell_type": "markdown",
      "metadata": {
        "id": "7uA1vySlMz-G",
        "colab_type": "text"
      },
      "source": [
        "Both (2) and (3) show linear relationship between beta and average return. Part (2) use the tangency portfolio of the original return, which gives a perfectly linear result (R-squared = 1); part (3) split the data for odd months / even years and even months / odd years, then derive the tangency return separately before combining for the new return, which gives a slightly less perfect linear relationship (R-squared = 0.97).\n",
        "\n",
        "While in part (3) we're still using the tangency portfolio, providing that our return are mean-variance efficient, the splitting of data makes the two tangency portfolios slightly different. This slight difference results in a less than perfect linear relationship, and showcases Roll's critique that the CAPM model relies extensively on the mean-variance efficient market portfolio, and that the result is very sensitive to even a slight difference for the market portfolio.\n"
      ]
    }
  ]
}