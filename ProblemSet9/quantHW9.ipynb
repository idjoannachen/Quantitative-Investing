{
  "nbformat": 4,
  "nbformat_minor": 0,
  "metadata": {
    "colab": {
      "name": "quantHW9.ipynb",
      "provenance": [],
      "collapsed_sections": [],
      "toc_visible": true
    },
    "kernelspec": {
      "name": "python3",
      "display_name": "Python 3"
    }
  },
  "cells": [
    {
      "cell_type": "markdown",
      "metadata": {
        "id": "z93xVLq_vk30"
      },
      "source": [
        "# MGT 595 Problem Set 9\n",
        "\n",
        "# Author: Denglin Wu, Joanna Chen, Adrienne Larson\n",
        "\n",
        "This problem set explores the role of various factors, such as value and momentum, across asset classes and how a combination of factors performs. It also examines other measures of risk such as higher moments of the distribution and drawdowns.\n",
        "\n",
        "In order to proceed you need the Microsoft Excel file “Problem_Set9.xls”. This file contains six spreadsheets:\n",
        "\n",
        "1)\tThe monthly returns to value and momentum factors (long-short portfolios) for stock selection strategies in the U.S., U.K., Europe, and Japan, country equity index futures, government bonds, currencies (relative to the $US), and commodities.\n",
        "\n",
        "2)\tThe monthly returns to the TSMOM factor of Moskowitz, Ooi, and Pedersen (2012), representing time-series momentum.\n",
        "\n",
        "3)\tThe monthly returns to the Fama-French factors consisting of RMRF, SMB, HML, and UMD, as well as STR (short-term reversals) and LTREV (long-term reversals).\n",
        "\n",
        "4)\tThe monthly returns to the BAB factor of Frazzini and Pedersen (2013), a globally diversified defensive/quality factor related to the work of Novy-Marx (2012) and Asness, Frazzini, and Pedersen (2015), and a global carry factor related to the work of Koijen, Moskowitz, Pedersen, and Vrugt (2015) and Asness, Ilmanen, Israel, and Moskowitz (2014).\n",
        "\n",
        "5)\tThe monthly returns to a set of hedge fund strategy indices from Dow Jones/Credit Suisse and HFRI.\n",
        "\n",
        "*All portfolios except for 5) are long-short portfolios, so there is no need to subtract off the risk-free rate for these. The portfolios in 5) are long-only.\n",
        "\n",
        "**Also, be careful of the dates for each of these series as they start at different times. You need to make sure you align things up properly.\n"
      ]
    },
    {
      "cell_type": "markdown",
      "metadata": {
        "id": "6RHjJj72fIH_"
      },
      "source": [
        "# Data Processing"
      ]
    },
    {
      "cell_type": "code",
      "metadata": {
        "id": "bq33om7loF5q"
      },
      "source": [
        "import pandas as pd\n",
        "import numpy as np\n",
        "import statsmodels.api as sm\n",
        "from scipy.stats import f\n",
        "import scipy.stats as stats\n",
        "import matplotlib.pyplot as plt\n",
        "import statistics\n",
        "import math"
      ],
      "execution_count": null,
      "outputs": []
    },
    {
      "cell_type": "code",
      "metadata": {
        "id": "0Vqc9uNXoEx1"
      },
      "source": [
        "#--------------------Read Sheet 1--------------------\n",
        "stock = pd.read_excel(\"Problem_Set9.xls\", sheet_name=\"Value and momentum factors\", \n",
        "                     skiprows=4, index_col=None, usecols=\"A:I\", na_values=-999)\n",
        "stock = stock.set_index(\"DATE\")\n",
        "\n",
        "assets = pd.read_excel(\"Problem_Set9.xls\", sheet_name=\"Value and momentum factors\", \n",
        "                     skiprows=4, index_col=None, usecols=\"J:Q\", na_values=-999)\n",
        "assets.index = stock.index\n",
        "\n",
        "#--------------------Read Sheet 2--------------------\n",
        "TSMOM = pd.read_excel(\"Problem_Set9.xls\", sheet_name=\"TSMOM\", \n",
        "                     skiprows=2, index_col=None, usecols=\"A:F\", na_values=-999)\n",
        "TSMOM = TSMOM.set_index(\"DATE\")\n",
        "\n",
        "#--------------------Read Sheet 3--------------------\n",
        "FF = pd.read_excel(\"Problem_Set9.xls\", sheet_name=\"Fama-French factors\", \n",
        "                     index_col=None, usecols=\"A:H\", na_values=-999)\n",
        "FF[\"DATE\"] = pd.to_datetime(FF[\"Unnamed: 0\"], format=\"%Y%m\")\n",
        "FF = FF.set_index(\"DATE\")\n",
        "FF = FF.drop(\"Unnamed: 0\", axis = 1)\n",
        "\n",
        "#--------------------Read Sheet 4--------------------\n",
        "CBQ = pd.read_excel(\"Problem_Set9.xls\", sheet_name=\"Carry, BAB, and Quality\", \n",
        "                     skiprows=3, index_col=None, usecols=\"A:D\", na_values=-999)\n",
        "CBQ[\"DATE\"] = pd.to_datetime(CBQ[\"DATE\"], format=\"%Y%m\")\n",
        "CBQ = CBQ.set_index(\"DATE\")\n",
        "\n",
        "#--------------------Read Sheet 5--------------------\n",
        "AMP = pd.read_excel(\"Problem_Set9.xls\", sheet_name=\"AMP factors\", \n",
        "                     skiprows=3, index_col=None, usecols=\"A:D\", na_values=-999)\n",
        "AMP[\"DATE\"] = pd.to_datetime(AMP[\"DATE\"], format=\"%Y%m%d\", errors=\"coerce\")\n",
        "AMP = AMP.set_index(\"DATE\")\n",
        "\n",
        "#--------------------Read Sheet 5--------------------\n",
        "HRFI = pd.read_excel(\"Problem_Set9.xls\", sheet_name=\"HF indices\", \n",
        "                     skiprows=1, index_col=None, usecols=\"A:K\", na_values=-999)\n",
        "HRFI[\"DATE\"] = pd.to_datetime(HRFI[\"Unnamed: 0\"], format=\"%Y%m\")\n",
        "HRFI = HRFI.set_index(\"DATE\")\n",
        "HRFI = HRFI.drop(\"Unnamed: 0\", axis = 1)\n",
        "\n",
        "DJCS = pd.read_excel(\"Problem_Set9.xls\", sheet_name=\"HF indices\", \n",
        "                     skiprows=1, index_col=None, usecols=\"L:V\", na_values=-999)\n",
        "DJCS[\"DATE\"] = pd.to_datetime(DJCS[\"Unnamed: 11\"], format=\"%Y%m\")\n",
        "DJCS = DJCS.set_index(\"DATE\")\n",
        "DJCS = DJCS.drop(\"Unnamed: 11\", axis = 1)"
      ],
      "execution_count": null,
      "outputs": []
    },
    {
      "cell_type": "markdown",
      "metadata": {
        "id": "WEhq5oGevq75"
      },
      "source": [
        "# Part 1:  Value and Momentum portfolios\n"
      ]
    },
    {
      "cell_type": "markdown",
      "metadata": {
        "id": "HcIM4DVgbVob"
      },
      "source": [
        "\n",
        "## a)\tCompute the mean return, t-stat of mean, Sharpe ratio, skewness, and kurtosis of each value and momentum strategy in each market. Report the confidence interval around the Sharpe ratio (for both the normal distribution and the more general ergodic distribution). Report the percentage of observations exceeding + or – 3 standard deviations."
      ]
    },
    {
      "cell_type": "code",
      "metadata": {
        "id": "aqmWUeml8hDj",
        "outputId": "0468c1d5-64c1-4d8b-aa6d-a34a4669f941",
        "colab": {
          "base_uri": "https://localhost:8080/"
        }
      },
      "source": [
        "# Part a)\n",
        "stock_mean = pd.Series.tolist(np.mean(stock))\n",
        "assets_mean = pd.Series.tolist(np.mean(assets))\n",
        "stock_std = pd.Series.tolist(np.std(stock))\n",
        "assets_std = pd.Series.tolist(np.std(assets))\n",
        "stock_count = [526, 526, 413, 527, 413, 502, 413, 502]\n",
        "assets_count = [465, 465, 443, 443, 395, 395, 527, 527]\n",
        "stock_skewness = np.ma.getdata(stats.skew(stock, nan_policy='omit'))\n",
        "assets_skewness = np.ma.getdata(stats.skew(assets, nan_policy='omit'))\n",
        "stock_kurtosis = np.ma.getdata(stats.kurtosis(stock, nan_policy='omit'))\n",
        "assets_kurtosis = np.ma.getdata(stats.kurtosis(assets, nan_policy='omit'))\n",
        "stock_stderr = []\n",
        "assets_stderr = []\n",
        "stock_tstats = []\n",
        "assets_tstats = []\n",
        "stock_sharpe = []\n",
        "assets_sharpe = []\n",
        "stock_NO_CI_upper = []\n",
        "stock_NO_CI_lower = []\n",
        "assets_NO_CI_upper = []\n",
        "assets_NO_CI_lower = []\n",
        "stock_mu_4 = []\n",
        "stock_mu_3 = []\n",
        "for column in stock.columns:\n",
        "        stock_mu_4.append(np.mean((stock[column] - np.mean(stock[column]))**4))\n",
        "        stock_mu_3.append(np.mean((stock[column] - np.mean(stock[column]))**3))\n",
        "assets_mu_4 = []\n",
        "assets_mu_3 = []\n",
        "for column in assets.columns:\n",
        "        assets_mu_4.append(np.mean((assets[column] - np.mean(assets[column]))**4))\n",
        "        assets_mu_3.append(np.mean((assets[column] - np.mean(assets[column]))**3))\n",
        "stock_GE_CI_upper = []\n",
        "stock_GE_CI_lower = []\n",
        "assets_GE_CI_upper = []\n",
        "assets_GE_CI_lower = []\n",
        "for i in range(8):\n",
        "    stock_stderr.append(stock_std[i] / np.sqrt(stock_count[i]))\n",
        "    assets_stderr.append(assets_std[i] / np.sqrt(assets_count[i]))\n",
        "    stock_tstats.append(stock_mean[i] / stock_stderr[i])\n",
        "    assets_tstats.append(assets_mean[i] / assets_stderr[i])\n",
        "    stock_sharpe.append(stock_mean[i] / stock_std[i] * np.sqrt(12))\n",
        "    assets_sharpe.append(assets_mean[i] / assets_std[i] * np.sqrt(12))\n",
        "    stock_NO_CI_upper.append(stock_sharpe[i] + 1.96 * np.sqrt((1/(stock_count[i]-1)) * (1 + 0.5 * stock_sharpe[i]**2)))\n",
        "    stock_NO_CI_lower.append(stock_sharpe[i] - 1.96 * np.sqrt((1/(stock_count[i]-1)) * (1 + 0.5 * stock_sharpe[i]**2)))\n",
        "    assets_NO_CI_upper.append(assets_sharpe[i] + 1.96 * np.sqrt((1/(assets_count[i]-1)) * (1 + 0.5 * assets_sharpe[i]**2)))\n",
        "    assets_NO_CI_lower.append(assets_sharpe[i] - 1.96 * np.sqrt((1/(assets_count[i]-1)) * (1 + 0.5 * assets_sharpe[i]**2))) \n",
        "    stock_GE_CI_upper.append(stock_sharpe[i] + 1.96 * np.sqrt((1/(stock_count[i]-1)) * (1 + 0.25 * stock_sharpe[i]**2) * (stock_mu_4[i] / (stock_std[i]**4) - 1) - stock_sharpe[i] * stock_mu_3[i] / stock_std[i]**3))\n",
        "    stock_GE_CI_lower.append(stock_sharpe[i] - 1.96 * np.sqrt((1/(stock_count[i]-1)) * (1 + 0.25 * stock_sharpe[i]**2) * (stock_mu_4[i] / (stock_std[i]**4) - 1) - stock_sharpe[i] * stock_mu_3[i] / stock_std[i]**3))\n",
        "    assets_GE_CI_upper.append(assets_sharpe[i] + 1.96 * np.sqrt((1/(assets_count[i]-1)) * (1 + 0.25 * assets_sharpe[i]**2) * (assets_mu_4[i] / (assets_std[i]**4) - 1) - assets_sharpe[i] * assets_mu_3[i] / assets_std[i]**3))\n",
        "    assets_GE_CI_lower.append(assets_sharpe[i] - 1.96 * np.sqrt((1/(assets_count[i]-1)) * (1 + 0.25 * assets_sharpe[i]**2) * (assets_mu_4[i] / (assets_std[i]**4) - 1) - assets_sharpe[i] * assets_mu_3[i] / assets_std[i]**3)) \n",
        "    \n",
        "# Generate summary table for stock selections\n",
        "stock_summary = {\"Stock Mean\": stock_mean, \"T-Stat of Mean\": stock_tstats, \"Sharpe Ratio\": stock_sharpe, \\\n",
        "                 \"Skewness\": stock_skewness, \"Kurtosis\": stock_kurtosis, \"Norm_CI_Upper\": stock_NO_CI_upper, \\\n",
        "                 \"Norm_CI_Lower\": stock_NO_CI_lower, \"GE_CI_Upper\": stock_GE_CI_upper, \"GE_CI_Lower\": stock_GE_CI_lower}\n",
        "stock_summary = pd.DataFrame(stock_summary)\n",
        "stock_summary.index = ['US-Value', 'US-MOM', 'UK-Value', 'UK-MOM', 'EU-Value', 'EU-MOM', 'JP-Value', 'JP-MOM']\n",
        "# Generate summary table for assets allocations\n",
        "assets_summary = {\"Asset Mean\": assets_mean, \"T-Stat of Mean\": assets_tstats, \"Sharpe Ratio\": assets_sharpe, \\\n",
        "                 \"Skewness\": assets_skewness, \"Kurtosis\": assets_kurtosis, \"Norm_CI_Upper\": assets_NO_CI_upper, \\\n",
        "                 \"Norm_CI_Lower\": assets_NO_CI_lower, \"GE_CI_Upper\": assets_GE_CI_upper, \"GE_CI_Lower\": assets_GE_CI_lower}\n",
        "assets_summary = pd.DataFrame(assets_summary)\n",
        "assets_summary.index = ['Ind-Value', 'Ind-MOM', 'Cur-Value', 'Cur-MOM', 'FI-Value', 'FI-MOM', 'Comm-Value', 'Comm-MOM']"
      ],
      "execution_count": null,
      "outputs": [
        {
          "output_type": "stream",
          "text": [
            "/usr/local/lib/python3.6/dist-packages/ipykernel_launcher.py:49: RuntimeWarning: invalid value encountered in sqrt\n",
            "/usr/local/lib/python3.6/dist-packages/ipykernel_launcher.py:50: RuntimeWarning: invalid value encountered in sqrt\n"
          ],
          "name": "stderr"
        }
      ]
    },
    {
      "cell_type": "code",
      "metadata": {
        "id": "xx-Gtqoa8jo5",
        "outputId": "9e7aa11c-1bcf-434f-fae0-3d72724537c8",
        "colab": {
          "base_uri": "https://localhost:8080/",
          "height": 297
        }
      },
      "source": [
        "stock_summary"
      ],
      "execution_count": null,
      "outputs": [
        {
          "output_type": "execute_result",
          "data": {
            "text/html": [
              "<div>\n",
              "<style scoped>\n",
              "    .dataframe tbody tr th:only-of-type {\n",
              "        vertical-align: middle;\n",
              "    }\n",
              "\n",
              "    .dataframe tbody tr th {\n",
              "        vertical-align: top;\n",
              "    }\n",
              "\n",
              "    .dataframe thead th {\n",
              "        text-align: right;\n",
              "    }\n",
              "</style>\n",
              "<table border=\"1\" class=\"dataframe\">\n",
              "  <thead>\n",
              "    <tr style=\"text-align: right;\">\n",
              "      <th></th>\n",
              "      <th>Stock Mean</th>\n",
              "      <th>T-Stat of Mean</th>\n",
              "      <th>Sharpe Ratio</th>\n",
              "      <th>Skewness</th>\n",
              "      <th>Kurtosis</th>\n",
              "      <th>Norm_CI_Upper</th>\n",
              "      <th>Norm_CI_Lower</th>\n",
              "      <th>GE_CI_Upper</th>\n",
              "      <th>GE_CI_Lower</th>\n",
              "    </tr>\n",
              "  </thead>\n",
              "  <tbody>\n",
              "    <tr>\n",
              "      <th>US-Value</th>\n",
              "      <td>0.002706</td>\n",
              "      <td>1.419612</td>\n",
              "      <td>0.214421</td>\n",
              "      <td>-0.288223</td>\n",
              "      <td>12.712935</td>\n",
              "      <td>0.300940</td>\n",
              "      <td>0.127902</td>\n",
              "      <td>0.802904</td>\n",
              "      <td>-0.374062</td>\n",
              "    </tr>\n",
              "    <tr>\n",
              "      <th>US-MOM</th>\n",
              "      <td>0.006080</td>\n",
              "      <td>3.016839</td>\n",
              "      <td>0.455669</td>\n",
              "      <td>-0.148017</td>\n",
              "      <td>7.449326</td>\n",
              "      <td>0.545541</td>\n",
              "      <td>0.365797</td>\n",
              "      <td>1.031722</td>\n",
              "      <td>-0.120383</td>\n",
              "    </tr>\n",
              "    <tr>\n",
              "      <th>UK-Value</th>\n",
              "      <td>0.002796</td>\n",
              "      <td>1.391193</td>\n",
              "      <td>0.237139</td>\n",
              "      <td>-0.399381</td>\n",
              "      <td>9.924212</td>\n",
              "      <td>0.335049</td>\n",
              "      <td>0.139229</td>\n",
              "      <td>0.927487</td>\n",
              "      <td>-0.453209</td>\n",
              "    </tr>\n",
              "    <tr>\n",
              "      <th>UK-MOM</th>\n",
              "      <td>0.006773</td>\n",
              "      <td>3.607350</td>\n",
              "      <td>0.544344</td>\n",
              "      <td>-0.477077</td>\n",
              "      <td>5.036772</td>\n",
              "      <td>0.635916</td>\n",
              "      <td>0.452772</td>\n",
              "      <td>1.570424</td>\n",
              "      <td>-0.481736</td>\n",
              "    </tr>\n",
              "    <tr>\n",
              "      <th>EU-Value</th>\n",
              "      <td>0.002604</td>\n",
              "      <td>1.750620</td>\n",
              "      <td>0.298406</td>\n",
              "      <td>-0.086157</td>\n",
              "      <td>8.315531</td>\n",
              "      <td>0.397094</td>\n",
              "      <td>0.199717</td>\n",
              "      <td>0.742358</td>\n",
              "      <td>-0.145546</td>\n",
              "    </tr>\n",
              "    <tr>\n",
              "      <th>EU-MOM</th>\n",
              "      <td>0.007499</td>\n",
              "      <td>4.477222</td>\n",
              "      <td>0.692225</td>\n",
              "      <td>-0.841531</td>\n",
              "      <td>5.349897</td>\n",
              "      <td>0.789719</td>\n",
              "      <td>0.594732</td>\n",
              "      <td>2.209114</td>\n",
              "      <td>-0.824664</td>\n",
              "    </tr>\n",
              "    <tr>\n",
              "      <th>JP-Value</th>\n",
              "      <td>0.007581</td>\n",
              "      <td>3.813353</td>\n",
              "      <td>0.650014</td>\n",
              "      <td>-0.094355</td>\n",
              "      <td>6.277812</td>\n",
              "      <td>0.756288</td>\n",
              "      <td>0.543740</td>\n",
              "      <td>1.216539</td>\n",
              "      <td>0.083488</td>\n",
              "    </tr>\n",
              "    <tr>\n",
              "      <th>JP-MOM</th>\n",
              "      <td>0.001965</td>\n",
              "      <td>0.946952</td>\n",
              "      <td>0.146409</td>\n",
              "      <td>-0.505646</td>\n",
              "      <td>2.893654</td>\n",
              "      <td>0.234443</td>\n",
              "      <td>0.058374</td>\n",
              "      <td>0.713966</td>\n",
              "      <td>-0.421149</td>\n",
              "    </tr>\n",
              "  </tbody>\n",
              "</table>\n",
              "</div>"
            ],
            "text/plain": [
              "          Stock Mean  T-Stat of Mean  ...  GE_CI_Upper  GE_CI_Lower\n",
              "US-Value    0.002706        1.419612  ...     0.802904    -0.374062\n",
              "US-MOM      0.006080        3.016839  ...     1.031722    -0.120383\n",
              "UK-Value    0.002796        1.391193  ...     0.927487    -0.453209\n",
              "UK-MOM      0.006773        3.607350  ...     1.570424    -0.481736\n",
              "EU-Value    0.002604        1.750620  ...     0.742358    -0.145546\n",
              "EU-MOM      0.007499        4.477222  ...     2.209114    -0.824664\n",
              "JP-Value    0.007581        3.813353  ...     1.216539     0.083488\n",
              "JP-MOM      0.001965        0.946952  ...     0.713966    -0.421149\n",
              "\n",
              "[8 rows x 9 columns]"
            ]
          },
          "metadata": {
            "tags": []
          },
          "execution_count": 35
        }
      ]
    },
    {
      "cell_type": "code",
      "metadata": {
        "id": "8UNVQuwy8nYE",
        "outputId": "d210b174-8c62-4e2a-903e-dde6161d62d0",
        "colab": {
          "base_uri": "https://localhost:8080/",
          "height": 297
        }
      },
      "source": [
        "assets_summary"
      ],
      "execution_count": null,
      "outputs": [
        {
          "output_type": "execute_result",
          "data": {
            "text/html": [
              "<div>\n",
              "<style scoped>\n",
              "    .dataframe tbody tr th:only-of-type {\n",
              "        vertical-align: middle;\n",
              "    }\n",
              "\n",
              "    .dataframe tbody tr th {\n",
              "        vertical-align: top;\n",
              "    }\n",
              "\n",
              "    .dataframe thead th {\n",
              "        text-align: right;\n",
              "    }\n",
              "</style>\n",
              "<table border=\"1\" class=\"dataframe\">\n",
              "  <thead>\n",
              "    <tr style=\"text-align: right;\">\n",
              "      <th></th>\n",
              "      <th>Asset Mean</th>\n",
              "      <th>T-Stat of Mean</th>\n",
              "      <th>Sharpe Ratio</th>\n",
              "      <th>Skewness</th>\n",
              "      <th>Kurtosis</th>\n",
              "      <th>Norm_CI_Upper</th>\n",
              "      <th>Norm_CI_Lower</th>\n",
              "      <th>GE_CI_Upper</th>\n",
              "      <th>GE_CI_Lower</th>\n",
              "    </tr>\n",
              "  </thead>\n",
              "  <tbody>\n",
              "    <tr>\n",
              "      <th>Ind-Value</th>\n",
              "      <td>0.002932</td>\n",
              "      <td>2.367805</td>\n",
              "      <td>0.380373</td>\n",
              "      <td>0.072141</td>\n",
              "      <td>1.091582</td>\n",
              "      <td>0.474598</td>\n",
              "      <td>0.286149</td>\n",
              "      <td>NaN</td>\n",
              "      <td>NaN</td>\n",
              "    </tr>\n",
              "    <tr>\n",
              "      <th>Ind-MOM</th>\n",
              "      <td>0.005106</td>\n",
              "      <td>3.405563</td>\n",
              "      <td>0.547083</td>\n",
              "      <td>-0.297464</td>\n",
              "      <td>1.345295</td>\n",
              "      <td>0.644645</td>\n",
              "      <td>0.449521</td>\n",
              "      <td>1.356368</td>\n",
              "      <td>-0.262202</td>\n",
              "    </tr>\n",
              "    <tr>\n",
              "      <th>Cur-Value</th>\n",
              "      <td>0.002589</td>\n",
              "      <td>2.209160</td>\n",
              "      <td>0.363593</td>\n",
              "      <td>0.181300</td>\n",
              "      <td>2.801452</td>\n",
              "      <td>0.459853</td>\n",
              "      <td>0.267334</td>\n",
              "      <td>NaN</td>\n",
              "      <td>NaN</td>\n",
              "    </tr>\n",
              "    <tr>\n",
              "      <th>Cur-MOM</th>\n",
              "      <td>0.002407</td>\n",
              "      <td>1.920232</td>\n",
              "      <td>0.316040</td>\n",
              "      <td>-0.524459</td>\n",
              "      <td>1.385690</td>\n",
              "      <td>0.411568</td>\n",
              "      <td>0.220513</td>\n",
              "      <td>1.132684</td>\n",
              "      <td>-0.500604</td>\n",
              "    </tr>\n",
              "    <tr>\n",
              "      <th>FI-Value</th>\n",
              "      <td>0.000678</td>\n",
              "      <td>0.831235</td>\n",
              "      <td>0.144882</td>\n",
              "      <td>1.479241</td>\n",
              "      <td>11.277878</td>\n",
              "      <td>0.244143</td>\n",
              "      <td>0.045622</td>\n",
              "      <td>NaN</td>\n",
              "      <td>NaN</td>\n",
              "    </tr>\n",
              "    <tr>\n",
              "      <th>FI-MOM</th>\n",
              "      <td>0.000534</td>\n",
              "      <td>0.751510</td>\n",
              "      <td>0.130987</td>\n",
              "      <td>0.110586</td>\n",
              "      <td>2.905329</td>\n",
              "      <td>0.230153</td>\n",
              "      <td>0.031821</td>\n",
              "      <td>NaN</td>\n",
              "      <td>NaN</td>\n",
              "    </tr>\n",
              "    <tr>\n",
              "      <th>Comm-Value</th>\n",
              "      <td>0.005384</td>\n",
              "      <td>1.880411</td>\n",
              "      <td>0.283751</td>\n",
              "      <td>0.036460</td>\n",
              "      <td>1.529771</td>\n",
              "      <td>0.370915</td>\n",
              "      <td>0.196588</td>\n",
              "      <td>NaN</td>\n",
              "      <td>NaN</td>\n",
              "    </tr>\n",
              "    <tr>\n",
              "      <th>Comm-MOM</th>\n",
              "      <td>0.009360</td>\n",
              "      <td>3.447063</td>\n",
              "      <td>0.520157</td>\n",
              "      <td>0.139837</td>\n",
              "      <td>2.440964</td>\n",
              "      <td>0.611215</td>\n",
              "      <td>0.429100</td>\n",
              "      <td>NaN</td>\n",
              "      <td>NaN</td>\n",
              "    </tr>\n",
              "  </tbody>\n",
              "</table>\n",
              "</div>"
            ],
            "text/plain": [
              "            Asset Mean  T-Stat of Mean  ...  GE_CI_Upper  GE_CI_Lower\n",
              "Ind-Value     0.002932        2.367805  ...          NaN          NaN\n",
              "Ind-MOM       0.005106        3.405563  ...     1.356368    -0.262202\n",
              "Cur-Value     0.002589        2.209160  ...          NaN          NaN\n",
              "Cur-MOM       0.002407        1.920232  ...     1.132684    -0.500604\n",
              "FI-Value      0.000678        0.831235  ...          NaN          NaN\n",
              "FI-MOM        0.000534        0.751510  ...          NaN          NaN\n",
              "Comm-Value    0.005384        1.880411  ...          NaN          NaN\n",
              "Comm-MOM      0.009360        3.447063  ...          NaN          NaN\n",
              "\n",
              "[8 rows x 9 columns]"
            ]
          },
          "metadata": {
            "tags": []
          },
          "execution_count": 36
        }
      ]
    },
    {
      "cell_type": "markdown",
      "metadata": {
        "id": "WV9-Ccbm73ab"
      },
      "source": [
        "## b)\tCan you statistically reject whether the value premia are equal across all markets and asset classes?  For just the equity markets?  Can you do the same for the momentum premia?"
      ]
    },
    {
      "cell_type": "markdown",
      "metadata": {
        "id": "XL3JohM2B-dC"
      },
      "source": [
        "From the results above, we can reject that the value premia are equal across all markets and assets classes. This is due to the unusually high value premia from the Japan stocks, and the unusually low value premia from Fixed Income and Commodities. We do see, however, that there are substantially more similarities than differences.\n",
        "\n",
        "For just the Equity Markets, because of the unusually high value from the Japan market, we again reject that the value premia are the same across market, but recognize that the observation has more similarities than differences. Note that, as we know that value and momentum are complementary to each other, the Japan market still shows the same relationship, and its momentum premium seems to be in line with other markets' value premia.\n",
        "\n",
        "For momentum premia, we observe the same trend. The momentum premia are similar across different markets and asset classes, with notable exception again from the Japan equity, Fixed Income, and Commodities. Looking at just the equity market, the momentum premium from the Japanese market is unusually low comparing to other markets, but again still seems to complement its value premium."
      ]
    },
    {
      "cell_type": "markdown",
      "metadata": {
        "id": "C5fKSBH478GS"
      },
      "source": [
        "## c)\tCompute the maximum drawdown of each strategy, \n",
        "**which is the most negative return achieved on the strategy over its life, defined for each strategy as**\n",
        "\n",
        "**MDD(T) = [trough value – peak value (prior to the trough)]/peak value**\n",
        "\n",
        "**Or, equivalently**\n",
        "\n",
        "**MDD(T) = (L-P)/P\n",
        "P = peak value before largest drop; L = lowest value before new high established.**\n",
        "\n",
        "**Also, report the length of the period of the maximum drawdown for each strategy (i.e., “how long the pain lasts”).**"
      ]
    },
    {
      "cell_type": "code",
      "metadata": {
        "id": "BCFqXfmACPlk",
        "outputId": "eb698502-2dc2-41f6-f390-79cba0676c14",
        "colab": {
          "base_uri": "https://localhost:8080/",
          "height": 423
        }
      },
      "source": [
        "stock_cum = stock.cumsum(axis=0)\n",
        "fig=plt.figure(figsize=(12,6))\n",
        "plt.plot(stock_cum.index, stock_cum)\n",
        "plt.xlabel('Time')\n",
        "plt.ylabel('Cumulative Return');\n",
        "plt.title('Part I c): Cumulative Return for Different Equity Markets and Strategies over Time', fontsize=16)\n",
        "plt.legend(stock_cum.columns)"
      ],
      "execution_count": null,
      "outputs": [
        {
          "output_type": "execute_result",
          "data": {
            "text/plain": [
              "<matplotlib.legend.Legend at 0x7f29be0b80f0>"
            ]
          },
          "metadata": {
            "tags": []
          },
          "execution_count": 37
        },
        {
          "output_type": "display_data",
          "data": {
            "image/png": "[encoded data removed]",
            "text/plain": [
              "<Figure size 864x432 with 1 Axes>"
            ]
          },
          "metadata": {
            "tags": [],
            "needs_background": "light"
          }
        }
      ]
    },
    {
      "cell_type": "code",
      "metadata": {
        "id": "R1FBsbDVDTs6",
        "outputId": "8ab1e3ed-9676-4551-e01a-c903fe5d15ca",
        "colab": {
          "base_uri": "https://localhost:8080/",
          "height": 423
        }
      },
      "source": [
        "assets_cum = assets.cumsum(axis=0)\n",
        "fig=plt.figure(figsize=(12,6))\n",
        "plt.plot(assets_cum.index, assets_cum)\n",
        "plt.xlabel('Time')\n",
        "plt.ylabel('Cumulative Return');\n",
        "plt.title('Part I c): Cumulative Return for Different Assets and Strategies over Time', fontsize=16)\n",
        "plt.legend(assets_cum.columns)"
      ],
      "execution_count": null,
      "outputs": [
        {
          "output_type": "execute_result",
          "data": {
            "text/plain": [
              "<matplotlib.legend.Legend at 0x7f29bdee8f28>"
            ]
          },
          "metadata": {
            "tags": []
          },
          "execution_count": 38
        },
        {
          "output_type": "display_data",
          "data": {
            "image/png": "[encoded data removed]",
            "text/plain": [
              "<Figure size 864x432 with 1 Axes>"
            ]
          },
          "metadata": {
            "tags": [],
            "needs_background": "light"
          }
        }
      ]
    },
    {
      "cell_type": "markdown",
      "metadata": {
        "id": "T-5vT0gFFyU6"
      },
      "source": [
        "To calculate the peak, drought, maximum drawdown, and the length of the maximum drawdown, we can look at the equity market and different assets classes separately."
      ]
    },
    {
      "cell_type": "code",
      "metadata": {
        "id": "iqDJScWItC7y",
        "outputId": "a0e575d6-ccd0-4af6-b031-cb6f736e8abe",
        "colab": {
          "base_uri": "https://localhost:8080/",
          "height": 297
        }
      },
      "source": [
        "stock_peak = []\n",
        "stock_trought = []\n",
        "stock_trought_length = []\n",
        "for column in stock_cum.columns:\n",
        "    temp_peak = 0\n",
        "    pre_peak = 0\n",
        "    temp_trought = 0\n",
        "    max_trought = 0\n",
        "    temp_trought_length = 0\n",
        "    max_trought_length = 0\n",
        "    previous_nan = True \n",
        "    for index in stock_cum.index:\n",
        "        if math.isnan(stock_cum[column][index]):\n",
        "            continue\n",
        "        if previous_nan == True:\n",
        "            previous_nan = False\n",
        "            if stock[column][index] < 0:\n",
        "                temp_trought_length = temp_trought_length + 1\n",
        "                temp_trought = stock_cum[column][index] - temp_peak\n",
        "            else:\n",
        "                temp_peak = stock[column][index]\n",
        "        if previous_nan == False:\n",
        "            if stock_cum[column][index] < temp_peak:\n",
        "                temp_trought_length = temp_trought_length + 1\n",
        "                if stock_cum[column][index] - temp_peak < temp_trought:\n",
        "                    temp_trought = stock_cum[column][index] - temp_peak\n",
        "            else:\n",
        "                #pre_peak = stock_cum[column][index]\n",
        "                if temp_trought < max_trought:\n",
        "                    pre_peak = temp_peak\n",
        "                    max_trought = temp_trought\n",
        "                    max_trought_length = temp_trought_length\n",
        "                temp_peak = stock_cum[column][index]\n",
        "                temp_trought_length = 0\n",
        "    stock_peak.append(pre_peak)\n",
        "    stock_trought.append(max_trought)\n",
        "    stock_trought_length.append(max_trought_length)\n",
        "\n",
        "sp = pd.DataFrame(stock_peak)\n",
        "st = pd.DataFrame(stock_trought)\n",
        "stl = pd.DataFrame(stock_trought_length)\n",
        "stock_MDD = ((sp + st) - sp) / sp\n",
        "stock_MDD = stock_MDD.iloc[:, 0].values.tolist()\n",
        "# Generate trought summary\n",
        "stock_trought_summary = {\"Trought\": stock_trought, \"Previous Peak\": stock_peak, \\\n",
        "                         \"Max Drawdown\": stock_MDD, \"MDD Length (month)\": stock_trought_length}\n",
        "stock_trought_summary = pd.DataFrame.from_dict(stock_trought_summary)\n",
        "stock_trought_summary.index = ['US-Value', 'US-MOM', 'UK-Value', 'UK-MOM', 'EU-Value', 'EU-MOM', 'JP-Value', 'JP-MOM']\n",
        "stock_trought_summary"
      ],
      "execution_count": null,
      "outputs": [
        {
          "output_type": "execute_result",
          "data": {
            "text/html": [
              "<div>\n",
              "<style scoped>\n",
              "    .dataframe tbody tr th:only-of-type {\n",
              "        vertical-align: middle;\n",
              "    }\n",
              "\n",
              "    .dataframe tbody tr th {\n",
              "        vertical-align: top;\n",
              "    }\n",
              "\n",
              "    .dataframe thead th {\n",
              "        text-align: right;\n",
              "    }\n",
              "</style>\n",
              "<table border=\"1\" class=\"dataframe\">\n",
              "  <thead>\n",
              "    <tr style=\"text-align: right;\">\n",
              "      <th></th>\n",
              "      <th>Trought</th>\n",
              "      <th>Previous Peak</th>\n",
              "      <th>Max Drawdown</th>\n",
              "      <th>MDD Length (month)</th>\n",
              "    </tr>\n",
              "  </thead>\n",
              "  <tbody>\n",
              "    <tr>\n",
              "      <th>US-Value</th>\n",
              "      <td>-1.104551</td>\n",
              "      <td>1.123695</td>\n",
              "      <td>-0.982964</td>\n",
              "      <td>38</td>\n",
              "    </tr>\n",
              "    <tr>\n",
              "      <th>US-MOM</th>\n",
              "      <td>-0.653240</td>\n",
              "      <td>3.239881</td>\n",
              "      <td>-0.201625</td>\n",
              "      <td>30</td>\n",
              "    </tr>\n",
              "    <tr>\n",
              "      <th>UK-Value</th>\n",
              "      <td>-1.010055</td>\n",
              "      <td>1.227383</td>\n",
              "      <td>-0.822934</td>\n",
              "      <td>72</td>\n",
              "    </tr>\n",
              "    <tr>\n",
              "      <th>UK-MOM</th>\n",
              "      <td>-0.794760</td>\n",
              "      <td>2.505692</td>\n",
              "      <td>-0.317182</td>\n",
              "      <td>28</td>\n",
              "    </tr>\n",
              "    <tr>\n",
              "      <th>EU-Value</th>\n",
              "      <td>-0.664679</td>\n",
              "      <td>0.872737</td>\n",
              "      <td>-0.761603</td>\n",
              "      <td>80</td>\n",
              "    </tr>\n",
              "    <tr>\n",
              "      <th>EU-MOM</th>\n",
              "      <td>-0.546165</td>\n",
              "      <td>3.565655</td>\n",
              "      <td>-0.153174</td>\n",
              "      <td>49</td>\n",
              "    </tr>\n",
              "    <tr>\n",
              "      <th>JP-Value</th>\n",
              "      <td>-1.075491</td>\n",
              "      <td>1.913280</td>\n",
              "      <td>-0.562119</td>\n",
              "      <td>56</td>\n",
              "    </tr>\n",
              "    <tr>\n",
              "      <th>JP-MOM</th>\n",
              "      <td>-0.495156</td>\n",
              "      <td>1.224957</td>\n",
              "      <td>-0.404224</td>\n",
              "      <td>105</td>\n",
              "    </tr>\n",
              "  </tbody>\n",
              "</table>\n",
              "</div>"
            ],
            "text/plain": [
              "           Trought  Previous Peak  Max Drawdown  MDD Length (month)\n",
              "US-Value -1.104551       1.123695     -0.982964                  38\n",
              "US-MOM   -0.653240       3.239881     -0.201625                  30\n",
              "UK-Value -1.010055       1.227383     -0.822934                  72\n",
              "UK-MOM   -0.794760       2.505692     -0.317182                  28\n",
              "EU-Value -0.664679       0.872737     -0.761603                  80\n",
              "EU-MOM   -0.546165       3.565655     -0.153174                  49\n",
              "JP-Value -1.075491       1.913280     -0.562119                  56\n",
              "JP-MOM   -0.495156       1.224957     -0.404224                 105"
            ]
          },
          "metadata": {
            "tags": []
          },
          "execution_count": 39
        }
      ]
    },
    {
      "cell_type": "code",
      "metadata": {
        "id": "nfjzWLYy1W2m",
        "outputId": "dedcea58-b175-431b-f73e-7ef9f7c2d283",
        "colab": {
          "base_uri": "https://localhost:8080/",
          "height": 297
        }
      },
      "source": [
        "assets_peak = []\n",
        "assets_trought = []\n",
        "assets_trought_length = []\n",
        "for column in assets_cum.columns:\n",
        "    temp_peak = 0\n",
        "    pre_peak = 0\n",
        "    temp_trought = 0\n",
        "    max_trought = 0\n",
        "    temp_trought_length = 0\n",
        "    max_trought_length = 0\n",
        "    previous_nan = True \n",
        "    for index in assets_cum.index:\n",
        "        if math.isnan(assets_cum[column][index]):\n",
        "            continue\n",
        "        if previous_nan == True:\n",
        "            previous_nan = False\n",
        "            if assets[column][index] < 0:\n",
        "                temp_trought_length = temp_trought_length + 1\n",
        "                temp_trought = assets_cum[column][index] - temp_peak\n",
        "            else:\n",
        "                temp_peak = assets[column][index]\n",
        "        if previous_nan == False:\n",
        "            if assets_cum[column][index] < temp_peak:\n",
        "                temp_trought_length = temp_trought_length + 1\n",
        "                if assets_cum[column][index] - temp_peak < temp_trought:\n",
        "                    temp_trought = assets_cum[column][index] - temp_peak\n",
        "            else:\n",
        "                #pre_peak = stock_cum[column][index]\n",
        "                if temp_trought < max_trought:\n",
        "                    pre_peak = temp_peak\n",
        "                    max_trought = temp_trought\n",
        "                    max_trought_length = temp_trought_length\n",
        "                temp_peak = assets_cum[column][index]\n",
        "                temp_trought_length = 0\n",
        "    assets_peak.append(pre_peak)\n",
        "    assets_trought.append(max_trought)\n",
        "    assets_trought_length.append(max_trought_length)\n",
        "    \n",
        "ap = pd.DataFrame(assets_peak)\n",
        "at = pd.DataFrame(assets_trought)\n",
        "atl = pd.DataFrame(assets_trought_length)\n",
        "assets_MDD = ((ap + at) - ap) / ap\n",
        "assets_MDD = assets_MDD.iloc[:, 0].values.tolist()\n",
        "# Generate trought summary\n",
        "assets_trought_summary = {\"Trought\": assets_trought, \"Previous Peak\": assets_peak, \\\n",
        "                         \"Max Drawdown\": assets_MDD, \"MDD Length (month)\": assets_trought_length}\n",
        "assets_trought_summary = pd.DataFrame(assets_trought_summary)\n",
        "assets_trought_summary.index = ['Ind-Value', 'Ind-MOM', 'Cur-Value', 'Cur-MOM', 'FI-Value', 'FI-MOM', 'Comm-Value', 'Comm-MOM']\n",
        "assets_trought_summary"
      ],
      "execution_count": null,
      "outputs": [
        {
          "output_type": "execute_result",
          "data": {
            "text/html": [
              "<div>\n",
              "<style scoped>\n",
              "    .dataframe tbody tr th:only-of-type {\n",
              "        vertical-align: middle;\n",
              "    }\n",
              "\n",
              "    .dataframe tbody tr th {\n",
              "        vertical-align: top;\n",
              "    }\n",
              "\n",
              "    .dataframe thead th {\n",
              "        text-align: right;\n",
              "    }\n",
              "</style>\n",
              "<table border=\"1\" class=\"dataframe\">\n",
              "  <thead>\n",
              "    <tr style=\"text-align: right;\">\n",
              "      <th></th>\n",
              "      <th>Trought</th>\n",
              "      <th>Previous Peak</th>\n",
              "      <th>Max Drawdown</th>\n",
              "      <th>MDD Length (month)</th>\n",
              "    </tr>\n",
              "  </thead>\n",
              "  <tbody>\n",
              "    <tr>\n",
              "      <th>Ind-Value</th>\n",
              "      <td>-0.357471</td>\n",
              "      <td>1.458975</td>\n",
              "      <td>-0.245015</td>\n",
              "      <td>95</td>\n",
              "    </tr>\n",
              "    <tr>\n",
              "      <th>Ind-MOM</th>\n",
              "      <td>-0.204898</td>\n",
              "      <td>1.486936</td>\n",
              "      <td>-0.137799</td>\n",
              "      <td>52</td>\n",
              "    </tr>\n",
              "    <tr>\n",
              "      <th>Cur-Value</th>\n",
              "      <td>-0.306311</td>\n",
              "      <td>0.294425</td>\n",
              "      <td>-1.040372</td>\n",
              "      <td>65</td>\n",
              "    </tr>\n",
              "    <tr>\n",
              "      <th>Cur-MOM</th>\n",
              "      <td>-0.199153</td>\n",
              "      <td>0.619977</td>\n",
              "      <td>-0.321227</td>\n",
              "      <td>69</td>\n",
              "    </tr>\n",
              "    <tr>\n",
              "      <th>FI-Value</th>\n",
              "      <td>-0.236446</td>\n",
              "      <td>0.118479</td>\n",
              "      <td>-1.995683</td>\n",
              "      <td>116</td>\n",
              "    </tr>\n",
              "    <tr>\n",
              "      <th>FI-MOM</th>\n",
              "      <td>-0.190809</td>\n",
              "      <td>0.196722</td>\n",
              "      <td>-0.969943</td>\n",
              "      <td>65</td>\n",
              "    </tr>\n",
              "    <tr>\n",
              "      <th>Comm-Value</th>\n",
              "      <td>-0.876682</td>\n",
              "      <td>1.308053</td>\n",
              "      <td>-0.670219</td>\n",
              "      <td>64</td>\n",
              "    </tr>\n",
              "    <tr>\n",
              "      <th>Comm-MOM</th>\n",
              "      <td>-0.590020</td>\n",
              "      <td>0.254695</td>\n",
              "      <td>-2.316570</td>\n",
              "      <td>19</td>\n",
              "    </tr>\n",
              "  </tbody>\n",
              "</table>\n",
              "</div>"
            ],
            "text/plain": [
              "             Trought  Previous Peak  Max Drawdown  MDD Length (month)\n",
              "Ind-Value  -0.357471       1.458975     -0.245015                  95\n",
              "Ind-MOM    -0.204898       1.486936     -0.137799                  52\n",
              "Cur-Value  -0.306311       0.294425     -1.040372                  65\n",
              "Cur-MOM    -0.199153       0.619977     -0.321227                  69\n",
              "FI-Value   -0.236446       0.118479     -1.995683                 116\n",
              "FI-MOM     -0.190809       0.196722     -0.969943                  65\n",
              "Comm-Value -0.876682       1.308053     -0.670219                  64\n",
              "Comm-MOM   -0.590020       0.254695     -2.316570                  19"
            ]
          },
          "metadata": {
            "tags": []
          },
          "execution_count": 40
        }
      ]
    },
    {
      "cell_type": "markdown",
      "metadata": {
        "id": "3buvZUFr8AFR"
      },
      "source": [
        "## d)\tCalculate a global value factor and separately a global momentum factor across all markets and asset classes by weighting each market’s factor by the inverse of its in-sample volatility (standard deviation) estimate. We will call these VALeverywhere and MOMeverywhere, respectively. Compute the mean return, t-stat of mean, Sharpe ratio, skewness, kurtosis, and maximum drawdowns of these two global factors.  Also, report the confidence interval around the Sharpe ratio (for both the normal distribution and the more general ergodic distribution).  Report the percentage of observations exceeding + or – 3 standard deviations."
      ]
    },
    {
      "cell_type": "code",
      "metadata": {
        "id": "JqTLg8_D97il",
        "outputId": "2fbef897-d9c0-4eff-a3a4-cb556e92ca41",
        "colab": {
          "base_uri": "https://localhost:8080/",
          "height": 298
        }
      },
      "source": [
        "VAL_columns = ['VAL^US', 'VAL^UK', 'VAL^EU', 'VAL^JP', 'VAL^EQ', 'VAL^FX', 'VAL^FI', 'VAL^CM']\n",
        "MOM_columns = ['MOM^US', 'MOM^UK', 'MOM^EU', 'MOM^JP', 'MOM^EQ', 'MOM^FX', 'MOM^FI', 'MOM^CM']\n",
        "ALL = pd.concat([stock, assets], axis=1)\n",
        "# VAL Factor\n",
        "VALeverywhere = ALL[VAL_columns]\n",
        "VAL_std_inv = 1 / np.std(VALeverywhere)\n",
        "VAL_weight = VAL_std_inv / np.sum(VAL_std_inv)\n",
        "VALeverywhere['VAL Factor'] = VALeverywhere[VAL_columns].mul(VAL_weight).sum(1)\n",
        "VAL_mean = np.mean(VALeverywhere['VAL Factor'])\n",
        "VAL_std = np.std(VALeverywhere['VAL Factor'])\n",
        "VAL_stderr = VAL_std / np.sqrt(527)\n",
        "VAL_tstats = VAL_mean / VAL_stderr\n",
        "VAL_skewness = np.ma.getdata(stats.skew(VALeverywhere['VAL Factor'], nan_policy='omit'))\n",
        "VAL_kurtosis = np.ma.getdata(stats.kurtosis(VALeverywhere['VAL Factor'], nan_policy='omit'))\n",
        "VAL_sharpe = VAL_mean / VAL_std * np.sqrt(12)\n",
        "VAL_NO_CI_upper = VAL_sharpe + 1.96 * np.sqrt((1/(527-1)) * (1 + 0.5 * VAL_sharpe**2))\n",
        "VAL_NO_CI_lower = VAL_sharpe - 1.96 * np.sqrt((1/(527-1)) * (1 + 0.5 * VAL_sharpe**2))\n",
        "VAL_mu_4 = np.mean((VALeverywhere['VAL Factor'] - np.mean(VALeverywhere['VAL Factor']))**4)\n",
        "VAL_mu_3 = np.mean((VALeverywhere['VAL Factor'] - np.mean(VALeverywhere['VAL Factor']))**3)\n",
        "VAL_GE_CI_upper = VAL_sharpe + 1.96 * np.sqrt((1/(527-1)) * (1 + 0.25 * VAL_sharpe**2) * (VAL_mu_4 / (VAL_std**4) - 1) - VAL_sharpe * VAL_mu_3 / VAL_std**3)\n",
        "VAL_GE_CI_lower = VAL_sharpe - 1.96 * np.sqrt((1/(527-1)) * (1 + 0.25 * VAL_sharpe**2) * (VAL_mu_4 / (VAL_std**4) - 1) - VAL_sharpe * VAL_mu_3 / VAL_std**3)\n",
        "VAL_Factor = VALeverywhere['VAL Factor']\n",
        "VAL_Factor_cum = VAL_Factor.cumsum(axis=0)\n",
        "temp_peak = 0\n",
        "pre_peak = 0\n",
        "temp_trought = 0\n",
        "max_trought = 0\n",
        "temp_trought_length = 0\n",
        "max_trought_length = 0\n",
        "previous_nan = True \n",
        "for index in VAL_Factor_cum.index:\n",
        "    if math.isnan(VAL_Factor[index]):\n",
        "        continue\n",
        "    if previous_nan == True:\n",
        "        previous_nan = False\n",
        "        if VAL_Factor[index] < 0:\n",
        "            temp_trought_length = temp_trought_length + 1\n",
        "            temp_trought = VAL_Factor_cum[index] - temp_peak\n",
        "        else:\n",
        "            temp_peak = VAL_Factor[index]\n",
        "    if previous_nan == False:\n",
        "        if VAL_Factor_cum[index] < temp_peak:\n",
        "            temp_trought_length = temp_trought_length + 1\n",
        "            if VAL_Factor_cum[index] - temp_peak < temp_trought:\n",
        "                temp_trought = VAL_Factor_cum[index] - temp_peak\n",
        "        else:\n",
        "            if temp_trought < max_trought:\n",
        "                pre_peak = temp_peak\n",
        "                max_trought = temp_trought\n",
        "                max_trought_length = temp_trought_length\n",
        "            temp_peak = VAL_Factor_cum[index]\n",
        "            temp_trought_length = 0\n",
        "VAL_MDD = ((pre_peak + max_trought) - pre_peak) / pre_peak\n",
        "\n",
        "# MOM Factor\n",
        "MOMeverywhere = ALL[MOM_columns]\n",
        "MOM_std_inv = 1 / np.std(MOMeverywhere)\n",
        "MOM_weight = MOM_std_inv / np.sum(MOM_std_inv)\n",
        "MOMeverywhere['MOM Factor'] = MOMeverywhere[MOM_columns].mul(MOM_weight).sum(1)\n",
        "MOM_mean = np.mean(MOMeverywhere['MOM Factor'])\n",
        "MOM_std = np.std(MOMeverywhere['MOM Factor'])\n",
        "MOM_stderr = MOM_std / np.sqrt(527)\n",
        "MOM_tstats = MOM_mean / MOM_stderr\n",
        "MOM_skewness = np.ma.getdata(stats.skew(MOMeverywhere['MOM Factor'], nan_policy='omit'))\n",
        "MOM_kurtosis = np.ma.getdata(stats.kurtosis(MOMeverywhere['MOM Factor'], nan_policy='omit'))\n",
        "MOM_sharpe = MOM_mean / MOM_std * np.sqrt(12)\n",
        "MOM_NO_CI_upper = MOM_sharpe + 1.96 * np.sqrt((1/(527-1)) * (1 + 0.5 * MOM_sharpe**2))\n",
        "MOM_NO_CI_lower = MOM_sharpe - 1.96 * np.sqrt((1/(527-1)) * (1 + 0.5 * MOM_sharpe**2))\n",
        "MOM_mu_4 = np.mean((MOMeverywhere['MOM Factor'] - np.mean(MOMeverywhere['MOM Factor']))**4)\n",
        "MOM_mu_3 = np.mean((MOMeverywhere['MOM Factor'] - np.mean(MOMeverywhere['MOM Factor']))**3)\n",
        "MOM_GE_CI_upper = MOM_sharpe + 1.96 * np.sqrt((1/(527-1)) * (1 + 0.25 * MOM_sharpe**2) * (MOM_mu_4 / (MOM_std**4) - 1) - MOM_sharpe * MOM_mu_3 / MOM_std**3)\n",
        "MOM_GE_CI_lower = MOM_sharpe - 1.96 * np.sqrt((1/(527-1)) * (1 + 0.25 * MOM_sharpe**2) * (MOM_mu_4 / (MOM_std**4) - 1) - MOM_sharpe * MOM_mu_3 / MOM_std**3)\n",
        "MOM_Factor = MOMeverywhere['MOM Factor']\n",
        "MOM_Factor_cum = MOM_Factor.cumsum(axis=0)\n",
        "temp_peak = 0\n",
        "pre_peak = 0\n",
        "temp_trought = 0\n",
        "max_trought = 0\n",
        "temp_trought_length = 0\n",
        "max_trought_length = 0\n",
        "previous_nan = True \n",
        "for index in MOM_Factor_cum.index:\n",
        "    if math.isnan(MOM_Factor[index]):\n",
        "        continue\n",
        "    if previous_nan == True:\n",
        "        previous_nan = False\n",
        "        if MOM_Factor[index] < 0:\n",
        "            temp_trought_length = temp_trought_length + 1\n",
        "            temp_trought = MOM_Factor_cum[index] - temp_peak\n",
        "        else:\n",
        "            temp_peak = MOM_Factor[index]\n",
        "    if previous_nan == False:\n",
        "        if MOM_Factor_cum[index] < temp_peak:\n",
        "            temp_trought_length = temp_trought_length + 1\n",
        "            if MOM_Factor_cum[index] - temp_peak < temp_trought:\n",
        "                temp_trought = MOM_Factor_cum[index] - temp_peak\n",
        "        else:\n",
        "            if temp_trought < max_trought:\n",
        "                pre_peak = temp_peak\n",
        "                max_trought = temp_trought\n",
        "                max_trought_length = temp_trought_length\n",
        "            temp_peak = MOM_Factor_cum[index]\n",
        "            temp_trought_length = 0\n",
        "MOM_MDD = ((pre_peak + max_trought) - pre_peak) / pre_peak\n",
        "\n",
        "Factor_mean = [VAL_mean, MOM_mean]\n",
        "Factor_tstats = [VAL_tstats, MOM_tstats]\n",
        "Factor_sharpe = [VAL_sharpe, MOM_sharpe]\n",
        "Factor_skewness = [VAL_skewness, MOM_skewness]\n",
        "Factor_kurtosis = [VAL_kurtosis, MOM_kurtosis]\n",
        "Factor_NO_CI_upper = [VAL_NO_CI_upper, MOM_NO_CI_upper]\n",
        "Factor_NO_CI_lower = [VAL_NO_CI_lower, MOM_NO_CI_lower]\n",
        "Factor_GE_CI_upper = [VAL_GE_CI_upper, MOM_GE_CI_upper]\n",
        "Factor_GE_CI_lower = [VAL_GE_CI_lower, MOM_GE_CI_lower]\n",
        "Factor_MDD = [VAL_MDD, MOM_MDD]\n",
        "Factor_summary = {\"Factor Mean\": Factor_mean, \"T-Stat of Mean\": Factor_tstats, \"Sharpe Ratio\": Factor_sharpe, \\\n",
        "                 \"Skewness\": Factor_skewness, \"Kurtosis\": Factor_kurtosis, \"Norm_CI_Upper\": Factor_NO_CI_upper, \\\n",
        "                 \"Norm_CI_Lower\": Factor_NO_CI_lower, \"GE_CI_Upper\": Factor_GE_CI_upper, \"GE_CI_Lower\": Factor_GE_CI_lower, \\\n",
        "                 \"MDD\": Factor_MDD}\n",
        "Factor_summary = pd.DataFrame(Factor_summary)\n",
        "Factor_summary.index = ['VAL Factor', 'MOM Factor']\n",
        "Factor_summary"
      ],
      "execution_count": null,
      "outputs": [
        {
          "output_type": "stream",
          "text": [
            "/usr/local/lib/python3.6/dist-packages/ipykernel_launcher.py:8: SettingWithCopyWarning: \n",
            "A value is trying to be set on a copy of a slice from a DataFrame.\n",
            "Try using .loc[row_indexer,col_indexer] = value instead\n",
            "\n",
            "See the caveats in the documentation: https://pandas.pydata.org/pandas-docs/stable/user_guide/indexing.html#returning-a-view-versus-a-copy\n",
            "  \n",
            "/usr/local/lib/python3.6/dist-packages/ipykernel_launcher.py:59: SettingWithCopyWarning: \n",
            "A value is trying to be set on a copy of a slice from a DataFrame.\n",
            "Try using .loc[row_indexer,col_indexer] = value instead\n",
            "\n",
            "See the caveats in the documentation: https://pandas.pydata.org/pandas-docs/stable/user_guide/indexing.html#returning-a-view-versus-a-copy\n"
          ],
          "name": "stderr"
        },
        {
          "output_type": "execute_result",
          "data": {
            "text/html": [
              "<div>\n",
              "<style scoped>\n",
              "    .dataframe tbody tr th:only-of-type {\n",
              "        vertical-align: middle;\n",
              "    }\n",
              "\n",
              "    .dataframe tbody tr th {\n",
              "        vertical-align: top;\n",
              "    }\n",
              "\n",
              "    .dataframe thead th {\n",
              "        text-align: right;\n",
              "    }\n",
              "</style>\n",
              "<table border=\"1\" class=\"dataframe\">\n",
              "  <thead>\n",
              "    <tr style=\"text-align: right;\">\n",
              "      <th></th>\n",
              "      <th>Factor Mean</th>\n",
              "      <th>T-Stat of Mean</th>\n",
              "      <th>Sharpe Ratio</th>\n",
              "      <th>Skewness</th>\n",
              "      <th>Kurtosis</th>\n",
              "      <th>Norm_CI_Upper</th>\n",
              "      <th>Norm_CI_Lower</th>\n",
              "      <th>GE_CI_Upper</th>\n",
              "      <th>GE_CI_Lower</th>\n",
              "      <th>MDD</th>\n",
              "    </tr>\n",
              "  </thead>\n",
              "  <tbody>\n",
              "    <tr>\n",
              "      <th>VAL Factor</th>\n",
              "      <td>0.002416</td>\n",
              "      <td>3.828158</td>\n",
              "      <td>0.577664</td>\n",
              "      <td>-0.6206776505694901</td>\n",
              "      <td>11.88101838637715</td>\n",
              "      <td>0.669978</td>\n",
              "      <td>0.485349</td>\n",
              "      <td>1.797178</td>\n",
              "      <td>-0.641851</td>\n",
              "      <td>-0.352146</td>\n",
              "    </tr>\n",
              "    <tr>\n",
              "      <th>MOM Factor</th>\n",
              "      <td>0.003673</td>\n",
              "      <td>4.746095</td>\n",
              "      <td>0.716179</td>\n",
              "      <td>-0.4211905886199857</td>\n",
              "      <td>3.070577208432274</td>\n",
              "      <td>0.811973</td>\n",
              "      <td>0.620386</td>\n",
              "      <td>1.811895</td>\n",
              "      <td>-0.379536</td>\n",
              "      <td>-0.118186</td>\n",
              "    </tr>\n",
              "  </tbody>\n",
              "</table>\n",
              "</div>"
            ],
            "text/plain": [
              "            Factor Mean  T-Stat of Mean  ...  GE_CI_Lower       MDD\n",
              "VAL Factor     0.002416        3.828158  ...    -0.641851 -0.352146\n",
              "MOM Factor     0.003673        4.746095  ...    -0.379536 -0.118186\n",
              "\n",
              "[2 rows x 10 columns]"
            ]
          },
          "metadata": {
            "tags": []
          },
          "execution_count": 41
        }
      ]
    },
    {
      "cell_type": "markdown",
      "metadata": {
        "id": "4Zr-C2uTTlwL"
      },
      "source": [
        "##e)\tCalculate a 50-50 combination of value+momentum for each market/asset class, which is a 50-50 weighting of the value and momentum factors within each market and asset class.  Compute the mean return, t-stat of mean, Sharpe ratio, skewness, kurtosis, and maximum drawdown of each val-mom combo factor.  Also, report the confidence interval around the Sharpe ratio (for both the normal distribution and the more general ergodic distribution).  Report the percentage of observations exceeding + or – 3 standard deviations."
      ]
    },
    {
      "cell_type": "code",
      "metadata": {
        "id": "agoeUk40X-qJ",
        "outputId": "0d734f56-1ada-4fd4-ad21-2a0beb39a717",
        "colab": {
          "base_uri": "https://localhost:8080/",
          "height": 331
        }
      },
      "source": [
        "US_EQ = stock['VAL^US'] / 2 + stock['MOM^US'] / 2\n",
        "UK_EQ = stock['VAL^UK'] / 2 + stock['MOM^UK'] / 2\n",
        "EU_EQ = stock['VAL^EU'] / 2  + stock['MOM^EU'] / 2 \n",
        "JP_EQ = stock['VAL^JP'] / 2  + stock['MOM^JP'] / 2 \n",
        "\n",
        "EQ = assets['VAL^EQ'] / 2  + assets['MOM^EQ'] / 2 \n",
        "FX = assets['VAL^FX'] / 2  + assets['MOM^FX'] / 2 \n",
        "FI = assets['VAL^FI'] / 2  + assets['MOM^FI'] / 2 \n",
        "CM = assets['VAL^CM'] / 2  + assets['MOM^CM'] / 2 \n",
        "\n",
        "VALMOM = pd.concat([US_EQ, UK_EQ, EU_EQ, JP_EQ, EQ, FX, FI, CM], axis=1)\n",
        "VALMOM.columns = ['US Equity', 'UK Equity', 'EU Equity', 'JP Equity', 'EQ Indices', 'Currencies', 'Fixed Income', 'Commodities']\n",
        "\n",
        "VALMOM_mean = pd.Series.tolist(np.mean(VALMOM))\n",
        "VALMOM_std = pd.Series.tolist(np.std(VALMOM))\n",
        "VALMOM_count = [526, 527, 502, 502, 465, 443, 395, 527]\n",
        "VALMOM_skewness = np.ma.getdata(stats.skew(VALMOM, nan_policy='omit'))\n",
        "VALMOM_kurtosis = np.ma.getdata(stats.kurtosis(VALMOM, nan_policy='omit'))\n",
        "VALMOM_stderr = []\n",
        "VALMOM_tstats = []\n",
        "VALMOM_sharpe = []\n",
        "VALMOM_NO_CI_upper = []\n",
        "VALMOM_NO_CI_lower = []\n",
        "VALMOM_GE_CI_upper = []\n",
        "VALMOM_GE_CI_lower = []\n",
        "for i in range(8):\n",
        "    VALMOM_stderr.append(VALMOM_std[i] / np.sqrt(VALMOM_count[i]))\n",
        "    VALMOM_tstats.append(VALMOM_mean[i] / VALMOM_stderr[i])\n",
        "    VALMOM_sharpe.append(stock_mean[i] / stock_std[i] * np.sqrt(12))\n",
        "    VALMOM_NO_CI_upper.append(VALMOM_sharpe[i] + 1.96 * np.sqrt((1/(VALMOM_count[i]-1)) * (1 + 0.5 * VALMOM_sharpe[i]**2)))\n",
        "    VALMOM_NO_CI_lower.append(VALMOM_sharpe[i] - 1.96 * np.sqrt((1/(VALMOM_count[i]-1)) * (1 + 0.5 * VALMOM_sharpe[i]**2)))\n",
        "    VALMOM_GE_CI_upper.append(VALMOM_sharpe[i] + 1.96 * np.sqrt((1/(VALMOM_count[i]-1)) * (1 + 0.25 * VALMOM_sharpe[i]**2) * (VALMOM_kurtosis[i] - 1) - VALMOM_sharpe[i] * VALMOM_skewness[i]))\n",
        "    VALMOM_GE_CI_lower.append(VALMOM_sharpe[i] - 1.96 * np.sqrt((1/(VALMOM_count[i]-1)) * (1 + 0.25 * VALMOM_sharpe[i]**2) * (VALMOM_kurtosis[i] - 1) - VALMOM_sharpe[i] * VALMOM_skewness[i]))\n",
        "\n",
        "VALMOM_summary = {\"Mean\": VALMOM_mean, \"T-Stat of Mean\": VALMOM_tstats, \"Sharpe Ratio\": VALMOM_sharpe, \\\n",
        "                 \"Skewness\": VALMOM_skewness, \"Kurtosis\": VALMOM_kurtosis, \"Norm_CI_Upper\": VALMOM_NO_CI_upper, \\\n",
        "                 \"Norm_CI_Lower\": VALMOM_NO_CI_lower, \"GE_CI_Upper\": VALMOM_GE_CI_upper, \"GE_CI_Lower\": VALMOM_GE_CI_lower}\n",
        "VALMOM_summary = pd.DataFrame(VALMOM_summary)\n",
        "VALMOM_summary.index = ['US Equity', 'UK Equity', 'EU Equity', 'JP Equity', 'EQ Indices', 'Currencies', 'Fixed Income', 'Commodities']\n",
        "VALMOM_summary"
      ],
      "execution_count": null,
      "outputs": [
        {
          "output_type": "stream",
          "text": [
            "/usr/local/lib/python3.6/dist-packages/ipykernel_launcher.py:32: RuntimeWarning: invalid value encountered in sqrt\n",
            "/usr/local/lib/python3.6/dist-packages/ipykernel_launcher.py:33: RuntimeWarning: invalid value encountered in sqrt\n"
          ],
          "name": "stderr"
        },
        {
          "output_type": "execute_result",
          "data": {
            "text/html": [
              "<div>\n",
              "<style scoped>\n",
              "    .dataframe tbody tr th:only-of-type {\n",
              "        vertical-align: middle;\n",
              "    }\n",
              "\n",
              "    .dataframe tbody tr th {\n",
              "        vertical-align: top;\n",
              "    }\n",
              "\n",
              "    .dataframe thead th {\n",
              "        text-align: right;\n",
              "    }\n",
              "</style>\n",
              "<table border=\"1\" class=\"dataframe\">\n",
              "  <thead>\n",
              "    <tr style=\"text-align: right;\">\n",
              "      <th></th>\n",
              "      <th>Mean</th>\n",
              "      <th>T-Stat of Mean</th>\n",
              "      <th>Sharpe Ratio</th>\n",
              "      <th>Skewness</th>\n",
              "      <th>Kurtosis</th>\n",
              "      <th>Norm_CI_Upper</th>\n",
              "      <th>Norm_CI_Lower</th>\n",
              "      <th>GE_CI_Upper</th>\n",
              "      <th>GE_CI_Lower</th>\n",
              "    </tr>\n",
              "  </thead>\n",
              "  <tbody>\n",
              "    <tr>\n",
              "      <th>US Equity</th>\n",
              "      <td>0.004393</td>\n",
              "      <td>5.281400</td>\n",
              "      <td>0.214421</td>\n",
              "      <td>0.745147</td>\n",
              "      <td>11.325045</td>\n",
              "      <td>0.300940</td>\n",
              "      <td>0.127902</td>\n",
              "      <td>NaN</td>\n",
              "      <td>NaN</td>\n",
              "    </tr>\n",
              "    <tr>\n",
              "      <th>UK Equity</th>\n",
              "      <td>0.005508</td>\n",
              "      <td>6.843261</td>\n",
              "      <td>0.455669</td>\n",
              "      <td>0.302597</td>\n",
              "      <td>2.525228</td>\n",
              "      <td>0.545456</td>\n",
              "      <td>0.365883</td>\n",
              "      <td>NaN</td>\n",
              "      <td>NaN</td>\n",
              "    </tr>\n",
              "    <tr>\n",
              "      <th>EU Equity</th>\n",
              "      <td>0.004541</td>\n",
              "      <td>6.037894</td>\n",
              "      <td>0.237139</td>\n",
              "      <td>0.180523</td>\n",
              "      <td>1.842584</td>\n",
              "      <td>0.325928</td>\n",
              "      <td>0.148350</td>\n",
              "      <td>NaN</td>\n",
              "      <td>NaN</td>\n",
              "    </tr>\n",
              "    <tr>\n",
              "      <th>JP Equity</th>\n",
              "      <td>0.004565</td>\n",
              "      <td>5.369999</td>\n",
              "      <td>0.544344</td>\n",
              "      <td>-0.027842</td>\n",
              "      <td>3.250102</td>\n",
              "      <td>0.638173</td>\n",
              "      <td>0.450515</td>\n",
              "      <td>0.821388</td>\n",
              "      <td>0.267301</td>\n",
              "    </tr>\n",
              "    <tr>\n",
              "      <th>EQ Indices</th>\n",
              "      <td>0.004019</td>\n",
              "      <td>5.282681</td>\n",
              "      <td>0.298406</td>\n",
              "      <td>0.066384</td>\n",
              "      <td>0.975679</td>\n",
              "      <td>0.391400</td>\n",
              "      <td>0.205412</td>\n",
              "      <td>NaN</td>\n",
              "      <td>NaN</td>\n",
              "    </tr>\n",
              "    <tr>\n",
              "      <th>Currencies</th>\n",
              "      <td>0.002498</td>\n",
              "      <td>3.897961</td>\n",
              "      <td>0.692225</td>\n",
              "      <td>0.953161</td>\n",
              "      <td>8.043813</td>\n",
              "      <td>0.796022</td>\n",
              "      <td>0.588429</td>\n",
              "      <td>NaN</td>\n",
              "      <td>NaN</td>\n",
              "    </tr>\n",
              "    <tr>\n",
              "      <th>Fixed Income</th>\n",
              "      <td>0.000606</td>\n",
              "      <td>1.275825</td>\n",
              "      <td>0.650014</td>\n",
              "      <td>1.419801</td>\n",
              "      <td>11.516704</td>\n",
              "      <td>0.758688</td>\n",
              "      <td>0.541340</td>\n",
              "      <td>NaN</td>\n",
              "      <td>NaN</td>\n",
              "    </tr>\n",
              "    <tr>\n",
              "      <th>Commodities</th>\n",
              "      <td>0.007372</td>\n",
              "      <td>5.189772</td>\n",
              "      <td>0.146409</td>\n",
              "      <td>0.258666</td>\n",
              "      <td>1.271591</td>\n",
              "      <td>0.232325</td>\n",
              "      <td>0.060492</td>\n",
              "      <td>NaN</td>\n",
              "      <td>NaN</td>\n",
              "    </tr>\n",
              "  </tbody>\n",
              "</table>\n",
              "</div>"
            ],
            "text/plain": [
              "                  Mean  T-Stat of Mean  ...  GE_CI_Upper  GE_CI_Lower\n",
              "US Equity     0.004393        5.281400  ...          NaN          NaN\n",
              "UK Equity     0.005508        6.843261  ...          NaN          NaN\n",
              "EU Equity     0.004541        6.037894  ...          NaN          NaN\n",
              "JP Equity     0.004565        5.369999  ...     0.821388     0.267301\n",
              "EQ Indices    0.004019        5.282681  ...          NaN          NaN\n",
              "Currencies    0.002498        3.897961  ...          NaN          NaN\n",
              "Fixed Income  0.000606        1.275825  ...          NaN          NaN\n",
              "Commodities   0.007372        5.189772  ...          NaN          NaN\n",
              "\n",
              "[8 rows x 9 columns]"
            ]
          },
          "metadata": {
            "tags": []
          },
          "execution_count": 42
        }
      ]
    },
    {
      "cell_type": "markdown",
      "metadata": {
        "id": "vrERrlhy8Exi"
      },
      "source": [
        "##f)\tNow, calculate a value+momentum factor across all markets and asset classes by weighting each market’s val-mom combo factor by the inverse of its in-sample volatility (standard deviation) estimate.  Compute the mean return, t-stat of mean, Sharpe ratio, skewness, kurtosis, and maximum drawdown of this factor. Also, report the confidence interval around the Sharpe ratio (for both the normal distribution and the more general ergodic distribution).  Report the percentage of observations exceeding + or – 3 standard deviations."
      ]
    },
    {
      "cell_type": "code",
      "metadata": {
        "id": "EBSm6hQKf8Pn",
        "outputId": "583f4476-b686-4a8c-d0f9-065d1e0552f9",
        "colab": {
          "base_uri": "https://localhost:8080/"
        }
      },
      "source": [
        "AMAA_std_inv = 1 / np.std(VALMOM)\n",
        "AMAA_weight = AMAA_std_inv / np.sum(AMAA_std_inv)\n",
        "AMAA_Factor = VALMOM.mul(AMAA_weight).sum(1)\n",
        "AMAA_Factor_cum = AMAA_Factor.cumsum(axis=0)\n",
        "#fig=plt.figure(figsize=(12,6))\n",
        "#plt.plot(AMAA_Factor_cum.index, AMAA_Factor_cum)\n",
        "AMAA_mean = np.mean(AMAA_Factor)\n",
        "AMAA_std = np.std(AMAA_Factor)\n",
        "AMAA_skewness = stats.skew(AMAA_Factor, nan_policy='omit')\n",
        "AMAA_kurtosis = stats.kurtosis(AMAA_Factor, nan_policy='omit')\n",
        "AMAA_stderr = AMAA_std / np.sqrt(len(AMAA_Factor))\n",
        "AMAA_tstats = AMAA_mean / AMAA_stderr\n",
        "AMAA_sharpe = AMAA_mean / AMAA_std * np.sqrt(12)\n",
        "AMAA_NO_CI_upper = AMAA_sharpe + 1.96 * np.sqrt((1/(len(AMAA_Factor)-1)) * (1 + 0.5 * AMAA_sharpe**2))\n",
        "AMAA_NO_CI_lower = AMAA_sharpe - 1.96 * np.sqrt((1/(len(AMAA_Factor)-1)) * (1 + 0.5 * AMAA_sharpe**2))\n",
        "AMAA_GE_CI_upper = AMAA_sharpe + 1.96 * np.sqrt((1/(len(AMAA_Factor)-1)) * (1 + 0.25 * AMAA_sharpe**2) * (AMAA_kurtosis - 1) - AMAA_sharpe * AMAA_skewness)\n",
        "AMAA_GE_CI_lower = AMAA_sharpe - 1.96 * np.sqrt((1/(len(AMAA_Factor)-1)) * (1 + 0.25 * AMAA_sharpe**2) * (AMAA_kurtosis - 1) - AMAA_sharpe * AMAA_skewness)\n",
        "\n",
        "temp_peak = 0\n",
        "pre_peak = 0\n",
        "temp_trought = 0\n",
        "max_trought = 0\n",
        "temp_trought_length = 0\n",
        "max_trought_length = 0\n",
        "previous_nan = True \n",
        "for index in AMAA_Factor_cum.index:\n",
        "    if math.isnan(AMAA_Factor[index]):\n",
        "        continue\n",
        "    if previous_nan == True:\n",
        "        previous_nan = False\n",
        "        if AMAA_Factor[index] < 0:\n",
        "            temp_trought_length = temp_trought_length + 1\n",
        "            temp_trought = AMAA_Factor_cum[index] - temp_peak\n",
        "        else:\n",
        "            temp_peak = AMAA_Factor[index]\n",
        "    if previous_nan == False:\n",
        "        if AMAA_Factor_cum[index] < temp_peak:\n",
        "            temp_trought_length = temp_trought_length + 1\n",
        "            if AMAA_Factor_cum[index] - temp_peak < temp_trought:\n",
        "                temp_trought = AMAA_Factor_cum[index] - temp_peak\n",
        "        else:\n",
        "            if temp_trought < max_trought:\n",
        "                pre_peak = temp_peak\n",
        "                max_trought = temp_trought\n",
        "                max_trought_length = temp_trought_length\n",
        "            temp_peak = AMAA_Factor_cum[index]\n",
        "            temp_trought_length = 0\n",
        "AMAA_MDD = ((pre_peak + max_trought) - pre_peak) / pre_peak\n",
        "\n",
        "print('For Value + Momentum Factor:')\n",
        "print('Mean (Annaulized) = ', round(AMAA_mean*12, 2))\n",
        "print('T-stat of mean = ', round(AMAA_tstats, 2))\n",
        "print('Sharpe Ratio', round(AMAA_sharpe, 2))\n",
        "print('With Normal Distribution, the CI for Sharpe Ratio is [', round(AMAA_NO_CI_lower, 2), \", \", round(AMAA_NO_CI_upper, 2), \"]\")\n",
        "print('With General Distribution, the CI for Sharpe Ratio is [', round(AMAA_GE_CI_lower, 2), \", \", round(AMAA_GE_CI_upper, 2), \"]\")\n",
        "print('Skewness = ', round(AMAA_skewness, 2))\n",
        "print('Kurtosis = ', round(AMAA_kurtosis, 2))\n",
        "print('Maximum Drawdown = ', round(AMAA_MDD, 2))"
      ],
      "execution_count": null,
      "outputs": [
        {
          "output_type": "stream",
          "text": [
            "For Value + Momentum Factor:\n",
            "Mean (Annaulized) =  0.04\n",
            "T-stat of mean =  9.51\n",
            "Sharpe Ratio 1.44\n",
            "With Normal Distribution, the CI for Sharpe Ratio is [ 1.31 ,  1.56 ]\n",
            "With General Distribution, the CI for Sharpe Ratio is [ nan ,  nan ]\n",
            "Skewness =  0.55\n",
            "Kurtosis =  4.09\n",
            "Maximum Drawdown =  -0.04\n"
          ],
          "name": "stdout"
        },
        {
          "output_type": "stream",
          "text": [
            "/usr/local/lib/python3.6/dist-packages/ipykernel_launcher.py:16: RuntimeWarning: invalid value encountered in sqrt\n",
            "  app.launch_new_instance()\n",
            "/usr/local/lib/python3.6/dist-packages/ipykernel_launcher.py:17: RuntimeWarning: invalid value encountered in sqrt\n"
          ],
          "name": "stderr"
        }
      ]
    },
    {
      "cell_type": "markdown",
      "metadata": {
        "id": "DV5bYDg-8IVR"
      },
      "source": [
        "## g)\tCan you comment on the benefits of diversification from combining across asset classes?  What about from combining two factors (value and momentum)?  Where are the biggest diversification benefits, from asset class diversification or from factor diversification in this case?"
      ]
    },
    {
      "cell_type": "markdown",
      "metadata": {
        "id": "0UaI9qYLs8ix"
      },
      "source": [
        "Diversification from combining across asset classes allows you to have more constant and stable returns and to be able to survive conditions that have poor effects on some asset classes but not others.\n",
        "\n",
        "With diversification you do not lose entirely when a few asset classes are poorly affected, because your other asset classes could be performing better. This is especially true if they have a negative covariance or are negatively correlated to the other asset classes. Combining asset classes overall can also have the benefits of economic power from the combined asset class portfolios. Noise is also reduced by the statistical power of both the combined portfolio. \n",
        "\n",
        "Combining two factors, such as value and momentum, also allows you to do well when there are conditions that affect one factor but not the other. If your portfolio only had value and then value hurts your portfolio, you would do poorly. However, with momentum in your portfolio as well, your portfolio could still fair relatively well. A 50/50 combination of value and momentum usually has a higher Sharpe ratio than either individually Furthermore, value and momentum are negatively correlated so a combination of both lessens the risk of the two."
      ]
    },
    {
      "cell_type": "markdown",
      "metadata": {
        "id": "mw8HQmQt8Kua"
      },
      "source": [
        "## h)\tWhat do the weights of the in-sample tangency portfolio of all the value and momentum factors look like across markets and asset classes?  Plot the efficient frontier of all value and momentum factors and include on the graph the individual value and momentum factors as well as the 50-50 combination of them. "
      ]
    },
    {
      "cell_type": "code",
      "metadata": {
        "id": "uZrGuxe-I8Wm",
        "outputId": "b7cce685-6316-4db7-9789-c594f56f65bb",
        "colab": {
          "base_uri": "https://localhost:8080/"
        }
      },
      "source": [
        "sheet1 = pd.read_excel(\"Problem_Set9.xls\", sheet_name=\"Value and momentum factors\", skiprows=4, index_col=None, usecols=\"A:Q\", na_values=-999)\n",
        "sheet1 = sheet1.set_index(\"DATE\")\n",
        "R = sheet1.mean()\n",
        "V = sheet1.cov()\n",
        "V_inv = np.linalg.inv(V.values)\n",
        "ones = np.transpose([1]*len(sheet1.columns.tolist()))\n",
        "onesT = np.transpose(ones)\n",
        "# Tangency Portfolio\n",
        "num = V_inv @ R\n",
        "denom = onesT @ V_inv @ R\n",
        "weight_tang = num / denom\n",
        "Tan = sheet1 @ weight_tang\n",
        "Tan_SD = Tan.std()\n",
        "Tan_Mean = Tan.mean()\n",
        "# MVP\n",
        "num = V_inv @ ones\n",
        "denom = onesT @ V_inv @ ones\n",
        "weight_MVP = num / denom\n",
        "MVP = sheet1 @ weight_MVP\n",
        "MVP_SD = MVP.std()\n",
        "MVP_Mean = MVP.mean()\n",
        "\n",
        "print(weight_tang)"
      ],
      "execution_count": null,
      "outputs": [
        {
          "output_type": "stream",
          "text": [
            "[-0.01728366  0.02646037  0.05956567  0.08728543  0.11187191  0.06833073\n",
            "  0.12238075  0.06674135  0.08674113  0.04480799  0.09824578  0.05678028\n",
            "  0.08838437  0.00865844  0.04331059  0.04771886]\n"
          ],
          "name": "stdout"
        }
      ]
    },
    {
      "cell_type": "markdown",
      "metadata": {
        "id": "sDbc1210p-jh"
      },
      "source": [
        "In general, the tangency portfolio of all the value and momentum factors again have more similarities than differences, especially within the value factors and momentum factors group separately."
      ]
    },
    {
      "cell_type": "code",
      "metadata": {
        "id": "aS4HoWlB-u5_",
        "outputId": "777838e9-3b06-4a23-f092-29154ed40d3e",
        "colab": {
          "base_uri": "https://localhost:8080/",
          "height": 474
        }
      },
      "source": [
        "df = pd.DataFrame({'x':[MVP_SD*100, Tan_SD*100, Tan_SD*100], \n",
        "                  'y':[MVP_Mean*100, Tan_Mean*100, 100*(Tan_Mean - 2*(Tan_Mean - MVP_Mean))]})\n",
        "\n",
        "fit = np.polyfit(df['y'], df['x'], 2)\n",
        "equation = np.poly1d(fit)\n",
        "print (\"The fit coefficients are a = {0:.4f}, b = {1:.4f} c = {2:.4f}\".format(*fit))\n",
        "print (equation)\n",
        "\n",
        "VplusM_mean = pd.Series([US_EQ.mean(), UK_EQ.mean(), EU_EQ.mean(), JP_EQ.mean(), EQ.mean(), FX.mean(), FI.mean(), CM.mean()])*100\n",
        "VplusM_std = pd.Series([US_EQ.std(), UK_EQ.std(), EU_EQ.std(), JP_EQ.std(), EQ.std(), FX.std(), FI.std(), CM.std()])*100\n",
        "\n",
        "x = np.linspace(2, 0, num=100)\n",
        "y = 7.555 * x **2 - 3.24 * x + 0.9704\n",
        "fig=plt.figure(figsize=(12,6))\n",
        "plt.plot(y, x,'.',markersize=10, label = 'Efficient Frontier')\n",
        "plt.plot(sheet1.std()*100, sheet1.mean()*100,'.',markersize=10, label = 'Individual Value and Momentum Factors')\n",
        "plt.plot(VplusM_std, VplusM_mean,'.',markersize=10, label = '50-50 Combination of VAL and MOM')\n",
        "plt.plot(Tan_SD*100, Tan_Mean*100, '.', markersize=10, label = 'In-Sample Tangency Portfolio')\n",
        "plt.plot()\n",
        "plt.xlabel('Standard Deviation (*10^-2)')\n",
        "plt.ylabel('Mean Return (*10^-2)');\n",
        "plt.title('Question 1h): Mean-Standard Deviation Diagram', fontsize=16)\n",
        "plt.legend()"
      ],
      "execution_count": null,
      "outputs": [
        {
          "output_type": "stream",
          "text": [
            "The fit coefficients are a = 7.5550, b = -3.2398 c = 0.9704\n",
            "       2\n",
            "7.555 x - 3.24 x + 0.9704\n"
          ],
          "name": "stdout"
        },
        {
          "output_type": "execute_result",
          "data": {
            "text/plain": [
              "<matplotlib.legend.Legend at 0x7f29bdbc1748>"
            ]
          },
          "metadata": {
            "tags": []
          },
          "execution_count": 45
        },
        {
          "output_type": "display_data",
          "data": {
            "image/png": "[encoded data removed]",
            "text/plain": [
              "<Figure size 864x432 with 1 Axes>"
            ]
          },
          "metadata": {
            "tags": [],
            "needs_background": "light"
          }
        }
      ]
    },
    {
      "cell_type": "markdown",
      "metadata": {
        "id": "ziqcGY0Ng0hs"
      },
      "source": [
        "We can clearly observe that by combining the value and momenmum factors in each market, the results get closer to the efficient frontier, which makes sense given the complementary nature of value and momentum."
      ]
    },
    {
      "cell_type": "markdown",
      "metadata": {
        "id": "vJUfyw8l8NNh"
      },
      "source": [
        "##i)\tNow, repeat the tangency portfolio exercise above using even months to compute tangency portfolio weights and then applied to odd-month returns and vice versa to generate an out-of-sample tangency portfolio of all the value and momentum portfolios. Plot this on the efficient frontier you created in h). How different are the results?  How close do you get to the ex post optimal efficient frontier?"
      ]
    },
    {
      "cell_type": "code",
      "metadata": {
        "id": "mKSn91MZf4Xm",
        "outputId": "54af0039-fee6-477c-e2fe-8fd06a311560",
        "colab": {
          "base_uri": "https://localhost:8080/",
          "height": 423
        }
      },
      "source": [
        "odd = sheet1.iloc[::2]\n",
        "even = sheet1.iloc[1:-1:2]\n",
        "# Tangency Portfolio 1\n",
        "R_even = even.mean()\n",
        "V_even = even.cov()\n",
        "V_even_inv = np.linalg.inv(V_even.values)\n",
        "num = V_even_inv @ R_even\n",
        "denom = onesT @ V_even_inv @ R_even\n",
        "weight_tang_even = num / denom\n",
        "R_odd = odd.mean()\n",
        "Tan_odd = odd @ weight_tang_even\n",
        "Tan_odd_SD = Tan_odd.std()\n",
        "Tan_odd_Mean = Tan_odd.mean()\n",
        "# Tangency Portfolio 2\n",
        "R_odd = odd.mean()\n",
        "V_odd = odd.cov()\n",
        "V_odd_inv = np.linalg.inv(V_odd.values)\n",
        "num = V_odd_inv @ R_odd\n",
        "denom = onesT @ V_odd_inv @ R_odd\n",
        "weight_tang_odd = num / denom\n",
        "Tan_even = even @ weight_tang_odd\n",
        "Tan_even_SD = Tan_even.std()\n",
        "Tan_even_Mean = Tan_even.mean()\n",
        "fig=plt.figure(figsize=(12,6))\n",
        "plt.plot(y, x,'.',markersize=10, label = 'Efficient Frontier')\n",
        "plt.plot(Tan_SD*100, Tan_Mean*100, '.', markersize=10, label = 'In-Sample Tangency Portfolio')\n",
        "plt.plot(Tan_odd_SD*100, Tan_odd_Mean*100, '.', markersize=10, label = 'Out-of-Sample Tangency Portfolio 1')\n",
        "plt.plot(Tan_even_SD*100, Tan_even_Mean*100, '.', markersize=10, label = 'Out-of-Sample Tangency Portfolio 2')\n",
        "plt.plot()\n",
        "plt.xlabel('Standard Deviation (*10^-2)')\n",
        "plt.ylabel('Mean Return (*10^-2)');\n",
        "plt.title('Question 1i): Mean-Standard Deviation Diagram', fontsize=16)\n",
        "plt.legend()"
      ],
      "execution_count": null,
      "outputs": [
        {
          "output_type": "execute_result",
          "data": {
            "text/plain": [
              "<matplotlib.legend.Legend at 0x7f29bdd6c128>"
            ]
          },
          "metadata": {
            "tags": []
          },
          "execution_count": 46
        },
        {
          "output_type": "display_data",
          "data": {
            "image/png": "[encoded data removed]",
            "text/plain": [
              "<Figure size 864x432 with 1 Axes>"
            ]
          },
          "metadata": {
            "tags": [],
            "needs_background": "light"
          }
        }
      ]
    },
    {
      "cell_type": "markdown",
      "metadata": {
        "id": "ymsxoH9xgBDc"
      },
      "source": [
        "We can see from the graph that the two out-of-sample tangency portfolio points are inside of the efficient frontier and are very close to each other. \n",
        "\n",
        "Similarly, the two out-of-sample tangency portfolio points are also quite close to the in-sample tangency portoflio point which lie directly on the efficient frontier. Therefore, using the out-of-sample data, we can get quite close to the ex post optimal efficient frontier."
      ]
    },
    {
      "cell_type": "markdown",
      "metadata": {
        "id": "fukL7Xy_8PVQ"
      },
      "source": [
        "##j)\tExamine the commonality among the value and momentum portfolios across markets and asset classes more formally. Compute the correlation matrix among the value and momentum factors across the U.S., U.K., Europe, and Japan stock markets, country equity indexes, commodities, government bonds, and currencies.  Do the correlations surprise you?  Does this correlation structure help point you to a risk-based explanation for value and momentum or a behavioral one?  What else might account for this correlation structure?"
      ]
    },
    {
      "cell_type": "markdown",
      "metadata": {
        "id": "OKJDukbjRiNF"
      },
      "source": [
        "Each strategy/factor is correlated across markets and asset classes. Value strategies are correlated with other value strategies in other markets and asset classes and the same for momentum strategies (e.g. momentum in currencies is correlated to momentum in commodities and momentum in the U.K market is correlated to momentum in the U.S. market). \n",
        "\n",
        "The covariance and negative correlation of momentum to value also crosses many asset classes and markets. Value and momentum always move in opposite directions whether it is in the same market/asset class or across markets/asset classes. \n",
        "\n",
        "Regarding the correlation structure of value and momentum across markets and asset classes, there could be both a risk-based explanation and a behavioral explanation. Fama and French would say that the correlation structure and common covariance of value and momentum across asset classes is due to risk. On the other hand, a behaviorists would say that human biases generate value and momentum and that this trend exists in various asset classes and markets.  it is due to the biases that people have that maybe generate value and momentum also exist across other asset classes and markets. "
      ]
    },
    {
      "cell_type": "markdown",
      "metadata": {
        "id": "T_3wRrte8Rcq"
      },
      "source": [
        "##k)\tNow, run a time-series regression test of each factor’s returns in each market on a volatility-weighted average of all other markets (e.g., US equity value factor on the average of value factors in all other markets plus the momentum factor’s returns across all other markets; then repeat in turn for each market). What do the alphas, and R-squares look like across markets? Plot in a graph the actual average return of each strategy against the predicted expected return of each strategy from the other markets/asset classes. Can you perform the GRS F-test here on the joint significance of the alphas?  Why or why not?"
      ]
    },
    {
      "cell_type": "code",
      "metadata": {
        "id": "PgBYaxo47_O6",
        "outputId": "b97d9db3-38f6-44f4-b920-32125bae5549",
        "colab": {
          "base_uri": "https://localhost:8080/",
          "height": 545
        }
      },
      "source": [
        "sheet1 = pd.read_excel(\"Problem_Set9.xls\", sheet_name=\"Value and momentum factors\", skiprows=4, index_col=None, usecols=\"A:Q\", na_values=-999)\n",
        "sheet1 = sheet1.set_index(\"DATE\")#[138:]\n",
        "value = sheet1[['VAL^US','VAL^UK','VAL^EU','VAL^JP','VAL^EQ','VAL^FX','VAL^FI','VAL^CM']]\n",
        "mom = sheet1[['MOM^US','MOM^UK','MOM^EU','MOM^JP','MOM^EQ','MOM^FX','MOM^FI','MOM^CM']]\n",
        "alpha = []\n",
        "r2 = []\n",
        "alpha2 = []\n",
        "r2_2 = []\n",
        "pred1 = []\n",
        "pred2 = []\n",
        "for v,m in zip(value.columns,mom.columns):\n",
        "  temp_v = np.std(value.loc[:, value.columns != v])\n",
        "  temp_m = np.std(mom.loc[:, mom.columns != m])\n",
        "  weight_v = (1/temp_v) / (1/np.sum(temp_v))\n",
        "  weight_m =  (1/temp_m) / (1/np.sum(temp_m))\n",
        "  col_temp_v = value.loc[:, value.columns != v]\n",
        "  col_temp_m = mom.loc[:, mom.columns != v]\n",
        "  weighted_col_v = col_temp_v * weight_v\n",
        "  weighted_col_m = col_temp_m * weight_m\n",
        "  # import pdb; pdb.set_trace()\n",
        "  x = np.column_stack((weighted_col_v, weighted_col_m))  \n",
        "  x = sm.add_constant(x, prepend=True) \n",
        "  x = x[:,~np.all(np.isnan(x), axis=0)]\n",
        "  # try:\n",
        "  # import pdb; pdb.set_trace()\n",
        "  mod = sm.OLS(value[v], x, missing = 'drop').fit()\n",
        "  alpha.append(mod.params[0])\n",
        "  r2.append(mod.rsquared)\n",
        "  pred1.append(np.mean(mod.predict()))\n",
        "  mod2 = sm.OLS(mom[m], x, missing = 'drop').fit()\n",
        "  alpha2.append(mod2.params[0])\n",
        "  r2_2.append(mod2.rsquared)\n",
        "  pred2.append(np.mean(mod2.predict()))\n",
        "  # predictions = results.predict(data[half:])\n",
        "  # except ValueError:  #raised if `y` is empty.\n",
        "  #   pass\n",
        "r_square = r2 + r2_2\n",
        "alpha = alpha + alpha2\n",
        "pred = pred1+pred2\n",
        "cols = ['VAL^US','VAL^UK','VAL^EU','VAL^JP','VAL^EQ','VAL^FX','VAL^FI','VAL^CM','MOM^US','MOM^UK','MOM^EU','MOM^JP','MOM^EQ','MOM^FX','MOM^FI','MOM^CM']\n",
        "gt = np.mean(sheet1,axis = 0)\n",
        "k_dt = pd.DataFrame({'r_squared': r_square, 'alpha': alpha, 'pred_avg' : pred, 'groundtruth_avg': gt})\n",
        "k_dt.index = cols\n",
        "k_dt"
      ],
      "execution_count": null,
      "outputs": [
        {
          "output_type": "execute_result",
          "data": {
            "text/html": [
              "<div>\n",
              "<style scoped>\n",
              "    .dataframe tbody tr th:only-of-type {\n",
              "        vertical-align: middle;\n",
              "    }\n",
              "\n",
              "    .dataframe tbody tr th {\n",
              "        vertical-align: top;\n",
              "    }\n",
              "\n",
              "    .dataframe thead th {\n",
              "        text-align: right;\n",
              "    }\n",
              "</style>\n",
              "<table border=\"1\" class=\"dataframe\">\n",
              "  <thead>\n",
              "    <tr style=\"text-align: right;\">\n",
              "      <th></th>\n",
              "      <th>r_squared</th>\n",
              "      <th>alpha</th>\n",
              "      <th>pred_avg</th>\n",
              "      <th>groundtruth_avg</th>\n",
              "    </tr>\n",
              "  </thead>\n",
              "  <tbody>\n",
              "    <tr>\n",
              "      <th>VAL^US</th>\n",
              "      <td>0.564504</td>\n",
              "      <td>-0.000588</td>\n",
              "      <td>0.002141</td>\n",
              "      <td>0.002706</td>\n",
              "    </tr>\n",
              "    <tr>\n",
              "      <th>VAL^UK</th>\n",
              "      <td>0.559028</td>\n",
              "      <td>0.000675</td>\n",
              "      <td>0.003228</td>\n",
              "      <td>0.006080</td>\n",
              "    </tr>\n",
              "    <tr>\n",
              "      <th>VAL^EU</th>\n",
              "      <td>0.631879</td>\n",
              "      <td>0.000943</td>\n",
              "      <td>0.002358</td>\n",
              "      <td>0.002796</td>\n",
              "    </tr>\n",
              "    <tr>\n",
              "      <th>VAL^JP</th>\n",
              "      <td>0.284989</td>\n",
              "      <td>0.004440</td>\n",
              "      <td>0.007445</td>\n",
              "      <td>0.006773</td>\n",
              "    </tr>\n",
              "    <tr>\n",
              "      <th>VAL^EQ</th>\n",
              "      <td>0.256134</td>\n",
              "      <td>0.002342</td>\n",
              "      <td>0.002489</td>\n",
              "      <td>0.002604</td>\n",
              "    </tr>\n",
              "    <tr>\n",
              "      <th>VAL^FX</th>\n",
              "      <td>0.135266</td>\n",
              "      <td>0.001870</td>\n",
              "      <td>0.002158</td>\n",
              "      <td>0.007499</td>\n",
              "    </tr>\n",
              "    <tr>\n",
              "      <th>VAL^FI</th>\n",
              "      <td>0.051943</td>\n",
              "      <td>0.001232</td>\n",
              "      <td>0.000678</td>\n",
              "      <td>0.007581</td>\n",
              "    </tr>\n",
              "    <tr>\n",
              "      <th>VAL^CM</th>\n",
              "      <td>0.091579</td>\n",
              "      <td>0.004221</td>\n",
              "      <td>0.003272</td>\n",
              "      <td>0.001965</td>\n",
              "    </tr>\n",
              "    <tr>\n",
              "      <th>MOM^US</th>\n",
              "      <td>0.575835</td>\n",
              "      <td>-0.000374</td>\n",
              "      <td>0.004683</td>\n",
              "      <td>0.002932</td>\n",
              "    </tr>\n",
              "    <tr>\n",
              "      <th>MOM^UK</th>\n",
              "      <td>0.655132</td>\n",
              "      <td>0.002776</td>\n",
              "      <td>0.008031</td>\n",
              "      <td>0.005106</td>\n",
              "    </tr>\n",
              "    <tr>\n",
              "      <th>MOM^EU</th>\n",
              "      <td>0.658579</td>\n",
              "      <td>0.000295</td>\n",
              "      <td>0.006842</td>\n",
              "      <td>0.002589</td>\n",
              "    </tr>\n",
              "    <tr>\n",
              "      <th>MOM^JP</th>\n",
              "      <td>0.208743</td>\n",
              "      <td>0.000700</td>\n",
              "      <td>0.002293</td>\n",
              "      <td>0.002407</td>\n",
              "    </tr>\n",
              "    <tr>\n",
              "      <th>MOM^EQ</th>\n",
              "      <td>0.355383</td>\n",
              "      <td>0.001891</td>\n",
              "      <td>0.005031</td>\n",
              "      <td>0.000678</td>\n",
              "    </tr>\n",
              "    <tr>\n",
              "      <th>MOM^FX</th>\n",
              "      <td>0.110353</td>\n",
              "      <td>0.001048</td>\n",
              "      <td>0.002216</td>\n",
              "      <td>0.000534</td>\n",
              "    </tr>\n",
              "    <tr>\n",
              "      <th>MOM^FI</th>\n",
              "      <td>0.053623</td>\n",
              "      <td>-0.000076</td>\n",
              "      <td>0.000534</td>\n",
              "      <td>0.005384</td>\n",
              "    </tr>\n",
              "    <tr>\n",
              "      <th>MOM^CM</th>\n",
              "      <td>0.086162</td>\n",
              "      <td>0.004213</td>\n",
              "      <td>0.007344</td>\n",
              "      <td>0.009360</td>\n",
              "    </tr>\n",
              "  </tbody>\n",
              "</table>\n",
              "</div>"
            ],
            "text/plain": [
              "        r_squared     alpha  pred_avg  groundtruth_avg\n",
              "VAL^US   0.564504 -0.000588  0.002141         0.002706\n",
              "VAL^UK   0.559028  0.000675  0.003228         0.006080\n",
              "VAL^EU   0.631879  0.000943  0.002358         0.002796\n",
              "VAL^JP   0.284989  0.004440  0.007445         0.006773\n",
              "VAL^EQ   0.256134  0.002342  0.002489         0.002604\n",
              "VAL^FX   0.135266  0.001870  0.002158         0.007499\n",
              "VAL^FI   0.051943  0.001232  0.000678         0.007581\n",
              "VAL^CM   0.091579  0.004221  0.003272         0.001965\n",
              "MOM^US   0.575835 -0.000374  0.004683         0.002932\n",
              "MOM^UK   0.655132  0.002776  0.008031         0.005106\n",
              "MOM^EU   0.658579  0.000295  0.006842         0.002589\n",
              "MOM^JP   0.208743  0.000700  0.002293         0.002407\n",
              "MOM^EQ   0.355383  0.001891  0.005031         0.000678\n",
              "MOM^FX   0.110353  0.001048  0.002216         0.000534\n",
              "MOM^FI   0.053623 -0.000076  0.000534         0.005384\n",
              "MOM^CM   0.086162  0.004213  0.007344         0.009360"
            ]
          },
          "metadata": {
            "tags": []
          },
          "execution_count": 47
        }
      ]
    },
    {
      "cell_type": "code",
      "metadata": {
        "id": "rXDCWaiV8fOD",
        "outputId": "f97b5678-7c99-4ec1-d2f8-ca05ad609bbc",
        "colab": {
          "base_uri": "https://localhost:8080/",
          "height": 423
        }
      },
      "source": [
        "import matplotlib.pyplot as plt\n",
        "fig=plt.figure(figsize=(12,6))\n",
        "plt.scatter(gt, pred)\n",
        "plt.xlabel('Ground Truth Average')\n",
        "plt.ylabel('Predicted Average');\n",
        "plt.title('Question 1k): Predicted vs Actual Average', fontsize=16)"
      ],
      "execution_count": null,
      "outputs": [
        {
          "output_type": "execute_result",
          "data": {
            "text/plain": [
              "Text(0.5, 1.0, 'Question 1k): Predicted vs Actual Average')"
            ]
          },
          "metadata": {
            "tags": []
          },
          "execution_count": 74
        },
        {
          "output_type": "display_data",
          "data": {
            "image/png": "[encoded data removed]",
            "text/plain": [
              "<Figure size 864x432 with 1 Axes>"
            ]
          },
          "metadata": {
            "tags": [],
            "needs_background": "light"
          }
        }
      ]
    },
    {
      "cell_type": "markdown",
      "metadata": {
        "id": "7zrmOPMIC088"
      },
      "source": [
        "In part B we saw that value and momentum have different effects across asset classes and markets, therefore we likely should not be able to perform a GRS test on the alphas here."
      ]
    },
    {
      "cell_type": "markdown",
      "metadata": {
        "id": "YJsPCVup8Teh"
      },
      "source": [
        "## l)\tUsing all the value and momentum portfolios run time series regressions for each portfolio and compute the GRS F-test for the joint significance of the alphas using the following factor models:\n",
        "\n",
        "Report the individual alphas and R-squares from each regression as well.\n",
        "\n",
        " "
      ]
    },
    {
      "cell_type": "markdown",
      "metadata": {
        "id": "FuDMU0GgSuRn"
      },
      "source": [
        "### Model 1) CAPM using RMRF as single factor\n"
      ]
    },
    {
      "cell_type": "code",
      "metadata": {
        "id": "uXrDhSBF_h7h"
      },
      "source": [
        "def GRS_test(x,y):\n",
        "  alpha = []\n",
        "  beta = []\n",
        "  eps = []\n",
        "  rsquare = []\n",
        "\n",
        "  for i in y.columns:\n",
        "    y_in = y[i]\n",
        "    mod = sm.OLS(list(y_in),x,missing = 'drop').fit()\n",
        "    alpha.append(mod.params[0])\n",
        "    beta.append(mod.params[1])\n",
        "    eps.append(mod.resid)\n",
        "    rsquare.append(mod.rsquared)\n",
        "\n",
        "  T = y.shape[0]\n",
        "  N = y.shape[1]\n",
        "\n",
        "  eps_df = pd.DataFrame(eps).T\n",
        "  var_cov = eps_df.cov()\n",
        "\n",
        "  # create Rm column in rm_rf\n",
        "  FF['RM'] = FF['Mkt-RF'] + FF['RF']\n",
        "\n",
        "  F = ((T-N-1)/N)* ((alpha @ np.linalg.inv(var_cov) @ np.transpose(alpha)) / (1+(FF['RM'][0:1069].mean()/FF['RM'][0:1069].std())**2))\n",
        "  p_value = f.sf(F, N, T-N-1)\n",
        "  print(\"F statistic: \", F, \"p value: \", p_value)\n",
        "\n",
        "  coeff_summary = pd.DataFrame({'portfolios':y.columns, 'alpha': alpha, 'beta': beta, 'r-square': rsquare})\n",
        "  return coeff_summary"
      ],
      "execution_count": null,
      "outputs": []
    },
    {
      "cell_type": "code",
      "metadata": {
        "id": "1vsiOjSlNex0",
        "outputId": "2c3f9411-d854-4455-bc89-fbbce602c1e8",
        "colab": {
          "base_uri": "https://localhost:8080/",
          "height": 562
        }
      },
      "source": [
        "# Model 1\n",
        "sheet1 = pd.read_excel(\"Problem_Set9.xls\", sheet_name=\"Value and momentum factors\", skiprows=4, index_col=None, usecols=\"A:Q\")\n",
        "sheet1 = sheet1.set_index(\"DATE\")\n",
        "# sheet1['RF'] = FF.iloc[546:,:]['RF'].values\n",
        "y = pd.DataFrame()\n",
        "for col in sheet1.columns[0:16]:\n",
        "  y[col] =  sheet1[col]# - sheet1['RF']\n",
        "\n",
        "x = sm.add_constant(FF.iloc[546:,:]['Mkt-RF'])\n",
        "\n",
        "y.index = x.index\n",
        "GRS_test(x,y)"
      ],
      "execution_count": null,
      "outputs": [
        {
          "output_type": "stream",
          "text": [
            "F statistic:  8.895433187311951 p value:  2.2291125735800604e-19\n"
          ],
          "name": "stdout"
        },
        {
          "output_type": "execute_result",
          "data": {
            "text/html": [
              "<div>\n",
              "<style scoped>\n",
              "    .dataframe tbody tr th:only-of-type {\n",
              "        vertical-align: middle;\n",
              "    }\n",
              "\n",
              "    .dataframe tbody tr th {\n",
              "        vertical-align: top;\n",
              "    }\n",
              "\n",
              "    .dataframe thead th {\n",
              "        text-align: right;\n",
              "    }\n",
              "</style>\n",
              "<table border=\"1\" class=\"dataframe\">\n",
              "  <thead>\n",
              "    <tr style=\"text-align: right;\">\n",
              "      <th></th>\n",
              "      <th>portfolios</th>\n",
              "      <th>alpha</th>\n",
              "      <th>beta</th>\n",
              "      <th>r-square</th>\n",
              "    </tr>\n",
              "  </thead>\n",
              "  <tbody>\n",
              "    <tr>\n",
              "      <th>0</th>\n",
              "      <td>VAL^US</td>\n",
              "      <td>0.003934</td>\n",
              "      <td>-0.002328</td>\n",
              "      <td>0.058853</td>\n",
              "    </tr>\n",
              "    <tr>\n",
              "      <th>1</th>\n",
              "      <td>MOM^US</td>\n",
              "      <td>0.006357</td>\n",
              "      <td>-0.000525</td>\n",
              "      <td>0.002681</td>\n",
              "    </tr>\n",
              "    <tr>\n",
              "      <th>2</th>\n",
              "      <td>VAL^UK</td>\n",
              "      <td>0.002595</td>\n",
              "      <td>0.000319</td>\n",
              "      <td>0.001212</td>\n",
              "    </tr>\n",
              "    <tr>\n",
              "      <th>3</th>\n",
              "      <td>MOM^UK</td>\n",
              "      <td>0.007334</td>\n",
              "      <td>-0.001058</td>\n",
              "      <td>0.012494</td>\n",
              "    </tr>\n",
              "    <tr>\n",
              "      <th>4</th>\n",
              "      <td>VAL^EU</td>\n",
              "      <td>0.002231</td>\n",
              "      <td>0.000591</td>\n",
              "      <td>0.007596</td>\n",
              "    </tr>\n",
              "    <tr>\n",
              "      <th>5</th>\n",
              "      <td>MOM^EU</td>\n",
              "      <td>0.008293</td>\n",
              "      <td>-0.001353</td>\n",
              "      <td>0.027307</td>\n",
              "    </tr>\n",
              "    <tr>\n",
              "      <th>6</th>\n",
              "      <td>VAL^JP</td>\n",
              "      <td>0.008167</td>\n",
              "      <td>-0.000928</td>\n",
              "      <td>0.010506</td>\n",
              "    </tr>\n",
              "    <tr>\n",
              "      <th>7</th>\n",
              "      <td>MOM^JP</td>\n",
              "      <td>0.002192</td>\n",
              "      <td>-0.000388</td>\n",
              "      <td>0.001462</td>\n",
              "    </tr>\n",
              "    <tr>\n",
              "      <th>8</th>\n",
              "      <td>VAL^EQ</td>\n",
              "      <td>0.002742</td>\n",
              "      <td>0.000307</td>\n",
              "      <td>0.002626</td>\n",
              "    </tr>\n",
              "    <tr>\n",
              "      <th>9</th>\n",
              "      <td>MOM^EQ</td>\n",
              "      <td>0.005125</td>\n",
              "      <td>-0.000031</td>\n",
              "      <td>0.000018</td>\n",
              "    </tr>\n",
              "    <tr>\n",
              "      <th>10</th>\n",
              "      <td>VAL^FX</td>\n",
              "      <td>0.002564</td>\n",
              "      <td>0.000037</td>\n",
              "      <td>0.000045</td>\n",
              "    </tr>\n",
              "    <tr>\n",
              "      <th>11</th>\n",
              "      <td>MOM^FX</td>\n",
              "      <td>0.002551</td>\n",
              "      <td>-0.000221</td>\n",
              "      <td>0.001401</td>\n",
              "    </tr>\n",
              "    <tr>\n",
              "      <th>12</th>\n",
              "      <td>VAL^FI</td>\n",
              "      <td>0.000750</td>\n",
              "      <td>-0.000109</td>\n",
              "      <td>0.000874</td>\n",
              "    </tr>\n",
              "    <tr>\n",
              "      <th>13</th>\n",
              "      <td>MOM^FI</td>\n",
              "      <td>0.000448</td>\n",
              "      <td>0.000130</td>\n",
              "      <td>0.001645</td>\n",
              "    </tr>\n",
              "    <tr>\n",
              "      <th>14</th>\n",
              "      <td>VAL^CM</td>\n",
              "      <td>0.005201</td>\n",
              "      <td>0.000344</td>\n",
              "      <td>0.000567</td>\n",
              "    </tr>\n",
              "    <tr>\n",
              "      <th>15</th>\n",
              "      <td>MOM^CM</td>\n",
              "      <td>0.009310</td>\n",
              "      <td>0.000094</td>\n",
              "      <td>0.000047</td>\n",
              "    </tr>\n",
              "  </tbody>\n",
              "</table>\n",
              "</div>"
            ],
            "text/plain": [
              "   portfolios     alpha      beta  r-square\n",
              "0      VAL^US  0.003934 -0.002328  0.058853\n",
              "1      MOM^US  0.006357 -0.000525  0.002681\n",
              "2      VAL^UK  0.002595  0.000319  0.001212\n",
              "3      MOM^UK  0.007334 -0.001058  0.012494\n",
              "4      VAL^EU  0.002231  0.000591  0.007596\n",
              "5      MOM^EU  0.008293 -0.001353  0.027307\n",
              "6      VAL^JP  0.008167 -0.000928  0.010506\n",
              "7      MOM^JP  0.002192 -0.000388  0.001462\n",
              "8      VAL^EQ  0.002742  0.000307  0.002626\n",
              "9      MOM^EQ  0.005125 -0.000031  0.000018\n",
              "10     VAL^FX  0.002564  0.000037  0.000045\n",
              "11     MOM^FX  0.002551 -0.000221  0.001401\n",
              "12     VAL^FI  0.000750 -0.000109  0.000874\n",
              "13     MOM^FI  0.000448  0.000130  0.001645\n",
              "14     VAL^CM  0.005201  0.000344  0.000567\n",
              "15     MOM^CM  0.009310  0.000094  0.000047"
            ]
          },
          "metadata": {
            "tags": []
          },
          "execution_count": 50
        }
      ]
    },
    {
      "cell_type": "markdown",
      "metadata": {
        "id": "czlnanaFSgRv"
      },
      "source": [
        "Since $p = 0 < 0.05$, we reject the null hypothesis that the $\\alpha$ values are 0, which means that the returns could not be entirely explained by the market portfolio proxy - in this case the excess market return (Rm - Rf). In other words, the market portfolio proxy for the test is not mean-variance efficient.\n"
      ]
    },
    {
      "cell_type": "markdown",
      "metadata": {
        "id": "LQt-HVXrSyXE"
      },
      "source": [
        "###  Model 2) Fama-French 4-factor model:  RMRF, SMB, HML, UMD"
      ]
    },
    {
      "cell_type": "code",
      "metadata": {
        "id": "9G6TYzD4HsPz",
        "outputId": "16d4590f-9e70-481d-8466-c989ffdf3a68",
        "colab": {
          "base_uri": "https://localhost:8080/",
          "height": 562
        }
      },
      "source": [
        "x = sm.add_constant(FF.iloc[546:,:][['Mkt-RF','SMB','HML','UMD']])\n",
        "GRS_test(x,y)"
      ],
      "execution_count": null,
      "outputs": [
        {
          "output_type": "stream",
          "text": [
            "F statistic:  6.285562678488237 p value:  6.902157726028328e-13\n"
          ],
          "name": "stdout"
        },
        {
          "output_type": "execute_result",
          "data": {
            "text/html": [
              "<div>\n",
              "<style scoped>\n",
              "    .dataframe tbody tr th:only-of-type {\n",
              "        vertical-align: middle;\n",
              "    }\n",
              "\n",
              "    .dataframe tbody tr th {\n",
              "        vertical-align: top;\n",
              "    }\n",
              "\n",
              "    .dataframe thead th {\n",
              "        text-align: right;\n",
              "    }\n",
              "</style>\n",
              "<table border=\"1\" class=\"dataframe\">\n",
              "  <thead>\n",
              "    <tr style=\"text-align: right;\">\n",
              "      <th></th>\n",
              "      <th>portfolios</th>\n",
              "      <th>alpha</th>\n",
              "      <th>beta</th>\n",
              "      <th>r-square</th>\n",
              "    </tr>\n",
              "  </thead>\n",
              "  <tbody>\n",
              "    <tr>\n",
              "      <th>0</th>\n",
              "      <td>VAL^US</td>\n",
              "      <td>0.002569</td>\n",
              "      <td>-0.000468</td>\n",
              "      <td>0.789674</td>\n",
              "    </tr>\n",
              "    <tr>\n",
              "      <th>1</th>\n",
              "      <td>MOM^US</td>\n",
              "      <td>-0.000706</td>\n",
              "      <td>0.000118</td>\n",
              "      <td>0.888535</td>\n",
              "    </tr>\n",
              "    <tr>\n",
              "      <th>2</th>\n",
              "      <td>VAL^UK</td>\n",
              "      <td>0.002248</td>\n",
              "      <td>0.001295</td>\n",
              "      <td>0.351986</td>\n",
              "    </tr>\n",
              "    <tr>\n",
              "      <th>3</th>\n",
              "      <td>MOM^UK</td>\n",
              "      <td>0.003835</td>\n",
              "      <td>-0.001041</td>\n",
              "      <td>0.351427</td>\n",
              "    </tr>\n",
              "    <tr>\n",
              "      <th>4</th>\n",
              "      <td>VAL^EU</td>\n",
              "      <td>0.002110</td>\n",
              "      <td>0.001090</td>\n",
              "      <td>0.370581</td>\n",
              "    </tr>\n",
              "    <tr>\n",
              "      <th>5</th>\n",
              "      <td>MOM^EU</td>\n",
              "      <td>0.005160</td>\n",
              "      <td>-0.001094</td>\n",
              "      <td>0.347535</td>\n",
              "    </tr>\n",
              "    <tr>\n",
              "      <th>6</th>\n",
              "      <td>VAL^JP</td>\n",
              "      <td>0.007734</td>\n",
              "      <td>-0.000233</td>\n",
              "      <td>0.149026</td>\n",
              "    </tr>\n",
              "    <tr>\n",
              "      <th>7</th>\n",
              "      <td>MOM^JP</td>\n",
              "      <td>0.000412</td>\n",
              "      <td>-0.000501</td>\n",
              "      <td>0.095279</td>\n",
              "    </tr>\n",
              "    <tr>\n",
              "      <th>8</th>\n",
              "      <td>VAL^EQ</td>\n",
              "      <td>0.002653</td>\n",
              "      <td>0.000427</td>\n",
              "      <td>0.043021</td>\n",
              "    </tr>\n",
              "    <tr>\n",
              "      <th>9</th>\n",
              "      <td>MOM^EQ</td>\n",
              "      <td>0.002823</td>\n",
              "      <td>0.000283</td>\n",
              "      <td>0.119999</td>\n",
              "    </tr>\n",
              "    <tr>\n",
              "      <th>10</th>\n",
              "      <td>VAL^FX</td>\n",
              "      <td>0.003105</td>\n",
              "      <td>-0.000259</td>\n",
              "      <td>0.019707</td>\n",
              "    </tr>\n",
              "    <tr>\n",
              "      <th>11</th>\n",
              "      <td>MOM^FX</td>\n",
              "      <td>0.001788</td>\n",
              "      <td>0.000005</td>\n",
              "      <td>0.025799</td>\n",
              "    </tr>\n",
              "    <tr>\n",
              "      <th>12</th>\n",
              "      <td>VAL^FI</td>\n",
              "      <td>0.000913</td>\n",
              "      <td>-0.000204</td>\n",
              "      <td>0.004739</td>\n",
              "    </tr>\n",
              "    <tr>\n",
              "      <th>13</th>\n",
              "      <td>MOM^FI</td>\n",
              "      <td>0.000129</td>\n",
              "      <td>0.000296</td>\n",
              "      <td>0.025477</td>\n",
              "    </tr>\n",
              "    <tr>\n",
              "      <th>14</th>\n",
              "      <td>VAL^CM</td>\n",
              "      <td>0.007260</td>\n",
              "      <td>-0.000069</td>\n",
              "      <td>0.016950</td>\n",
              "    </tr>\n",
              "    <tr>\n",
              "      <th>15</th>\n",
              "      <td>MOM^CM</td>\n",
              "      <td>0.007183</td>\n",
              "      <td>0.000499</td>\n",
              "      <td>0.045393</td>\n",
              "    </tr>\n",
              "  </tbody>\n",
              "</table>\n",
              "</div>"
            ],
            "text/plain": [
              "   portfolios     alpha      beta  r-square\n",
              "0      VAL^US  0.002569 -0.000468  0.789674\n",
              "1      MOM^US -0.000706  0.000118  0.888535\n",
              "2      VAL^UK  0.002248  0.001295  0.351986\n",
              "3      MOM^UK  0.003835 -0.001041  0.351427\n",
              "4      VAL^EU  0.002110  0.001090  0.370581\n",
              "5      MOM^EU  0.005160 -0.001094  0.347535\n",
              "6      VAL^JP  0.007734 -0.000233  0.149026\n",
              "7      MOM^JP  0.000412 -0.000501  0.095279\n",
              "8      VAL^EQ  0.002653  0.000427  0.043021\n",
              "9      MOM^EQ  0.002823  0.000283  0.119999\n",
              "10     VAL^FX  0.003105 -0.000259  0.019707\n",
              "11     MOM^FX  0.001788  0.000005  0.025799\n",
              "12     VAL^FI  0.000913 -0.000204  0.004739\n",
              "13     MOM^FI  0.000129  0.000296  0.025477\n",
              "14     VAL^CM  0.007260 -0.000069  0.016950\n",
              "15     MOM^CM  0.007183  0.000499  0.045393"
            ]
          },
          "metadata": {
            "tags": []
          },
          "execution_count": 51
        }
      ]
    },
    {
      "cell_type": "markdown",
      "metadata": {
        "id": "FQqlYTiHUqEj"
      },
      "source": [
        "Since $p = 0 < 0.05$, we reject the null hypothesis that the $\\alpha$ values are 0, which means that the returns could not be entirely explained by the market portfolio proxy - in this case the excess market return (Rm - Rf), SMB, HML, UMD."
      ]
    },
    {
      "cell_type": "markdown",
      "metadata": {
        "id": "QqNdG2NKU_FM"
      },
      "source": [
        "### Model 3) Asness-Moskowitz-Pedersen 3-factor model:  RMRF, \t\t\tVALeverywhere, MOMeverywhere"
      ]
    },
    {
      "cell_type": "code",
      "metadata": {
        "id": "Zz3JtyiiVcng",
        "outputId": "ffa54bf7-c97b-4645-804a-75fa5b81f829",
        "colab": {
          "base_uri": "https://localhost:8080/",
          "height": 562
        }
      },
      "source": [
        "MOM_everywhere = MOMeverywhere['MOM Factor']\n",
        "VAL_everywhere = VALeverywhere['VAL Factor']\n",
        "\n",
        "x = sm.add_constant(FF.iloc[546:,:]['Mkt-RF'])\n",
        "MOM_everywhere.index = x.index\n",
        "VAL_everywhere.index = x.index\n",
        "x['MOM_everwhere'] = MOM_everywhere\n",
        "x['VAL_everywhere'] = VAL_everywhere\n",
        "\n",
        "GRS_test(x,y)"
      ],
      "execution_count": null,
      "outputs": [
        {
          "output_type": "stream",
          "text": [
            "F statistic:  1.753272533400046 p value:  0.03451541849862732\n"
          ],
          "name": "stdout"
        },
        {
          "output_type": "execute_result",
          "data": {
            "text/html": [
              "<div>\n",
              "<style scoped>\n",
              "    .dataframe tbody tr th:only-of-type {\n",
              "        vertical-align: middle;\n",
              "    }\n",
              "\n",
              "    .dataframe tbody tr th {\n",
              "        vertical-align: top;\n",
              "    }\n",
              "\n",
              "    .dataframe thead th {\n",
              "        text-align: right;\n",
              "    }\n",
              "</style>\n",
              "<table border=\"1\" class=\"dataframe\">\n",
              "  <thead>\n",
              "    <tr style=\"text-align: right;\">\n",
              "      <th></th>\n",
              "      <th>portfolios</th>\n",
              "      <th>alpha</th>\n",
              "      <th>beta</th>\n",
              "      <th>r-square</th>\n",
              "    </tr>\n",
              "  </thead>\n",
              "  <tbody>\n",
              "    <tr>\n",
              "      <th>0</th>\n",
              "      <td>VAL^US</td>\n",
              "      <td>-0.000332</td>\n",
              "      <td>-0.002102</td>\n",
              "      <td>0.495085</td>\n",
              "    </tr>\n",
              "    <tr>\n",
              "      <th>1</th>\n",
              "      <td>MOM^US</td>\n",
              "      <td>0.001578</td>\n",
              "      <td>-0.000113</td>\n",
              "      <td>0.510929</td>\n",
              "    </tr>\n",
              "    <tr>\n",
              "      <th>2</th>\n",
              "      <td>VAL^UK</td>\n",
              "      <td>-0.002755</td>\n",
              "      <td>0.000562</td>\n",
              "      <td>0.575412</td>\n",
              "    </tr>\n",
              "    <tr>\n",
              "      <th>3</th>\n",
              "      <td>MOM^UK</td>\n",
              "      <td>0.002275</td>\n",
              "      <td>-0.000628</td>\n",
              "      <td>0.559496</td>\n",
              "    </tr>\n",
              "    <tr>\n",
              "      <th>4</th>\n",
              "      <td>VAL^EU</td>\n",
              "      <td>-0.001502</td>\n",
              "      <td>0.000743</td>\n",
              "      <td>0.627405</td>\n",
              "    </tr>\n",
              "    <tr>\n",
              "      <th>5</th>\n",
              "      <td>MOM^EU</td>\n",
              "      <td>0.001654</td>\n",
              "      <td>-0.000856</td>\n",
              "      <td>0.636788</td>\n",
              "    </tr>\n",
              "    <tr>\n",
              "      <th>6</th>\n",
              "      <td>VAL^JP</td>\n",
              "      <td>0.003255</td>\n",
              "      <td>-0.000675</td>\n",
              "      <td>0.382402</td>\n",
              "    </tr>\n",
              "    <tr>\n",
              "      <th>7</th>\n",
              "      <td>MOM^JP</td>\n",
              "      <td>-0.001734</td>\n",
              "      <td>-0.000079</td>\n",
              "      <td>0.275450</td>\n",
              "    </tr>\n",
              "    <tr>\n",
              "      <th>8</th>\n",
              "      <td>VAL^EQ</td>\n",
              "      <td>0.000365</td>\n",
              "      <td>0.000450</td>\n",
              "      <td>0.217516</td>\n",
              "    </tr>\n",
              "    <tr>\n",
              "      <th>9</th>\n",
              "      <td>MOM^EQ</td>\n",
              "      <td>-0.000383</td>\n",
              "      <td>0.000355</td>\n",
              "      <td>0.415908</td>\n",
              "    </tr>\n",
              "    <tr>\n",
              "      <th>10</th>\n",
              "      <td>VAL^FX</td>\n",
              "      <td>0.001478</td>\n",
              "      <td>0.000098</td>\n",
              "      <td>0.133417</td>\n",
              "    </tr>\n",
              "    <tr>\n",
              "      <th>11</th>\n",
              "      <td>MOM^FX</td>\n",
              "      <td>-0.001110</td>\n",
              "      <td>0.000044</td>\n",
              "      <td>0.206586</td>\n",
              "    </tr>\n",
              "    <tr>\n",
              "      <th>12</th>\n",
              "      <td>VAL^FI</td>\n",
              "      <td>-0.000264</td>\n",
              "      <td>-0.000046</td>\n",
              "      <td>0.045376</td>\n",
              "    </tr>\n",
              "    <tr>\n",
              "      <th>13</th>\n",
              "      <td>MOM^FI</td>\n",
              "      <td>-0.001373</td>\n",
              "      <td>0.000314</td>\n",
              "      <td>0.146657</td>\n",
              "    </tr>\n",
              "    <tr>\n",
              "      <th>14</th>\n",
              "      <td>VAL^CM</td>\n",
              "      <td>0.001080</td>\n",
              "      <td>0.000579</td>\n",
              "      <td>0.110078</td>\n",
              "    </tr>\n",
              "    <tr>\n",
              "      <th>15</th>\n",
              "      <td>MOM^CM</td>\n",
              "      <td>0.002847</td>\n",
              "      <td>0.000602</td>\n",
              "      <td>0.178788</td>\n",
              "    </tr>\n",
              "  </tbody>\n",
              "</table>\n",
              "</div>"
            ],
            "text/plain": [
              "   portfolios     alpha      beta  r-square\n",
              "0      VAL^US -0.000332 -0.002102  0.495085\n",
              "1      MOM^US  0.001578 -0.000113  0.510929\n",
              "2      VAL^UK -0.002755  0.000562  0.575412\n",
              "3      MOM^UK  0.002275 -0.000628  0.559496\n",
              "4      VAL^EU -0.001502  0.000743  0.627405\n",
              "5      MOM^EU  0.001654 -0.000856  0.636788\n",
              "6      VAL^JP  0.003255 -0.000675  0.382402\n",
              "7      MOM^JP -0.001734 -0.000079  0.275450\n",
              "8      VAL^EQ  0.000365  0.000450  0.217516\n",
              "9      MOM^EQ -0.000383  0.000355  0.415908\n",
              "10     VAL^FX  0.001478  0.000098  0.133417\n",
              "11     MOM^FX -0.001110  0.000044  0.206586\n",
              "12     VAL^FI -0.000264 -0.000046  0.045376\n",
              "13     MOM^FI -0.001373  0.000314  0.146657\n",
              "14     VAL^CM  0.001080  0.000579  0.110078\n",
              "15     MOM^CM  0.002847  0.000602  0.178788"
            ]
          },
          "metadata": {
            "tags": []
          },
          "execution_count": 52
        }
      ]
    },
    {
      "cell_type": "markdown",
      "metadata": {
        "id": "0d5k2iIL5VEa"
      },
      "source": [
        "Since $p = 0.03 < 0.05$, we reject the null hypothesis that the $\\alpha$ values are 0, which means that the returns could not be entirely explained by RMRF,\t\tVALeverywhere, MOMeverywhere."
      ]
    },
    {
      "cell_type": "markdown",
      "metadata": {
        "id": "Bo__K4lc5kGg"
      },
      "source": [
        "###   Model 4) Asness-Moskowitz-Pedersen 3-factor model + TSMOM \n"
      ]
    },
    {
      "cell_type": "code",
      "metadata": {
        "id": "g4wTq3WP55xT",
        "outputId": "45d34056-6201-4953-8452-10743d8e5de3",
        "colab": {
          "base_uri": "https://localhost:8080/",
          "height": 766
        }
      },
      "source": [
        "x4 = x.iloc[156:,:]\n",
        "x4['TSMOM'] = TSMOM['TSMOM']\n",
        "temp_tsmom = TSMOM['TSMOM']\n",
        "temp_tsmom.index = x4.index\n",
        "x4['TSMOM'] =temp_tsmom # 371 rows × 5 columns\n",
        "\n",
        "y4 = y.iloc[156:,:]\n",
        "y4.index = x4.index\n",
        "GRS_test(x4,y4)"
      ],
      "execution_count": null,
      "outputs": [
        {
          "output_type": "stream",
          "text": [
            "F statistic:  13.331374567820761 p value:  8.032467923669349e-28\n"
          ],
          "name": "stdout"
        },
        {
          "output_type": "stream",
          "text": [
            "/usr/local/lib/python3.6/dist-packages/ipykernel_launcher.py:2: SettingWithCopyWarning: \n",
            "A value is trying to be set on a copy of a slice from a DataFrame.\n",
            "Try using .loc[row_indexer,col_indexer] = value instead\n",
            "\n",
            "See the caveats in the documentation: https://pandas.pydata.org/pandas-docs/stable/user_guide/indexing.html#returning-a-view-versus-a-copy\n",
            "  \n",
            "/usr/local/lib/python3.6/dist-packages/ipykernel_launcher.py:5: SettingWithCopyWarning: \n",
            "A value is trying to be set on a copy of a slice from a DataFrame.\n",
            "Try using .loc[row_indexer,col_indexer] = value instead\n",
            "\n",
            "See the caveats in the documentation: https://pandas.pydata.org/pandas-docs/stable/user_guide/indexing.html#returning-a-view-versus-a-copy\n",
            "  \"\"\"\n"
          ],
          "name": "stderr"
        },
        {
          "output_type": "execute_result",
          "data": {
            "text/html": [
              "<div>\n",
              "<style scoped>\n",
              "    .dataframe tbody tr th:only-of-type {\n",
              "        vertical-align: middle;\n",
              "    }\n",
              "\n",
              "    .dataframe tbody tr th {\n",
              "        vertical-align: top;\n",
              "    }\n",
              "\n",
              "    .dataframe thead th {\n",
              "        text-align: right;\n",
              "    }\n",
              "</style>\n",
              "<table border=\"1\" class=\"dataframe\">\n",
              "  <thead>\n",
              "    <tr style=\"text-align: right;\">\n",
              "      <th></th>\n",
              "      <th>portfolios</th>\n",
              "      <th>alpha</th>\n",
              "      <th>beta</th>\n",
              "      <th>r-square</th>\n",
              "    </tr>\n",
              "  </thead>\n",
              "  <tbody>\n",
              "    <tr>\n",
              "      <th>0</th>\n",
              "      <td>VAL^US</td>\n",
              "      <td>-0.003220</td>\n",
              "      <td>-0.002051</td>\n",
              "      <td>0.565562</td>\n",
              "    </tr>\n",
              "    <tr>\n",
              "      <th>1</th>\n",
              "      <td>MOM^US</td>\n",
              "      <td>0.002223</td>\n",
              "      <td>0.000188</td>\n",
              "      <td>0.596159</td>\n",
              "    </tr>\n",
              "    <tr>\n",
              "      <th>2</th>\n",
              "      <td>VAL^UK</td>\n",
              "      <td>-0.002676</td>\n",
              "      <td>0.000349</td>\n",
              "      <td>0.600798</td>\n",
              "    </tr>\n",
              "    <tr>\n",
              "      <th>3</th>\n",
              "      <td>MOM^UK</td>\n",
              "      <td>0.004793</td>\n",
              "      <td>-0.000430</td>\n",
              "      <td>0.664800</td>\n",
              "    </tr>\n",
              "    <tr>\n",
              "      <th>4</th>\n",
              "      <td>VAL^EU</td>\n",
              "      <td>-0.002829</td>\n",
              "      <td>0.000592</td>\n",
              "      <td>0.678008</td>\n",
              "    </tr>\n",
              "    <tr>\n",
              "      <th>5</th>\n",
              "      <td>MOM^EU</td>\n",
              "      <td>0.001650</td>\n",
              "      <td>-0.001049</td>\n",
              "      <td>0.722291</td>\n",
              "    </tr>\n",
              "    <tr>\n",
              "      <th>6</th>\n",
              "      <td>VAL^JP</td>\n",
              "      <td>0.003587</td>\n",
              "      <td>-0.000687</td>\n",
              "      <td>0.400418</td>\n",
              "    </tr>\n",
              "    <tr>\n",
              "      <th>7</th>\n",
              "      <td>MOM^JP</td>\n",
              "      <td>0.000058</td>\n",
              "      <td>0.000126</td>\n",
              "      <td>0.334526</td>\n",
              "    </tr>\n",
              "    <tr>\n",
              "      <th>8</th>\n",
              "      <td>VAL^EQ</td>\n",
              "      <td>0.000137</td>\n",
              "      <td>0.000596</td>\n",
              "      <td>0.232080</td>\n",
              "    </tr>\n",
              "    <tr>\n",
              "      <th>9</th>\n",
              "      <td>MOM^EQ</td>\n",
              "      <td>0.000478</td>\n",
              "      <td>0.000271</td>\n",
              "      <td>0.407654</td>\n",
              "    </tr>\n",
              "    <tr>\n",
              "      <th>10</th>\n",
              "      <td>VAL^FX</td>\n",
              "      <td>0.001875</td>\n",
              "      <td>0.000289</td>\n",
              "      <td>0.146788</td>\n",
              "    </tr>\n",
              "    <tr>\n",
              "      <th>11</th>\n",
              "      <td>MOM^FX</td>\n",
              "      <td>-0.002811</td>\n",
              "      <td>0.000042</td>\n",
              "      <td>0.259517</td>\n",
              "    </tr>\n",
              "    <tr>\n",
              "      <th>12</th>\n",
              "      <td>VAL^FI</td>\n",
              "      <td>0.000604</td>\n",
              "      <td>-0.000051</td>\n",
              "      <td>0.039451</td>\n",
              "    </tr>\n",
              "    <tr>\n",
              "      <th>13</th>\n",
              "      <td>MOM^FI</td>\n",
              "      <td>-0.001472</td>\n",
              "      <td>0.000267</td>\n",
              "      <td>0.161958</td>\n",
              "    </tr>\n",
              "    <tr>\n",
              "      <th>14</th>\n",
              "      <td>VAL^CM</td>\n",
              "      <td>0.001679</td>\n",
              "      <td>0.000321</td>\n",
              "      <td>0.107535</td>\n",
              "    </tr>\n",
              "    <tr>\n",
              "      <th>15</th>\n",
              "      <td>MOM^CM</td>\n",
              "      <td>-0.000527</td>\n",
              "      <td>0.000142</td>\n",
              "      <td>0.216667</td>\n",
              "    </tr>\n",
              "  </tbody>\n",
              "</table>\n",
              "</div>"
            ],
            "text/plain": [
              "   portfolios     alpha      beta  r-square\n",
              "0      VAL^US -0.003220 -0.002051  0.565562\n",
              "1      MOM^US  0.002223  0.000188  0.596159\n",
              "2      VAL^UK -0.002676  0.000349  0.600798\n",
              "3      MOM^UK  0.004793 -0.000430  0.664800\n",
              "4      VAL^EU -0.002829  0.000592  0.678008\n",
              "5      MOM^EU  0.001650 -0.001049  0.722291\n",
              "6      VAL^JP  0.003587 -0.000687  0.400418\n",
              "7      MOM^JP  0.000058  0.000126  0.334526\n",
              "8      VAL^EQ  0.000137  0.000596  0.232080\n",
              "9      MOM^EQ  0.000478  0.000271  0.407654\n",
              "10     VAL^FX  0.001875  0.000289  0.146788\n",
              "11     MOM^FX -0.002811  0.000042  0.259517\n",
              "12     VAL^FI  0.000604 -0.000051  0.039451\n",
              "13     MOM^FI -0.001472  0.000267  0.161958\n",
              "14     VAL^CM  0.001679  0.000321  0.107535\n",
              "15     MOM^CM -0.000527  0.000142  0.216667"
            ]
          },
          "metadata": {
            "tags": []
          },
          "execution_count": 53
        }
      ]
    },
    {
      "cell_type": "markdown",
      "metadata": {
        "id": "f0CE5kWtKbR7"
      },
      "source": [
        "###  Model 5) Asness-Moskowitz-Pedersen 3-factor model + TSMOM +LTREV+STR"
      ]
    },
    {
      "cell_type": "code",
      "metadata": {
        "id": "6hZqObPxKviJ",
        "outputId": "8f15abc9-2ae8-4788-a5bc-c7ab36dccc05",
        "colab": {
          "base_uri": "https://localhost:8080/"
        }
      },
      "source": [
        "x4['LTREV'] = FF.iloc[702:,:]['LTREV']\n",
        "x4['STREV'] = FF.iloc[702:,:]['STREV']"
      ],
      "execution_count": null,
      "outputs": [
        {
          "output_type": "stream",
          "text": [
            "/usr/local/lib/python3.6/dist-packages/ipykernel_launcher.py:1: SettingWithCopyWarning: \n",
            "A value is trying to be set on a copy of a slice from a DataFrame.\n",
            "Try using .loc[row_indexer,col_indexer] = value instead\n",
            "\n",
            "See the caveats in the documentation: https://pandas.pydata.org/pandas-docs/stable/user_guide/indexing.html#returning-a-view-versus-a-copy\n",
            "  \"\"\"Entry point for launching an IPython kernel.\n",
            "/usr/local/lib/python3.6/dist-packages/ipykernel_launcher.py:2: SettingWithCopyWarning: \n",
            "A value is trying to be set on a copy of a slice from a DataFrame.\n",
            "Try using .loc[row_indexer,col_indexer] = value instead\n",
            "\n",
            "See the caveats in the documentation: https://pandas.pydata.org/pandas-docs/stable/user_guide/indexing.html#returning-a-view-versus-a-copy\n",
            "  \n"
          ],
          "name": "stderr"
        }
      ]
    },
    {
      "cell_type": "code",
      "metadata": {
        "id": "_O3nzxAfKdiE",
        "outputId": "85de358f-4c9a-47f8-a5fc-f0d93f48a1f4",
        "colab": {
          "base_uri": "https://localhost:8080/",
          "height": 562
        }
      },
      "source": [
        "GRS_test(x4,y4)"
      ],
      "execution_count": null,
      "outputs": [
        {
          "output_type": "stream",
          "text": [
            "F statistic:  1.8056058379170399 p value:  0.0289892242856935\n"
          ],
          "name": "stdout"
        },
        {
          "output_type": "execute_result",
          "data": {
            "text/html": [
              "<div>\n",
              "<style scoped>\n",
              "    .dataframe tbody tr th:only-of-type {\n",
              "        vertical-align: middle;\n",
              "    }\n",
              "\n",
              "    .dataframe tbody tr th {\n",
              "        vertical-align: top;\n",
              "    }\n",
              "\n",
              "    .dataframe thead th {\n",
              "        text-align: right;\n",
              "    }\n",
              "</style>\n",
              "<table border=\"1\" class=\"dataframe\">\n",
              "  <thead>\n",
              "    <tr style=\"text-align: right;\">\n",
              "      <th></th>\n",
              "      <th>portfolios</th>\n",
              "      <th>alpha</th>\n",
              "      <th>beta</th>\n",
              "      <th>r-square</th>\n",
              "    </tr>\n",
              "  </thead>\n",
              "  <tbody>\n",
              "    <tr>\n",
              "      <th>0</th>\n",
              "      <td>VAL^US</td>\n",
              "      <td>-0.003307</td>\n",
              "      <td>-0.002227</td>\n",
              "      <td>0.568856</td>\n",
              "    </tr>\n",
              "    <tr>\n",
              "      <th>1</th>\n",
              "      <td>MOM^US</td>\n",
              "      <td>0.002568</td>\n",
              "      <td>0.000442</td>\n",
              "      <td>0.624100</td>\n",
              "    </tr>\n",
              "    <tr>\n",
              "      <th>2</th>\n",
              "      <td>VAL^UK</td>\n",
              "      <td>-0.002678</td>\n",
              "      <td>0.000397</td>\n",
              "      <td>0.601068</td>\n",
              "    </tr>\n",
              "    <tr>\n",
              "      <th>3</th>\n",
              "      <td>MOM^UK</td>\n",
              "      <td>0.004813</td>\n",
              "      <td>-0.000604</td>\n",
              "      <td>0.667807</td>\n",
              "    </tr>\n",
              "    <tr>\n",
              "      <th>4</th>\n",
              "      <td>VAL^EU</td>\n",
              "      <td>-0.002799</td>\n",
              "      <td>0.000543</td>\n",
              "      <td>0.679552</td>\n",
              "    </tr>\n",
              "    <tr>\n",
              "      <th>5</th>\n",
              "      <td>MOM^EU</td>\n",
              "      <td>0.001508</td>\n",
              "      <td>-0.001143</td>\n",
              "      <td>0.729514</td>\n",
              "    </tr>\n",
              "    <tr>\n",
              "      <th>6</th>\n",
              "      <td>VAL^JP</td>\n",
              "      <td>0.003442</td>\n",
              "      <td>-0.000621</td>\n",
              "      <td>0.410718</td>\n",
              "    </tr>\n",
              "    <tr>\n",
              "      <th>7</th>\n",
              "      <td>MOM^JP</td>\n",
              "      <td>0.000183</td>\n",
              "      <td>0.000058</td>\n",
              "      <td>0.340053</td>\n",
              "    </tr>\n",
              "    <tr>\n",
              "      <th>8</th>\n",
              "      <td>VAL^EQ</td>\n",
              "      <td>0.000165</td>\n",
              "      <td>0.000515</td>\n",
              "      <td>0.235709</td>\n",
              "    </tr>\n",
              "    <tr>\n",
              "      <th>9</th>\n",
              "      <td>MOM^EQ</td>\n",
              "      <td>0.000449</td>\n",
              "      <td>0.000103</td>\n",
              "      <td>0.412209</td>\n",
              "    </tr>\n",
              "    <tr>\n",
              "      <th>10</th>\n",
              "      <td>VAL^FX</td>\n",
              "      <td>0.001998</td>\n",
              "      <td>0.000408</td>\n",
              "      <td>0.161543</td>\n",
              "    </tr>\n",
              "    <tr>\n",
              "      <th>11</th>\n",
              "      <td>MOM^FX</td>\n",
              "      <td>-0.002906</td>\n",
              "      <td>-0.000036</td>\n",
              "      <td>0.267040</td>\n",
              "    </tr>\n",
              "    <tr>\n",
              "      <th>12</th>\n",
              "      <td>VAL^FI</td>\n",
              "      <td>0.000629</td>\n",
              "      <td>-0.000035</td>\n",
              "      <td>0.041437</td>\n",
              "    </tr>\n",
              "    <tr>\n",
              "      <th>13</th>\n",
              "      <td>MOM^FI</td>\n",
              "      <td>-0.001537</td>\n",
              "      <td>0.000355</td>\n",
              "      <td>0.197259</td>\n",
              "    </tr>\n",
              "    <tr>\n",
              "      <th>14</th>\n",
              "      <td>VAL^CM</td>\n",
              "      <td>0.001487</td>\n",
              "      <td>0.000323</td>\n",
              "      <td>0.114887</td>\n",
              "    </tr>\n",
              "    <tr>\n",
              "      <th>15</th>\n",
              "      <td>MOM^CM</td>\n",
              "      <td>-0.000383</td>\n",
              "      <td>0.000414</td>\n",
              "      <td>0.222499</td>\n",
              "    </tr>\n",
              "  </tbody>\n",
              "</table>\n",
              "</div>"
            ],
            "text/plain": [
              "   portfolios     alpha      beta  r-square\n",
              "0      VAL^US -0.003307 -0.002227  0.568856\n",
              "1      MOM^US  0.002568  0.000442  0.624100\n",
              "2      VAL^UK -0.002678  0.000397  0.601068\n",
              "3      MOM^UK  0.004813 -0.000604  0.667807\n",
              "4      VAL^EU -0.002799  0.000543  0.679552\n",
              "5      MOM^EU  0.001508 -0.001143  0.729514\n",
              "6      VAL^JP  0.003442 -0.000621  0.410718\n",
              "7      MOM^JP  0.000183  0.000058  0.340053\n",
              "8      VAL^EQ  0.000165  0.000515  0.235709\n",
              "9      MOM^EQ  0.000449  0.000103  0.412209\n",
              "10     VAL^FX  0.001998  0.000408  0.161543\n",
              "11     MOM^FX -0.002906 -0.000036  0.267040\n",
              "12     VAL^FI  0.000629 -0.000035  0.041437\n",
              "13     MOM^FI -0.001537  0.000355  0.197259\n",
              "14     VAL^CM  0.001487  0.000323  0.114887\n",
              "15     MOM^CM -0.000383  0.000414  0.222499"
            ]
          },
          "metadata": {
            "tags": []
          },
          "execution_count": 55
        }
      ]
    },
    {
      "cell_type": "markdown",
      "metadata": {
        "id": "xLjbJdt2RD-k"
      },
      "source": [
        "Which model performs the best at pricing the value and momentum portfolios and why? (Take into account both the alphas and the R-squares when making this assessment). Why are you able to run the GRS F-test here for these models?\n",
        "\n",
        "We can see that the last model, Asness-Moskowitz-Pedersen 3-factor + TSMOM + LTREV + STREV, performs the best at pricing the value and momentum portfolios across the board, with consistently high R-squared and very low $\\alpha$ values. "
      ]
    },
    {
      "cell_type": "markdown",
      "metadata": {
        "id": "XXtUskFebKYT"
      },
      "source": [
        "# Part 2:  MOM vs. TSMOM\n",
        "Now compare the MOM factor returns in equity index futures, currencies, fixed income, and commodities vs. TSMOM in each of these markets.\n"
      ]
    },
    {
      "cell_type": "markdown",
      "metadata": {
        "id": "gynKXUJebNDh"
      },
      "source": [
        "## m)\tDesign a test to see if MOM captures TSMOM and vice versa. Run that test and show your results and interpret the findings. What do you conclude?\n"
      ]
    },
    {
      "cell_type": "code",
      "metadata": {
        "id": "k2ouEXM-m_H7",
        "outputId": "4a518d6e-c62a-4ab7-dc4b-825712f05c63",
        "colab": {
          "base_uri": "https://localhost:8080/"
        }
      },
      "source": [
        "# Seperate momentum from sheet1\n",
        "MOM_fullset = assets[['MOM^EQ','MOM^FX','MOM^FI','MOM^CM']]\n",
        "MOM = MOM_fullset.iloc[156:,] # index concensus to TSMOM\n",
        "\n",
        "def corr(col1, col2):\n",
        "    mean1, mean2 = col1.mean(), col2.mean()\n",
        "    std1, std2 = col1.std(), col2.std()\n",
        "    corr = ((col1 * col2).mean()-mean1 * mean2)/(std1 * std2)\n",
        "    return corr\n",
        "print(\"Correlation coefficients of EQ, FX, FI, CM between MOM and TSMOM are\", \\\n",
        "      round(corr(MOM['MOM^EQ'],TSMOM['TSMOM^EQ']),2), round(corr(MOM['MOM^FX'],TSMOM['TSMOM^FX']),2), \\\n",
        "      round(corr(MOM['MOM^FI'],TSMOM['TSMOM^FI']),2), round(corr(MOM['MOM^CM'],TSMOM['TSMOM^CM']),2), \"respectively.\")"
      ],
      "execution_count": null,
      "outputs": [
        {
          "output_type": "stream",
          "text": [
            "Correlation coefficients of EQ, FX, FI, CM between MOM and TSMOM are 0.35 0.7 0.43 0.7 respectively.\n"
          ],
          "name": "stdout"
        }
      ]
    },
    {
      "cell_type": "code",
      "metadata": {
        "id": "Imu20qHYo4DC",
        "outputId": "5ddda50e-0b2f-40ad-8ac1-978603d208f9",
        "colab": {
          "base_uri": "https://localhost:8080/",
          "height": 507
        }
      },
      "source": [
        "x = sm.add_constant(TSMOM.iloc[:,1:5]) \n",
        "mod1 = sm.OLS(TSMOM.iloc[:,0], x).fit()\n",
        "mod1.summary()"
      ],
      "execution_count": null,
      "outputs": [
        {
          "output_type": "execute_result",
          "data": {
            "text/html": [
              "<table class=\"simpletable\">\n",
              "<caption>OLS Regression Results</caption>\n",
              "<tr>\n",
              "  <th>Dep. Variable:</th>          <td>TSMOM</td>      <th>  R-squared:         </th> <td>   0.989</td>\n",
              "</tr>\n",
              "<tr>\n",
              "  <th>Model:</th>                   <td>OLS</td>       <th>  Adj. R-squared:    </th> <td>   0.989</td>\n",
              "</tr>\n",
              "<tr>\n",
              "  <th>Method:</th>             <td>Least Squares</td>  <th>  F-statistic:       </th> <td>   8408.</td>\n",
              "</tr>\n",
              "<tr>\n",
              "  <th>Date:</th>             <td>Tue, 10 Nov 2020</td> <th>  Prob (F-statistic):</th>  <td>  0.00</td> \n",
              "</tr>\n",
              "<tr>\n",
              "  <th>Time:</th>                 <td>16:22:32</td>     <th>  Log-Likelihood:    </th> <td>  1552.8</td>\n",
              "</tr>\n",
              "<tr>\n",
              "  <th>No. Observations:</th>      <td>   371</td>      <th>  AIC:               </th> <td>  -3096.</td>\n",
              "</tr>\n",
              "<tr>\n",
              "  <th>Df Residuals:</th>          <td>   366</td>      <th>  BIC:               </th> <td>  -3076.</td>\n",
              "</tr>\n",
              "<tr>\n",
              "  <th>Df Model:</th>              <td>     4</td>      <th>                     </th>     <td> </td>   \n",
              "</tr>\n",
              "<tr>\n",
              "  <th>Covariance Type:</th>      <td>nonrobust</td>    <th>                     </th>     <td> </td>   \n",
              "</tr>\n",
              "</table>\n",
              "<table class=\"simpletable\">\n",
              "<tr>\n",
              "      <td></td>        <th>coef</th>     <th>std err</th>      <th>t</th>      <th>P>|t|</th>  <th>[0.025</th>    <th>0.975]</th>  \n",
              "</tr>\n",
              "<tr>\n",
              "  <th>const</th>    <td>    0.0001</td> <td>    0.000</td> <td>    0.523</td> <td> 0.601</td> <td>   -0.000</td> <td>    0.001</td>\n",
              "</tr>\n",
              "<tr>\n",
              "  <th>TSMOM^CM</th> <td>    0.4154</td> <td>    0.005</td> <td>   88.447</td> <td> 0.000</td> <td>    0.406</td> <td>    0.425</td>\n",
              "</tr>\n",
              "<tr>\n",
              "  <th>TSMOM^EQ</th> <td>    0.1659</td> <td>    0.003</td> <td>   65.934</td> <td> 0.000</td> <td>    0.161</td> <td>    0.171</td>\n",
              "</tr>\n",
              "<tr>\n",
              "  <th>TSMOM^FI</th> <td>    0.1703</td> <td>    0.002</td> <td>   73.422</td> <td> 0.000</td> <td>    0.166</td> <td>    0.175</td>\n",
              "</tr>\n",
              "<tr>\n",
              "  <th>TSMOM^FX</th> <td>    0.2399</td> <td>    0.004</td> <td>   64.557</td> <td> 0.000</td> <td>    0.233</td> <td>    0.247</td>\n",
              "</tr>\n",
              "</table>\n",
              "<table class=\"simpletable\">\n",
              "<tr>\n",
              "  <th>Omnibus:</th>       <td>88.529</td> <th>  Durbin-Watson:     </th> <td>   1.874</td> \n",
              "</tr>\n",
              "<tr>\n",
              "  <th>Prob(Omnibus):</th> <td> 0.000</td> <th>  Jarque-Bera (JB):  </th> <td> 597.301</td> \n",
              "</tr>\n",
              "<tr>\n",
              "  <th>Skew:</th>          <td> 0.805</td> <th>  Prob(JB):          </th> <td>1.98e-130</td>\n",
              "</tr>\n",
              "<tr>\n",
              "  <th>Kurtosis:</th>      <td> 9.004</td> <th>  Cond. No.          </th> <td>    24.9</td> \n",
              "</tr>\n",
              "</table><br/><br/>Warnings:<br/>[1] Standard Errors assume that the covariance matrix of the errors is correctly specified."
            ],
            "text/plain": [
              "<class 'statsmodels.iolib.summary.Summary'>\n",
              "\"\"\"\n",
              "                            OLS Regression Results                            \n",
              "==============================================================================\n",
              "Dep. Variable:                  TSMOM   R-squared:                       0.989\n",
              "Model:                            OLS   Adj. R-squared:                  0.989\n",
              "Method:                 Least Squares   F-statistic:                     8408.\n",
              "Date:                Tue, 10 Nov 2020   Prob (F-statistic):               0.00\n",
              "Time:                        16:22:32   Log-Likelihood:                 1552.8\n",
              "No. Observations:                 371   AIC:                            -3096.\n",
              "Df Residuals:                     366   BIC:                            -3076.\n",
              "Df Model:                           4                                         \n",
              "Covariance Type:            nonrobust                                         \n",
              "==============================================================================\n",
              "                 coef    std err          t      P>|t|      [0.025      0.975]\n",
              "------------------------------------------------------------------------------\n",
              "const          0.0001      0.000      0.523      0.601      -0.000       0.001\n",
              "TSMOM^CM       0.4154      0.005     88.447      0.000       0.406       0.425\n",
              "TSMOM^EQ       0.1659      0.003     65.934      0.000       0.161       0.171\n",
              "TSMOM^FI       0.1703      0.002     73.422      0.000       0.166       0.175\n",
              "TSMOM^FX       0.2399      0.004     64.557      0.000       0.233       0.247\n",
              "==============================================================================\n",
              "Omnibus:                       88.529   Durbin-Watson:                   1.874\n",
              "Prob(Omnibus):                  0.000   Jarque-Bera (JB):              597.301\n",
              "Skew:                           0.805   Prob(JB):                    1.98e-130\n",
              "Kurtosis:                       9.004   Cond. No.                         24.9\n",
              "==============================================================================\n",
              "\n",
              "Warnings:\n",
              "[1] Standard Errors assume that the covariance matrix of the errors is correctly specified.\n",
              "\"\"\""
            ]
          },
          "metadata": {
            "tags": []
          },
          "execution_count": 57
        }
      ]
    },
    {
      "cell_type": "code",
      "metadata": {
        "id": "Uv9R7txyo6zl",
        "outputId": "815eedf6-2844-4fe1-ea68-7e4e72871562",
        "colab": {
          "base_uri": "https://localhost:8080/",
          "height": 507
        }
      },
      "source": [
        "x = sm.add_constant(MOM)\n",
        "mod2 = sm.OLS(list(TSMOM.iloc[:,0]), x).fit()\n",
        "mod2.summary()"
      ],
      "execution_count": null,
      "outputs": [
        {
          "output_type": "execute_result",
          "data": {
            "text/html": [
              "<table class=\"simpletable\">\n",
              "<caption>OLS Regression Results</caption>\n",
              "<tr>\n",
              "  <th>Dep. Variable:</th>            <td>y</td>        <th>  R-squared:         </th> <td>   0.477</td>\n",
              "</tr>\n",
              "<tr>\n",
              "  <th>Model:</th>                   <td>OLS</td>       <th>  Adj. R-squared:    </th> <td>   0.471</td>\n",
              "</tr>\n",
              "<tr>\n",
              "  <th>Method:</th>             <td>Least Squares</td>  <th>  F-statistic:       </th> <td>   83.35</td>\n",
              "</tr>\n",
              "<tr>\n",
              "  <th>Date:</th>             <td>Tue, 10 Nov 2020</td> <th>  Prob (F-statistic):</th> <td>3.02e-50</td>\n",
              "</tr>\n",
              "<tr>\n",
              "  <th>Time:</th>                 <td>16:22:32</td>     <th>  Log-Likelihood:    </th> <td>  832.34</td>\n",
              "</tr>\n",
              "<tr>\n",
              "  <th>No. Observations:</th>      <td>   371</td>      <th>  AIC:               </th> <td>  -1655.</td>\n",
              "</tr>\n",
              "<tr>\n",
              "  <th>Df Residuals:</th>          <td>   366</td>      <th>  BIC:               </th> <td>  -1635.</td>\n",
              "</tr>\n",
              "<tr>\n",
              "  <th>Df Model:</th>              <td>     4</td>      <th>                     </th>     <td> </td>   \n",
              "</tr>\n",
              "<tr>\n",
              "  <th>Covariance Type:</th>      <td>nonrobust</td>    <th>                     </th>     <td> </td>   \n",
              "</tr>\n",
              "</table>\n",
              "<table class=\"simpletable\">\n",
              "<tr>\n",
              "     <td></td>       <th>coef</th>     <th>std err</th>      <th>t</th>      <th>P>|t|</th>  <th>[0.025</th>    <th>0.975]</th>  \n",
              "</tr>\n",
              "<tr>\n",
              "  <th>const</th>  <td>    0.0090</td> <td>    0.001</td> <td>    6.613</td> <td> 0.000</td> <td>    0.006</td> <td>    0.012</td>\n",
              "</tr>\n",
              "<tr>\n",
              "  <th>MOM^EQ</th> <td>    0.2727</td> <td>    0.044</td> <td>    6.200</td> <td> 0.000</td> <td>    0.186</td> <td>    0.359</td>\n",
              "</tr>\n",
              "<tr>\n",
              "  <th>MOM^FX</th> <td>    0.5002</td> <td>    0.052</td> <td>    9.528</td> <td> 0.000</td> <td>    0.397</td> <td>    0.603</td>\n",
              "</tr>\n",
              "<tr>\n",
              "  <th>MOM^FI</th> <td>    0.5093</td> <td>    0.107</td> <td>    4.773</td> <td> 0.000</td> <td>    0.299</td> <td>    0.719</td>\n",
              "</tr>\n",
              "<tr>\n",
              "  <th>MOM^CM</th> <td>    0.2261</td> <td>    0.025</td> <td>    9.016</td> <td> 0.000</td> <td>    0.177</td> <td>    0.275</td>\n",
              "</tr>\n",
              "</table>\n",
              "<table class=\"simpletable\">\n",
              "<tr>\n",
              "  <th>Omnibus:</th>       <td>29.161</td> <th>  Durbin-Watson:     </th> <td>   1.972</td>\n",
              "</tr>\n",
              "<tr>\n",
              "  <th>Prob(Omnibus):</th> <td> 0.000</td> <th>  Jarque-Bera (JB):  </th> <td>  48.202</td>\n",
              "</tr>\n",
              "<tr>\n",
              "  <th>Skew:</th>          <td> 0.511</td> <th>  Prob(JB):          </th> <td>3.41e-11</td>\n",
              "</tr>\n",
              "<tr>\n",
              "  <th>Kurtosis:</th>      <td> 4.440</td> <th>  Cond. No.          </th> <td>    79.8</td>\n",
              "</tr>\n",
              "</table><br/><br/>Warnings:<br/>[1] Standard Errors assume that the covariance matrix of the errors is correctly specified."
            ],
            "text/plain": [
              "<class 'statsmodels.iolib.summary.Summary'>\n",
              "\"\"\"\n",
              "                            OLS Regression Results                            \n",
              "==============================================================================\n",
              "Dep. Variable:                      y   R-squared:                       0.477\n",
              "Model:                            OLS   Adj. R-squared:                  0.471\n",
              "Method:                 Least Squares   F-statistic:                     83.35\n",
              "Date:                Tue, 10 Nov 2020   Prob (F-statistic):           3.02e-50\n",
              "Time:                        16:22:32   Log-Likelihood:                 832.34\n",
              "No. Observations:                 371   AIC:                            -1655.\n",
              "Df Residuals:                     366   BIC:                            -1635.\n",
              "Df Model:                           4                                         \n",
              "Covariance Type:            nonrobust                                         \n",
              "==============================================================================\n",
              "                 coef    std err          t      P>|t|      [0.025      0.975]\n",
              "------------------------------------------------------------------------------\n",
              "const          0.0090      0.001      6.613      0.000       0.006       0.012\n",
              "MOM^EQ         0.2727      0.044      6.200      0.000       0.186       0.359\n",
              "MOM^FX         0.5002      0.052      9.528      0.000       0.397       0.603\n",
              "MOM^FI         0.5093      0.107      4.773      0.000       0.299       0.719\n",
              "MOM^CM         0.2261      0.025      9.016      0.000       0.177       0.275\n",
              "==============================================================================\n",
              "Omnibus:                       29.161   Durbin-Watson:                   1.972\n",
              "Prob(Omnibus):                  0.000   Jarque-Bera (JB):               48.202\n",
              "Skew:                           0.511   Prob(JB):                     3.41e-11\n",
              "Kurtosis:                       4.440   Cond. No.                         79.8\n",
              "==============================================================================\n",
              "\n",
              "Warnings:\n",
              "[1] Standard Errors assume that the covariance matrix of the errors is correctly specified.\n",
              "\"\"\""
            ]
          },
          "metadata": {
            "tags": []
          },
          "execution_count": 58
        }
      ]
    },
    {
      "cell_type": "markdown",
      "metadata": {
        "id": "HO0PX3NMo3yr"
      },
      "source": [
        "We first computed the Pearson correlation between TSMOM and MOM. The correlation is from 0.4 - 0.7.\n",
        "\n",
        "Then use the $R^2$ from the linear model $$\\text{TSMOM} = \\beta0 + \\beta1 \\cdot \\text{TSMOM^EQ} + \\beta2 \\cdot \\text{TSMOM^FX} + \\beta3 \\cdot \\text{TSMOM^FI} + \\beta4 \\cdot \\text{TSMOM^CM}$$ as baseline, compute the $R^2$ from $$\\text{TSMOM} =  \\beta0 + \\beta1 \\cdot \\text{MOM^EQ} + \\beta2 \\cdot \\text{MOM^FX} + \\beta3 \\cdot \\text{MOM^FI} + \\beta4 \\cdot \\text{MOM^CM}$$. The baseline $R^2$ is 0.989, while the $R^2$ using MOM variables to fit TSMOM is 0.477. We conclude that MOM can't capture TSMOM. "
      ]
    },
    {
      "cell_type": "markdown",
      "metadata": {
        "id": "oBs5d9gkbtYC"
      },
      "source": [
        "# Part 3:  Hedge funds\n",
        "The hedge fund indices are long only portfolios so you will need to subtract off a riskless interest rate. Just use the U.S. T-bill rate which has been provided for you in the last column of this spreadsheet."
      ]
    },
    {
      "cell_type": "markdown",
      "metadata": {
        "id": "aXypfdZVbu6z"
      },
      "source": [
        "## n)\tUsing the hedge fund portfolios run time series regressions for each portfolio and compute the GRS F-test for the joint significance of the alphas using the following factor models:\n",
        "\n",
        "\n",
        "Report the individual alphas and R-squares from each regression as well.\n",
        "\n",
        "Which model performs the best at pricing the hedge fund portfolios and why?  (Take into account both the alphas and the R-squares when making this assessment)\n",
        "What factors do the various hedge fund strategies load on?  Do these make sense? Is there anything surprising?\n",
        "What does the loading on the lagged market return tell you?\n",
        "\n"
      ]
    },
    {
      "cell_type": "markdown",
      "metadata": {
        "id": "bYbIK44eL3bT"
      },
      "source": [
        "### Model 1) CAPM using RMRF as single factor\n"
      ]
    },
    {
      "cell_type": "code",
      "metadata": {
        "id": "g9ZRAyE4MQ-O",
        "outputId": "0a53ba4b-d0d4-42e1-8c01-02fc48d8ce9d",
        "colab": {
          "base_uri": "https://localhost:8080/",
          "height": 478
        }
      },
      "source": [
        "dt_n = HRFI.iloc[0:311,:]\n",
        "dt_n.index = FF.iloc[762:,:]['RF'].index\n",
        "\n",
        "dt_n['RF'] = FF.iloc[762:,:]['RF']\n",
        "\n",
        "y = pd.DataFrame()\n",
        "for col in dt_n.columns[0:10]:\n",
        "  y[col] =  dt_n[col] - dt_n['RF'] *0.001\n",
        "\n",
        "x = sm.add_constant(FF.iloc[762:,:]['Mkt-RF'])\n",
        "\n",
        "y.index = x.index\n",
        "GRS_test(x,y)"
      ],
      "execution_count": null,
      "outputs": [
        {
          "output_type": "stream",
          "text": [
            "F statistic:  21.54411565506102 p value:  3.9346649851050664e-30\n"
          ],
          "name": "stdout"
        },
        {
          "output_type": "stream",
          "text": [
            "/usr/local/lib/python3.6/dist-packages/ipykernel_launcher.py:4: SettingWithCopyWarning: \n",
            "A value is trying to be set on a copy of a slice from a DataFrame.\n",
            "Try using .loc[row_indexer,col_indexer] = value instead\n",
            "\n",
            "See the caveats in the documentation: https://pandas.pydata.org/pandas-docs/stable/user_guide/indexing.html#returning-a-view-versus-a-copy\n",
            "  after removing the cwd from sys.path.\n"
          ],
          "name": "stderr"
        },
        {
          "output_type": "execute_result",
          "data": {
            "text/html": [
              "<div>\n",
              "<style scoped>\n",
              "    .dataframe tbody tr th:only-of-type {\n",
              "        vertical-align: middle;\n",
              "    }\n",
              "\n",
              "    .dataframe tbody tr th {\n",
              "        vertical-align: top;\n",
              "    }\n",
              "\n",
              "    .dataframe thead th {\n",
              "        text-align: right;\n",
              "    }\n",
              "</style>\n",
              "<table border=\"1\" class=\"dataframe\">\n",
              "  <thead>\n",
              "    <tr style=\"text-align: right;\">\n",
              "      <th></th>\n",
              "      <th>portfolios</th>\n",
              "      <th>alpha</th>\n",
              "      <th>beta</th>\n",
              "      <th>r-square</th>\n",
              "    </tr>\n",
              "  </thead>\n",
              "  <tbody>\n",
              "    <tr>\n",
              "      <th>0</th>\n",
              "      <td>Convert Arb</td>\n",
              "      <td>0.005220</td>\n",
              "      <td>0.002013</td>\n",
              "      <td>0.227519</td>\n",
              "    </tr>\n",
              "    <tr>\n",
              "      <th>1</th>\n",
              "      <td>Ded Short Bias</td>\n",
              "      <td>0.005540</td>\n",
              "      <td>-0.009374</td>\n",
              "      <td>0.628585</td>\n",
              "    </tr>\n",
              "    <tr>\n",
              "      <th>2</th>\n",
              "      <td>Emerging Markets</td>\n",
              "      <td>0.005602</td>\n",
              "      <td>0.005988</td>\n",
              "      <td>0.429862</td>\n",
              "    </tr>\n",
              "    <tr>\n",
              "      <th>3</th>\n",
              "      <td>Eq Mkt Neutral</td>\n",
              "      <td>0.004761</td>\n",
              "      <td>0.000559</td>\n",
              "      <td>0.073389</td>\n",
              "    </tr>\n",
              "    <tr>\n",
              "      <th>4</th>\n",
              "      <td>Event Driven</td>\n",
              "      <td>0.006387</td>\n",
              "      <td>0.003277</td>\n",
              "      <td>0.546940</td>\n",
              "    </tr>\n",
              "    <tr>\n",
              "      <th>5</th>\n",
              "      <td>FI Rel Val</td>\n",
              "      <td>0.006537</td>\n",
              "      <td>0.001480</td>\n",
              "      <td>0.273078</td>\n",
              "    </tr>\n",
              "    <tr>\n",
              "      <th>6</th>\n",
              "      <td>Fund Returns</td>\n",
              "      <td>0.005908</td>\n",
              "      <td>0.003544</td>\n",
              "      <td>0.624864</td>\n",
              "    </tr>\n",
              "    <tr>\n",
              "      <th>7</th>\n",
              "      <td>Global Macro</td>\n",
              "      <td>0.007616</td>\n",
              "      <td>0.001692</td>\n",
              "      <td>0.121649</td>\n",
              "    </tr>\n",
              "    <tr>\n",
              "      <th>8</th>\n",
              "      <td>L/S Equity</td>\n",
              "      <td>0.006572</td>\n",
              "      <td>0.004650</td>\n",
              "      <td>0.616295</td>\n",
              "    </tr>\n",
              "    <tr>\n",
              "      <th>9</th>\n",
              "      <td>Managed Futures</td>\n",
              "      <td>0.006739</td>\n",
              "      <td>0.002001</td>\n",
              "      <td>0.166139</td>\n",
              "    </tr>\n",
              "  </tbody>\n",
              "</table>\n",
              "</div>"
            ],
            "text/plain": [
              "         portfolios     alpha      beta  r-square\n",
              "0       Convert Arb  0.005220  0.002013  0.227519\n",
              "1    Ded Short Bias  0.005540 -0.009374  0.628585\n",
              "2  Emerging Markets  0.005602  0.005988  0.429862\n",
              "3    Eq Mkt Neutral  0.004761  0.000559  0.073389\n",
              "4      Event Driven  0.006387  0.003277  0.546940\n",
              "5        FI Rel Val  0.006537  0.001480  0.273078\n",
              "6      Fund Returns  0.005908  0.003544  0.624864\n",
              "7      Global Macro  0.007616  0.001692  0.121649\n",
              "8        L/S Equity  0.006572  0.004650  0.616295\n",
              "9   Managed Futures  0.006739  0.002001  0.166139"
            ]
          },
          "metadata": {
            "tags": []
          },
          "execution_count": 59
        }
      ]
    },
    {
      "cell_type": "markdown",
      "metadata": {
        "id": "HTbpqGQLL5bP"
      },
      "source": [
        "\n",
        "### Model 2) CAPM using RMRF and RMRF(lagged a month) \n",
        "\n"
      ]
    },
    {
      "cell_type": "code",
      "metadata": {
        "id": "xOuMhgyuYCdB",
        "outputId": "4dfc2c80-d406-4587-cf8e-12ef2255333a",
        "colab": {
          "base_uri": "https://localhost:8080/",
          "height": 376
        }
      },
      "source": [
        "x['lagged_Mkt-RF'] = x['Mkt-RF'].shift(1)\n",
        "x.iloc[0,2] = 1.16\n",
        "GRS_test(x,y)"
      ],
      "execution_count": null,
      "outputs": [
        {
          "output_type": "stream",
          "text": [
            "F statistic:  21.084070380884985 p value:  1.436748983721321e-29\n"
          ],
          "name": "stdout"
        },
        {
          "output_type": "execute_result",
          "data": {
            "text/html": [
              "<div>\n",
              "<style scoped>\n",
              "    .dataframe tbody tr th:only-of-type {\n",
              "        vertical-align: middle;\n",
              "    }\n",
              "\n",
              "    .dataframe tbody tr th {\n",
              "        vertical-align: top;\n",
              "    }\n",
              "\n",
              "    .dataframe thead th {\n",
              "        text-align: right;\n",
              "    }\n",
              "</style>\n",
              "<table border=\"1\" class=\"dataframe\">\n",
              "  <thead>\n",
              "    <tr style=\"text-align: right;\">\n",
              "      <th></th>\n",
              "      <th>portfolios</th>\n",
              "      <th>alpha</th>\n",
              "      <th>beta</th>\n",
              "      <th>r-square</th>\n",
              "    </tr>\n",
              "  </thead>\n",
              "  <tbody>\n",
              "    <tr>\n",
              "      <th>0</th>\n",
              "      <td>Convert Arb</td>\n",
              "      <td>0.004656</td>\n",
              "      <td>0.001942</td>\n",
              "      <td>0.282063</td>\n",
              "    </tr>\n",
              "    <tr>\n",
              "      <th>1</th>\n",
              "      <td>Ded Short Bias</td>\n",
              "      <td>0.005652</td>\n",
              "      <td>-0.009360</td>\n",
              "      <td>0.628858</td>\n",
              "    </tr>\n",
              "    <tr>\n",
              "      <th>2</th>\n",
              "      <td>Emerging Markets</td>\n",
              "      <td>0.004887</td>\n",
              "      <td>0.005898</td>\n",
              "      <td>0.448541</td>\n",
              "    </tr>\n",
              "    <tr>\n",
              "      <th>3</th>\n",
              "      <td>Eq Mkt Neutral</td>\n",
              "      <td>0.004722</td>\n",
              "      <td>0.000554</td>\n",
              "      <td>0.074513</td>\n",
              "    </tr>\n",
              "    <tr>\n",
              "      <th>4</th>\n",
              "      <td>Event Driven</td>\n",
              "      <td>0.005752</td>\n",
              "      <td>0.003197</td>\n",
              "      <td>0.609559</td>\n",
              "    </tr>\n",
              "    <tr>\n",
              "      <th>5</th>\n",
              "      <td>FI Rel Val</td>\n",
              "      <td>0.006132</td>\n",
              "      <td>0.001428</td>\n",
              "      <td>0.335699</td>\n",
              "    </tr>\n",
              "    <tr>\n",
              "      <th>6</th>\n",
              "      <td>Fund Returns</td>\n",
              "      <td>0.005477</td>\n",
              "      <td>0.003490</td>\n",
              "      <td>0.653013</td>\n",
              "    </tr>\n",
              "    <tr>\n",
              "      <th>7</th>\n",
              "      <td>Global Macro</td>\n",
              "      <td>0.007474</td>\n",
              "      <td>0.001674</td>\n",
              "      <td>0.124276</td>\n",
              "    </tr>\n",
              "    <tr>\n",
              "      <th>8</th>\n",
              "      <td>L/S Equity</td>\n",
              "      <td>0.006173</td>\n",
              "      <td>0.004600</td>\n",
              "      <td>0.630117</td>\n",
              "    </tr>\n",
              "    <tr>\n",
              "      <th>9</th>\n",
              "      <td>Managed Futures</td>\n",
              "      <td>0.006743</td>\n",
              "      <td>0.002001</td>\n",
              "      <td>0.166141</td>\n",
              "    </tr>\n",
              "  </tbody>\n",
              "</table>\n",
              "</div>"
            ],
            "text/plain": [
              "         portfolios     alpha      beta  r-square\n",
              "0       Convert Arb  0.004656  0.001942  0.282063\n",
              "1    Ded Short Bias  0.005652 -0.009360  0.628858\n",
              "2  Emerging Markets  0.004887  0.005898  0.448541\n",
              "3    Eq Mkt Neutral  0.004722  0.000554  0.074513\n",
              "4      Event Driven  0.005752  0.003197  0.609559\n",
              "5        FI Rel Val  0.006132  0.001428  0.335699\n",
              "6      Fund Returns  0.005477  0.003490  0.653013\n",
              "7      Global Macro  0.007474  0.001674  0.124276\n",
              "8        L/S Equity  0.006173  0.004600  0.630117\n",
              "9   Managed Futures  0.006743  0.002001  0.166141"
            ]
          },
          "metadata": {
            "tags": []
          },
          "execution_count": 60
        }
      ]
    },
    {
      "cell_type": "markdown",
      "metadata": {
        "id": "Jl2JgnmTL_aK"
      },
      "source": [
        "### Model 3) Fama-French 4-factor model:  RMRF, RMRF(lag), SMB, HML, UMD\n"
      ]
    },
    {
      "cell_type": "code",
      "metadata": {
        "id": "ZLG1WLT5NjuT",
        "outputId": "027d2cf3-15f7-4848-83c5-b8188d9e60d0",
        "colab": {
          "base_uri": "https://localhost:8080/",
          "height": 376
        }
      },
      "source": [
        "x['SBM'] = FF.iloc[762:,:]['SMB']\n",
        "x['HML'] = FF.iloc[762:,:]['HML']\n",
        "x['UMD'] = FF.iloc[762:,:]['UMD']\n",
        "GRS_test(x,y)"
      ],
      "execution_count": null,
      "outputs": [
        {
          "output_type": "stream",
          "text": [
            "F statistic:  19.838713022224695 p value:  5.0505655773976685e-28\n"
          ],
          "name": "stdout"
        },
        {
          "output_type": "execute_result",
          "data": {
            "text/html": [
              "<div>\n",
              "<style scoped>\n",
              "    .dataframe tbody tr th:only-of-type {\n",
              "        vertical-align: middle;\n",
              "    }\n",
              "\n",
              "    .dataframe tbody tr th {\n",
              "        vertical-align: top;\n",
              "    }\n",
              "\n",
              "    .dataframe thead th {\n",
              "        text-align: right;\n",
              "    }\n",
              "</style>\n",
              "<table border=\"1\" class=\"dataframe\">\n",
              "  <thead>\n",
              "    <tr style=\"text-align: right;\">\n",
              "      <th></th>\n",
              "      <th>portfolios</th>\n",
              "      <th>alpha</th>\n",
              "      <th>beta</th>\n",
              "      <th>r-square</th>\n",
              "    </tr>\n",
              "  </thead>\n",
              "  <tbody>\n",
              "    <tr>\n",
              "      <th>0</th>\n",
              "      <td>Convert Arb</td>\n",
              "      <td>0.004798</td>\n",
              "      <td>0.001890</td>\n",
              "      <td>0.297749</td>\n",
              "    </tr>\n",
              "    <tr>\n",
              "      <th>1</th>\n",
              "      <td>Ded Short Bias</td>\n",
              "      <td>0.004998</td>\n",
              "      <td>-0.007947</td>\n",
              "      <td>0.793222</td>\n",
              "    </tr>\n",
              "    <tr>\n",
              "      <th>2</th>\n",
              "      <td>Emerging Markets</td>\n",
              "      <td>0.004479</td>\n",
              "      <td>0.005787</td>\n",
              "      <td>0.466955</td>\n",
              "    </tr>\n",
              "    <tr>\n",
              "      <th>3</th>\n",
              "      <td>Eq Mkt Neutral</td>\n",
              "      <td>0.003789</td>\n",
              "      <td>0.000904</td>\n",
              "      <td>0.321332</td>\n",
              "    </tr>\n",
              "    <tr>\n",
              "      <th>4</th>\n",
              "      <td>Event Driven</td>\n",
              "      <td>0.005452</td>\n",
              "      <td>0.003116</td>\n",
              "      <td>0.668836</td>\n",
              "    </tr>\n",
              "    <tr>\n",
              "      <th>5</th>\n",
              "      <td>FI Rel Val</td>\n",
              "      <td>0.006033</td>\n",
              "      <td>0.001436</td>\n",
              "      <td>0.363582</td>\n",
              "    </tr>\n",
              "    <tr>\n",
              "      <th>6</th>\n",
              "      <td>Fund Returns</td>\n",
              "      <td>0.005149</td>\n",
              "      <td>0.003326</td>\n",
              "      <td>0.731939</td>\n",
              "    </tr>\n",
              "    <tr>\n",
              "      <th>7</th>\n",
              "      <td>Global Macro</td>\n",
              "      <td>0.006560</td>\n",
              "      <td>0.001863</td>\n",
              "      <td>0.202565</td>\n",
              "    </tr>\n",
              "    <tr>\n",
              "      <th>8</th>\n",
              "      <td>L/S Equity</td>\n",
              "      <td>0.005586</td>\n",
              "      <td>0.004424</td>\n",
              "      <td>0.723054</td>\n",
              "    </tr>\n",
              "    <tr>\n",
              "      <th>9</th>\n",
              "      <td>Managed Futures</td>\n",
              "      <td>0.006412</td>\n",
              "      <td>0.001953</td>\n",
              "      <td>0.258266</td>\n",
              "    </tr>\n",
              "  </tbody>\n",
              "</table>\n",
              "</div>"
            ],
            "text/plain": [
              "         portfolios     alpha      beta  r-square\n",
              "0       Convert Arb  0.004798  0.001890  0.297749\n",
              "1    Ded Short Bias  0.004998 -0.007947  0.793222\n",
              "2  Emerging Markets  0.004479  0.005787  0.466955\n",
              "3    Eq Mkt Neutral  0.003789  0.000904  0.321332\n",
              "4      Event Driven  0.005452  0.003116  0.668836\n",
              "5        FI Rel Val  0.006033  0.001436  0.363582\n",
              "6      Fund Returns  0.005149  0.003326  0.731939\n",
              "7      Global Macro  0.006560  0.001863  0.202565\n",
              "8        L/S Equity  0.005586  0.004424  0.723054\n",
              "9   Managed Futures  0.006412  0.001953  0.258266"
            ]
          },
          "metadata": {
            "tags": []
          },
          "execution_count": 61
        }
      ]
    },
    {
      "cell_type": "markdown",
      "metadata": {
        "id": "Q19w290lMAwt"
      },
      "source": [
        "\n",
        "### Model 4) Asness-Moskowitz-Pedersen 3-factor model:  RMRF, RMRF(lag), VALeverywhere, MOMeverywhere\n"
      ]
    },
    {
      "cell_type": "code",
      "metadata": {
        "id": "wD1jgv49ONgJ",
        "outputId": "a92f7777-3a7c-4532-d000-88834c867a86",
        "colab": {
          "base_uri": "https://localhost:8080/",
          "height": 376
        }
      },
      "source": [
        "del x['SBM'], x['HML'], x['UMD']\n",
        "mom = pd.DataFrame(MOM_everywhere)\n",
        "val = pd.DataFrame(VAL_everywhere)\n",
        "x['MOM_everwhere'] = mom.iloc[216:,:]\n",
        "x['VAL_everywhere'] = val.iloc[216:,:]\n",
        "GRS_test(x,y)"
      ],
      "execution_count": null,
      "outputs": [
        {
          "output_type": "stream",
          "text": [
            "F statistic:  17.09487100967918 p value:  1.7177268173777632e-24\n"
          ],
          "name": "stdout"
        },
        {
          "output_type": "execute_result",
          "data": {
            "text/html": [
              "<div>\n",
              "<style scoped>\n",
              "    .dataframe tbody tr th:only-of-type {\n",
              "        vertical-align: middle;\n",
              "    }\n",
              "\n",
              "    .dataframe tbody tr th {\n",
              "        vertical-align: top;\n",
              "    }\n",
              "\n",
              "    .dataframe thead th {\n",
              "        text-align: right;\n",
              "    }\n",
              "</style>\n",
              "<table border=\"1\" class=\"dataframe\">\n",
              "  <thead>\n",
              "    <tr style=\"text-align: right;\">\n",
              "      <th></th>\n",
              "      <th>portfolios</th>\n",
              "      <th>alpha</th>\n",
              "      <th>beta</th>\n",
              "      <th>r-square</th>\n",
              "    </tr>\n",
              "  </thead>\n",
              "  <tbody>\n",
              "    <tr>\n",
              "      <th>0</th>\n",
              "      <td>Convert Arb</td>\n",
              "      <td>0.003994</td>\n",
              "      <td>0.002026</td>\n",
              "      <td>0.293960</td>\n",
              "    </tr>\n",
              "    <tr>\n",
              "      <th>1</th>\n",
              "      <td>Ded Short Bias</td>\n",
              "      <td>0.002533</td>\n",
              "      <td>-0.009023</td>\n",
              "      <td>0.685000</td>\n",
              "    </tr>\n",
              "    <tr>\n",
              "      <th>2</th>\n",
              "      <td>Emerging Markets</td>\n",
              "      <td>0.003358</td>\n",
              "      <td>0.006152</td>\n",
              "      <td>0.457533</td>\n",
              "    </tr>\n",
              "    <tr>\n",
              "      <th>3</th>\n",
              "      <td>Eq Mkt Neutral</td>\n",
              "      <td>0.003466</td>\n",
              "      <td>0.000777</td>\n",
              "      <td>0.227471</td>\n",
              "    </tr>\n",
              "    <tr>\n",
              "      <th>4</th>\n",
              "      <td>Event Driven</td>\n",
              "      <td>0.004726</td>\n",
              "      <td>0.003356</td>\n",
              "      <td>0.625544</td>\n",
              "    </tr>\n",
              "    <tr>\n",
              "      <th>5</th>\n",
              "      <td>FI Rel Val</td>\n",
              "      <td>0.005285</td>\n",
              "      <td>0.001548</td>\n",
              "      <td>0.366837</td>\n",
              "    </tr>\n",
              "    <tr>\n",
              "      <th>6</th>\n",
              "      <td>Fund Returns</td>\n",
              "      <td>0.004858</td>\n",
              "      <td>0.003630</td>\n",
              "      <td>0.680078</td>\n",
              "    </tr>\n",
              "    <tr>\n",
              "      <th>7</th>\n",
              "      <td>Global Macro</td>\n",
              "      <td>0.006019</td>\n",
              "      <td>0.001978</td>\n",
              "      <td>0.208381</td>\n",
              "    </tr>\n",
              "    <tr>\n",
              "      <th>8</th>\n",
              "      <td>L/S Equity</td>\n",
              "      <td>0.005525</td>\n",
              "      <td>0.004763</td>\n",
              "      <td>0.658430</td>\n",
              "    </tr>\n",
              "    <tr>\n",
              "      <th>9</th>\n",
              "      <td>Managed Futures</td>\n",
              "      <td>0.006980</td>\n",
              "      <td>0.002056</td>\n",
              "      <td>0.244773</td>\n",
              "    </tr>\n",
              "  </tbody>\n",
              "</table>\n",
              "</div>"
            ],
            "text/plain": [
              "         portfolios     alpha      beta  r-square\n",
              "0       Convert Arb  0.003994  0.002026  0.293960\n",
              "1    Ded Short Bias  0.002533 -0.009023  0.685000\n",
              "2  Emerging Markets  0.003358  0.006152  0.457533\n",
              "3    Eq Mkt Neutral  0.003466  0.000777  0.227471\n",
              "4      Event Driven  0.004726  0.003356  0.625544\n",
              "5        FI Rel Val  0.005285  0.001548  0.366837\n",
              "6      Fund Returns  0.004858  0.003630  0.680078\n",
              "7      Global Macro  0.006019  0.001978  0.208381\n",
              "8        L/S Equity  0.005525  0.004763  0.658430\n",
              "9   Managed Futures  0.006980  0.002056  0.244773"
            ]
          },
          "metadata": {
            "tags": []
          },
          "execution_count": 62
        }
      ]
    },
    {
      "cell_type": "markdown",
      "metadata": {
        "id": "tR5HYtMcMCDG"
      },
      "source": [
        "\n",
        "### Model 5) Asness-Moskowitz-Pedersen 3-factor model + TSMOM \n"
      ]
    },
    {
      "cell_type": "code",
      "metadata": {
        "id": "xeP1Xdzwbrj-",
        "outputId": "e4035621-76f0-4070-9a30-a8b556999a9e",
        "colab": {
          "base_uri": "https://localhost:8080/",
          "height": 376
        }
      },
      "source": [
        "temp_tsmom = TSMOM.iloc[60:,:]\n",
        "temp_tsmom.index = x.index\n",
        "x['TSMOM'] = temp_tsmom['TSMOM']\n",
        "GRS_test(x,y)"
      ],
      "execution_count": null,
      "outputs": [
        {
          "output_type": "stream",
          "text": [
            "F statistic:  15.702290418578041 p value:  1.2492944489489963e-22\n"
          ],
          "name": "stdout"
        },
        {
          "output_type": "execute_result",
          "data": {
            "text/html": [
              "<div>\n",
              "<style scoped>\n",
              "    .dataframe tbody tr th:only-of-type {\n",
              "        vertical-align: middle;\n",
              "    }\n",
              "\n",
              "    .dataframe tbody tr th {\n",
              "        vertical-align: top;\n",
              "    }\n",
              "\n",
              "    .dataframe thead th {\n",
              "        text-align: right;\n",
              "    }\n",
              "</style>\n",
              "<table border=\"1\" class=\"dataframe\">\n",
              "  <thead>\n",
              "    <tr style=\"text-align: right;\">\n",
              "      <th></th>\n",
              "      <th>portfolios</th>\n",
              "      <th>alpha</th>\n",
              "      <th>beta</th>\n",
              "      <th>r-square</th>\n",
              "    </tr>\n",
              "  </thead>\n",
              "  <tbody>\n",
              "    <tr>\n",
              "      <th>0</th>\n",
              "      <td>Convert Arb</td>\n",
              "      <td>0.004009</td>\n",
              "      <td>0.002027</td>\n",
              "      <td>0.293971</td>\n",
              "    </tr>\n",
              "    <tr>\n",
              "      <th>1</th>\n",
              "      <td>Ded Short Bias</td>\n",
              "      <td>0.002373</td>\n",
              "      <td>-0.009032</td>\n",
              "      <td>0.685150</td>\n",
              "    </tr>\n",
              "    <tr>\n",
              "      <th>2</th>\n",
              "      <td>Emerging Markets</td>\n",
              "      <td>0.003971</td>\n",
              "      <td>0.006186</td>\n",
              "      <td>0.461249</td>\n",
              "    </tr>\n",
              "    <tr>\n",
              "      <th>3</th>\n",
              "      <td>Eq Mkt Neutral</td>\n",
              "      <td>0.003483</td>\n",
              "      <td>0.000778</td>\n",
              "      <td>0.227529</td>\n",
              "    </tr>\n",
              "    <tr>\n",
              "      <th>4</th>\n",
              "      <td>Event Driven</td>\n",
              "      <td>0.004867</td>\n",
              "      <td>0.003364</td>\n",
              "      <td>0.626379</td>\n",
              "    </tr>\n",
              "    <tr>\n",
              "      <th>5</th>\n",
              "      <td>FI Rel Val</td>\n",
              "      <td>0.005484</td>\n",
              "      <td>0.001559</td>\n",
              "      <td>0.370888</td>\n",
              "    </tr>\n",
              "    <tr>\n",
              "      <th>6</th>\n",
              "      <td>Fund Returns</td>\n",
              "      <td>0.004747</td>\n",
              "      <td>0.003624</td>\n",
              "      <td>0.680586</td>\n",
              "    </tr>\n",
              "    <tr>\n",
              "      <th>7</th>\n",
              "      <td>Global Macro</td>\n",
              "      <td>0.004490</td>\n",
              "      <td>0.001892</td>\n",
              "      <td>0.290095</td>\n",
              "    </tr>\n",
              "    <tr>\n",
              "      <th>8</th>\n",
              "      <td>L/S Equity</td>\n",
              "      <td>0.005538</td>\n",
              "      <td>0.004764</td>\n",
              "      <td>0.658434</td>\n",
              "    </tr>\n",
              "    <tr>\n",
              "      <th>9</th>\n",
              "      <td>Managed Futures</td>\n",
              "      <td>0.004995</td>\n",
              "      <td>0.001945</td>\n",
              "      <td>0.379392</td>\n",
              "    </tr>\n",
              "  </tbody>\n",
              "</table>\n",
              "</div>"
            ],
            "text/plain": [
              "         portfolios     alpha      beta  r-square\n",
              "0       Convert Arb  0.004009  0.002027  0.293971\n",
              "1    Ded Short Bias  0.002373 -0.009032  0.685150\n",
              "2  Emerging Markets  0.003971  0.006186  0.461249\n",
              "3    Eq Mkt Neutral  0.003483  0.000778  0.227529\n",
              "4      Event Driven  0.004867  0.003364  0.626379\n",
              "5        FI Rel Val  0.005484  0.001559  0.370888\n",
              "6      Fund Returns  0.004747  0.003624  0.680586\n",
              "7      Global Macro  0.004490  0.001892  0.290095\n",
              "8        L/S Equity  0.005538  0.004764  0.658434\n",
              "9   Managed Futures  0.004995  0.001945  0.379392"
            ]
          },
          "metadata": {
            "tags": []
          },
          "execution_count": 63
        }
      ]
    },
    {
      "cell_type": "markdown",
      "metadata": {
        "id": "awefwuUrMDhV"
      },
      "source": [
        "\n",
        "### Model 6) Asness-Moskowitz-Pedersen 3-factor model + TSMOM +LTREV+STR\n"
      ]
    },
    {
      "cell_type": "code",
      "metadata": {
        "id": "8OL2vnmrPyk4",
        "outputId": "65997293-f510-4fab-ec53-dc3d052b6726",
        "colab": {
          "base_uri": "https://localhost:8080/",
          "height": 376
        }
      },
      "source": [
        "x['LTREV'] = FF.iloc[762:,:]['LTREV']\n",
        "x['STREV'] = FF.iloc[762:,:]['STREV']\n",
        "GRS_test(x,y)"
      ],
      "execution_count": null,
      "outputs": [
        {
          "output_type": "stream",
          "text": [
            "F statistic:  15.73141451308876 p value:  1.1408674288299388e-22\n"
          ],
          "name": "stdout"
        },
        {
          "output_type": "execute_result",
          "data": {
            "text/html": [
              "<div>\n",
              "<style scoped>\n",
              "    .dataframe tbody tr th:only-of-type {\n",
              "        vertical-align: middle;\n",
              "    }\n",
              "\n",
              "    .dataframe tbody tr th {\n",
              "        vertical-align: top;\n",
              "    }\n",
              "\n",
              "    .dataframe thead th {\n",
              "        text-align: right;\n",
              "    }\n",
              "</style>\n",
              "<table border=\"1\" class=\"dataframe\">\n",
              "  <thead>\n",
              "    <tr style=\"text-align: right;\">\n",
              "      <th></th>\n",
              "      <th>portfolios</th>\n",
              "      <th>alpha</th>\n",
              "      <th>beta</th>\n",
              "      <th>r-square</th>\n",
              "    </tr>\n",
              "  </thead>\n",
              "  <tbody>\n",
              "    <tr>\n",
              "      <th>0</th>\n",
              "      <td>Convert Arb</td>\n",
              "      <td>0.004021</td>\n",
              "      <td>0.001961</td>\n",
              "      <td>0.296336</td>\n",
              "    </tr>\n",
              "    <tr>\n",
              "      <th>1</th>\n",
              "      <td>Ded Short Bias</td>\n",
              "      <td>0.002450</td>\n",
              "      <td>-0.008836</td>\n",
              "      <td>0.700394</td>\n",
              "    </tr>\n",
              "    <tr>\n",
              "      <th>2</th>\n",
              "      <td>Emerging Markets</td>\n",
              "      <td>0.003943</td>\n",
              "      <td>0.006188</td>\n",
              "      <td>0.463316</td>\n",
              "    </tr>\n",
              "    <tr>\n",
              "      <th>3</th>\n",
              "      <td>Eq Mkt Neutral</td>\n",
              "      <td>0.003464</td>\n",
              "      <td>0.000870</td>\n",
              "      <td>0.249262</td>\n",
              "    </tr>\n",
              "    <tr>\n",
              "      <th>4</th>\n",
              "      <td>Event Driven</td>\n",
              "      <td>0.004852</td>\n",
              "      <td>0.003280</td>\n",
              "      <td>0.634280</td>\n",
              "    </tr>\n",
              "    <tr>\n",
              "      <th>5</th>\n",
              "      <td>FI Rel Val</td>\n",
              "      <td>0.005488</td>\n",
              "      <td>0.001510</td>\n",
              "      <td>0.373095</td>\n",
              "    </tr>\n",
              "    <tr>\n",
              "      <th>6</th>\n",
              "      <td>Fund Returns</td>\n",
              "      <td>0.004722</td>\n",
              "      <td>0.003644</td>\n",
              "      <td>0.686430</td>\n",
              "    </tr>\n",
              "    <tr>\n",
              "      <th>7</th>\n",
              "      <td>Global Macro</td>\n",
              "      <td>0.004452</td>\n",
              "      <td>0.002044</td>\n",
              "      <td>0.303590</td>\n",
              "    </tr>\n",
              "    <tr>\n",
              "      <th>8</th>\n",
              "      <td>L/S Equity</td>\n",
              "      <td>0.005483</td>\n",
              "      <td>0.004848</td>\n",
              "      <td>0.674068</td>\n",
              "    </tr>\n",
              "    <tr>\n",
              "      <th>9</th>\n",
              "      <td>Managed Futures</td>\n",
              "      <td>0.004966</td>\n",
              "      <td>0.002142</td>\n",
              "      <td>0.392989</td>\n",
              "    </tr>\n",
              "  </tbody>\n",
              "</table>\n",
              "</div>"
            ],
            "text/plain": [
              "         portfolios     alpha      beta  r-square\n",
              "0       Convert Arb  0.004021  0.001961  0.296336\n",
              "1    Ded Short Bias  0.002450 -0.008836  0.700394\n",
              "2  Emerging Markets  0.003943  0.006188  0.463316\n",
              "3    Eq Mkt Neutral  0.003464  0.000870  0.249262\n",
              "4      Event Driven  0.004852  0.003280  0.634280\n",
              "5        FI Rel Val  0.005488  0.001510  0.373095\n",
              "6      Fund Returns  0.004722  0.003644  0.686430\n",
              "7      Global Macro  0.004452  0.002044  0.303590\n",
              "8        L/S Equity  0.005483  0.004848  0.674068\n",
              "9   Managed Futures  0.004966  0.002142  0.392989"
            ]
          },
          "metadata": {
            "tags": []
          },
          "execution_count": 64
        }
      ]
    },
    {
      "cell_type": "markdown",
      "metadata": {
        "id": "Ex0Jx7bAMEwd"
      },
      "source": [
        "\n",
        "### Model 7) Asness-Moskowitz-Pedersen 3-factor model + TSMOM +LTREV+STR+BAB+Qual/Def+Carry"
      ]
    },
    {
      "cell_type": "code",
      "metadata": {
        "id": "zU12WGUJRJkm",
        "outputId": "a844eebd-9a15-4793-a8ac-dbdad02878ac",
        "colab": {
          "base_uri": "https://localhost:8080/",
          "height": 376
        }
      },
      "source": [
        "x['BAB'] = CBQ.iloc[762:,:]['BAB']\n",
        "x['Defensive/Quality'] = CBQ.iloc[762:,:]['Defensive/Quality']\n",
        "x['Carry'] = CBQ.iloc[762:,:]['Carry']\n",
        "GRS_test(x, y)"
      ],
      "execution_count": null,
      "outputs": [
        {
          "output_type": "stream",
          "text": [
            "F statistic:  19.35073180976351 p value:  2.082567691745896e-27\n"
          ],
          "name": "stdout"
        },
        {
          "output_type": "execute_result",
          "data": {
            "text/html": [
              "<div>\n",
              "<style scoped>\n",
              "    .dataframe tbody tr th:only-of-type {\n",
              "        vertical-align: middle;\n",
              "    }\n",
              "\n",
              "    .dataframe tbody tr th {\n",
              "        vertical-align: top;\n",
              "    }\n",
              "\n",
              "    .dataframe thead th {\n",
              "        text-align: right;\n",
              "    }\n",
              "</style>\n",
              "<table border=\"1\" class=\"dataframe\">\n",
              "  <thead>\n",
              "    <tr style=\"text-align: right;\">\n",
              "      <th></th>\n",
              "      <th>portfolios</th>\n",
              "      <th>alpha</th>\n",
              "      <th>beta</th>\n",
              "      <th>r-square</th>\n",
              "    </tr>\n",
              "  </thead>\n",
              "  <tbody>\n",
              "    <tr>\n",
              "      <th>0</th>\n",
              "      <td>Convert Arb</td>\n",
              "      <td>0.003435</td>\n",
              "      <td>0.002083</td>\n",
              "      <td>0.417224</td>\n",
              "    </tr>\n",
              "    <tr>\n",
              "      <th>1</th>\n",
              "      <td>Ded Short Bias</td>\n",
              "      <td>-0.000809</td>\n",
              "      <td>-0.009147</td>\n",
              "      <td>0.737635</td>\n",
              "    </tr>\n",
              "    <tr>\n",
              "      <th>2</th>\n",
              "      <td>Emerging Markets</td>\n",
              "      <td>0.002423</td>\n",
              "      <td>0.006030</td>\n",
              "      <td>0.485567</td>\n",
              "    </tr>\n",
              "    <tr>\n",
              "      <th>3</th>\n",
              "      <td>Eq Mkt Neutral</td>\n",
              "      <td>0.003672</td>\n",
              "      <td>0.000995</td>\n",
              "      <td>0.293110</td>\n",
              "    </tr>\n",
              "    <tr>\n",
              "      <th>4</th>\n",
              "      <td>Event Driven</td>\n",
              "      <td>0.004813</td>\n",
              "      <td>0.003405</td>\n",
              "      <td>0.676430</td>\n",
              "    </tr>\n",
              "    <tr>\n",
              "      <th>5</th>\n",
              "      <td>FI Rel Val</td>\n",
              "      <td>0.005329</td>\n",
              "      <td>0.001628</td>\n",
              "      <td>0.462208</td>\n",
              "    </tr>\n",
              "    <tr>\n",
              "      <th>6</th>\n",
              "      <td>Fund Returns</td>\n",
              "      <td>0.004903</td>\n",
              "      <td>0.003723</td>\n",
              "      <td>0.711590</td>\n",
              "    </tr>\n",
              "    <tr>\n",
              "      <th>7</th>\n",
              "      <td>Global Macro</td>\n",
              "      <td>0.004410</td>\n",
              "      <td>0.002151</td>\n",
              "      <td>0.316679</td>\n",
              "    </tr>\n",
              "    <tr>\n",
              "      <th>8</th>\n",
              "      <td>L/S Equity</td>\n",
              "      <td>0.006148</td>\n",
              "      <td>0.004971</td>\n",
              "      <td>0.698480</td>\n",
              "    </tr>\n",
              "    <tr>\n",
              "      <th>9</th>\n",
              "      <td>Managed Futures</td>\n",
              "      <td>0.005972</td>\n",
              "      <td>0.002257</td>\n",
              "      <td>0.410569</td>\n",
              "    </tr>\n",
              "  </tbody>\n",
              "</table>\n",
              "</div>"
            ],
            "text/plain": [
              "         portfolios     alpha      beta  r-square\n",
              "0       Convert Arb  0.003435  0.002083  0.417224\n",
              "1    Ded Short Bias -0.000809 -0.009147  0.737635\n",
              "2  Emerging Markets  0.002423  0.006030  0.485567\n",
              "3    Eq Mkt Neutral  0.003672  0.000995  0.293110\n",
              "4      Event Driven  0.004813  0.003405  0.676430\n",
              "5        FI Rel Val  0.005329  0.001628  0.462208\n",
              "6      Fund Returns  0.004903  0.003723  0.711590\n",
              "7      Global Macro  0.004410  0.002151  0.316679\n",
              "8        L/S Equity  0.006148  0.004971  0.698480\n",
              "9   Managed Futures  0.005972  0.002257  0.410569"
            ]
          },
          "metadata": {
            "tags": []
          },
          "execution_count": 65
        }
      ]
    },
    {
      "cell_type": "markdown",
      "metadata": {
        "id": "Fe2vdZ-T3oCX"
      },
      "source": [
        "Model 5 may be best at predicting returns, evidenced by its low GRS F-test statistic and relatively low p-value of 1.2. TSOM is a easily implementable factor that can capture hedge fund returns, as found in Fung and Hsieh (2001). Each factor contributes to the outcome variable. BAB+Qual/Def+Carry are good additions to the model and model 7 gives the largest R^2. However, we also need to consider the overfitting problem.  "
      ]
    },
    {
      "cell_type": "markdown",
      "metadata": {
        "id": "kjIJUI0sb0J4"
      },
      "source": [
        "# Part 4:  Putting it all together\n",
        "Using the following factors:  RMRF, SMB, VALeverywhere, MOMeverywhere, BAB, Qual/Defensive, Carry, STREV, LTREV\n",
        " \n",
        "\n",
        "\n",
        "\n"
      ]
    },
    {
      "cell_type": "markdown",
      "metadata": {
        "id": "EOzGrfURb6wI"
      },
      "source": [
        "## o)\tCalculate the in-sample tangency portfolio of all the factors and plot the efficient frontier of all the factors.  What is the Sharpe ratio of this tangency portfolio and what weights are placed on the factors?\n"
      ]
    },
    {
      "cell_type": "code",
      "metadata": {
        "id": "iBbu0mP74x9t",
        "outputId": "397d5beb-6270-4060-9e7a-65c7f67bd88b",
        "colab": {
          "base_uri": "https://localhost:8080/",
          "height": 474
        }
      },
      "source": [
        "All_Factors = FF[['Mkt-RF', 'SMB', 'STREV', 'LTREV']][546:]\n",
        "VAL_Factor.index = All_Factors.index\n",
        "MOM_Factor.index = All_Factors.index\n",
        "All_Factors = pd.concat([All_Factors, VAL_Factor, MOM_Factor, CBQ[546:]], axis = 1)\n",
        "\n",
        "R_all = All_Factors.mean()\n",
        "V_all = All_Factors.cov()\n",
        "V_all_inv = np.linalg.inv(V_all)\n",
        "ones = np.transpose([1]*len(All_Factors.columns.tolist()))\n",
        "onesT = np.transpose(ones)\n",
        "# Tangency Portfolio\n",
        "num = V_all_inv @ R_all\n",
        "denom = onesT @ V_all_inv @ R_all\n",
        "weight_all_tang = num / denom\n",
        "Tan_all = All_Factors @ weight_all_tang\n",
        "Tan_all_SD = Tan_all.std()\n",
        "Tan_all_Mean = Tan_all.mean()\n",
        "# MVP\n",
        "num = V_all_inv @ ones\n",
        "denom = onesT @ V_all_inv @ ones\n",
        "weight_all_MVP = num / denom\n",
        "MVP_all = All_Factors @ weight_all_MVP\n",
        "MVP_all_SD = MVP_all.std()\n",
        "MVP_all_Mean = MVP_all.mean()\n",
        "\n",
        "df = pd.DataFrame({'x':[MVP_all_SD*100, Tan_all_SD*100, Tan_all_SD*100], \n",
        "                  'y':[MVP_all_Mean*100, Tan_all_Mean*100, 100*(Tan_all_Mean - 2*(Tan_all_Mean - MVP_all_Mean))]})\n",
        "\n",
        "fit = np.polyfit(df['y'], df['x'], 2)\n",
        "equation = np.poly1d(fit)\n",
        "print (\"The fit coefficients are a = {0:.4f}, b = {1:.4f} c = {2:.4f}\".format(*fit))\n",
        "print (equation)\n",
        "\n",
        "x = np.linspace(2, 0, num=100)\n",
        "y = 3.323 * x **2 - 1.748 * x + 0.8736\n",
        "fig=plt.figure(figsize=(12,6))\n",
        "plt.plot(y, x,'.',markersize=10, label = 'Efficient Frontier')\n",
        "plt.plot(Tan_all_SD*100, Tan_all_Mean*100, '.', markersize=10, label = 'In-Sample Tangency Portfolio')\n",
        "plt.plot()\n",
        "plt.xlabel('Standard Deviation (*10^-2)')\n",
        "plt.ylabel('Mean Return (*10^-2)');\n",
        "plt.title('Question 4o): Mean-Standard Deviation Diagram', fontsize=16)\n",
        "plt.legend()"
      ],
      "execution_count": null,
      "outputs": [
        {
          "output_type": "stream",
          "text": [
            "The fit coefficients are a = 3.3227, b = -1.7477 c = 0.8736\n",
            "       2\n",
            "3.323 x - 1.748 x + 0.8736\n"
          ],
          "name": "stdout"
        },
        {
          "output_type": "execute_result",
          "data": {
            "text/plain": [
              "<matplotlib.legend.Legend at 0x7f29c156d0f0>"
            ]
          },
          "metadata": {
            "tags": []
          },
          "execution_count": 66
        },
        {
          "output_type": "display_data",
          "data": {
            "image/png": "[encoded data removed]",
            "text/plain": [
              "<Figure size 864x432 with 1 Axes>"
            ]
          },
          "metadata": {
            "tags": [],
            "needs_background": "light"
          }
        }
      ]
    },
    {
      "cell_type": "code",
      "metadata": {
        "id": "HEs8orj_4_as",
        "outputId": "0d72307b-07b4-4fa8-9f92-fe55a4b6f521",
        "colab": {
          "base_uri": "https://localhost:8080/"
        }
      },
      "source": [
        "print('The Sharpe Ratio of this tangency portfolio is ', round(Tan_all_Mean / Tan_all_SD * np.sqrt(12), 2))\n",
        "print('The weights for tangency portfolio with RMRF, SMB, VALeverywhere, MOMeverywhere, BAB, Qaul/Defensive, Carry, STREV, LTREV are ', \\\n",
        "      weight_all_tang)"
      ],
      "execution_count": null,
      "outputs": [
        {
          "output_type": "stream",
          "text": [
            "The Sharpe Ratio of this tangency portfolio is  2.07\n",
            "The weights for tangency portfolio with RMRF, SMB, VALeverywhere, MOMeverywhere, BAB, Qaul/Defensive, Carry, STREV, LTREV are  [ 1.00554896e-04  7.97449090e-04  6.07776178e-04 -9.98433847e-06\n",
            "  4.21792243e-01  3.44116472e-01 -2.93261535e-02  1.38694408e-01\n",
            "  1.23227234e-01]\n"
          ],
          "name": "stdout"
        }
      ]
    },
    {
      "cell_type": "markdown",
      "metadata": {
        "id": "Mm6_fLRN5Avm"
      },
      "source": [
        "We can see the sharpe ratio using all these factors is exceptionally high, at 2.07. Additionally, the weight for BAB, Qual/Defensive, Carry, STREV, and LTREV seem to be much higher than RMRF, SMB, VALeverywhere, and MOMeverywhere."
      ]
    },
    {
      "cell_type": "markdown",
      "metadata": {
        "id": "T2bOsWG3b8jG"
      },
      "source": [
        "## p)\tNow, repeat the tangency portfolio exercise above using even months to compute tangency portfolio weights and then applied to odd-month returns and vice versa to generate an out-of-sample tangency portfolio of all the factor portfolios. Plot this on the efficient frontier you created in o). How different are the results? What is the Sharpe ratio and portfolio weights of this portfolio? How close do you get to the ex post optimal efficient frontier?"
      ]
    },
    {
      "cell_type": "code",
      "metadata": {
        "id": "xwcNvR-0i5PV",
        "outputId": "1d51217c-0af9-4850-f9e8-50ec3d565e6c",
        "colab": {
          "base_uri": "https://localhost:8080/",
          "height": 423
        }
      },
      "source": [
        "all_odd = All_Factors.iloc[::2]\n",
        "all_even = All_Factors.iloc[1:-1:2]\n",
        "# Tangency Portfolio 1\n",
        "R_all_even = all_even.mean()\n",
        "V_all_even = all_even.cov()\n",
        "V_all_even_inv = np.linalg.inv(V_all_even.values)\n",
        "num = V_all_even_inv @ R_all_even\n",
        "denom = onesT @ V_all_even_inv @ R_all_even\n",
        "weight_all_tang_even = num / denom\n",
        "Tan_all_odd = all_odd @ weight_all_tang_even\n",
        "Tan_all_odd_SD = Tan_all_odd.std()\n",
        "Tan_all_odd_Mean = Tan_all_odd.mean()\n",
        "fig=plt.figure(figsize=(12,6))\n",
        "plt.plot(y, x,'.',markersize=10, label = 'Efficient Frontier')\n",
        "plt.plot(Tan_all_SD*100, Tan_all_Mean*100, '.', markersize=10, label = 'In-Sample Tangency Portfolio')\n",
        "plt.plot(Tan_all_odd_SD*100, Tan_all_odd_Mean*100, '.', markersize=10, label = 'Out-of-Sample Tangency Portfolio')\n",
        "plt.plot()\n",
        "plt.xlabel('Standard Deviation (*10^-2)')\n",
        "plt.ylabel('Mean Return (*10^-2)');\n",
        "plt.title('Question 4p): Mean-Standard Deviation Diagram', fontsize=16)\n",
        "plt.legend()"
      ],
      "execution_count": null,
      "outputs": [
        {
          "output_type": "execute_result",
          "data": {
            "text/plain": [
              "<matplotlib.legend.Legend at 0x7f29c3f6b908>"
            ]
          },
          "metadata": {
            "tags": []
          },
          "execution_count": 68
        },
        {
          "output_type": "display_data",
          "data": {
            "image/png": "[encoded data removed]",
            "text/plain": [
              "<Figure size 864x432 with 1 Axes>"
            ]
          },
          "metadata": {
            "tags": [],
            "needs_background": "light"
          }
        }
      ]
    },
    {
      "cell_type": "code",
      "metadata": {
        "id": "EMe9ntFa5ZQ5",
        "outputId": "4b0398a6-3993-430b-ee4d-c7c0710866e7",
        "colab": {
          "base_uri": "https://localhost:8080/"
        }
      },
      "source": [
        "print('The Sharpe Ratio of OOS tangency portfolio is ', round(Tan_all_odd_Mean / Tan_all_odd_SD * np.sqrt(12), 2))\n",
        "print('The weights for the OOS tangency portfolio with RMRF, SMB, VALeverywhere, MOMeverywhere, BAB, Qaul/Defensive, Carry, STREV, LTREV are ', \\\n",
        "      weight_all_tang_even)"
      ],
      "execution_count": null,
      "outputs": [
        {
          "output_type": "stream",
          "text": [
            "The Sharpe Ratio of OOS tangency portfolio is  1.95\n",
            "The weights for the OOS tangency portfolio with RMRF, SMB, VALeverywhere, MOMeverywhere, BAB, Qaul/Defensive, Carry, STREV, LTREV are  [ 3.57927148e-04  5.20849944e-04  1.03611492e-04 -1.46979011e-04\n",
            "  3.96076611e-01  3.93132195e-01 -9.20603328e-02  1.62633440e-01\n",
            "  1.39382677e-01]\n"
          ],
          "name": "stdout"
        }
      ]
    },
    {
      "cell_type": "markdown",
      "metadata": {
        "id": "_XN4XKJA5eNT"
      },
      "source": [
        "We can see graphically that the out-of-sample tangency portoflio point is extremely close to the in-sample point. \n",
        "\n",
        "The sharpe ratio using all these factors out-of-sample is still exceptionally high, at 1.95. Additionally, the weight for BAB, Qual/Defensive, Carry, STREV, and LTREV seem to be much higher than RMRF, SMB, VALeverywhere, and MOMeverywhere.\n",
        "\n",
        "In this case, we're pretty much right on the ex post optimal efficient frontier."
      ]
    }
  ]
}