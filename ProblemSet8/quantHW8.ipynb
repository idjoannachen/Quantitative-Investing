{
  "nbformat": 4,
  "nbformat_minor": 0,
  "metadata": {
    "colab": {
      "name": "quantHW8.ipynb",
      "provenance": [],
      "collapsed_sections": [],
      "toc_visible": true
    },
    "kernelspec": {
      "name": "python3",
      "display_name": "Python 3"
    }
  },
  "cells": [
    {
      "cell_type": "markdown",
      "metadata": {
        "id": "DGRXBT1g-jRT"
      },
      "source": [
        "# MGT 595 Problem Set 8\n",
        "# Author: Denglin Wu, Joanna Chen, Adrienne Larson\n",
        "# November 2, 2020"
      ]
    },
    {
      "cell_type": "markdown",
      "metadata": {
        "id": "5BQ0Allf-p6P"
      },
      "source": [
        "This problem set relates to initial tests of market efficiency that focuses largely on the relation between past returns and expected returns, seasonality in returns, and the dangers and cautions of data mining. In order to proceed you need Microsoft Excel and file “Problem_Set8.xls”. This file contains returns on 75 portfolios sorted on size and various lengths of past returns (1-month, 12-month, and 60-month past returns). In addition, the file contains monthly returns to the Fama and French factors, including a proxy for the excess return on the market portfolio, RMRF, plus the T-bill returns.\n",
        "\n"
      ]
    },
    {
      "cell_type": "markdown",
      "metadata": {
        "id": "tJQVN2dSd3hI"
      },
      "source": [
        "## Data Processing"
      ]
    },
    {
      "cell_type": "code",
      "metadata": {
        "id": "CFrpm9L7e2o9"
      },
      "source": [
        "import pandas as pd\n",
        "import numpy as np\n",
        "import statsmodels.api as sm\n",
        "from scipy.stats import f\n",
        "import scipy.stats\n",
        "import matplotlib.pyplot as plt"
      ],
      "execution_count": null,
      "outputs": []
    },
    {
      "cell_type": "code",
      "metadata": {
        "id": "CeIRW656d1vV"
      },
      "source": [
        "#--------------------Read subsheet 1--------------------\n",
        "sheet1_p1=pd.read_excel(\"Problem_Set8.xls\", sheet_name='125 Size-Past return portfolios', \n",
        "                     skiprows=8, index_col=None, usecols=\"A:Z\", na_values=-999)\n",
        "sheet1_p1[\"Date\"] = pd.to_datetime(sheet1_p1[\"Past 1-month return\"], format=\"%Y%m\")\n",
        "p1_return = sheet1_p1.set_index(\"Date\")\n",
        "p1_return = p1_return.loc[p1_return.index.dropna()]\n",
        "p1_return = p1_return.drop(\"Past 1-month return\", axis = 1)\n",
        "\n",
        "sheet1_p212=pd.read_excel(\"Problem_Set8.xls\", sheet_name='125 Size-Past return portfolios', \n",
        "                     skiprows=8, index_col=None, usecols=\"AA:AZ\", na_values=-999)\n",
        "sheet1_p212[\"Date\"] = pd.to_datetime(sheet1_p212[\"Past 2-12-month return\"], format=\"%Y%m\")\n",
        "p212_return = sheet1_p212.set_index(\"Date\")\n",
        "p212_return = p212_return.loc[p212_return.index.dropna()]\n",
        "p212_return = p212_return.drop(\"Past 2-12-month return\", axis = 1)\n",
        "\n",
        "sheet1_p1360=pd.read_excel(\"Problem_Set8.xls\", sheet_name='125 Size-Past return portfolios', \n",
        "                     skiprows=8, index_col=None, usecols=\"BA:BZ\", na_values=-999)\n",
        "sheet1_p1360[\"Date\"] = pd.to_datetime(sheet1_p1360[\"Past 13-60-month return\"], format=\"%Y%m\")\n",
        "p1360_return = sheet1_p1360.set_index(\"Date\")\n",
        "p1360_return = p1360_return.loc[p1360_return.index.dropna()]\n",
        "p1360_return = p1360_return.drop(\"Past 13-60-month return\", axis = 1)\n",
        "\n",
        "# All 75 returns\n",
        "all_return = pd.concat([p1_return, p212_return, p1360_return], axis=1)\n",
        "\n",
        "#--------------------Read subsheet 2--------------------\n",
        "sheet2=pd.read_excel(\"Problem_Set8.xls\", sheet_name='FF factors', \n",
        "                     skiprows=0, index_col=None, na_values=-999)\n",
        "sheet2[\"Date\"] = pd.to_datetime(sheet2[\"Unnamed: 0\"], format=\"%Y%m\")\n",
        "factors = sheet2.set_index(\"Date\")\n",
        "factors = factors.loc[factors.index.dropna()]\n",
        "factors = factors.drop(\"Unnamed: 0\", axis = 1)\n",
        "\n",
        "# Excess returns\n",
        "# Note that the 75 returns (sheet 1 data) are from 1926-02 to 2015-07,\n",
        "# FF factors (sheet 2 data) are form 1926-07 to 2015-11. To do vector-wise \n",
        "# subtraction, we only take the dates that two datasets overlap, i.e. 1926-07 - 2015-07.\n",
        "all_return_excess = pd.DataFrame()\n",
        "for i, idx in enumerate(all_return.columns):\n",
        "  all_return_excess[idx] = all_return.iloc[5:,i] - factors[\"RF\"][:1069]"
      ],
      "execution_count": null,
      "outputs": []
    },
    {
      "cell_type": "markdown",
      "metadata": {
        "id": "ExRzWiB4d2v2"
      },
      "source": [
        "\n",
        "## a)\tEstimate the January mean return for each of the 75 size-and-past-return based portfolios. Compare January mean return to mean return February through December. The easiest way to do this is to run a regression of the excess (of the T-bill return) portfolio return on an intercept and a January dummy variable (e.g., a variable which equals 1 if the month is January and zero otherwise). The dummy variable coefficient gives the January specific “extra” mean return. Is there a strong January seasonal that is different than other months? For which portfolios is this largest or smallest?  Why might this be?"
      ]
    },
    {
      "cell_type": "markdown",
      "metadata": {
        "id": "0dxhpsCc-N3U"
      },
      "source": [
        "We have $$\\text{Excess return} = \\beta_0 + \\beta_1 \\mathbb{1}_{Jan} \\text{ where } \\mathbb{1}_{Jan} = \\begin{cases}\n",
        "      1, & \\text{if the month is January} \\\\\n",
        "      0, & \\text{otherwise}\n",
        "    \\end{cases}.$$\n",
        "\n",
        "Then\n",
        "$$\\text{Mean excess return} = \\beta_0 + \\beta_1 \\text{ for January and }$$\n",
        "\n",
        "$$\\text{Mean excess return} = \\beta_0 \\text{ for February through December. }$$\n",
        "\n",
        "Therefore, the \"extra\" mean return, or January effect, is $(\\beta_0 + \\beta_1) - \\beta_0 =  \\beta_1$ and we use $\\beta_1$ to determine the January seasonal effect. "
      ]
    },
    {
      "cell_type": "code",
      "metadata": {
        "id": "VuLa_kwC3D6q"
      },
      "source": [
        "# Create January dummy variable\n",
        "jan_date = all_return_excess[all_return_excess.index.month==1].index\n",
        "all_return_excess['jan_dummy'] = [1 if x in jan_date else 0 for x in all_return_excess.index]"
      ],
      "execution_count": null,
      "outputs": []
    },
    {
      "cell_type": "code",
      "metadata": {
        "id": "8o8qQtdUhIm_",
        "outputId": "aa598e50-494e-4f3f-a9ea-f5312fead0c9",
        "colab": {
          "base_uri": "https://localhost:8080/",
          "height": 419
        }
      },
      "source": [
        "# Table 1\n",
        "beta0 = []\n",
        "beta1 = []\n",
        "p_value_beta0 = []\n",
        "p_value_beta1 = []\n",
        "\n",
        "for i in all_return_excess.iloc[:,0:75].columns:\n",
        "  x = sm.add_constant(all_return_excess['jan_dummy']) \n",
        "  mod1 = sm.OLS(all_return_excess[i], x, missing='drop').fit()\n",
        "  beta0.append(mod1.params[0]) \n",
        "  beta1.append(mod1.params[1])\n",
        "  p_value_beta0.append(mod1.pvalues[0]) \n",
        "  p_value_beta1.append(mod1.pvalues[1])\n",
        "\n",
        "result1 = np.column_stack((beta0, beta1, p_value_beta0,p_value_beta1))\n",
        "result1 = pd.DataFrame(result1)\n",
        "result1.index = all_return_excess.iloc[:,0:75].columns\n",
        "result1.columns = [\"beta0\", \"beta1\", \"p_value_beta0\", \"p_value_beta1\"]\n",
        "result1['beta0 + beta1'] = result1['beta0'] + result1['beta1'] # January mean excess return = beta0 + beta1\n",
        "result1"
      ],
      "execution_count": null,
      "outputs": [
        {
          "output_type": "execute_result",
          "data": {
            "text/html": [
              "<div>\n",
              "<style scoped>\n",
              "    .dataframe tbody tr th:only-of-type {\n",
              "        vertical-align: middle;\n",
              "    }\n",
              "\n",
              "    .dataframe tbody tr th {\n",
              "        vertical-align: top;\n",
              "    }\n",
              "\n",
              "    .dataframe thead th {\n",
              "        text-align: right;\n",
              "    }\n",
              "</style>\n",
              "<table border=\"1\" class=\"dataframe\">\n",
              "  <thead>\n",
              "    <tr style=\"text-align: right;\">\n",
              "      <th></th>\n",
              "      <th>beta0</th>\n",
              "      <th>beta1</th>\n",
              "      <th>p_value_beta0</th>\n",
              "      <th>p_value_beta1</th>\n",
              "      <th>beta0 + beta1</th>\n",
              "    </tr>\n",
              "  </thead>\n",
              "  <tbody>\n",
              "    <tr>\n",
              "      <th>Low</th>\n",
              "      <td>1.434612</td>\n",
              "      <td>8.407298</td>\n",
              "      <td>0.000031</td>\n",
              "      <td>2.621966e-12</td>\n",
              "      <td>9.841910</td>\n",
              "    </tr>\n",
              "    <tr>\n",
              "      <th>2</th>\n",
              "      <td>0.765092</td>\n",
              "      <td>5.816481</td>\n",
              "      <td>0.011985</td>\n",
              "      <td>4.231758e-08</td>\n",
              "      <td>6.581573</td>\n",
              "    </tr>\n",
              "    <tr>\n",
              "      <th>3</th>\n",
              "      <td>0.653490</td>\n",
              "      <td>4.925724</td>\n",
              "      <td>0.024981</td>\n",
              "      <td>1.208368e-06</td>\n",
              "      <td>5.579213</td>\n",
              "    </tr>\n",
              "    <tr>\n",
              "      <th>4</th>\n",
              "      <td>0.369214</td>\n",
              "      <td>4.613595</td>\n",
              "      <td>0.199808</td>\n",
              "      <td>4.195092e-06</td>\n",
              "      <td>4.982809</td>\n",
              "    </tr>\n",
              "    <tr>\n",
              "      <th>High</th>\n",
              "      <td>-0.426092</td>\n",
              "      <td>4.052833</td>\n",
              "      <td>0.143967</td>\n",
              "      <td>6.410291e-05</td>\n",
              "      <td>3.626742</td>\n",
              "    </tr>\n",
              "    <tr>\n",
              "      <th>...</th>\n",
              "      <td>...</td>\n",
              "      <td>...</td>\n",
              "      <td>...</td>\n",
              "      <td>...</td>\n",
              "      <td>...</td>\n",
              "    </tr>\n",
              "    <tr>\n",
              "      <th>Low.14</th>\n",
              "      <td>-1.423323</td>\n",
              "      <td>1.524499</td>\n",
              "      <td>0.004562</td>\n",
              "      <td>3.784512e-01</td>\n",
              "      <td>0.101176</td>\n",
              "    </tr>\n",
              "    <tr>\n",
              "      <th>2.14</th>\n",
              "      <td>0.648237</td>\n",
              "      <td>0.909528</td>\n",
              "      <td>0.002882</td>\n",
              "      <td>2.254236e-01</td>\n",
              "      <td>1.557765</td>\n",
              "    </tr>\n",
              "    <tr>\n",
              "      <th>3.14</th>\n",
              "      <td>0.666935</td>\n",
              "      <td>0.399417</td>\n",
              "      <td>0.000344</td>\n",
              "      <td>5.337571e-01</td>\n",
              "      <td>1.066353</td>\n",
              "    </tr>\n",
              "    <tr>\n",
              "      <th>4.14</th>\n",
              "      <td>0.706280</td>\n",
              "      <td>-0.119221</td>\n",
              "      <td>0.000106</td>\n",
              "      <td>8.492461e-01</td>\n",
              "      <td>0.587059</td>\n",
              "    </tr>\n",
              "    <tr>\n",
              "      <th>High.14</th>\n",
              "      <td>0.600957</td>\n",
              "      <td>-0.436839</td>\n",
              "      <td>0.001723</td>\n",
              "      <td>5.087180e-01</td>\n",
              "      <td>0.164118</td>\n",
              "    </tr>\n",
              "  </tbody>\n",
              "</table>\n",
              "<p>75 rows × 5 columns</p>\n",
              "</div>"
            ],
            "text/plain": [
              "            beta0     beta1  p_value_beta0  p_value_beta1  beta0 + beta1\n",
              "Low      1.434612  8.407298       0.000031   2.621966e-12       9.841910\n",
              "2        0.765092  5.816481       0.011985   4.231758e-08       6.581573\n",
              "3        0.653490  4.925724       0.024981   1.208368e-06       5.579213\n",
              "4        0.369214  4.613595       0.199808   4.195092e-06       4.982809\n",
              "High    -0.426092  4.052833       0.143967   6.410291e-05       3.626742\n",
              "...           ...       ...            ...            ...            ...\n",
              "Low.14  -1.423323  1.524499       0.004562   3.784512e-01       0.101176\n",
              "2.14     0.648237  0.909528       0.002882   2.254236e-01       1.557765\n",
              "3.14     0.666935  0.399417       0.000344   5.337571e-01       1.066353\n",
              "4.14     0.706280 -0.119221       0.000106   8.492461e-01       0.587059\n",
              "High.14  0.600957 -0.436839       0.001723   5.087180e-01       0.164118\n",
              "\n",
              "[75 rows x 5 columns]"
            ]
          },
          "metadata": {
            "tags": []
          },
          "execution_count": 31
        }
      ]
    },
    {
      "cell_type": "code",
      "metadata": {
        "id": "ypKLp75U82lx",
        "outputId": "ad890caf-610a-4a8c-ed59-4aefb11ad9db",
        "colab": {
          "base_uri": "https://localhost:8080/"
        }
      },
      "source": [
        "print(\"average beta0 =\", round(np.mean(result1['beta0'],),2), \"average beta1 =\", round(np.mean(result1['beta1']),2))\n",
        "\n",
        "# Compute combined p-values to make sure the result is significant\n",
        "_, combined_p_value_beta0 = scipy.stats.combine_pvalues(p_value_beta0, method='fisher', weights=None)\n",
        "_, combined_p_value_beta1 = scipy.stats.combine_pvalues(p_value_beta1, method='fisher', weights=None)\n",
        "print(\"Using Fisher's method, we compute the combined p-values, which p-value for beta0 =\", \\\n",
        "      round(combined_p_value_beta0,2), \"and p-value for beta1 =\", round(combined_p_value_beta1,2))"
      ],
      "execution_count": null,
      "outputs": [
        {
          "output_type": "stream",
          "text": [
            "average beta0 = 0.68 average beta1 = 2.51\n",
            "Using Fisher's method, we compute the combined p-values, which p-value for beta0 = 0.0 and p-value for beta1 = 0.0\n"
          ],
          "name": "stdout"
        }
      ]
    },
    {
      "cell_type": "code",
      "metadata": {
        "id": "NsAT-BKcF7LM",
        "outputId": "501f339f-3086-499e-93f5-5fb36c69be65",
        "colab": {
          "base_uri": "https://localhost:8080/",
          "height": 582
        }
      },
      "source": [
        "# Table 2\n",
        "jan_effect = np.column_stack((result1['beta1'][0:25], result1['beta1'][25:50], result1['beta1'][50:75]))\n",
        "jan_effect = pd.DataFrame(jan_effect)\n",
        "jan_effect.index = result1['beta1'][0:25].index\n",
        "jan_effect.columns = [\"past 1 mo return\", \"past 2-12 mo return\", \"past 13-60 mo return\"]\n",
        "jan_effect.style.set_caption(\"January effect (value of beta1)\")"
      ],
      "execution_count": null,
      "outputs": [
        {
          "output_type": "execute_result",
          "data": {
            "text/html": [
              "<style  type=\"text/css\" >\n",
              "</style><table id=\"T_86b92196_1dda_11eb_bf54_0242ac1c0002\" ><caption>January effect (value of beta1)</caption><thead>    <tr>        <th class=\"blank level0\" ></th>        <th class=\"col_heading level0 col0\" >past 1 mo return</th>        <th class=\"col_heading level0 col1\" >past 2-12 mo return</th>        <th class=\"col_heading level0 col2\" >past 13-60 mo return</th>    </tr></thead><tbody>\n",
              "                <tr>\n",
              "                        <th id=\"T_86b92196_1dda_11eb_bf54_0242ac1c0002level0_row0\" class=\"row_heading level0 row0\" >Low</th>\n",
              "                        <td id=\"T_86b92196_1dda_11eb_bf54_0242ac1c0002row0_col0\" class=\"data row0 col0\" >8.407298</td>\n",
              "                        <td id=\"T_86b92196_1dda_11eb_bf54_0242ac1c0002row0_col1\" class=\"data row0 col1\" >8.509522</td>\n",
              "                        <td id=\"T_86b92196_1dda_11eb_bf54_0242ac1c0002row0_col2\" class=\"data row0 col2\" >8.330421</td>\n",
              "            </tr>\n",
              "            <tr>\n",
              "                        <th id=\"T_86b92196_1dda_11eb_bf54_0242ac1c0002level0_row1\" class=\"row_heading level0 row1\" >2</th>\n",
              "                        <td id=\"T_86b92196_1dda_11eb_bf54_0242ac1c0002row1_col0\" class=\"data row1 col0\" >5.816481</td>\n",
              "                        <td id=\"T_86b92196_1dda_11eb_bf54_0242ac1c0002row1_col1\" class=\"data row1 col1\" >6.313289</td>\n",
              "                        <td id=\"T_86b92196_1dda_11eb_bf54_0242ac1c0002row1_col2\" class=\"data row1 col2\" >5.577421</td>\n",
              "            </tr>\n",
              "            <tr>\n",
              "                        <th id=\"T_86b92196_1dda_11eb_bf54_0242ac1c0002level0_row2\" class=\"row_heading level0 row2\" >3</th>\n",
              "                        <td id=\"T_86b92196_1dda_11eb_bf54_0242ac1c0002row2_col0\" class=\"data row2 col0\" >4.925724</td>\n",
              "                        <td id=\"T_86b92196_1dda_11eb_bf54_0242ac1c0002row2_col1\" class=\"data row2 col1\" >5.202608</td>\n",
              "                        <td id=\"T_86b92196_1dda_11eb_bf54_0242ac1c0002row2_col2\" class=\"data row2 col2\" >4.151889</td>\n",
              "            </tr>\n",
              "            <tr>\n",
              "                        <th id=\"T_86b92196_1dda_11eb_bf54_0242ac1c0002level0_row3\" class=\"row_heading level0 row3\" >4</th>\n",
              "                        <td id=\"T_86b92196_1dda_11eb_bf54_0242ac1c0002row3_col0\" class=\"data row3 col0\" >4.613595</td>\n",
              "                        <td id=\"T_86b92196_1dda_11eb_bf54_0242ac1c0002row3_col1\" class=\"data row3 col1\" >4.330271</td>\n",
              "                        <td id=\"T_86b92196_1dda_11eb_bf54_0242ac1c0002row3_col2\" class=\"data row3 col2\" >4.195224</td>\n",
              "            </tr>\n",
              "            <tr>\n",
              "                        <th id=\"T_86b92196_1dda_11eb_bf54_0242ac1c0002level0_row4\" class=\"row_heading level0 row4\" >High</th>\n",
              "                        <td id=\"T_86b92196_1dda_11eb_bf54_0242ac1c0002row4_col0\" class=\"data row4 col0\" >4.052833</td>\n",
              "                        <td id=\"T_86b92196_1dda_11eb_bf54_0242ac1c0002row4_col1\" class=\"data row4 col1\" >4.121503</td>\n",
              "                        <td id=\"T_86b92196_1dda_11eb_bf54_0242ac1c0002row4_col2\" class=\"data row4 col2\" >3.498719</td>\n",
              "            </tr>\n",
              "            <tr>\n",
              "                        <th id=\"T_86b92196_1dda_11eb_bf54_0242ac1c0002level0_row5\" class=\"row_heading level0 row5\" >Low.1</th>\n",
              "                        <td id=\"T_86b92196_1dda_11eb_bf54_0242ac1c0002row5_col0\" class=\"data row5 col0\" >4.637822</td>\n",
              "                        <td id=\"T_86b92196_1dda_11eb_bf54_0242ac1c0002row5_col1\" class=\"data row5 col1\" >4.822847</td>\n",
              "                        <td id=\"T_86b92196_1dda_11eb_bf54_0242ac1c0002row5_col2\" class=\"data row5 col2\" >4.983297</td>\n",
              "            </tr>\n",
              "            <tr>\n",
              "                        <th id=\"T_86b92196_1dda_11eb_bf54_0242ac1c0002level0_row6\" class=\"row_heading level0 row6\" >2.1</th>\n",
              "                        <td id=\"T_86b92196_1dda_11eb_bf54_0242ac1c0002row6_col0\" class=\"data row6 col0\" >3.596280</td>\n",
              "                        <td id=\"T_86b92196_1dda_11eb_bf54_0242ac1c0002row6_col1\" class=\"data row6 col1\" >3.788793</td>\n",
              "                        <td id=\"T_86b92196_1dda_11eb_bf54_0242ac1c0002row6_col2\" class=\"data row6 col2\" >3.416562</td>\n",
              "            </tr>\n",
              "            <tr>\n",
              "                        <th id=\"T_86b92196_1dda_11eb_bf54_0242ac1c0002level0_row7\" class=\"row_heading level0 row7\" >3.1</th>\n",
              "                        <td id=\"T_86b92196_1dda_11eb_bf54_0242ac1c0002row7_col0\" class=\"data row7 col0\" >2.824023</td>\n",
              "                        <td id=\"T_86b92196_1dda_11eb_bf54_0242ac1c0002row7_col1\" class=\"data row7 col1\" >2.865659</td>\n",
              "                        <td id=\"T_86b92196_1dda_11eb_bf54_0242ac1c0002row7_col2\" class=\"data row7 col2\" >2.542273</td>\n",
              "            </tr>\n",
              "            <tr>\n",
              "                        <th id=\"T_86b92196_1dda_11eb_bf54_0242ac1c0002level0_row8\" class=\"row_heading level0 row8\" >4.1</th>\n",
              "                        <td id=\"T_86b92196_1dda_11eb_bf54_0242ac1c0002row8_col0\" class=\"data row8 col0\" >2.615414</td>\n",
              "                        <td id=\"T_86b92196_1dda_11eb_bf54_0242ac1c0002row8_col1\" class=\"data row8 col1\" >2.231426</td>\n",
              "                        <td id=\"T_86b92196_1dda_11eb_bf54_0242ac1c0002row8_col2\" class=\"data row8 col2\" >1.985359</td>\n",
              "            </tr>\n",
              "            <tr>\n",
              "                        <th id=\"T_86b92196_1dda_11eb_bf54_0242ac1c0002level0_row9\" class=\"row_heading level0 row9\" >High.1</th>\n",
              "                        <td id=\"T_86b92196_1dda_11eb_bf54_0242ac1c0002row9_col0\" class=\"data row9 col0\" >1.972412</td>\n",
              "                        <td id=\"T_86b92196_1dda_11eb_bf54_0242ac1c0002row9_col1\" class=\"data row9 col1\" >2.011873</td>\n",
              "                        <td id=\"T_86b92196_1dda_11eb_bf54_0242ac1c0002row9_col2\" class=\"data row9 col2\" >1.985889</td>\n",
              "            </tr>\n",
              "            <tr>\n",
              "                        <th id=\"T_86b92196_1dda_11eb_bf54_0242ac1c0002level0_row10\" class=\"row_heading level0 row10\" >Low.2</th>\n",
              "                        <td id=\"T_86b92196_1dda_11eb_bf54_0242ac1c0002row10_col0\" class=\"data row10 col0\" >3.565925</td>\n",
              "                        <td id=\"T_86b92196_1dda_11eb_bf54_0242ac1c0002row10_col1\" class=\"data row10 col1\" >3.577026</td>\n",
              "                        <td id=\"T_86b92196_1dda_11eb_bf54_0242ac1c0002row10_col2\" class=\"data row10 col2\" >4.230311</td>\n",
              "            </tr>\n",
              "            <tr>\n",
              "                        <th id=\"T_86b92196_1dda_11eb_bf54_0242ac1c0002level0_row11\" class=\"row_heading level0 row11\" >2.2</th>\n",
              "                        <td id=\"T_86b92196_1dda_11eb_bf54_0242ac1c0002row11_col0\" class=\"data row11 col0\" >2.750959</td>\n",
              "                        <td id=\"T_86b92196_1dda_11eb_bf54_0242ac1c0002row11_col1\" class=\"data row11 col1\" >2.488603</td>\n",
              "                        <td id=\"T_86b92196_1dda_11eb_bf54_0242ac1c0002row11_col2\" class=\"data row11 col2\" >2.395957</td>\n",
              "            </tr>\n",
              "            <tr>\n",
              "                        <th id=\"T_86b92196_1dda_11eb_bf54_0242ac1c0002level0_row12\" class=\"row_heading level0 row12\" >3.2</th>\n",
              "                        <td id=\"T_86b92196_1dda_11eb_bf54_0242ac1c0002row12_col0\" class=\"data row12 col0\" >2.199731</td>\n",
              "                        <td id=\"T_86b92196_1dda_11eb_bf54_0242ac1c0002row12_col1\" class=\"data row12 col1\" >2.043078</td>\n",
              "                        <td id=\"T_86b92196_1dda_11eb_bf54_0242ac1c0002row12_col2\" class=\"data row12 col2\" >2.052091</td>\n",
              "            </tr>\n",
              "            <tr>\n",
              "                        <th id=\"T_86b92196_1dda_11eb_bf54_0242ac1c0002level0_row13\" class=\"row_heading level0 row13\" >4.2</th>\n",
              "                        <td id=\"T_86b92196_1dda_11eb_bf54_0242ac1c0002row13_col0\" class=\"data row13 col0\" >1.808631</td>\n",
              "                        <td id=\"T_86b92196_1dda_11eb_bf54_0242ac1c0002row13_col1\" class=\"data row13 col1\" >1.485797</td>\n",
              "                        <td id=\"T_86b92196_1dda_11eb_bf54_0242ac1c0002row13_col2\" class=\"data row13 col2\" >1.422614</td>\n",
              "            </tr>\n",
              "            <tr>\n",
              "                        <th id=\"T_86b92196_1dda_11eb_bf54_0242ac1c0002level0_row14\" class=\"row_heading level0 row14\" >High.2</th>\n",
              "                        <td id=\"T_86b92196_1dda_11eb_bf54_0242ac1c0002row14_col0\" class=\"data row14 col0\" >0.781602</td>\n",
              "                        <td id=\"T_86b92196_1dda_11eb_bf54_0242ac1c0002row14_col1\" class=\"data row14 col1\" >1.125292</td>\n",
              "                        <td id=\"T_86b92196_1dda_11eb_bf54_0242ac1c0002row14_col2\" class=\"data row14 col2\" >1.333554</td>\n",
              "            </tr>\n",
              "            <tr>\n",
              "                        <th id=\"T_86b92196_1dda_11eb_bf54_0242ac1c0002level0_row15\" class=\"row_heading level0 row15\" >Low.3</th>\n",
              "                        <td id=\"T_86b92196_1dda_11eb_bf54_0242ac1c0002row15_col0\" class=\"data row15 col0\" >2.270438</td>\n",
              "                        <td id=\"T_86b92196_1dda_11eb_bf54_0242ac1c0002row15_col1\" class=\"data row15 col1\" >2.574077</td>\n",
              "                        <td id=\"T_86b92196_1dda_11eb_bf54_0242ac1c0002row15_col2\" class=\"data row15 col2\" >2.644443</td>\n",
              "            </tr>\n",
              "            <tr>\n",
              "                        <th id=\"T_86b92196_1dda_11eb_bf54_0242ac1c0002level0_row16\" class=\"row_heading level0 row16\" >2.3</th>\n",
              "                        <td id=\"T_86b92196_1dda_11eb_bf54_0242ac1c0002row16_col0\" class=\"data row16 col0\" >1.877838</td>\n",
              "                        <td id=\"T_86b92196_1dda_11eb_bf54_0242ac1c0002row16_col1\" class=\"data row16 col1\" >1.739470</td>\n",
              "                        <td id=\"T_86b92196_1dda_11eb_bf54_0242ac1c0002row16_col2\" class=\"data row16 col2\" >1.479475</td>\n",
              "            </tr>\n",
              "            <tr>\n",
              "                        <th id=\"T_86b92196_1dda_11eb_bf54_0242ac1c0002level0_row17\" class=\"row_heading level0 row17\" >3.3</th>\n",
              "                        <td id=\"T_86b92196_1dda_11eb_bf54_0242ac1c0002row17_col0\" class=\"data row17 col0\" >1.548734</td>\n",
              "                        <td id=\"T_86b92196_1dda_11eb_bf54_0242ac1c0002row17_col1\" class=\"data row17 col1\" >1.217530</td>\n",
              "                        <td id=\"T_86b92196_1dda_11eb_bf54_0242ac1c0002row17_col2\" class=\"data row17 col2\" >1.213215</td>\n",
              "            </tr>\n",
              "            <tr>\n",
              "                        <th id=\"T_86b92196_1dda_11eb_bf54_0242ac1c0002level0_row18\" class=\"row_heading level0 row18\" >4.3</th>\n",
              "                        <td id=\"T_86b92196_1dda_11eb_bf54_0242ac1c0002row18_col0\" class=\"data row18 col0\" >0.615933</td>\n",
              "                        <td id=\"T_86b92196_1dda_11eb_bf54_0242ac1c0002row18_col1\" class=\"data row18 col1\" >0.619603</td>\n",
              "                        <td id=\"T_86b92196_1dda_11eb_bf54_0242ac1c0002row18_col2\" class=\"data row18 col2\" >0.893452</td>\n",
              "            </tr>\n",
              "            <tr>\n",
              "                        <th id=\"T_86b92196_1dda_11eb_bf54_0242ac1c0002level0_row19\" class=\"row_heading level0 row19\" >High.3</th>\n",
              "                        <td id=\"T_86b92196_1dda_11eb_bf54_0242ac1c0002row19_col0\" class=\"data row19 col0\" >0.017781</td>\n",
              "                        <td id=\"T_86b92196_1dda_11eb_bf54_0242ac1c0002row19_col1\" class=\"data row19 col1\" >0.288461</td>\n",
              "                        <td id=\"T_86b92196_1dda_11eb_bf54_0242ac1c0002row19_col2\" class=\"data row19 col2\" >0.347267</td>\n",
              "            </tr>\n",
              "            <tr>\n",
              "                        <th id=\"T_86b92196_1dda_11eb_bf54_0242ac1c0002level0_row20\" class=\"row_heading level0 row20\" >Low.4</th>\n",
              "                        <td id=\"T_86b92196_1dda_11eb_bf54_0242ac1c0002row20_col0\" class=\"data row20 col0\" >1.164991</td>\n",
              "                        <td id=\"T_86b92196_1dda_11eb_bf54_0242ac1c0002row20_col1\" class=\"data row20 col1\" >2.405851</td>\n",
              "                        <td id=\"T_86b92196_1dda_11eb_bf54_0242ac1c0002row20_col2\" class=\"data row20 col2\" >1.524499</td>\n",
              "            </tr>\n",
              "            <tr>\n",
              "                        <th id=\"T_86b92196_1dda_11eb_bf54_0242ac1c0002level0_row21\" class=\"row_heading level0 row21\" >2.4</th>\n",
              "                        <td id=\"T_86b92196_1dda_11eb_bf54_0242ac1c0002row21_col0\" class=\"data row21 col0\" >0.721404</td>\n",
              "                        <td id=\"T_86b92196_1dda_11eb_bf54_0242ac1c0002row21_col1\" class=\"data row21 col1\" >1.107248</td>\n",
              "                        <td id=\"T_86b92196_1dda_11eb_bf54_0242ac1c0002row21_col2\" class=\"data row21 col2\" >0.909528</td>\n",
              "            </tr>\n",
              "            <tr>\n",
              "                        <th id=\"T_86b92196_1dda_11eb_bf54_0242ac1c0002level0_row22\" class=\"row_heading level0 row22\" >3.4</th>\n",
              "                        <td id=\"T_86b92196_1dda_11eb_bf54_0242ac1c0002row22_col0\" class=\"data row22 col0\" >0.191867</td>\n",
              "                        <td id=\"T_86b92196_1dda_11eb_bf54_0242ac1c0002row22_col1\" class=\"data row22 col1\" >0.273853</td>\n",
              "                        <td id=\"T_86b92196_1dda_11eb_bf54_0242ac1c0002row22_col2\" class=\"data row22 col2\" >0.399417</td>\n",
              "            </tr>\n",
              "            <tr>\n",
              "                        <th id=\"T_86b92196_1dda_11eb_bf54_0242ac1c0002level0_row23\" class=\"row_heading level0 row23\" >4.4</th>\n",
              "                        <td id=\"T_86b92196_1dda_11eb_bf54_0242ac1c0002row23_col0\" class=\"data row23 col0\" >0.152388</td>\n",
              "                        <td id=\"T_86b92196_1dda_11eb_bf54_0242ac1c0002row23_col1\" class=\"data row23 col1\" >-0.101829</td>\n",
              "                        <td id=\"T_86b92196_1dda_11eb_bf54_0242ac1c0002row23_col2\" class=\"data row23 col2\" >-0.119221</td>\n",
              "            </tr>\n",
              "            <tr>\n",
              "                        <th id=\"T_86b92196_1dda_11eb_bf54_0242ac1c0002level0_row24\" class=\"row_heading level0 row24\" >High.4</th>\n",
              "                        <td id=\"T_86b92196_1dda_11eb_bf54_0242ac1c0002row24_col0\" class=\"data row24 col0\" >-0.404262</td>\n",
              "                        <td id=\"T_86b92196_1dda_11eb_bf54_0242ac1c0002row24_col1\" class=\"data row24 col1\" >-0.633136</td>\n",
              "                        <td id=\"T_86b92196_1dda_11eb_bf54_0242ac1c0002row24_col2\" class=\"data row24 col2\" >-0.436839</td>\n",
              "            </tr>\n",
              "    </tbody></table>"
            ],
            "text/plain": [
              "<pandas.io.formats.style.Styler at 0x7fdc4f353c88>"
            ]
          },
          "metadata": {
            "tags": []
          },
          "execution_count": 33
        }
      ]
    },
    {
      "cell_type": "markdown",
      "metadata": {
        "id": "FMpSG9CyM-FD"
      },
      "source": [
        "- Estimated January mean return = $\\beta_0 + \\beta_1$ for each of the 75 returns is reported in Table 1.\n",
        "\n",
        "- To compare January mean return to mean return February through December, we looked at $\\beta_1$. From the averge $\\beta_1$, there is a strong January seasonal that is different than other months.\n",
        "\n",
        "- From Table 2, the small size & low past 2-12 month return portfolio has the largest January seasonal effect. The big size & high past 2-12 month return portfolio has the smallest January seasonal effect.\n",
        "\n",
        "- We can see the trend that the largest January effect is among small-size & low past return portfolios while the smallest January effect is among big-size & high past return portfolios. \n",
        "\n",
        "There could be different reasons as to why there is a January effect:\n",
        "\n",
        "- Financially, the January effect could be due to tax planning reason. Since capital gain tax is applied to for the capital gain within the calendar year, investors may sell off stocks (that are at a loss) by the end of the year (December) and buy them back in January to hold and hope for gain in the upcoming years. Therefore, since December may see a dumping of the stock, its price could generally see a loss, and since January may see a hot pursuit for holding, its price could generally see a gain, and therefore the unusually high gain by the January effect.\n",
        "\n",
        "- Behaviorally, the January effect could also be due to higher earning expectation of the 4th quarter. For certain sectors such as consumer and retail, the holiday season usually provides a higher earning, and therefore with such expectation investors may choose to invest in these stocks to get better return when the 4th quarter results are announced. This, however, could not necessarily explain the movement of the entire market, as these sectors such as consumer and retail are only a small portion of it."
      ]
    },
    {
      "cell_type": "markdown",
      "metadata": {
        "id": "RdnCb5Dv_G1b"
      },
      "source": [
        "## b)\tDo the same as above for December by adding a December dummy variable as well to the regression (and still include the January dummy) and then compare the mean return in December to the mean return February through November (which is the intercept) to the mean return in January for the portfolios.  Is there a strong December and January seasonal that is different than other months and different from each other?  For which portfolios are these seasonalities largest or smallest?  Can you conjecture why these differences exist?\n"
      ]
    },
    {
      "cell_type": "markdown",
      "metadata": {
        "id": "sWavBGg01vXM"
      },
      "source": [
        "We have $$\\text{Excess return} = \\beta_0 + \\beta_1 \\mathbb{1}_{Jan} + \\beta_2 \\mathbb{1}_{Dec}.$$"
      ]
    },
    {
      "cell_type": "code",
      "metadata": {
        "id": "pxzxmspPPyp6"
      },
      "source": [
        "# Create December dummy variable\n",
        "dec_date = all_return_excess[all_return_excess.index.month==12].index\n",
        "all_return_excess['dec_dummy'] = [1 if x in dec_date else 0 for x in all_return_excess.index]"
      ],
      "execution_count": null,
      "outputs": []
    },
    {
      "cell_type": "code",
      "metadata": {
        "id": "1AmTC4At0HOw",
        "outputId": "835c2c2f-0351-4a1f-dd27-a3e8a0b6651a",
        "colab": {
          "base_uri": "https://localhost:8080/",
          "height": 419
        }
      },
      "source": [
        "beta0 = []\n",
        "beta1 = []\n",
        "beta2 = []\n",
        "p_value_beta0 = []\n",
        "p_value_beta1 = []\n",
        "p_value_beta2 = []\n",
        "\n",
        "for i in all_return_excess.iloc[:,0:75].columns:\n",
        "  x = sm.add_constant(all_return_excess[['jan_dummy','dec_dummy']]) \n",
        "  mod2 = sm.OLS(all_return_excess[i], x, missing='drop').fit()\n",
        "  beta0.append(mod2.params[0]) \n",
        "  beta1.append(mod2.params[1])\n",
        "  beta2.append(mod2.params[2])\n",
        "  p_value_beta0.append(mod2.pvalues[0]) \n",
        "  p_value_beta1.append(mod2.pvalues[1])\n",
        "  p_value_beta2.append(mod2.pvalues[2])\n",
        "\n",
        "# Table 3\n",
        "result2 = np.column_stack((beta0, beta1, beta2, p_value_beta0, p_value_beta1, p_value_beta2))\n",
        "result2 = pd.DataFrame(result2)\n",
        "result2.index = all_return_excess.iloc[:,0:75].columns\n",
        "result2.columns = [\"beta0\", \"beta1\", \"beta2\", \"p_value_beta0\", \"p_value_beta1\", \"p_value_beta2\"]\n",
        "result2"
      ],
      "execution_count": null,
      "outputs": [
        {
          "output_type": "execute_result",
          "data": {
            "text/html": [
              "<div>\n",
              "<style scoped>\n",
              "    .dataframe tbody tr th:only-of-type {\n",
              "        vertical-align: middle;\n",
              "    }\n",
              "\n",
              "    .dataframe tbody tr th {\n",
              "        vertical-align: top;\n",
              "    }\n",
              "\n",
              "    .dataframe thead th {\n",
              "        text-align: right;\n",
              "    }\n",
              "</style>\n",
              "<table border=\"1\" class=\"dataframe\">\n",
              "  <thead>\n",
              "    <tr style=\"text-align: right;\">\n",
              "      <th></th>\n",
              "      <th>beta0</th>\n",
              "      <th>beta1</th>\n",
              "      <th>beta2</th>\n",
              "      <th>p_value_beta0</th>\n",
              "      <th>p_value_beta1</th>\n",
              "      <th>p_value_beta2</th>\n",
              "    </tr>\n",
              "  </thead>\n",
              "  <tbody>\n",
              "    <tr>\n",
              "      <th>Low</th>\n",
              "      <td>1.464815</td>\n",
              "      <td>8.377095</td>\n",
              "      <td>-0.332568</td>\n",
              "      <td>0.000050</td>\n",
              "      <td>3.896619e-12</td>\n",
              "      <td>0.780483</td>\n",
              "    </tr>\n",
              "    <tr>\n",
              "      <th>2</th>\n",
              "      <td>0.765028</td>\n",
              "      <td>5.816545</td>\n",
              "      <td>0.000702</td>\n",
              "      <td>0.016630</td>\n",
              "      <td>4.868127e-08</td>\n",
              "      <td>0.999471</td>\n",
              "    </tr>\n",
              "    <tr>\n",
              "      <th>3</th>\n",
              "      <td>0.680011</td>\n",
              "      <td>4.899202</td>\n",
              "      <td>-0.292034</td>\n",
              "      <td>0.026194</td>\n",
              "      <td>1.535180e-06</td>\n",
              "      <td>0.773294</td>\n",
              "    </tr>\n",
              "    <tr>\n",
              "      <th>4</th>\n",
              "      <td>0.418249</td>\n",
              "      <td>4.564560</td>\n",
              "      <td>-0.539935</td>\n",
              "      <td>0.166265</td>\n",
              "      <td>5.818081e-06</td>\n",
              "      <td>0.590061</td>\n",
              "    </tr>\n",
              "    <tr>\n",
              "      <th>High</th>\n",
              "      <td>-0.414916</td>\n",
              "      <td>4.041657</td>\n",
              "      <td>-0.123062</td>\n",
              "      <td>0.175045</td>\n",
              "      <td>7.246352e-05</td>\n",
              "      <td>0.903479</td>\n",
              "    </tr>\n",
              "    <tr>\n",
              "      <th>...</th>\n",
              "      <td>...</td>\n",
              "      <td>...</td>\n",
              "      <td>...</td>\n",
              "      <td>...</td>\n",
              "      <td>...</td>\n",
              "      <td>...</td>\n",
              "    </tr>\n",
              "    <tr>\n",
              "      <th>Low.14</th>\n",
              "      <td>-1.591466</td>\n",
              "      <td>1.692642</td>\n",
              "      <td>1.861585</td>\n",
              "      <td>0.002492</td>\n",
              "      <td>3.301169e-01</td>\n",
              "      <td>0.286747</td>\n",
              "    </tr>\n",
              "    <tr>\n",
              "      <th>2.14</th>\n",
              "      <td>0.548582</td>\n",
              "      <td>1.009183</td>\n",
              "      <td>1.103323</td>\n",
              "      <td>0.016016</td>\n",
              "      <td>1.802025e-01</td>\n",
              "      <td>0.145071</td>\n",
              "    </tr>\n",
              "    <tr>\n",
              "      <th>3.14</th>\n",
              "      <td>0.603688</td>\n",
              "      <td>0.462665</td>\n",
              "      <td>0.700241</td>\n",
              "      <td>0.001981</td>\n",
              "      <td>4.728329e-01</td>\n",
              "      <td>0.279920</td>\n",
              "    </tr>\n",
              "    <tr>\n",
              "      <th>4.14</th>\n",
              "      <td>0.627482</td>\n",
              "      <td>-0.040423</td>\n",
              "      <td>0.872399</td>\n",
              "      <td>0.001002</td>\n",
              "      <td>9.488013e-01</td>\n",
              "      <td>0.168292</td>\n",
              "    </tr>\n",
              "    <tr>\n",
              "      <th>High.14</th>\n",
              "      <td>0.537009</td>\n",
              "      <td>-0.372892</td>\n",
              "      <td>0.707991</td>\n",
              "      <td>0.007514</td>\n",
              "      <td>5.742396e-01</td>\n",
              "      <td>0.288799</td>\n",
              "    </tr>\n",
              "  </tbody>\n",
              "</table>\n",
              "<p>75 rows × 6 columns</p>\n",
              "</div>"
            ],
            "text/plain": [
              "            beta0     beta1  ...  p_value_beta1  p_value_beta2\n",
              "Low      1.464815  8.377095  ...   3.896619e-12       0.780483\n",
              "2        0.765028  5.816545  ...   4.868127e-08       0.999471\n",
              "3        0.680011  4.899202  ...   1.535180e-06       0.773294\n",
              "4        0.418249  4.564560  ...   5.818081e-06       0.590061\n",
              "High    -0.414916  4.041657  ...   7.246352e-05       0.903479\n",
              "...           ...       ...  ...            ...            ...\n",
              "Low.14  -1.591466  1.692642  ...   3.301169e-01       0.286747\n",
              "2.14     0.548582  1.009183  ...   1.802025e-01       0.145071\n",
              "3.14     0.603688  0.462665  ...   4.728329e-01       0.279920\n",
              "4.14     0.627482 -0.040423  ...   9.488013e-01       0.168292\n",
              "High.14  0.537009 -0.372892  ...   5.742396e-01       0.288799\n",
              "\n",
              "[75 rows x 6 columns]"
            ]
          },
          "metadata": {
            "tags": []
          },
          "execution_count": 35
        }
      ]
    },
    {
      "cell_type": "code",
      "metadata": {
        "id": "tt389TjB2nG_",
        "outputId": "1af57707-117f-41f1-851f-b1c8d6f97296",
        "colab": {
          "base_uri": "https://localhost:8080/"
        }
      },
      "source": [
        "print(\"average beta0 =\", round(np.mean(result2['beta0'],),2), \"average beta1 =\", \\\n",
        "      round(np.mean(result2['beta1']),2), \"average beta2 =\", round(np.mean(result2['beta2']),2))\n",
        "\n",
        "# Compute combined p-values to make sure the result is significant\n",
        "_, combined_p_value_beta0 = scipy.stats.combine_pvalues(p_value_beta0, method='fisher', weights=None)\n",
        "_, combined_p_value_beta1 = scipy.stats.combine_pvalues(p_value_beta1, method='fisher', weights=None)\n",
        "_, combined_p_value_beta2 = scipy.stats.combine_pvalues(p_value_beta2, method='fisher', weights=None)\n",
        "\n",
        "print(\"Using Fisher's method, we compute the combined p-values, which p-value for beta0 =\", \\\n",
        "      round(combined_p_value_beta0,2), \", p-value for beta1 =\", round(combined_p_value_beta1,2), \\\n",
        "      \", p-value for beta2 =\", round(combined_p_value_beta2,2))"
      ],
      "execution_count": null,
      "outputs": [
        {
          "output_type": "stream",
          "text": [
            "average beta0 = 0.61 average beta1 = 2.58 average beta2 = 0.77\n",
            "Using Fisher's method, we compute the combined p-values, which p-value for beta0 = 0.0 , p-value for beta1 = 0.0 , p-value for beta2 = 0.0\n"
          ],
          "name": "stdout"
        }
      ]
    },
    {
      "cell_type": "code",
      "metadata": {
        "id": "GlCrrOEC6jbY",
        "outputId": "59318b58-b92b-4bed-f8a7-75185d38f9b8",
        "colab": {
          "base_uri": "https://localhost:8080/",
          "height": 582
        }
      },
      "source": [
        "# Table 4\n",
        "jan_effect2 = np.column_stack((result2['beta1'][0:25], result2['beta1'][25:50], result2['beta1'][50:75]))\n",
        "jan_effect2 = pd.DataFrame(jan_effect2)\n",
        "jan_effect2.index = result2['beta1'][0:25].index\n",
        "jan_effect2.columns = [\"past 1 mo return\", \"past 2-12 mo return\", \"past 13-60 mo return\"]\n",
        "jan_effect2.style.set_caption(\"January effect (value of beta1)\")"
      ],
      "execution_count": null,
      "outputs": [
        {
          "output_type": "execute_result",
          "data": {
            "text/html": [
              "<style  type=\"text/css\" >\n",
              "</style><table id=\"T_8badf546_1dda_11eb_bf54_0242ac1c0002\" ><caption>January effect (value of beta1)</caption><thead>    <tr>        <th class=\"blank level0\" ></th>        <th class=\"col_heading level0 col0\" >past 1 mo return</th>        <th class=\"col_heading level0 col1\" >past 2-12 mo return</th>        <th class=\"col_heading level0 col2\" >past 13-60 mo return</th>    </tr></thead><tbody>\n",
              "                <tr>\n",
              "                        <th id=\"T_8badf546_1dda_11eb_bf54_0242ac1c0002level0_row0\" class=\"row_heading level0 row0\" >Low</th>\n",
              "                        <td id=\"T_8badf546_1dda_11eb_bf54_0242ac1c0002row0_col0\" class=\"data row0 col0\" >8.377095</td>\n",
              "                        <td id=\"T_8badf546_1dda_11eb_bf54_0242ac1c0002row0_col1\" class=\"data row0 col1\" >8.402719</td>\n",
              "                        <td id=\"T_8badf546_1dda_11eb_bf54_0242ac1c0002row0_col2\" class=\"data row0 col2\" >8.305528</td>\n",
              "            </tr>\n",
              "            <tr>\n",
              "                        <th id=\"T_8badf546_1dda_11eb_bf54_0242ac1c0002level0_row1\" class=\"row_heading level0 row1\" >2</th>\n",
              "                        <td id=\"T_8badf546_1dda_11eb_bf54_0242ac1c0002row1_col0\" class=\"data row1 col0\" >5.816545</td>\n",
              "                        <td id=\"T_8badf546_1dda_11eb_bf54_0242ac1c0002row1_col1\" class=\"data row1 col1\" >6.266891</td>\n",
              "                        <td id=\"T_8badf546_1dda_11eb_bf54_0242ac1c0002row1_col2\" class=\"data row1 col2\" >5.584013</td>\n",
              "            </tr>\n",
              "            <tr>\n",
              "                        <th id=\"T_8badf546_1dda_11eb_bf54_0242ac1c0002level0_row2\" class=\"row_heading level0 row2\" >3</th>\n",
              "                        <td id=\"T_8badf546_1dda_11eb_bf54_0242ac1c0002row2_col0\" class=\"data row2 col0\" >4.899202</td>\n",
              "                        <td id=\"T_8badf546_1dda_11eb_bf54_0242ac1c0002row2_col1\" class=\"data row2 col1\" >5.155648</td>\n",
              "                        <td id=\"T_8badf546_1dda_11eb_bf54_0242ac1c0002row2_col2\" class=\"data row2 col2\" >4.174779</td>\n",
              "            </tr>\n",
              "            <tr>\n",
              "                        <th id=\"T_8badf546_1dda_11eb_bf54_0242ac1c0002level0_row3\" class=\"row_heading level0 row3\" >4</th>\n",
              "                        <td id=\"T_8badf546_1dda_11eb_bf54_0242ac1c0002row3_col0\" class=\"data row3 col0\" >4.564560</td>\n",
              "                        <td id=\"T_8badf546_1dda_11eb_bf54_0242ac1c0002row3_col1\" class=\"data row3 col1\" >4.340652</td>\n",
              "                        <td id=\"T_8badf546_1dda_11eb_bf54_0242ac1c0002row3_col2\" class=\"data row3 col2\" >4.193407</td>\n",
              "            </tr>\n",
              "            <tr>\n",
              "                        <th id=\"T_8badf546_1dda_11eb_bf54_0242ac1c0002level0_row4\" class=\"row_heading level0 row4\" >High</th>\n",
              "                        <td id=\"T_8badf546_1dda_11eb_bf54_0242ac1c0002row4_col0\" class=\"data row4 col0\" >4.041657</td>\n",
              "                        <td id=\"T_8badf546_1dda_11eb_bf54_0242ac1c0002row4_col1\" class=\"data row4 col1\" >4.218613</td>\n",
              "                        <td id=\"T_8badf546_1dda_11eb_bf54_0242ac1c0002row4_col2\" class=\"data row4 col2\" >3.459448</td>\n",
              "            </tr>\n",
              "            <tr>\n",
              "                        <th id=\"T_8badf546_1dda_11eb_bf54_0242ac1c0002level0_row5\" class=\"row_heading level0 row5\" >Low.1</th>\n",
              "                        <td id=\"T_8badf546_1dda_11eb_bf54_0242ac1c0002row5_col0\" class=\"data row5 col0\" >4.708637</td>\n",
              "                        <td id=\"T_8badf546_1dda_11eb_bf54_0242ac1c0002row5_col1\" class=\"data row5 col1\" >4.806068</td>\n",
              "                        <td id=\"T_8badf546_1dda_11eb_bf54_0242ac1c0002row5_col2\" class=\"data row5 col2\" >5.059509</td>\n",
              "            </tr>\n",
              "            <tr>\n",
              "                        <th id=\"T_8badf546_1dda_11eb_bf54_0242ac1c0002level0_row6\" class=\"row_heading level0 row6\" >2.1</th>\n",
              "                        <td id=\"T_8badf546_1dda_11eb_bf54_0242ac1c0002row6_col0\" class=\"data row6 col0\" >3.672384</td>\n",
              "                        <td id=\"T_8badf546_1dda_11eb_bf54_0242ac1c0002row6_col1\" class=\"data row6 col1\" >3.827932</td>\n",
              "                        <td id=\"T_8badf546_1dda_11eb_bf54_0242ac1c0002row6_col2\" class=\"data row6 col2\" >3.512497</td>\n",
              "            </tr>\n",
              "            <tr>\n",
              "                        <th id=\"T_8badf546_1dda_11eb_bf54_0242ac1c0002level0_row7\" class=\"row_heading level0 row7\" >3.1</th>\n",
              "                        <td id=\"T_8badf546_1dda_11eb_bf54_0242ac1c0002row7_col0\" class=\"data row7 col0\" >2.895390</td>\n",
              "                        <td id=\"T_8badf546_1dda_11eb_bf54_0242ac1c0002row7_col1\" class=\"data row7 col1\" >2.953008</td>\n",
              "                        <td id=\"T_8badf546_1dda_11eb_bf54_0242ac1c0002row7_col2\" class=\"data row7 col2\" >2.641403</td>\n",
              "            </tr>\n",
              "            <tr>\n",
              "                        <th id=\"T_8badf546_1dda_11eb_bf54_0242ac1c0002level0_row8\" class=\"row_heading level0 row8\" >4.1</th>\n",
              "                        <td id=\"T_8badf546_1dda_11eb_bf54_0242ac1c0002row8_col0\" class=\"data row8 col0\" >2.715101</td>\n",
              "                        <td id=\"T_8badf546_1dda_11eb_bf54_0242ac1c0002row8_col1\" class=\"data row8 col1\" >2.362708</td>\n",
              "                        <td id=\"T_8badf546_1dda_11eb_bf54_0242ac1c0002row8_col2\" class=\"data row8 col2\" >2.057973</td>\n",
              "            </tr>\n",
              "            <tr>\n",
              "                        <th id=\"T_8badf546_1dda_11eb_bf54_0242ac1c0002level0_row9\" class=\"row_heading level0 row9\" >High.1</th>\n",
              "                        <td id=\"T_8badf546_1dda_11eb_bf54_0242ac1c0002row9_col0\" class=\"data row9 col0\" >2.071407</td>\n",
              "                        <td id=\"T_8badf546_1dda_11eb_bf54_0242ac1c0002row9_col1\" class=\"data row9 col1\" >2.156090</td>\n",
              "                        <td id=\"T_8badf546_1dda_11eb_bf54_0242ac1c0002row9_col2\" class=\"data row9 col2\" >2.047976</td>\n",
              "            </tr>\n",
              "            <tr>\n",
              "                        <th id=\"T_8badf546_1dda_11eb_bf54_0242ac1c0002level0_row10\" class=\"row_heading level0 row10\" >Low.2</th>\n",
              "                        <td id=\"T_8badf546_1dda_11eb_bf54_0242ac1c0002row10_col0\" class=\"data row10 col0\" >3.677179</td>\n",
              "                        <td id=\"T_8badf546_1dda_11eb_bf54_0242ac1c0002row10_col1\" class=\"data row10 col1\" >3.629206</td>\n",
              "                        <td id=\"T_8badf546_1dda_11eb_bf54_0242ac1c0002row10_col2\" class=\"data row10 col2\" >4.370214</td>\n",
              "            </tr>\n",
              "            <tr>\n",
              "                        <th id=\"T_8badf546_1dda_11eb_bf54_0242ac1c0002level0_row11\" class=\"row_heading level0 row11\" >2.2</th>\n",
              "                        <td id=\"T_8badf546_1dda_11eb_bf54_0242ac1c0002row11_col0\" class=\"data row11 col0\" >2.837777</td>\n",
              "                        <td id=\"T_8badf546_1dda_11eb_bf54_0242ac1c0002row11_col1\" class=\"data row11 col1\" >2.555629</td>\n",
              "                        <td id=\"T_8badf546_1dda_11eb_bf54_0242ac1c0002row11_col2\" class=\"data row11 col2\" >2.502714</td>\n",
              "            </tr>\n",
              "            <tr>\n",
              "                        <th id=\"T_8badf546_1dda_11eb_bf54_0242ac1c0002level0_row12\" class=\"row_heading level0 row12\" >3.2</th>\n",
              "                        <td id=\"T_8badf546_1dda_11eb_bf54_0242ac1c0002row12_col0\" class=\"data row12 col0\" >2.309042</td>\n",
              "                        <td id=\"T_8badf546_1dda_11eb_bf54_0242ac1c0002row12_col1\" class=\"data row12 col1\" >2.124883</td>\n",
              "                        <td id=\"T_8badf546_1dda_11eb_bf54_0242ac1c0002row12_col2\" class=\"data row12 col2\" >2.190640</td>\n",
              "            </tr>\n",
              "            <tr>\n",
              "                        <th id=\"T_8badf546_1dda_11eb_bf54_0242ac1c0002level0_row13\" class=\"row_heading level0 row13\" >4.2</th>\n",
              "                        <td id=\"T_8badf546_1dda_11eb_bf54_0242ac1c0002row13_col0\" class=\"data row13 col0\" >1.923691</td>\n",
              "                        <td id=\"T_8badf546_1dda_11eb_bf54_0242ac1c0002row13_col1\" class=\"data row13 col1\" >1.620434</td>\n",
              "                        <td id=\"T_8badf546_1dda_11eb_bf54_0242ac1c0002row13_col2\" class=\"data row13 col2\" >1.504691</td>\n",
              "            </tr>\n",
              "            <tr>\n",
              "                        <th id=\"T_8badf546_1dda_11eb_bf54_0242ac1c0002level0_row14\" class=\"row_heading level0 row14\" >High.2</th>\n",
              "                        <td id=\"T_8badf546_1dda_11eb_bf54_0242ac1c0002row14_col0\" class=\"data row14 col0\" >0.898182</td>\n",
              "                        <td id=\"T_8badf546_1dda_11eb_bf54_0242ac1c0002row14_col1\" class=\"data row14 col1\" >1.302950</td>\n",
              "                        <td id=\"T_8badf546_1dda_11eb_bf54_0242ac1c0002row14_col2\" class=\"data row14 col2\" >1.416556</td>\n",
              "            </tr>\n",
              "            <tr>\n",
              "                        <th id=\"T_8badf546_1dda_11eb_bf54_0242ac1c0002level0_row15\" class=\"row_heading level0 row15\" >Low.3</th>\n",
              "                        <td id=\"T_8badf546_1dda_11eb_bf54_0242ac1c0002row15_col0\" class=\"data row15 col0\" >2.374174</td>\n",
              "                        <td id=\"T_8badf546_1dda_11eb_bf54_0242ac1c0002row15_col1\" class=\"data row15 col1\" >2.588304</td>\n",
              "                        <td id=\"T_8badf546_1dda_11eb_bf54_0242ac1c0002row15_col2\" class=\"data row15 col2\" >2.719486</td>\n",
              "            </tr>\n",
              "            <tr>\n",
              "                        <th id=\"T_8badf546_1dda_11eb_bf54_0242ac1c0002level0_row16\" class=\"row_heading level0 row16\" >2.3</th>\n",
              "                        <td id=\"T_8badf546_1dda_11eb_bf54_0242ac1c0002row16_col0\" class=\"data row16 col0\" >1.967947</td>\n",
              "                        <td id=\"T_8badf546_1dda_11eb_bf54_0242ac1c0002row16_col1\" class=\"data row16 col1\" >1.800753</td>\n",
              "                        <td id=\"T_8badf546_1dda_11eb_bf54_0242ac1c0002row16_col2\" class=\"data row16 col2\" >1.578373</td>\n",
              "            </tr>\n",
              "            <tr>\n",
              "                        <th id=\"T_8badf546_1dda_11eb_bf54_0242ac1c0002level0_row17\" class=\"row_heading level0 row17\" >3.3</th>\n",
              "                        <td id=\"T_8badf546_1dda_11eb_bf54_0242ac1c0002row17_col0\" class=\"data row17 col0\" >1.683748</td>\n",
              "                        <td id=\"T_8badf546_1dda_11eb_bf54_0242ac1c0002row17_col1\" class=\"data row17 col1\" >1.300480</td>\n",
              "                        <td id=\"T_8badf546_1dda_11eb_bf54_0242ac1c0002row17_col2\" class=\"data row17 col2\" >1.327787</td>\n",
              "            </tr>\n",
              "            <tr>\n",
              "                        <th id=\"T_8badf546_1dda_11eb_bf54_0242ac1c0002level0_row18\" class=\"row_heading level0 row18\" >4.3</th>\n",
              "                        <td id=\"T_8badf546_1dda_11eb_bf54_0242ac1c0002row18_col0\" class=\"data row18 col0\" >0.717681</td>\n",
              "                        <td id=\"T_8badf546_1dda_11eb_bf54_0242ac1c0002row18_col1\" class=\"data row18 col1\" >0.746202</td>\n",
              "                        <td id=\"T_8badf546_1dda_11eb_bf54_0242ac1c0002row18_col2\" class=\"data row18 col2\" >1.007875</td>\n",
              "            </tr>\n",
              "            <tr>\n",
              "                        <th id=\"T_8badf546_1dda_11eb_bf54_0242ac1c0002level0_row19\" class=\"row_heading level0 row19\" >High.3</th>\n",
              "                        <td id=\"T_8badf546_1dda_11eb_bf54_0242ac1c0002row19_col0\" class=\"data row19 col0\" >0.137313</td>\n",
              "                        <td id=\"T_8badf546_1dda_11eb_bf54_0242ac1c0002row19_col1\" class=\"data row19 col1\" >0.478664</td>\n",
              "                        <td id=\"T_8badf546_1dda_11eb_bf54_0242ac1c0002row19_col2\" class=\"data row19 col2\" >0.456741</td>\n",
              "            </tr>\n",
              "            <tr>\n",
              "                        <th id=\"T_8badf546_1dda_11eb_bf54_0242ac1c0002level0_row20\" class=\"row_heading level0 row20\" >Low.4</th>\n",
              "                        <td id=\"T_8badf546_1dda_11eb_bf54_0242ac1c0002row20_col0\" class=\"data row20 col0\" >1.222089</td>\n",
              "                        <td id=\"T_8badf546_1dda_11eb_bf54_0242ac1c0002row20_col1\" class=\"data row20 col1\" >2.411306</td>\n",
              "                        <td id=\"T_8badf546_1dda_11eb_bf54_0242ac1c0002row20_col2\" class=\"data row20 col2\" >1.692642</td>\n",
              "            </tr>\n",
              "            <tr>\n",
              "                        <th id=\"T_8badf546_1dda_11eb_bf54_0242ac1c0002level0_row21\" class=\"row_heading level0 row21\" >2.4</th>\n",
              "                        <td id=\"T_8badf546_1dda_11eb_bf54_0242ac1c0002row21_col0\" class=\"data row21 col0\" >0.791814</td>\n",
              "                        <td id=\"T_8badf546_1dda_11eb_bf54_0242ac1c0002row21_col1\" class=\"data row21 col1\" >1.103584</td>\n",
              "                        <td id=\"T_8badf546_1dda_11eb_bf54_0242ac1c0002row21_col2\" class=\"data row21 col2\" >1.009183</td>\n",
              "            </tr>\n",
              "            <tr>\n",
              "                        <th id=\"T_8badf546_1dda_11eb_bf54_0242ac1c0002level0_row22\" class=\"row_heading level0 row22\" >3.4</th>\n",
              "                        <td id=\"T_8badf546_1dda_11eb_bf54_0242ac1c0002row22_col0\" class=\"data row22 col0\" >0.275543</td>\n",
              "                        <td id=\"T_8badf546_1dda_11eb_bf54_0242ac1c0002row22_col1\" class=\"data row22 col1\" >0.328763</td>\n",
              "                        <td id=\"T_8badf546_1dda_11eb_bf54_0242ac1c0002row22_col2\" class=\"data row22 col2\" >0.462665</td>\n",
              "            </tr>\n",
              "            <tr>\n",
              "                        <th id=\"T_8badf546_1dda_11eb_bf54_0242ac1c0002level0_row23\" class=\"row_heading level0 row23\" >4.4</th>\n",
              "                        <td id=\"T_8badf546_1dda_11eb_bf54_0242ac1c0002row23_col0\" class=\"data row23 col0\" >0.236330</td>\n",
              "                        <td id=\"T_8badf546_1dda_11eb_bf54_0242ac1c0002row23_col1\" class=\"data row23 col1\" >-0.009392</td>\n",
              "                        <td id=\"T_8badf546_1dda_11eb_bf54_0242ac1c0002row23_col2\" class=\"data row23 col2\" >-0.040423</td>\n",
              "            </tr>\n",
              "            <tr>\n",
              "                        <th id=\"T_8badf546_1dda_11eb_bf54_0242ac1c0002level0_row24\" class=\"row_heading level0 row24\" >High.4</th>\n",
              "                        <td id=\"T_8badf546_1dda_11eb_bf54_0242ac1c0002row24_col0\" class=\"data row24 col0\" >-0.349548</td>\n",
              "                        <td id=\"T_8badf546_1dda_11eb_bf54_0242ac1c0002row24_col1\" class=\"data row24 col1\" >-0.499862</td>\n",
              "                        <td id=\"T_8badf546_1dda_11eb_bf54_0242ac1c0002row24_col2\" class=\"data row24 col2\" >-0.372892</td>\n",
              "            </tr>\n",
              "    </tbody></table>"
            ],
            "text/plain": [
              "<pandas.io.formats.style.Styler at 0x7fdc4f352400>"
            ]
          },
          "metadata": {
            "tags": []
          },
          "execution_count": 37
        }
      ]
    },
    {
      "cell_type": "code",
      "metadata": {
        "id": "SqgGyHBj3_JT",
        "outputId": "1b924cdc-4444-4adb-ff5e-fa1c450bf770",
        "colab": {
          "base_uri": "https://localhost:8080/",
          "height": 582
        }
      },
      "source": [
        "# Table 5\n",
        "dec_effect = np.column_stack((result2['beta2'][0:25], result2['beta2'][25:50], result2['beta2'][50:75]))\n",
        "dec_effect = pd.DataFrame(dec_effect)\n",
        "dec_effect.index = result2['beta2'][0:25].index\n",
        "dec_effect.columns = [\"past 1 mo return\", \"past 2-12 mo return\", \"past 13-60 mo return\"]\n",
        "dec_effect.style.set_caption(\"December effect (value of beta2)\")"
      ],
      "execution_count": null,
      "outputs": [
        {
          "output_type": "execute_result",
          "data": {
            "text/html": [
              "<style  type=\"text/css\" >\n",
              "</style><table id=\"T_8d3b570a_1dda_11eb_bf54_0242ac1c0002\" ><caption>December effect (value of beta2)</caption><thead>    <tr>        <th class=\"blank level0\" ></th>        <th class=\"col_heading level0 col0\" >past 1 mo return</th>        <th class=\"col_heading level0 col1\" >past 2-12 mo return</th>        <th class=\"col_heading level0 col2\" >past 13-60 mo return</th>    </tr></thead><tbody>\n",
              "                <tr>\n",
              "                        <th id=\"T_8d3b570a_1dda_11eb_bf54_0242ac1c0002level0_row0\" class=\"row_heading level0 row0\" >Low</th>\n",
              "                        <td id=\"T_8d3b570a_1dda_11eb_bf54_0242ac1c0002row0_col0\" class=\"data row0 col0\" >-0.332568</td>\n",
              "                        <td id=\"T_8d3b570a_1dda_11eb_bf54_0242ac1c0002row0_col1\" class=\"data row0 col1\" >-1.182108</td>\n",
              "                        <td id=\"T_8d3b570a_1dda_11eb_bf54_0242ac1c0002row0_col2\" class=\"data row0 col2\" >-0.275594</td>\n",
              "            </tr>\n",
              "            <tr>\n",
              "                        <th id=\"T_8d3b570a_1dda_11eb_bf54_0242ac1c0002level0_row1\" class=\"row_heading level0 row1\" >2</th>\n",
              "                        <td id=\"T_8d3b570a_1dda_11eb_bf54_0242ac1c0002row1_col0\" class=\"data row1 col0\" >0.000702</td>\n",
              "                        <td id=\"T_8d3b570a_1dda_11eb_bf54_0242ac1c0002row1_col1\" class=\"data row1 col1\" >-0.513550</td>\n",
              "                        <td id=\"T_8d3b570a_1dda_11eb_bf54_0242ac1c0002row1_col2\" class=\"data row1 col2\" >0.072986</td>\n",
              "            </tr>\n",
              "            <tr>\n",
              "                        <th id=\"T_8d3b570a_1dda_11eb_bf54_0242ac1c0002level0_row2\" class=\"row_heading level0 row2\" >3</th>\n",
              "                        <td id=\"T_8d3b570a_1dda_11eb_bf54_0242ac1c0002row2_col0\" class=\"data row2 col0\" >-0.292034</td>\n",
              "                        <td id=\"T_8d3b570a_1dda_11eb_bf54_0242ac1c0002row2_col1\" class=\"data row2 col1\" >-0.519762</td>\n",
              "                        <td id=\"T_8d3b570a_1dda_11eb_bf54_0242ac1c0002row2_col2\" class=\"data row2 col2\" >0.253430</td>\n",
              "            </tr>\n",
              "            <tr>\n",
              "                        <th id=\"T_8d3b570a_1dda_11eb_bf54_0242ac1c0002level0_row3\" class=\"row_heading level0 row3\" >4</th>\n",
              "                        <td id=\"T_8d3b570a_1dda_11eb_bf54_0242ac1c0002row3_col0\" class=\"data row3 col0\" >-0.539935</td>\n",
              "                        <td id=\"T_8d3b570a_1dda_11eb_bf54_0242ac1c0002row3_col1\" class=\"data row3 col1\" >0.114892</td>\n",
              "                        <td id=\"T_8d3b570a_1dda_11eb_bf54_0242ac1c0002row3_col2\" class=\"data row3 col2\" >-0.020112</td>\n",
              "            </tr>\n",
              "            <tr>\n",
              "                        <th id=\"T_8d3b570a_1dda_11eb_bf54_0242ac1c0002level0_row4\" class=\"row_heading level0 row4\" >High</th>\n",
              "                        <td id=\"T_8d3b570a_1dda_11eb_bf54_0242ac1c0002row4_col0\" class=\"data row4 col0\" >-0.123062</td>\n",
              "                        <td id=\"T_8d3b570a_1dda_11eb_bf54_0242ac1c0002row4_col1\" class=\"data row4 col1\" >1.074832</td>\n",
              "                        <td id=\"T_8d3b570a_1dda_11eb_bf54_0242ac1c0002row4_col2\" class=\"data row4 col2\" >-0.434787</td>\n",
              "            </tr>\n",
              "            <tr>\n",
              "                        <th id=\"T_8d3b570a_1dda_11eb_bf54_0242ac1c0002level0_row5\" class=\"row_heading level0 row5\" >Low.1</th>\n",
              "                        <td id=\"T_8d3b570a_1dda_11eb_bf54_0242ac1c0002row5_col0\" class=\"data row5 col0\" >0.779760</td>\n",
              "                        <td id=\"T_8d3b570a_1dda_11eb_bf54_0242ac1c0002row5_col1\" class=\"data row5 col1\" >-0.185711</td>\n",
              "                        <td id=\"T_8d3b570a_1dda_11eb_bf54_0242ac1c0002row5_col2\" class=\"data row5 col2\" >0.843781</td>\n",
              "            </tr>\n",
              "            <tr>\n",
              "                        <th id=\"T_8d3b570a_1dda_11eb_bf54_0242ac1c0002level0_row6\" class=\"row_heading level0 row6\" >2.1</th>\n",
              "                        <td id=\"T_8d3b570a_1dda_11eb_bf54_0242ac1c0002row6_col0\" class=\"data row6 col0\" >0.838002</td>\n",
              "                        <td id=\"T_8d3b570a_1dda_11eb_bf54_0242ac1c0002row6_col1\" class=\"data row6 col1\" >0.433195</td>\n",
              "                        <td id=\"T_8d3b570a_1dda_11eb_bf54_0242ac1c0002row6_col2\" class=\"data row6 col2\" >1.062133</td>\n",
              "            </tr>\n",
              "            <tr>\n",
              "                        <th id=\"T_8d3b570a_1dda_11eb_bf54_0242ac1c0002level0_row7\" class=\"row_heading level0 row7\" >3.1</th>\n",
              "                        <td id=\"T_8d3b570a_1dda_11eb_bf54_0242ac1c0002row7_col0\" class=\"data row7 col0\" >0.785839</td>\n",
              "                        <td id=\"T_8d3b570a_1dda_11eb_bf54_0242ac1c0002row7_col1\" class=\"data row7 col1\" >0.966800</td>\n",
              "                        <td id=\"T_8d3b570a_1dda_11eb_bf54_0242ac1c0002row7_col2\" class=\"data row7 col2\" >1.097513</td>\n",
              "            </tr>\n",
              "            <tr>\n",
              "                        <th id=\"T_8d3b570a_1dda_11eb_bf54_0242ac1c0002level0_row8\" class=\"row_heading level0 row8\" >4.1</th>\n",
              "                        <td id=\"T_8d3b570a_1dda_11eb_bf54_0242ac1c0002row8_col0\" class=\"data row8 col0\" >1.097686</td>\n",
              "                        <td id=\"T_8d3b570a_1dda_11eb_bf54_0242ac1c0002row8_col1\" class=\"data row8 col1\" >1.453051</td>\n",
              "                        <td id=\"T_8d3b570a_1dda_11eb_bf54_0242ac1c0002row8_col2\" class=\"data row8 col2\" >0.803940</td>\n",
              "            </tr>\n",
              "            <tr>\n",
              "                        <th id=\"T_8d3b570a_1dda_11eb_bf54_0242ac1c0002level0_row9\" class=\"row_heading level0 row9\" >High.1</th>\n",
              "                        <td id=\"T_8d3b570a_1dda_11eb_bf54_0242ac1c0002row9_col0\" class=\"data row9 col0\" >1.090059</td>\n",
              "                        <td id=\"T_8d3b570a_1dda_11eb_bf54_0242ac1c0002row9_col1\" class=\"data row9 col1\" >1.596216</td>\n",
              "                        <td id=\"T_8d3b570a_1dda_11eb_bf54_0242ac1c0002row9_col2\" class=\"data row9 col2\" >0.687388</td>\n",
              "            </tr>\n",
              "            <tr>\n",
              "                        <th id=\"T_8d3b570a_1dda_11eb_bf54_0242ac1c0002level0_row10\" class=\"row_heading level0 row10\" >Low.2</th>\n",
              "                        <td id=\"T_8d3b570a_1dda_11eb_bf54_0242ac1c0002row10_col0\" class=\"data row10 col0\" >1.225044</td>\n",
              "                        <td id=\"T_8d3b570a_1dda_11eb_bf54_0242ac1c0002row10_col1\" class=\"data row10 col1\" >0.577540</td>\n",
              "                        <td id=\"T_8d3b570a_1dda_11eb_bf54_0242ac1c0002row10_col2\" class=\"data row10 col2\" >1.548931</td>\n",
              "            </tr>\n",
              "            <tr>\n",
              "                        <th id=\"T_8d3b570a_1dda_11eb_bf54_0242ac1c0002level0_row11\" class=\"row_heading level0 row11\" >2.2</th>\n",
              "                        <td id=\"T_8d3b570a_1dda_11eb_bf54_0242ac1c0002row11_col0\" class=\"data row11 col0\" >0.955980</td>\n",
              "                        <td id=\"T_8d3b570a_1dda_11eb_bf54_0242ac1c0002row11_col1\" class=\"data row11 col1\" >0.741858</td>\n",
              "                        <td id=\"T_8d3b570a_1dda_11eb_bf54_0242ac1c0002row11_col2\" class=\"data row11 col2\" >1.181952</td>\n",
              "            </tr>\n",
              "            <tr>\n",
              "                        <th id=\"T_8d3b570a_1dda_11eb_bf54_0242ac1c0002level0_row12\" class=\"row_heading level0 row12\" >3.2</th>\n",
              "                        <td id=\"T_8d3b570a_1dda_11eb_bf54_0242ac1c0002row12_col0\" class=\"data row12 col0\" >1.203648</td>\n",
              "                        <td id=\"T_8d3b570a_1dda_11eb_bf54_0242ac1c0002row12_col1\" class=\"data row12 col1\" >0.905432</td>\n",
              "                        <td id=\"T_8d3b570a_1dda_11eb_bf54_0242ac1c0002row12_col2\" class=\"data row12 col2\" >1.533939</td>\n",
              "            </tr>\n",
              "            <tr>\n",
              "                        <th id=\"T_8d3b570a_1dda_11eb_bf54_0242ac1c0002level0_row13\" class=\"row_heading level0 row13\" >4.2</th>\n",
              "                        <td id=\"T_8d3b570a_1dda_11eb_bf54_0242ac1c0002row13_col0\" class=\"data row13 col0\" >1.266949</td>\n",
              "                        <td id=\"T_8d3b570a_1dda_11eb_bf54_0242ac1c0002row13_col1\" class=\"data row13 col1\" >1.490193</td>\n",
              "                        <td id=\"T_8d3b570a_1dda_11eb_bf54_0242ac1c0002row13_col2\" class=\"data row13 col2\" >0.908712</td>\n",
              "            </tr>\n",
              "            <tr>\n",
              "                        <th id=\"T_8d3b570a_1dda_11eb_bf54_0242ac1c0002level0_row14\" class=\"row_heading level0 row14\" >High.2</th>\n",
              "                        <td id=\"T_8d3b570a_1dda_11eb_bf54_0242ac1c0002row14_col0\" class=\"data row14 col0\" >1.283688</td>\n",
              "                        <td id=\"T_8d3b570a_1dda_11eb_bf54_0242ac1c0002row14_col1\" class=\"data row14 col1\" >1.966349</td>\n",
              "                        <td id=\"T_8d3b570a_1dda_11eb_bf54_0242ac1c0002row14_col2\" class=\"data row14 col2\" >0.918948</td>\n",
              "            </tr>\n",
              "            <tr>\n",
              "                        <th id=\"T_8d3b570a_1dda_11eb_bf54_0242ac1c0002level0_row15\" class=\"row_heading level0 row15\" >Low.3</th>\n",
              "                        <td id=\"T_8d3b570a_1dda_11eb_bf54_0242ac1c0002row15_col0\" class=\"data row15 col0\" >1.142264</td>\n",
              "                        <td id=\"T_8d3b570a_1dda_11eb_bf54_0242ac1c0002row15_col1\" class=\"data row15 col1\" >0.157460</td>\n",
              "                        <td id=\"T_8d3b570a_1dda_11eb_bf54_0242ac1c0002row15_col2\" class=\"data row15 col2\" >0.830839</td>\n",
              "            </tr>\n",
              "            <tr>\n",
              "                        <th id=\"T_8d3b570a_1dda_11eb_bf54_0242ac1c0002level0_row16\" class=\"row_heading level0 row16\" >2.3</th>\n",
              "                        <td id=\"T_8d3b570a_1dda_11eb_bf54_0242ac1c0002row16_col0\" class=\"data row16 col0\" >0.992217</td>\n",
              "                        <td id=\"T_8d3b570a_1dda_11eb_bf54_0242ac1c0002row16_col1\" class=\"data row16 col1\" >0.678290</td>\n",
              "                        <td id=\"T_8d3b570a_1dda_11eb_bf54_0242ac1c0002row16_col2\" class=\"data row16 col2\" >1.094940</td>\n",
              "            </tr>\n",
              "            <tr>\n",
              "                        <th id=\"T_8d3b570a_1dda_11eb_bf54_0242ac1c0002level0_row17\" class=\"row_heading level0 row17\" >3.3</th>\n",
              "                        <td id=\"T_8d3b570a_1dda_11eb_bf54_0242ac1c0002row17_col0\" class=\"data row17 col0\" >1.486670</td>\n",
              "                        <td id=\"T_8d3b570a_1dda_11eb_bf54_0242ac1c0002row17_col1\" class=\"data row17 col1\" >0.918107</td>\n",
              "                        <td id=\"T_8d3b570a_1dda_11eb_bf54_0242ac1c0002row17_col2\" class=\"data row17 col2\" >1.268478</td>\n",
              "            </tr>\n",
              "            <tr>\n",
              "                        <th id=\"T_8d3b570a_1dda_11eb_bf54_0242ac1c0002level0_row18\" class=\"row_heading level0 row18\" >4.3</th>\n",
              "                        <td id=\"T_8d3b570a_1dda_11eb_bf54_0242ac1c0002row18_col0\" class=\"data row18 col0\" >1.120378</td>\n",
              "                        <td id=\"T_8d3b570a_1dda_11eb_bf54_0242ac1c0002row18_col1\" class=\"data row18 col1\" >1.401217</td>\n",
              "                        <td id=\"T_8d3b570a_1dda_11eb_bf54_0242ac1c0002row18_col2\" class=\"data row18 col2\" >1.266826</td>\n",
              "            </tr>\n",
              "            <tr>\n",
              "                        <th id=\"T_8d3b570a_1dda_11eb_bf54_0242ac1c0002level0_row19\" class=\"row_heading level0 row19\" >High.3</th>\n",
              "                        <td id=\"T_8d3b570a_1dda_11eb_bf54_0242ac1c0002row19_col0\" class=\"data row19 col0\" >1.316189</td>\n",
              "                        <td id=\"T_8d3b570a_1dda_11eb_bf54_0242ac1c0002row19_col1\" class=\"data row19 col1\" >2.105208</td>\n",
              "                        <td id=\"T_8d3b570a_1dda_11eb_bf54_0242ac1c0002row19_col2\" class=\"data row19 col2\" >1.212031</td>\n",
              "            </tr>\n",
              "            <tr>\n",
              "                        <th id=\"T_8d3b570a_1dda_11eb_bf54_0242ac1c0002level0_row20\" class=\"row_heading level0 row20\" >Low.4</th>\n",
              "                        <td id=\"T_8d3b570a_1dda_11eb_bf54_0242ac1c0002row20_col0\" class=\"data row20 col0\" >0.628719</td>\n",
              "                        <td id=\"T_8d3b570a_1dda_11eb_bf54_0242ac1c0002row20_col1\" class=\"data row20 col1\" >0.060377</td>\n",
              "                        <td id=\"T_8d3b570a_1dda_11eb_bf54_0242ac1c0002row20_col2\" class=\"data row20 col2\" >1.861585</td>\n",
              "            </tr>\n",
              "            <tr>\n",
              "                        <th id=\"T_8d3b570a_1dda_11eb_bf54_0242ac1c0002level0_row21\" class=\"row_heading level0 row21\" >2.4</th>\n",
              "                        <td id=\"T_8d3b570a_1dda_11eb_bf54_0242ac1c0002row21_col0\" class=\"data row21 col0\" >0.775297</td>\n",
              "                        <td id=\"T_8d3b570a_1dda_11eb_bf54_0242ac1c0002row21_col1\" class=\"data row21 col1\" >-0.040550</td>\n",
              "                        <td id=\"T_8d3b570a_1dda_11eb_bf54_0242ac1c0002row21_col2\" class=\"data row21 col2\" >1.103323</td>\n",
              "            </tr>\n",
              "            <tr>\n",
              "                        <th id=\"T_8d3b570a_1dda_11eb_bf54_0242ac1c0002level0_row22\" class=\"row_heading level0 row22\" >3.4</th>\n",
              "                        <td id=\"T_8d3b570a_1dda_11eb_bf54_0242ac1c0002row22_col0\" class=\"data row22 col0\" >0.921386</td>\n",
              "                        <td id=\"T_8d3b570a_1dda_11eb_bf54_0242ac1c0002row22_col1\" class=\"data row22 col1\" >0.607757</td>\n",
              "                        <td id=\"T_8d3b570a_1dda_11eb_bf54_0242ac1c0002row22_col2\" class=\"data row22 col2\" >0.700241</td>\n",
              "            </tr>\n",
              "            <tr>\n",
              "                        <th id=\"T_8d3b570a_1dda_11eb_bf54_0242ac1c0002level0_row23\" class=\"row_heading level0 row23\" >4.4</th>\n",
              "                        <td id=\"T_8d3b570a_1dda_11eb_bf54_0242ac1c0002row23_col0\" class=\"data row23 col0\" >0.924308</td>\n",
              "                        <td id=\"T_8d3b570a_1dda_11eb_bf54_0242ac1c0002row23_col1\" class=\"data row23 col1\" >1.023111</td>\n",
              "                        <td id=\"T_8d3b570a_1dda_11eb_bf54_0242ac1c0002row23_col2\" class=\"data row23 col2\" >0.872399</td>\n",
              "            </tr>\n",
              "            <tr>\n",
              "                        <th id=\"T_8d3b570a_1dda_11eb_bf54_0242ac1c0002level0_row24\" class=\"row_heading level0 row24\" >High.4</th>\n",
              "                        <td id=\"T_8d3b570a_1dda_11eb_bf54_0242ac1c0002row24_col0\" class=\"data row24 col0\" >0.602475</td>\n",
              "                        <td id=\"T_8d3b570a_1dda_11eb_bf54_0242ac1c0002row24_col1\" class=\"data row24 col1\" >1.475103</td>\n",
              "                        <td id=\"T_8d3b570a_1dda_11eb_bf54_0242ac1c0002row24_col2\" class=\"data row24 col2\" >0.707991</td>\n",
              "            </tr>\n",
              "    </tbody></table>"
            ],
            "text/plain": [
              "<pandas.io.formats.style.Styler at 0x7fdc4f352c88>"
            ]
          },
          "metadata": {
            "tags": []
          },
          "execution_count": 38
        }
      ]
    },
    {
      "cell_type": "markdown",
      "metadata": {
        "id": "I4r9cMa-5GGF"
      },
      "source": [
        "- From the mean estimates and p-values, There is a strong January and December seasonal comparing with Feb-Nov. The January effect is stronger from December effect because on average $\\beta_1>\\beta_2$ and the individual p-values are larger for $\\beta_2$ than ones for $\\beta_1$\n",
        "\n",
        "- From Table 4, the small size & low past 2-12 month return portfolio has the largest January seasonal effect. The big size & high past 2-12 month return portfolio has the smallest January seasonal effect.\n",
        "\n",
        "- From Table 5, the size 4 & high past 2-12 month return portfolio has the largest December seasonal effect. The small size & low past 2-12 month return portfolio has the smallest December seasonal effect.\n",
        "\n",
        "Similar to above, taxation may explain the December and January effect. We can see that the return is higher in January, meaning that there may be unusual amount of investors buying in January, which coincide with the tax effect. This hypothesis, however, seems to have a difficult time explaining the December effect, which seems to have a higher return in general (higher $\\beta_2$) than February - November (lower $\\beta_0$)."
      ]
    },
    {
      "cell_type": "code",
      "metadata": {
        "id": "vbRTwDaNSLDt",
        "outputId": "992e51c3-3a1a-4716-a24c-4068a4eb9806",
        "colab": {
          "base_uri": "https://localhost:8080/",
          "height": 582
        }
      },
      "source": [
        "# Table 6\n",
        "dec_effect = np.column_stack((result2['beta0'][0:25], result2['beta0'][25:50], result2['beta0'][50:75]))\n",
        "dec_effect = pd.DataFrame(dec_effect)\n",
        "dec_effect.index = result2['beta0'][0:25].index\n",
        "dec_effect.columns = [\"past 1 mo return\", \"past 2-12 mo return\", \"past 13-60 mo return\"]\n",
        "dec_effect.style.set_caption(\"Feb-Nov effect (value of beta0)\")"
      ],
      "execution_count": null,
      "outputs": [
        {
          "output_type": "execute_result",
          "data": {
            "text/html": [
              "<style  type=\"text/css\" >\n",
              "</style><table id=\"T_8eb9bf90_1dda_11eb_bf54_0242ac1c0002\" ><caption>Feb-Nov effect (value of beta0)</caption><thead>    <tr>        <th class=\"blank level0\" ></th>        <th class=\"col_heading level0 col0\" >past 1 mo return</th>        <th class=\"col_heading level0 col1\" >past 2-12 mo return</th>        <th class=\"col_heading level0 col2\" >past 13-60 mo return</th>    </tr></thead><tbody>\n",
              "                <tr>\n",
              "                        <th id=\"T_8eb9bf90_1dda_11eb_bf54_0242ac1c0002level0_row0\" class=\"row_heading level0 row0\" >Low</th>\n",
              "                        <td id=\"T_8eb9bf90_1dda_11eb_bf54_0242ac1c0002row0_col0\" class=\"data row0 col0\" >1.464815</td>\n",
              "                        <td id=\"T_8eb9bf90_1dda_11eb_bf54_0242ac1c0002row0_col1\" class=\"data row0 col1\" >0.022449</td>\n",
              "                        <td id=\"T_8eb9bf90_1dda_11eb_bf54_0242ac1c0002row0_col2\" class=\"data row0 col2\" >0.900236</td>\n",
              "            </tr>\n",
              "            <tr>\n",
              "                        <th id=\"T_8eb9bf90_1dda_11eb_bf54_0242ac1c0002level0_row1\" class=\"row_heading level0 row1\" >2</th>\n",
              "                        <td id=\"T_8eb9bf90_1dda_11eb_bf54_0242ac1c0002row1_col0\" class=\"data row1 col0\" >0.765028</td>\n",
              "                        <td id=\"T_8eb9bf90_1dda_11eb_bf54_0242ac1c0002row1_col1\" class=\"data row1 col1\" >0.664345</td>\n",
              "                        <td id=\"T_8eb9bf90_1dda_11eb_bf54_0242ac1c0002row1_col2\" class=\"data row1 col2\" >0.879752</td>\n",
              "            </tr>\n",
              "            <tr>\n",
              "                        <th id=\"T_8eb9bf90_1dda_11eb_bf54_0242ac1c0002level0_row2\" class=\"row_heading level0 row2\" >3</th>\n",
              "                        <td id=\"T_8eb9bf90_1dda_11eb_bf54_0242ac1c0002row2_col0\" class=\"data row2 col0\" >0.680011</td>\n",
              "                        <td id=\"T_8eb9bf90_1dda_11eb_bf54_0242ac1c0002row2_col1\" class=\"data row2 col1\" >0.958284</td>\n",
              "                        <td id=\"T_8eb9bf90_1dda_11eb_bf54_0242ac1c0002row2_col2\" class=\"data row2 col2\" >1.021927</td>\n",
              "            </tr>\n",
              "            <tr>\n",
              "                        <th id=\"T_8eb9bf90_1dda_11eb_bf54_0242ac1c0002level0_row3\" class=\"row_heading level0 row3\" >4</th>\n",
              "                        <td id=\"T_8eb9bf90_1dda_11eb_bf54_0242ac1c0002row3_col0\" class=\"data row3 col0\" >0.418249</td>\n",
              "                        <td id=\"T_8eb9bf90_1dda_11eb_bf54_0242ac1c0002row3_col1\" class=\"data row3 col1\" >0.992494</td>\n",
              "                        <td id=\"T_8eb9bf90_1dda_11eb_bf54_0242ac1c0002row3_col2\" class=\"data row3 col2\" >0.890946</td>\n",
              "            </tr>\n",
              "            <tr>\n",
              "                        <th id=\"T_8eb9bf90_1dda_11eb_bf54_0242ac1c0002level0_row4\" class=\"row_heading level0 row4\" >High</th>\n",
              "                        <td id=\"T_8eb9bf90_1dda_11eb_bf54_0242ac1c0002row4_col0\" class=\"data row4 col0\" >-0.414916</td>\n",
              "                        <td id=\"T_8eb9bf90_1dda_11eb_bf54_0242ac1c0002row4_col1\" class=\"data row4 col1\" >1.178691</td>\n",
              "                        <td id=\"T_8eb9bf90_1dda_11eb_bf54_0242ac1c0002row4_col2\" class=\"data row4 col2\" >0.244787</td>\n",
              "            </tr>\n",
              "            <tr>\n",
              "                        <th id=\"T_8eb9bf90_1dda_11eb_bf54_0242ac1c0002level0_row5\" class=\"row_heading level0 row5\" >Low.1</th>\n",
              "                        <td id=\"T_8eb9bf90_1dda_11eb_bf54_0242ac1c0002row5_col0\" class=\"data row5 col0\" >1.096532</td>\n",
              "                        <td id=\"T_8eb9bf90_1dda_11eb_bf54_0242ac1c0002row5_col1\" class=\"data row5 col1\" >-0.012585</td>\n",
              "                        <td id=\"T_8eb9bf90_1dda_11eb_bf54_0242ac1c0002row5_col2\" class=\"data row5 col2\" >0.769314</td>\n",
              "            </tr>\n",
              "            <tr>\n",
              "                        <th id=\"T_8eb9bf90_1dda_11eb_bf54_0242ac1c0002level0_row6\" class=\"row_heading level0 row6\" >2.1</th>\n",
              "                        <td id=\"T_8eb9bf90_1dda_11eb_bf54_0242ac1c0002row6_col0\" class=\"data row6 col0\" >0.861886</td>\n",
              "                        <td id=\"T_8eb9bf90_1dda_11eb_bf54_0242ac1c0002row6_col1\" class=\"data row6 col1\" >0.525214</td>\n",
              "                        <td id=\"T_8eb9bf90_1dda_11eb_bf54_0242ac1c0002row6_col2\" class=\"data row6 col2\" >0.766915</td>\n",
              "            </tr>\n",
              "            <tr>\n",
              "                        <th id=\"T_8eb9bf90_1dda_11eb_bf54_0242ac1c0002level0_row7\" class=\"row_heading level0 row7\" >3.1</th>\n",
              "                        <td id=\"T_8eb9bf90_1dda_11eb_bf54_0242ac1c0002row7_col0\" class=\"data row7 col0\" >0.746970</td>\n",
              "                        <td id=\"T_8eb9bf90_1dda_11eb_bf54_0242ac1c0002row7_col1\" class=\"data row7 col1\" >0.640700</td>\n",
              "                        <td id=\"T_8eb9bf90_1dda_11eb_bf54_0242ac1c0002row7_col2\" class=\"data row7 col2\" >0.921773</td>\n",
              "            </tr>\n",
              "            <tr>\n",
              "                        <th id=\"T_8eb9bf90_1dda_11eb_bf54_0242ac1c0002level0_row8\" class=\"row_heading level0 row8\" >4.1</th>\n",
              "                        <td id=\"T_8eb9bf90_1dda_11eb_bf54_0242ac1c0002row8_col0\" class=\"data row8 col0\" >0.450292</td>\n",
              "                        <td id=\"T_8eb9bf90_1dda_11eb_bf54_0242ac1c0002row8_col1\" class=\"data row8 col1\" >0.867517</td>\n",
              "                        <td id=\"T_8eb9bf90_1dda_11eb_bf54_0242ac1c0002row8_col2\" class=\"data row8 col2\" >0.893203</td>\n",
              "            </tr>\n",
              "            <tr>\n",
              "                        <th id=\"T_8eb9bf90_1dda_11eb_bf54_0242ac1c0002level0_row9\" class=\"row_heading level0 row9\" >High.1</th>\n",
              "                        <td id=\"T_8eb9bf90_1dda_11eb_bf54_0242ac1c0002row9_col0\" class=\"data row9 col0\" >-0.107587</td>\n",
              "                        <td id=\"T_8eb9bf90_1dda_11eb_bf54_0242ac1c0002row9_col1\" class=\"data row9 col1\" >1.105034</td>\n",
              "                        <td id=\"T_8eb9bf90_1dda_11eb_bf54_0242ac1c0002row9_col2\" class=\"data row9 col2\" >0.812612</td>\n",
              "            </tr>\n",
              "            <tr>\n",
              "                        <th id=\"T_8eb9bf90_1dda_11eb_bf54_0242ac1c0002level0_row10\" class=\"row_heading level0 row10\" >Low.2</th>\n",
              "                        <td id=\"T_8eb9bf90_1dda_11eb_bf54_0242ac1c0002row10_col0\" class=\"data row10 col0\" >0.979450</td>\n",
              "                        <td id=\"T_8eb9bf90_1dda_11eb_bf54_0242ac1c0002row10_col1\" class=\"data row10 col1\" >-0.005835</td>\n",
              "                        <td id=\"T_8eb9bf90_1dda_11eb_bf54_0242ac1c0002row10_col2\" class=\"data row10 col2\" >0.712021</td>\n",
              "            </tr>\n",
              "            <tr>\n",
              "                        <th id=\"T_8eb9bf90_1dda_11eb_bf54_0242ac1c0002level0_row11\" class=\"row_heading level0 row11\" >2.2</th>\n",
              "                        <td id=\"T_8eb9bf90_1dda_11eb_bf54_0242ac1c0002row11_col0\" class=\"data row11 col0\" >0.781773</td>\n",
              "                        <td id=\"T_8eb9bf90_1dda_11eb_bf54_0242ac1c0002row11_col1\" class=\"data row11 col1\" >0.522573</td>\n",
              "                        <td id=\"T_8eb9bf90_1dda_11eb_bf54_0242ac1c0002row11_col2\" class=\"data row11 col2\" >0.813286</td>\n",
              "            </tr>\n",
              "            <tr>\n",
              "                        <th id=\"T_8eb9bf90_1dda_11eb_bf54_0242ac1c0002level0_row12\" class=\"row_heading level0 row12\" >3.2</th>\n",
              "                        <td id=\"T_8eb9bf90_1dda_11eb_bf54_0242ac1c0002row12_col0\" class=\"data row12 col0\" >0.697138</td>\n",
              "                        <td id=\"T_8eb9bf90_1dda_11eb_bf54_0242ac1c0002row12_col1\" class=\"data row12 col1\" >0.603431</td>\n",
              "                        <td id=\"T_8eb9bf90_1dda_11eb_bf54_0242ac1c0002row12_col2\" class=\"data row12 col2\" >0.666418</td>\n",
              "            </tr>\n",
              "            <tr>\n",
              "                        <th id=\"T_8eb9bf90_1dda_11eb_bf54_0242ac1c0002level0_row13\" class=\"row_heading level0 row13\" >4.2</th>\n",
              "                        <td id=\"T_8eb9bf90_1dda_11eb_bf54_0242ac1c0002row13_col0\" class=\"data row13 col0\" >0.454624</td>\n",
              "                        <td id=\"T_8eb9bf90_1dda_11eb_bf54_0242ac1c0002row13_col1\" class=\"data row13 col1\" >0.698330</td>\n",
              "                        <td id=\"T_8eb9bf90_1dda_11eb_bf54_0242ac1c0002row13_col2\" class=\"data row13 col2\" >0.823073</td>\n",
              "            </tr>\n",
              "            <tr>\n",
              "                        <th id=\"T_8eb9bf90_1dda_11eb_bf54_0242ac1c0002level0_row14\" class=\"row_heading level0 row14\" >High.2</th>\n",
              "                        <td id=\"T_8eb9bf90_1dda_11eb_bf54_0242ac1c0002row14_col0\" class=\"data row14 col0\" >0.111930</td>\n",
              "                        <td id=\"T_8eb9bf90_1dda_11eb_bf54_0242ac1c0002row14_col1\" class=\"data row14 col1\" >1.046151</td>\n",
              "                        <td id=\"T_8eb9bf90_1dda_11eb_bf54_0242ac1c0002row14_col2\" class=\"data row14 col2\" >0.634385</td>\n",
              "            </tr>\n",
              "            <tr>\n",
              "                        <th id=\"T_8eb9bf90_1dda_11eb_bf54_0242ac1c0002level0_row15\" class=\"row_heading level0 row15\" >Low.3</th>\n",
              "                        <td id=\"T_8eb9bf90_1dda_11eb_bf54_0242ac1c0002row15_col0\" class=\"data row15 col0\" >0.795039</td>\n",
              "                        <td id=\"T_8eb9bf90_1dda_11eb_bf54_0242ac1c0002row15_col1\" class=\"data row15 col1\" >0.117427</td>\n",
              "                        <td id=\"T_8eb9bf90_1dda_11eb_bf54_0242ac1c0002row15_col2\" class=\"data row15 col2\" >0.844161</td>\n",
              "            </tr>\n",
              "            <tr>\n",
              "                        <th id=\"T_8eb9bf90_1dda_11eb_bf54_0242ac1c0002level0_row16\" class=\"row_heading level0 row16\" >2.3</th>\n",
              "                        <td id=\"T_8eb9bf90_1dda_11eb_bf54_0242ac1c0002row16_col0\" class=\"data row16 col0\" >0.792952</td>\n",
              "                        <td id=\"T_8eb9bf90_1dda_11eb_bf54_0242ac1c0002row16_col1\" class=\"data row16 col1\" >0.432506</td>\n",
              "                        <td id=\"T_8eb9bf90_1dda_11eb_bf54_0242ac1c0002row16_col2\" class=\"data row16 col2\" >0.753274</td>\n",
              "            </tr>\n",
              "            <tr>\n",
              "                        <th id=\"T_8eb9bf90_1dda_11eb_bf54_0242ac1c0002level0_row17\" class=\"row_heading level0 row17\" >3.3</th>\n",
              "                        <td id=\"T_8eb9bf90_1dda_11eb_bf54_0242ac1c0002row17_col0\" class=\"data row17 col0\" >0.646027</td>\n",
              "                        <td id=\"T_8eb9bf90_1dda_11eb_bf54_0242ac1c0002row17_col1\" class=\"data row17 col1\" >0.620643</td>\n",
              "                        <td id=\"T_8eb9bf90_1dda_11eb_bf54_0242ac1c0002row17_col2\" class=\"data row17 col2\" >0.710213</td>\n",
              "            </tr>\n",
              "            <tr>\n",
              "                        <th id=\"T_8eb9bf90_1dda_11eb_bf54_0242ac1c0002level0_row18\" class=\"row_heading level0 row18\" >4.3</th>\n",
              "                        <td id=\"T_8eb9bf90_1dda_11eb_bf54_0242ac1c0002row18_col0\" class=\"data row18 col0\" >0.556364</td>\n",
              "                        <td id=\"T_8eb9bf90_1dda_11eb_bf54_0242ac1c0002row18_col1\" class=\"data row18 col1\" >0.755147</td>\n",
              "                        <td id=\"T_8eb9bf90_1dda_11eb_bf54_0242ac1c0002row18_col2\" class=\"data row18 col2\" >0.734007</td>\n",
              "            </tr>\n",
              "            <tr>\n",
              "                        <th id=\"T_8eb9bf90_1dda_11eb_bf54_0242ac1c0002level0_row19\" class=\"row_heading level0 row19\" >High.3</th>\n",
              "                        <td id=\"T_8eb9bf90_1dda_11eb_bf54_0242ac1c0002row19_col0\" class=\"data row19 col0\" >0.308193</td>\n",
              "                        <td id=\"T_8eb9bf90_1dda_11eb_bf54_0242ac1c0002row19_col1\" class=\"data row19 col1\" >1.057178</td>\n",
              "                        <td id=\"T_8eb9bf90_1dda_11eb_bf54_0242ac1c0002row19_col2\" class=\"data row19 col2\" >0.657612</td>\n",
              "            </tr>\n",
              "            <tr>\n",
              "                        <th id=\"T_8eb9bf90_1dda_11eb_bf54_0242ac1c0002level0_row20\" class=\"row_heading level0 row20\" >Low.4</th>\n",
              "                        <td id=\"T_8eb9bf90_1dda_11eb_bf54_0242ac1c0002row20_col0\" class=\"data row20 col0\" >0.599484</td>\n",
              "                        <td id=\"T_8eb9bf90_1dda_11eb_bf54_0242ac1c0002row20_col1\" class=\"data row20 col1\" >-0.292991</td>\n",
              "                        <td id=\"T_8eb9bf90_1dda_11eb_bf54_0242ac1c0002row20_col2\" class=\"data row20 col2\" >-1.591466</td>\n",
              "            </tr>\n",
              "            <tr>\n",
              "                        <th id=\"T_8eb9bf90_1dda_11eb_bf54_0242ac1c0002level0_row21\" class=\"row_heading level0 row21\" >2.4</th>\n",
              "                        <td id=\"T_8eb9bf90_1dda_11eb_bf54_0242ac1c0002row21_col0\" class=\"data row21 col0\" >0.584141</td>\n",
              "                        <td id=\"T_8eb9bf90_1dda_11eb_bf54_0242ac1c0002row21_col1\" class=\"data row21 col1\" >0.392596</td>\n",
              "                        <td id=\"T_8eb9bf90_1dda_11eb_bf54_0242ac1c0002row21_col2\" class=\"data row21 col2\" >0.548582</td>\n",
              "            </tr>\n",
              "            <tr>\n",
              "                        <th id=\"T_8eb9bf90_1dda_11eb_bf54_0242ac1c0002level0_row22\" class=\"row_heading level0 row22\" >3.4</th>\n",
              "                        <td id=\"T_8eb9bf90_1dda_11eb_bf54_0242ac1c0002row22_col0\" class=\"data row22 col0\" >0.563670</td>\n",
              "                        <td id=\"T_8eb9bf90_1dda_11eb_bf54_0242ac1c0002row22_col1\" class=\"data row22 col1\" >0.502698</td>\n",
              "                        <td id=\"T_8eb9bf90_1dda_11eb_bf54_0242ac1c0002row22_col2\" class=\"data row22 col2\" >0.603688</td>\n",
              "            </tr>\n",
              "            <tr>\n",
              "                        <th id=\"T_8eb9bf90_1dda_11eb_bf54_0242ac1c0002level0_row23\" class=\"row_heading level0 row23\" >4.4</th>\n",
              "                        <td id=\"T_8eb9bf90_1dda_11eb_bf54_0242ac1c0002row23_col0\" class=\"data row23 col0\" >0.544119</td>\n",
              "                        <td id=\"T_8eb9bf90_1dda_11eb_bf54_0242ac1c0002row23_col1\" class=\"data row23 col1\" >0.669616</td>\n",
              "                        <td id=\"T_8eb9bf90_1dda_11eb_bf54_0242ac1c0002row23_col2\" class=\"data row23 col2\" >0.627482</td>\n",
              "            </tr>\n",
              "            <tr>\n",
              "                        <th id=\"T_8eb9bf90_1dda_11eb_bf54_0242ac1c0002level0_row24\" class=\"row_heading level0 row24\" >High.4</th>\n",
              "                        <td id=\"T_8eb9bf90_1dda_11eb_bf54_0242ac1c0002row24_col0\" class=\"data row24 col0\" >0.402581</td>\n",
              "                        <td id=\"T_8eb9bf90_1dda_11eb_bf54_0242ac1c0002row24_col1\" class=\"data row24 col1\" >0.866828</td>\n",
              "                        <td id=\"T_8eb9bf90_1dda_11eb_bf54_0242ac1c0002row24_col2\" class=\"data row24 col2\" >0.537009</td>\n",
              "            </tr>\n",
              "    </tbody></table>"
            ],
            "text/plain": [
              "<pandas.io.formats.style.Styler at 0x7fdc4f352630>"
            ]
          },
          "metadata": {
            "tags": []
          },
          "execution_count": 39
        }
      ]
    },
    {
      "cell_type": "markdown",
      "metadata": {
        "id": "CTBK3t23_JaO"
      },
      "source": [
        "## c)\tAre these findings evidence for or against market efficiency? How would you try to reconcile the above findings with the efficient markets hypothesis? How are the findings perhaps a violation of efficient markets? (hint: consider statistical explanations, transaction costs, the model we have assumed, etc.)\n",
        "\n"
      ]
    },
    {
      "cell_type": "markdown",
      "metadata": {
        "id": "ZnbcAHqZ76sA"
      },
      "source": [
        "There are arguments to be made for these findings to be evidence both for and against market efficiency. For one, if we believe the taxation consideration is true and the reason behind the December and January effect, these would be evidence against market efficiency. This is because the taxation is purely a friction in the market, and therefore the underlying cashflows of the assets should not change. Consequently, the prices of the assets, determined by the cashflows of the assets, should be unchanged. However, the observation shows the opposite, where the price is altered due to friction in the market.\n",
        "\n",
        "In contrast, we could also say that for investors, the actual cashflows generated for them need to take into account the tax effect, and therefore it is an evidence for market efficiency that the December and January effect exist. Although, an argument against such proposition is that, the strategy of trading out on December and back in on January has transaction costs associated to it, and therefore on average the profit of doing so should move towrads zero, indicating that such strategy should not be empoyed."
      ]
    },
    {
      "cell_type": "markdown",
      "metadata": {
        "id": "opGA4PGL_K_9"
      },
      "source": [
        "## d)\tNow, let’s look at the relation between past returns and expected returns. Run a series of cross-sectional regressions in the style of Fama and MacBeth (1973) where the left-hand-side of the regression is the return of each of the 75 portfolios in month t in excess of the risk-free rate in month t on the following right-hand-side variables:\n",
        "\n",
        "i)\tThe past one-month return of each portfolio (e.g., return on the portfolio in month t-1)\n",
        "\n",
        "ii)\tThe past 12-month return of each portfolio, skipping the most recent month (e.g., cumulative return on the portfolio from month t-2 to t-12)\n",
        "\n",
        "iii)\tThe past 60-month return of each portfolio, skipping the most recent year (e.g., cumulative return on the portfolio from month t-13 to t-60)\n",
        "\n",
        "Run this cross-section regression every month, save the coefficients, and then report the time-series average of the coefficients over all months as well as the time-series t-statistics on those coefficients in the style of Fama and MacBeth (1973). Comment on the coefficients on the lagged returns of each portfolio.  What pattern of predictability do they indicate?  What is the relation between past returns and average returns?  Does this violate some form of market efficiency?  Why might it?  What else could explain these patterns?"
      ]
    },
    {
      "cell_type": "markdown",
      "metadata": {
        "id": "huSOW87IhB2c"
      },
      "source": [
        "Step 1: $\\text{Excess Return} = \\beta_0 + \\beta_1R_{1mo} + \\beta_2R_{12mo} + \\beta_3R_{60mo} \\text{ for 1069 time periods}$ \n",
        "\n",
        "Step 2:  $\\text{Excess Return} = \\gamma_0 + \\gamma_1\\beta_1 + \\gamma_2\\beta_2 + \\gamma_3\\beta_3 \\text{ for 75 portfolios}$ "
      ]
    },
    {
      "cell_type": "code",
      "metadata": {
        "id": "YfXmtXaOjX3A"
      },
      "source": [
        "all_return_excess = all_return_excess.drop(labels=['jan_dummy','dec_dummy'], axis=1)"
      ],
      "execution_count": null,
      "outputs": []
    },
    {
      "cell_type": "code",
      "metadata": {
        "id": "-6onECLv_fQV",
        "outputId": "92bea958-0832-4cd3-c688-2f027ae19b7b",
        "colab": {
          "base_uri": "https://localhost:8080/"
        }
      },
      "source": [
        "%%time\n",
        "R1mo = np.zeros(all_return_excess.shape)\n",
        "R12mo = np.zeros(all_return_excess.shape)\n",
        "R60mo = np.zeros(all_return_excess.shape)\n",
        "for i in range(61,all_return_excess.shape[0]):\n",
        "  R1mo[i,:] = np.sum(all_return_excess.iloc[i-1,:])\n",
        "  R12mo[i,:] = np.sum(all_return_excess.iloc[i-12:i-2,:])\n",
        "  R60mo[i,:] = np.sum(all_return_excess.iloc[i-60:i-13,:])"
      ],
      "execution_count": null,
      "outputs": [
        {
          "output_type": "stream",
          "text": [
            "CPU times: user 1.81 s, sys: 782 µs, total: 1.81 s\n",
            "Wall time: 1.82 s\n"
          ],
          "name": "stdout"
        }
      ]
    },
    {
      "cell_type": "code",
      "metadata": {
        "id": "M3xSVUEkx1v_"
      },
      "source": [
        "R1mo = pd.DataFrame(R1mo)\n",
        "R12mo = pd.DataFrame(R12mo)\n",
        "R60mo = pd.DataFrame(R60mo)\n",
        "\n",
        "R1mo = R1mo.set_index(all_return_excess.index)\n",
        "R12mo = R12mo.set_index(all_return_excess.index)\n",
        "R60mo = R60mo.set_index(all_return_excess.index)\n",
        "\n",
        "R1mo.columns = all_return_excess.columns\n",
        "R12mo.columns = all_return_excess.columns\n",
        "R60mo.columns = all_return_excess.columns"
      ],
      "execution_count": null,
      "outputs": []
    },
    {
      "cell_type": "code",
      "metadata": {
        "id": "IIKWlFdE37LC"
      },
      "source": [
        "# First step of Fama-Macbeth\n",
        "betas = []\n",
        "all_return_excess['constant'] = [1]*1069\n",
        "for i in range(all_return_excess.shape[0]):\n",
        "  x = pd.concat([R1mo.iloc[i,:], R12mo.iloc[i,:],R60mo.iloc[i,:]], axis=1)\n",
        "  x.loc['constant'] = [1,1,1]\n",
        "  mod3 = sm.OLS(all_return_excess.iloc[i,:], x, missing='drop').fit()\n",
        "  betas.append(mod3.params) "
      ],
      "execution_count": null,
      "outputs": []
    },
    {
      "cell_type": "code",
      "metadata": {
        "id": "W3zVAePx5683",
        "outputId": "94070ed9-9e50-4dd4-85e0-0bd7196449b5",
        "colab": {
          "base_uri": "https://localhost:8080/",
          "height": 419
        }
      },
      "source": [
        "df = pd.DataFrame(np.array(betas).reshape(1069,3))\n",
        "df.columns = ['beta1', 'beta2','beta3']\n",
        "df"
      ],
      "execution_count": null,
      "outputs": [
        {
          "output_type": "execute_result",
          "data": {
            "text/html": [
              "<div>\n",
              "<style scoped>\n",
              "    .dataframe tbody tr th:only-of-type {\n",
              "        vertical-align: middle;\n",
              "    }\n",
              "\n",
              "    .dataframe tbody tr th {\n",
              "        vertical-align: top;\n",
              "    }\n",
              "\n",
              "    .dataframe thead th {\n",
              "        text-align: right;\n",
              "    }\n",
              "</style>\n",
              "<table border=\"1\" class=\"dataframe\">\n",
              "  <thead>\n",
              "    <tr style=\"text-align: right;\">\n",
              "      <th></th>\n",
              "      <th>beta1</th>\n",
              "      <th>beta2</th>\n",
              "      <th>beta3</th>\n",
              "    </tr>\n",
              "  </thead>\n",
              "  <tbody>\n",
              "    <tr>\n",
              "      <th>0</th>\n",
              "      <td>0.333333</td>\n",
              "      <td>0.333333</td>\n",
              "      <td>0.333333</td>\n",
              "    </tr>\n",
              "    <tr>\n",
              "      <th>1</th>\n",
              "      <td>0.333333</td>\n",
              "      <td>0.333333</td>\n",
              "      <td>0.333333</td>\n",
              "    </tr>\n",
              "    <tr>\n",
              "      <th>2</th>\n",
              "      <td>0.333333</td>\n",
              "      <td>0.333333</td>\n",
              "      <td>0.333333</td>\n",
              "    </tr>\n",
              "    <tr>\n",
              "      <th>3</th>\n",
              "      <td>0.333333</td>\n",
              "      <td>0.333333</td>\n",
              "      <td>0.333333</td>\n",
              "    </tr>\n",
              "    <tr>\n",
              "      <th>4</th>\n",
              "      <td>0.333333</td>\n",
              "      <td>0.333333</td>\n",
              "      <td>0.333333</td>\n",
              "    </tr>\n",
              "    <tr>\n",
              "      <th>...</th>\n",
              "      <td>...</td>\n",
              "      <td>...</td>\n",
              "      <td>...</td>\n",
              "    </tr>\n",
              "    <tr>\n",
              "      <th>1064</th>\n",
              "      <td>-0.015224</td>\n",
              "      <td>0.014248</td>\n",
              "      <td>0.109817</td>\n",
              "    </tr>\n",
              "    <tr>\n",
              "      <th>1065</th>\n",
              "      <td>0.458194</td>\n",
              "      <td>-0.085479</td>\n",
              "      <td>-0.159652</td>\n",
              "    </tr>\n",
              "    <tr>\n",
              "      <th>1066</th>\n",
              "      <td>0.470325</td>\n",
              "      <td>0.038720</td>\n",
              "      <td>0.117002</td>\n",
              "    </tr>\n",
              "    <tr>\n",
              "      <th>1067</th>\n",
              "      <td>-0.037491</td>\n",
              "      <td>0.111205</td>\n",
              "      <td>0.027836</td>\n",
              "    </tr>\n",
              "    <tr>\n",
              "      <th>1068</th>\n",
              "      <td>0.376273</td>\n",
              "      <td>0.162876</td>\n",
              "      <td>0.112243</td>\n",
              "    </tr>\n",
              "  </tbody>\n",
              "</table>\n",
              "<p>1069 rows × 3 columns</p>\n",
              "</div>"
            ],
            "text/plain": [
              "         beta1     beta2     beta3\n",
              "0     0.333333  0.333333  0.333333\n",
              "1     0.333333  0.333333  0.333333\n",
              "2     0.333333  0.333333  0.333333\n",
              "3     0.333333  0.333333  0.333333\n",
              "4     0.333333  0.333333  0.333333\n",
              "...        ...       ...       ...\n",
              "1064 -0.015224  0.014248  0.109817\n",
              "1065  0.458194 -0.085479 -0.159652\n",
              "1066  0.470325  0.038720  0.117002\n",
              "1067 -0.037491  0.111205  0.027836\n",
              "1068  0.376273  0.162876  0.112243\n",
              "\n",
              "[1069 rows x 3 columns]"
            ]
          },
          "metadata": {
            "tags": []
          },
          "execution_count": 44
        }
      ]
    },
    {
      "cell_type": "code",
      "metadata": {
        "id": "OsebLol08ilC",
        "outputId": "e07e8929-3be6-4956-d37a-31854b046e89",
        "colab": {
          "base_uri": "https://localhost:8080/"
        }
      },
      "source": [
        "print(\"beta1 = \", round(np.mean(df['beta1']), 2), \"beta2 = \", round(np.mean(df['beta2']), 2),\"beta3 = \", round(np.mean(df['beta3']), 2))"
      ],
      "execution_count": null,
      "outputs": [
        {
          "output_type": "stream",
          "text": [
            "beta1 =  0.02 beta2 =  0.04 beta3 =  0.03\n"
          ],
          "name": "stdout"
        }
      ]
    },
    {
      "cell_type": "code",
      "metadata": {
        "id": "fQWqCwacWmf_"
      },
      "source": [
        "all_return_excess = all_return_excess.drop('constant', axis =1)"
      ],
      "execution_count": null,
      "outputs": []
    },
    {
      "cell_type": "code",
      "metadata": {
        "id": "jVjeLLVQT5-z"
      },
      "source": [
        "# Second step of Fama-Macbeth\n",
        "gammas = []\n",
        "for i in range(all_return_excess.shape[1]):\n",
        "  x = sm.add_constant(df[['beta1', 'beta2','beta3']])\n",
        "  mod4 = sm.OLS(list(all_return_excess.iloc[:,i]), x , missing='drop').fit()\n",
        "  gammas.append(mod4.params) "
      ],
      "execution_count": null,
      "outputs": []
    },
    {
      "cell_type": "code",
      "metadata": {
        "id": "HpoIvL8HXTJH",
        "outputId": "0085cee0-7b0f-4564-83bb-292a483c56fe",
        "colab": {
          "base_uri": "https://localhost:8080/",
          "height": 419
        }
      },
      "source": [
        "df2 = pd.DataFrame(np.array(gammas).reshape(75,4))\n",
        "df2.columns = ['gamma0','gamma1', 'gamma2','gamma3']\n",
        "df2"
      ],
      "execution_count": null,
      "outputs": [
        {
          "output_type": "execute_result",
          "data": {
            "text/html": [
              "<div>\n",
              "<style scoped>\n",
              "    .dataframe tbody tr th:only-of-type {\n",
              "        vertical-align: middle;\n",
              "    }\n",
              "\n",
              "    .dataframe tbody tr th {\n",
              "        vertical-align: top;\n",
              "    }\n",
              "\n",
              "    .dataframe thead th {\n",
              "        text-align: right;\n",
              "    }\n",
              "</style>\n",
              "<table border=\"1\" class=\"dataframe\">\n",
              "  <thead>\n",
              "    <tr style=\"text-align: right;\">\n",
              "      <th></th>\n",
              "      <th>gamma0</th>\n",
              "      <th>gamma1</th>\n",
              "      <th>gamma2</th>\n",
              "      <th>gamma3</th>\n",
              "    </tr>\n",
              "  </thead>\n",
              "  <tbody>\n",
              "    <tr>\n",
              "      <th>0</th>\n",
              "      <td>2.048191</td>\n",
              "      <td>0.230463</td>\n",
              "      <td>4.601827</td>\n",
              "      <td>-4.052024</td>\n",
              "    </tr>\n",
              "    <tr>\n",
              "      <th>1</th>\n",
              "      <td>1.296692</td>\n",
              "      <td>0.351248</td>\n",
              "      <td>3.907301</td>\n",
              "      <td>-8.284023</td>\n",
              "    </tr>\n",
              "    <tr>\n",
              "      <th>2</th>\n",
              "      <td>1.094368</td>\n",
              "      <td>0.053589</td>\n",
              "      <td>2.690687</td>\n",
              "      <td>-5.472053</td>\n",
              "    </tr>\n",
              "    <tr>\n",
              "      <th>3</th>\n",
              "      <td>0.752029</td>\n",
              "      <td>0.544269</td>\n",
              "      <td>3.877284</td>\n",
              "      <td>-6.504240</td>\n",
              "    </tr>\n",
              "    <tr>\n",
              "      <th>4</th>\n",
              "      <td>0.013277</td>\n",
              "      <td>0.480454</td>\n",
              "      <td>2.927690</td>\n",
              "      <td>-8.987793</td>\n",
              "    </tr>\n",
              "    <tr>\n",
              "      <th>...</th>\n",
              "      <td>...</td>\n",
              "      <td>...</td>\n",
              "      <td>...</td>\n",
              "      <td>...</td>\n",
              "    </tr>\n",
              "    <tr>\n",
              "      <th>70</th>\n",
              "      <td>0.341063</td>\n",
              "      <td>-1.722477</td>\n",
              "      <td>-23.570495</td>\n",
              "      <td>-113.131968</td>\n",
              "    </tr>\n",
              "    <tr>\n",
              "      <th>71</th>\n",
              "      <td>0.632410</td>\n",
              "      <td>0.660705</td>\n",
              "      <td>2.989873</td>\n",
              "      <td>1.594614</td>\n",
              "    </tr>\n",
              "    <tr>\n",
              "      <th>72</th>\n",
              "      <td>0.636146</td>\n",
              "      <td>0.591799</td>\n",
              "      <td>2.459126</td>\n",
              "      <td>0.048299</td>\n",
              "    </tr>\n",
              "    <tr>\n",
              "      <th>73</th>\n",
              "      <td>0.616013</td>\n",
              "      <td>0.385603</td>\n",
              "      <td>1.717589</td>\n",
              "      <td>3.877786</td>\n",
              "    </tr>\n",
              "    <tr>\n",
              "      <th>74</th>\n",
              "      <td>0.492545</td>\n",
              "      <td>0.504459</td>\n",
              "      <td>0.345267</td>\n",
              "      <td>6.548759</td>\n",
              "    </tr>\n",
              "  </tbody>\n",
              "</table>\n",
              "<p>75 rows × 4 columns</p>\n",
              "</div>"
            ],
            "text/plain": [
              "      gamma0    gamma1     gamma2      gamma3\n",
              "0   2.048191  0.230463   4.601827   -4.052024\n",
              "1   1.296692  0.351248   3.907301   -8.284023\n",
              "2   1.094368  0.053589   2.690687   -5.472053\n",
              "3   0.752029  0.544269   3.877284   -6.504240\n",
              "4   0.013277  0.480454   2.927690   -8.987793\n",
              "..       ...       ...        ...         ...\n",
              "70  0.341063 -1.722477 -23.570495 -113.131968\n",
              "71  0.632410  0.660705   2.989873    1.594614\n",
              "72  0.636146  0.591799   2.459126    0.048299\n",
              "73  0.616013  0.385603   1.717589    3.877786\n",
              "74  0.492545  0.504459   0.345267    6.548759\n",
              "\n",
              "[75 rows x 4 columns]"
            ]
          },
          "metadata": {
            "tags": []
          },
          "execution_count": 48
        }
      ]
    },
    {
      "cell_type": "code",
      "metadata": {
        "id": "CCuZgEiXYgwu",
        "outputId": "61b057d6-3a54-43d1-a44a-381bc0ce036a",
        "colab": {
          "base_uri": "https://localhost:8080/"
        }
      },
      "source": [
        "print(\"gamma0 = \", round(np.mean(df2['gamma0']), 2), \"gamma1 = \", round(np.mean(df2['gamma1']), 2), \"gamma2 = \", round(np.mean(df2['gamma2']), 2),\"gamma3 = \", round(np.mean(df2['gamma3']), 2))"
      ],
      "execution_count": null,
      "outputs": [
        {
          "output_type": "stream",
          "text": [
            "gamma0 =  0.89 gamma1 =  0.63 gamma2 =  1.71 gamma3 =  -2.5\n"
          ],
          "name": "stdout"
        }
      ]
    },
    {
      "cell_type": "markdown",
      "metadata": {
        "id": "jAoPt-dxZILA"
      },
      "source": [
        "From the risk premium above, we can see that both the 1-month return factor and the 2-12 month return factor provide positive return with higher magnitude for 2-12 month, while the 3-60 month factor provide negative return with the highest absolute magnitude among the three. This may seem to violate the market efficiency, because if the market were efficient, there would not be this momentum effect. "
      ]
    },
    {
      "cell_type": "markdown",
      "metadata": {
        "id": "BqdC6Vj1_MQS"
      },
      "source": [
        "## e)\tNow, let’s put together all of the information. Create a strategy that best exploits all of the facts found above. For example, this might entail going long small stocks and past 12-month losing stocks in January, and short large stocks and past 12-month winning stocks in January, doing the reverse in Dec., doing the opposite for 60-month winners and losers, etc. Try to maximize the Sharpe ratio of your portfolio based on the information you learned from the regressions above. Once you have created this strategy, compute its time-series mean, standard deviation, and Sharpe ratio."
      ]
    },
    {
      "cell_type": "markdown",
      "metadata": {
        "id": "0fR5YVyOZvOT"
      },
      "source": [
        "From what we got from earlier parts, there are January and December seasonality effects. Moreover, from the risk premium coefficient, the 12-month return are in the positive direction and the effect is more than 1-month for the January and December effect, while the 60-month return provides the highest negative effect for the Low.14 portfolio.\n",
        "\n",
        "Therefore, to maximize the Sharpe ratio, assuming that we could only hold one position at a time, we should: 1) in January long past 12-month wining small stocks (Low.5); 2) in February to November, short past 60-month winning biggest low stock (Low.14); 3) in December long past 12-month High.3 stock (High.8).\n"
      ]
    },
    {
      "cell_type": "code",
      "metadata": {
        "id": "sYC_18ZL8wDs",
        "outputId": "df1d08bc-4b59-4c5f-a4b8-67d56d54d425",
        "colab": {
          "base_uri": "https://localhost:8080/"
        }
      },
      "source": [
        "strat_port = all_return['Low'][5:]*0\n",
        "for i in strat_port.index:\n",
        "    if i.month == 1:\n",
        "        strat_port[i] = all_return['Low.5'][i]\n",
        "    elif i.month == 12:\n",
        "        strat_port[i] = all_return['High.8'][i]\n",
        "    else:\n",
        "        strat_port[i] = -1*all_return['Low.14'][i]\n",
        "sp_mean1 = np.mean(strat_port)\n",
        "sp_stddev1 = np.std(strat_port)\n",
        "RF = np.mean(factors['RF'][:1069])\n",
        "sp_sharpe1 = (sp_mean1 - RF) * np.sqrt(12) / sp_stddev1\n",
        "\n",
        "print(\"If we can hold one position at a time, the strategy mean is\", round(sp_mean1, 2), \\\n",
        "      \", the strategy standard deviation is\", round(sp_stddev1, 2), \", and the strategy sharpe ratio is\", \\\n",
        "      round(sp_sharpe1, 2))"
      ],
      "execution_count": null,
      "outputs": [
        {
          "output_type": "stream",
          "text": [
            "If we can hold one position at a time, the strategy mean is 2.14 , the strategy standard deviation is 14.64 , and the strategy sharpe ratio is 0.44\n"
          ],
          "name": "stdout"
        }
      ]
    },
    {
      "cell_type": "markdown",
      "metadata": {
        "id": "hIQnJcovTP2u"
      },
      "source": [
        "Additionally, to take this to the logical next step, if we are allowed to hold multiple position at a timewhen, we can add to our January and December position to achieve an even higher sharpe ratio. For January, we can long all past2-12 small size, short 2-12 large size. For december, we can long all high and short all low, regardless of size. We keep our position for Feburary to November."
      ]
    },
    {
      "cell_type": "code",
      "metadata": {
        "id": "Fu9dgZtWG3Io",
        "outputId": "746df97b-428b-4f54-933e-4ee95a17fa10",
        "colab": {
          "base_uri": "https://localhost:8080/"
        }
      },
      "source": [
        "strat_port2 = all_return['Low'][5:]*0\n",
        "for i in strat_port2.index:\n",
        "    if i.month == 1:\n",
        "        strat_port2[i] = all_return['Low.5'][i] + all_return['2.5'][i] + all_return['3.5'][i] + all_return['4.5'][i] + all_return['High.5'][i] \\\n",
        "        -  (all_return['Low.9'][i] + all_return['2.9'][i] + all_return['3.9'][i] + all_return['4.9'][i] + all_return['High.9'][i])\n",
        "    elif i.month == 12:\n",
        "        strat_port2[i] = all_return['High.5'][i] + all_return['High.6'][i] +all_return['High.7'][i]+all_return['High.8'][i] + +all_return['High.9'][i]\\\n",
        "        - (all_return['Low.5'][i] + all_return['Low.6'][i] + all_return['Low.7'][i] + all_return['Low.8'][i] + all_return['Low.9'][i])\n",
        "    else:\n",
        "        strat_port2[i] = -1*all_return['Low.14'][i]\n",
        "sp_mean2 = np.mean(strat_port2)\n",
        "sp_stddev2 = np.std(strat_port2)\n",
        "RF = np.mean(factors['RF'][:1069])\n",
        "sp_sharpe2 = np.mean(strat_port2 - factors['RF'][:1069]) *  np.sqrt(12)/ sp_stddev2\n",
        "\n",
        "print(\"If we can hold multiple positions at a time, the strategy mean is\", round(sp_mean2, 2), \\\n",
        "      \", the strategy standard deviation is\", round(sp_stddev2, 2), \", and the strategy sharpe ratio is\", \\\n",
        "      round(sp_sharpe2, 2))"
      ],
      "execution_count": null,
      "outputs": [
        {
          "output_type": "stream",
          "text": [
            "If we can hold multiple positions at a time, the strategy mean is 4.63 , the strategy standard deviation is 19.84 , and the strategy sharpe ratio is 0.76\n"
          ],
          "name": "stdout"
        }
      ]
    },
    {
      "cell_type": "markdown",
      "metadata": {
        "id": "OdCLe0YOmZBd"
      },
      "source": [
        "## f) .Compute the confidence interval around the Shape ratio you calculated in e.\n",
        "The Sharpe ratio is approximately distributed under a normal distribution:\n",
        "$$\n",
        "S R \\sim N\\left(\\frac{\\mu}{\\sigma}, \\frac{1}{T-1}\\left(1+\\frac{\\mu^{2}}{2 \\sigma^{2}}\\right)\\right)\n",
        "$$\n",
        "The Sharpe ratio is approximately distributed under more general conditions:\n",
        "$$\n",
        "\\begin{array}{l}S R \\sim N\\left(S R, \\frac{1}{T-1}\\left(1+\\frac{S R^{2}}{4}\\left[\\frac{\\mu_{4}}{\\sigma^{4}}-1\\right]-S R \\frac{\\mu_{3}}{\\sigma^{3}}\\right)\\right) \\\\ \\mu_{k}=E\\left[\\left(r_{t}-\\bar{r}\\right)^{k}\\right] \\\\ S R \\sim N\\left(S R, \\frac{1}{T-1}\\left(1+\\frac{S R^{2}}{4}[k u r t-1]-S R^{*} \\text { skew }\\right)\\right)\\end{array}\n",
        "$$\n",
        "Please compute the confidence intervals of your Sharpe ratio under both the normal and more general distributions.\n",
        "\n"
      ]
    },
    {
      "cell_type": "code",
      "metadata": {
        "id": "rTcFqFaCQWsX",
        "outputId": "bf3de260-8796-4d67-d807-52d04e596d4d",
        "colab": {
          "base_uri": "https://localhost:8080/"
        }
      },
      "source": [
        "print(\"Normal distribution:\")\n",
        "print(\"CI for our first strategy is [\", sp_sharpe1 - 1.96 * np.sqrt((1/(1069-1)) * (1 + 0.5 * sp_sharpe1**2)), sp_sharpe1 + 1.96 * np.sqrt((1/(1069-1)) * (1 + 0.5 * sp_sharpe1**2)),\"]\")\n",
        "print(\"CI for our second strategy is [\", sp_sharpe2 - 1.96 * np.sqrt((1/(1069-1)) * (1 + 0.5 * sp_sharpe2**2)), sp_sharpe2 + 1.96 * np.sqrt((1/(1069-1)) * (1 + 0.5 * sp_sharpe2**2)),\"]\")\n",
        "\n",
        "print(\"In general:\")\n",
        "mu4_1 = np.mean((strat_port - sp_mean1)**4)\n",
        "mu3_1 = np.mean((strat_port - sp_mean1)**3)\n",
        "\n",
        "mu4_2 = np.mean((strat_port2 - sp_mean2)**4)\n",
        "mu3_2 = np.mean((strat_port2 - sp_mean2)**3)\n",
        "\n",
        "upper_bd1 = sp_sharpe1 - 1.96 * np.sqrt((1/(1069-1)) * (1 + 0.25 * (sp_sharpe1**2) * (mu4_1 /(sp_stddev1**4) - 1) -  sp_sharpe1 * mu3_1/ (sp_stddev1**3)))\n",
        "lower_bd1 = sp_sharpe1 + 1.96 * np.sqrt((1/(1069-1)) * (1 + 0.25 * (sp_sharpe1**2) * (mu4_1 /(sp_stddev1**4) - 1) -  sp_sharpe1 * mu3_1/ (sp_stddev1**3)))\n",
        "\n",
        "upper_bd2 = sp_sharpe2 - 1.96 * np.sqrt((1/(1069-1)) * (1 + 0.25 * (sp_sharpe2**2) * (mu4_2 /(sp_stddev2**4) - 1) -  sp_sharpe1 * mu3_2/ (sp_stddev2**3)))\n",
        "lower_bd2 = sp_sharpe2 + 1.96 * np.sqrt((1/(1069-1)) * (1 + 0.25 * (sp_sharpe2**2) * (mu4_2 /(sp_stddev2**4) - 1) -  sp_sharpe1 * mu3_2/ (sp_stddev2**3)))\n",
        "\n",
        "print(\"CI for our first strategy is [\",upper_bd1,lower_bd1,\"]\" )\n",
        "print(\"CI for our second strategy is [\",upper_bd2,lower_bd2,\"]\" )"
      ],
      "execution_count": null,
      "outputs": [
        {
          "output_type": "stream",
          "text": [
            "Normal distribution:\n",
            "CI for our first strategy is [ 0.3760685718040904 0.5016615618402425 ]\n",
            "CI for our second strategy is [ 0.6914433139824485 0.8275977574344167 ]\n",
            "In general :\n",
            "CI for our first strategy is [ 0.40357351418097803 0.4741566194633549 ]\n",
            "CI for our second strategy is [ 0.6640098560420904 0.8550312153747748 ]\n"
          ],
          "name": "stdout"
        }
      ]
    },
    {
      "cell_type": "markdown",
      "metadata": {
        "id": "2oqycnPlmtGd"
      },
      "source": [
        "## g)\tNow let’s generate some random strategies. We have 75 size-past-return-based portfolios. Each month, randomly select a portfolio from the 75 size-past-return portfolios, and use its return as our random strategy return. (To do this, generate a random integer between 1 and 75, and use the portfolio corresponding to the random integer.) Do this each month and you have generated a time-series of returns to a random strategy.\n",
        "\n",
        "•\tThen, repeat this process of producing a random strategy 5,000 times so that you get 5,000 time-series of different random strategies.  \n",
        "\n",
        "•\tA useful function in Matlab is R = ceil(75.*rand(N,M)) where R equals an NxM matrix of random numbers between 1 and 75.\n",
        "\n",
        "•\tCompute the mean, standard deviation, and Sharpe ratio for each of these random strategies.\n",
        "\n",
        "•\tWhat fraction of these random strategies exhibit returns that are statistically different from zero?\n",
        "\n",
        "•\tPlot the 5,000 t-stats of the mean returns to these strategies in a histogram and comment on the number of t-stats greater than 2 or less than –2.  For the strategies that produced t-stats greater than 2 or less than –2, does this mean we have found a strategy that delivers performance?\n",
        "\n",
        "•\tWhat fraction of these random strategies exhibit Sharpe ratios that are larger than the strategy you created in part e)?\n",
        "\n",
        "•\tWhat fraction of these random strategies exhibit Sharpe ratios that are larger than the upper part of the confidence intervals you calculated in f)?\n",
        "\n",
        "\n"
      ]
    },
    {
      "cell_type": "code",
      "metadata": {
        "id": "MbP5ATmQ-bTX"
      },
      "source": [
        "M = 5000\n",
        "N = 1073\n",
        "values = np.ceil(np.random.rand(M, N) * 74)\n",
        "mean = []\n",
        "tstat = []\n",
        "stddev = []\n",
        "sharpe = []\n",
        "RF = np.mean(factors['RF'])\n",
        "\n",
        "for i in range(M):\n",
        "    temp = np.zeros(N)\n",
        "    for j in range(N):\n",
        "        column_idx = int(values[i,j])\n",
        "        temp[j] = all_return.iloc[j, column_idx]\n",
        "    mean_temp = np.nanmean(temp)\n",
        "    mean.append(mean_temp)\n",
        "    stddev_temp = np.nanstd(temp)\n",
        "    stddev.append(stddev_temp)\n",
        "    stderr_temp = stddev_temp / np.sqrt(N)\n",
        "    tstat.append(mean_temp / stderr_temp)\n",
        "    sharpe_temp = (np.nanmean(temp) - RF) / np.nanstd(temp) * np.sqrt(12)\n",
        "    sharpe.append(sharpe_temp)"
      ],
      "execution_count": null,
      "outputs": []
    },
    {
      "cell_type": "code",
      "metadata": {
        "id": "BjUgRFVVdc3S",
        "outputId": "53282f27-0d90-4d0d-ad83-782dcd0ff176",
        "colab": {
          "base_uri": "https://localhost:8080/",
          "height": 440
        }
      },
      "source": [
        "count = 0\n",
        "for i in tstat: \n",
        "    if i > 2 or i < -2 : \n",
        "        count = count + 1\n",
        "print('The portion of simulation that has t-stat great than 2 or less than 2 is', count / 5000*100, \"%\")\n",
        "fig=plt.figure(figsize=(12,6))\n",
        "plt.hist(tstat)\n",
        "plt.xlabel('t-stats')\n",
        "plt.ylabel('Frequency')\n",
        "plt.title('Part g): Frequency of Different T-Statistics for 5000 Simulations', fontsize=16)"
      ],
      "execution_count": null,
      "outputs": [
        {
          "output_type": "stream",
          "text": [
            "The portion of simulation that has t-stat great than 2 or less than 2 is 100.0 %\n"
          ],
          "name": "stdout"
        },
        {
          "output_type": "execute_result",
          "data": {
            "text/plain": [
              "Text(0.5, 1.0, 'Part g): Frequency of Different T-Statistics for 5000 Simulations')"
            ]
          },
          "metadata": {
            "tags": []
          },
          "execution_count": 56
        },
        {
          "output_type": "display_data",
          "data": {
            "image/png": "[encoded data removed]",
            "text/plain": [
              "<Figure size 864x432 with 1 Axes>"
            ]
          },
          "metadata": {
            "tags": [],
            "needs_background": "light"
          }
        }
      ]
    },
    {
      "cell_type": "markdown",
      "metadata": {
        "id": "SFF-bzv-NokO"
      },
      "source": [
        "We can see the histogram of the t-stats for the 5000 simulations above, which shows that all of the random strategies portfolios provide returns that are statistically different from zero (t-stat > 2 or t-stat < -2).\n",
        "\n",
        "That notwithstanding, although the strategies produce portfolios with overshelmingly high t-stats, we know from the portfolio construction that rationale of the strategy itself is pure randomness, and therefore it doesn't mean we have found a strategy that delivers performance."
      ]
    },
    {
      "cell_type": "code",
      "metadata": {
        "id": "jTT74T2GGRTo",
        "outputId": "2b0e8906-68c6-4380-f5f5-27852743c5d4",
        "colab": {
          "base_uri": "https://localhost:8080/",
          "height": 457
        }
      },
      "source": [
        "count = 0\n",
        "for i in sharpe: \n",
        "    if i > sp_sharpe1 : \n",
        "        count = count + 1\n",
        "print('The portion of simulation that has sharpe ratio greater than 0.44 (first strategy) is', count / 5000*100, \"%\")\n",
        "\n",
        "sp_sharpe1_upper = sp_sharpe1 + 1.96 * np.sqrt((1/(1069-1)) * (1 + 0.5 * sp_sharpe1**2))\n",
        "count = 0\n",
        "for i in sharpe: \n",
        "    if i > sp_sharpe1_upper: \n",
        "        count = count + 1\n",
        "print('The portion of simulation that has sharpe ratio greater than the upper limit of the 95% CI (normal distribution) for the first strategy is', count / 5000*100, \"%\")\n",
        "\n",
        "fig=plt.figure(figsize=(12,6))\n",
        "plt.hist(sharpe)\n",
        "plt.xlabel('Sharpe Ratio')\n",
        "plt.ylabel('Frequency')\n",
        "plt.title('Part g): Frequency of Different Sharpe Ratios for 5000 Simulations', fontsize=16)"
      ],
      "execution_count": null,
      "outputs": [
        {
          "output_type": "stream",
          "text": [
            "The portion of simulation that has sharpe ratio greater than 0.44 (first strategy) is 17.62 %\n",
            "The portion of simulation that has sharpe ratio greater than the upper limit of the 95% CI (normal distribution) for the first strategy is 0.88 %\n"
          ],
          "name": "stdout"
        },
        {
          "output_type": "execute_result",
          "data": {
            "text/plain": [
              "Text(0.5, 1.0, 'Part g): Frequency of Different Sharpe Ratios for 5000 Simulations')"
            ]
          },
          "metadata": {
            "tags": []
          },
          "execution_count": 62
        },
        {
          "output_type": "display_data",
          "data": {
            "image/png": "[encoded data removed]",
            "text/plain": [
              "<Figure size 864x432 with 1 Axes>"
            ]
          },
          "metadata": {
            "tags": [],
            "needs_background": "light"
          }
        }
      ]
    },
    {
      "cell_type": "markdown",
      "metadata": {
        "id": "ieu7arM4vCmL"
      },
      "source": [
        "•\tWhat danger does your answer to these last set of questions highlight in empirical work?"
      ]
    },
    {
      "cell_type": "markdown",
      "metadata": {
        "id": "9tK5G1VXrpbU"
      },
      "source": [
        "We could see that, empirically, there could be many ways to construct a strategy that seems to work - or provide higher return than normal with statistical significance. However, from the above exercises, we can see that having high return and high statistical significance is not sufficient to prove that there is a working strategy - while a working strategy necessarily has high return with statistical significance, the opposite is not true.\n",
        "\n",
        "In that sense, mining past datas to try to find a strategy that works could lead to a dangerously appealing result. We see that simply randomly selecting assets provides the possibility of good return with high statistical significance, yet there's no basis, either from the efficient market hypothesis or more behavioral standpoint, for such random strategy to work. Our answer highlight the danger of overfitting. Therefore, we need to be cautious when a strategy seems to work and examine whether the basis of its construction makes sense. "
      ]
    },
    {
      "cell_type": "markdown",
      "metadata": {
        "id": "FUFnV2ObpxfX"
      },
      "source": [
        "•\tBonus question:  Under the normal distribution, how probable are the max and min returns to your strategy in part e) (e.g., what is the probability you would see a return at least as high as the max or as low as the min) assuming\n",
        "\n",
        "a.\tthe backtested Sharpe ratio was the true Sharpe ratio?\n",
        "\n",
        "b.\tthe full range of confidence interval around the Sharpe ratio is possible?\n",
        "\n",
        "Under normal distribution, the max/min return to our strategy in e) has probability 5%. Our CI is $[0.37,0.50]$ or $[0.69, 0.83]$. However, from the simulation, we see that the upper confidence bound is below 0.6. The danger that my answer highlighted has stated above. "
      ]
    }
  ]
}