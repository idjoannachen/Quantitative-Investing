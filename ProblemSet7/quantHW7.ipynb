{
  "nbformat": 4,
  "nbformat_minor": 0,
  "metadata": {
    "colab": {
      "name": "quantHW7.ipynb",
      "provenance": [],
      "collapsed_sections": [],
      "toc_visible": true
    },
    "kernelspec": {
      "name": "python3",
      "display_name": "Python 3"
    }
  },
  "cells": [
    {
      "cell_type": "markdown",
      "metadata": {
        "id": "GnuloPwZugnF"
      },
      "source": [
        "# MGT 595 Problem Set 7 \n",
        "# Author: Denglin Wu, Adrienne Larson, Joanna Chen"
      ]
    },
    {
      "cell_type": "markdown",
      "metadata": {
        "id": "lnAXr_5HuDO_"
      },
      "source": [
        "In this problem set you will look at another potential source of risk / explanation of excess returns: Quality.  \n",
        "\n",
        "In order to proceed you need Microsoft Excel Problem_Set7.xls in the folder. These files contain spreadsheets:  \n",
        "\n",
        "1) monthly returns of 49 value-weighted industry portfolios; \n",
        "2) monthly returns of the Fama and French portfolios RMRF, SMB, HML, UMD, CMA, RMW, and rf; \n",
        "3) monthly returns of a betting-against-beta factor BAB, quality minus junk factor   QMJ\n"
      ]
    },
    {
      "cell_type": "markdown",
      "metadata": {
        "id": "HeOYZIIWuHOJ"
      },
      "source": [
        "# Part I:  Conceptual:\n",
        "\n",
        "1.\tWhat is quality?  How is it defined? Do you think it should have an effect on asset expected returns?  It this obvious, or is it surprising?\n",
        "\n",
        "2.\tHow is quality measured?  Is there an obvious way in which it should be measured?\n",
        "\n",
        "\n",
        "3.\tCompare and contrast the quality measurements used by\n",
        "a.\tRobert Novy-Marx (The Other side of Value)\n",
        "b.\tFrazzini and Pedersen (Betting Against Beta)\n",
        "c.\tAsness, Frazzini, Pedersen (Quality Minus Junk)\n",
        "d.\tFama, French (A five-factor asset pricing model)\n",
        "How do each measure the idea of “quality”?  Which measure do you find more reasonable and which not?  Why should any of these measures predict returns?  Is your explanation consistent or inconsistent with an efficient market?\n",
        "\n",
        "\n"
      ]
    },
    {
      "cell_type": "markdown",
      "metadata": {
        "id": "50hbfPnj7qJR"
      },
      "source": [
        "1. Quality could take on multiple definitions with different investors, but in general it represents something \"you are willing to pay a high price for, all else equal\". Some definitions of quality includes:\n",
        "\n",
        "  *   Profitabile\n",
        "  *   Safe\n",
        "  *   Good Governance\n",
        "  *   Good Growth (could be in terms of asset, earning, etc.)\n",
        "  *   High Payout\n",
        "  *   Creditworthy\n",
        "  *   Well-managed\n",
        "  *   Stability\n",
        "\n",
        "  Quality should have an effect on asset expected return. For example, investor should pay a price for the safety of an asset, e.g. lower expected return. On the other hand, a profitable asset might have a positive effect on expected return. In that sense, it is not obvious what such \"price\" should be, i.e. in which direction and in what magnitude.\n",
        "\n",
        "2. Quality can be measured by profitability, investors' willingness to pay, and a stock's beta or riskiness. In general, investors are willing to pay more for stocks with higher profitability, growth and payout prospects, and a lower perceived level of risk, or beta. Lower beta stocks are less risky and are more likely to be quality stocks. \n",
        "\n",
        "3. \n",
        " **a. Robert Novy-Marx (The Other side of Value):** \n",
        "\n",
        " **Measuring quality:**\n",
        " \n",
        " Gross profitability= (revenues-COGS)/ assets\n",
        " Novy-Marx uses gross profitability to measure quality\n",
        " \n",
        " Gross profits/ assets= sales/assets x gross profits/ sales\n",
        " \n",
        " Novy-Marx compared firms with high profits to firms with low profits and found that firms generating more profit earned higher returns for investors than firms generating low profits. He also found that gross profitability is a strong predictor of returns. \n",
        "\n",
        " **Rationale for predicting returns:** \n",
        "   \n",
        " Gross-profits-to-assets strongly predicts returns, especially controlling for book-to-market. Profitable firms have higher average returns than unprofitable firms.\n",
        "\n",
        " When analyzing how much of expected returns can be explained by value, momentum, and profitability, profitability proved to be a significant driver of returns.  \n",
        "\n",
        " Gross profitability, as a measure of quality, is a strong predictor of the cross-section of average returns. \n",
        "\n",
        " **b. Frazzini and Pedersen (Betting Against Beta):** \n",
        "\n",
        " **Measuring quality:**\n",
        "\n",
        "  Low beta stocks are a good predictor for quality, as both quality and low beta stocks tend to have low risk. Quality is therefore inversely correlated with beta: lower beta stocks can be a measure of higher quality assets. \n",
        "\n",
        "   **Rationale for predicting returns:**\n",
        "\n",
        " High-quality stocks have significantly higher returns and alphas than junk stocks.\n",
        "\n",
        " **c. Asness, Frazzini, Pedersen (Quality Minus Junk)**\n",
        "\n",
        " **Measuring quality:**\n",
        "\n",
        " Quality is defined with characteristics that should imply a higher price, all else equal: profitability, growth, safety, and payout. \n",
        "\n",
        " These characteristicare incorporated in Gordon’s growth model to find a stock’s price-to-book value (P/B). \n",
        "\n",
        " P/B = (profit/B x dividend/profit)/(required return – growth)\n",
        "\n",
        " can be rewritten as: \n",
        "P/B = (profitability x payout ratio)/(required return – growth)\n",
        "\n",
        " Profitability is captured in profits per unit of book value. Growth is prior five-year growth in each of the profitability measures. Safety is captured with required return, as investors should pay a higher price for a stock with a lower required return. Payout is captured with the fraction of profits paid out to shareholders. \n",
        "\n",
        " Each variable is converted into a ‘z-score’ and standardized. \n",
        "The four measures are then combined into a quality score: Quality = z(Profitability + Growth + Safety + Payout) \n",
        "\n",
        "  **Rationale for predicting returns:**\n",
        "\n",
        " High-quality stocks have significantly higher returns and alphas than junk stocks.\n",
        "\n",
        " **d. Fama, French (A five-factor asset pricing model)**\n",
        " \n",
        " **Measuring quality:**\n",
        " \n",
        " Fama and French use profitability as a measure of quality in their five-factor asset pricing model. They capture profitability with RMW – \"robust minus weak profitability\", or a portfolio that goes long profitable firms and short unprofitable firms. \n",
        "\n",
        "   **Rationale for predicting returns:**\n",
        "\n",
        " Fama and French (2018) found that average stock returns increase with profitability. Thus, profitability as a measure of quality can predict returns. \n",
        "\n",
        "*******\n",
        " The Novy-Marx measure seems the most intuitive and has the simples. Gross profitability and the equation used are straight forward and not overly complicated. Profitability is for the most part directly connected to quality and to risk-adjusted returns so the Novy-Marx equation is easy to follow. It also is intuitive that higher beta stocks would be an indicator of lower quality. And though the Fama, French five-factor model includes profitability it does not focus on quality compared to other measures. \n",
        "\n",
        "*******\n",
        "**Is your explanation consistent or inconsistent with an efficient market?**\n",
        "In an efficient market, higher returns are correlated with higher risk. The Novy-Marx meausure, therefore, is not consistent with our traditional efficient market assumptions. \n",
        "\n"
      ]
    },
    {
      "cell_type": "markdown",
      "metadata": {
        "id": "v7pdeDtq_DDo"
      },
      "source": [
        "# Data Processing"
      ]
    },
    {
      "cell_type": "code",
      "metadata": {
        "id": "cOCZrgB4_rwk",
        "outputId": "86ed25d4-4a0c-4590-a12d-87e8c6d91c07",
        "colab": {
          "base_uri": "https://localhost:8080/",
          "height": 72
        }
      },
      "source": [
        "import pandas as pd\n",
        "import numpy as np\n",
        "import statsmodels.api as sm\n",
        "from scipy import stats\n",
        "import matplotlib.pyplot as plt"
      ],
      "execution_count": 1,
      "outputs": [
        {
          "output_type": "stream",
          "text": [
            "/usr/local/lib/python3.6/dist-packages/statsmodels/tools/_testing.py:19: FutureWarning: pandas.util.testing is deprecated. Use the functions in the public API at pandas.testing instead.\n",
            "  import pandas.util.testing as tm\n"
          ],
          "name": "stderr"
        }
      ]
    },
    {
      "cell_type": "code",
      "metadata": {
        "id": "4dM1Ts5i_FvF"
      },
      "source": [
        "#--------------------Read subsheet 1--------------------\n",
        "sheet1=pd.read_excel(\"Problem_Set7Data.xlsx\", sheet_name='49 Industry Portfolios', \n",
        "                     skiprows=11, index_col=None, na_values=-99.99)\n",
        "sheet1[\"Date\"] = pd.to_datetime(sheet1[\"Unnamed: 0\"], format=\"%Y%m\")\n",
        "industries = sheet1.set_index(\"Date\")\n",
        "industries = industries.loc[industries.index.dropna()]\n",
        "industries = industries.drop(\"Unnamed: 0\", axis = 1)\n",
        "\n",
        "#--------------------Read subsheet 2--------------------\n",
        "sheet1=pd.read_excel(\"Problem_Set7Data.xlsx\", sheet_name='BAB,QMJ', \n",
        "                     index_col=None)\n",
        "sheet1[\"Date\"] = pd.to_datetime(sheet1[\"Unnamed: 0\"], format=\"%Y%m\")\n",
        "factor = sheet1.set_index(\"Date\")\n",
        "factor = factor.loc[factor.index.dropna()]\n",
        "factor = factor.drop(\"Unnamed: 0\", axis = 1)\n",
        "\n",
        "\n",
        "#--------------------Read subsheet 3--------------------\n",
        "sheet1=pd.read_excel(\"Problem_Set7Data.xlsx\", sheet_name='FamaFrenchPortfolios', \n",
        "                     skiprows=3, index_col=None)\n",
        "sheet1[\"Date\"] = pd.to_datetime(sheet1[\"Unnamed: 0\"], format=\"%Y%m\")\n",
        "ff_port = sheet1.set_index(\"Date\")\n",
        "ff_port = ff_port.loc[ff_port.index.dropna()]\n",
        "ff_port = ff_port.drop(\"Unnamed: 0\", axis = 1)"
      ],
      "execution_count": 2,
      "outputs": []
    },
    {
      "cell_type": "markdown",
      "metadata": {
        "id": "qirB3tXvuJfh"
      },
      "source": [
        "# Part II:  For the 49 industry portfolio data:\n",
        "\n"
      ]
    },
    {
      "cell_type": "markdown",
      "metadata": {
        "id": "hOMyPxk-uQHA"
      },
      "source": [
        " ## a. Using the market proxy and the risk-free rate, estimate the β_m for each of the portfolios."
      ]
    },
    {
      "cell_type": "code",
      "metadata": {
        "id": "5v2HPffVDQ4i"
      },
      "source": [
        "market = ff_port[['Mkt-RF', 'RF']]\n",
        "industries_1 = industries[:-2]\n",
        "beta_1 = []\n",
        "\n",
        "x = sm.add_constant(market['Mkt-RF'])\n",
        "\n",
        "for name in industries_1.columns:\n",
        "    y_temp = industries_1[name] - market['RF']\n",
        "    mod = sm.OLS(y_temp, x, missing = 'drop').fit()\n",
        "    beta_1.append(mod.params[1])\n",
        "\n",
        "# beta_1"
      ],
      "execution_count": 3,
      "outputs": []
    },
    {
      "cell_type": "markdown",
      "metadata": {
        "id": "739ygCpZuT2h"
      },
      "source": [
        "## b. Calculate the expected return of each of the portfolios for the time period specified (that is, estimate the expected return). \n"
      ]
    },
    {
      "cell_type": "code",
      "metadata": {
        "id": "mXT67zW0dJaB"
      },
      "source": [
        "return_1 = []\n",
        "\n",
        "for name in industries_1.columns:\n",
        "    return_temp = industries_1[name].mean()\n",
        "    return_1.append(return_temp)"
      ],
      "execution_count": 4,
      "outputs": []
    },
    {
      "cell_type": "markdown",
      "metadata": {
        "id": "4GXzLnL_IkBk"
      },
      "source": [
        "## c. Plot the data on an axis of expected return vs β_m."
      ]
    },
    {
      "cell_type": "code",
      "metadata": {
        "id": "xM0nuc26d3g6",
        "outputId": "b33a8dea-a57d-4fc6-ccbc-2c1d7938d3e3",
        "colab": {
          "base_uri": "https://localhost:8080/",
          "height": 424
        }
      },
      "source": [
        "fig=plt.figure(figsize=(12,6))\n",
        "plt.plot(beta_1, return_1, '.', markersize=10)\n",
        "plt.xlabel('Beta_m')\n",
        "plt.ylabel('Expected REturn');\n",
        "plt.title('Part II c): Expected Return vs Industries Beta', fontsize=16)\n",
        "plt.xlim(0, 2)\n",
        "plt.ylim(0, 2)"
      ],
      "execution_count": 5,
      "outputs": [
        {
          "output_type": "execute_result",
          "data": {
            "text/plain": [
              "(0.0, 2.0)"
            ]
          },
          "metadata": {
            "tags": []
          },
          "execution_count": 5
        },
        {
          "output_type": "display_data",
          "data": {
            "image/png": "[encoded data removed]",
            "text/plain": [
              "<Figure size 864x432 with 1 Axes>"
            ]
          },
          "metadata": {
            "tags": [],
            "needs_background": "light"
          }
        }
      ]
    },
    {
      "cell_type": "markdown",
      "metadata": {
        "id": "fsCvZRs0wOFh"
      },
      "source": [
        "\n",
        "## d. Is this the shape you would expect to see for this data, given theory (like the CAPM) is true?\n"
      ]
    },
    {
      "cell_type": "markdown",
      "metadata": {
        "id": "lyYbJ1H7d5pl"
      },
      "source": [
        "This is not the shape we would expect to see. In general, although the data seems to show a weak positive relationship between expected return and $\\beta$ in the low $\\beta$ portion, we can see that the relationship is quite flat, if not negative. In fact, this observation is particularly strong as $\\beta$ increases, i.e. as $\\beta$ increases, expected return seems to flatten or even decreases. This is against theory such as CAPM, which states that higher $\\beta$ would provide higher expected return (i.e. a strong linear relationship between higher $\\beta$ and higher returns)."
      ]
    },
    {
      "cell_type": "markdown",
      "metadata": {
        "id": "MoaUY-KKwPca"
      },
      "source": [
        "\n",
        "## e. Plot the security market line you would expect to see in theory (note:  A line can be specified by two points, think of the two points on the SML that you know). \n",
        "\n"
      ]
    },
    {
      "cell_type": "code",
      "metadata": {
        "id": "-07x19IugON9",
        "outputId": "31f580b8-26ca-4043-cc51-0efd98cffe53",
        "colab": {
          "base_uri": "https://localhost:8080/",
          "height": 424
        }
      },
      "source": [
        "fig=plt.figure(figsize=(12,6))\n",
        "plt.plot([0, 2], [0, 2], '--')\n",
        "plt.plot(beta_1, return_1, '.', markersize=10)\n",
        "plt.xlabel('Beta_m')\n",
        "plt.ylabel('Expected REturn');\n",
        "plt.title('Part II e): Security Market Line', fontsize=16)\n",
        "plt.xlim(0, 2)\n",
        "plt.ylim(0, 2)"
      ],
      "execution_count": 6,
      "outputs": [
        {
          "output_type": "execute_result",
          "data": {
            "text/plain": [
              "(0.0, 2.0)"
            ]
          },
          "metadata": {
            "tags": []
          },
          "execution_count": 6
        },
        {
          "output_type": "display_data",
          "data": {
            "image/png": "[encoded data removed]",
            "text/plain": [
              "<Figure size 864x432 with 1 Axes>"
            ]
          },
          "metadata": {
            "tags": [],
            "needs_background": "light"
          }
        }
      ]
    },
    {
      "cell_type": "markdown",
      "metadata": {
        "id": "Gd46DZNUwQxt"
      },
      "source": [
        "## f. Plot a line of best fit through the data you plotted in c).  How does this line compare with the theoretical line in e)?  What might cause this, and what kind of implications does this have for asset pricing models?\n",
        "\n"
      ]
    },
    {
      "cell_type": "code",
      "metadata": {
        "id": "jgFE0H_XhlJh",
        "outputId": "bb90d884-8df3-4d55-82fd-2eabe5feabca",
        "colab": {
          "base_uri": "https://localhost:8080/",
          "height": 424
        }
      },
      "source": [
        "fig=plt.figure(figsize=(12,6))\n",
        "plt.plot([0, 2], [0, 2], '--')\n",
        "plt.plot(beta_1, return_1, '.', markersize=10)\n",
        "plt.plot(np.unique(beta_1), np.poly1d(np.polyfit(beta_1, return_1, 1))(np.unique(beta_1)), '--')\n",
        "plt.xlabel('Beta_m')\n",
        "plt.ylabel('Expected REturn');\n",
        "plt.title('Part II f): Security Market Line and Best Fit Line', fontsize=16)\n",
        "plt.xlim(0, 2)\n",
        "plt.ylim(0, 2)"
      ],
      "execution_count": 7,
      "outputs": [
        {
          "output_type": "execute_result",
          "data": {
            "text/plain": [
              "(0.0, 2.0)"
            ]
          },
          "metadata": {
            "tags": []
          },
          "execution_count": 7
        },
        {
          "output_type": "display_data",
          "data": {
            "image/png": "[encoded data removed]",
            "text/plain": [
              "<Figure size 864x432 with 1 Axes>"
            ]
          },
          "metadata": {
            "tags": [],
            "needs_background": "light"
          }
        }
      ]
    },
    {
      "cell_type": "markdown",
      "metadata": {
        "id": "TFQUzbb7ikjj"
      },
      "source": [
        "As discussed in part d, we can see that the best fit line has a negative relationship between expected return and $\\beta$, which is completely against the theoretical security market line (quality anamoly).\n",
        "\n",
        "If the investors overwhelmingly adopt asset pricing models such as CAPM, investors would want to invest in higher $\\beta$ assets to achieve higher returns. However, that may then drive up the assets' prices and therefore lower their return, which explains for the high $\\beta$ low return data. The opposite is also true, where investors avoid low $\\beta$ assets and therefore these assets are consistently undervalued in its price but have high returns. The plot shows that asset pricing models such as CAPM may undervalue low $\\beta$ assets and overvalue high $\\beta$ assets."
      ]
    },
    {
      "cell_type": "markdown",
      "metadata": {
        "id": "_Ogy1vFxwSHD"
      },
      "source": [
        "## g. What kind of real life constraints might lead to this effect?\n",
        "\n"
      ]
    },
    {
      "cell_type": "markdown",
      "metadata": {
        "id": "aFdecScPkzv5"
      },
      "source": [
        "Real life constraints that may lead to this flat or even negative relationship between expected return and $\\beta$ include borrowing constraints and corresponding leverage level of investors."
      ]
    },
    {
      "cell_type": "markdown",
      "metadata": {
        "id": "H1b9GjrQwUPE"
      },
      "source": [
        "## h. How would you take advantage of the findings in the graph if you thought the CAPM was the right model?\n"
      ]
    },
    {
      "cell_type": "markdown",
      "metadata": {
        "id": "yor6pNcCmHn4"
      },
      "source": [
        "To take advantage of the findings, we could simply long low $\\beta$ assets and short high $\\beta$ assets to achieve high overall return for the portfolios.\n",
        "\n",
        "In other words, the industries above the SML are undervalued and the industries below the SML are overvalued; we should short the overvalued stocks and long the undervalued stocks. "
      ]
    },
    {
      "cell_type": "markdown",
      "metadata": {
        "id": "CTKolf_5ub5i"
      },
      "source": [
        "# Part III:  Using the BAB factor"
      ]
    },
    {
      "cell_type": "markdown",
      "metadata": {
        "id": "CY2an7r8I5gC"
      },
      "source": [
        "## a. Consider a factor model test (with cross sectional regression) of the form:\n",
        "$$R_{i}=\\gamma_{0}+\\gamma_{M} \\beta_{i m}+\\hat{\\gamma}_{h m l} \\beta_{i, h m l}+\\gamma_{U M D} \\beta_{i, U M D}+\\gamma_{B A B} \\beta_{i, B A B}+\\eta_{i}$$\n",
        "where BAB is a “betting-against-beta” portfolio constructed in the style of Fama/French, and the other factors are as created by Fama/French.\n"
      ]
    },
    {
      "cell_type": "markdown",
      "metadata": {
        "id": "YGWkyUi7JCC8"
      },
      "source": [
        "## b.\tRun a cross-sectional regression test on the 49 portfolios using the above model.  Do so in the style of Fama-MacBeth, where you:\n",
        "- Estimate β_i for each portfolio, where β_i is a vector of the coefficients on all of the explanatory factors.\n",
        "- 2nd pass: for each month t_i run a regression of R_i and β_i to compute all of the γ in each given month.\n",
        "- Now, take the time series you have for γ_i and compute t-stat, standard deviation, standard error, p value, etc. for each factor. \n"
      ]
    },
    {
      "cell_type": "code",
      "metadata": {
        "id": "d7Amfn4lunT9"
      },
      "source": [
        "# Step 1\n",
        "factors = ff_port[['Mkt-RF', 'HML', 'UMD']]\n",
        "factors = pd.concat([factors, factor['BAB']], axis=1)\n",
        "industries_2 = industries[:-2]\n",
        "\n",
        "beta_m = []\n",
        "beta_hml = []\n",
        "beta_umd = []\n",
        "beta_bab = []\n",
        "\n",
        "x = sm.add_constant(factors)\n",
        "\n",
        "for name in industries_2.columns:\n",
        "  y_temp = industries_1[name] - market['RF']\n",
        "  mod2 = sm.OLS(y_temp, x, missing = 'drop').fit()\n",
        "  beta_m.append(mod2.params[1])\n",
        "  beta_hml.append(mod2.params[2])\n",
        "  beta_umd.append(mod2.params[3])\n",
        "  beta_bab.append(mod2.params[4])"
      ],
      "execution_count": 8,
      "outputs": []
    },
    {
      "cell_type": "code",
      "metadata": {
        "id": "akxvZuAP-qZJ"
      },
      "source": [
        "# Step 2 and Step 3\n",
        "d = {'beta_m': beta_m, 'beta_hml': beta_hml, \"beta_umd\": beta_umd, \"beta_bab\": beta_bab}\n",
        "betas = pd.DataFrame(d)\n",
        "betas.index = industries_2.columns\n",
        "x = sm.add_constant(betas)\n",
        "avg_return = pd.DataFrame(industries.mean())\n",
        "\n",
        "mod3 = sm.OLS(avg_return, x).fit()"
      ],
      "execution_count": 9,
      "outputs": []
    },
    {
      "cell_type": "markdown",
      "metadata": {
        "id": "B6dYr4jkJF0G"
      },
      "source": [
        "## c. \tReport the p-value, t-stat, and estimate for the risk premia γ for each risk factor above. "
      ]
    },
    {
      "cell_type": "code",
      "metadata": {
        "id": "jWncyx5C4RUW",
        "outputId": "8330c0bd-457d-47a7-ef18-6bc1a14e20c7",
        "colab": {
          "base_uri": "https://localhost:8080/",
          "height": 104
        }
      },
      "source": [
        "print(\"coefficient->\",\"gamma_0: \",round(mod3.params[0],2), \"gamma_market: \",round(mod3.params[1],2),\\\n",
        "      \"gamma_hml: \", round(mod3.params[2],2), \"gamma_umd: \", round(mod3.params[3],2), \"gamma_bab\", round(mod3.params[4],2))\n",
        "print(\"Standard Error->\",\"gamma_0: \",round(mod3.bse[0],2), \"gamma_market: \",round(mod3.bse[1],2),\\\n",
        "      \"gamma_hml: \", round(mod3.bse[2],2), \"gamma_umd: \", round(mod3.bse[3],2), \"gamma_bab\", round(mod3.bse[4],2))\n",
        "print(\"t-stat->\",\"gamma_0: \",round(mod3.tvalues[0],2), \"gamma_market: \",round(mod3.tvalues[1],2),\\\n",
        "      \"gamma_hml: \", round(mod3.tvalues[2],2), \"gamma_umd: \", round(mod3.tvalues[3],2), \"gamma_bab\", round(mod3.tvalues[4],2))\n",
        "print(\"p-value->\",\"gamma_0: \",round(mod3.pvalues[0],2), \"gamma_market: \",round(mod3.pvalues[1],2),\\\n",
        "      \"gamma_hml: \", round(mod3.pvalues[2],2), \"gamma_umd: \", round(mod3.pvalues[3],2), \"gamma_bab\", round(mod3.pvalues[4],2))\n",
        "print(\"r-squared->\", round(mod3.rsquared,2))"
      ],
      "execution_count": 10,
      "outputs": [
        {
          "output_type": "stream",
          "text": [
            "coefficient-> gamma_0:  1.1 gamma_market:  -0.07 gamma_hml:  -0.07 gamma_umd:  0.19 gamma_bab 0.0\n",
            "Standard Error-> gamma_0:  0.17 gamma_market:  0.15 gamma_hml:  0.1 gamma_umd:  0.3 gamma_bab 0.0\n",
            "t-stat-> gamma_0:  6.69 gamma_market:  -0.47 gamma_hml:  -0.73 gamma_umd:  0.64 gamma_bab 0.14\n",
            "p-value-> gamma_0:  0.0 gamma_market:  0.64 gamma_hml:  0.47 gamma_umd:  0.53 gamma_bab 0.89\n",
            "r-squared-> 0.05\n"
          ],
          "name": "stdout"
        }
      ]
    },
    {
      "cell_type": "markdown",
      "metadata": {
        "id": "cxxZrzSGJJK7"
      },
      "source": [
        "## d.\tDoes exposure to the BAB factor here help explain any of the variation in expected returns?  Does this make sense?\n",
        "\n"
      ]
    },
    {
      "cell_type": "markdown",
      "metadata": {
        "id": "xZy9t0b85WPo"
      },
      "source": [
        "From the above summary statistics, it doesn't seem like the exposure to the BAB factor helps explain the variation in expected return since the p-values for the different $\\gamma$ factors are overwhelmingly too high, except for the constant term. This means that the factors aren't statistically significant. This somewhat makes sense since BAB is akin to SMB, and the size factor as shown in previous homework doesn't help explain the expected return.\n",
        "\n"
      ]
    },
    {
      "cell_type": "markdown",
      "metadata": {
        "id": "0XsourLUwTXL"
      },
      "source": [
        "## e.\tIs there anything about the test results that does not sit well with you?  What about the r^2? The coefficient on the market beta?"
      ]
    },
    {
      "cell_type": "markdown",
      "metadata": {
        "id": "u0XJN-6NEe4l"
      },
      "source": [
        "The r-squared for the regression is also very low, in fact at only 5%, indicating that these factors together can only account for 5% of the expected return, which seems even lower than without BAB. Additionally, the coefficient on the market beta is a negative number, which also seems to be at odd with our intuition since the return should have a positive relationship with the market return."
      ]
    },
    {
      "cell_type": "markdown",
      "metadata": {
        "id": "EmDd9_g4JQ-l"
      },
      "source": [
        "# Part IV:  Comparing Quality:\n",
        "\n"
      ]
    },
    {
      "cell_type": "markdown",
      "metadata": {
        "id": "jhsIGcxEJTUA"
      },
      "source": [
        "## a)\tRepeat part III but for the QMJ factor instead of BAB."
      ]
    },
    {
      "cell_type": "code",
      "metadata": {
        "id": "78P88WjxHje8",
        "outputId": "c1b40a84-af08-4276-ef09-1591e4272f1d",
        "colab": {
          "base_uri": "https://localhost:8080/",
          "height": 104
        }
      },
      "source": [
        "# Step 1\n",
        "factors = ff_port[['Mkt-RF', 'HML', 'UMD']]\n",
        "factors = pd.concat([factors, factor['QMJ']], axis=1)\n",
        "industries_2 = industries[:-2]\n",
        "\n",
        "beta_m = []\n",
        "beta_hml = []\n",
        "beta_umd = []\n",
        "beta_qmj = []\n",
        "\n",
        "x = sm.add_constant(factors)\n",
        "\n",
        "for name in industries_2.columns:\n",
        "  y_temp = industries_1[name] - market['RF']\n",
        "  mod2 = sm.OLS(y_temp, x, missing = 'drop').fit()\n",
        "  beta_m.append(mod2.params[1])\n",
        "  beta_hml.append(mod2.params[2])\n",
        "  beta_umd.append(mod2.params[3])\n",
        "  beta_qmj.append(mod2.params[4])\n",
        "\n",
        "# Step 2 and Step 3\n",
        "d = {'beta_m': beta_m, 'beta_hml': beta_hml, \"beta_umd\": beta_umd, \"beta_qmj\": beta_bab}\n",
        "betas = pd.DataFrame(d)\n",
        "betas.index = industries_2.columns\n",
        "x = sm.add_constant(betas)\n",
        "avg_return = pd.DataFrame(industries.mean())\n",
        "\n",
        "mod4 = sm.OLS(avg_return, x).fit()\n",
        "\n",
        "print(\"coefficient->\",\"gamma_0: \",round(mod4.params[0],2), \"gamma_market: \",round(mod4.params[1],2),\\\n",
        "      \"gamma_hml: \", round(mod4.params[2],2), \"gamma_umd: \", round(mod4.params[3],2), \"gamma_qmj\", round(mod4.params[4],2))\n",
        "print(\"Standard Error->\",\"gamma_0: \",round(mod4.bse[0],2), \"gamma_market: \",round(mod4.bse[1],2),\\\n",
        "      \"gamma_hml: \", round(mod4.bse[2],2), \"gamma_umd: \", round(mod4.bse[3],2), \"gamma_qmj\", round(mod4.bse[4],2))\n",
        "print(\"t-stat->\",\"gamma_0: \",round(mod4.tvalues[0],2), \"gamma_market: \",round(mod4.tvalues[1],2),\\\n",
        "      \"gamma_hml: \", round(mod4.tvalues[2],2), \"gamma_umd: \", round(mod4.tvalues[3],2), \"gamma_qmj\", round(mod4.tvalues[4],2))\n",
        "print(\"p-value->\",\"gamma_0: \",round(mod4.pvalues[0],2), \"gamma_market: \",round(mod4.pvalues[1],2),\\\n",
        "      \"gamma_hml: \", round(mod4.pvalues[2],2), \"gamma_umd: \", round(mod4.pvalues[3],2), \"gamma_qmj\", round(mod4.pvalues[4],2))\n",
        "print(\"r-squared->\", round(mod4.rsquared,2))"
      ],
      "execution_count": 11,
      "outputs": [
        {
          "output_type": "stream",
          "text": [
            "coefficient-> gamma_0:  0.93 gamma_market:  0.08 gamma_hml:  -0.09 gamma_umd:  0.1 gamma_qmj 0.0\n",
            "Standard Error-> gamma_0:  0.18 gamma_market:  0.17 gamma_hml:  0.1 gamma_umd:  0.29 gamma_qmj 0.0\n",
            "t-stat-> gamma_0:  5.24 gamma_market:  0.51 gamma_hml:  -0.87 gamma_umd:  0.36 gamma_qmj 0.78\n",
            "p-value-> gamma_0:  0.0 gamma_market:  0.62 gamma_hml:  0.39 gamma_umd:  0.72 gamma_qmj 0.44\n",
            "r-squared-> 0.03\n"
          ],
          "name": "stdout"
        }
      ]
    },
    {
      "cell_type": "markdown",
      "metadata": {
        "id": "9nhGh6K2JVwu"
      },
      "source": [
        "## b)\tRepeat part III but for the RMW factor instead of BAB."
      ]
    },
    {
      "cell_type": "code",
      "metadata": {
        "id": "ggEFlM3CIMZ9",
        "outputId": "82759b1a-edb8-491e-8830-eb4cc6f05d19",
        "colab": {
          "base_uri": "https://localhost:8080/",
          "height": 104
        }
      },
      "source": [
        "# Step 1\n",
        "factors = ff_port[['Mkt-RF', 'HML', 'UMD', 'RMW']]\n",
        "industries_2 = industries[:-2]\n",
        "\n",
        "beta_m = []\n",
        "beta_hml = []\n",
        "beta_umd = []\n",
        "beta_rmw = []\n",
        "\n",
        "x = sm.add_constant(factors)\n",
        "\n",
        "for name in industries_2.columns:\n",
        "  y_temp = industries_1[name] - market['RF']\n",
        "  mod2 = sm.OLS(y_temp, x, missing = 'drop').fit()\n",
        "  beta_m.append(mod2.params[1])\n",
        "  beta_hml.append(mod2.params[2])\n",
        "  beta_umd.append(mod2.params[3])\n",
        "  beta_rmw.append(mod2.params[4])\n",
        "\n",
        "# Step 2 and Step 3\n",
        "d = {'beta_m': beta_m, 'beta_hml': beta_hml, \"beta_umd\": beta_umd, \"beta_rmw\": beta_bab}\n",
        "betas = pd.DataFrame(d)\n",
        "betas.index = industries_2.columns\n",
        "x = sm.add_constant(betas)\n",
        "avg_return = pd.DataFrame(industries.mean())\n",
        "\n",
        "mod5 = sm.OLS(avg_return, x).fit()\n",
        "\n",
        "print(\"coefficient->\",\"gamma_0: \",round(mod5.params[0],2), \"gamma_market: \",round(mod5.params[1],2),\\\n",
        "      \"gamma_hml: \", round(mod5.params[2],2), \"gamma_umd: \", round(mod5.params[3],2), \"gamma_rmw\", round(mod5.params[4],2))\n",
        "print(\"Standard Error->\",\"gamma_0: \",round(mod5.bse[0],2), \"gamma_market: \",round(mod5.bse[1],2),\\\n",
        "      \"gamma_hml: \", round(mod5.bse[2],2), \"gamma_umd: \", round(mod5.bse[3],2), \"gamma_rmw\", round(mod5.bse[4],2))\n",
        "print(\"t-stat->\",\"gamma_0: \",round(mod5.tvalues[0],2), \"gamma_market: \",round(mod5.tvalues[1],2),\\\n",
        "      \"gamma_hml: \", round(mod5.tvalues[2],2), \"gamma_umd: \", round(mod5.tvalues[3],2), \"gamma_rmw\", round(mod5.tvalues[4],2))\n",
        "print(\"p-value->\",\"gamma_0: \",round(mod5.pvalues[0],2), \"gamma_market: \",round(mod5.pvalues[1],2),\\\n",
        "      \"gamma_hml: \", round(mod5.pvalues[2],2), \"gamma_umd: \", round(mod5.pvalues[3],2), \"gamma_rmw\", round(mod5.pvalues[4],2))\n",
        "print(\"r-squared->\", round(mod5.rsquared,2))"
      ],
      "execution_count": 12,
      "outputs": [
        {
          "output_type": "stream",
          "text": [
            "coefficient-> gamma_0:  1.06 gamma_market:  -0.04 gamma_hml:  -0.09 gamma_umd:  0.11 gamma_rmw 0.0\n",
            "Standard Error-> gamma_0:  0.17 gamma_market:  0.15 gamma_hml:  0.1 gamma_umd:  0.29 gamma_rmw 0.0\n",
            "t-stat-> gamma_0:  6.43 gamma_market:  -0.24 gamma_hml:  -0.97 gamma_umd:  0.36 gamma_rmw 0.48\n",
            "p-value-> gamma_0:  0.0 gamma_market:  0.81 gamma_hml:  0.34 gamma_umd:  0.72 gamma_rmw 0.64\n",
            "r-squared-> 0.04\n"
          ],
          "name": "stdout"
        }
      ]
    },
    {
      "cell_type": "markdown",
      "metadata": {
        "id": "5bdSBZ8SJZfX"
      },
      "source": [
        "\n",
        "## c)\tHow do your results for the QMJ factor affect your beliefs about the BAB factor?\n",
        "\n"
      ]
    },
    {
      "cell_type": "markdown",
      "metadata": {
        "id": "50swL_78IQHd"
      },
      "source": [
        "The results for QMJ certainly provides a perspective in evaluating the BAB factor, since the BAB factor, while not great in its predictive power, seem slightly better than QMJ."
      ]
    },
    {
      "cell_type": "markdown",
      "metadata": {
        "id": "OcY7HDG7Jdfw"
      },
      "source": [
        "\n",
        "## d)\tWhich do you think is a better measure of quality? Why?  Are they picking up the same effects?\n",
        "\n"
      ]
    },
    {
      "cell_type": "markdown",
      "metadata": {
        "id": "Pw2lGexHI1FP"
      },
      "source": [
        "Comparing QMJ to BAB, it is still hard to conclude which factor is the better factor. For one, the r-squared for BAB is higher than that of QMJ, meaning that by including BAB the regression can better explain the return. For the other, the coefficient for the market when we include QMJ in the regression provides a positive number, which agrees with our intuition where the return should be positively correlated to the market."
      ]
    },
    {
      "cell_type": "markdown",
      "metadata": {
        "id": "5RGQ0-HeJezn"
      },
      "source": [
        "## e)\tWhich do you think goes a longer way in explaining the cross section of expected returns? "
      ]
    },
    {
      "cell_type": "markdown",
      "metadata": {
        "id": "vP2REHrTJG4b"
      },
      "source": [
        "We believe QMJ might go a longer way in explaining the cross section of expected returns. This is because, while the r-squared is slightly lower than BAB, the p-value is lower than that of BAB, providing a slightly statistically significant measure."
      ]
    },
    {
      "cell_type": "markdown",
      "metadata": {
        "id": "AyDYwkJ-Jg9f"
      },
      "source": [
        "# Part V:  Concluding:"
      ]
    },
    {
      "cell_type": "markdown",
      "metadata": {
        "id": "hue9akywJhwI"
      },
      "source": [
        "## 1.\tCan you come up with one test that you would like to see performed that might shed some more light on this “quality” anomaly?  Suggest any test and describe how you would go about performing it, but DO NOT do any analysis (unless, of course you really want to and then I’ll be impressed!)."
      ]
    },
    {
      "cell_type": "markdown",
      "metadata": {
        "id": "Yhku7zLMJt7M"
      },
      "source": [
        "Perhaps from a behavioral standpoint there may be some explanation as to why investors overvalue stocks with high $\\beta$ and undervalue stocks with low $\\beta$. Intuitively, this may be more true for investors with more stringent requirements (be it regulatory or not) in terms of consistency, such as pension funds and school endowments, compared to less risk averse investors such as hedge fund managers.\n",
        "\n",
        "As such, one may obtain data from these two sides of the investment commnity to confirm or negate this hypothesis. "
      ]
    }
  ]
}