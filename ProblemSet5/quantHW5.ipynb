{
  "nbformat": 4,
  "nbformat_minor": 0,
  "metadata": {
    "colab": {
      "name": "quantHW5",
      "provenance": [],
      "collapsed_sections": [],
      "toc_visible": true
    },
    "kernelspec": {
      "name": "python3",
      "display_name": "Python 3"
    }
  },
  "cells": [
    {
      "cell_type": "markdown",
      "metadata": {
        "id": "oo4u15sDFJiw"
      },
      "source": [
        "# MGT 595 Problem Set 5\n",
        "# Author: Denglin Wu, Joanna Chen\n",
        "# October 6, 2020"
      ]
    },
    {
      "cell_type": "code",
      "metadata": {
        "id": "xu3nbRKajXOB",
        "outputId": "48407a62-f39c-45c5-f5cc-046eca06ea91",
        "colab": {
          "base_uri": "https://localhost:8080/",
          "height": 72
        }
      },
      "source": [
        "import pandas as pd\n",
        "import numpy as np\n",
        "import statsmodels.api as sm\n",
        "from scipy.stats import f\n",
        "import matplotlib.pyplot as plt"
      ],
      "execution_count": 1,
      "outputs": [
        {
          "output_type": "stream",
          "text": [
            "/usr/local/lib/python3.6/dist-packages/statsmodels/tools/_testing.py:19: FutureWarning: pandas.util.testing is deprecated. Use the functions in the public API at pandas.testing instead.\n",
            "  import pandas.util.testing as tm\n"
          ],
          "name": "stderr"
        }
      ]
    },
    {
      "cell_type": "markdown",
      "metadata": {
        "id": "aBMt02dgefZk"
      },
      "source": [
        "This problem set explores the value-growth effect on two dimensions: \n",
        "\n",
        "1) how these returns vary over the business cycle and \n",
        "\n",
        "2) whether characteristics or covariances better capture their returns. \n",
        "\n",
        "We will also look at the characteristics vs. covariance debate for another anomaly – momentum. Reading the Lakonishok, Shleifer, and Vishny (1994) and Daniel and Titman (1997) articles will be most useful.\n",
        "\n",
        "In order to proceed you need Microsoft Excel and file “Problem_Set5.xls”. This file contains three spreadsheets:\n",
        "\n",
        "1)\tThe factor portfolios calculated by Fama and French, a dummy variable indicating recessionary periods as defined by the National Bureau of Economic Research.  In addition, the file contains monthly T-bill returns. The factor portfolios include the RMRF portfolio (market minus T-bill rate), SMB portfolio (size factor), HML portfolio (book-to-market factor), and UMD portfolio (momentum factor).\n",
        "\n",
        "2)\tThe 25 size and BE/ME sorted portfolios of Fama and French. The value-weighted average returns, average size, and average BE/ME characteristic of each of these portfolios over time are provided.\n",
        "\n",
        "3)\tThe 25 size and Momentum (past 2-to-12 month return) sorted portfolios of Fama and French. The value-weighted average returns, average size, and average past return characteristic of each of these portfolios over time are provided.\n",
        "\n",
        "\n"
      ]
    },
    {
      "cell_type": "markdown",
      "metadata": {
        "id": "vBR0iEztfQxT"
      },
      "source": [
        "# Data Processing"
      ]
    },
    {
      "cell_type": "code",
      "metadata": {
        "id": "1Ilm3xzrfTQN"
      },
      "source": [
        "#--------------------Read subsheet 1--------------------\n",
        "sheet1=pd.read_excel(\"Problem_Set5.xls\", sheet_name='Fama-French factors', \n",
        "                     skiprows=2, index_col=None, na_values=-999)\n",
        "sheet1[\"Date\"] = pd.to_datetime(sheet1[\"Unnamed: 0\"], format=\"%Y%m\")\n",
        "factors = sheet1.set_index(\"Date\")\n",
        "factors = factors.loc[factors.index.dropna()]\n",
        "factors = factors.drop(\"Unnamed: 0\", axis = 1)\n",
        "\n",
        "#--------------------Read subsheet 2--------------------\n",
        "sheet2_return=pd.read_excel(\"Problem_Set5.xls\", sheet_name='25_Size_BEME_Portfolios', \n",
        "                     skiprows=2, index_col=None, usecols=\"A:Z\", na_values=-999)\n",
        "sheet2_return[\"Date\"] = pd.to_datetime(sheet2_return[\"BE/ME\"], format=\"%Y%m\")\n",
        "s2_return = sheet2_return.set_index(\"Date\")\n",
        "s2_return = s2_return.loc[s2_return.index.dropna()]\n",
        "s2_return = s2_return.drop(\"BE/ME\", axis = 1)\n",
        "\n",
        "sheet2_size = pd.read_excel(\"Problem_Set5.xls\", sheet_name='25_Size_BEME_Portfolios', \n",
        "                     skiprows=2, index_col=0, usecols=\"AB:BA\", na_values=-999)\n",
        "sheet2_size = sheet2_size.loc[sheet2_size.index.dropna()]\n",
        "sheet2_size['Date'] = sheet2_size.index\n",
        "sheet2_size['Date'] = pd.to_datetime(sheet2_size['Date'], format=\"%Y%m\")\n",
        "s2_size = sheet2_size.set_index(\"Date\")\n",
        "\n",
        "sheet2_BEME = pd.read_excel(\"Problem_Set5.xls\", sheet_name='25_Size_BEME_Portfolios', \n",
        "                     skiprows=2, index_col=0, usecols=\"BC:CB\", na_values=-999)\n",
        "sheet2_BEME = sheet2_BEME.loc[sheet2_BEME.index.dropna()]\n",
        "sheet2_BEME['Date'] = sheet2_BEME.index\n",
        "sheet2_BEME['Date'] = pd.to_datetime(sheet2_BEME['Date'], format=\"%Y\")\n",
        "s2_BEME = sheet2_BEME.set_index(\"Date\")\n",
        "\n",
        "#--------------------Read subsheet 3--------------------\n",
        "sheet3_return=pd.read_excel(\"Problem_Set5.xls\", sheet_name='25_Size_212_Portfolios', \n",
        "                     skiprows=2, index_col=None, usecols=\"A:Z\", na_values=-999)\n",
        "sheet3_return[\"Date\"] = pd.to_datetime(sheet3_return[\"Ret212\"], format=\"%Y%m\")\n",
        "s3_return = sheet3_return.set_index(\"Date\")\n",
        "s3_return = s3_return.loc[s3_return.index.dropna()]\n",
        "s3_return = s3_return.drop(\"Ret212\", axis = 1)\n",
        "\n",
        "sheet3_size = pd.read_excel(\"Problem_Set5.xls\", sheet_name='25_Size_212_Portfolios', \n",
        "                     skiprows=2, index_col=0, usecols=\"AB:BA\", na_values=-999)\n",
        "sheet3_size = sheet3_size.loc[sheet3_size.index.dropna()]\n",
        "sheet3_size['Date'] = sheet3_size.index\n",
        "sheet3_size['Date'] = pd.to_datetime(sheet3_size['Date'], format=\"%Y%m\")\n",
        "s3_size = sheet3_size.set_index(\"Date\")\n",
        "\n",
        "sheet3_ret212 = pd.read_excel(\"Problem_Set5.xls\", sheet_name='25_Size_212_Portfolios', \n",
        "                     skiprows=2, index_col=0, usecols=\"BC:CB\", na_values=-999)\n",
        "sheet3_ret212 = sheet3_ret212.loc[sheet3_ret212.index.dropna()]\n",
        "sheet3_ret212['Date'] = sheet3_ret212.index\n",
        "sheet3_ret212['Date'] = pd.to_datetime(sheet3_ret212['Date'], format=\"%Y%m\")\n",
        "s3_ret212 = sheet3_ret212.set_index(\"Date\")\n",
        "\n",
        "# Merged datasets\n",
        "# merge s2_return with sheet1(factors)\n",
        "s2_return_s1 = pd.merge(s2_return, factors, how='inner', left_index=True, right_index=True)\n",
        "s3_return_s1 = pd.merge(s3_return, factors, how='inner', left_index=True, right_index=True)"
      ],
      "execution_count": 2,
      "outputs": []
    },
    {
      "cell_type": "markdown",
      "metadata": {
        "id": "9zq63xhcfAHt"
      },
      "source": [
        "# Business cycle variation"
      ]
    },
    {
      "cell_type": "markdown",
      "metadata": {
        "id": "cmncfra-fDQo"
      },
      "source": [
        "## a)\tCompute the average return on RMRF, SMB, HML, and UMD during recessions only. This can be done by running a regression of the returns of each factor portfolio on an intercept and a recession dummy variable. What does this tell you?  Do you believe SMB or HML is more related to risk or other sources based on these results?"
      ]
    },
    {
      "cell_type": "markdown",
      "metadata": {
        "id": "_s8YYHZSAqvo"
      },
      "source": [
        "For each of RMRF, SMB, HML, and UMD, we do the following regression\n",
        "$$\\text{Return} = \\beta_0 + \\beta_1 \\mathbb1_{recession} + \\epsilon,$$"
      ]
    },
    {
      "cell_type": "code",
      "metadata": {
        "id": "y9s7anknBX9B",
        "outputId": "258a275e-ac27-4f16-efc2-0fdea0d6301d",
        "colab": {
          "base_uri": "https://localhost:8080/",
          "height": 86
        }
      },
      "source": [
        "for i in factors.columns[0:5]:\n",
        "  if i == 'RF':\n",
        "    continue\n",
        "  elif i == 'UMD':\n",
        "    x = sm.add_constant(factors['Recession indicator (1=recession, 0=non-recesstion)'][6:])\n",
        "    mod1 = sm.OLS(factors[i][6:], x, data = factors).fit()\n",
        "    print(i, \"beta0: \", round(mod1.params[0], 2),\"beta1: \", round(mod1.params[1], 2), \"average return:\", \\\n",
        "          round(mod1.params[0] + mod1.params[1], 2), \"p-value of beta0:\", round(mod1.pvalues[0],2), \"p-value of beta1:\", round(mod1.pvalues[1],2))\n",
        "  else:\n",
        "    x = sm.add_constant(factors['Recession indicator (1=recession, 0=non-recesstion)'])\n",
        "    mod1 = sm.OLS(factors[i], x, data = factors).fit()\n",
        "    print(i, \"beta0: \", round(mod1.params[0], 2),\"beta1: \", round(mod1.params[1], 2), \"average return:\", \\\n",
        "          round(mod1.params[0] + mod1.params[1], 2), \"p-value of beta0:\", round(mod1.pvalues[0],2), \"p-value of beta1:\", round(mod1.pvalues[1],2))"
      ],
      "execution_count": 3,
      "outputs": [
        {
          "output_type": "stream",
          "text": [
            "Mkt-RF beta0:  0.9 beta1:  -1.33 average return: -0.43 p-value of beta0: 0.0 p-value of beta1: 0.0\n",
            "SMB beta0:  0.26 beta1:  -0.26 average return: 0.01 p-value of beta0: 0.02 p-value of beta1: 0.31\n",
            "HML beta0:  0.42 beta1:  -0.19 average return: 0.23 p-value of beta0: 0.0 p-value of beta1: 0.48\n",
            "UMD beta0:  0.78 beta1:  -0.52 average return: 0.26 p-value of beta0: 0.0 p-value of beta1: 0.16\n"
          ],
          "name": "stdout"
        }
      ]
    },
    {
      "cell_type": "markdown",
      "metadata": {
        "id": "kaU44spVHKRD"
      },
      "source": [
        "There are a few interesting observations from the above results.\n",
        "\n",
        "For $\\beta_0$ values:\n",
        "\n",
        "*   All $\\beta_0$ values are positive. Directionally this makes sense as the return is positive during non-recession period. Moreover, the intercept represents the risk of the asset itself, unrelated to other risk factors, i.e. return when all other factors are 0, and therefore higher risk should gives higher return; \n",
        "*   In terms of magnitude, we can see Mkt-RF has the highest positive value, followed by UMD, which indicates that Mkt-RF is most positively related to return, rollowed by the momentum factor. Interestingly, SMB and HML both have lower factor loads than the other two sources;\n",
        "*   The p-values for $\\beta_0$ shows how statistically significant this \"self\" risk factor is. The lower the p-values, the more statistically significant the values are. Therefore, we can see that all $\\beta_0$ factors are quite statistically significant.\n",
        "\n",
        "For $\\beta_1$ values:\n",
        "\n",
        "*   All $\\beta_1$ values are negative. Intuitively this makes sense as return can be negative during recession;\n",
        "*   Except for Mkt-RF, the p-values for SMB / HML/ UMD portoflios indicates that they are all statistically not significant and therefore unrelated to the risk. Mkt-RF both are more related to risk than SMB / HML/ UMD based on the p-value.\n",
        "\n",
        "For average return:\n",
        "\n",
        "*  During the recessions, the market portfolio generates a negative return on average, while SMB / HML/ UMD portoflios have positive returns on average."
      ]
    },
    {
      "cell_type": "markdown",
      "metadata": {
        "id": "g20iOo2jIjDf"
      },
      "source": [
        "## b)\tRepeat part a) only for the smallest growth, smallest value, and largest growth and largest value portfolios (e.g., the “four corners” of the 25 Fama-French portfolios), and for the smallest losers, smallest winners, and largest losers and winners. Make sure you use the excess returns of these portfolios by subtracting the risk-free rate.  Do you notice any stronger cyclical relationships for these four portfolios?"
      ]
    },
    {
      "cell_type": "code",
      "metadata": {
        "id": "SlL7Ck5BWOU-",
        "outputId": "ce0628f7-3191-4193-a0de-a7e163a8f4d6",
        "colab": {
          "base_uri": "https://localhost:8080/",
          "height": 86
        }
      },
      "source": [
        "loop_list = [(\"Low\", \"smallest growth\"),(\"High\", \"smallest value\"),(\"Low.4\",\"largest growth\"), (\"High.4\",\"largest value\")]\n",
        "\n",
        "for i, j in loop_list:\n",
        "  y = s2_return_s1[i] - s2_return_s1[\"RF\"]\n",
        "  x = sm.add_constant(s2_return_s1['Recession indicator (1=recession, 0=non-recesstion)'])\n",
        "  mod1 = sm.OLS(y,x).fit()\n",
        "  print(j, \"beta0: \", round(mod1.params[0], 2),\"beta1: \", round(mod1.params[1], 2), \"average return:\", \\\n",
        "          round(mod1.params[0] + mod1.params[1], 2), \"p-value of beta0:\", round(mod1.pvalues[0],2), \"p-value of beta1:\", round(mod1.pvalues[1],2))"
      ],
      "execution_count": 4,
      "outputs": [
        {
          "output_type": "stream",
          "text": [
            "smallest growth beta0:  0.86 beta1:  -1.53 average return: -0.67 p-value of beta0: 0.04 p-value of beta1: 0.11\n",
            "smallest value beta0:  1.75 beta1:  -2.1 average return: -0.35 p-value of beta0: 0.0 p-value of beta1: 0.0\n",
            "largest growth beta0:  0.84 beta1:  -1.18 average return: -0.34 p-value of beta0: 0.0 p-value of beta1: 0.0\n",
            "largest value beta0:  1.17 beta1:  -1.29 average return: -0.12 p-value of beta0: 0.0 p-value of beta1: 0.05\n"
          ],
          "name": "stdout"
        }
      ]
    },
    {
      "cell_type": "code",
      "metadata": {
        "id": "SbKD-mXebods",
        "outputId": "e0e3c643-5f59-4e5c-eaca-54045f5191e9",
        "colab": {
          "base_uri": "https://localhost:8080/",
          "height": 86
        }
      },
      "source": [
        "loop_list = [(\"Low\", \"smallest loser\"),(\"High\", \"smallest winner\"),(\"Low.4\",\"largest loser\"), (\"High.4\",\"largest winner\")]\n",
        "\n",
        "for i, j in loop_list:\n",
        "  y = s3_return_s1[i] - s3_return_s1[\"RF\"]\n",
        "  x = sm.add_constant(s3_return_s1['Recession indicator (1=recession, 0=non-recesstion)'])\n",
        "  mod1 = sm.OLS(y,x,missing = 'drop').fit()\n",
        "  print(j, \" beta0: \", round(mod1.params[0], 2), \"beta1: \", round(mod1.params[1], 2), \"average return:\", \\\n",
        "        round(mod1.params[0] + mod1.params[1], 2), \"p-value of beta1:\", round(mod1.pvalues[1],2))"
      ],
      "execution_count": 5,
      "outputs": [
        {
          "output_type": "stream",
          "text": [
            "smallest loser  beta0:  0.85 beta1:  -1.2 average return: -0.34 p-value of beta1: 0.16\n",
            "smallest winner  beta0:  1.99 beta1:  -1.97 average return: 0.02 p-value of beta1: 0.0\n",
            "largest loser  beta0:  0.3 beta1:  -2.06 average return: -1.76 p-value of beta1: 0.01\n",
            "largest winner  beta0:  1.25 beta1:  -1.61 average return: -0.36 p-value of beta1: 0.0\n"
          ],
          "name": "stdout"
        }
      ]
    },
    {
      "cell_type": "markdown",
      "metadata": {
        "id": "8kYf_ETcaaBW"
      },
      "source": [
        "For the clyclical relationships, we look at parameters associated with $\\beta_1$, since it's a regression on the recession variables. \n",
        "\n",
        "From the p-values of $\\beta_1$ we can see that the **smallest growth portfolio** in the 25 Fama-French portoflios, **largest value portfolio** and the **smallest losers portfolio** are all greater than 0.05, indicating that for these two portfolios the business cyclicality is **not a statistically significant risk factor**.\n",
        "\n",
        "However, we can notice that all other portoflios have strong cyclical relationships. In fact, we can see that the relationships are much stronger than in part a) for portfolios SMB, HML, and UMD."
      ]
    },
    {
      "cell_type": "markdown",
      "metadata": {
        "id": "mMftqQ7oa2vG"
      },
      "source": [
        "# Characteristics vs. Covariances\n",
        "\n",
        "**25 Size and BE/ME portfolios.**"
      ]
    },
    {
      "cell_type": "markdown",
      "metadata": {
        "id": "3E3d2BEUc46w"
      },
      "source": [
        "c)\tConsider the following Fama-MacBeth cross-sectional regressions: \n",
        "$$\n",
        "\\begin{array}{ll}(1) & \\mathrm{R}_{\\mathrm{i}}=\\gamma_{0}+\\gamma_{\\mathrm{M}} \\beta_{\\mathrm{iM}}+\\gamma_{\\mathrm{size}} \\ln (\\text { size })+\\gamma_{\\mathrm{B} / \\mathrm{M}} \\ln (\\mathrm{BE} / \\mathrm{ME})+\\eta_{\\mathrm{i} 1} \\\\ (2) & \\mathrm{R}_{\\mathrm{i}}=\\gamma_{0}+\\gamma_{\\mathrm{M}} \\beta_{\\mathrm{iM}}+\\gamma_{\\mathrm{SMB}} \\beta_{\\mathrm{iSMB}}+\\gamma_{\\mathrm{HML}} \\beta_{\\mathrm{iHML}}+\\eta_{\\mathrm{i} 2} \\\\ (3) & \\mathrm{R}_{\\mathrm{i}}=\\gamma_{0}+\\gamma_{\\mathrm{M}} \\beta_{\\mathrm{iM}}+\\gamma_{\\mathrm{size}} \\ln (\\text { size })+\\gamma_{\\mathrm{B} / \\mathrm{M}} \\ln (\\mathrm{BE} / \\mathrm{ME})+\\gamma_{\\mathrm{SMB}} \\beta_{\\mathrm{iSMB}}+\\gamma_{\\mathrm{HML}} \\\\ & \\beta_{\\mathrm{iHML}}+\\eta_{\\mathrm{i} 3}\\end{array}\n",
        "$$\n",
        "\n",
        "where $\\gamma_{0}, \\gamma_{\\mathrm{M}}, \\gamma_{\\mathrm{size}}, \\gamma_{\\mathrm{B} / \\mathrm{M}}, \\gamma_{\\mathrm{SMB}}, \\text { and }{\\gamma}_{\\mathrm{HML}}$ are regression parameters. $\\beta_{\\mathrm{iM}}, \\beta_{\\mathrm{iSMB}}, \\text { and } \\beta_{iHML}$ are betas with respect to the Fama-French factors SMB and HML and size and BE/ME are the average size and book to market ratio characteristics of the portfolio.\n",
        "\n",
        "Estimate equations (1), (2), and (3) using the full sample of data and the Fama- MacBeth procedure. The following is a brief outline of the procedure:\n",
        "\n",
        "1. Estimate $\\beta_{\\mathrm{iM}}, \\beta_{\\mathrm{iSMB}}, \\text { and } \\beta_{iHML}$ for each portfolio by running a time-series regression for each of the 25 portfolios on the Fama-French factors RMRF, SMB, and HML. Assume that the betas do not change over time; hence, you can estimate the betas using full-period OLS regressions.\n",
        "2. Each month estimate the regressions using the month-by-month cross-section of realized returns on the 25 portfolios on their estimated betas and characteristics according to equations (1), (2), and (3).\n",
        "(Hint: You have already estimated equation (1) in problem set 3! Hope you saved your program.)\n",
        "3. Compute the time series average of the estimates of$\\gamma_{0}, \\gamma_{\\mathrm{M}}, \\gamma_{\\mathrm{size}}, \\gamma_{\\mathrm{B} / \\mathrm{M}}, \\gamma_{\\mathrm{SMB}}, \\text { and }{\\gamma}_{\\mathrm{HML}}$. In addition, compute the standard error and t-stat of the time series averages in the style of Fama and MacBeth (1973)."
      ]
    },
    {
      "cell_type": "code",
      "metadata": {
        "id": "Tb5EpnPxWwSv",
        "outputId": "09d6a905-98ca-4c6e-b48d-7aad8506abc5",
        "colab": {
          "base_uri": "https://localhost:8080/",
          "height": 450
        }
      },
      "source": [
        "# part 1\n",
        "beta_M = []\n",
        "beta_SMB = []\n",
        "beta_HML = []\n",
        "for idx,i in enumerate(s2_return_s1.columns[0:25]):\n",
        "  y = s2_return_s1[i] - s2_return_s1[\"RF\"]\n",
        "  x = sm.add_constant(s2_return_s1[[\"Mkt-RF\", \"SMB\",\"HML\"]])\n",
        "  mod1 = sm.OLS(y,x,missing = 'drop').fit()\n",
        "  beta_M.append(mod1.params[1])\n",
        "  beta_SMB.append(mod1.params[2])\n",
        "  beta_HML.append(mod1.params[3])\n",
        "  print(\"portfolio #\", idx+1, \"beta_M: \",round(mod1.params[1],2), \\\n",
        "        \"beta_SMB: \", round(mod1.params[2],2), \"beta_HML: \",round(mod1.params[3],2))"
      ],
      "execution_count": 6,
      "outputs": [
        {
          "output_type": "stream",
          "text": [
            "portfolio # 1 beta_M:  1.29 beta_SMB:  1.45 beta_HML:  0.43\n",
            "portfolio # 2 beta_M:  1.08 beta_SMB:  1.53 beta_HML:  0.23\n",
            "portfolio # 3 beta_M:  1.05 beta_SMB:  1.25 beta_HML:  0.52\n",
            "portfolio # 4 beta_M:  0.95 beta_SMB:  1.21 beta_HML:  0.59\n",
            "portfolio # 5 beta_M:  0.99 beta_SMB:  1.31 beta_HML:  0.91\n",
            "portfolio # 6 beta_M:  1.08 beta_SMB:  1.12 beta_HML:  -0.22\n",
            "portfolio # 7 beta_M:  1.01 beta_SMB:  0.97 beta_HML:  0.15\n",
            "portfolio # 8 beta_M:  0.98 beta_SMB:  0.84 beta_HML:  0.35\n",
            "portfolio # 9 beta_M:  0.97 beta_SMB:  0.83 beta_HML:  0.56\n",
            "portfolio # 10 beta_M:  1.07 beta_SMB:  0.9 beta_HML:  0.89\n",
            "portfolio # 11 beta_M:  1.12 beta_SMB:  0.82 beta_HML:  -0.23\n",
            "portfolio # 12 beta_M:  1.02 beta_SMB:  0.5 beta_HML:  0.05\n",
            "portfolio # 13 beta_M:  0.99 beta_SMB:  0.45 beta_HML:  0.32\n",
            "portfolio # 14 beta_M:  0.99 beta_SMB:  0.46 beta_HML:  0.56\n",
            "portfolio # 15 beta_M:  1.12 beta_SMB:  0.59 beta_HML:  0.88\n",
            "portfolio # 16 beta_M:  1.08 beta_SMB:  0.32 beta_HML:  -0.35\n",
            "portfolio # 17 beta_M:  1.02 beta_SMB:  0.24 beta_HML:  0.09\n",
            "portfolio # 18 beta_M:  1.03 beta_SMB:  0.21 beta_HML:  0.35\n",
            "portfolio # 19 beta_M:  1.03 beta_SMB:  0.21 beta_HML:  0.57\n",
            "portfolio # 20 beta_M:  1.21 beta_SMB:  0.28 beta_HML:  0.96\n",
            "portfolio # 21 beta_M:  1.03 beta_SMB:  -0.15 beta_HML:  -0.26\n",
            "portfolio # 22 beta_M:  0.99 beta_SMB:  -0.21 beta_HML:  0.02\n",
            "portfolio # 23 beta_M:  0.98 beta_SMB:  -0.23 beta_HML:  0.32\n",
            "portfolio # 24 beta_M:  1.03 beta_SMB:  -0.17 beta_HML:  0.65\n",
            "portfolio # 25 beta_M:  1.16 beta_SMB:  -0.13 beta_HML:  1.01\n"
          ],
          "name": "stdout"
        }
      ]
    },
    {
      "cell_type": "code",
      "metadata": {
        "id": "hh0ZC3QRkR4H",
        "outputId": "6a03fa6d-3104-4e0e-90f2-605180d8c982",
        "colab": {
          "base_uri": "https://localhost:8080/",
          "height": 104
        }
      },
      "source": [
        "# part 2 - Equation 1. Modified from HW 3\n",
        "# obtain ln(size)\n",
        "avg_size = []\n",
        "for column in s2_size:\n",
        "    avg_size.append(s2_size[column].mean())\n",
        "ln_avg_size = np.log(avg_size) # len = 25\n",
        "\n",
        "# obtain ln(BEME)\n",
        "avg_BEME = []\n",
        "for column in s2_BEME:\n",
        "    avg_BEME.append(s2_BEME[column].mean())\n",
        "ln_avg_BEME = np.log(avg_BEME)\n",
        "\n",
        "# OLS regression on avg_return and beta / ln(size) / ln(BEME)\n",
        "s2_return_s1.iloc[:, 0:25] = s2_return_s1.iloc[:, 0:25].subtract(s2_return_s1['RF'],axis = 0)\n",
        "\n",
        "avg_return = pd.DataFrame(s2_return_s1.iloc[:, 0:25].mean())\n",
        "avg_return.columns = ['avg_return']\n",
        "\n",
        "avg_return['ln(size)'] = ln_avg_size\n",
        "avg_return['ln(BEME)'] = ln_avg_BEME\n",
        "avg_return['beta_M'] = beta_M\n",
        "x = sm.add_constant(avg_return[[\"ln(size)\", \"ln(BEME)\",\"beta_M\"]])\n",
        "\n",
        "mod_eq1 = sm.OLS(avg_return[\"avg_return\"], x).fit()\n",
        "print(\"coefficient->\",\"gamma_0: \",round(mod_eq1.params[0],2), \"gamma_size: \", round(mod_eq1.params[1],2),\\\n",
        "      \"gamma_B/M: \",round(mod_eq1.params[2],2), \"gamma_M\", round(mod_eq1.params[3],2))\n",
        "print(\"Standard Error->\", \"gamma_0: \",round(mod_eq1.bse[0],2), \"gamma_size: \", round(mod_eq1.bse[1],2),\\\n",
        "      \"gamma_B/M: \",round(mod_eq1.bse[2],2), \"gamma_M\", round(mod_eq1.bse[3],2))\n",
        "print(\"t-stat->\", \"gamma_0: \",round(mod_eq1.tvalues[0],2), \"gamma_size: \", round(mod_eq1.tvalues[1],2),\\\n",
        "      \"gamma_B/M: \",round(mod_eq1.tvalues[2],2), \"gamma_M\", round(mod_eq1.tvalues[3],2))\n",
        "print(\"p-value->\", \"gamma_0: \",round(mod_eq1.pvalues[0],2), \"gamma_size: \", round(mod_eq1.pvalues[1],2),\\\n",
        "      \"gamma_B/M: \",round(mod_eq1.pvalues[2],2), \"gamma_M\", round(mod_eq1.pvalues[3],2))\n",
        "print(\"r-squared->\", round(mod_eq1.rsquared,2))"
      ],
      "execution_count": 7,
      "outputs": [
        {
          "output_type": "stream",
          "text": [
            "coefficient-> gamma_0:  1.82 gamma_size:  -0.04 gamma_B/M:  0.22 gamma_M -0.63\n",
            "Standard Error-> gamma_0:  0.25 gamma_size:  0.01 gamma_B/M:  0.02 gamma_M 0.23\n",
            "t-stat-> gamma_0:  7.22 gamma_size:  -4.27 gamma_B/M:  9.11 gamma_M -2.77\n",
            "p-value-> gamma_0:  0.0 gamma_size:  0.0 gamma_B/M:  0.0 gamma_M 0.01\n",
            "r-squared-> 0.85\n"
          ],
          "name": "stdout"
        }
      ]
    },
    {
      "cell_type": "code",
      "metadata": {
        "id": "YKW-MyT9vffH",
        "outputId": "12ffc770-348d-4da7-ef24-f9afcc0101c8",
        "colab": {
          "base_uri": "https://localhost:8080/",
          "height": 104
        }
      },
      "source": [
        "# part 2 - Equation 2\n",
        "avg_return['beta_SMB'] = beta_SMB\n",
        "avg_return['beta_HML'] = beta_HML\n",
        "\n",
        "x = sm.add_constant(avg_return[[\"beta_M\", \"beta_SMB\",\"beta_HML\"]])\n",
        "\n",
        "mod_eq2 = sm.OLS(avg_return[\"avg_return\"], x).fit()\n",
        "# mod_eq2.summary()\n",
        "print(\"coefficient->\", \"gamma_0: \",round(mod_eq2.params[0],2), \"gamma_M: \", round(mod_eq2.params[1],2),\\\n",
        "      \"gamma_SMB: \",round(mod_eq2.params[2],2), \"gamma_HML\", round(mod_eq2.params[3],2))\n",
        "print(\"Standard Error->\", \"gamma_0: \",round(mod_eq2.bse[0],2), \"gamma_M: \", round(mod_eq2.bse[1],2),\\\n",
        "      \"gamma_SMB: \",round(mod_eq2.bse[2],2), \"gamma_HML\", round(mod_eq2.bse[3],2))\n",
        "print(\"t-stat->\", \"gamma_0: \",round(mod_eq2.tvalues[0],2), \"gamma_M: \", round(mod_eq2.tvalues[1],2),\\\n",
        "      \"gamma_SMB: \",round(mod_eq2.tvalues[2],2), \"gamma_HML\", round(mod_eq2.tvalues[3],2))\n",
        "print(\"p value->\", \"gamma_0: \",round(mod_eq2.pvalues[0],2), \"gamma_M: \", round(mod_eq2.pvalues[1],2),\\\n",
        "      \"gamma_SMB: \",round(mod_eq2.pvalues[2],2), \"gamma_HML\", round(mod_eq2.pvalues[3],2))\n",
        "print(\"r-squared->\", round(mod_eq2.rsquared,2))"
      ],
      "execution_count": 8,
      "outputs": [
        {
          "output_type": "stream",
          "text": [
            "coefficient-> gamma_0:  1.82 gamma_M:  -1.1 gamma_SMB:  0.13 gamma_HML 0.4\n",
            "Standard Error-> gamma_0:  0.33 gamma_M:  0.32 gamma_SMB:  0.05 gamma_HML 0.06\n",
            "t-stat-> gamma_0:  5.51 gamma_M:  -3.45 gamma_SMB:  2.77 gamma_HML 6.42\n",
            "p value-> gamma_0:  0.0 gamma_M:  0.0 gamma_SMB:  0.01 gamma_HML 0.0\n",
            "r-squared-> 0.72\n"
          ],
          "name": "stdout"
        }
      ]
    },
    {
      "cell_type": "code",
      "metadata": {
        "id": "xZ3fOtSkxPkM",
        "outputId": "912156d5-e1f8-4c39-e1e0-dc324f99def2",
        "colab": {
          "base_uri": "https://localhost:8080/",
          "height": 104
        }
      },
      "source": [
        "# part 2 - Equation 3\n",
        "x = sm.add_constant(avg_return[[\"beta_M\", \"ln(size)\",\"ln(BEME)\", \"beta_SMB\",\"beta_HML\"]])\n",
        "mod_eq3 = sm.OLS(avg_return[\"avg_return\"], x).fit()\n",
        "mod_eq3.summary()\n",
        "print(\"coefficient->\",\"gamma_0: \", round(mod_eq3.params[0],2), \"gamma_M: \", round(mod_eq3.params[1],2),\\\n",
        "      \"gamma_size: \", round(mod_eq1.params[2],2), \"gamma_B/M: \",round(mod_eq1.params[3],2),\\\n",
        "      \"gamma_SMB: \",round(mod_eq3.params[4],2), \"gamma_HML\", round(mod_eq3.params[5],2))\n",
        "print(\"Standard Error->\",\"gamma_0: \", round(mod_eq3.bse[0],2), \"gamma_M: \", round(mod_eq3.bse[1],2),\\\n",
        "      \"gamma_size: \", round(mod_eq1.bse[2],2), \"gamma_B/M: \",round(mod_eq1.bse[3],2),\\\n",
        "      \"gamma_SMB: \",round(mod_eq3.bse[4],2), \"gamma_HML\", round(mod_eq3.bse[5],2))\n",
        "print(\"t-stat->\",\"gamma_0: \", round(mod_eq3.tvalues[0],2), \"gamma_M: \", round(mod_eq3.tvalues[1],2),\\\n",
        "      \"gamma_size: \", round(mod_eq1.tvalues[2],2), \"gamma_B/M: \",round(mod_eq1.tvalues[3],2),\\\n",
        "      \"gamma_SMB: \",round(mod_eq3.tvalues[4],2), \"gamma_HML\", round(mod_eq3.tvalues[5],2))\n",
        "print(\"p value->\",\"gamma_0: \", round(mod_eq3.pvalues[0],2), \"gamma_M: \", round(mod_eq3.pvalues[1],2),\\\n",
        "      \"gamma_size: \", round(mod_eq1.pvalues[2],2), \"gamma_B/M: \",round(mod_eq1.pvalues[3],2),\\\n",
        "      \"gamma_SMB: \",round(mod_eq3.pvalues[4],2), \"gamma_HML\", round(mod_eq3.pvalues[5],2))\n",
        "print(\"r-squared->\", round(mod_eq3.rsquared,2))"
      ],
      "execution_count": 9,
      "outputs": [
        {
          "output_type": "stream",
          "text": [
            "coefficient-> gamma_0:  2.34 gamma_M:  -0.06 gamma_size:  0.22 gamma_B/M:  -0.63 gamma_SMB:  -0.39 gamma_HML -0.35\n",
            "Standard Error-> gamma_0:  0.37 gamma_M:  0.27 gamma_size:  0.02 gamma_B/M:  0.23 gamma_SMB:  0.16 gamma_HML 0.14\n",
            "t-stat-> gamma_0:  6.36 gamma_M:  -0.21 gamma_size:  9.11 gamma_B/M:  -2.77 gamma_SMB:  -2.39 gamma_HML -2.56\n",
            "p value-> gamma_0:  0.0 gamma_M:  0.84 gamma_size:  0.0 gamma_B/M:  0.01 gamma_SMB:  0.03 gamma_HML 0.02\n",
            "r-squared-> 0.9\n"
          ],
          "name": "stdout"
        }
      ]
    },
    {
      "cell_type": "markdown",
      "metadata": {
        "id": "v-U7uTO521PK"
      },
      "source": [
        "(Interesting sidenote from StackOverFlow- why SE from sm.ols results is called bse: The b is a historical artifact, when params where called b as in linear model y = Xb + u.)"
      ]
    },
    {
      "cell_type": "markdown",
      "metadata": {
        "id": "AT69908t3Rw3"
      },
      "source": [
        "## d)\tBased on your estimates of these parameters in equations (1), (2), and (3), do characteristics or covariances better capture the cross-sectional variation in average returns?  What arguments can you make in favor of one side versus the other?  What arguments can you make that suggest you can’t tell which side is better able to capture returns?"
      ]
    },
    {
      "cell_type": "markdown",
      "metadata": {
        "id": "7P4yRNoVuknU"
      },
      "source": [
        "There are arguments for both of using characterstics and covariances to capture the cross-sectional variation in average returns. Using covariance, we have taken into account the correlation among securities. However, characteristics give more intuitive relationship between return and risk; additionally, covariance is constant correlation, which characteristics does not assume.\n",
        "\n",
        "Based on parameters in equation (1), (2)，specifically the p-values for the coefficients, we can see that characteristic or covariance alone both have statistically significant predictive power. Comparing the two with R-Squared, we can see that characteristics, with a higher R-Squared of 0.85, seems to capture more than covariance, with an R-Squared of 0.72.\n",
        "\n",
        "However, from parameters in equation (3), when both the charactersitics and covariance are presented in the regression, we can see that, while all these factors are still statistically significant (very low p-values), the covariance is comparatively less significant. The combination of the two, though, has a very high R-Squared of 0.9, capturing and explaining 90% of the return. Therefore, an argument could be made (weakly) that characteristics provide more significant prediction, but in fact it's just splitting hair and hard to tell which side is better, while the combination of both provides a strong prediction."
      ]
    },
    {
      "cell_type": "markdown",
      "metadata": {
        "id": "-VJYy1pm3fTG"
      },
      "source": [
        "## e)\tRepeat part c) using only data after January 1963.  Does your answer change in terms of whether characteristics or covariances better capture the cross-section of returns?  Do you now feel more or less strongly about your answer to this question in general?"
      ]
    },
    {
      "cell_type": "code",
      "metadata": {
        "id": "1rhQezAk5OXz",
        "outputId": "1c5823c3-690e-43cb-fa4c-848d7d1742fe",
        "colab": {
          "base_uri": "https://localhost:8080/",
          "height": 450
        }
      },
      "source": [
        "# Part e)\n",
        "# Repeat Part c), but with data after January 1963\n",
        "\n",
        "s2_return_s1_1963 = s2_return_s1[438:]\n",
        "s2_size_1963 = s2_size[438:]\n",
        "s2_BEME_1963 = s2_BEME[37:]\n",
        "\n",
        "# part 1\n",
        "beta_M = []\n",
        "beta_SMB = []\n",
        "beta_HML = []\n",
        "for idx,i in enumerate(s2_return_s1_1963.columns[0:25]):\n",
        "  y = s2_return_s1_1963[i] - s2_return_s1_1963[\"RF\"]\n",
        "  x = sm.add_constant(s2_return_s1_1963[[\"Mkt-RF\", \"SMB\",\"HML\"]])\n",
        "  mod1 = sm.OLS(y,x,missing = 'drop').fit()\n",
        "  beta_M.append(mod1.params[1])\n",
        "  beta_SMB.append(mod1.params[2])\n",
        "  beta_HML.append(mod1.params[3])\n",
        "  print(\"portfolio #\", idx+1, \"beta_M: \",round(mod1.params[1],2), \\\n",
        "        \"beta_SMB: \", round(mod1.params[2],2), \"beta_HML: \",round(mod1.params[3],2))"
      ],
      "execution_count": 10,
      "outputs": [
        {
          "output_type": "stream",
          "text": [
            "portfolio # 1 beta_M:  1.08 beta_SMB:  1.37 beta_HML:  -0.31\n",
            "portfolio # 2 beta_M:  0.97 beta_SMB:  1.3 beta_HML:  0.04\n",
            "portfolio # 3 beta_M:  0.92 beta_SMB:  1.1 beta_HML:  0.28\n",
            "portfolio # 4 beta_M:  0.89 beta_SMB:  1.04 beta_HML:  0.45\n",
            "portfolio # 5 beta_M:  0.98 beta_SMB:  1.09 beta_HML:  0.69\n",
            "portfolio # 6 beta_M:  1.11 beta_SMB:  0.99 beta_HML:  -0.4\n",
            "portfolio # 7 beta_M:  1.01 beta_SMB:  0.87 beta_HML:  0.13\n",
            "portfolio # 8 beta_M:  0.97 beta_SMB:  0.77 beta_HML:  0.38\n",
            "portfolio # 9 beta_M:  0.97 beta_SMB:  0.73 beta_HML:  0.56\n",
            "portfolio # 10 beta_M:  1.09 beta_SMB:  0.87 beta_HML:  0.81\n",
            "portfolio # 11 beta_M:  1.09 beta_SMB:  0.73 beta_HML:  -0.45\n",
            "portfolio # 12 beta_M:  1.05 beta_SMB:  0.54 beta_HML:  0.18\n",
            "portfolio # 13 beta_M:  1.0 beta_SMB:  0.44 beta_HML:  0.44\n",
            "portfolio # 14 beta_M:  1.0 beta_SMB:  0.4 beta_HML:  0.61\n",
            "portfolio # 15 beta_M:  1.06 beta_SMB:  0.55 beta_HML:  0.77\n",
            "portfolio # 16 beta_M:  1.06 beta_SMB:  0.38 beta_HML:  -0.43\n",
            "portfolio # 17 beta_M:  1.08 beta_SMB:  0.22 beta_HML:  0.2\n",
            "portfolio # 18 beta_M:  1.08 beta_SMB:  0.18 beta_HML:  0.44\n",
            "portfolio # 19 beta_M:  1.02 beta_SMB:  0.23 beta_HML:  0.57\n",
            "portfolio # 20 beta_M:  1.14 beta_SMB:  0.25 beta_HML:  0.8\n",
            "portfolio # 21 beta_M:  0.97 beta_SMB:  -0.24 beta_HML:  -0.37\n",
            "portfolio # 22 beta_M:  1.0 beta_SMB:  -0.22 beta_HML:  0.09\n",
            "portfolio # 23 beta_M:  0.98 beta_SMB:  -0.23 beta_HML:  0.29\n",
            "portfolio # 24 beta_M:  0.99 beta_SMB:  -0.2 beta_HML:  0.6\n",
            "portfolio # 25 beta_M:  1.05 beta_SMB:  -0.08 beta_HML:  0.75\n"
          ],
          "name": "stdout"
        }
      ]
    },
    {
      "cell_type": "code",
      "metadata": {
        "id": "7Fu3X0HDlXLL",
        "outputId": "37fa08eb-f509-4b3e-85b4-60f11cd3ea1c",
        "colab": {
          "base_uri": "https://localhost:8080/",
          "height": 208
        }
      },
      "source": [
        "# part 2 - Equation 1. Modified from HW 3\n",
        "# obtain ln(size)\n",
        "avg_size = []\n",
        "for column in s2_size_1963:\n",
        "    avg_size.append(s2_size_1963[column].mean())\n",
        "ln_avg_size = np.log(avg_size) # len = 25\n",
        "\n",
        "# obtain ln(BEME)\n",
        "avg_BEME = []\n",
        "for column in s2_BEME_1963:\n",
        "    avg_BEME.append(s2_BEME_1963[column].mean())\n",
        "ln_avg_BEME = np.log(avg_BEME)\n",
        "\n",
        "# OLS regression on avg_return and beta / ln(size) / ln(BEME)\n",
        "s2_return_s1_1963.iloc[:, 0:25] = s2_return_s1_1963.iloc[:, 0:25].subtract(s2_return_s1_1963['RF'],axis = 0)\n",
        "\n",
        "avg_return = pd.DataFrame(s2_return_s1_1963.iloc[:, 0:25].mean())\n",
        "avg_return.columns = ['avg_return']\n",
        "\n",
        "avg_return['ln(size)'] = ln_avg_size\n",
        "avg_return['ln(BEME)'] = ln_avg_BEME\n",
        "avg_return['beta_M'] = beta_M\n",
        "x = sm.add_constant(avg_return[[\"ln(size)\", \"ln(BEME)\",\"beta_M\"]])\n",
        "\n",
        "mod_eq1 = sm.OLS(avg_return[\"avg_return\"], x).fit()\n",
        "print(\"coefficient->\",\"gamma_0: \",round(mod_eq1.params[0],2), \"gamma_size: \", round(mod_eq1.params[1],2),\\\n",
        "      \"gamma_B/M: \",round(mod_eq1.params[2],2), \"gamma_M\", round(mod_eq1.params[3],2))\n",
        "print(\"Standard Error->\", \"gamma_0: \",round(mod_eq1.bse[0],2), \"gamma_size: \", round(mod_eq1.bse[1],2),\\\n",
        "      \"gamma_B/M: \",round(mod_eq1.bse[2],2), \"gamma_M\", round(mod_eq1.bse[3],2))\n",
        "print(\"t-stat->\", \"gamma_0: \",round(mod_eq1.tvalues[0],2), \"gamma_size: \", round(mod_eq1.tvalues[1],2),\\\n",
        "      \"gamma_B/M: \",round(mod_eq1.tvalues[2],2), \"gamma_M\", round(mod_eq1.tvalues[3],2))\n",
        "print(\"p-value->\", \"gamma_0: \",round(mod_eq1.pvalues[0],2), \"gamma_size: \", round(mod_eq1.pvalues[1],2),\\\n",
        "      \"gamma_B/M: \",round(mod_eq1.pvalues[2],2), \"gamma_M\", round(mod_eq1.pvalues[3],2))\n",
        "print(\"r-squared->\", round(mod_eq1.rsquared,2))"
      ],
      "execution_count": 11,
      "outputs": [
        {
          "output_type": "stream",
          "text": [
            "coefficient-> gamma_0:  1.16 gamma_size:  -0.04 gamma_B/M:  0.24 gamma_M -0.42\n",
            "Standard Error-> gamma_0:  0.39 gamma_size:  0.01 gamma_B/M:  0.04 gamma_M 0.39\n",
            "t-stat-> gamma_0:  3.0 gamma_size:  -3.33 gamma_B/M:  6.54 gamma_M -1.09\n",
            "p-value-> gamma_0:  0.01 gamma_size:  0.0 gamma_B/M:  0.0 gamma_M 0.29\n",
            "r-squared-> 0.75\n"
          ],
          "name": "stdout"
        },
        {
          "output_type": "stream",
          "text": [
            "/usr/local/lib/python3.6/dist-packages/pandas/core/indexing.py:1717: SettingWithCopyWarning: \n",
            "A value is trying to be set on a copy of a slice from a DataFrame.\n",
            "Try using .loc[row_indexer,col_indexer] = value instead\n",
            "\n",
            "See the caveats in the documentation: https://pandas.pydata.org/pandas-docs/stable/user_guide/indexing.html#returning-a-view-versus-a-copy\n",
            "  isetter(loc, v)\n"
          ],
          "name": "stderr"
        }
      ]
    },
    {
      "cell_type": "code",
      "metadata": {
        "id": "EEbI47CJnmab",
        "outputId": "51145083-58a7-4db5-8630-cb13110bfa53",
        "colab": {
          "base_uri": "https://localhost:8080/",
          "height": 104
        }
      },
      "source": [
        "# part 2 - Equation 2\n",
        "avg_return['beta_SMB'] = beta_SMB\n",
        "avg_return['beta_HML'] = beta_HML\n",
        "\n",
        "x = sm.add_constant(avg_return[[\"beta_M\", \"beta_SMB\",\"beta_HML\"]])\n",
        "\n",
        "mod_eq2 = sm.OLS(avg_return[\"avg_return\"], x).fit()\n",
        "# mod_eq2.summary()\n",
        "print(\"coefficient->\", \"gamma_0: \",round(mod_eq2.params[0],2), \"gamma_M: \", round(mod_eq2.params[1],2),\\\n",
        "      \"gamma_SMB: \",round(mod_eq2.params[2],2), \"gamma_HML\", round(mod_eq2.params[3],2))\n",
        "print(\"Standard Error->\", \"gamma_0: \",round(mod_eq2.bse[0],2), \"gamma_M: \", round(mod_eq2.bse[1],2),\\\n",
        "      \"gamma_SMB: \",round(mod_eq2.bse[2],2), \"gamma_HML\", round(mod_eq2.bse[3],2))\n",
        "print(\"t-stat->\", \"gamma_0: \",round(mod_eq2.tvalues[0],2), \"gamma_M: \", round(mod_eq2.tvalues[1],2),\\\n",
        "      \"gamma_SMB: \",round(mod_eq2.tvalues[2],2), \"gamma_HML\", round(mod_eq2.tvalues[3],2))\n",
        "print(\"p-value->\", \"gamma_0: \",round(mod_eq2.pvalues[0],2), \"gamma_M: \", round(mod_eq2.pvalues[1],2),\\\n",
        "      \"gamma_SMB: \",round(mod_eq2.pvalues[2],2), \"gamma_HML\", round(mod_eq2.pvalues[3],2))\n",
        "print(\"r-squared->\", round(mod_eq2.rsquared,2))"
      ],
      "execution_count": 12,
      "outputs": [
        {
          "output_type": "stream",
          "text": [
            "coefficient-> gamma_0:  0.75 gamma_M:  -0.6 gamma_SMB:  0.17 gamma_HML 0.39\n",
            "Standard Error-> gamma_0:  0.42 gamma_M:  0.41 gamma_SMB:  0.05 gamma_HML 0.06\n",
            "t-stat-> gamma_0:  1.76 gamma_M:  -1.47 gamma_SMB:  3.35 gamma_HML 6.34\n",
            "p-value-> gamma_0:  0.09 gamma_M:  0.16 gamma_SMB:  0.0 gamma_HML 0.0\n",
            "r-squared-> 0.71\n"
          ],
          "name": "stdout"
        }
      ]
    },
    {
      "cell_type": "code",
      "metadata": {
        "id": "busFubgQn325",
        "outputId": "e429c54c-afc3-490f-9d69-733668eeddc6",
        "colab": {
          "base_uri": "https://localhost:8080/",
          "height": 104
        }
      },
      "source": [
        "# part 2 - Equation 3\n",
        "x = sm.add_constant(avg_return[[\"beta_M\", \"ln(size)\",\"ln(BEME)\", \"beta_SMB\",\"beta_HML\"]])\n",
        "mod_eq3 = sm.OLS(avg_return[\"avg_return\"], x).fit()\n",
        "mod_eq3.summary()\n",
        "print(\"coefficient->\",\"gamma_0: \", round(mod_eq3.params[0],2), \"gamma_M: \", round(mod_eq3.params[1],2),\\\n",
        "      \"gamma_size: \", round(mod_eq1.params[2],2), \"gamma_B/M: \",round(mod_eq1.params[3],2),\\\n",
        "      \"gamma_SMB: \",round(mod_eq3.params[4],2), \"gamma_HML\", round(mod_eq3.params[5],2))\n",
        "print(\"Standard Error->\",\"gamma_0: \", round(mod_eq3.bse[0],2), \"gamma_M: \", round(mod_eq3.bse[1],2),\\\n",
        "      \"gamma_size: \", round(mod_eq1.bse[2],2), \"gamma_B/M: \",round(mod_eq1.bse[3],2),\\\n",
        "      \"gamma_SMB: \",round(mod_eq3.bse[4],2), \"gamma_HML\", round(mod_eq3.bse[5],2))\n",
        "print(\"t-stat->\",\"gamma_0: \", round(mod_eq3.tvalues[0],2), \"gamma_M: \", round(mod_eq3.tvalues[1],2),\\\n",
        "      \"gamma_size: \", round(mod_eq1.tvalues[2],2), \"gamma_B/M: \",round(mod_eq1.tvalues[3],2),\\\n",
        "      \"gamma_SMB: \",round(mod_eq3.tvalues[4],2), \"gamma_HML\", round(mod_eq3.tvalues[5],2))\n",
        "print(\"p-value->\",\"gamma_0: \", round(mod_eq3.pvalues[0],2), \"gamma_M: \", round(mod_eq3.pvalues[1],2),\\\n",
        "      \"gamma_size: \", round(mod_eq1.pvalues[2],2), \"gamma_B/M: \",round(mod_eq1.pvalues[3],2),\\\n",
        "      \"gamma_SMB: \",round(mod_eq3.pvalues[4],2), \"gamma_HML\", round(mod_eq3.pvalues[5],2))\n",
        "print(\"r-squared->\", round(mod_eq3.rsquared,2))"
      ],
      "execution_count": 13,
      "outputs": [
        {
          "output_type": "stream",
          "text": [
            "coefficient-> gamma_0:  1.77 gamma_M:  -0.16 gamma_size:  0.24 gamma_B/M:  -0.42 gamma_SMB:  -0.34 gamma_HML -0.16\n",
            "Standard Error-> gamma_0:  0.68 gamma_M:  0.46 gamma_size:  0.04 gamma_B/M:  0.39 gamma_SMB:  0.31 gamma_HML 0.33\n",
            "t-stat-> gamma_0:  2.61 gamma_M:  -0.34 gamma_size:  6.54 gamma_B/M:  -1.09 gamma_SMB:  -1.11 gamma_HML -0.49\n",
            "p-value-> gamma_0:  0.02 gamma_M:  0.74 gamma_size:  0.0 gamma_B/M:  0.29 gamma_SMB:  0.28 gamma_HML 0.63\n",
            "r-squared-> 0.77\n"
          ],
          "name": "stdout"
        }
      ]
    },
    {
      "cell_type": "markdown",
      "metadata": {
        "id": "sKcawr-wosLS"
      },
      "source": [
        "With data of only 1963 and beyond, we can see that the predictive power across the board is now lower.\n",
        "\n",
        "From the first two equations, we can still see from the p-values that either the characterstics or covariance alone provides statistically significant predictive power. However, the total capture of the return from either equation is lower comparing to the full dataset, with R-Squared of 0.71 and 0.75.\n",
        "\n",
        "From the third equation, we can see that the p-value for covariances are now very high, indicating that they're statistically insignificant predictors, while for the size factor it still has very significant predictor power. The R-Squared for this equation is also lower than using the full dataset, which is expected.\n",
        "\n",
        "From this exercise, we can feel more strongly that characteristics does a better job capturing the return than covariance."
      ]
    },
    {
      "cell_type": "markdown",
      "metadata": {
        "id": "pMXxhgDI3qnR"
      },
      "source": [
        "**25 Size and Momentum portfolios.**\n",
        "\n",
        "## f)\tConsider the following Fama-MacBeth cross-sectional regressions: \n",
        "$$\n",
        "(1) \\quad \\mathrm{R}_{\\mathrm{i}}=\\gamma_{0}+\\gamma_{\\mathrm{M}} \\beta_{\\mathrm{iM}}+\\gamma_{\\mathrm{size}} \\ln (\\text { size })+\\gamma_{\\mathrm{ret} 212}(\\mathrm{ret} 212)+\\eta_{\\mathrm{ii}}\n",
        "$$\n",
        "$$\n",
        "\\text { (2) } \\quad \\mathrm{R}_{\\mathrm{i}}=\\gamma_{0}+\\gamma_{\\mathrm{M}} \\beta_{\\mathrm{iM}}+\\gamma_{\\mathrm{size}} \\beta_{\\mathrm{iSMB}}+\\gamma_{\\mathrm{UMD}} \\beta_{\\mathrm{iUMD}}+\\eta_{\\mathrm{i} 2}\n",
        "$$\n",
        "$$\n",
        "(3) \\quad \\mathrm{R}_{\\mathrm{i}}=\\gamma_{0}+\\gamma_{\\mathrm{M}} \\beta_{\\mathrm{iM}}+\\gamma_{\\text {size }} \\ln (\\text { size })+\\gamma_{\\mathrm{ret} 212}(\\mathrm{ret} 212)+\\gamma_{\\mathrm{SMB}} \\beta_{\\mathrm{iSMB}}+\\gamma_{\\mathrm{UMD}} \\beta_{\\mathrm{iUMD}} + \\eta_{\\mathrm{i} 2}\n",
        "$$\n",
        "\n",
        "where $\\gamma_{0}, \\gamma_{\\mathrm{M}}, \\gamma_{\\text {size }}, \\gamma_{\\text {ret212 }}, \\gamma_{\\mathrm{SMB}}, \\text { and } \\gamma_{\\mathrm{UMD}}$  are regression parameters. $\n",
        "\\beta_{\\mathrm{iM}}, \\beta_{\\mathrm{iSMB}}, \\text { and } \\beta_{iUMD}\n",
        "$ are betas with respect to the Fama-French factors SMB and UMD and size and ret212 are the average size and past 2-to-12-month return characteristics of the portfolio.\n",
        "Estimate equations (1), (2), and (3) using the full sample of data and the Fama- MacBeth procedure. The following is a brief outline of the procedure:\n",
        "1. Estimate $\\beta_{\\mathrm{iM}}, \\beta_{\\mathrm{iSMB}}, \\text { and } \\beta_{iUMD}$ for each portfolio by running a time-series regression for each of the 25 portfolios on the Fama-French factors RMRF, SMB, and UMD. Assume that the betas do not change over time; hence, you can estimate the betas using full-period OLS regressions.\n",
        "2. Each month estimate the regressions using the month-by-month cross-section of realized returns on the 25 portfolios on their estimated betas and characteristics according to equations (1), (2), and (3).\n",
        "3. Compute the time series average of the estimates of $\\gamma_{0}, \\gamma_{\\mathrm{M}}, \\gamma_{\\text {size }}, \\gamma_{\\text {ret212 }}, \\gamma_{\\mathrm{SMB}}, \\text { and } \\gamma_{\\mathrm{UMD}}$  are regression parameters. $. In addition, compute the standard error and t-stat of the time series averages in the style of Fama and MacBeth (1973).\n"
      ]
    },
    {
      "cell_type": "code",
      "metadata": {
        "id": "hrU8HHXRwMq8",
        "outputId": "832e17cb-3802-45c8-bd3a-e4cc86ca4591",
        "colab": {
          "base_uri": "https://localhost:8080/",
          "height": 450
        }
      },
      "source": [
        "# part 1\n",
        "beta_M = []\n",
        "beta_SMB = []\n",
        "beta_UMD = []\n",
        "for idx,i in enumerate(s3_return_s1.columns[0:25]):\n",
        "  y = s3_return_s1[i] - s3_return_s1[\"RF\"]\n",
        "  x = sm.add_constant(s3_return_s1[[\"Mkt-RF\", \"SMB\",\"UMD\"]])\n",
        "  mod1 = sm.OLS(y,x,missing = 'drop').fit()\n",
        "  beta_M.append(mod1.params[1])\n",
        "  beta_SMB.append(mod1.params[2])\n",
        "  beta_UMD.append(mod1.params[3])\n",
        "  print(\"portfolio #\", idx+1, \"beta_M: \",round(mod1.params[1],2), \\\n",
        "        \"beta_SMB: \", round(mod1.params[2],2), \"beta_UMD: \",round(mod1.params[3],2))"
      ],
      "execution_count": 14,
      "outputs": [
        {
          "output_type": "stream",
          "text": [
            "portfolio # 1 beta_M:  1.05 beta_SMB:  1.49 beta_UMD:  -0.76\n",
            "portfolio # 2 beta_M:  1.01 beta_SMB:  1.31 beta_UMD:  -0.47\n",
            "portfolio # 3 beta_M:  0.96 beta_SMB:  1.24 beta_UMD:  -0.31\n",
            "portfolio # 4 beta_M:  1.04 beta_SMB:  1.27 beta_UMD:  -0.05\n",
            "portfolio # 5 beta_M:  1.09 beta_SMB:  1.32 beta_UMD:  0.23\n",
            "portfolio # 6 beta_M:  1.16 beta_SMB:  1.01 beta_UMD:  -0.71\n",
            "portfolio # 7 beta_M:  1.02 beta_SMB:  0.91 beta_UMD:  -0.4\n",
            "portfolio # 8 beta_M:  0.99 beta_SMB:  0.76 beta_UMD:  -0.18\n",
            "portfolio # 9 beta_M:  1.01 beta_SMB:  0.89 beta_UMD:  0.04\n",
            "portfolio # 10 beta_M:  1.15 beta_SMB:  1.01 beta_UMD:  0.33\n",
            "portfolio # 11 beta_M:  1.18 beta_SMB:  0.61 beta_UMD:  -0.78\n",
            "portfolio # 12 beta_M:  1.06 beta_SMB:  0.53 beta_UMD:  -0.4\n",
            "portfolio # 13 beta_M:  1.01 beta_SMB:  0.5 beta_UMD:  -0.2\n",
            "portfolio # 14 beta_M:  0.99 beta_SMB:  0.48 beta_UMD:  0.08\n",
            "portfolio # 15 beta_M:  1.11 beta_SMB:  0.68 beta_UMD:  0.43\n",
            "portfolio # 16 beta_M:  1.22 beta_SMB:  0.27 beta_UMD:  -0.83\n",
            "portfolio # 17 beta_M:  1.09 beta_SMB:  0.15 beta_UMD:  -0.41\n",
            "portfolio # 18 beta_M:  1.01 beta_SMB:  0.21 beta_UMD:  -0.17\n",
            "portfolio # 19 beta_M:  1.05 beta_SMB:  0.19 beta_UMD:  0.08\n",
            "portfolio # 20 beta_M:  1.11 beta_SMB:  0.41 beta_UMD:  0.46\n",
            "portfolio # 21 beta_M:  1.03 beta_SMB:  0.03 beta_UMD:  -0.82\n",
            "portfolio # 22 beta_M:  0.99 beta_SMB:  -0.19 beta_UMD:  -0.45\n",
            "portfolio # 23 beta_M:  0.99 beta_SMB:  -0.17 beta_UMD:  -0.19\n",
            "portfolio # 24 beta_M:  1.0 beta_SMB:  -0.2 beta_UMD:  0.12\n",
            "portfolio # 25 beta_M:  1.1 beta_SMB:  -0.03 beta_UMD:  0.46\n"
          ],
          "name": "stdout"
        }
      ]
    },
    {
      "cell_type": "code",
      "metadata": {
        "id": "JCkLZY6W2Tn-",
        "outputId": "660a7da8-85a2-4746-e9fb-314a8829f6b7",
        "colab": {
          "base_uri": "https://localhost:8080/",
          "height": 104
        }
      },
      "source": [
        "# part 2 - Equation 1. Modified from HW 3\n",
        "# obtain ln(size)\n",
        "avg_size = []\n",
        "for column in s3_size:\n",
        "    avg_size.append(s3_size[column].mean())\n",
        "ln_avg_size = np.log(avg_size) # len = 25\n",
        "\n",
        "# obtain ret212\n",
        "avg_ret212 = []\n",
        "for column in s3_ret212:\n",
        "    avg_ret212.append(s3_ret212[column].mean())\n",
        "\n",
        "# OLS regression on avg_return and beta / ln(size) / ln(BEME)\n",
        "s3_return_s1.iloc[:, 0:25] = s3_return_s1.iloc[:, 0:25].subtract(s3_return_s1['RF'],axis = 0)\n",
        "\n",
        "avg_return = pd.DataFrame(s3_return_s1.iloc[:, 0:25].mean())\n",
        "avg_return.columns = ['avg_return']\n",
        "\n",
        "avg_return['ln(size)'] = ln_avg_size\n",
        "avg_return['ret212'] = avg_ret212\n",
        "avg_return['beta_M'] = beta_M\n",
        "x = sm.add_constant(avg_return[[\"ln(size)\", \"ret212\",\"beta_M\"]])\n",
        "\n",
        "mod_eq1 = sm.OLS(avg_return[\"avg_return\"], x).fit()\n",
        "print(\"coefficient->\",\"gamma_0: \",round(mod_eq1.params[0],2), \"gamma_size: \", round(mod_eq1.params[1],2),\\\n",
        "      \"gamma_ret212: \",round(mod_eq1.params[2],2), \"gamma_M\", round(mod_eq1.params[3],2))\n",
        "print(\"Standard Error->\", \"gamma_0: \",round(mod_eq1.bse[0],2), \"gamma_size: \", round(mod_eq1.bse[1],2),\\\n",
        "      \"gamma_ret212: \",round(mod_eq1.bse[2],2), \"gamma_M\", round(mod_eq1.bse[3],2))\n",
        "print(\"t-stat->\", \"gamma_0: \",round(mod_eq1.tvalues[0],2), \"gamma_size: \", round(mod_eq1.tvalues[1],2),\\\n",
        "      \"gamma_ret212: \",round(mod_eq1.tvalues[2],2), \"gamma_M\", round(mod_eq1.tvalues[3],2))\n",
        "print(\"p-value->\", \"gamma_0: \",round(mod_eq1.pvalues[0],2), \"gamma_size: \", round(mod_eq1.pvalues[1],2),\\\n",
        "      \"gamma_ret212: \",round(mod_eq1.pvalues[2],2), \"gamma_M\", round(mod_eq1.pvalues[3],2))\n",
        "print(\"r-squared->\", round(mod_eq1.rsquared,2))"
      ],
      "execution_count": 15,
      "outputs": [
        {
          "output_type": "stream",
          "text": [
            "coefficient-> gamma_0:  2.82 gamma_size:  -0.11 gamma_ret212:  0.01 gamma_M -1.31\n",
            "Standard Error-> gamma_0:  0.26 gamma_size:  0.01 gamma_ret212:  0.0 gamma_M 0.24\n",
            "t-stat-> gamma_0:  10.91 gamma_size:  -12.06 gamma_ret212:  20.08 gamma_M -5.52\n",
            "p-value-> gamma_0:  0.0 gamma_size:  0.0 gamma_ret212:  0.0 gamma_M 0.0\n",
            "r-squared-> 0.97\n"
          ],
          "name": "stdout"
        }
      ]
    },
    {
      "cell_type": "code",
      "metadata": {
        "id": "zK_XR2ZV2rHo",
        "outputId": "16e8f082-ea74-4f8f-b893-169dccac83f3",
        "colab": {
          "base_uri": "https://localhost:8080/",
          "height": 104
        }
      },
      "source": [
        "# part 2 - Equation 2\n",
        "avg_return['beta_SMB'] = beta_SMB\n",
        "avg_return['beta_UMD'] = beta_UMD\n",
        "\n",
        "x = sm.add_constant(avg_return[[\"beta_M\", \"beta_SMB\",\"beta_UMD\"]])\n",
        "\n",
        "mod_eq2 = sm.OLS(avg_return[\"avg_return\"], x).fit()\n",
        "# mod_eq2.summary()\n",
        "print(\"coefficient->\", \"gamma_0: \",round(mod_eq2.params[0],2), \"gamma_M: \", round(mod_eq2.params[1],2),\\\n",
        "      \"gamma_SMB: \",round(mod_eq2.params[2],2), \"gamma_UMD\", round(mod_eq2.params[3],2))\n",
        "print(\"Standard Error->\", \"gamma_0: \",round(mod_eq2.bse[0],2), \"gamma_M: \", round(mod_eq2.bse[1],2),\\\n",
        "      \"gamma_SMB: \",round(mod_eq2.bse[2],2), \"gamma_UMD\", round(mod_eq2.bse[3],2))\n",
        "print(\"t-stat->\", \"gamma_0: \",round(mod_eq2.tvalues[0],2), \"gamma_M: \", round(mod_eq2.tvalues[1],2),\\\n",
        "      \"gamma_SMB: \",round(mod_eq2.tvalues[2],2), \"gamma_UMD\", round(mod_eq2.tvalues[3],2))\n",
        "print(\"p-value->\", \"gamma_0: \",round(mod_eq2.pvalues[0],2), \"gamma_M: \", round(mod_eq2.pvalues[1],2),\\\n",
        "      \"gamma_SMB: \",round(mod_eq2.pvalues[2],2), \"gamma_UMD\", round(mod_eq2.pvalues[3],2))\n",
        "print(\"r-squared->\", round(mod_eq2.rsquared,2))"
      ],
      "execution_count": 16,
      "outputs": [
        {
          "output_type": "stream",
          "text": [
            "coefficient-> gamma_0:  1.44 gamma_M:  -0.64 gamma_SMB:  0.46 gamma_UMD 0.78\n",
            "Standard Error-> gamma_0:  0.41 gamma_M:  0.39 gamma_SMB:  0.05 gamma_UMD 0.07\n",
            "t-stat-> gamma_0:  3.47 gamma_M:  -1.63 gamma_SMB:  8.78 gamma_UMD 11.76\n",
            "p-value-> gamma_0:  0.0 gamma_M:  0.12 gamma_SMB:  0.0 gamma_UMD 0.0\n",
            "r-squared-> 0.91\n"
          ],
          "name": "stdout"
        }
      ]
    },
    {
      "cell_type": "code",
      "metadata": {
        "id": "Er6wtW_H3MY0",
        "outputId": "f911230e-737d-4fcb-ff44-2a0ef3f40c5e",
        "colab": {
          "base_uri": "https://localhost:8080/",
          "height": 104
        }
      },
      "source": [
        "x = sm.add_constant(avg_return[[\"beta_M\", \"ln(size)\",\"ret212\", \"beta_SMB\",\"beta_UMD\"]])\n",
        "mod_eq3 = sm.OLS(avg_return[\"avg_return\"], x).fit()\n",
        "mod_eq3.summary()\n",
        "print(\"coefficient->\",\"gamma_0: \", round(mod_eq3.params[0],2), \"gamma_M: \", round(mod_eq3.params[1],2),\\\n",
        "      \"gamma_size: \", round(mod_eq1.params[2],2), \"gamma_ret212: \",round(mod_eq1.params[3],2),\\\n",
        "      \"gamma_SMB: \",round(mod_eq3.params[4],2), \"gamma_UMD\", round(mod_eq3.params[5],2))\n",
        "print(\"Standard Error->\",\"gamma_0: \", round(mod_eq3.bse[0],2), \"gamma_M: \", round(mod_eq3.bse[1],2),\\\n",
        "      \"gamma_size: \", round(mod_eq1.bse[2],2), \"gamma_ret212: \",round(mod_eq1.bse[3],2),\\\n",
        "      \"gamma_SMB: \",round(mod_eq3.bse[4],2), \"gamma_UMD\", round(mod_eq3.bse[5],2))\n",
        "print(\"t-stat->\",\"gamma_0: \", round(mod_eq3.tvalues[0],2), \"gamma_M: \", round(mod_eq3.tvalues[1],2),\\\n",
        "      \"gamma_size: \", round(mod_eq1.tvalues[2],2), \"gamma_ret212: \",round(mod_eq1.tvalues[3],2),\\\n",
        "      \"gamma_SMB: \",round(mod_eq3.tvalues[4],2), \"gamma_UMD\", round(mod_eq3.tvalues[5],2))\n",
        "print(\"p-value->\",\"gamma_0: \", round(mod_eq3.pvalues[0],2), \"gamma_M: \", round(mod_eq3.pvalues[1],2),\\\n",
        "      \"gamma_size: \", round(mod_eq1.pvalues[2],2), \"gamma_ret212: \",round(mod_eq1.pvalues[3],2),\\\n",
        "      \"gamma_SMB: \",round(mod_eq3.pvalues[4],2), \"gamma_UMD\", round(mod_eq3.pvalues[5],2))\n",
        "print(\"r-squared->\", round(mod_eq3.rsquared,2))"
      ],
      "execution_count": 17,
      "outputs": [
        {
          "output_type": "stream",
          "text": [
            "coefficient-> gamma_0:  3.34 gamma_M:  -1.17 gamma_size:  0.01 gamma_ret212:  -1.31 gamma_SMB:  -0.27 gamma_UMD 0.05\n",
            "Standard Error-> gamma_0:  0.41 gamma_M:  0.3 gamma_size:  0.0 gamma_ret212:  0.24 gamma_SMB:  0.15 gamma_UMD 0.17\n",
            "t-stat-> gamma_0:  8.21 gamma_M:  -3.92 gamma_size:  20.08 gamma_ret212:  -5.52 gamma_SMB:  -1.79 gamma_UMD 0.29\n",
            "p-value-> gamma_0:  0.0 gamma_M:  0.0 gamma_size:  0.0 gamma_ret212:  0.0 gamma_SMB:  0.09 gamma_UMD 0.78\n",
            "r-squared-> 0.97\n"
          ],
          "name": "stdout"
        }
      ]
    },
    {
      "cell_type": "markdown",
      "metadata": {
        "id": "SDNy7zKM4ubR"
      },
      "source": [
        "## g) Based on your estimates of these parameters in equations (1), (2), and (3), do characteristics or covariances better capture the cross-sectional variation in average returns? What arguments can you make in favor of one side versus the other? What arguments can you make that suggest you can’t tell which side is better able to capture returns?\n"
      ]
    },
    {
      "cell_type": "markdown",
      "metadata": {
        "id": "Mq1AlHLU4Ac1"
      },
      "source": [
        "Similar to earlier, there are arguments for both of using characterstics and covariances to capture the cross-sectional variation in average returns.\n",
        "\n",
        "Again, from outputs of equation (1) and (2), both provide statistically significant capture of the return, with characteristics having a slighly higher R-Squared.\n",
        "\n",
        "From equation (3), however, we can see that the covariance factors are much less statistically significant when both sets are presented. Therefore, using the momentum portfolios, we can make a stronger argument (than with the BE/ME portfolios) that characteristics better capture the cross-section of returns."
      ]
    },
    {
      "cell_type": "markdown",
      "metadata": {
        "id": "3mScdeHl4wyp"
      },
      "source": [
        "## h) Repeat part f) using only data after January, 1963. Does your answer change in terms of whether characteristics or covariances better capture the cross-section of returns? Do you now feel more or less strongly about your answer to this question in general?"
      ]
    },
    {
      "cell_type": "code",
      "metadata": {
        "id": "riBuTKOJ7m8T",
        "outputId": "9205e137-709a-48ce-b97b-e5c509acab07",
        "colab": {
          "base_uri": "https://localhost:8080/",
          "height": 450
        }
      },
      "source": [
        "# part 1\n",
        "s3_return_s1_1963 = s3_return_s1[438:]\n",
        "s3_size_1963 = s2_size[438:]\n",
        "s3_ret212_1963 = s3_ret212[438:]\n",
        "\n",
        "beta_M = []\n",
        "beta_SMB = []\n",
        "beta_UMD = []\n",
        "for idx,i in enumerate(s3_return_s1_1963.columns[0:25]):\n",
        "  y = s3_return_s1_1963[i] - s3_return_s1_1963[\"RF\"]\n",
        "  x = sm.add_constant(s3_return_s1_1963[[\"Mkt-RF\", \"SMB\",\"UMD\"]])\n",
        "  mod1 = sm.OLS(y,x,missing = 'drop').fit()\n",
        "  beta_M.append(mod1.params[1])\n",
        "  beta_SMB.append(mod1.params[2])\n",
        "  beta_UMD.append(mod1.params[3])\n",
        "  print(\"portfolio #\", idx+1, \"beta_M: \",round(mod1.params[1],2), \\\n",
        "        \"beta_SMB: \", round(mod1.params[2],2), \"beta_UMD: \",round(mod1.params[3],2))"
      ],
      "execution_count": 18,
      "outputs": [
        {
          "output_type": "stream",
          "text": [
            "portfolio # 1 beta_M:  1.02 beta_SMB:  1.22 beta_UMD:  -0.72\n",
            "portfolio # 2 beta_M:  0.82 beta_SMB:  0.92 beta_UMD:  -0.32\n",
            "portfolio # 3 beta_M:  0.8 beta_SMB:  0.83 beta_UMD:  -0.14\n",
            "portfolio # 4 beta_M:  0.83 beta_SMB:  0.87 beta_UMD:  0.03\n",
            "portfolio # 5 beta_M:  1.01 beta_SMB:  1.12 beta_UMD:  0.26\n",
            "portfolio # 6 beta_M:  1.17 beta_SMB:  0.95 beta_UMD:  -0.74\n",
            "portfolio # 7 beta_M:  0.93 beta_SMB:  0.73 beta_UMD:  -0.36\n",
            "portfolio # 8 beta_M:  0.89 beta_SMB:  0.62 beta_UMD:  -0.11\n",
            "portfolio # 9 beta_M:  0.91 beta_SMB:  0.71 beta_UMD:  0.03\n",
            "portfolio # 10 beta_M:  1.13 beta_SMB:  0.94 beta_UMD:  0.35\n",
            "portfolio # 11 beta_M:  1.15 beta_SMB:  0.61 beta_UMD:  -0.77\n",
            "portfolio # 12 beta_M:  0.97 beta_SMB:  0.43 beta_UMD:  -0.36\n",
            "portfolio # 13 beta_M:  0.91 beta_SMB:  0.42 beta_UMD:  -0.19\n",
            "portfolio # 14 beta_M:  0.94 beta_SMB:  0.38 beta_UMD:  0.05\n",
            "portfolio # 15 beta_M:  1.13 beta_SMB:  0.7 beta_UMD:  0.4\n",
            "portfolio # 16 beta_M:  1.17 beta_SMB:  0.31 beta_UMD:  -0.81\n",
            "portfolio # 17 beta_M:  1.03 beta_SMB:  0.14 beta_UMD:  -0.41\n",
            "portfolio # 18 beta_M:  0.96 beta_SMB:  0.12 beta_UMD:  -0.18\n",
            "portfolio # 19 beta_M:  0.98 beta_SMB:  0.12 beta_UMD:  0.05\n",
            "portfolio # 20 beta_M:  1.12 beta_SMB:  0.44 beta_UMD:  0.44\n",
            "portfolio # 21 beta_M:  1.17 beta_SMB:  -0.11 beta_UMD:  -0.75\n",
            "portfolio # 22 beta_M:  0.93 beta_SMB:  -0.21 beta_UMD:  -0.44\n",
            "portfolio # 23 beta_M:  0.94 beta_SMB:  -0.22 beta_UMD:  -0.12\n",
            "portfolio # 24 beta_M:  0.96 beta_SMB:  -0.24 beta_UMD:  0.15\n",
            "portfolio # 25 beta_M:  1.09 beta_SMB:  -0.03 beta_UMD:  0.48\n"
          ],
          "name": "stdout"
        }
      ]
    },
    {
      "cell_type": "code",
      "metadata": {
        "id": "6ty5wQ4W9e42",
        "outputId": "b74e83da-d661-4668-cd22-d7a6d5131996",
        "colab": {
          "base_uri": "https://localhost:8080/",
          "height": 208
        }
      },
      "source": [
        "# part 2 - Equation 1. Modified from HW 3\n",
        "# obtain ln(size)\n",
        "avg_size = []\n",
        "for column in s3_size_1963:\n",
        "    avg_size.append(s3_size_1963[column].mean())\n",
        "ln_avg_size = np.log(avg_size) # len = 25\n",
        "\n",
        "# obtain ret212\n",
        "avg_ret212 = []\n",
        "for column in s3_ret212_1963:\n",
        "    avg_ret212.append(s3_ret212_1963[column].mean())\n",
        "\n",
        "# OLS regression on avg_return and beta / ln(size) / ln(BEME)\n",
        "s3_return_s1_1963.iloc[:, 0:25] = s3_return_s1_1963.iloc[:, 0:25].subtract(s3_return_s1_1963['RF'],axis = 0)\n",
        "\n",
        "avg_return = pd.DataFrame(s3_return_s1_1963.iloc[:, 0:25].mean())\n",
        "avg_return.columns = ['avg_return']\n",
        "\n",
        "avg_return['ln(size)'] = ln_avg_size\n",
        "avg_return['ret212'] = avg_ret212\n",
        "avg_return['beta_M'] = beta_M\n",
        "x = sm.add_constant(avg_return[[\"ln(size)\", \"ret212\",\"beta_M\"]])\n",
        "\n",
        "mod_eq1 = sm.OLS(avg_return[\"avg_return\"], x).fit()\n",
        "print(\"coefficient->\",\"gamma_0: \",round(mod_eq1.params[0],2), \"gamma_size: \", round(mod_eq1.params[1],2),\\\n",
        "      \"gamma_ret212: \",round(mod_eq1.params[2],2), \"gamma_M\", round(mod_eq1.params[3],2))\n",
        "print(\"Standard Error->\", \"gamma_0: \",round(mod_eq1.bse[0],2), \"gamma_size: \", round(mod_eq1.bse[1],2),\\\n",
        "      \"gamma_ret212: \",round(mod_eq1.bse[2],2), \"gamma_M\", round(mod_eq1.bse[3],2))\n",
        "print(\"t-stat->\", \"gamma_0: \",round(mod_eq1.tvalues[0],2), \"gamma_size: \", round(mod_eq1.tvalues[1],2),\\\n",
        "      \"gamma_ret212: \",round(mod_eq1.tvalues[2],2), \"gamma_M\", round(mod_eq1.tvalues[3],2))\n",
        "print(\"p-value->\", \"gamma_0: \",round(mod_eq1.pvalues[0],2), \"gamma_size: \", round(mod_eq1.pvalues[1],2),\\\n",
        "      \"gamma_ret212: \",round(mod_eq1.pvalues[2],2), \"gamma_M\", round(mod_eq1.pvalues[3],2))\n",
        "print(\"r-squared->\", round(mod_eq1.rsquared,2))"
      ],
      "execution_count": 19,
      "outputs": [
        {
          "output_type": "stream",
          "text": [
            "coefficient-> gamma_0:  1.26 gamma_size:  -0.04 gamma_ret212:  0.01 gamma_M -0.84\n",
            "Standard Error-> gamma_0:  0.19 gamma_size:  0.01 gamma_ret212:  0.0 gamma_M 0.2\n",
            "t-stat-> gamma_0:  6.61 gamma_size:  -3.17 gamma_ret212:  14.85 gamma_M -4.13\n",
            "p-value-> gamma_0:  0.0 gamma_size:  0.0 gamma_ret212:  0.0 gamma_M 0.0\n",
            "r-squared-> 0.93\n"
          ],
          "name": "stdout"
        },
        {
          "output_type": "stream",
          "text": [
            "/usr/local/lib/python3.6/dist-packages/pandas/core/indexing.py:1717: SettingWithCopyWarning: \n",
            "A value is trying to be set on a copy of a slice from a DataFrame.\n",
            "Try using .loc[row_indexer,col_indexer] = value instead\n",
            "\n",
            "See the caveats in the documentation: https://pandas.pydata.org/pandas-docs/stable/user_guide/indexing.html#returning-a-view-versus-a-copy\n",
            "  isetter(loc, v)\n"
          ],
          "name": "stderr"
        }
      ]
    },
    {
      "cell_type": "code",
      "metadata": {
        "id": "1EDyO4Pp9j4H",
        "outputId": "901853fd-9fbf-4bd3-f554-bf18871bcd66",
        "colab": {
          "base_uri": "https://localhost:8080/",
          "height": 104
        }
      },
      "source": [
        "# part 2 - Equation 2\n",
        "avg_return['beta_SMB'] = beta_SMB\n",
        "avg_return['beta_UMD'] = beta_UMD\n",
        "\n",
        "x = sm.add_constant(avg_return[[\"beta_M\", \"beta_SMB\",\"beta_UMD\"]])\n",
        "\n",
        "mod_eq2 = sm.OLS(avg_return[\"avg_return\"], x).fit()\n",
        "# mod_eq2.summary()\n",
        "print(\"coefficient->\", \"gamma_0: \",round(mod_eq2.params[0],2), \"gamma_M: \", round(mod_eq2.params[1],2),\\\n",
        "      \"gamma_SMB: \",round(mod_eq2.params[2],2), \"gamma_UMD\", round(mod_eq2.params[3],2))\n",
        "print(\"Standard Error->\", \"gamma_0: \",round(mod_eq2.bse[0],2), \"gamma_M: \", round(mod_eq2.bse[1],2),\\\n",
        "      \"gamma_SMB: \",round(mod_eq2.bse[2],2), \"gamma_UMD\", round(mod_eq2.bse[3],2))\n",
        "print(\"t-stat->\", \"gamma_0: \",round(mod_eq2.tvalues[0],2), \"gamma_M: \", round(mod_eq2.tvalues[1],2),\\\n",
        "      \"gamma_SMB: \",round(mod_eq2.tvalues[2],2), \"gamma_UMD\", round(mod_eq2.tvalues[3],2))\n",
        "print(\"p-stat->\", \"gamma_0: \",round(mod_eq2.pvalues[0],2), \"gamma_M: \", round(mod_eq2.pvalues[1],2),\\\n",
        "      \"gamma_SMB: \",round(mod_eq2.pvalues[2],2), \"gamma_UMD\", round(mod_eq2.pvalues[3],2))\n",
        "print(\"r-squared->\", round(mod_eq2.rsquared,2))"
      ],
      "execution_count": 20,
      "outputs": [
        {
          "output_type": "stream",
          "text": [
            "coefficient-> gamma_0:  0.69 gamma_M:  -0.38 gamma_SMB:  0.24 gamma_UMD 0.78\n",
            "Standard Error-> gamma_0:  0.28 gamma_M:  0.28 gamma_SMB:  0.07 gamma_UMD 0.08\n",
            "t-stat-> gamma_0:  2.43 gamma_M:  -1.37 gamma_SMB:  3.38 gamma_UMD 9.73\n",
            "p-stat-> gamma_0:  0.02 gamma_M:  0.19 gamma_SMB:  0.0 gamma_UMD 0.0\n",
            "r-squared-> 0.85\n"
          ],
          "name": "stdout"
        }
      ]
    },
    {
      "cell_type": "code",
      "metadata": {
        "id": "efUy9emA9oOE",
        "outputId": "f1798658-f08f-45bd-eba7-541a9501018e",
        "colab": {
          "base_uri": "https://localhost:8080/",
          "height": 104
        }
      },
      "source": [
        "# part 2 - Equation 3\n",
        "x = sm.add_constant(avg_return[[\"beta_M\", \"ln(size)\",\"ret212\", \"beta_SMB\",\"beta_UMD\"]])\n",
        "mod_eq3 = sm.OLS(avg_return[\"avg_return\"], x).fit()\n",
        "mod_eq3.summary()\n",
        "print(\"coefficient->\",\"gamma_0: \", round(mod_eq3.params[0],2), \"gamma_M: \", round(mod_eq3.params[1],2),\\\n",
        "      \"gamma_size: \", round(mod_eq1.params[2],2), \"gamma_ret212: \",round(mod_eq1.params[3],2),\\\n",
        "      \"gamma_SMB: \",round(mod_eq3.params[4],2), \"gamma_UMD\", round(mod_eq3.params[5],2))\n",
        "print(\"Standard Error->\",\"gamma_0: \", round(mod_eq3.bse[0],2), \"gamma_M: \", round(mod_eq3.bse[1],2),\\\n",
        "      \"gamma_size: \", round(mod_eq1.bse[2],2), \"gamma_ret212: \",round(mod_eq1.bse[3],2),\\\n",
        "      \"gamma_SMB: \",round(mod_eq3.bse[4],2), \"gamma_UMD\", round(mod_eq3.bse[5],2))\n",
        "print(\"t-stat->\",\"gamma_0: \", round(mod_eq3.tvalues[0],2), \"gamma_M: \", round(mod_eq3.tvalues[1],2),\\\n",
        "      \"gamma_size: \", round(mod_eq1.tvalues[2],2), \"gamma_ret212: \",round(mod_eq1.tvalues[3],2),\\\n",
        "      \"gamma_SMB: \",round(mod_eq3.tvalues[4],2), \"gamma_UMD\", round(mod_eq3.tvalues[5],2))\n",
        "print(\"p-value->\",\"gamma_0: \", round(mod_eq3.pvalues[0],2), \"gamma_M: \", round(mod_eq3.pvalues[1],2),\\\n",
        "      \"gamma_size: \", round(mod_eq1.pvalues[2],2), \"gamma_ret212: \",round(mod_eq1.pvalues[3],2),\\\n",
        "      \"gamma_SMB: \",round(mod_eq3.pvalues[4],2), \"gamma_UMD\", round(mod_eq3.pvalues[5],2))\n",
        "print(\"r-squared->\", round(mod_eq3.rsquared,2))"
      ],
      "execution_count": 21,
      "outputs": [
        {
          "output_type": "stream",
          "text": [
            "coefficient-> gamma_0:  1.65 gamma_M:  -0.7 gamma_size:  0.01 gamma_ret212:  -0.84 gamma_SMB:  -0.29 gamma_UMD -0.18\n",
            "Standard Error-> gamma_0:  0.36 gamma_M:  0.44 gamma_size:  0.0 gamma_ret212:  0.2 gamma_SMB:  0.28 gamma_UMD 0.24\n",
            "t-stat-> gamma_0:  4.56 gamma_M:  -1.58 gamma_size:  14.85 gamma_ret212:  -4.13 gamma_SMB:  -1.04 gamma_UMD -0.75\n",
            "p-value-> gamma_0:  0.0 gamma_M:  0.13 gamma_size:  0.0 gamma_ret212:  0.0 gamma_SMB:  0.31 gamma_UMD 0.46\n",
            "r-squared-> 0.93\n"
          ],
          "name": "stdout"
        }
      ]
    },
    {
      "cell_type": "markdown",
      "metadata": {
        "id": "R44xKuD2-QY4"
      },
      "source": [
        "Again, with fewer data from just 1963 and beyond, we now have stronger evidence that characteristics better capture return.\n",
        "\n",
        "From equation (1) and (2), we can see that alone, both sets provide great predictive power and statistically significant predictive power， though characteristics alone still provides a higher R-Squared, therefore better capture of the return.\n",
        "\n",
        "From equation (3), we clearly see that the characteristics still have very high statistical significant while the covariance is much less statistical significant. Therefore, with a smaller dataset, we can see strongly that the characteristics better capture the cross-section of returns."
      ]
    }
  ]
}